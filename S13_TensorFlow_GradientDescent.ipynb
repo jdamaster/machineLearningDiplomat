{
  "nbformat": 4,
  "nbformat_minor": 0,
  "metadata": {
    "colab": {
      "name": "S13_TensorFlow_GradientDescent.ipynb",
      "provenance": [],
      "collapsed_sections": [
        "obD6oFzmZi6T",
        "G0wfL04jLzWT",
        "YbB5-pKvMcoi"
      ],
      "include_colab_link": true
    },
    "kernelspec": {
      "name": "python3",
      "display_name": "Python 3"
    }
  },
  "cells": [
    {
      "cell_type": "markdown",
      "metadata": {
        "id": "view-in-github",
        "colab_type": "text"
      },
      "source": [
        "<a href=\"https://colab.research.google.com/github/jdamaster/machineLearningDiplomat/blob/master/S13_TensorFlow_GradientDescent.ipynb\" target=\"_parent\"><img src=\"https://colab.research.google.com/assets/colab-badge.svg\" alt=\"Open In Colab\"/></a>"
      ]
    },
    {
      "cell_type": "markdown",
      "metadata": {
        "id": "QztjsKHQd4ZK",
        "colab_type": "text"
      },
      "source": [
        "<p><img alt=\"Colaboratory logo\" height=\"140px\" src=\"https://upload.wikimedia.org/wikipedia/commons/archive/f/fb/20161010213812%21Escudo-UdeA.svg\" align=\"left\" hspace=\"10px\" vspace=\"0px\"></p>\n",
        "\n",
        "<h1> Diplomado de Análisis de datos y Machine Learning en Python</h1>\n",
        "\n",
        "\n",
        "El presente diplomado hace parte del centro de Big Data de la facultad de ciencias exactas y naturales (FCEN) de la Universidad de Antioquia."
      ]
    },
    {
      "cell_type": "code",
      "metadata": {
        "id": "hsikPiH8EEzf",
        "colab_type": "code",
        "outputId": "396d2153-833c-4248-dfb6-02a447828727",
        "colab": {
          "base_uri": "https://localhost:8080/",
          "height": 394
        }
      },
      "source": [
        "!pip install --upgrade tensorflow"
      ],
      "execution_count": 0,
      "outputs": [
        {
          "output_type": "stream",
          "text": [
            "Requirement already up-to-date: tensorflow in /usr/local/lib/python3.6/dist-packages (2.0.0)\n",
            "Requirement already satisfied, skipping upgrade: wrapt>=1.11.1 in /usr/local/lib/python3.6/dist-packages (from tensorflow) (1.11.2)\n",
            "Requirement already satisfied, skipping upgrade: termcolor>=1.1.0 in /usr/local/lib/python3.6/dist-packages (from tensorflow) (1.1.0)\n",
            "Requirement already satisfied, skipping upgrade: numpy<2.0,>=1.16.0 in /usr/local/lib/python3.6/dist-packages (from tensorflow) (1.17.3)\n",
            "Requirement already satisfied, skipping upgrade: protobuf>=3.6.1 in /usr/local/lib/python3.6/dist-packages (from tensorflow) (3.10.0)\n",
            "Requirement already satisfied, skipping upgrade: keras-preprocessing>=1.0.5 in /usr/local/lib/python3.6/dist-packages (from tensorflow) (1.1.0)\n",
            "Requirement already satisfied, skipping upgrade: astor>=0.6.0 in /usr/local/lib/python3.6/dist-packages (from tensorflow) (0.8.0)\n",
            "Requirement already satisfied, skipping upgrade: six>=1.10.0 in /usr/local/lib/python3.6/dist-packages (from tensorflow) (1.12.0)\n",
            "Requirement already satisfied, skipping upgrade: opt-einsum>=2.3.2 in /usr/local/lib/python3.6/dist-packages (from tensorflow) (3.1.0)\n",
            "Requirement already satisfied, skipping upgrade: grpcio>=1.8.6 in /usr/local/lib/python3.6/dist-packages (from tensorflow) (1.15.0)\n",
            "Requirement already satisfied, skipping upgrade: keras-applications>=1.0.8 in /usr/local/lib/python3.6/dist-packages (from tensorflow) (1.0.8)\n",
            "Requirement already satisfied, skipping upgrade: absl-py>=0.7.0 in /usr/local/lib/python3.6/dist-packages (from tensorflow) (0.8.1)\n",
            "Requirement already satisfied, skipping upgrade: google-pasta>=0.1.6 in /usr/local/lib/python3.6/dist-packages (from tensorflow) (0.1.7)\n",
            "Requirement already satisfied, skipping upgrade: tensorboard<2.1.0,>=2.0.0 in /usr/local/lib/python3.6/dist-packages (from tensorflow) (2.0.0)\n",
            "Requirement already satisfied, skipping upgrade: tensorflow-estimator<2.1.0,>=2.0.0 in /usr/local/lib/python3.6/dist-packages (from tensorflow) (2.0.1)\n",
            "Requirement already satisfied, skipping upgrade: wheel>=0.26 in /usr/local/lib/python3.6/dist-packages (from tensorflow) (0.33.6)\n",
            "Requirement already satisfied, skipping upgrade: gast==0.2.2 in /usr/local/lib/python3.6/dist-packages (from tensorflow) (0.2.2)\n",
            "Requirement already satisfied, skipping upgrade: setuptools in /usr/local/lib/python3.6/dist-packages (from protobuf>=3.6.1->tensorflow) (41.4.0)\n",
            "Requirement already satisfied, skipping upgrade: h5py in /usr/local/lib/python3.6/dist-packages (from keras-applications>=1.0.8->tensorflow) (2.8.0)\n",
            "Requirement already satisfied, skipping upgrade: markdown>=2.6.8 in /usr/local/lib/python3.6/dist-packages (from tensorboard<2.1.0,>=2.0.0->tensorflow) (3.1.1)\n",
            "Requirement already satisfied, skipping upgrade: werkzeug>=0.11.15 in /usr/local/lib/python3.6/dist-packages (from tensorboard<2.1.0,>=2.0.0->tensorflow) (0.16.0)\n"
          ],
          "name": "stdout"
        }
      ]
    },
    {
      "cell_type": "code",
      "metadata": {
        "id": "os1XeyqvENXJ",
        "colab_type": "code",
        "outputId": "7ea08e2f-8caa-45f1-d22e-80a20778658f",
        "colab": {
          "base_uri": "https://localhost:8080/",
          "height": 462
        }
      },
      "source": [
        "!pip install --upgrade tensorflow-gpu"
      ],
      "execution_count": 0,
      "outputs": [
        {
          "output_type": "stream",
          "text": [
            "Collecting tensorflow-gpu\n",
            "\u001b[?25l  Downloading https://files.pythonhosted.org/packages/25/44/47f0722aea081697143fbcf5d2aa60d1aee4aaacb5869aee2b568974777b/tensorflow_gpu-2.0.0-cp36-cp36m-manylinux2010_x86_64.whl (380.8MB)\n",
            "\u001b[K     |████████████████████████████████| 380.8MB 34kB/s \n",
            "\u001b[?25hRequirement already satisfied, skipping upgrade: protobuf>=3.6.1 in /usr/local/lib/python3.6/dist-packages (from tensorflow-gpu) (3.10.0)\n",
            "Requirement already satisfied, skipping upgrade: astor>=0.6.0 in /usr/local/lib/python3.6/dist-packages (from tensorflow-gpu) (0.8.0)\n",
            "Requirement already satisfied, skipping upgrade: opt-einsum>=2.3.2 in /usr/local/lib/python3.6/dist-packages (from tensorflow-gpu) (3.1.0)\n",
            "Requirement already satisfied, skipping upgrade: gast==0.2.2 in /usr/local/lib/python3.6/dist-packages (from tensorflow-gpu) (0.2.2)\n",
            "Requirement already satisfied, skipping upgrade: six>=1.10.0 in /usr/local/lib/python3.6/dist-packages (from tensorflow-gpu) (1.12.0)\n",
            "Requirement already satisfied, skipping upgrade: tensorboard<2.1.0,>=2.0.0 in /usr/local/lib/python3.6/dist-packages (from tensorflow-gpu) (2.0.0)\n",
            "Requirement already satisfied, skipping upgrade: grpcio>=1.8.6 in /usr/local/lib/python3.6/dist-packages (from tensorflow-gpu) (1.15.0)\n",
            "Requirement already satisfied, skipping upgrade: absl-py>=0.7.0 in /usr/local/lib/python3.6/dist-packages (from tensorflow-gpu) (0.8.1)\n",
            "Requirement already satisfied, skipping upgrade: google-pasta>=0.1.6 in /usr/local/lib/python3.6/dist-packages (from tensorflow-gpu) (0.1.7)\n",
            "Requirement already satisfied, skipping upgrade: termcolor>=1.1.0 in /usr/local/lib/python3.6/dist-packages (from tensorflow-gpu) (1.1.0)\n",
            "Requirement already satisfied, skipping upgrade: wrapt>=1.11.1 in /usr/local/lib/python3.6/dist-packages (from tensorflow-gpu) (1.11.2)\n",
            "Requirement already satisfied, skipping upgrade: keras-preprocessing>=1.0.5 in /usr/local/lib/python3.6/dist-packages (from tensorflow-gpu) (1.1.0)\n",
            "Requirement already satisfied, skipping upgrade: wheel>=0.26 in /usr/local/lib/python3.6/dist-packages (from tensorflow-gpu) (0.33.6)\n",
            "Requirement already satisfied, skipping upgrade: numpy<2.0,>=1.16.0 in /usr/local/lib/python3.6/dist-packages (from tensorflow-gpu) (1.17.3)\n",
            "Requirement already satisfied, skipping upgrade: keras-applications>=1.0.8 in /usr/local/lib/python3.6/dist-packages (from tensorflow-gpu) (1.0.8)\n",
            "Requirement already satisfied, skipping upgrade: tensorflow-estimator<2.1.0,>=2.0.0 in /usr/local/lib/python3.6/dist-packages (from tensorflow-gpu) (2.0.1)\n",
            "Requirement already satisfied, skipping upgrade: setuptools in /usr/local/lib/python3.6/dist-packages (from protobuf>=3.6.1->tensorflow-gpu) (41.4.0)\n",
            "Requirement already satisfied, skipping upgrade: markdown>=2.6.8 in /usr/local/lib/python3.6/dist-packages (from tensorboard<2.1.0,>=2.0.0->tensorflow-gpu) (3.1.1)\n",
            "Requirement already satisfied, skipping upgrade: werkzeug>=0.11.15 in /usr/local/lib/python3.6/dist-packages (from tensorboard<2.1.0,>=2.0.0->tensorflow-gpu) (0.16.0)\n",
            "Requirement already satisfied, skipping upgrade: h5py in /usr/local/lib/python3.6/dist-packages (from keras-applications>=1.0.8->tensorflow-gpu) (2.8.0)\n",
            "Installing collected packages: tensorflow-gpu\n",
            "Successfully installed tensorflow-gpu-2.0.0\n"
          ],
          "name": "stdout"
        }
      ]
    },
    {
      "cell_type": "markdown",
      "metadata": {
        "id": "GhcG71upd76n",
        "colab_type": "text"
      },
      "source": [
        "# Regresión Lineal"
      ]
    },
    {
      "cell_type": "markdown",
      "metadata": {
        "id": "QmD95PWkiBpi",
        "colab_type": "text"
      },
      "source": [
        "En una regresión lineal, se intenta ajustar una variable dependiente $y$ en función de una variable independiente $x$ de la siguiente manera:\n",
        "\n",
        "$$y=m x+b$$\n",
        "\n",
        "Donde los parámetros $m$ y $b$ del ajuste se obtienen a partir de los datos. El parámetro $m$ se conoce comunmente como la pendiente y determina la ponderación que tiene la variable independiente $x$. Por otro lado, el parámetro $b$ se conoce como el intercepto y es el valor que toma la variable independiente $y$ cuando $x$ es igual a cero.\n",
        "\n",
        "Existen dos tipos de relaciones lineales, las determinísticas y las estadísticas. En las determinísticas, las variables independientes determinan absolutamente y sin error las dependientes. Por ejemplo, si se conoce el radio de un círculo se puede determinar su circunferencia hasta cierto nivel de incertidumbre.\n",
        "\n",
        "$$C=2\\pi r$$\n",
        "\n",
        "Sin embargo, para el caso estadístico, la dependencia lineal no es tan exacta y se debe tener en cuenta un error residual entre las observaciones y los valores predichos. Un ejemplo de esto es el peso de una persona en función de su altura. Intuitivamente esperamos que entre más alta sea una persona, mayor será su peso. Aun así, esta relación no se cumple perfectamente, puede haber varias personas con igual altura pero diferente peso."
      ]
    },
    {
      "cell_type": "code",
      "metadata": {
        "id": "UDLL_QDAdm9o",
        "colab_type": "code",
        "colab": {}
      },
      "source": [
        "import numpy as np\n",
        "import matplotlib.pyplot as plt\n",
        "%matplotlib inline"
      ],
      "execution_count": 0,
      "outputs": []
    },
    {
      "cell_type": "code",
      "metadata": {
        "id": "Q3YZAtyryO5M",
        "colab_type": "code",
        "outputId": "cec0ed10-2985-441a-89c1-eda4a164111f",
        "colab": {
          "base_uri": "https://localhost:8080/",
          "height": 282
        }
      },
      "source": [
        "x=10*np.random.rand(100)\n",
        "e=10*(np.random.rand(100)-0.5)\n",
        "y=3*x+5+e\n",
        "plt.scatter(x,y)\n",
        "plt.plot(np.arange(0,11),3*np.arange(0,11)+5,c='k')"
      ],
      "execution_count": 0,
      "outputs": [
        {
          "output_type": "execute_result",
          "data": {
            "text/plain": [
              "[<matplotlib.lines.Line2D at 0x7f35c5aa4dd8>]"
            ]
          },
          "metadata": {
            "tags": []
          },
          "execution_count": 9
        },
        {
          "output_type": "display_data",
          "data": {
            "image/png": "[encoded data removed]",
            "text/plain": [
              "<Figure size 432x288 with 1 Axes>"
            ]
          },
          "metadata": {
            "tags": []
          }
        }
      ]
    },
    {
      "cell_type": "markdown",
      "metadata": {
        "id": "EPU5-3Hjzq41",
        "colab_type": "text"
      },
      "source": [
        "La línea negra muestra la linea de tendencia del ajuste. Podemos ver que esta línea no atravieza perfectamente cada dato pero si representa de manera aproximadamente la tendencia que siguen. Cada dato tiene un error entre lo observado y lo predicho, este error se grafica en rojo más abajo:"
      ]
    },
    {
      "cell_type": "code",
      "metadata": {
        "id": "e3_oXcF9zqJH",
        "colab_type": "code",
        "outputId": "00852119-37ea-4d7a-eba5-273278ac7695",
        "colab": {
          "base_uri": "https://localhost:8080/",
          "height": 282
        }
      },
      "source": [
        "plt.errorbar(x,y,yerr=np.c_[e,np.zeros_like(e)].T,fmt='none',c='r')\n",
        "plt.scatter(x,y)\n",
        "plt.plot(np.arange(0,11),3*np.arange(0,11)+5,c='k')"
      ],
      "execution_count": 0,
      "outputs": [
        {
          "output_type": "execute_result",
          "data": {
            "text/plain": [
              "[<matplotlib.lines.Line2D at 0x7f35c4ebeb00>]"
            ]
          },
          "metadata": {
            "tags": []
          },
          "execution_count": 10
        },
        {
          "output_type": "display_data",
          "data": {
            "image/png": "[encoded data removed]",
            "text/plain": [
              "<Figure size 432x288 with 1 Axes>"
            ]
          },
          "metadata": {
            "tags": []
          }
        }
      ]
    },
    {
      "cell_type": "markdown",
      "metadata": {
        "id": "BsUzx5PbyXF7",
        "colab_type": "text"
      },
      "source": [
        "## Mínimos Cuadrados"
      ]
    },
    {
      "cell_type": "markdown",
      "metadata": {
        "id": "VwIT3VBR2CNG",
        "colab_type": "text"
      },
      "source": [
        "En los años 1800, Gauss y Legendre encontraron una forma de realizar este ajuste, minimizando las suma de los errores al cuadrado, conocido como el Error Cuadrático Medio (MSE por sus siglas en inglés). \n",
        "\n",
        "$$MSE=\\frac{1}{N}\\sum_{i=1}^{N} (\\hat{y_i}-y_i)^2$$\n",
        "\n",
        "Dónde $\\hat{y_i}$ es el valor predicho por la regresión. Los valores de los parámetros que minimizan el error cuadrático están dados por:\n",
        "\n",
        "$$m=\\frac{\\bar{xy}-\\bar{x}\\bar{y}}{\\bar{x^2}-\\bar{x}^2}$$\n",
        "\n",
        "$$b=\\bar{y}-m\\bar{x}$$\n",
        "\n",
        "Dónde una barra determina un promedio de la cantidad correspondiente."
      ]
    },
    {
      "cell_type": "code",
      "metadata": {
        "id": "aneOjNqRyRh7",
        "colab_type": "code",
        "outputId": "397fd60b-37c9-4f06-b106-f947b79aeab1",
        "colab": {
          "base_uri": "https://localhost:8080/",
          "height": 51
        }
      },
      "source": [
        "N=len(x)\n",
        "m=(np.sum(x*y)-np.sum(x)*np.sum(y)/N)/(np.sum(x*x)-np.sum(x)**2/N)\n",
        "b=(np.sum(y)-m*np.sum(x))/N\n",
        "print('b',b)\n",
        "print('m',m)"
      ],
      "execution_count": 0,
      "outputs": [
        {
          "output_type": "stream",
          "text": [
            "b 5.374226458298811\n",
            "m 2.832664885664063\n"
          ],
          "name": "stdout"
        }
      ]
    },
    {
      "cell_type": "markdown",
      "metadata": {
        "id": "eczPQkMa2ugm",
        "colab_type": "text"
      },
      "source": [
        "Este ajuste por mínimos cuadrados puede extenderse a un caso multidimensional en el cual tenemos más de una variable independiente. En este caso, cada variable independiente ($x_i$) tiene una ponderación diferente ($a_i$):\n",
        "\n",
        "$$y=a_0+a_1 x_1+a_2 x_2+...+a_m x_m=\\sum_{j=0}^m a_m x_m$$\n",
        "\n",
        "Teniendo en cuenta que $x_0=1$. En este caso, podemos encontrar las ponderaciones usando la ecuación normal:\n",
        "\n",
        "$$\\vec{a}=(a_0,a_1,...,a_m)=(X^T X)^{-1}X^T y$$"
      ]
    },
    {
      "cell_type": "code",
      "metadata": {
        "id": "neXjn5amyY0C",
        "colab_type": "code",
        "outputId": "39592370-6f89-4892-b918-5fff9457a3aa",
        "colab": {
          "base_uri": "https://localhost:8080/",
          "height": 34
        }
      },
      "source": [
        "X=np.c_[np.ones_like(x),x]\n",
        "np.matmul(np.linalg.inv(np.matmul(X.T,X)),np.matmul(X.T,y))"
      ],
      "execution_count": 0,
      "outputs": [
        {
          "output_type": "execute_result",
          "data": {
            "text/plain": [
              "array([5.37422646, 2.83266489])"
            ]
          },
          "metadata": {
            "tags": []
          },
          "execution_count": 12
        }
      ]
    },
    {
      "cell_type": "markdown",
      "metadata": {
        "id": "gPxORBGn5pYl",
        "colab_type": "text"
      },
      "source": [
        "Sin embargo, si se tienen demasiadas variables independientes (características) la ecuación normal puede ser muy lenta computacionalmente debido a la inversa matricial que hay que calcular. Para ello se usa el gradiente de descenso, como veremos más adelante."
      ]
    },
    {
      "cell_type": "markdown",
      "metadata": {
        "id": "4LyLvLId61Vy",
        "colab_type": "text"
      },
      "source": [
        "# Regresión Logística"
      ]
    },
    {
      "cell_type": "code",
      "metadata": {
        "id": "TAJ8KkOh7_mN",
        "colab_type": "code",
        "outputId": "fbf6fbfa-6581-477c-b172-b88bae5f44ea",
        "colab": {
          "base_uri": "https://localhost:8080/",
          "height": 282
        }
      },
      "source": [
        "def logit(x):\n",
        "  return 1/(1+np.exp(-x))\n",
        "plt.plot(np.arange(-10,11),logit(np.arange(-10,11)))"
      ],
      "execution_count": 0,
      "outputs": [
        {
          "output_type": "execute_result",
          "data": {
            "text/plain": [
              "[<matplotlib.lines.Line2D at 0x7f35c259f6a0>]"
            ]
          },
          "metadata": {
            "tags": []
          },
          "execution_count": 13
        },
        {
          "output_type": "display_data",
          "data": {
            "image/png": "[encoded data removed]",
            "text/plain": [
              "<Figure size 432x288 with 1 Axes>"
            ]
          },
          "metadata": {
            "tags": []
          }
        }
      ]
    },
    {
      "cell_type": "code",
      "metadata": {
        "id": "pptBTcDQ63L2",
        "colab_type": "code",
        "outputId": "f66bb0d2-e1d6-4633-df06-6e8a78034e77",
        "colab": {
          "base_uri": "https://localhost:8080/",
          "height": 282
        }
      },
      "source": [
        "X=np.random.rand(100,2)\n",
        "X=np.c_[np.ones(100),X]\n",
        "e=np.random.rand(100)\n",
        "Y=np.array([X[i,1]+2*X[i,2]-2+e[i]>=0 for i in range(100)])\n",
        "plt.scatter(X[Y,1],X[Y,2])\n",
        "plt.scatter(X[~Y,1],X[~Y,2])"
      ],
      "execution_count": 0,
      "outputs": [
        {
          "output_type": "execute_result",
          "data": {
            "text/plain": [
              "<matplotlib.collections.PathCollection at 0x7f35c2463470>"
            ]
          },
          "metadata": {
            "tags": []
          },
          "execution_count": 19
        },
        {
          "output_type": "display_data",
          "data": {
            "image/png": "[encoded data removed]",
            "text/plain": [
              "<Figure size 432x288 with 1 Axes>"
            ]
          },
          "metadata": {
            "tags": []
          }
        }
      ]
    },
    {
      "cell_type": "code",
      "metadata": {
        "id": "kFh0CfUI7UUe",
        "colab_type": "code",
        "outputId": "e6f5f380-607d-4d7f-e264-1689b11aa82e",
        "colab": {
          "base_uri": "https://localhost:8080/",
          "height": 68
        }
      },
      "source": [
        "alfa=0.0001\n",
        "A=np.array([0.0,0.0,0.0]).reshape((-1,1))\n",
        "Y_n=Y.reshape((-1,1))\n",
        "for _ in range(1000000):\n",
        "  Y_hat=logit(np.matmul(X,A).reshape((-1,1)))\n",
        "  grad=np.matmul(X.T,Y_hat-Y_n)/N\n",
        "  A-=alfa*grad\n",
        "A"
      ],
      "execution_count": 0,
      "outputs": [
        {
          "output_type": "execute_result",
          "data": {
            "text/plain": [
              "array([[-2.80043894],\n",
              "       [ 1.60421789],\n",
              "       [ 4.20424586]])"
            ]
          },
          "metadata": {
            "tags": []
          },
          "execution_count": 20
        }
      ]
    },
    {
      "cell_type": "code",
      "metadata": {
        "id": "-lN31OxG8dY7",
        "colab_type": "code",
        "outputId": "6ac80271-852d-4a97-d644-8c524e91e9ed",
        "colab": {
          "base_uri": "https://localhost:8080/",
          "height": 282
        }
      },
      "source": [
        "x1=np.linspace(0,1,10)\n",
        "plt.scatter(X[Y,1],X[Y,2])\n",
        "plt.scatter(X[~Y,1],X[~Y,2])\n",
        "x2=-A[0]/A[2]-A[1]*x1/A[2]\n",
        "plt.plot(x1,x2,'r')"
      ],
      "execution_count": 0,
      "outputs": [
        {
          "output_type": "execute_result",
          "data": {
            "text/plain": [
              "[<matplotlib.lines.Line2D at 0x7f35c2395d30>]"
            ]
          },
          "metadata": {
            "tags": []
          },
          "execution_count": 22
        },
        {
          "output_type": "display_data",
          "data": {
            "image/png": "[encoded data removed]",
            "text/plain": [
              "<Figure size 432x288 with 1 Axes>"
            ]
          },
          "metadata": {
            "tags": []
          }
        }
      ]
    },
    {
      "cell_type": "markdown",
      "metadata": {
        "id": "ZPjQNDkcXZbD",
        "colab_type": "text"
      },
      "source": [
        "#### Problema\n",
        "Implementar el modelo de regresión logística en el Dataset ***titanic.csv*** para predecir que personas hubieran sobrevivido (Usar Sklearn).\n",
        " \n"
      ]
    },
    {
      "cell_type": "markdown",
      "metadata": {
        "id": "obD6oFzmZi6T",
        "colab_type": "text"
      },
      "source": [
        "#### Solucion\n"
      ]
    },
    {
      "cell_type": "markdown",
      "metadata": {
        "colab_type": "text",
        "id": "PGzRSZ06myIC"
      },
      "source": [
        "Importemos algunas de las librerias que nos seran de utilidad"
      ]
    },
    {
      "cell_type": "code",
      "metadata": {
        "colab_type": "code",
        "id": "1xUhccIhmyIO",
        "colab": {}
      },
      "source": [
        "import numpy as np\n",
        "import pandas as pd\n",
        "import matplotlib.pyplot as plt\n",
        "import seaborn as sns; sns.set()"
      ],
      "execution_count": 0,
      "outputs": []
    },
    {
      "cell_type": "code",
      "metadata": {
        "id": "M9udTfM3bWv0",
        "colab_type": "code",
        "colab": {}
      },
      "source": [
        "data = pd.read_csv('https://raw.githubusercontent.com/diplomado-bigdata-machinelearning-udea/Curso2/master/Datasets/titanic.csv')"
      ],
      "execution_count": 0,
      "outputs": []
    },
    {
      "cell_type": "markdown",
      "metadata": {
        "id": "NADmdTZ9neXs",
        "colab_type": "text"
      },
      "source": [
        "Inspeccionamos un poco el dataset"
      ]
    },
    {
      "cell_type": "code",
      "metadata": {
        "id": "AVHYkYCenXV7",
        "colab_type": "code",
        "outputId": "b12d49bb-7630-4c15-da3e-2e758952b607",
        "colab": {
          "base_uri": "https://localhost:8080/",
          "height": 34
        }
      },
      "source": [
        "data.shape"
      ],
      "execution_count": 0,
      "outputs": [
        {
          "output_type": "execute_result",
          "data": {
            "text/plain": [
              "(891, 12)"
            ]
          },
          "metadata": {
            "tags": []
          },
          "execution_count": 46
        }
      ]
    },
    {
      "cell_type": "code",
      "metadata": {
        "id": "rqRTrooVngcV",
        "colab_type": "code",
        "outputId": "70c42c50-af27-49b6-e7a2-5108a336afc2",
        "colab": {
          "base_uri": "https://localhost:8080/",
          "height": 238
        }
      },
      "source": [
        "data.isnull().any()"
      ],
      "execution_count": 0,
      "outputs": [
        {
          "output_type": "execute_result",
          "data": {
            "text/plain": [
              "PassengerId    False\n",
              "Survived       False\n",
              "Pclass         False\n",
              "Name           False\n",
              "Sex            False\n",
              "Age             True\n",
              "SibSp          False\n",
              "Parch          False\n",
              "Ticket         False\n",
              "Fare           False\n",
              "Cabin           True\n",
              "Embarked        True\n",
              "dtype: bool"
            ]
          },
          "metadata": {
            "tags": []
          },
          "execution_count": 47
        }
      ]
    },
    {
      "cell_type": "code",
      "metadata": {
        "id": "hTpAnelpnjEN",
        "colab_type": "code",
        "outputId": "ce9e564b-2b30-4346-827a-76a4d4b424f7",
        "colab": {
          "base_uri": "https://localhost:8080/",
          "height": 204
        }
      },
      "source": [
        "data.sample(5)"
      ],
      "execution_count": 0,
      "outputs": [
        {
          "output_type": "execute_result",
          "data": {
            "text/html": [
              "<div>\n",
              "<style scoped>\n",
              "    .dataframe tbody tr th:only-of-type {\n",
              "        vertical-align: middle;\n",
              "    }\n",
              "\n",
              "    .dataframe tbody tr th {\n",
              "        vertical-align: top;\n",
              "    }\n",
              "\n",
              "    .dataframe thead th {\n",
              "        text-align: right;\n",
              "    }\n",
              "</style>\n",
              "<table border=\"1\" class=\"dataframe\">\n",
              "  <thead>\n",
              "    <tr style=\"text-align: right;\">\n",
              "      <th></th>\n",
              "      <th>PassengerId</th>\n",
              "      <th>Survived</th>\n",
              "      <th>Pclass</th>\n",
              "      <th>Name</th>\n",
              "      <th>Sex</th>\n",
              "      <th>Age</th>\n",
              "      <th>SibSp</th>\n",
              "      <th>Parch</th>\n",
              "      <th>Ticket</th>\n",
              "      <th>Fare</th>\n",
              "      <th>Cabin</th>\n",
              "      <th>Embarked</th>\n",
              "    </tr>\n",
              "  </thead>\n",
              "  <tbody>\n",
              "    <tr>\n",
              "      <th>742</th>\n",
              "      <td>743</td>\n",
              "      <td>1</td>\n",
              "      <td>1</td>\n",
              "      <td>Ryerson, Miss. Susan Parker \"Suzette\"</td>\n",
              "      <td>female</td>\n",
              "      <td>21.0</td>\n",
              "      <td>2</td>\n",
              "      <td>2</td>\n",
              "      <td>PC 17608</td>\n",
              "      <td>262.375</td>\n",
              "      <td>B57 B59 B63 B66</td>\n",
              "      <td>C</td>\n",
              "    </tr>\n",
              "    <tr>\n",
              "      <th>282</th>\n",
              "      <td>283</td>\n",
              "      <td>0</td>\n",
              "      <td>3</td>\n",
              "      <td>de Pelsmaeker, Mr. Alfons</td>\n",
              "      <td>male</td>\n",
              "      <td>16.0</td>\n",
              "      <td>0</td>\n",
              "      <td>0</td>\n",
              "      <td>345778</td>\n",
              "      <td>9.500</td>\n",
              "      <td>NaN</td>\n",
              "      <td>S</td>\n",
              "    </tr>\n",
              "    <tr>\n",
              "      <th>11</th>\n",
              "      <td>12</td>\n",
              "      <td>1</td>\n",
              "      <td>1</td>\n",
              "      <td>Bonnell, Miss. Elizabeth</td>\n",
              "      <td>female</td>\n",
              "      <td>58.0</td>\n",
              "      <td>0</td>\n",
              "      <td>0</td>\n",
              "      <td>113783</td>\n",
              "      <td>26.550</td>\n",
              "      <td>C103</td>\n",
              "      <td>S</td>\n",
              "    </tr>\n",
              "    <tr>\n",
              "      <th>179</th>\n",
              "      <td>180</td>\n",
              "      <td>0</td>\n",
              "      <td>3</td>\n",
              "      <td>Leonard, Mr. Lionel</td>\n",
              "      <td>male</td>\n",
              "      <td>36.0</td>\n",
              "      <td>0</td>\n",
              "      <td>0</td>\n",
              "      <td>LINE</td>\n",
              "      <td>0.000</td>\n",
              "      <td>NaN</td>\n",
              "      <td>S</td>\n",
              "    </tr>\n",
              "    <tr>\n",
              "      <th>889</th>\n",
              "      <td>890</td>\n",
              "      <td>1</td>\n",
              "      <td>1</td>\n",
              "      <td>Behr, Mr. Karl Howell</td>\n",
              "      <td>male</td>\n",
              "      <td>26.0</td>\n",
              "      <td>0</td>\n",
              "      <td>0</td>\n",
              "      <td>111369</td>\n",
              "      <td>30.000</td>\n",
              "      <td>C148</td>\n",
              "      <td>C</td>\n",
              "    </tr>\n",
              "  </tbody>\n",
              "</table>\n",
              "</div>"
            ],
            "text/plain": [
              "     PassengerId  Survived  Pclass  ...     Fare            Cabin  Embarked\n",
              "742          743         1       1  ...  262.375  B57 B59 B63 B66         C\n",
              "282          283         0       3  ...    9.500              NaN         S\n",
              "11            12         1       1  ...   26.550             C103         S\n",
              "179          180         0       3  ...    0.000              NaN         S\n",
              "889          890         1       1  ...   30.000             C148         C\n",
              "\n",
              "[5 rows x 12 columns]"
            ]
          },
          "metadata": {
            "tags": []
          },
          "execution_count": 48
        }
      ]
    },
    {
      "cell_type": "markdown",
      "metadata": {
        "id": "B8Rs8f4l3XQb",
        "colab_type": "text"
      },
      "source": [
        "* PassengerIdUnique ID of the passenger\n",
        "* SurvivedSurvived (1) or died (0)\n",
        "* PclassPassenger's class (1st, 2nd, or 3rd)\n",
        "* NamePassenger's name\n",
        "* SexPassenger's sex\n",
        "* AgePassenger's age\n",
        "* SibSpNumber of siblings/spouses aboard the Titanic\n",
        "* ParchNumber of parents/children aboard the Titanic\n",
        "* TicketTicket number\n",
        "* FareFare paid for ticket\n",
        "* CabinCabin number\n",
        "* EmbarkedWhere the passenger got on the ship (C - Cherbourg, S - Southampton, Q = Queenstown)"
      ]
    },
    {
      "cell_type": "markdown",
      "metadata": {
        "id": "3gvjN7cP4GFl",
        "colab_type": "text"
      },
      "source": [
        "Removamos algunas de las características que en principio no parecen ser importantes."
      ]
    },
    {
      "cell_type": "code",
      "metadata": {
        "id": "FhuQy0_HnpBZ",
        "colab_type": "code",
        "colab": {}
      },
      "source": [
        "data.drop(['PassengerId','Name','Ticket','Cabin','Embarked'], axis=1, inplace=True)"
      ],
      "execution_count": 0,
      "outputs": []
    },
    {
      "cell_type": "code",
      "metadata": {
        "id": "mXLwaJwA4t7K",
        "colab_type": "code",
        "outputId": "44e06016-d1a0-49b6-ee26-46118e9a0c4f",
        "colab": {
          "base_uri": "https://localhost:8080/",
          "height": 204
        }
      },
      "source": [
        "data.sample(5)"
      ],
      "execution_count": 0,
      "outputs": [
        {
          "output_type": "execute_result",
          "data": {
            "text/html": [
              "<div>\n",
              "<style scoped>\n",
              "    .dataframe tbody tr th:only-of-type {\n",
              "        vertical-align: middle;\n",
              "    }\n",
              "\n",
              "    .dataframe tbody tr th {\n",
              "        vertical-align: top;\n",
              "    }\n",
              "\n",
              "    .dataframe thead th {\n",
              "        text-align: right;\n",
              "    }\n",
              "</style>\n",
              "<table border=\"1\" class=\"dataframe\">\n",
              "  <thead>\n",
              "    <tr style=\"text-align: right;\">\n",
              "      <th></th>\n",
              "      <th>Survived</th>\n",
              "      <th>Pclass</th>\n",
              "      <th>Sex</th>\n",
              "      <th>Age</th>\n",
              "      <th>SibSp</th>\n",
              "      <th>Parch</th>\n",
              "      <th>Fare</th>\n",
              "    </tr>\n",
              "  </thead>\n",
              "  <tbody>\n",
              "    <tr>\n",
              "      <th>35</th>\n",
              "      <td>0</td>\n",
              "      <td>1</td>\n",
              "      <td>male</td>\n",
              "      <td>42.0</td>\n",
              "      <td>1</td>\n",
              "      <td>0</td>\n",
              "      <td>52.0000</td>\n",
              "    </tr>\n",
              "    <tr>\n",
              "      <th>336</th>\n",
              "      <td>0</td>\n",
              "      <td>1</td>\n",
              "      <td>male</td>\n",
              "      <td>29.0</td>\n",
              "      <td>1</td>\n",
              "      <td>0</td>\n",
              "      <td>66.6000</td>\n",
              "    </tr>\n",
              "    <tr>\n",
              "      <th>866</th>\n",
              "      <td>1</td>\n",
              "      <td>2</td>\n",
              "      <td>female</td>\n",
              "      <td>27.0</td>\n",
              "      <td>1</td>\n",
              "      <td>0</td>\n",
              "      <td>13.8583</td>\n",
              "    </tr>\n",
              "    <tr>\n",
              "      <th>570</th>\n",
              "      <td>1</td>\n",
              "      <td>2</td>\n",
              "      <td>male</td>\n",
              "      <td>62.0</td>\n",
              "      <td>0</td>\n",
              "      <td>0</td>\n",
              "      <td>10.5000</td>\n",
              "    </tr>\n",
              "    <tr>\n",
              "      <th>150</th>\n",
              "      <td>0</td>\n",
              "      <td>2</td>\n",
              "      <td>male</td>\n",
              "      <td>51.0</td>\n",
              "      <td>0</td>\n",
              "      <td>0</td>\n",
              "      <td>12.5250</td>\n",
              "    </tr>\n",
              "  </tbody>\n",
              "</table>\n",
              "</div>"
            ],
            "text/plain": [
              "     Survived  Pclass     Sex   Age  SibSp  Parch     Fare\n",
              "35          0       1    male  42.0      1      0  52.0000\n",
              "336         0       1    male  29.0      1      0  66.6000\n",
              "866         1       2  female  27.0      1      0  13.8583\n",
              "570         1       2    male  62.0      0      0  10.5000\n",
              "150         0       2    male  51.0      0      0  12.5250"
            ]
          },
          "metadata": {
            "tags": []
          },
          "execution_count": 50
        }
      ]
    },
    {
      "cell_type": "markdown",
      "metadata": {
        "id": "ouqHMg496B57",
        "colab_type": "text"
      },
      "source": [
        "Llenemos los valores faltantes en la columna ‘Age’ usando el promedio"
      ]
    },
    {
      "cell_type": "code",
      "metadata": {
        "id": "fitOMsqe40We",
        "colab_type": "code",
        "colab": {}
      },
      "source": [
        "from sklearn.impute import SimpleImputer"
      ],
      "execution_count": 0,
      "outputs": []
    },
    {
      "cell_type": "code",
      "metadata": {
        "id": "Ty2I84ow6RQV",
        "colab_type": "code",
        "colab": {}
      },
      "source": [
        "imp = SimpleImputer(missing_values=np.nan, strategy='mean')"
      ],
      "execution_count": 0,
      "outputs": []
    },
    {
      "cell_type": "code",
      "metadata": {
        "id": "PgyjtwjX6R4U",
        "colab_type": "code",
        "colab": {}
      },
      "source": [
        "data.loc[data['Survived']==1,['Age']]=imp.fit_transform(data.loc[data['Survived']==1,['Age']])\n",
        "data.loc[data['Survived']==0,['Age']]=imp.fit_transform(data.loc[data['Survived']==0,['Age']])"
      ],
      "execution_count": 0,
      "outputs": []
    },
    {
      "cell_type": "code",
      "metadata": {
        "id": "E5b7mlH86Z5h",
        "colab_type": "code",
        "outputId": "ae0b7b1a-fd04-40ca-92dd-c38edb0f096f",
        "colab": {
          "base_uri": "https://localhost:8080/",
          "height": 153
        }
      },
      "source": [
        "data.isnull().any()"
      ],
      "execution_count": 0,
      "outputs": [
        {
          "output_type": "execute_result",
          "data": {
            "text/plain": [
              "Survived    False\n",
              "Pclass      False\n",
              "Sex         False\n",
              "Age         False\n",
              "SibSp       False\n",
              "Parch       False\n",
              "Fare        False\n",
              "dtype: bool"
            ]
          },
          "metadata": {
            "tags": []
          },
          "execution_count": 54
        }
      ]
    },
    {
      "cell_type": "markdown",
      "metadata": {
        "id": "rZYSrm34956A",
        "colab_type": "text"
      },
      "source": [
        "Apliquemos one-hot-encoding a la caracteristica categorica ***sex*** y ademas creemos una nueva columna que se llamada \"Family_size\"."
      ]
    },
    {
      "cell_type": "code",
      "metadata": {
        "id": "NyE64bUE7hB8",
        "colab_type": "code",
        "colab": {}
      },
      "source": [
        "data=pd.get_dummies(data, drop_first=True)"
      ],
      "execution_count": 0,
      "outputs": []
    },
    {
      "cell_type": "code",
      "metadata": {
        "id": "fgpN33xT_gZo",
        "colab_type": "code",
        "outputId": "d3d819be-3992-47f1-ed70-4d3cf821697c",
        "colab": {
          "base_uri": "https://localhost:8080/",
          "height": 204
        }
      },
      "source": [
        "data['Family_size']=data['SibSp'] + data['Parch']\n",
        "data.drop(['SibSp', 'Parch'] ,axis=1, inplace=True)\n",
        "data.head()"
      ],
      "execution_count": 0,
      "outputs": [
        {
          "output_type": "execute_result",
          "data": {
            "text/html": [
              "<div>\n",
              "<style scoped>\n",
              "    .dataframe tbody tr th:only-of-type {\n",
              "        vertical-align: middle;\n",
              "    }\n",
              "\n",
              "    .dataframe tbody tr th {\n",
              "        vertical-align: top;\n",
              "    }\n",
              "\n",
              "    .dataframe thead th {\n",
              "        text-align: right;\n",
              "    }\n",
              "</style>\n",
              "<table border=\"1\" class=\"dataframe\">\n",
              "  <thead>\n",
              "    <tr style=\"text-align: right;\">\n",
              "      <th></th>\n",
              "      <th>Survived</th>\n",
              "      <th>Pclass</th>\n",
              "      <th>Age</th>\n",
              "      <th>Fare</th>\n",
              "      <th>Sex_male</th>\n",
              "      <th>Family_size</th>\n",
              "    </tr>\n",
              "  </thead>\n",
              "  <tbody>\n",
              "    <tr>\n",
              "      <th>0</th>\n",
              "      <td>0</td>\n",
              "      <td>3</td>\n",
              "      <td>22.0</td>\n",
              "      <td>7.2500</td>\n",
              "      <td>1</td>\n",
              "      <td>1</td>\n",
              "    </tr>\n",
              "    <tr>\n",
              "      <th>1</th>\n",
              "      <td>1</td>\n",
              "      <td>1</td>\n",
              "      <td>38.0</td>\n",
              "      <td>71.2833</td>\n",
              "      <td>0</td>\n",
              "      <td>1</td>\n",
              "    </tr>\n",
              "    <tr>\n",
              "      <th>2</th>\n",
              "      <td>1</td>\n",
              "      <td>3</td>\n",
              "      <td>26.0</td>\n",
              "      <td>7.9250</td>\n",
              "      <td>0</td>\n",
              "      <td>0</td>\n",
              "    </tr>\n",
              "    <tr>\n",
              "      <th>3</th>\n",
              "      <td>1</td>\n",
              "      <td>1</td>\n",
              "      <td>35.0</td>\n",
              "      <td>53.1000</td>\n",
              "      <td>0</td>\n",
              "      <td>1</td>\n",
              "    </tr>\n",
              "    <tr>\n",
              "      <th>4</th>\n",
              "      <td>0</td>\n",
              "      <td>3</td>\n",
              "      <td>35.0</td>\n",
              "      <td>8.0500</td>\n",
              "      <td>1</td>\n",
              "      <td>0</td>\n",
              "    </tr>\n",
              "  </tbody>\n",
              "</table>\n",
              "</div>"
            ],
            "text/plain": [
              "   Survived  Pclass   Age     Fare  Sex_male  Family_size\n",
              "0         0       3  22.0   7.2500         1            1\n",
              "1         1       1  38.0  71.2833         0            1\n",
              "2         1       3  26.0   7.9250         0            0\n",
              "3         1       1  35.0  53.1000         0            1\n",
              "4         0       3  35.0   8.0500         1            0"
            ]
          },
          "metadata": {
            "tags": []
          },
          "execution_count": 56
        }
      ]
    },
    {
      "cell_type": "code",
      "metadata": {
        "colab_type": "code",
        "id": "prE4-RDOAoG7",
        "colab": {}
      },
      "source": [
        "X=data.iloc[:,1:]\n",
        "y=data.iloc[:,0]"
      ],
      "execution_count": 0,
      "outputs": []
    },
    {
      "cell_type": "code",
      "metadata": {
        "id": "X-l1NcbMDTUQ",
        "colab_type": "code",
        "outputId": "b27493a8-638c-4a5a-a342-2cedb9631e0c",
        "colab": {
          "base_uri": "https://localhost:8080/",
          "height": 34
        }
      },
      "source": [
        "X.shape"
      ],
      "execution_count": 0,
      "outputs": [
        {
          "output_type": "execute_result",
          "data": {
            "text/plain": [
              "(891, 5)"
            ]
          },
          "metadata": {
            "tags": []
          },
          "execution_count": 58
        }
      ]
    },
    {
      "cell_type": "markdown",
      "metadata": {
        "colab_type": "text",
        "id": "HOCHScWjAoHL"
      },
      "source": [
        "Ahora implementamos el modelo de regresión logistica usando Sklearn y analicemos su desempeño usando validación cruzada(cross validation), curvas de aprendizaje(learning curves) y curvas de validación( validation curves)"
      ]
    },
    {
      "cell_type": "code",
      "metadata": {
        "colab_type": "code",
        "id": "8DTwLyCVAoHM",
        "colab": {}
      },
      "source": [
        "from sklearn.linear_model import LogisticRegression\n",
        "from sklearn.preprocessing import StandardScaler, PolynomialFeatures\n",
        "from sklearn.pipeline import Pipeline\n",
        "from sklearn.metrics import confusion_matrix, classification_report\n",
        "from sklearn.model_selection import train_test_split\n",
        "from sklearn.model_selection import learning_curve, cross_val_score , validation_curve"
      ],
      "execution_count": 0,
      "outputs": []
    },
    {
      "cell_type": "code",
      "metadata": {
        "id": "YlcejrKPJMOP",
        "colab_type": "code",
        "outputId": "6bf975fc-d2be-40cc-e517-98e23d4de40e",
        "colab": {
          "base_uri": "https://localhost:8080/",
          "height": 204
        }
      },
      "source": [
        "X.head()"
      ],
      "execution_count": 0,
      "outputs": [
        {
          "output_type": "execute_result",
          "data": {
            "text/html": [
              "<div>\n",
              "<style scoped>\n",
              "    .dataframe tbody tr th:only-of-type {\n",
              "        vertical-align: middle;\n",
              "    }\n",
              "\n",
              "    .dataframe tbody tr th {\n",
              "        vertical-align: top;\n",
              "    }\n",
              "\n",
              "    .dataframe thead th {\n",
              "        text-align: right;\n",
              "    }\n",
              "</style>\n",
              "<table border=\"1\" class=\"dataframe\">\n",
              "  <thead>\n",
              "    <tr style=\"text-align: right;\">\n",
              "      <th></th>\n",
              "      <th>Pclass</th>\n",
              "      <th>Age</th>\n",
              "      <th>Fare</th>\n",
              "      <th>Sex_male</th>\n",
              "      <th>Family_size</th>\n",
              "    </tr>\n",
              "  </thead>\n",
              "  <tbody>\n",
              "    <tr>\n",
              "      <th>0</th>\n",
              "      <td>3</td>\n",
              "      <td>22.0</td>\n",
              "      <td>7.2500</td>\n",
              "      <td>1</td>\n",
              "      <td>1</td>\n",
              "    </tr>\n",
              "    <tr>\n",
              "      <th>1</th>\n",
              "      <td>1</td>\n",
              "      <td>38.0</td>\n",
              "      <td>71.2833</td>\n",
              "      <td>0</td>\n",
              "      <td>1</td>\n",
              "    </tr>\n",
              "    <tr>\n",
              "      <th>2</th>\n",
              "      <td>3</td>\n",
              "      <td>26.0</td>\n",
              "      <td>7.9250</td>\n",
              "      <td>0</td>\n",
              "      <td>0</td>\n",
              "    </tr>\n",
              "    <tr>\n",
              "      <th>3</th>\n",
              "      <td>1</td>\n",
              "      <td>35.0</td>\n",
              "      <td>53.1000</td>\n",
              "      <td>0</td>\n",
              "      <td>1</td>\n",
              "    </tr>\n",
              "    <tr>\n",
              "      <th>4</th>\n",
              "      <td>3</td>\n",
              "      <td>35.0</td>\n",
              "      <td>8.0500</td>\n",
              "      <td>1</td>\n",
              "      <td>0</td>\n",
              "    </tr>\n",
              "  </tbody>\n",
              "</table>\n",
              "</div>"
            ],
            "text/plain": [
              "   Pclass   Age     Fare  Sex_male  Family_size\n",
              "0       3  22.0   7.2500         1            1\n",
              "1       1  38.0  71.2833         0            1\n",
              "2       3  26.0   7.9250         0            0\n",
              "3       1  35.0  53.1000         0            1\n",
              "4       3  35.0   8.0500         1            0"
            ]
          },
          "metadata": {
            "tags": []
          },
          "execution_count": 60
        }
      ]
    },
    {
      "cell_type": "markdown",
      "metadata": {
        "colab_type": "text",
        "id": "JXLNdcJXAoHO"
      },
      "source": [
        "Los datos se han normalizado usando `StandardScaler` y se ha hecho una simple interacción entre características usando `PolynomialFeatures`"
      ]
    },
    {
      "cell_type": "code",
      "metadata": {
        "colab_type": "code",
        "id": "zRr-IZcTAoHP",
        "colab": {}
      },
      "source": [
        "model = Pipeline((\n",
        "      ('scale', StandardScaler()),  ('poly', PolynomialFeatures(degree=2)), ('logreg', LogisticRegression(C=50, solver='liblinear'))\n",
        "))"
      ],
      "execution_count": 0,
      "outputs": []
    },
    {
      "cell_type": "markdown",
      "metadata": {
        "id": "W-aMjn2ONeJi",
        "colab_type": "text"
      },
      "source": [
        "validación cruzada(cross validation)"
      ]
    },
    {
      "cell_type": "code",
      "metadata": {
        "id": "vAiTcWlqNd48",
        "colab_type": "code",
        "outputId": "2736e61e-3b22-439b-d983-d7d4085cdf6a",
        "colab": {
          "base_uri": "https://localhost:8080/",
          "height": 34
        }
      },
      "source": [
        "scores = cross_val_score(model, X, y, cv=7)\n",
        "print('CV accuracy: %.3f +/- %.3f' % (np.mean(scores), np.std(scores)))"
      ],
      "execution_count": 0,
      "outputs": [
        {
          "output_type": "stream",
          "text": [
            "CV accuracy: 0.820 +/- 0.023\n"
          ],
          "name": "stdout"
        }
      ]
    },
    {
      "cell_type": "markdown",
      "metadata": {
        "id": "q77mkOpgPZhS",
        "colab_type": "text"
      },
      "source": [
        "curvas de validación( validation curves)\n"
      ]
    },
    {
      "cell_type": "code",
      "metadata": {
        "id": "KuoSjkW9EcPj",
        "colab_type": "code",
        "colab": {}
      },
      "source": [
        "params=np.hstack([np.arange(0.01,1.0,0.03), np.linspace(1.1,100,20)])\n",
        "train_score, test_score=validation_curve(model, X, y, 'logreg__C', params, cv=7,scoring='accuracy', n_jobs=-1)"
      ],
      "execution_count": 0,
      "outputs": []
    },
    {
      "cell_type": "code",
      "metadata": {
        "id": "Myow42TsJxr-",
        "colab_type": "code",
        "outputId": "d3593fa9-dc33-4892-d6de-1ac928483be6",
        "colab": {
          "base_uri": "https://localhost:8080/",
          "height": 469
        }
      },
      "source": [
        "plt.figure(figsize=(7,7))\n",
        "plt.plot(params, np.mean(train_score,1), color='red')\n",
        "plt.plot(params, np.mean(test_score,1), color='blue')\n",
        "plt.xlabel('C')\n",
        "plt.ylabel('Acurracy')\n",
        "plt.ylim(0.8,0.84)"
      ],
      "execution_count": 0,
      "outputs": [
        {
          "output_type": "execute_result",
          "data": {
            "text/plain": [
              "(0.8, 0.84)"
            ]
          },
          "metadata": {
            "tags": []
          },
          "execution_count": 64
        },
        {
          "output_type": "display_data",
          "data": {
            "image/png": "[encoded data removed]",
            "text/plain": [
              "<Figure size 504x504 with 1 Axes>"
            ]
          },
          "metadata": {
            "tags": []
          }
        }
      ]
    },
    {
      "cell_type": "markdown",
      "metadata": {
        "id": "Z3MJreLFPyfW",
        "colab_type": "text"
      },
      "source": [
        "curvas de aprendizaje(learning curves)"
      ]
    },
    {
      "cell_type": "code",
      "metadata": {
        "id": "uFJ0b5_UJ7A_",
        "colab_type": "code",
        "colab": {}
      },
      "source": [
        "N, train_score, test_score=learning_curve(model,X,y, train_sizes=np.linspace(0.1,1,25), cv=7, scoring='accuracy', n_jobs=-1)"
      ],
      "execution_count": 0,
      "outputs": []
    },
    {
      "cell_type": "code",
      "metadata": {
        "id": "__kDXqp6J-pj",
        "colab_type": "code",
        "outputId": "534fcc1d-5ce0-43e2-84c8-2e3466044bf1",
        "colab": {
          "base_uri": "https://localhost:8080/",
          "height": 356
        }
      },
      "source": [
        "plt.figure(figsize=(7,5))\n",
        "plt.plot(N,np.mean(train_score,1), color='red')\n",
        "plt.plot(N,np.mean(test_score,1), color='blue')\n",
        "plt.xlabel('Training set size')\n",
        "plt.ylabel('Acurracy')"
      ],
      "execution_count": 0,
      "outputs": [
        {
          "output_type": "execute_result",
          "data": {
            "text/plain": [
              "Text(0, 0.5, 'Acurracy')"
            ]
          },
          "metadata": {
            "tags": []
          },
          "execution_count": 66
        },
        {
          "output_type": "display_data",
          "data": {
            "image/png": "[encoded data removed]",
            "text/plain": [
              "<Figure size 504x360 with 1 Axes>"
            ]
          },
          "metadata": {
            "tags": []
          }
        }
      ]
    },
    {
      "cell_type": "markdown",
      "metadata": {
        "id": "fzE_g7mnjJlE",
        "colab_type": "text"
      },
      "source": [
        ""
      ]
    },
    {
      "cell_type": "markdown",
      "metadata": {
        "id": "rVuXbxeNkWYB",
        "colab_type": "text"
      },
      "source": [
        "# El gradiente de descenso\n",
        "\n",
        "Como vimos en el curso pasado, existe una técnica de optimización para las funciones de perdida (o costo) que es central en el desarrollo de modelos de machine learnig, en especial para el deep learning.\n",
        "\n",
        "A ésta técnica se le llama gradiente de descenso ya que se utilizan los gradientes de la función de costo para encontrar la dirección de descenso de la perdida y así actualizar los pesos del modelo de tal forma que el costo llegue a un mínimo (local).\n",
        "\n",
        "Supongamos que tenemos un modelo lineal $\\hat{y} = \\sum_i w_i x_i$ cuya función de costo será la función de diferencias cuadradas (método de mínimos cuadrados) $\\frac{1}{2n}\\sum_i (y_i-\\hat{y_i})^2$.\n",
        "\n",
        "Debemos derivar **respecto a los pesos** la función de coste, y así, iteración tras iteración mejorar nuestro modelo.\n",
        "\n",
        "Veamos cómo sería la función de perdida de nuestro ejemplo en terminos de los pesos:\n",
        "\n",
        "$$\\frac{1}{2n}\\sum_i (y_i-\\hat{y_i})^2$$\n",
        "\n",
        "$$\\frac{1}{2n}\\sum_i (y_i-\\sum_j w_j x_j)^2$$\n",
        "\n",
        "Hemos cambiado el subindice $i$ por $j$ en éste caso para indicar que una sola predicción $\\hat{y_i}$ corresponde a la suma de varios pesos, y cada $i$ será una muestra del conjunto de datos.\n",
        "\n",
        "Al deribar respecto a cada $w_j$ tendríamos:\n",
        "\n",
        "$$\\frac{1}{n}\\sum_i (y_i-\\sum_j w_j x_j)x_j $$\n",
        "\n",
        "Sería ésta la función que nos permitirá hacer la optimización del modelo.\n",
        "\n",
        "<img height=\"300px\" src=\"https://www.oreilly.com/library/view/hands-on-machine-learning/9781491962282/assets/mlst_0402.png\" alt=\"Drawing\" style=\"width: 200px;\"/>\n",
        "\n",
        "En general si tenemos una función de perdida $C(w)$ el gradiente de descenso nos dice que debemos actualizarla en cada iteración como:\n",
        "\n",
        "$$C(w)- \\alpha \\nabla_w\n",
        "C(w)$$\n",
        "\n",
        "Donde $\\alpha$ se el hiperparámetro que controla la velocidad de aprendizaje (learning rate) y $\\nabla$ es el operador de derivadas parciales en los pesos.\n"
      ]
    },
    {
      "cell_type": "markdown",
      "metadata": {
        "id": "cwJgMikdkkNl",
        "colab_type": "text"
      },
      "source": [
        "Hemos dicho anteriormente que con éste método encontraremos un mínimo local, ésto ya que en general las funciones de perdida en el DL dependen de cientos de parámetros y será difícil que sean convezas. \n",
        "\n",
        "![](https://www.researchgate.net/profile/Jennifer_Rexford/publication/226717592/figure/fig4/AS:302225588015118@1449067603956/Convex-and-nonconvex-functions-A-function-g-is-a-convex-function-if-domain-of-g-is-a.png)\n",
        "\n",
        "En el caso de una función de perdida como la OLS, al ser convexa estamos seguros de alcanzar un mínimo global, en casos más complejos debemos utilizar trucos como el SDG del que hablamos en el nivel uno del curso para intentar evitar quedarnos en un mínimo local.\n",
        "\n",
        "De cualquier manera es necesario que nuestra función de costo no sea concava para poder garantizar un mínimo."
      ]
    },
    {
      "cell_type": "markdown",
      "metadata": {
        "id": "sLuflYnDk2X_",
        "colab_type": "text"
      },
      "source": [
        ""
      ]
    },
    {
      "cell_type": "markdown",
      "metadata": {
        "colab_type": "text",
        "id": "yY9Dmpguk4DI"
      },
      "source": [
        "#Problema: \n",
        "Usar Sklearn para implementar el modelo de regresión lineal (usar la ecuacion normal y Gradiente Estocástico) en el Dataset ***FuelConsumption.csv*** para predecir la emisión de CO2 de algunos autos basado en algunas de sus características.\n",
        "\n",
        "Recuerde que en sklearn puede implementar el gradiente de descenso importando:\n",
        "\n",
        "`from sklearn.linear_model import SGDRegressor`"
      ]
    },
    {
      "cell_type": "markdown",
      "metadata": {
        "id": "G0wfL04jLzWT",
        "colab_type": "text"
      },
      "source": [
        "# Solucion"
      ]
    },
    {
      "cell_type": "markdown",
      "metadata": {
        "id": "qcqLt9K_dAY3",
        "colab_type": "text"
      },
      "source": [
        "Importemos algunas de las librerias que nos seran de utilidad"
      ]
    },
    {
      "cell_type": "code",
      "metadata": {
        "id": "7cbE7do8cnrM",
        "colab_type": "code",
        "colab": {}
      },
      "source": [
        "import numpy as np\n",
        "import pandas as pd\n",
        "import matplotlib.pyplot as plt\n",
        "import seaborn as sns; sns.set()"
      ],
      "execution_count": 0,
      "outputs": []
    },
    {
      "cell_type": "markdown",
      "metadata": {
        "id": "eyxTIbm0dFCQ",
        "colab_type": "text"
      },
      "source": [
        "Ahora importemos el Dataset usando pandas"
      ]
    },
    {
      "cell_type": "code",
      "metadata": {
        "id": "WciHTaRTMU06",
        "colab_type": "code",
        "colab": {}
      },
      "source": [
        "data = pd.read_csv('https://raw.githubusercontent.com/diplomado-bigdata-machinelearning-udea/Curso2/master/Datasets/FuelConsumption.csv')"
      ],
      "execution_count": 0,
      "outputs": []
    },
    {
      "cell_type": "markdown",
      "metadata": {
        "id": "xYFi_tjFq2tN",
        "colab_type": "text"
      },
      "source": [
        "Inspeccionamos un poco el dataset"
      ]
    },
    {
      "cell_type": "code",
      "metadata": {
        "id": "xVx_voXEsqIe",
        "colab_type": "code",
        "outputId": "22747349-2956-4644-8c1f-70078269273c",
        "colab": {
          "base_uri": "https://localhost:8080/",
          "height": 34
        }
      },
      "source": [
        "data.shape"
      ],
      "execution_count": 0,
      "outputs": [
        {
          "output_type": "execute_result",
          "data": {
            "text/plain": [
              "(1067, 13)"
            ]
          },
          "metadata": {
            "tags": []
          },
          "execution_count": 69
        }
      ]
    },
    {
      "cell_type": "code",
      "metadata": {
        "id": "EguQCmprvGmN",
        "colab_type": "code",
        "outputId": "fa036049-8693-4c71-a3ce-8bb198a99630",
        "colab": {
          "base_uri": "https://localhost:8080/",
          "height": 255
        }
      },
      "source": [
        "data.isnull().any()"
      ],
      "execution_count": 0,
      "outputs": [
        {
          "output_type": "execute_result",
          "data": {
            "text/plain": [
              "MODELYEAR                   False\n",
              "MAKE                        False\n",
              "MODEL                       False\n",
              "VEHICLECLASS                False\n",
              "ENGINESIZE                  False\n",
              "CYLINDERS                   False\n",
              "TRANSMISSION                False\n",
              "FUELTYPE                    False\n",
              "FUELCONSUMPTION_CITY        False\n",
              "FUELCONSUMPTION_HWY         False\n",
              "FUELCONSUMPTION_COMB        False\n",
              "FUELCONSUMPTION_COMB_MPG    False\n",
              "CO2EMISSIONS                False\n",
              "dtype: bool"
            ]
          },
          "metadata": {
            "tags": []
          },
          "execution_count": 70
        }
      ]
    },
    {
      "cell_type": "code",
      "metadata": {
        "id": "zM5oJ3kEczKC",
        "colab_type": "code",
        "outputId": "1ea9ce51-948b-4227-dc48-c2825909a3e4",
        "colab": {
          "base_uri": "https://localhost:8080/",
          "height": 309
        }
      },
      "source": [
        "data.sample(5)"
      ],
      "execution_count": 0,
      "outputs": [
        {
          "output_type": "execute_result",
          "data": {
            "text/html": [
              "<div>\n",
              "<style scoped>\n",
              "    .dataframe tbody tr th:only-of-type {\n",
              "        vertical-align: middle;\n",
              "    }\n",
              "\n",
              "    .dataframe tbody tr th {\n",
              "        vertical-align: top;\n",
              "    }\n",
              "\n",
              "    .dataframe thead th {\n",
              "        text-align: right;\n",
              "    }\n",
              "</style>\n",
              "<table border=\"1\" class=\"dataframe\">\n",
              "  <thead>\n",
              "    <tr style=\"text-align: right;\">\n",
              "      <th></th>\n",
              "      <th>MODELYEAR</th>\n",
              "      <th>MAKE</th>\n",
              "      <th>MODEL</th>\n",
              "      <th>VEHICLECLASS</th>\n",
              "      <th>ENGINESIZE</th>\n",
              "      <th>CYLINDERS</th>\n",
              "      <th>TRANSMISSION</th>\n",
              "      <th>FUELTYPE</th>\n",
              "      <th>FUELCONSUMPTION_CITY</th>\n",
              "      <th>FUELCONSUMPTION_HWY</th>\n",
              "      <th>FUELCONSUMPTION_COMB</th>\n",
              "      <th>FUELCONSUMPTION_COMB_MPG</th>\n",
              "      <th>CO2EMISSIONS</th>\n",
              "    </tr>\n",
              "  </thead>\n",
              "  <tbody>\n",
              "    <tr>\n",
              "      <th>342</th>\n",
              "      <td>2014</td>\n",
              "      <td>FORD</td>\n",
              "      <td>C-MAX HYBRID</td>\n",
              "      <td>FULL-SIZE</td>\n",
              "      <td>2.0</td>\n",
              "      <td>4</td>\n",
              "      <td>AV</td>\n",
              "      <td>X</td>\n",
              "      <td>5.6</td>\n",
              "      <td>6.4</td>\n",
              "      <td>6.0</td>\n",
              "      <td>47</td>\n",
              "      <td>138</td>\n",
              "    </tr>\n",
              "    <tr>\n",
              "      <th>619</th>\n",
              "      <td>2014</td>\n",
              "      <td>KIA</td>\n",
              "      <td>RONDO</td>\n",
              "      <td>STATION WAGON - MID-SIZE</td>\n",
              "      <td>2.0</td>\n",
              "      <td>4</td>\n",
              "      <td>M6</td>\n",
              "      <td>X</td>\n",
              "      <td>10.8</td>\n",
              "      <td>7.4</td>\n",
              "      <td>9.3</td>\n",
              "      <td>30</td>\n",
              "      <td>214</td>\n",
              "    </tr>\n",
              "    <tr>\n",
              "      <th>592</th>\n",
              "      <td>2014</td>\n",
              "      <td>JEEP</td>\n",
              "      <td>PATRIOT</td>\n",
              "      <td>SUV - SMALL</td>\n",
              "      <td>2.4</td>\n",
              "      <td>4</td>\n",
              "      <td>M5</td>\n",
              "      <td>X</td>\n",
              "      <td>10.3</td>\n",
              "      <td>8.3</td>\n",
              "      <td>9.4</td>\n",
              "      <td>30</td>\n",
              "      <td>216</td>\n",
              "    </tr>\n",
              "    <tr>\n",
              "      <th>370</th>\n",
              "      <td>2014</td>\n",
              "      <td>FORD</td>\n",
              "      <td>F150</td>\n",
              "      <td>PICKUP TRUCK - STANDARD</td>\n",
              "      <td>3.5</td>\n",
              "      <td>6</td>\n",
              "      <td>AS6</td>\n",
              "      <td>X</td>\n",
              "      <td>14.6</td>\n",
              "      <td>10.6</td>\n",
              "      <td>12.8</td>\n",
              "      <td>22</td>\n",
              "      <td>294</td>\n",
              "    </tr>\n",
              "    <tr>\n",
              "      <th>668</th>\n",
              "      <td>2014</td>\n",
              "      <td>LEXUS</td>\n",
              "      <td>IS F</td>\n",
              "      <td>SUBCOMPACT</td>\n",
              "      <td>5.0</td>\n",
              "      <td>8</td>\n",
              "      <td>AS8</td>\n",
              "      <td>Z</td>\n",
              "      <td>14.6</td>\n",
              "      <td>10.1</td>\n",
              "      <td>12.6</td>\n",
              "      <td>22</td>\n",
              "      <td>290</td>\n",
              "    </tr>\n",
              "  </tbody>\n",
              "</table>\n",
              "</div>"
            ],
            "text/plain": [
              "     MODELYEAR   MAKE  ... FUELCONSUMPTION_COMB_MPG CO2EMISSIONS\n",
              "342       2014   FORD  ...                       47          138\n",
              "619       2014    KIA  ...                       30          214\n",
              "592       2014   JEEP  ...                       30          216\n",
              "370       2014   FORD  ...                       22          294\n",
              "668       2014  LEXUS  ...                       22          290\n",
              "\n",
              "[5 rows x 13 columns]"
            ]
          },
          "metadata": {
            "tags": []
          },
          "execution_count": 71
        }
      ]
    },
    {
      "cell_type": "markdown",
      "metadata": {
        "id": "a-gRcaYmtpnx",
        "colab_type": "text"
      },
      "source": [
        "Ahora seleccionemos algunas de las características que consideraremos para entrenar nuestro modelo de regresión lineal "
      ]
    },
    {
      "cell_type": "code",
      "metadata": {
        "id": "8WUNcKFsrzq2",
        "colab_type": "code",
        "colab": {}
      },
      "source": [
        "X=data.loc[:,['ENGINESIZE','FUELTYPE','FUELCONSUMPTION_CITY']]\n",
        "y = data['CO2EMISSIONS']"
      ],
      "execution_count": 0,
      "outputs": []
    },
    {
      "cell_type": "markdown",
      "metadata": {
        "id": "T2cmNFDZ0Nz1",
        "colab_type": "text"
      },
      "source": [
        "Apliquemos one-hot-encoding a la caracteristica categorica ***FUELTYPE***"
      ]
    },
    {
      "cell_type": "code",
      "metadata": {
        "id": "Js_RM3zF0gR_",
        "colab_type": "code",
        "colab": {}
      },
      "source": [
        "X=pd.get_dummies(X, drop_first=True)"
      ],
      "execution_count": 0,
      "outputs": []
    },
    {
      "cell_type": "code",
      "metadata": {
        "id": "hnQDjNKzvS5f",
        "colab_type": "code",
        "outputId": "30413ff5-07ea-41f9-f8c3-431352364d63",
        "colab": {
          "base_uri": "https://localhost:8080/",
          "height": 204
        }
      },
      "source": [
        "X.head()"
      ],
      "execution_count": 0,
      "outputs": [
        {
          "output_type": "execute_result",
          "data": {
            "text/html": [
              "<div>\n",
              "<style scoped>\n",
              "    .dataframe tbody tr th:only-of-type {\n",
              "        vertical-align: middle;\n",
              "    }\n",
              "\n",
              "    .dataframe tbody tr th {\n",
              "        vertical-align: top;\n",
              "    }\n",
              "\n",
              "    .dataframe thead th {\n",
              "        text-align: right;\n",
              "    }\n",
              "</style>\n",
              "<table border=\"1\" class=\"dataframe\">\n",
              "  <thead>\n",
              "    <tr style=\"text-align: right;\">\n",
              "      <th></th>\n",
              "      <th>ENGINESIZE</th>\n",
              "      <th>FUELCONSUMPTION_CITY</th>\n",
              "      <th>FUELTYPE_E</th>\n",
              "      <th>FUELTYPE_X</th>\n",
              "      <th>FUELTYPE_Z</th>\n",
              "    </tr>\n",
              "  </thead>\n",
              "  <tbody>\n",
              "    <tr>\n",
              "      <th>0</th>\n",
              "      <td>2.0</td>\n",
              "      <td>9.9</td>\n",
              "      <td>0</td>\n",
              "      <td>0</td>\n",
              "      <td>1</td>\n",
              "    </tr>\n",
              "    <tr>\n",
              "      <th>1</th>\n",
              "      <td>2.4</td>\n",
              "      <td>11.2</td>\n",
              "      <td>0</td>\n",
              "      <td>0</td>\n",
              "      <td>1</td>\n",
              "    </tr>\n",
              "    <tr>\n",
              "      <th>2</th>\n",
              "      <td>1.5</td>\n",
              "      <td>6.0</td>\n",
              "      <td>0</td>\n",
              "      <td>0</td>\n",
              "      <td>1</td>\n",
              "    </tr>\n",
              "    <tr>\n",
              "      <th>3</th>\n",
              "      <td>3.5</td>\n",
              "      <td>12.7</td>\n",
              "      <td>0</td>\n",
              "      <td>0</td>\n",
              "      <td>1</td>\n",
              "    </tr>\n",
              "    <tr>\n",
              "      <th>4</th>\n",
              "      <td>3.5</td>\n",
              "      <td>12.1</td>\n",
              "      <td>0</td>\n",
              "      <td>0</td>\n",
              "      <td>1</td>\n",
              "    </tr>\n",
              "  </tbody>\n",
              "</table>\n",
              "</div>"
            ],
            "text/plain": [
              "   ENGINESIZE  FUELCONSUMPTION_CITY  FUELTYPE_E  FUELTYPE_X  FUELTYPE_Z\n",
              "0         2.0                   9.9           0           0           1\n",
              "1         2.4                  11.2           0           0           1\n",
              "2         1.5                   6.0           0           0           1\n",
              "3         3.5                  12.7           0           0           1\n",
              "4         3.5                  12.1           0           0           1"
            ]
          },
          "metadata": {
            "tags": []
          },
          "execution_count": 74
        }
      ]
    },
    {
      "cell_type": "markdown",
      "metadata": {
        "id": "mZ4xjTtd0_yg",
        "colab_type": "text"
      },
      "source": [
        "Dividamos el Dataset en una parte de entrenamiento y en otra de testeo usando Sklearn"
      ]
    },
    {
      "cell_type": "code",
      "metadata": {
        "id": "WWCvP6wa47xz",
        "colab_type": "code",
        "colab": {}
      },
      "source": [
        "from sklearn.model_selection import train_test_split"
      ],
      "execution_count": 0,
      "outputs": []
    },
    {
      "cell_type": "code",
      "metadata": {
        "id": "8XeZenai4-JS",
        "colab_type": "code",
        "colab": {}
      },
      "source": [
        "X_train, X_test, y_train, y_test = train_test_split(X, y,test_size = 0.2, random_state=0)"
      ],
      "execution_count": 0,
      "outputs": []
    },
    {
      "cell_type": "code",
      "metadata": {
        "id": "l_T6_L8o49--",
        "colab_type": "code",
        "outputId": "ef64f314-10e0-4aa5-bd41-c81071bcfba7",
        "colab": {
          "base_uri": "https://localhost:8080/",
          "height": 34
        }
      },
      "source": [
        "X_train.shape"
      ],
      "execution_count": 0,
      "outputs": [
        {
          "output_type": "execute_result",
          "data": {
            "text/plain": [
              "(853, 5)"
            ]
          },
          "metadata": {
            "tags": []
          },
          "execution_count": 77
        }
      ]
    },
    {
      "cell_type": "markdown",
      "metadata": {
        "id": "GWf688dt48VO",
        "colab_type": "text"
      },
      "source": [
        "Ahora implementamos el modelo de regresión lineal usando Sklearn "
      ]
    },
    {
      "cell_type": "code",
      "metadata": {
        "id": "fELyJ3dQyDFJ",
        "colab_type": "code",
        "colab": {}
      },
      "source": [
        "from sklearn.linear_model import LinearRegression\n",
        "from sklearn.pipeline import Pipeline\n",
        "from sklearn.metrics import r2_score\n",
        "from sklearn.preprocessing import PolynomialFeatures, StandardScaler"
      ],
      "execution_count": 0,
      "outputs": []
    },
    {
      "cell_type": "markdown",
      "metadata": {
        "id": "_GcWxypXBSq2",
        "colab_type": "text"
      },
      "source": [
        "Los datos se han normalizado usando StandardScaler y se ha hecho una simple interacción entre características"
      ]
    },
    {
      "cell_type": "code",
      "metadata": {
        "id": "T4T8wnTa-4-6",
        "colab_type": "code",
        "colab": {}
      },
      "source": [
        "model = Pipeline((\n",
        "      ('scale', StandardScaler()),  ('poly', PolynomialFeatures(degree=2)), ('linear_regression', LinearRegression() )\n",
        "))"
      ],
      "execution_count": 0,
      "outputs": []
    },
    {
      "cell_type": "code",
      "metadata": {
        "id": "n4PQ7ZbP08zD",
        "colab_type": "code",
        "outputId": "513aa375-f951-4c64-fc47-c8f2b1ce83d9",
        "colab": {
          "base_uri": "https://localhost:8080/",
          "height": 187
        }
      },
      "source": [
        "model.fit(X_train,y_train)"
      ],
      "execution_count": 0,
      "outputs": [
        {
          "output_type": "execute_result",
          "data": {
            "text/plain": [
              "Pipeline(memory=None,\n",
              "         steps=[('scale',\n",
              "                 StandardScaler(copy=True, with_mean=True, with_std=True)),\n",
              "                ('poly',\n",
              "                 PolynomialFeatures(degree=2, include_bias=True,\n",
              "                                    interaction_only=False, order='C')),\n",
              "                ('linear_regression',\n",
              "                 LinearRegression(copy_X=True, fit_intercept=True, n_jobs=None,\n",
              "                                  normalize=False))],\n",
              "         verbose=False)"
            ]
          },
          "metadata": {
            "tags": []
          },
          "execution_count": 80
        }
      ]
    },
    {
      "cell_type": "markdown",
      "metadata": {
        "id": "cnRKkBWE6BB9",
        "colab_type": "text"
      },
      "source": [
        "Ahora usemos nuestro modelo ya entrenado sobre los datos de testo y veamos como es su desempeño usando la metrica `r2_score`"
      ]
    },
    {
      "cell_type": "code",
      "metadata": {
        "id": "wmdyYpH15qCA",
        "colab_type": "code",
        "outputId": "d5118537-90c2-4f21-e0e7-a387e7936192",
        "colab": {
          "base_uri": "https://localhost:8080/",
          "height": 34
        }
      },
      "source": [
        "y_fit=model.predict(X_test)\n",
        "r2_score(y_test,y_fit)"
      ],
      "execution_count": 0,
      "outputs": [
        {
          "output_type": "execute_result",
          "data": {
            "text/plain": [
              "0.9905292971987586"
            ]
          },
          "metadata": {
            "tags": []
          },
          "execution_count": 81
        }
      ]
    },
    {
      "cell_type": "markdown",
      "metadata": {
        "id": "oOr4NN36CKf5",
        "colab_type": "text"
      },
      "source": [
        "Usemos el Descenso del Gradiente Estocástico (SGD) sobre los datos anteriores y veamos que resultado se obtiene"
      ]
    },
    {
      "cell_type": "code",
      "metadata": {
        "id": "xeHAMb9e6Ux4",
        "colab_type": "code",
        "colab": {}
      },
      "source": [
        "from sklearn.linear_model import SGDRegressor\n",
        "from sklearn.model_selection import validation_curve"
      ],
      "execution_count": 0,
      "outputs": []
    },
    {
      "cell_type": "code",
      "metadata": {
        "id": "afuFzRq4CbhK",
        "colab_type": "code",
        "colab": {}
      },
      "source": [
        "model = Pipeline((\n",
        "      ('scale', StandardScaler()),  ('poly', PolynomialFeatures(degree=2)), ('SGD', SGDRegressor(max_iter=1000, penalty=None))\n",
        " ))"
      ],
      "execution_count": 0,
      "outputs": []
    },
    {
      "cell_type": "markdown",
      "metadata": {
        "id": "DwlibumIJ6Yb",
        "colab_type": "text"
      },
      "source": [
        "Veamos como es el desempeño de nuestro modelo por epocas"
      ]
    },
    {
      "cell_type": "code",
      "metadata": {
        "id": "QmFIFQjaHj6D",
        "colab_type": "code",
        "colab": {}
      },
      "source": [
        "params=np.arange(1,100)\n",
        "train_score, val_score=validation_curve(model, X_train, y_train, 'SGD__max_iter', params, cv=5, n_jobs=-1)"
      ],
      "execution_count": 0,
      "outputs": []
    },
    {
      "cell_type": "code",
      "metadata": {
        "id": "JtwRH8TEJayx",
        "colab_type": "code",
        "outputId": "733e9cb3-bc69-41d2-daf6-61cd0281ea66",
        "colab": {
          "base_uri": "https://localhost:8080/",
          "height": 394
        }
      },
      "source": [
        "plt.figure(figsize=(8,6))\n",
        "plt.plot(params, np.mean(train_score,1), color='red',label='train_score')\n",
        "plt.plot(params, np.mean(val_score,1), color='blue', label='val_score')\n",
        "plt.legend( fontsize=20)\n",
        "plt.xlabel('epochs')\n",
        "plt.ylabel('r2_score');"
      ],
      "execution_count": 0,
      "outputs": [
        {
          "output_type": "display_data",
          "data": {
            "image/png": "[encoded data removed]",
            "text/plain": [
              "<Figure size 576x432 with 1 Axes>"
            ]
          },
          "metadata": {
            "tags": []
          }
        }
      ]
    },
    {
      "cell_type": "markdown",
      "metadata": {
        "id": "Uub8MV3TKM--",
        "colab_type": "text"
      },
      "source": [
        "Procedamos a entrenar nuestro modelo"
      ]
    },
    {
      "cell_type": "code",
      "metadata": {
        "id": "EODw1y0oCffx",
        "colab_type": "code",
        "outputId": "fd787b61-47df-499b-b747-5456c5ab308f",
        "colab": {
          "base_uri": "https://localhost:8080/",
          "height": 289
        }
      },
      "source": [
        "model.fit(X_train,y_train)"
      ],
      "execution_count": 0,
      "outputs": [
        {
          "output_type": "execute_result",
          "data": {
            "text/plain": [
              "Pipeline(memory=None,\n",
              "         steps=[('scale',\n",
              "                 StandardScaler(copy=True, with_mean=True, with_std=True)),\n",
              "                ('poly',\n",
              "                 PolynomialFeatures(degree=2, include_bias=True,\n",
              "                                    interaction_only=False, order='C')),\n",
              "                ('SGD',\n",
              "                 SGDRegressor(alpha=0.0001, average=False, early_stopping=False,\n",
              "                              epsilon=0.1, eta0=0.01, fit_intercept=True,\n",
              "                              l1_ratio=0.15, learning_rate='invscaling',\n",
              "                              loss='squared_loss', max_iter=1000,\n",
              "                              n_iter_no_change=5, penalty=None, power_t=0.25,\n",
              "                              random_state=None, shuffle=True, tol=0.001,\n",
              "                              validation_fraction=0.1, verbose=0,\n",
              "                              warm_start=False))],\n",
              "         verbose=False)"
            ]
          },
          "metadata": {
            "tags": []
          },
          "execution_count": 86
        }
      ]
    },
    {
      "cell_type": "code",
      "metadata": {
        "id": "pW7ExBZ3Coyl",
        "colab_type": "code",
        "outputId": "92bc2fe0-49a7-4a71-917c-c3d4ccc7e533",
        "colab": {
          "base_uri": "https://localhost:8080/",
          "height": 34
        }
      },
      "source": [
        "y_fit=model.predict(X_test)\n",
        "r2_score(y_test,y_fit)"
      ],
      "execution_count": 0,
      "outputs": [
        {
          "output_type": "execute_result",
          "data": {
            "text/plain": [
              "0.9899246316789717"
            ]
          },
          "metadata": {
            "tags": []
          },
          "execution_count": 87
        }
      ]
    },
    {
      "cell_type": "markdown",
      "metadata": {
        "id": "qZRynzHFlxXb",
        "colab_type": "text"
      },
      "source": [
        "Programemos nuestro propio descenso de gradiente para una función de coste cualquiera usando el método de diferéncias mínimas para aproximar las derivadas."
      ]
    },
    {
      "cell_type": "code",
      "metadata": {
        "id": "nWKiy_cwl3k8",
        "colab_type": "code",
        "outputId": "c2ec6d9e-a35b-4c86-fabb-c92e9ae92281",
        "colab": {
          "base_uri": "https://localhost:8080/",
          "height": 34
        }
      },
      "source": [
        "#generemos la función de coste cualquiera\n",
        "import numpy as np\n",
        "costo = lambda w: np.sin(1/2 * w[0]**2 - 1/4 * w[1]**2 + 3) * np.cos(2*w[0] - np.e**w[1]) #w[0] será el bias\n",
        "\n",
        "costo([1,2])"
      ],
      "execution_count": 0,
      "outputs": [
        {
          "output_type": "execute_result",
          "data": {
            "text/plain": [
              "0.374762046993176"
            ]
          },
          "metadata": {
            "tags": []
          },
          "execution_count": 88
        }
      ]
    },
    {
      "cell_type": "code",
      "metadata": {
        "id": "9IAthRWCmCnG",
        "colab_type": "code",
        "outputId": "a334945b-3177-4a01-8cf2-59c80a489666",
        "colab": {
          "base_uri": "https://localhost:8080/",
          "height": 272
        }
      },
      "source": [
        "import matplotlib.pyplot as plt\n",
        "\n",
        "# veamos su forma:\n",
        "N = 100\n",
        "x = np.linspace(-2,2,N)\n",
        "y = np.linspace(-2,2,N)\n",
        "z = np.zeros((N,N))\n",
        "\n",
        "for i,xi in enumerate(x):\n",
        "  for j,yj in enumerate(y):\n",
        "    z[i,j] = costo([xi,yj])\n",
        "  \n",
        "plt.contourf(x,y,z,100)\n",
        "plt.colorbar()\n",
        "plt.show()\n"
      ],
      "execution_count": 0,
      "outputs": [
        {
          "output_type": "display_data",
          "data": {
            "image/png": "[encoded data removed]",
            "text/plain": [
              "<Figure size 432x288 with 2 Axes>"
            ]
          },
          "metadata": {
            "tags": []
          }
        }
      ]
    },
    {
      "cell_type": "code",
      "metadata": {
        "id": "fegaW5FsmMf6",
        "colab_type": "code",
        "outputId": "895e2fd4-bf31-410a-b222-73bf15632752",
        "colab": {
          "base_uri": "https://localhost:8080/",
          "height": 289
        }
      },
      "source": [
        "plt.contourf(x,y,z,100)\n",
        "plt.colorbar()\n",
        "np.random.seed(6)\n",
        "\n",
        "Ws = np.random.rand(2) * 2 - 1\n",
        "Ws = [0,0.2]\n",
        "Wc = np.copy(Ws)\n",
        "h = 0.01\n",
        "alpha = 0.005\n",
        "grad = np.zeros(2)\n",
        "\n",
        "plt.plot(Ws[0],Ws[1],'o',c='green')\n",
        "\n",
        "\n",
        "for _ in range(100000): #numero de iteraciones que harémos\n",
        "  for it, w in enumerate(Ws):\n",
        "    Wc = np.copy(Ws)\n",
        "    Wc[it] = Wc[it] + h\n",
        "    derivada = (costo(Wc) -costo (Ws))/h #derivada parcial por diferencias mínimas\n",
        "    grad[it] = derivada\n",
        "    \n",
        "  Ws = Ws - alpha * grad\n",
        "  \n",
        "  if _%100 == 0:\n",
        "    plt.plot(Ws[0],Ws[1], 'k.')\n",
        "    \n",
        "plt.plot(Ws[0],Ws[1],'o',c='red')"
      ],
      "execution_count": 0,
      "outputs": [
        {
          "output_type": "execute_result",
          "data": {
            "text/plain": [
              "[<matplotlib.lines.Line2D at 0x7f355e874438>]"
            ]
          },
          "metadata": {
            "tags": []
          },
          "execution_count": 90
        },
        {
          "output_type": "display_data",
          "data": {
            "image/png": "[encoded data removed]",
            "text/plain": [
              "<Figure size 432x288 with 2 Axes>"
            ]
          },
          "metadata": {
            "tags": []
          }
        }
      ]
    },
    {
      "cell_type": "markdown",
      "metadata": {
        "id": "VZ5NKl4ZmS1P",
        "colab_type": "text"
      },
      "source": [
        "Vemos cómo la lógica detrás del algorítmo de descenso de gradiente no es muy compleja. Sin embargo recordemos que el hiperparámetro $\\alpha$ debe ser elegido por nosotros, un valor muy pequeño hará que se tomen muchas iteraciones o que incluso quede atrapado en un mínimo local fácilmente, un valor muy grande puede hacer que nuestro modelo no converja a un mínimo o que incluso cresca indefinidamente."
      ]
    },
    {
      "cell_type": "markdown",
      "metadata": {
        "id": "5zCOCB-ayf2s",
        "colab_type": "text"
      },
      "source": [
        "# Propagación hacia atrás (Back propagation)\n",
        "\n",
        "Aunque la propagacación hacia atrás se haga de manera automática en la mayoría de los paquetes computacionales es bueno que nos demos una idea de cómo funciona y su importancia dentro del DL."
      ]
    },
    {
      "cell_type": "markdown",
      "metadata": {
        "id": "Sb3TMUa4yjxx",
        "colab_type": "text"
      },
      "source": [
        "Éste método fue introducido a mediados de los años 70, pero no fue hasta el año 86, cuando un [artículo](http://www.nature.com/nature/journal/v323/n6088/pdf/323533a0.pdf) publicado en la revista Nature por David Rumelhart, Geoffrey Hinton, and Ronald Williams; mostrando cómo su implementación en diferentes redes neuronales aumentava su velocidad de entrenamiento respecto a las técnicas usadas en la época, haciendo que problemas intratables hasta el momento se pudieran resolver con relativa fácilidad. Ésto hizo que la propagación hacia atrás se popularizara y que hasta ahora sea la técnica más usada en el entrenamiento de redes neuronales."
      ]
    },
    {
      "cell_type": "markdown",
      "metadata": {
        "id": "nEE2gVNbyr8q",
        "colab_type": "text"
      },
      "source": [
        "La dificultad de hacer la actualización de los pesos de una red profunda radica en el hecho de que cada peso influye en todos los pesos de la capa subsiguiente (y por tanto en todos los demás de forma indirécta), ésto nos lleva a que sea una tarea computacionalmente costosa hacer una actualización de los pesos hacia delante pues una pequeña modificación hacia adelante puede tener consecuencias gigantes en las capas sucesivas.\n",
        "\n",
        "La propagación hacia atrás nos propone usar un método como el gradiente de descenso (iniciando con el error en la capa de salida) e ir propagando los errores hacia atrás como si cada capa fuera la salida de la anterior. Con ello podemos actualizar poco a poco y teniendo en cuenta los errores acumulados por la red. De forma efectiva estámos actualizando los pesos con toda la información disponible sin el riesgo de un efecto descontrolado en los pesos (como sucede en la propagación hacia adelante)."
      ]
    },
    {
      "cell_type": "markdown",
      "metadata": {
        "id": "NOON44Akyyw-",
        "colab_type": "text"
      },
      "source": [
        "Son 4 las ecuaciones fundamentales del método:\n",
        "\n",
        "Denotaremos como $L$ la última capa, $l$ las capas ocultas, $j$ una neurona de la capa $l$, $\\sigma$ las funciones de activación de las capas ocultas y $a_j$ es la salida $j$ de la red ($a$ sería el vector de todas las salidas predichas por la red) y $z_j^l$ es la entrada pesada a la función de activación de la capa $l$ en la neurona $j$.\n",
        "\n",
        "\n",
        "\n",
        "\n",
        "*   Una ecuación para el error de la capa de salida:\n",
        "$$\\delta_j ^L = \\frac{\\partial C}{\\partial a_j}\\sigma(z_j^L)$$\n",
        "*   Una ecuación para el error de una capa ocualta dada por el error de la capa siguiente (error propagado hacia atráss):\n",
        "$$\\delta^l = ((w^{l+1})^T \\delta^{l+1})\\sigma(z^l)$$\n",
        "*   Una ecuación para la derivada de la función de costo para cualquier bias en la red:\n",
        "$$\\frac{\\partial C}{\\partial b_j^l}= \\delta_j^l$$\n",
        "*    Una ecuación para la derivada parial de la función de costo respecto a cualquier peso de la red:\n",
        "$$\\frac{\\partial C}{\\partial{w_{jk}^l}}=a_k^{l-1}\\delta_j^l$$\n",
        "\n",
        "\n",
        "Con las dos primeras ecuaciones nos es posible calcular el error en cualquier neurona, partiendo desde la capa de salida con la primer ecuación y llendo hacia atrás (propagando el error) cuantas veces sea necesario con la segunda ecuación.\n",
        "\n",
        "Con ello y las dos últimas es posible calcular las derivadas del costo en cualquier punto de la red y aplicando el gradiente de descenso tendríamos nuestra actualización de pesos de una forma más rápida y eficiente que con el uso de inversiones matriciales.\n"
      ]
    },
    {
      "cell_type": "markdown",
      "metadata": {
        "id": "ErTbw_G8y5x1",
        "colab_type": "text"
      },
      "source": [
        "Con las ecuaciones a mano es fácil imaginar el algoritmo necesario para realiazar la propagación hacia atrás:\n",
        "*  Cree la activación para la capa de entrada $a_1$.\n",
        "*  Propague hacia adelanta para cada $l= 2,3,...,L$ calculando $z^l = w^la^{l-1}+b^l$ y $\\sigma(z^l)$\n",
        "*   Calcule el error de la capa de salida $\\delta^L$\n",
        "*   Propague hacia atrás para cada $l=l-1, l-2...2$ calculando el correspondiente $\\delta^l$\n",
        "*  Calcule los gradientes correspondientes a cada peso y cada bias y aplique el método de descenso de gradiente para actualizar cada peso.\n",
        "\n",
        "Si bien ésta es algorítmo detrás del método no es necesario aprender los detalles o las ecuaciones, pues éste ya viene integrado en las bibliotecas que usamos para realizar machine learning como Scikitlearn o Keras, sin embargo si es importante comprender su uso y porqué es tan importante y usado por los científicos de datos."
      ]
    },
    {
      "cell_type": "markdown",
      "metadata": {
        "id": "hK2GJfqtLlLL",
        "colab_type": "text"
      },
      "source": [
        "# Perceptrón\n",
        "\n",
        "  \n",
        "A finales de los años 50's fue diseñado por Frank Rosenblant el perceptrón, inspirandose en los trabajos de McCulloh y Pitts, es considerada la arquitectura mas simple en Deep Learning. Básicamente es un modelo de clasificacion lineal, donde usa como función de activación la función de heaviside, la cual recordemos tiene la siguiente forma:\n",
        "\n",
        " $heaviside(x)=\\begin{cases} \n",
        "      0 & x < 0 \\\\\n",
        "      1 & x\\geq 0 \n",
        "   \\end{cases} $\n",
        "\n",
        "\n",
        "Donde el perceptrón es considerado un algoritmo supervisado, cuyos pesos son los $w_{i}$ y el termino $b$ (bias) que podemos ver en las imagenes. Cuando hablamos de clasificación lineal, hacemos referencia a que nuestro perceptrón solo será de utilidad en datasets que sean linealmente separables, es decir, donde podamos encontrar un hiperplano que me permita dividir en dos clases el conjunto de datos, a partir de crear fronteras de división lineal.\n",
        "\n",
        "<div style=\"text-align: center;\">\n",
        "    <img src=\"https://i.imgur.com/vNWd4os.png\" height=\"300px\"/>\n",
        "    <img src=\"https://i.imgur.com/KO0L4tk.png\" />\n",
        "</div>\n",
        "\n",
        "\n",
        "Cuando ingresamos nuestros datos, este realiza una suma pesada definda como:\n",
        "\n",
        "$z=\\sum_{i=1}^{m}x_{i}w_{i}+b$\n",
        "\n",
        "Es decir, cada entrada es multiplicada por un peso(el cual normalmente se inicia de forma aleatoria) y los resultados son sumados junto al b.Donde $b$ es la ordenada al origen (bias). El perceptrón perdió credibilidad por un tiempo pues, si bien podía predecir algunas compuerta lógicas, no era el caso con la  **XOR**.\n",
        "\n",
        "<p><img alt=\"Colaboratory logo\" height=\"200px\" src=\"https://pythonmachinelearning.pro/wp-content/uploads/2017/09/Logic-Gates.png\" align=\"center\" hspace=\"10px\" vspace=\"0px\"></p>\n",
        "\n",
        "<div style=\"text-align: center;\">\n",
        "    <img src=\"https://miro.medium.com/max/299/0*9QQhdtqhL6H2yMJ4.gif\" height=\"200px\"/>\n",
        "    <img src=\"https://miro.medium.com/max/301/0*Ul09ZJh9XpWoE3dQ.gif\" height=\"200px\"/>\n",
        "    <img src=\"https://miro.medium.com/max/299/0*W2evx8WUDNHOFeoA.gif\" height=\"200px\"/>\n",
        "</div> \n",
        "\n",
        "Como se puede ver en el caso de **AND** y **OR** podemos trazar una linea que me permita obtener una clasificación correcta, cosa que no pasa con la **XOR**.\n",
        "\n",
        "\n",
        "Veamos un ejemplo con el siguiente dataset el cual no es linealmente separable:"
      ]
    },
    {
      "cell_type": "code",
      "metadata": {
        "id": "M-bc6GzuLu6E",
        "colab_type": "code",
        "colab": {}
      },
      "source": [
        "from sklearn.linear_model import Perceptron\n",
        "from sklearn.model_selection import train_test_split\n",
        "import matplotlib.pyplot as plt\n",
        "import numpy as np"
      ],
      "execution_count": 0,
      "outputs": []
    },
    {
      "cell_type": "code",
      "metadata": {
        "id": "7q_0eWvSLyLe",
        "colab_type": "code",
        "outputId": "a5a40ca4-62d5-4130-9541-c142bbf8b0ba",
        "colab": {
          "base_uri": "https://localhost:8080/",
          "height": 285
        }
      },
      "source": [
        "from sklearn.datasets import make_moons\n",
        "X,y = make_moons(n_samples=300, noise=0.1,random_state=25)\n",
        "X_train,X_test,y_train,y_test=train_test_split(X,y)\n",
        "plt.scatter(X_train[:, 0], X_train[:, 1],c=y_train, s=50, cmap='rainbow')"
      ],
      "execution_count": 0,
      "outputs": [
        {
          "output_type": "execute_result",
          "data": {
            "text/plain": [
              "<matplotlib.collections.PathCollection at 0x7f35b16534e0>"
            ]
          },
          "metadata": {
            "tags": []
          },
          "execution_count": 24
        },
        {
          "output_type": "display_data",
          "data": {
            "image/png": "[encoded data removed]",
            "text/plain": [
              "<Figure size 432x288 with 1 Axes>"
            ]
          },
          "metadata": {
            "tags": []
          }
        }
      ]
    },
    {
      "cell_type": "code",
      "metadata": {
        "id": "6E1D6LhqL37Q",
        "colab_type": "code",
        "outputId": "96a27cd3-89db-4b83-ccd5-4040a6775062",
        "colab": {
          "base_uri": "https://localhost:8080/",
          "height": 284
        }
      },
      "source": [
        "model = Perceptron(tol=1e-3, random_state=25)\n",
        "model.fit(X_train,y_train)\n",
        "y_hat=model.predict(X_test)\n",
        "plt.scatter(X_test[:,0],X_test[:,1],c=y_hat,cmap='rainbow',alpha=1)\n",
        "plt.scatter(X[:,0],X[:,1],c=y,cmap='plasma',alpha=0.2)"
      ],
      "execution_count": 0,
      "outputs": [
        {
          "output_type": "execute_result",
          "data": {
            "text/plain": [
              "<matplotlib.collections.PathCollection at 0x7f35b15bdcf8>"
            ]
          },
          "metadata": {
            "tags": []
          },
          "execution_count": 25
        },
        {
          "output_type": "display_data",
          "data": {
            "image/png": "[encoded data removed]",
            "text/plain": [
              "<Figure size 432x288 with 1 Axes>"
            ]
          },
          "metadata": {
            "tags": []
          }
        }
      ]
    },
    {
      "cell_type": "markdown",
      "metadata": {
        "id": "ilACmeABMAYo",
        "colab_type": "text"
      },
      "source": [
        "En el gráfico anterior se puede ver que no podemos realizar de forma correcta la división de los datos, pues no se tiene una relación lineal.Veamos como esto funciona en un conjunto de datos linealmente separables "
      ]
    },
    {
      "cell_type": "code",
      "metadata": {
        "id": "fvyvC7n5ME4a",
        "colab_type": "code",
        "colab": {}
      },
      "source": [
        "from sklearn.datasets import make_blobs"
      ],
      "execution_count": 0,
      "outputs": []
    },
    {
      "cell_type": "code",
      "metadata": {
        "id": "ZE9e9VhQMFbO",
        "colab_type": "code",
        "outputId": "8734a408-daf1-411f-9364-497ab9c2ae92",
        "colab": {
          "base_uri": "https://localhost:8080/",
          "height": 282
        }
      },
      "source": [
        "X,y=make_blobs(n_samples=300, n_features=2, centers=2, cluster_std=0.9, center_box=(-10.0, 10.0),random_state=3)\n",
        "X_train,X_test,y_train,y_test=train_test_split(X,y)\n",
        "plt.scatter(X_train[:, 0], X_train[:, 1],c=y_train, s=50, cmap='viridis')"
      ],
      "execution_count": 0,
      "outputs": [
        {
          "output_type": "execute_result",
          "data": {
            "text/plain": [
              "<matplotlib.collections.PathCollection at 0x7f35b1537048>"
            ]
          },
          "metadata": {
            "tags": []
          },
          "execution_count": 27
        },
        {
          "output_type": "display_data",
          "data": {
            "image/png": "[encoded data removed]",
            "text/plain": [
              "<Figure size 432x288 with 1 Axes>"
            ]
          },
          "metadata": {
            "tags": []
          }
        }
      ]
    },
    {
      "cell_type": "code",
      "metadata": {
        "id": "m6U3vY7OMIEt",
        "colab_type": "code",
        "outputId": "7192adb6-5c77-4440-f77f-9856daa35fb9",
        "colab": {
          "base_uri": "https://localhost:8080/",
          "height": 282
        }
      },
      "source": [
        "model = Perceptron(tol=1e-3, random_state=0)\n",
        "model.fit(X_train,y_train)\n",
        "y_hat=model.predict(X_test)\n",
        "plt.scatter(X_test[:,0],X_test[:,1],c=y_hat,cmap='viridis')\n",
        "plt.scatter(X[:,0],X[:,1],c=y,cmap='plasma',alpha=0.2)"
      ],
      "execution_count": 0,
      "outputs": [
        {
          "output_type": "execute_result",
          "data": {
            "text/plain": [
              "<matplotlib.collections.PathCollection at 0x7f35b15fdfd0>"
            ]
          },
          "metadata": {
            "tags": []
          },
          "execution_count": 28
        },
        {
          "output_type": "display_data",
          "data": {
            "image/png": "[encoded data removed]",
            "text/plain": [
              "<Figure size 432x288 with 1 Axes>"
            ]
          },
          "metadata": {
            "tags": []
          }
        }
      ]
    },
    {
      "cell_type": "markdown",
      "metadata": {
        "id": "GGkayUwLMT9z",
        "colab_type": "text"
      },
      "source": [
        "## Perceptrón multicapa (Red Neuronal Artificial)\n",
        "\n",
        "\n",
        "Ahora que sabemos como funciona un perceptrón y sus dificultades al enfrentar datos que no presentan una clasificación lineal, podemos  dar un paso mas allá hasta lo que se conoce como red neuronal artificial, que es basicamente la conexión de varios perceptrones o neuronas a través de capaz en forma de red. Donde recordemos la diferencia entre el perceptrón y una neurona, es su función de activación.\n",
        "\n",
        "<p><img alt=\"Colaboratory logo\" height=\"300px\" src=\"https://s3.amazonaws.com/stackabuse/media/intro-to-neural-networks-scikit-learn-3.png\" align=\"center\" hspace=\"10px\" vspace=\"0px\"></p>\n",
        "\n",
        "El perceptrón multicapa a diferencia del perceptrón trabaja bien en los casos donde tenemos datos separables no lineales.En las redes neuronales tenemos una capa de entrada, otra de salida y una o multiples capaz ocultas.Como se puede ver las conexiones siempre están dirigidas hacia adelante es decir, las neuronas de una capa se conectan con las neuronas de la siguiente capa, de ahí que reciban también el nombre de redes alimentadas hacia adelante o redes ”feedforward\".\n",
        "\n",
        "Los pesos dentro de nuestra red neuronal típicamente están expresados como $w_{ij}^{[l]}$, donde \"$l$\" hace referencia a nuestra capa.Para el caso de varios perceptrones nuestra suma está dada por:\n",
        "\n",
        "\\begin{equation}\n",
        "z_{k}^{[l]}=\\sum_{j=1}^{n^[l-1]}x_{j}^{[l-1]}w^{[l]}_{jk}+b_{k}\n",
        "\\end{equation}\n",
        "\n",
        "Donde tenemos que $n^{[l]}$ hace referencia al número de neuronas en la capa $l$. De forma matricial podemos expresar la anterior ecuación para la capa $l$ como:\n",
        "\n",
        "\\begin{equation}\n",
        "Z^{[l]}=X^{[l-1]}W^{[l]}+B^{[l]}\n",
        "\\end{equation}\n",
        "\n",
        "Donde $X$ es la matriz de tamaño $m\\times n^{[l-1]}$, $W^{[l]}$ de $n^{[l-1]}\\times n^{[l]}$ y $B$ de $1\\times n^{[l]}$. Donde de nuevo $n^{[l]}$ hace referencia al número de neuronas en la capa $l$. Como se puede ver, al momento de operar debe hacerse un broadcasting con $B$ de forma tal que podamos resolver nuestra ecuación matricial.\n",
        "\n",
        "Donde tenemos que $X^{[l]}$ viene dada por \n",
        "\n",
        "\\begin{equation}\n",
        "X^{[l]}=f^{[l]}(Z^{[l]})\n",
        "\\end{equation}\n",
        "\n",
        "Con $f^{[l]}$ la función de activación de la capa $l$."
      ]
    },
    {
      "cell_type": "markdown",
      "metadata": {
        "id": "CUzVK2ulMdT5",
        "colab_type": "text"
      },
      "source": [
        "###Ejercicio\n",
        "\n",
        "Con los siguientes vector, escalar y los datos de entrada de la compuerta lógica **AND**, escribir una función que regrese las salidas correctas, usando un perceptrón. \n",
        "\n",
        "$W =\n",
        " \\begin{pmatrix}\n",
        "  1  \\\\\n",
        "  1 \\\\\n",
        " \\end{pmatrix}$\n",
        "\n",
        "$B=-1.5$"
      ]
    },
    {
      "cell_type": "markdown",
      "metadata": {
        "id": "nE4bxg1AMiOM",
        "colab_type": "text"
      },
      "source": [
        "Haga click **aquí** si tiene problemas con la solución:\n",
        "\n",
        "<!-----\n",
        "import numpy as np\n",
        "\n",
        "def And(X,W,B):\n",
        "  X1=np.heaviside(np.dot(X,W)+B,1)\n",
        "  return(X1)\n",
        "  \n",
        "X=np.array([[0,0],[0,1],[1,0],[1,1]])\n",
        "W=np.array([1,1])\n",
        "B=-1.5\n",
        "y=And(X,W,B)\n",
        "print(y)\n",
        "----->"
      ]
    },
    {
      "cell_type": "markdown",
      "metadata": {
        "id": "V9uXGH6Vazft",
        "colab_type": "text"
      },
      "source": [
        "# Funciones de activación:\n",
        "\n",
        "El proceso que describimos de los pasos de una neurona consisten en:\n",
        "\n",
        "- Entrada de los datos, o vector de características.\n",
        "\n",
        "- Ajuste lineal de los datos.\n",
        "\n",
        "- Mapeo del ajuste a una función no lineal.\n",
        "\n",
        "Gráficamente, los pasos anterior se ilustran en la siguiente figura:\n",
        "\n",
        "\n",
        "<img alt=\"Colaboratory logo\" height=\"220px\" src=\"https://github.com/ssanchezgoe/diplomado_udea/blob/master/image/nn_rep.png?raw=true\" align=\"center\">\n",
        "\n",
        "En este ejemplo, se ha definido en la neurona una función de activación sigmoide $\\sigma(z)$. En red multicapas, el \n",
        "problema se ilustra gráficamente como:\n",
        "\n",
        "<img height=330px src=\"https://github.com/ssanchezgoe/diplomado_udea/blob/master/image/msNN_v2.png?raw=true\" align=\"center\">\n",
        "\n",
        "en donde $a_i^{[l]}$ representa el resultado de aplicar la función de activación en la i-ésima neurona de la l-ésima capa. \n",
        "\n",
        "Teniendo en cuenta que una neurona consite en la composición de funciónes de un ajuste lineal y una activación, la salida de todos los ajuste de las neuronas de la capa oculta puede ser expresada en un vector de la forma:\n",
        "\n",
        "$$z^{[1]}=W^{[1]}x+b^{[1]}\\hspace{0.5cm}(1)$$\n",
        "\n",
        "y que corresponde al ajuste lineal de cada neurona de la capa (capa 1 en este caso), seguida de un activación:\n",
        "\n",
        "$$a^{[1]}=g^{[1]}(z^{[1]})\\hspace{0.5cm}(2)$$\n",
        "\n",
        "Similarmente, para una segunda capa, procesaría las activaciones $a^{[1]}$ generadas a la salida de la capa 1, nuevamente, realizando un ajuste lineal seguido de una activación. Matematicamente esto equivale a:\n",
        "\n",
        "$$z^{[2]}=W^{[2]}a^{[1]}+b^{[2]}\\hspace{0.5cm}(3)$$\n",
        "\n",
        "$$a^{[2]}=g^{[2]}(z^{[2]})\\hspace{0.5cm}(4)$$\n",
        "\n",
        "Estas cuatro ecuaciones caracterizan, escencialmente, a una red neuronal.\n",
        "\n",
        "Respecto al funcionamiento de la red y la función de activación asociada a una neurona nos surgen los siguientes interrogantes principales:\n",
        "\n",
        "1. ¿Cuál es la necesidad de introducir una función de activación por neurona?\n",
        "\n",
        "2. ¿Cuáles son las diferentes funciones de activación?\n",
        "\n",
        "3. ¿Que función de activación debemos usar en las diferentes capas?.\n",
        "\n",
        "4. ¿Cómo le indicamos a `keras` las funciones de activación por capas?."
      ]
    },
    {
      "cell_type": "markdown",
      "metadata": {
        "id": "jF4H6K9OamGv",
        "colab_type": "text"
      },
      "source": [
        "## 1. No linealidad en las redes neuronales: necesidad de funciones de activación.\n",
        "\n",
        "Veamos que pasa si asumimos una respuesta lineal de las reuronas (dada a partir de le función de activación) de una red neuronal; matemáticamente, esto quiere decir,\n",
        "\n",
        "$$g(z)=z \\hspace{0.5cm} (5)$$\n",
        "\n",
        "Introduciendo esta ecuación en las ecuación (2) tenemos que:\n",
        "\n",
        "$$a^{[1]}=z^{[1]}\\hspace{0.5cm}(2a)$$\n",
        "\n",
        "por lo que, de las ecuacion (1), (3) y (4) tenemos que: \n",
        "\n",
        "$$a^{[2]}=z^{[2]}=W^{[2]}(W^{[1]}x+b^{[1]})+b^{[2]}\\hspace{0.5cm}(3a)$$\n",
        "\n",
        "Reagrupando, llegamos a la siguiente expresión:\n",
        "\n",
        "$$a^{[2]}=z^{[2]}=\\underbrace{W^{[2]}W^{[1]}}_{W'}x+\\underbrace{(W^{[2]}b^{[1]}+b^{[2]})}_{b'}\\hspace{0.5cm}(3b)$$\n",
        "\n",
        "Por lo tanto la expresión (3b) se reduciría, nuevamente, a un ajuste lineal:\n",
        "\n",
        "$$a^{[2]}=z^{[2]}=W'x+b'$$\n",
        "\n",
        "Por lo tanto, si tenemos una red neuronal con muchas capas, todas con una función de activación lineal, o lo que es lo mismo, sin función de activación, colapsan a una sola neurona en la que se realiza un ajuste linea en donde el modelo no \"aprende\" nada nuevo a medida que adicionamos capas.\n",
        "\n",
        "La **función de activación** es la encargada de introducir un comportamiento no lineal, con el fin de poder \"aprender\" algo de los datos de entrada. En resumen, podemos afirmar que:\n",
        "\n",
        "Las funciones de activacción se utilizan para propagra la salida de los nodos de un capa hacia la siguiente capa. Las funciones de activación son funciones que van de los escalares a los escalares, produciendo la activación de la neurona. Las funciones de activación en las capas ocultas de las redes neuronales se usan con el fin de introducir una no-liniaridad en las capacidades de modelado del la red. \n",
        "\n",
        "De esta forma, hemos dado respuesta a la pregunta 1 sobre la necesidad de introducir dichas funciones de activación. Veamos ahora cuales son dichas funciones de activación."
      ]
    },
    {
      "cell_type": "markdown",
      "metadata": {
        "id": "6AwjaN6ZamGw",
        "colab_type": "text"
      },
      "source": [
        "## Tipos de funciones de activación:\n",
        "\n",
        "### Lineal: \n",
        "\n",
        "Una transformación lineal, la cual se muestra en la siguiente figura, consiste, básicamente, en la función identidad, en donde la variable dependiente tiene una relación directa y proporcional con la variable independiente. En términos prácticos, lo anterior significa que una función de activación lineal pasa la señal sin realizar un cambio sobre esta.\n",
        "\n",
        "<img height=300px src=\"https://github.com/ssanchezgoe/diplomado_udea/blob/master/image/linear_af.png?raw=true\">\n",
        "\n",
        "Este el típo de activación que se usa en la capa de entrada de las redes neuronales."
      ]
    },
    {
      "cell_type": "markdown",
      "metadata": {
        "id": "6MUWXGgUamGx",
        "colab_type": "text"
      },
      "source": [
        "### Sigmoide:\n",
        "\n",
        "Como todas las transformaciones logística, las sigmoides puede reducir la cantidad de valores extremos o outliers en los datos sin eliminarlos. En la siguiente figura se ilustra dicha función sigmoide:\n",
        "\n",
        "<img height=300px src=\"https://github.com/ssanchezgoe/diplomado_udea/blob/master/image/sigmoid_af.png?raw=true\">\n",
        "\n",
        "Una función sigmoide convierde una variable independiente de rango infinito en probabilidades con un rango entre 0 y 1. La mayoria de las salidas serán cercanas a 0 o 1, que corresponden a zonas de saturación.\n",
        "\n",
        "La función de activación sigmoide devuelve una probabilidad independiente para cada clase."
      ]
    },
    {
      "cell_type": "markdown",
      "metadata": {
        "id": "GY0FiXdOamGy",
        "colab_type": "text"
      },
      "source": [
        "### Tanh\n",
        "\n",
        "Corresponde a una función trigronométrica hiperbólica (ver siguiente figura), la cual representa la cual es igual a:\n",
        "\n",
        "$$\\text{tanh}(x) = \\frac{\\text{sinh(x)}}{\\text{cosh(x)}}=\\frac{e^{x}-e^{-x}}{e^{x}+e^{-x}}$$\n",
        "\n",
        "<img height=300px src=\"https://github.com/ssanchezgoe/diplomado_udea/blob/master/image/tanh_af.png?raw=true\">\n",
        "\n",
        "A diferencia de la función sigmoide, el rango de salida de tanh varía entre -1 y 1. La ventaja de tanh es puede tratar los números negativos de forma más eficiente que la función sigmoide."
      ]
    },
    {
      "cell_type": "markdown",
      "metadata": {
        "id": "-mh_Ezs0amGy",
        "colab_type": "text"
      },
      "source": [
        "### ReLU: Rectified Linear Unit (Unidad Rectificadad Lineal)\n",
        "\n",
        "La unidad rectificada lineal es una trasformación más intersante que activa un nodo solo si la entrada se encuentra por encima de cierta cantidad. Si la entrada está por debajo de zero, la salida es cero, pero si la entrada alcanza un valor umbral, la salida tiene una relación lineal con la valriabe dependiente $\\text{max}(0,x)$, como se observa en la siguiente figura:\n",
        "\n",
        "<img height=350px src=\"https://github.com/ssanchezgoe/diplomado_udea/blob/master/image/relu_af.png?raw=true\">\n",
        "\n",
        "Las funciones de activaciones ReLU represetan actualmente el estado de arte en la aplicación de funciones de activación, ya que han demostrado un buen desempeño en diferentes situaciones. Dado que el gradiente de la ReLU es ceero o constante, permite evitar el problema del desvanecimiento del gradiente. Las funciones de activación ReLu han demostrado un mejor entrenamiento en la práctica que las funciones de activación sigmoidea. \n",
        "\n",
        "Las funciones de activación ReLU se usan, normalmente, en las capas ocultas.\n",
        "\n",
        "Existen varias funciones de activación más, no obstante, nos centraremos a continuación en la descrisición de una función de activación usada en la capa de salida para la clasificación multiclase mediante una red neuronal, conocida como Softmax."
      ]
    },
    {
      "cell_type": "markdown",
      "metadata": {
        "id": "nXz0g9h_amGz",
        "colab_type": "text"
      },
      "source": [
        "## Softmax\n",
        "\n",
        "La función de activación Softmax representa una generalización de la regresión logística en el sentido que puede ser apllicada a un conjunto continues de datos (en lugar de una clasificación binaria) y puede contener múltiples fronteras de desición. Esta función maneja sistemas multinomiales para el etiquetado. Softmax es una función que normalmente se usa en la capa de salida de un clasificador.\n",
        "\n",
        "La función de activación Softmax devuelve la distribución de probablilidades de clases mutuamente excluyentes.\n",
        "\n",
        "Consideremos el siguiente ejemplo en donde se ilustra, entre otra cosas la definición de la función SoftMax:\n",
        "\n",
        "<img height=200px src=\"https://miro.medium.com/max/906/1*670CdxchunD-yAuUWdI7Bw.png\">\n",
        "\n",
        "En deep learning, el térno capa logit se usa para la última capa de neuronas de la red neuronal para el problema de clasificación que produce unos valores de predicción \"crudos\" de valores reales que varian en el intervalo $(-\\infty,\\infty)$. En concreto, las cantidades logits son los puntajes crudos de la ultima capa de la red neuronal, antes de que se les aplique la activación. \n",
        "\n",
        "Apliquemos definición de la función softmax para desarrollar una intuición de lo que esta significa:"
      ]
    },
    {
      "cell_type": "code",
      "metadata": {
        "id": "drfbER-CamG0",
        "colab_type": "code",
        "outputId": "0e198d7c-5199-46f7-ef16-2f921c8dbf6e",
        "colab": {
          "base_uri": "https://localhost:8080/",
          "height": 34
        }
      },
      "source": [
        "logits = [2.0, 1.0, 0.1] # Definición de los valores logits\n",
        "exps = [np.exp(i) for i in logits] # Calculo de los numeradores de la ecuación.\n",
        "\n",
        "sum_of_exps = sum(exps)# Cálculo del denominador\n",
        "\n",
        "softmax = [j/sum_of_exps for j in exps] # Cálculo del denominador\n",
        "\n",
        "softmax"
      ],
      "execution_count": 0,
      "outputs": [
        {
          "output_type": "execute_result",
          "data": {
            "text/plain": [
              "[0.6590011388859679, 0.2424329707047139, 0.09856589040931818]"
            ]
          },
          "metadata": {
            "tags": []
          },
          "execution_count": 29
        }
      ]
    },
    {
      "cell_type": "code",
      "metadata": {
        "id": "GQWGC06kamG4",
        "colab_type": "code",
        "outputId": "89abeae5-fdd3-493b-a268-2f1b51058f4d",
        "colab": {
          "base_uri": "https://localhost:8080/",
          "height": 34
        }
      },
      "source": [
        "sum(softmax)"
      ],
      "execution_count": 0,
      "outputs": [
        {
          "output_type": "execute_result",
          "data": {
            "text/plain": [
              "1.0"
            ]
          },
          "metadata": {
            "tags": []
          },
          "execution_count": 30
        }
      ]
    },
    {
      "cell_type": "markdown",
      "metadata": {
        "id": "5_r1UbfeamG7",
        "colab_type": "text"
      },
      "source": [
        "Si cada logit representa el punta en crudo asociado a una clase (grande, mediano, pequeño, por ejemplo), entoncees el valor sofmax asociado a cada clase representa la probabilidad o porcentaje de pertenencia a esa clase. "
      ]
    },
    {
      "cell_type": "markdown",
      "metadata": {
        "id": "FpdFl0p8amG8",
        "colab_type": "text"
      },
      "source": [
        "## 4. Como usar las diferentes funciones de activación en keras:\n",
        "\n",
        "Para consultar las diferentes formas puede acceder a la documentación de kerras [aquí](https://keras.io/activations/).\n",
        "\n",
        "Existen formas formas para usar las funciones de activación en `keras`:\n",
        "\n",
        "1. A través de una capa, usando el método `Activation`. \n",
        "2. Mediante el argumento `activation` soportado por todas las capas posteriores.\n",
        "3. Mediante una función `TensorFlow/Theano/CNTK` por elementos."
      ]
    },
    {
      "cell_type": "code",
      "metadata": {
        "id": "wqX2KW5lamG9",
        "colab_type": "code",
        "colab": {}
      },
      "source": [
        "import numpy as np\n",
        "from tensorflow import keras"
      ],
      "execution_count": 0,
      "outputs": []
    },
    {
      "cell_type": "code",
      "metadata": {
        "id": "A2WA-booamHC",
        "colab_type": "code",
        "outputId": "e6d8e66b-60dc-413f-93dd-68b5e73f7b5b",
        "colab": {
          "base_uri": "https://localhost:8080/",
          "height": 255
        }
      },
      "source": [
        "# 1: A través de una capa medidante el método Activación:\n",
        "modelA = keras.models.Sequential()\n",
        "modelA.add(keras.layers.Dense(32, input_shape=(16,)))\n",
        "modelA.add(keras.layers.Dense(64))\n",
        "modelA.add(keras.layers.Activation('tanh'))#  Capa activación\n",
        "modelA.summary()"
      ],
      "execution_count": 0,
      "outputs": [
        {
          "output_type": "stream",
          "text": [
            "Model: \"sequential\"\n",
            "_________________________________________________________________\n",
            "Layer (type)                 Output Shape              Param #   \n",
            "=================================================================\n",
            "dense (Dense)                (None, 32)                544       \n",
            "_________________________________________________________________\n",
            "dense_1 (Dense)              (None, 64)                2112      \n",
            "_________________________________________________________________\n",
            "activation (Activation)      (None, 64)                0         \n",
            "=================================================================\n",
            "Total params: 2,656\n",
            "Trainable params: 2,656\n",
            "Non-trainable params: 0\n",
            "_________________________________________________________________\n"
          ],
          "name": "stdout"
        }
      ]
    },
    {
      "cell_type": "code",
      "metadata": {
        "id": "RD6O6ZSgamHG",
        "colab_type": "code",
        "outputId": "eb94c77f-a9f4-486e-e106-5e6b0865a050",
        "colab": {
          "base_uri": "https://localhost:8080/",
          "height": 221
        }
      },
      "source": [
        "# Mediante el argumento activation\n",
        "modelB = keras.models.Sequential()\n",
        "modelB.add(keras.layers.Dense(32, input_shape=(16,)))\n",
        "modelB.add(keras.layers.Dense(64, activation='tanh'))\n",
        "modelB.summary()"
      ],
      "execution_count": 0,
      "outputs": [
        {
          "output_type": "stream",
          "text": [
            "Model: \"sequential_1\"\n",
            "_________________________________________________________________\n",
            "Layer (type)                 Output Shape              Param #   \n",
            "=================================================================\n",
            "dense_2 (Dense)              (None, 32)                544       \n",
            "_________________________________________________________________\n",
            "dense_3 (Dense)              (None, 64)                2112      \n",
            "=================================================================\n",
            "Total params: 2,656\n",
            "Trainable params: 2,656\n",
            "Non-trainable params: 0\n",
            "_________________________________________________________________\n"
          ],
          "name": "stdout"
        }
      ]
    },
    {
      "cell_type": "code",
      "metadata": {
        "id": "WmcOlZrWamHM",
        "colab_type": "code",
        "outputId": "b0787d69-2563-422d-e152-ab72ecd86b73",
        "colab": {
          "base_uri": "https://localhost:8080/",
          "height": 238
        }
      },
      "source": [
        "# Mediante una función de Tensor-flow por elementos.\n",
        "from keras import backend as K\n",
        "modelC = keras.models.Sequential()\n",
        "modelC.add(keras.layers.Dense(32, input_shape=(16,)))\n",
        "modelC.add(keras.layers.Dense(64, activation=K.tanh))\n",
        "modelC.summary()"
      ],
      "execution_count": 0,
      "outputs": [
        {
          "output_type": "stream",
          "text": [
            "Model: \"sequential_2\"\n",
            "_________________________________________________________________\n",
            "Layer (type)                 Output Shape              Param #   \n",
            "=================================================================\n",
            "dense_4 (Dense)              (None, 32)                544       \n",
            "_________________________________________________________________\n",
            "dense_5 (Dense)              (None, 64)                2112      \n",
            "=================================================================\n",
            "Total params: 2,656\n",
            "Trainable params: 2,656\n",
            "Non-trainable params: 0\n",
            "_________________________________________________________________\n"
          ],
          "name": "stdout"
        },
        {
          "output_type": "stream",
          "text": [
            "Using TensorFlow backend.\n"
          ],
          "name": "stderr"
        }
      ]
    },
    {
      "cell_type": "markdown",
      "metadata": {
        "id": "OToeFvdaamHS",
        "colab_type": "text"
      },
      "source": [
        "### Funciones de activación principales en `Keras`"
      ]
    },
    {
      "cell_type": "code",
      "metadata": {
        "id": "4Dz39t-camHS",
        "colab_type": "code",
        "outputId": "af1ff2b2-c448-4120-b088-d24676585596",
        "colab": {
          "base_uri": "https://localhost:8080/",
          "height": 282
        }
      },
      "source": [
        "# Relu\n",
        "import matplotlib.pyplot as plt\n",
        "\n",
        "x=np.random.uniform(low=-10.0, high=10, size=(2000,))\n",
        "y=keras.activations.relu(x, alpha=0.0, max_value=None, threshold=0)\n",
        "\n",
        "plt.plot(x,y,'.')"
      ],
      "execution_count": 0,
      "outputs": [
        {
          "output_type": "execute_result",
          "data": {
            "text/plain": [
              "[<matplotlib.lines.Line2D at 0x7f3563ba25f8>]"
            ]
          },
          "metadata": {
            "tags": []
          },
          "execution_count": 35
        },
        {
          "output_type": "display_data",
          "data": {
            "image/png": "[encoded data removed]",
            "text/plain": [
              "<Figure size 432x288 with 1 Axes>"
            ]
          },
          "metadata": {
            "tags": []
          }
        }
      ]
    },
    {
      "cell_type": "code",
      "metadata": {
        "id": "BkBIZg35amHV",
        "colab_type": "code",
        "outputId": "76b5b0d1-9f1b-4d1a-dd4f-24a21b3be125",
        "colab": {
          "base_uri": "https://localhost:8080/",
          "height": 282
        }
      },
      "source": [
        "# tanh\n",
        "\n",
        "y=keras.activations.tanh(x)\n",
        "\n",
        "plt.plot(x,y,'.')"
      ],
      "execution_count": 0,
      "outputs": [
        {
          "output_type": "execute_result",
          "data": {
            "text/plain": [
              "[<matplotlib.lines.Line2D at 0x7f3563b92fd0>]"
            ]
          },
          "metadata": {
            "tags": []
          },
          "execution_count": 36
        },
        {
          "output_type": "display_data",
          "data": {
            "image/png": "[encoded data removed]",
            "text/plain": [
              "<Figure size 432x288 with 1 Axes>"
            ]
          },
          "metadata": {
            "tags": []
          }
        }
      ]
    },
    {
      "cell_type": "code",
      "metadata": {
        "id": "W2egi0PQamHY",
        "colab_type": "code",
        "outputId": "082dea24-1672-43b0-a4f7-c35ec7da88ae",
        "colab": {
          "base_uri": "https://localhost:8080/",
          "height": 282
        }
      },
      "source": [
        "#sigmoid\n",
        "\n",
        "y=keras.activations.sigmoid(x)\n",
        "\n",
        "plt.plot(x,y,'.')\n"
      ],
      "execution_count": 0,
      "outputs": [
        {
          "output_type": "execute_result",
          "data": {
            "text/plain": [
              "[<matplotlib.lines.Line2D at 0x7f3563b060f0>]"
            ]
          },
          "metadata": {
            "tags": []
          },
          "execution_count": 37
        },
        {
          "output_type": "display_data",
          "data": {
            "image/png": "[encoded data removed]",
            "text/plain": [
              "<Figure size 432x288 with 1 Axes>"
            ]
          },
          "metadata": {
            "tags": []
          }
        }
      ]
    },
    {
      "cell_type": "code",
      "metadata": {
        "id": "2F8jkHMRamHa",
        "colab_type": "code",
        "outputId": "6f67e5b5-710c-4699-d1c9-48d3f8d7b5d0",
        "colab": {
          "base_uri": "https://localhost:8080/",
          "height": 282
        }
      },
      "source": [
        "# elu\n",
        "y=keras.activations.elu(x, alpha=1.0)\n",
        "plt.plot(x,y,'.')"
      ],
      "execution_count": 0,
      "outputs": [
        {
          "output_type": "execute_result",
          "data": {
            "text/plain": [
              "[<matplotlib.lines.Line2D at 0x7f3563a69320>]"
            ]
          },
          "metadata": {
            "tags": []
          },
          "execution_count": 38
        },
        {
          "output_type": "display_data",
          "data": {
            "image/png": "[encoded data removed]",
            "text/plain": [
              "<Figure size 432x288 with 1 Axes>"
            ]
          },
          "metadata": {
            "tags": []
          }
        }
      ]
    },
    {
      "cell_type": "code",
      "metadata": {
        "id": "CukX31wAamHe",
        "colab_type": "code",
        "outputId": "dd957114-7a31-4dc4-e07b-c7c246654596",
        "colab": {
          "base_uri": "https://localhost:8080/",
          "height": 282
        }
      },
      "source": [
        "# Exponential\n",
        "y=keras.activations.exponential(x)\n",
        "plt.plot(x,y,'.')"
      ],
      "execution_count": 0,
      "outputs": [
        {
          "output_type": "execute_result",
          "data": {
            "text/plain": [
              "[<matplotlib.lines.Line2D at 0x7f3563a4f358>]"
            ]
          },
          "metadata": {
            "tags": []
          },
          "execution_count": 39
        },
        {
          "output_type": "display_data",
          "data": {
            "image/png": "[encoded data removed]",
            "text/plain": [
              "<Figure size 432x288 with 1 Axes>"
            ]
          },
          "metadata": {
            "tags": []
          }
        }
      ]
    },
    {
      "cell_type": "code",
      "metadata": {
        "id": "6qldiTnfamHg",
        "colab_type": "code",
        "outputId": "02c502b6-7db1-429c-c193-bfd9d9d050f5",
        "colab": {
          "base_uri": "https://localhost:8080/",
          "height": 282
        }
      },
      "source": [
        "# Selu \n",
        "y=keras.activations.selu(x)\n",
        "plt.plot(x,y,'.')"
      ],
      "execution_count": 0,
      "outputs": [
        {
          "output_type": "execute_result",
          "data": {
            "text/plain": [
              "[<matplotlib.lines.Line2D at 0x7f35639acf60>]"
            ]
          },
          "metadata": {
            "tags": []
          },
          "execution_count": 40
        },
        {
          "output_type": "display_data",
          "data": {
            "image/png": "[encoded data removed]",
            "text/plain": [
              "<Figure size 432x288 with 1 Axes>"
            ]
          },
          "metadata": {
            "tags": []
          }
        }
      ]
    },
    {
      "cell_type": "code",
      "metadata": {
        "id": "s9THrVDXamHi",
        "colab_type": "code",
        "outputId": "2341249e-405f-4979-9e13-e2497f0c5a7e",
        "colab": {
          "base_uri": "https://localhost:8080/",
          "height": 282
        }
      },
      "source": [
        "# Linear\n",
        "y=keras.activations.linear(x)\n",
        "plt.plot(x,y,'.')"
      ],
      "execution_count": 0,
      "outputs": [
        {
          "output_type": "execute_result",
          "data": {
            "text/plain": [
              "[<matplotlib.lines.Line2D at 0x7f3563920438>]"
            ]
          },
          "metadata": {
            "tags": []
          },
          "execution_count": 41
        },
        {
          "output_type": "display_data",
          "data": {
            "image/png": "[encoded data removed]",
            "text/plain": [
              "<Figure size 432x288 with 1 Axes>"
            ]
          },
          "metadata": {
            "tags": []
          }
        }
      ]
    },
    {
      "cell_type": "code",
      "metadata": {
        "id": "KqeoGAw-amHl",
        "colab_type": "code",
        "outputId": "c77f5a5f-d7c0-4784-d89e-e383089b4e64",
        "colab": {
          "base_uri": "https://localhost:8080/",
          "height": 282
        }
      },
      "source": [
        "y=keras.activations.softplus(x)\n",
        "plt.plot(x,y,'.')"
      ],
      "execution_count": 0,
      "outputs": [
        {
          "output_type": "execute_result",
          "data": {
            "text/plain": [
              "[<matplotlib.lines.Line2D at 0x7f356390f630>]"
            ]
          },
          "metadata": {
            "tags": []
          },
          "execution_count": 42
        },
        {
          "output_type": "display_data",
          "data": {
            "image/png": "[encoded data removed]",
            "text/plain": [
              "<Figure size 432x288 with 1 Axes>"
            ]
          },
          "metadata": {
            "tags": []
          }
        }
      ]
    },
    {
      "cell_type": "code",
      "metadata": {
        "id": "ZtqTEOdEamHq",
        "colab_type": "code",
        "outputId": "67139643-998a-4c15-e1f1-c63bfd8e7c30",
        "colab": {
          "base_uri": "https://localhost:8080/",
          "height": 282
        }
      },
      "source": [
        "y=keras.activations.softsign(x)\n",
        "plt.plot(x,y,'.')"
      ],
      "execution_count": 0,
      "outputs": [
        {
          "output_type": "execute_result",
          "data": {
            "text/plain": [
              "[<matplotlib.lines.Line2D at 0x7f35638766d8>]"
            ]
          },
          "metadata": {
            "tags": []
          },
          "execution_count": 43
        },
        {
          "output_type": "display_data",
          "data": {
            "image/png": "[encoded data removed]",
            "text/plain": [
              "<Figure size 432x288 with 1 Axes>"
            ]
          },
          "metadata": {
            "tags": []
          }
        }
      ]
    },
    {
      "cell_type": "markdown",
      "metadata": {
        "id": "zqhmu9aDoVs6",
        "colab_type": "text"
      },
      "source": [
        "# Problema \n",
        "\n",
        "Implementar un modelo de red neuronal usando Keras para predecir los sobrevivientes del titanic. El modelo debe tener dos capas ocultas densas con 16 neuronas cada una y funcion de activacion relu. como optimizador usar descenso del gradiente estocástico como función de pérdida usar binary_crossentropy y como métrica usar accuracy. "
      ]
    },
    {
      "cell_type": "markdown",
      "metadata": {
        "id": "YbB5-pKvMcoi",
        "colab_type": "text"
      },
      "source": [
        "# Solucion \n",
        "\n"
      ]
    },
    {
      "cell_type": "markdown",
      "metadata": {
        "colab_type": "text",
        "id": "AaIpHZjTNyn0"
      },
      "source": [
        "Importemos algunas de las librerias que nos seran de utilidad"
      ]
    },
    {
      "cell_type": "code",
      "metadata": {
        "colab_type": "code",
        "id": "6ZjuI3B3NyoD",
        "colab": {}
      },
      "source": [
        "import numpy as np\n",
        "import pandas as pd\n",
        "import matplotlib.pyplot as plt\n",
        "import seaborn as sns; sns.set()"
      ],
      "execution_count": 0,
      "outputs": []
    },
    {
      "cell_type": "code",
      "metadata": {
        "colab_type": "code",
        "id": "efGz10euNyoH",
        "colab": {}
      },
      "source": [
        "data = pd.read_csv('https://raw.githubusercontent.com/diplomado-bigdata-machinelearning-udea/Curso2/master/Datasets/titanic.csv')"
      ],
      "execution_count": 0,
      "outputs": []
    },
    {
      "cell_type": "markdown",
      "metadata": {
        "colab_type": "text",
        "id": "mrS0wQH0NyoK"
      },
      "source": [
        "Inspeccionamos un poco el dataset"
      ]
    },
    {
      "cell_type": "code",
      "metadata": {
        "colab_type": "code",
        "id": "0YNntF3NNyoL",
        "outputId": "19510506-7880-44bf-e412-852ae4318797",
        "colab": {
          "base_uri": "https://localhost:8080/",
          "height": 34
        }
      },
      "source": [
        "data.shape"
      ],
      "execution_count": 0,
      "outputs": [
        {
          "output_type": "execute_result",
          "data": {
            "text/plain": [
              "(891, 12)"
            ]
          },
          "metadata": {
            "tags": []
          },
          "execution_count": 93
        }
      ]
    },
    {
      "cell_type": "code",
      "metadata": {
        "colab_type": "code",
        "id": "EkfBf9TgNyoV",
        "outputId": "15ceed12-f87f-49c4-a06c-9a8f47656b79",
        "colab": {
          "base_uri": "https://localhost:8080/",
          "height": 238
        }
      },
      "source": [
        "data.isnull().any()"
      ],
      "execution_count": 0,
      "outputs": [
        {
          "output_type": "execute_result",
          "data": {
            "text/plain": [
              "PassengerId    False\n",
              "Survived       False\n",
              "Pclass         False\n",
              "Name           False\n",
              "Sex            False\n",
              "Age             True\n",
              "SibSp          False\n",
              "Parch          False\n",
              "Ticket         False\n",
              "Fare           False\n",
              "Cabin           True\n",
              "Embarked        True\n",
              "dtype: bool"
            ]
          },
          "metadata": {
            "tags": []
          },
          "execution_count": 94
        }
      ]
    },
    {
      "cell_type": "code",
      "metadata": {
        "colab_type": "code",
        "id": "qvT1AhKcNyoY",
        "outputId": "a9e930da-f335-42d4-f056-2aac2cfc1bfd",
        "colab": {
          "base_uri": "https://localhost:8080/",
          "height": 204
        }
      },
      "source": [
        "data.sample(5)"
      ],
      "execution_count": 0,
      "outputs": [
        {
          "output_type": "execute_result",
          "data": {
            "text/html": [
              "<div>\n",
              "<style scoped>\n",
              "    .dataframe tbody tr th:only-of-type {\n",
              "        vertical-align: middle;\n",
              "    }\n",
              "\n",
              "    .dataframe tbody tr th {\n",
              "        vertical-align: top;\n",
              "    }\n",
              "\n",
              "    .dataframe thead th {\n",
              "        text-align: right;\n",
              "    }\n",
              "</style>\n",
              "<table border=\"1\" class=\"dataframe\">\n",
              "  <thead>\n",
              "    <tr style=\"text-align: right;\">\n",
              "      <th></th>\n",
              "      <th>PassengerId</th>\n",
              "      <th>Survived</th>\n",
              "      <th>Pclass</th>\n",
              "      <th>Name</th>\n",
              "      <th>Sex</th>\n",
              "      <th>Age</th>\n",
              "      <th>SibSp</th>\n",
              "      <th>Parch</th>\n",
              "      <th>Ticket</th>\n",
              "      <th>Fare</th>\n",
              "      <th>Cabin</th>\n",
              "      <th>Embarked</th>\n",
              "    </tr>\n",
              "  </thead>\n",
              "  <tbody>\n",
              "    <tr>\n",
              "      <th>715</th>\n",
              "      <td>716</td>\n",
              "      <td>0</td>\n",
              "      <td>3</td>\n",
              "      <td>Soholt, Mr. Peter Andreas Lauritz Andersen</td>\n",
              "      <td>male</td>\n",
              "      <td>19.0</td>\n",
              "      <td>0</td>\n",
              "      <td>0</td>\n",
              "      <td>348124</td>\n",
              "      <td>7.6500</td>\n",
              "      <td>F G73</td>\n",
              "      <td>S</td>\n",
              "    </tr>\n",
              "    <tr>\n",
              "      <th>4</th>\n",
              "      <td>5</td>\n",
              "      <td>0</td>\n",
              "      <td>3</td>\n",
              "      <td>Allen, Mr. William Henry</td>\n",
              "      <td>male</td>\n",
              "      <td>35.0</td>\n",
              "      <td>0</td>\n",
              "      <td>0</td>\n",
              "      <td>373450</td>\n",
              "      <td>8.0500</td>\n",
              "      <td>NaN</td>\n",
              "      <td>S</td>\n",
              "    </tr>\n",
              "    <tr>\n",
              "      <th>107</th>\n",
              "      <td>108</td>\n",
              "      <td>1</td>\n",
              "      <td>3</td>\n",
              "      <td>Moss, Mr. Albert Johan</td>\n",
              "      <td>male</td>\n",
              "      <td>NaN</td>\n",
              "      <td>0</td>\n",
              "      <td>0</td>\n",
              "      <td>312991</td>\n",
              "      <td>7.7750</td>\n",
              "      <td>NaN</td>\n",
              "      <td>S</td>\n",
              "    </tr>\n",
              "    <tr>\n",
              "      <th>205</th>\n",
              "      <td>206</td>\n",
              "      <td>0</td>\n",
              "      <td>3</td>\n",
              "      <td>Strom, Miss. Telma Matilda</td>\n",
              "      <td>female</td>\n",
              "      <td>2.0</td>\n",
              "      <td>0</td>\n",
              "      <td>1</td>\n",
              "      <td>347054</td>\n",
              "      <td>10.4625</td>\n",
              "      <td>G6</td>\n",
              "      <td>S</td>\n",
              "    </tr>\n",
              "    <tr>\n",
              "      <th>727</th>\n",
              "      <td>728</td>\n",
              "      <td>1</td>\n",
              "      <td>3</td>\n",
              "      <td>Mannion, Miss. Margareth</td>\n",
              "      <td>female</td>\n",
              "      <td>NaN</td>\n",
              "      <td>0</td>\n",
              "      <td>0</td>\n",
              "      <td>36866</td>\n",
              "      <td>7.7375</td>\n",
              "      <td>NaN</td>\n",
              "      <td>Q</td>\n",
              "    </tr>\n",
              "  </tbody>\n",
              "</table>\n",
              "</div>"
            ],
            "text/plain": [
              "     PassengerId  Survived  Pclass  ...     Fare  Cabin  Embarked\n",
              "715          716         0       3  ...   7.6500  F G73         S\n",
              "4              5         0       3  ...   8.0500    NaN         S\n",
              "107          108         1       3  ...   7.7750    NaN         S\n",
              "205          206         0       3  ...  10.4625     G6         S\n",
              "727          728         1       3  ...   7.7375    NaN         Q\n",
              "\n",
              "[5 rows x 12 columns]"
            ]
          },
          "metadata": {
            "tags": []
          },
          "execution_count": 95
        }
      ]
    },
    {
      "cell_type": "markdown",
      "metadata": {
        "colab_type": "text",
        "id": "f4h84HxkNyob"
      },
      "source": [
        "* PassengerIdUnique ID of the passenger\n",
        "* SurvivedSurvived (1) or died (0)\n",
        "* PclassPassenger's class (1st, 2nd, or 3rd)\n",
        "* NamePassenger's name\n",
        "* SexPassenger's sex\n",
        "* AgePassenger's age\n",
        "* SibSpNumber of siblings/spouses aboard the Titanic\n",
        "* ParchNumber of parents/children aboard the Titanic\n",
        "* TicketTicket number\n",
        "* FareFare paid for ticket\n",
        "* CabinCabin number\n",
        "* EmbarkedWhere the passenger got on the ship (C - Cherbourg, S - Southampton, Q = Queenstown)"
      ]
    },
    {
      "cell_type": "markdown",
      "metadata": {
        "colab_type": "text",
        "id": "8fcWnFYpO4UE"
      },
      "source": [
        "Removamos algunas de las características que en principio no parecen ser importantes."
      ]
    },
    {
      "cell_type": "code",
      "metadata": {
        "colab_type": "code",
        "id": "rDIPY51BO4UI",
        "colab": {}
      },
      "source": [
        "data.drop(['PassengerId','Name','Ticket','Cabin','Embarked'], axis=1, inplace=True)"
      ],
      "execution_count": 0,
      "outputs": []
    },
    {
      "cell_type": "code",
      "metadata": {
        "colab_type": "code",
        "id": "nKEpw_YLO4UM",
        "outputId": "fae4d020-4956-4b2d-abb9-ded31ccbf6c8",
        "colab": {
          "base_uri": "https://localhost:8080/",
          "height": 204
        }
      },
      "source": [
        "data.sample(5)"
      ],
      "execution_count": 0,
      "outputs": [
        {
          "output_type": "execute_result",
          "data": {
            "text/html": [
              "<div>\n",
              "<style scoped>\n",
              "    .dataframe tbody tr th:only-of-type {\n",
              "        vertical-align: middle;\n",
              "    }\n",
              "\n",
              "    .dataframe tbody tr th {\n",
              "        vertical-align: top;\n",
              "    }\n",
              "\n",
              "    .dataframe thead th {\n",
              "        text-align: right;\n",
              "    }\n",
              "</style>\n",
              "<table border=\"1\" class=\"dataframe\">\n",
              "  <thead>\n",
              "    <tr style=\"text-align: right;\">\n",
              "      <th></th>\n",
              "      <th>Survived</th>\n",
              "      <th>Pclass</th>\n",
              "      <th>Sex</th>\n",
              "      <th>Age</th>\n",
              "      <th>SibSp</th>\n",
              "      <th>Parch</th>\n",
              "      <th>Fare</th>\n",
              "    </tr>\n",
              "  </thead>\n",
              "  <tbody>\n",
              "    <tr>\n",
              "      <th>62</th>\n",
              "      <td>0</td>\n",
              "      <td>1</td>\n",
              "      <td>male</td>\n",
              "      <td>45.0</td>\n",
              "      <td>1</td>\n",
              "      <td>0</td>\n",
              "      <td>83.475</td>\n",
              "    </tr>\n",
              "    <tr>\n",
              "      <th>56</th>\n",
              "      <td>1</td>\n",
              "      <td>2</td>\n",
              "      <td>female</td>\n",
              "      <td>21.0</td>\n",
              "      <td>0</td>\n",
              "      <td>0</td>\n",
              "      <td>10.500</td>\n",
              "    </tr>\n",
              "    <tr>\n",
              "      <th>401</th>\n",
              "      <td>0</td>\n",
              "      <td>3</td>\n",
              "      <td>male</td>\n",
              "      <td>26.0</td>\n",
              "      <td>0</td>\n",
              "      <td>0</td>\n",
              "      <td>8.050</td>\n",
              "    </tr>\n",
              "    <tr>\n",
              "      <th>595</th>\n",
              "      <td>0</td>\n",
              "      <td>3</td>\n",
              "      <td>male</td>\n",
              "      <td>36.0</td>\n",
              "      <td>1</td>\n",
              "      <td>1</td>\n",
              "      <td>24.150</td>\n",
              "    </tr>\n",
              "    <tr>\n",
              "      <th>337</th>\n",
              "      <td>1</td>\n",
              "      <td>1</td>\n",
              "      <td>female</td>\n",
              "      <td>41.0</td>\n",
              "      <td>0</td>\n",
              "      <td>0</td>\n",
              "      <td>134.500</td>\n",
              "    </tr>\n",
              "  </tbody>\n",
              "</table>\n",
              "</div>"
            ],
            "text/plain": [
              "     Survived  Pclass     Sex   Age  SibSp  Parch     Fare\n",
              "62          0       1    male  45.0      1      0   83.475\n",
              "56          1       2  female  21.0      0      0   10.500\n",
              "401         0       3    male  26.0      0      0    8.050\n",
              "595         0       3    male  36.0      1      1   24.150\n",
              "337         1       1  female  41.0      0      0  134.500"
            ]
          },
          "metadata": {
            "tags": []
          },
          "execution_count": 97
        }
      ]
    },
    {
      "cell_type": "markdown",
      "metadata": {
        "colab_type": "text",
        "id": "lcv4J-n1O4UP"
      },
      "source": [
        "Llenemos los valores faltantes en la columna ‘Age’ usando el promedio"
      ]
    },
    {
      "cell_type": "code",
      "metadata": {
        "colab_type": "code",
        "id": "9f9-IassO4UQ",
        "colab": {}
      },
      "source": [
        "from sklearn.impute import SimpleImputer"
      ],
      "execution_count": 0,
      "outputs": []
    },
    {
      "cell_type": "code",
      "metadata": {
        "colab_type": "code",
        "id": "u9RG-RV3O4UU",
        "colab": {}
      },
      "source": [
        "imp = SimpleImputer(missing_values=np.nan, strategy='mean')"
      ],
      "execution_count": 0,
      "outputs": []
    },
    {
      "cell_type": "code",
      "metadata": {
        "colab_type": "code",
        "id": "HKPCEY59O4UW",
        "colab": {}
      },
      "source": [
        "data.loc[data['Survived']==1,['Age']]=imp.fit_transform(data.loc[data['Survived']==1,['Age']])\n",
        "data.loc[data['Survived']==0,['Age']]=imp.fit_transform(data.loc[data['Survived']==0,['Age']])"
      ],
      "execution_count": 0,
      "outputs": []
    },
    {
      "cell_type": "code",
      "metadata": {
        "colab_type": "code",
        "id": "ScjiZZ3nO4UY",
        "outputId": "af3c6b6b-cf94-43d8-99d6-67a2e8c4e9f0",
        "colab": {
          "base_uri": "https://localhost:8080/",
          "height": 153
        }
      },
      "source": [
        "data.isnull().any()"
      ],
      "execution_count": 0,
      "outputs": [
        {
          "output_type": "execute_result",
          "data": {
            "text/plain": [
              "Survived    False\n",
              "Pclass      False\n",
              "Sex         False\n",
              "Age         False\n",
              "SibSp       False\n",
              "Parch       False\n",
              "Fare        False\n",
              "dtype: bool"
            ]
          },
          "metadata": {
            "tags": []
          },
          "execution_count": 101
        }
      ]
    },
    {
      "cell_type": "markdown",
      "metadata": {
        "colab_type": "text",
        "id": "sUOOAwcCQLZE"
      },
      "source": [
        "Apliquemos one-hot-encoding a la caracteristica categorica ***sex*** y ademas creemos una nueva columna que se llamada \"Family_size\"."
      ]
    },
    {
      "cell_type": "code",
      "metadata": {
        "colab_type": "code",
        "id": "30DgrUhwQLZL",
        "colab": {}
      },
      "source": [
        "data=pd.get_dummies(data)"
      ],
      "execution_count": 0,
      "outputs": []
    },
    {
      "cell_type": "code",
      "metadata": {
        "colab_type": "code",
        "id": "JyG70aOZQLZP",
        "outputId": "9cd54676-351f-491c-f306-6895268563cd",
        "colab": {
          "base_uri": "https://localhost:8080/",
          "height": 204
        }
      },
      "source": [
        "data['Family_size']=data['SibSp'] + data['Parch']\n",
        "data.drop(['SibSp', 'Parch'] ,axis=1, inplace=True)\n",
        "data.head()"
      ],
      "execution_count": 0,
      "outputs": [
        {
          "output_type": "execute_result",
          "data": {
            "text/html": [
              "<div>\n",
              "<style scoped>\n",
              "    .dataframe tbody tr th:only-of-type {\n",
              "        vertical-align: middle;\n",
              "    }\n",
              "\n",
              "    .dataframe tbody tr th {\n",
              "        vertical-align: top;\n",
              "    }\n",
              "\n",
              "    .dataframe thead th {\n",
              "        text-align: right;\n",
              "    }\n",
              "</style>\n",
              "<table border=\"1\" class=\"dataframe\">\n",
              "  <thead>\n",
              "    <tr style=\"text-align: right;\">\n",
              "      <th></th>\n",
              "      <th>Survived</th>\n",
              "      <th>Pclass</th>\n",
              "      <th>Age</th>\n",
              "      <th>Fare</th>\n",
              "      <th>Sex_female</th>\n",
              "      <th>Sex_male</th>\n",
              "      <th>Family_size</th>\n",
              "    </tr>\n",
              "  </thead>\n",
              "  <tbody>\n",
              "    <tr>\n",
              "      <th>0</th>\n",
              "      <td>0</td>\n",
              "      <td>3</td>\n",
              "      <td>22.0</td>\n",
              "      <td>7.2500</td>\n",
              "      <td>0</td>\n",
              "      <td>1</td>\n",
              "      <td>1</td>\n",
              "    </tr>\n",
              "    <tr>\n",
              "      <th>1</th>\n",
              "      <td>1</td>\n",
              "      <td>1</td>\n",
              "      <td>38.0</td>\n",
              "      <td>71.2833</td>\n",
              "      <td>1</td>\n",
              "      <td>0</td>\n",
              "      <td>1</td>\n",
              "    </tr>\n",
              "    <tr>\n",
              "      <th>2</th>\n",
              "      <td>1</td>\n",
              "      <td>3</td>\n",
              "      <td>26.0</td>\n",
              "      <td>7.9250</td>\n",
              "      <td>1</td>\n",
              "      <td>0</td>\n",
              "      <td>0</td>\n",
              "    </tr>\n",
              "    <tr>\n",
              "      <th>3</th>\n",
              "      <td>1</td>\n",
              "      <td>1</td>\n",
              "      <td>35.0</td>\n",
              "      <td>53.1000</td>\n",
              "      <td>1</td>\n",
              "      <td>0</td>\n",
              "      <td>1</td>\n",
              "    </tr>\n",
              "    <tr>\n",
              "      <th>4</th>\n",
              "      <td>0</td>\n",
              "      <td>3</td>\n",
              "      <td>35.0</td>\n",
              "      <td>8.0500</td>\n",
              "      <td>0</td>\n",
              "      <td>1</td>\n",
              "      <td>0</td>\n",
              "    </tr>\n",
              "  </tbody>\n",
              "</table>\n",
              "</div>"
            ],
            "text/plain": [
              "   Survived  Pclass   Age     Fare  Sex_female  Sex_male  Family_size\n",
              "0         0       3  22.0   7.2500           0         1            1\n",
              "1         1       1  38.0  71.2833           1         0            1\n",
              "2         1       3  26.0   7.9250           1         0            0\n",
              "3         1       1  35.0  53.1000           1         0            1\n",
              "4         0       3  35.0   8.0500           0         1            0"
            ]
          },
          "metadata": {
            "tags": []
          },
          "execution_count": 103
        }
      ]
    },
    {
      "cell_type": "markdown",
      "metadata": {
        "id": "j9qvyIm-SBHU",
        "colab_type": "text"
      },
      "source": [
        "Dividamos el Dataset en una parte de entrenamiento y en otra de testeo usando Sklearn"
      ]
    },
    {
      "cell_type": "code",
      "metadata": {
        "colab_type": "code",
        "id": "xI8ORyTzR_hP",
        "colab": {}
      },
      "source": [
        "from sklearn.model_selection import train_test_split"
      ],
      "execution_count": 0,
      "outputs": []
    },
    {
      "cell_type": "code",
      "metadata": {
        "colab_type": "code",
        "id": "TtUsbQN0R_hX",
        "colab": {}
      },
      "source": [
        "X_train, X_test, y_train, y_test = train_test_split(data.iloc[:,1:], data.iloc[:,0],test_size = 0.2, random_state=0)"
      ],
      "execution_count": 0,
      "outputs": []
    },
    {
      "cell_type": "code",
      "metadata": {
        "colab_type": "code",
        "id": "qNVeolLZR_hZ",
        "outputId": "dd22c5dc-7e23-4aca-9a08-03e57de5c197",
        "colab": {
          "base_uri": "https://localhost:8080/",
          "height": 34
        }
      },
      "source": [
        "X_train.shape"
      ],
      "execution_count": 0,
      "outputs": [
        {
          "output_type": "execute_result",
          "data": {
            "text/plain": [
              "(712, 6)"
            ]
          },
          "metadata": {
            "tags": []
          },
          "execution_count": 106
        }
      ]
    },
    {
      "cell_type": "code",
      "metadata": {
        "id": "o3re0ELQR1Pb",
        "colab_type": "code",
        "colab": {}
      },
      "source": [
        "scaler = StandardScaler()\n",
        "X_train_scaled = scaler.fit_transform(X_train)\n",
        "X_test_scaled = scaler.transform(X_test)"
      ],
      "execution_count": 0,
      "outputs": []
    },
    {
      "cell_type": "code",
      "metadata": {
        "id": "6bhot4xMaQOV",
        "colab_type": "code",
        "outputId": "86a1e562-d7ce-46c0-ae04-bdfc060a73cd",
        "colab": {
          "base_uri": "https://localhost:8080/",
          "height": 34
        }
      },
      "source": [
        "X_train_scaled.shape"
      ],
      "execution_count": 0,
      "outputs": [
        {
          "output_type": "execute_result",
          "data": {
            "text/plain": [
              "(712, 6)"
            ]
          },
          "metadata": {
            "tags": []
          },
          "execution_count": 108
        }
      ]
    },
    {
      "cell_type": "markdown",
      "metadata": {
        "id": "we43gKqfQihi",
        "colab_type": "text"
      },
      "source": [
        "Ahora creemos nuestra red neuronal usando keras "
      ]
    },
    {
      "cell_type": "code",
      "metadata": {
        "id": "0DkSu7ggQaH8",
        "colab_type": "code",
        "colab": {}
      },
      "source": [
        "from tensorflow import keras"
      ],
      "execution_count": 0,
      "outputs": []
    },
    {
      "cell_type": "code",
      "metadata": {
        "id": "OMN0SD_gQlhp",
        "colab_type": "code",
        "colab": {}
      },
      "source": [
        "keras.backend.clear_session()"
      ],
      "execution_count": 0,
      "outputs": []
    },
    {
      "cell_type": "markdown",
      "metadata": {
        "id": "Kx23tRSMQtTl",
        "colab_type": "text"
      },
      "source": [
        "Creemos nuestro modelo usa la API Squential"
      ]
    },
    {
      "cell_type": "code",
      "metadata": {
        "id": "bl7CehCwQq9r",
        "colab_type": "code",
        "colab": {}
      },
      "source": [
        "model = keras.models.Sequential([\n",
        "                                 keras.layers.Dense(16,activation='relu', input_shape=(6,)),\n",
        "                                 keras.layers.Dense(16,activation='relu'),\n",
        "                                 keras.layers.Dense(1, activation='sigmoid')\n",
        "])"
      ],
      "execution_count": 0,
      "outputs": []
    },
    {
      "cell_type": "code",
      "metadata": {
        "id": "v8sffjjGSgcV",
        "colab_type": "code",
        "outputId": "7cd3e821-977a-4305-c537-5cd553abc889",
        "colab": {
          "base_uri": "https://localhost:8080/",
          "height": 422
        }
      },
      "source": [
        "keras.utils.plot_model(model, show_shapes=True)"
      ],
      "execution_count": 0,
      "outputs": [
        {
          "output_type": "execute_result",
          "data": {
            "image/png": "[encoded data removed]",
            "text/plain": [
              "<IPython.core.display.Image object>"
            ]
          },
          "metadata": {
            "tags": []
          },
          "execution_count": 112
        }
      ]
    },
    {
      "cell_type": "markdown",
      "metadata": {
        "id": "FvyBEKneRLAj",
        "colab_type": "text"
      },
      "source": [
        "Ahora compilemos el modelo"
      ]
    },
    {
      "cell_type": "code",
      "metadata": {
        "id": "cLt5E-XNRICG",
        "colab_type": "code",
        "colab": {}
      },
      "source": [
        "model.compile(optimizer='sgd', loss='binary_crossentropy', metrics=['accuracy'])"
      ],
      "execution_count": 0,
      "outputs": []
    },
    {
      "cell_type": "markdown",
      "metadata": {
        "id": "JdvW5ekORaO-",
        "colab_type": "text"
      },
      "source": [
        "Ahora entrenemos nuestro modelo "
      ]
    },
    {
      "cell_type": "code",
      "metadata": {
        "id": "39xE3fLGRzsd",
        "colab_type": "code",
        "colab": {}
      },
      "source": [
        "y_train=np.array(y_train)\n",
        "y_test=np.array(y_test)"
      ],
      "execution_count": 0,
      "outputs": []
    },
    {
      "cell_type": "code",
      "metadata": {
        "id": "nijZqlV9RY9b",
        "colab_type": "code",
        "outputId": "73dd1485-bcd3-4143-f299-5d7c235cd32b",
        "colab": {
          "base_uri": "https://localhost:8080/",
          "height": 1000
        }
      },
      "source": [
        "history=model.fit(X_train_scaled,y_train, epochs=50, validation_split=0.2)"
      ],
      "execution_count": 0,
      "outputs": [
        {
          "output_type": "stream",
          "text": [
            "Train on 569 samples, validate on 143 samples\n",
            "Epoch 1/50\n",
            "569/569 [==============================] - 1s 1ms/sample - loss: 0.7047 - accuracy: 0.5132 - val_loss: 0.7229 - val_accuracy: 0.4895\n",
            "Epoch 2/50\n",
            "569/569 [==============================] - 0s 85us/sample - loss: 0.6602 - accuracy: 0.5905 - val_loss: 0.6848 - val_accuracy: 0.5105\n",
            "Epoch 3/50\n",
            "569/569 [==============================] - 0s 71us/sample - loss: 0.6268 - accuracy: 0.6081 - val_loss: 0.6544 - val_accuracy: 0.5105\n",
            "Epoch 4/50\n",
            "569/569 [==============================] - 0s 75us/sample - loss: 0.6006 - accuracy: 0.6309 - val_loss: 0.6294 - val_accuracy: 0.5455\n",
            "Epoch 5/50\n",
            "569/569 [==============================] - 0s 77us/sample - loss: 0.5792 - accuracy: 0.6819 - val_loss: 0.6075 - val_accuracy: 0.6224\n",
            "Epoch 6/50\n",
            "569/569 [==============================] - 0s 78us/sample - loss: 0.5616 - accuracy: 0.7206 - val_loss: 0.5889 - val_accuracy: 0.6713\n",
            "Epoch 7/50\n",
            "569/569 [==============================] - 0s 77us/sample - loss: 0.5466 - accuracy: 0.7592 - val_loss: 0.5728 - val_accuracy: 0.6923\n",
            "Epoch 8/50\n",
            "569/569 [==============================] - 0s 75us/sample - loss: 0.5340 - accuracy: 0.7786 - val_loss: 0.5582 - val_accuracy: 0.7063\n",
            "Epoch 9/50\n",
            "569/569 [==============================] - 0s 72us/sample - loss: 0.5231 - accuracy: 0.7891 - val_loss: 0.5449 - val_accuracy: 0.8042\n",
            "Epoch 10/50\n",
            "569/569 [==============================] - 0s 86us/sample - loss: 0.5136 - accuracy: 0.8032 - val_loss: 0.5331 - val_accuracy: 0.8042\n",
            "Epoch 11/50\n",
            "569/569 [==============================] - 0s 91us/sample - loss: 0.5052 - accuracy: 0.8049 - val_loss: 0.5227 - val_accuracy: 0.8042\n",
            "Epoch 12/50\n",
            "569/569 [==============================] - 0s 84us/sample - loss: 0.4982 - accuracy: 0.8084 - val_loss: 0.5135 - val_accuracy: 0.8042\n",
            "Epoch 13/50\n",
            "569/569 [==============================] - 0s 90us/sample - loss: 0.4921 - accuracy: 0.8067 - val_loss: 0.5054 - val_accuracy: 0.8112\n",
            "Epoch 14/50\n",
            "569/569 [==============================] - 0s 76us/sample - loss: 0.4871 - accuracy: 0.8084 - val_loss: 0.4983 - val_accuracy: 0.8112\n",
            "Epoch 15/50\n",
            "569/569 [==============================] - 0s 73us/sample - loss: 0.4827 - accuracy: 0.8084 - val_loss: 0.4922 - val_accuracy: 0.8182\n",
            "Epoch 16/50\n",
            "569/569 [==============================] - 0s 75us/sample - loss: 0.4786 - accuracy: 0.8067 - val_loss: 0.4869 - val_accuracy: 0.8182\n",
            "Epoch 17/50\n",
            "569/569 [==============================] - 0s 80us/sample - loss: 0.4755 - accuracy: 0.8067 - val_loss: 0.4822 - val_accuracy: 0.8182\n",
            "Epoch 18/50\n",
            "569/569 [==============================] - 0s 80us/sample - loss: 0.4724 - accuracy: 0.8049 - val_loss: 0.4786 - val_accuracy: 0.8182\n",
            "Epoch 19/50\n",
            "569/569 [==============================] - 0s 81us/sample - loss: 0.4696 - accuracy: 0.8032 - val_loss: 0.4747 - val_accuracy: 0.8182\n",
            "Epoch 20/50\n",
            "569/569 [==============================] - 0s 84us/sample - loss: 0.4672 - accuracy: 0.8067 - val_loss: 0.4714 - val_accuracy: 0.8182\n",
            "Epoch 21/50\n",
            "569/569 [==============================] - 0s 82us/sample - loss: 0.4651 - accuracy: 0.8067 - val_loss: 0.4686 - val_accuracy: 0.8182\n",
            "Epoch 22/50\n",
            "569/569 [==============================] - 0s 84us/sample - loss: 0.4631 - accuracy: 0.8120 - val_loss: 0.4659 - val_accuracy: 0.8182\n",
            "Epoch 23/50\n",
            "569/569 [==============================] - 0s 82us/sample - loss: 0.4611 - accuracy: 0.8137 - val_loss: 0.4635 - val_accuracy: 0.8182\n",
            "Epoch 24/50\n",
            "569/569 [==============================] - 0s 79us/sample - loss: 0.4595 - accuracy: 0.8137 - val_loss: 0.4616 - val_accuracy: 0.8182\n",
            "Epoch 25/50\n",
            "569/569 [==============================] - 0s 78us/sample - loss: 0.4581 - accuracy: 0.8137 - val_loss: 0.4599 - val_accuracy: 0.8182\n",
            "Epoch 26/50\n",
            "569/569 [==============================] - 0s 81us/sample - loss: 0.4568 - accuracy: 0.8172 - val_loss: 0.4583 - val_accuracy: 0.8182\n",
            "Epoch 27/50\n",
            "569/569 [==============================] - 0s 77us/sample - loss: 0.4553 - accuracy: 0.8155 - val_loss: 0.4570 - val_accuracy: 0.8182\n",
            "Epoch 28/50\n",
            "569/569 [==============================] - 0s 79us/sample - loss: 0.4541 - accuracy: 0.8190 - val_loss: 0.4555 - val_accuracy: 0.8112\n",
            "Epoch 29/50\n",
            "569/569 [==============================] - 0s 85us/sample - loss: 0.4530 - accuracy: 0.8190 - val_loss: 0.4543 - val_accuracy: 0.8042\n",
            "Epoch 30/50\n",
            "569/569 [==============================] - 0s 75us/sample - loss: 0.4520 - accuracy: 0.8190 - val_loss: 0.4530 - val_accuracy: 0.8042\n",
            "Epoch 31/50\n",
            "569/569 [==============================] - 0s 78us/sample - loss: 0.4510 - accuracy: 0.8190 - val_loss: 0.4520 - val_accuracy: 0.8042\n",
            "Epoch 32/50\n",
            "569/569 [==============================] - 0s 76us/sample - loss: 0.4499 - accuracy: 0.8190 - val_loss: 0.4514 - val_accuracy: 0.8042\n",
            "Epoch 33/50\n",
            "569/569 [==============================] - 0s 76us/sample - loss: 0.4490 - accuracy: 0.8190 - val_loss: 0.4509 - val_accuracy: 0.8112\n",
            "Epoch 34/50\n",
            "569/569 [==============================] - 0s 84us/sample - loss: 0.4480 - accuracy: 0.8190 - val_loss: 0.4501 - val_accuracy: 0.8112\n",
            "Epoch 35/50\n",
            "569/569 [==============================] - 0s 83us/sample - loss: 0.4472 - accuracy: 0.8190 - val_loss: 0.4492 - val_accuracy: 0.8112\n",
            "Epoch 36/50\n",
            "569/569 [==============================] - 0s 80us/sample - loss: 0.4464 - accuracy: 0.8190 - val_loss: 0.4485 - val_accuracy: 0.8112\n",
            "Epoch 37/50\n",
            "569/569 [==============================] - 0s 80us/sample - loss: 0.4455 - accuracy: 0.8207 - val_loss: 0.4480 - val_accuracy: 0.8112\n",
            "Epoch 38/50\n",
            "569/569 [==============================] - 0s 90us/sample - loss: 0.4448 - accuracy: 0.8207 - val_loss: 0.4475 - val_accuracy: 0.8112\n",
            "Epoch 39/50\n",
            "569/569 [==============================] - 0s 101us/sample - loss: 0.4439 - accuracy: 0.8207 - val_loss: 0.4474 - val_accuracy: 0.8112\n",
            "Epoch 40/50\n",
            "569/569 [==============================] - 0s 78us/sample - loss: 0.4432 - accuracy: 0.8225 - val_loss: 0.4471 - val_accuracy: 0.8112\n",
            "Epoch 41/50\n",
            "569/569 [==============================] - 0s 76us/sample - loss: 0.4426 - accuracy: 0.8225 - val_loss: 0.4467 - val_accuracy: 0.8112\n",
            "Epoch 42/50\n",
            "569/569 [==============================] - 0s 79us/sample - loss: 0.4418 - accuracy: 0.8225 - val_loss: 0.4464 - val_accuracy: 0.8112\n",
            "Epoch 43/50\n",
            "569/569 [==============================] - 0s 81us/sample - loss: 0.4412 - accuracy: 0.8243 - val_loss: 0.4463 - val_accuracy: 0.8112\n",
            "Epoch 44/50\n",
            "569/569 [==============================] - 0s 85us/sample - loss: 0.4405 - accuracy: 0.8243 - val_loss: 0.4460 - val_accuracy: 0.8112\n",
            "Epoch 45/50\n",
            "569/569 [==============================] - 0s 94us/sample - loss: 0.4399 - accuracy: 0.8260 - val_loss: 0.4456 - val_accuracy: 0.8112\n",
            "Epoch 46/50\n",
            "569/569 [==============================] - 0s 86us/sample - loss: 0.4393 - accuracy: 0.8260 - val_loss: 0.4453 - val_accuracy: 0.8112\n",
            "Epoch 47/50\n",
            "569/569 [==============================] - 0s 79us/sample - loss: 0.4388 - accuracy: 0.8243 - val_loss: 0.4450 - val_accuracy: 0.8182\n",
            "Epoch 48/50\n",
            "569/569 [==============================] - 0s 76us/sample - loss: 0.4381 - accuracy: 0.8243 - val_loss: 0.4449 - val_accuracy: 0.8182\n",
            "Epoch 49/50\n",
            "569/569 [==============================] - 0s 80us/sample - loss: 0.4376 - accuracy: 0.8243 - val_loss: 0.4445 - val_accuracy: 0.8182\n",
            "Epoch 50/50\n",
            "569/569 [==============================] - 0s 74us/sample - loss: 0.4371 - accuracy: 0.8260 - val_loss: 0.4445 - val_accuracy: 0.8252\n"
          ],
          "name": "stdout"
        }
      ]
    },
    {
      "cell_type": "markdown",
      "metadata": {
        "id": "VFupqnm7V9H9",
        "colab_type": "text"
      },
      "source": [
        "Ahora utilicemos nuestro modelo ya entrenado sobre los datos de testeo"
      ]
    },
    {
      "cell_type": "code",
      "metadata": {
        "id": "9TRdioPYS3Lr",
        "colab_type": "code",
        "outputId": "118626e2-dfb2-48a0-9d20-48bf262d5029",
        "colab": {
          "base_uri": "https://localhost:8080/",
          "height": 71
        }
      },
      "source": [
        "model.evaluate(X_test_scaled,y_test)"
      ],
      "execution_count": 0,
      "outputs": [
        {
          "output_type": "stream",
          "text": [
            "\r179/1 [==========================================================================================================================================================================================================================================================================================================================================================================================================================================================================================================================================================================================================================================================================================================================================================================================================================================================================================================================================================================================================================================================================================================================================================================================================================================================================================================================================================================================================================================================================================================================================================================================================================================================================================================================================================================================================================================================================================================================================================================================================================================================================================================================================================================================================================================================================================================================================================================================================================================================================================================================================================================================================================================================================================================================================================================================================================================================================================================================================================================================================================================================================================================================================================================================================================================================================================================================================================================================================================================================================================================================================================================================================================================================================================================================================================================================================================================================================================================================================================================================================================================================================================================================================================================================================================================================================================================================================================================================================================================================================================================================================================================================================================================================================================================================================================================================================================================================================================================================================================================================================================================================================================================================================================================================================================================================================================================================================================================================================================================================================================================================================================================================] - 0s 42us/sample - loss: 0.3440 - accuracy: 0.7989\n"
          ],
          "name": "stdout"
        },
        {
          "output_type": "execute_result",
          "data": {
            "text/plain": [
              "[0.4143652030209589, 0.79888266]"
            ]
          },
          "metadata": {
            "tags": []
          },
          "execution_count": 116
        }
      ]
    },
    {
      "cell_type": "markdown",
      "metadata": {
        "id": "utXNK-OmXFc4",
        "colab_type": "text"
      },
      "source": [
        "visualicemos nuestros resultados "
      ]
    },
    {
      "cell_type": "code",
      "metadata": {
        "id": "Y__SpciuU_B6",
        "colab_type": "code",
        "outputId": "78687c24-c818-46d4-c7c4-a0c97fd7f09d",
        "colab": {
          "base_uri": "https://localhost:8080/",
          "height": 448
        }
      },
      "source": [
        "pd.DataFrame(history.history).plot(figsize=(7,7))"
      ],
      "execution_count": 0,
      "outputs": [
        {
          "output_type": "execute_result",
          "data": {
            "text/plain": [
              "<matplotlib.axes._subplots.AxesSubplot at 0x7f355d00cdd8>"
            ]
          },
          "metadata": {
            "tags": []
          },
          "execution_count": 117
        },
        {
          "output_type": "display_data",
          "data": {
            "image/png": "[encoded data removed]",
            "text/plain": [
              "<Figure size 504x504 with 1 Axes>"
            ]
          },
          "metadata": {
            "tags": []
          }
        }
      ]
    },
    {
      "cell_type": "code",
      "metadata": {
        "id": "ORJvdBkn2_ug",
        "colab_type": "code",
        "colab": {}
      },
      "source": [
        ""
      ],
      "execution_count": 0,
      "outputs": []
    }
  ]
}