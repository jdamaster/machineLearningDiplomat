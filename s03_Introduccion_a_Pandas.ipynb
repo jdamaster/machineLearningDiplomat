{
  "nbformat": 4,
  "nbformat_minor": 0,
  "metadata": {
    "colab": {
      "name": "s03_Introduccion a Pandas.ipynb",
      "provenance": [],
      "collapsed_sections": [],
      "include_colab_link": true
    },
    "kernelspec": {
      "name": "python3",
      "display_name": "Python 3"
    }
  },
  "cells": [
    {
      "cell_type": "markdown",
      "metadata": {
        "id": "view-in-github",
        "colab_type": "text"
      },
      "source": [
        "<a href=\"https://colab.research.google.com/github/jdamaster/machineLearningDiplomat/blob/master/s03_Introduccion_a_Pandas.ipynb\" target=\"_parent\"><img src=\"https://colab.research.google.com/assets/colab-badge.svg\" alt=\"Open In Colab\"/></a>"
      ]
    },
    {
      "cell_type": "markdown",
      "metadata": {
        "id": "nCfQDSzAPU2N",
        "colab_type": "text"
      },
      "source": [
        "<p><img alt=\"Colaboratory logo\" height=\"140px\" src=\"https://upload.wikimedia.org/wikipedia/commons/archive/f/fb/20161010213812%21Escudo-UdeA.svg\" align=\"left\" hspace=\"10px\" vspace=\"0px\"></p>\n",
        "\n",
        "<h1> Diplomado de Análisis de datos y Machine Learning en Python</h1>\n",
        "\n",
        "\n",
        "El presente diplomado hace parte del centro de Big Data de la facultad de ciencias exactas y naturales (FCEN) de la Universidad de Antioquia."
      ]
    },
    {
      "cell_type": "markdown",
      "metadata": {
        "id": "X62hXhQfPh-M",
        "colab_type": "text"
      },
      "source": [
        "<p><a name=\"contents\"></a></p>\n",
        "\n",
        "# Contenido Sesión 3\n",
        "\n",
        "- <a href=\"#taller\">1. Taller</a><br>\n",
        "- <a href=\"#manipulacionDatos\">2. Manipulación de datos</a><br>\n",
        " - <a href=\"#formateo\">2.1 Formateo de datos temporales</a><br>\n",
        " - <a href=\"#procesamientoNulos\">2.2 Procesamiento de datos nulos</a><br>\n",
        " - <a href=\"#indexacion\">2.3. Indexación y localización</a><br>\n",
        " - <a href=\"#organizacionDF\">2.4. Organización de dataframes</a><br>\n",
        " - <a href=\"#graficasPandas\">2.5. Graficando desde pandas</a><br>\n",
        " - <a href=\"#operacionesColFil\">2.6. Operaciones con columnas y filas</a><br>\n",
        "  - <a href=\"#agrupacion\"> 2.7. Agrupando dataframes</a><br>\n",
        "  - <a href=\"#renormalizacion\">2.8. Renormalización de datos</a><br>\n",
        "  - <a href=\"#bineado\"> 2.9. Bineado de datos</a><br>\n",
        "  - <a href=\"#concom\"> 2.10. Concatenación y combinación de dataframes</a><br>\n",
        "- <a href=\"#tallpan\">3. Taller Pandas</a><br>\n",
        "\n",
        "\n",
        "\n",
        "\n"
      ]
    },
    {
      "cell_type": "markdown",
      "metadata": {
        "id": "sC6Fw0H0Ph75",
        "colab_type": "text"
      },
      "source": [
        "<p><a name=\"taller\"></a></p>\n",
        "\n",
        "# 1. Taller"
      ]
    },
    {
      "cell_type": "markdown",
      "metadata": {
        "id": "T6h3MM0NSf0-",
        "colab_type": "text"
      },
      "source": [
        "## Pregunta 1\n",
        "\n",
        "Definir una función max_de_dos(), que tome dos números como argumentos y devuelva el mayor de ellos. Si los números son iguales que imprima en pantalla \"Los números son iguales\" y no regrese ningún valor.\n"
      ]
    },
    {
      "cell_type": "code",
      "metadata": {
        "id": "LXUd5B7PsCHo",
        "colab_type": "code",
        "colab": {}
      },
      "source": [
        ""
      ],
      "execution_count": 0,
      "outputs": []
    },
    {
      "cell_type": "code",
      "metadata": {
        "id": "76qFkocpSpP1",
        "colab_type": "code",
        "outputId": "8c0b50f0-cf5b-441f-ae3d-8f2768ab8cc7",
        "colab": {
          "base_uri": "https://localhost:8080/",
          "height": 35
        }
      },
      "source": [
        "# Escriba aquí su código\n",
        "def max_de_dos(num1, num2):\n",
        "  if num1==num2 :\n",
        "    print (\"los numeros son iguales\") \n",
        "    return\n",
        "  return num1 if num1>num2 else num2\n",
        "\n",
        "max_de_dos(4,4)"
      ],
      "execution_count": 0,
      "outputs": [
        {
          "output_type": "stream",
          "text": [
            "los numeros son iguales\n"
          ],
          "name": "stdout"
        }
      ]
    },
    {
      "cell_type": "markdown",
      "metadata": {
        "id": "JqkdxxVgSstd",
        "colab_type": "text"
      },
      "source": [
        "Para ver la solución haga double-click <b>aquí</b>.\n",
        "<!--\n",
        "\n",
        "def max_de_dos(a, b):\n",
        "  \n",
        "  if a>b:\n",
        "    output=a\n",
        "  elif b>a:\n",
        "    output=b\n",
        "  else:\n",
        "    print('Los números son iguales')\n",
        "    output=None\n",
        "  return output\n",
        "  \n",
        "\n",
        "-->"
      ]
    },
    {
      "cell_type": "markdown",
      "metadata": {
        "id": "h9iOo3FkPh5P",
        "colab_type": "text"
      },
      "source": [
        "## Pregunta 2\n",
        "\n",
        "Escriba un código de python que imprima todos los números pares de una lista dada y que deje de mostrar números cuando se encuentre el número 237\n",
        "\n",
        "Lista de números de muestra:\n",
        "\n",
        "numbers = [\n",
        "386, 462, 47, 418, 907, 344, 236, 375, 823, 566, 597, 978, 328, 615, 953, 345, 399, 162, 758, 219, 918, 237, 412, 566, 826, 248, 866, 950, 626, 949, 687, 217, 815, 67, 104, 58, 512, 24, 892, 894, 767, 553, 81, 379, 843, 831, 445, 742, 717, 958,743, 527 ]"
      ]
    },
    {
      "cell_type": "code",
      "metadata": {
        "id": "zkzfKIKRRf_X",
        "colab_type": "code",
        "outputId": "3b5f3755-f060-4b98-eb5c-6cdbcb169277",
        "colab": {
          "base_uri": "https://localhost:8080/",
          "height": 136
        }
      },
      "source": [
        "# Escriba aquí su código\n",
        "numbers = [386, 462, 47, 418, 907, 344, 236, 375, 823, 566, 597, 978, 328, 615, 953, 345, 399, 162, 758, 219, 918, 237, 412, 566, 826, 248, 866, 950, 626, 949, 687, 217, 815, 67, 104, 58, 512, 24, 892, 894, 767, 553, 81, 379, 843, 831, 445, 742, 717, 958,743, 527 ]\n",
        "for item in numbers:\n",
        "  if item!=237:\n",
        "    print(item) \n",
        "  else:\n",
        "    break\n"
      ],
      "execution_count": 0,
      "outputs": [
        {
          "output_type": "error",
          "ename": "SyntaxError",
          "evalue": "ignored",
          "traceback": [
            "\u001b[0;36m  File \u001b[0;32m\"<ipython-input-7-e3f3138f0aea>\"\u001b[0;36m, line \u001b[0;32m3\u001b[0m\n\u001b[0;31m    print(item) if item!=237 else break\u001b[0m\n\u001b[0m                                      ^\u001b[0m\n\u001b[0;31mSyntaxError\u001b[0m\u001b[0;31m:\u001b[0m invalid syntax\n"
          ]
        }
      ]
    },
    {
      "cell_type": "markdown",
      "metadata": {
        "id": "d5yYWl5fPh22",
        "colab_type": "text"
      },
      "source": [
        "Para ver la solución haga double-click <b>aquí</b>.\n",
        "<!--\n",
        "\n",
        "numbers = [\n",
        "386, 462, 47, 418, 907, 344, 236, 375, 823, 566, 597, 978, 328, 615, 953, 345, 399, 162, 758, 219, 918, 237, 412, 566, 826, 248, 866, 950, 626, 949, 687, 217, 815, 67, 104, 58, 512, 24, 892, 894, 767, 553, 81, 379, 843, 831, 445, 742, 717, 958,743, 527 ]\n",
        "\n",
        "listaFin=[]\n",
        "for i in numbers:\n",
        "  if (i%2==0):\n",
        "      listaFin.append(i)\n",
        "  if (i==237): \n",
        "      break\n",
        "print(listaFin)\n",
        "\n",
        "-->"
      ]
    },
    {
      "cell_type": "markdown",
      "metadata": {
        "id": "XBNbM5IwPh0I",
        "colab_type": "text"
      },
      "source": [
        "## Pregunta 3\n",
        "\n",
        "  * Mostrar con un while los números del 1 al 20\n",
        "\n",
        "  * Mostrar con un for los números del 1 al 20"
      ]
    },
    {
      "cell_type": "code",
      "metadata": {
        "id": "191hdVGrZiZo",
        "colab_type": "code",
        "colab": {}
      },
      "source": [
        "# Escriba aquí su código\n",
        "for i in range(1,21)\n",
        "  print(\"For iteration {}\".format(i))\n",
        "\n",
        "var1=1\n",
        "while var1<=20:\n",
        "  print(\"while iteration {}\".format(var1))\n",
        "  var1+=1"
      ],
      "execution_count": 0,
      "outputs": []
    },
    {
      "cell_type": "markdown",
      "metadata": {
        "id": "G_prdXRjZeg-",
        "colab_type": "text"
      },
      "source": [
        "Para ver la solución haga double-click <b>aquí</b>.\n",
        "<!--\n",
        "\n",
        "a=1\n",
        "while a<=20: \n",
        "  print(a)\n",
        "  a+=1\n",
        "\n",
        "#####\n",
        "\n",
        "for a in range(1,21):\n",
        "  print(a)\n",
        "\n",
        "-->"
      ]
    },
    {
      "cell_type": "markdown",
      "metadata": {
        "id": "B0pkMOrNPhuu",
        "colab_type": "text"
      },
      "source": [
        "## Pregunta 4\n",
        "\n",
        "Juguemos al juego de adivinar el numero, generaremos un número entre 1 y 20.\n",
        "\n",
        "Nuestro objetivo es adivinar el número. Si fallamos nos dirán si es mayor o menor que el número buscado. También poner el número de intentos requeridos."
      ]
    },
    {
      "cell_type": "code",
      "metadata": {
        "id": "3cbPgZUacTHW",
        "colab_type": "code",
        "colab": {}
      },
      "source": [
        "# Escriba aquí su código"
      ],
      "execution_count": 0,
      "outputs": []
    },
    {
      "cell_type": "markdown",
      "metadata": {
        "id": "MwxkJEBmPhsC",
        "colab_type": "text"
      },
      "source": [
        "Para ver la solución haga double-click <b>aquí</b>.\n",
        "<!--\n",
        "\n",
        "def adivina_numero():\n",
        "  \n",
        "  import numpy as np  \n",
        "  numero_buscado = np.random.randint(1, 21)\n",
        " \n",
        "  encontrado = False\n",
        "  intentos = 0\n",
        "\n",
        "  while not encontrado:\n",
        "\n",
        "      numero_usuario = int(input(\"Introduce el número buscado: \"))\n",
        "\n",
        "      if numero_usuario > numero_buscado:\n",
        "          print(\"El número que buscas es menor\")\n",
        "          intentos = intentos +1\n",
        "      elif numero_usuario < numero_buscado:\n",
        "          print(\"El numero que buscas es mayor\")\n",
        "          intentos = intentos +1\n",
        "      else:\n",
        "          encontrado = True\n",
        "          print(\"Has acertado el número correcto es \" , numero_usuario, \" te ha llevado \", intentos,\" intentos\")\n",
        "\n",
        "-->"
      ]
    },
    {
      "cell_type": "markdown",
      "metadata": {
        "id": "_KGV5fSPgFlW",
        "colab_type": "text"
      },
      "source": [
        "## Pregunta 5\n",
        "\n",
        "Defina una función llamada `es_cadena_no_vacia()` que evalúe si una cadena de caracteres es vacía o no y que retorne un variable booleana según sea el caso"
      ]
    },
    {
      "cell_type": "code",
      "metadata": {
        "id": "O3mAos9VkqQf",
        "colab_type": "code",
        "colab": {}
      },
      "source": [
        "# Escriba aquí su código"
      ],
      "execution_count": 0,
      "outputs": []
    },
    {
      "cell_type": "markdown",
      "metadata": {
        "id": "DesQud5cgp89",
        "colab_type": "text"
      },
      "source": [
        "Para ver la solución haga double-click <b>aquí</b>.\n",
        "<!--\n",
        "\n",
        "\n",
        "        def es_cadena_no_vacia(cadena=None):\n",
        "          if cadena==None:\n",
        "            salida=False\n",
        "          else:\n",
        "            salida=True\n",
        "          return salida\n",
        "\n",
        "-->"
      ]
    },
    {
      "cell_type": "markdown",
      "metadata": {
        "id": "IDW3cSxwgvUt",
        "colab_type": "text"
      },
      "source": [
        "## Pregunta 6\n",
        "\n",
        "Defina una función llamada `es_numero()` que evalúa si la entrada es un número y que retorne una variable booleana según sea el caso"
      ]
    },
    {
      "cell_type": "code",
      "metadata": {
        "id": "65TDiqKvkrdZ",
        "colab_type": "code",
        "colab": {}
      },
      "source": [
        "# Escriba aquí su código"
      ],
      "execution_count": 0,
      "outputs": []
    },
    {
      "cell_type": "markdown",
      "metadata": {
        "id": "C-KDI__6hFD9",
        "colab_type": "text"
      },
      "source": [
        "Para ver la solución haga double-click <b>aquí</b>.\n",
        "<!--\n",
        "\n",
        "def es_numero(num=None):\n",
        "  if type(num)==int or type(num)==float:\n",
        "    salida=True\n",
        "  else:\n",
        "    salida=False\n",
        "    \n",
        "  return salida\n",
        "\n",
        "-->"
      ]
    },
    {
      "cell_type": "markdown",
      "metadata": {
        "id": "YCWHaLZQi1Dr",
        "colab_type": "text"
      },
      "source": [
        "## Pregunta 7\n",
        "\n",
        "Defina una clase llamada Hotel que contenga los atributos nombre, ubicación, puntaje obtenido por votación, y precio. Se tienen las siguientes restricciones:\n",
        "\n",
        "* El nombre y la ubicación deben ser cadenas no vacías. \n",
        "* El puntaje debe ser un número (sin restricciones sobre su valor) \n",
        "* El precio debe ser un número distinto de cero.\n",
        "\n",
        "si no se cumple alguna de las condiciones, ejecute un error que muestre en pantalla el problema.\n",
        "\n",
        "*Pista*: Use las funciónes `es_cadena_no_vacia()` y `es_numero()`\n",
        "\n",
        "\n"
      ]
    },
    {
      "cell_type": "code",
      "metadata": {
        "id": "kHT8B-fkktA7",
        "colab_type": "code",
        "colab": {}
      },
      "source": [
        "# Escriba aquí su código"
      ],
      "execution_count": 0,
      "outputs": []
    },
    {
      "cell_type": "markdown",
      "metadata": {
        "id": "ey_Ag-sHkvwt",
        "colab_type": "text"
      },
      "source": [
        "Para ver la solución haga double-click <b>aquí</b>.\n",
        "<!--\n",
        "\n",
        "class Hotel(object):\n",
        "    \"\"\" Hotel: sus atributos son: nombre, ubicacion, puntaje y precio.\"\"\"\n",
        "\n",
        "    def __init__(self, nombre = '*', ubicacion = '*',\n",
        "                 puntaje = 0, precio = float(\"inf\")):\n",
        "        \"\"\" nombre y ubicacion deben ser cadenas no vacías,\n",
        "            puntaje y precio son números.\n",
        "            Si el precio es 0 se reemplaza por infinito. \"\"\"\n",
        "\n",
        "        def es_cadena_no_vacia(cadena=None):\n",
        "          if cadena==None:\n",
        "            salida=False\n",
        "          else:\n",
        "            salida=True\n",
        "          return salida\n",
        "        \n",
        "        def es_numero(num=None):\n",
        "          if type(num)==int or type(num)==float:\n",
        "            salida=True\n",
        "          else:\n",
        "            salida=False\n",
        "\n",
        "          return salida\n",
        "        \n",
        "        if es_cadena_no_vacia (nombre):\n",
        "            self.nombre = nombre\n",
        "        else:\n",
        "            raise TypeError (\"El nombre debe ser una cadena no vacía\")\n",
        "\n",
        "        if es_cadena_no_vacia (ubicacion):\n",
        "            self.ubicacion = ubicacion\n",
        "        else:\n",
        "            raise TypeError (\"La ubicación debe ser una cadena no vacía\")\n",
        "\n",
        "        if es_numero(puntaje):\n",
        "            self.puntaje = puntaje\n",
        "        else:\n",
        "            raise TypeError (\"El puntaje debe ser un número\")\n",
        "\n",
        "        if es_numero(precio):\n",
        "            if precio != 0:\n",
        "                self.precio = precio\n",
        "            else:\n",
        "                self.precio = float(\"inf\")\n",
        "        else:\n",
        "            raise TypeError(\"El precio debe ser un número\")\n",
        "\n",
        "    def __str__(self):\n",
        "        \"\"\" Muestra el hotel según lo requerido. \"\"\"\n",
        "        return self.nombre + \" de \"+ self.ubicacion+ \\\n",
        "                \" - Puntaje: \"+ str(self.puntaje) + \" - Precio: \"+ \\\n",
        "                str(self.precio)+ \" pesos.\"\n",
        "-->"
      ]
    },
    {
      "cell_type": "markdown",
      "metadata": {
        "id": "bcholMKi38Qz",
        "colab_type": "text"
      },
      "source": [
        "<p><a name=\"manipulacionDatos\"></a></p>\n",
        "\n",
        "# 2. Manipulación de datos"
      ]
    },
    {
      "cell_type": "code",
      "metadata": {
        "id": "cjdALyDr5fQu",
        "colab_type": "code",
        "colab": {}
      },
      "source": [
        "import pandas as pd\n",
        "import numpy as np\n",
        "\n",
        "df=pd.read_csv(\"https://raw.githubusercontent.com/diplomado-bigdata-machinelearning-udea/Curso1/master/s03/dataVentas2009.csv\") "
      ],
      "execution_count": 0,
      "outputs": []
    },
    {
      "cell_type": "code",
      "metadata": {
        "id": "CFy5EutLf_7U",
        "colab_type": "code",
        "outputId": "3d29c5ee-6533-4591-ae6c-c3aae89b1514",
        "colab": {
          "base_uri": "https://localhost:8080/",
          "height": 204
        }
      },
      "source": [
        "df.head()"
      ],
      "execution_count": 0,
      "outputs": [
        {
          "output_type": "execute_result",
          "data": {
            "text/html": [
              "<div>\n",
              "<style scoped>\n",
              "    .dataframe tbody tr th:only-of-type {\n",
              "        vertical-align: middle;\n",
              "    }\n",
              "\n",
              "    .dataframe tbody tr th {\n",
              "        vertical-align: top;\n",
              "    }\n",
              "\n",
              "    .dataframe thead th {\n",
              "        text-align: right;\n",
              "    }\n",
              "</style>\n",
              "<table border=\"1\" class=\"dataframe\">\n",
              "  <thead>\n",
              "    <tr style=\"text-align: right;\">\n",
              "      <th></th>\n",
              "      <th>Fecha</th>\n",
              "      <th>Producto1</th>\n",
              "      <th>Producto2</th>\n",
              "      <th>Producto3</th>\n",
              "      <th>Producto4</th>\n",
              "    </tr>\n",
              "  </thead>\n",
              "  <tbody>\n",
              "    <tr>\n",
              "      <th>0</th>\n",
              "      <td>01/01/2009</td>\n",
              "      <td>29</td>\n",
              "      <td>20</td>\n",
              "      <td>35</td>\n",
              "      <td>NaN</td>\n",
              "    </tr>\n",
              "    <tr>\n",
              "      <th>1</th>\n",
              "      <td>02/01/2009</td>\n",
              "      <td>19</td>\n",
              "      <td>3</td>\n",
              "      <td>22</td>\n",
              "      <td>NaN</td>\n",
              "    </tr>\n",
              "    <tr>\n",
              "      <th>2</th>\n",
              "      <td>03/01/2009</td>\n",
              "      <td>24</td>\n",
              "      <td>12</td>\n",
              "      <td>22</td>\n",
              "      <td>NaN</td>\n",
              "    </tr>\n",
              "    <tr>\n",
              "      <th>3</th>\n",
              "      <td>04/01/2009</td>\n",
              "      <td>24</td>\n",
              "      <td>8</td>\n",
              "      <td>15</td>\n",
              "      <td>NaN</td>\n",
              "    </tr>\n",
              "    <tr>\n",
              "      <th>4</th>\n",
              "      <td>05/01/2009</td>\n",
              "      <td>120</td>\n",
              "      <td>111</td>\n",
              "      <td>141</td>\n",
              "      <td>NaN</td>\n",
              "    </tr>\n",
              "  </tbody>\n",
              "</table>\n",
              "</div>"
            ],
            "text/plain": [
              "        Fecha  Producto1  Producto2  Producto3  Producto4\n",
              "0  01/01/2009         29         20         35        NaN\n",
              "1  02/01/2009         19          3         22        NaN\n",
              "2  03/01/2009         24         12         22        NaN\n",
              "3  04/01/2009         24          8         15        NaN\n",
              "4  05/01/2009        120        111        141        NaN"
            ]
          },
          "metadata": {
            "tags": []
          },
          "execution_count": 24
        }
      ]
    },
    {
      "cell_type": "code",
      "metadata": {
        "id": "8RKPq77HkBJs",
        "colab_type": "code",
        "outputId": "09099bc5-7008-40f5-d224-662ee5eb0149",
        "colab": {
          "base_uri": "https://localhost:8080/",
          "height": 34
        }
      },
      "source": [
        "df.columns"
      ],
      "execution_count": 0,
      "outputs": [
        {
          "output_type": "execute_result",
          "data": {
            "text/plain": [
              "Index(['Fecha', 'Producto1', 'Producto2', 'Producto3', 'Producto4'], dtype='object')"
            ]
          },
          "metadata": {
            "tags": []
          },
          "execution_count": 25
        }
      ]
    },
    {
      "cell_type": "code",
      "metadata": {
        "id": "-taPUR91kBVJ",
        "colab_type": "code",
        "outputId": "1f14c394-a012-4df6-ec29-4b91912fc0d7",
        "colab": {
          "base_uri": "https://localhost:8080/",
          "height": 34
        }
      },
      "source": [
        "df.shape"
      ],
      "execution_count": 0,
      "outputs": [
        {
          "output_type": "execute_result",
          "data": {
            "text/plain": [
              "(365, 5)"
            ]
          },
          "metadata": {
            "tags": []
          },
          "execution_count": 26
        }
      ]
    },
    {
      "cell_type": "code",
      "metadata": {
        "id": "M1J0ucuGkBXy",
        "colab_type": "code",
        "outputId": "68634d1c-6b42-46d1-ff56-d17a8177baee",
        "colab": {
          "base_uri": "https://localhost:8080/",
          "height": 297
        }
      },
      "source": [
        "df.describe()"
      ],
      "execution_count": 0,
      "outputs": [
        {
          "output_type": "execute_result",
          "data": {
            "text/html": [
              "<div>\n",
              "<style scoped>\n",
              "    .dataframe tbody tr th:only-of-type {\n",
              "        vertical-align: middle;\n",
              "    }\n",
              "\n",
              "    .dataframe tbody tr th {\n",
              "        vertical-align: top;\n",
              "    }\n",
              "\n",
              "    .dataframe thead th {\n",
              "        text-align: right;\n",
              "    }\n",
              "</style>\n",
              "<table border=\"1\" class=\"dataframe\">\n",
              "  <thead>\n",
              "    <tr style=\"text-align: right;\">\n",
              "      <th></th>\n",
              "      <th>Producto1</th>\n",
              "      <th>Producto2</th>\n",
              "      <th>Producto3</th>\n",
              "      <th>Producto4</th>\n",
              "    </tr>\n",
              "  </thead>\n",
              "  <tbody>\n",
              "    <tr>\n",
              "      <th>count</th>\n",
              "      <td>365.000000</td>\n",
              "      <td>365.000000</td>\n",
              "      <td>365.000000</td>\n",
              "      <td>178.000000</td>\n",
              "    </tr>\n",
              "    <tr>\n",
              "      <th>mean</th>\n",
              "      <td>2032.200000</td>\n",
              "      <td>1060.252055</td>\n",
              "      <td>2093.169863</td>\n",
              "      <td>2576.359551</td>\n",
              "    </tr>\n",
              "    <tr>\n",
              "      <th>std</th>\n",
              "      <td>1878.879799</td>\n",
              "      <td>1079.533086</td>\n",
              "      <td>1854.368523</td>\n",
              "      <td>2484.004743</td>\n",
              "    </tr>\n",
              "    <tr>\n",
              "      <th>min</th>\n",
              "      <td>0.000000</td>\n",
              "      <td>0.000000</td>\n",
              "      <td>0.000000</td>\n",
              "      <td>0.000000</td>\n",
              "    </tr>\n",
              "    <tr>\n",
              "      <th>25%</th>\n",
              "      <td>194.000000</td>\n",
              "      <td>90.000000</td>\n",
              "      <td>228.000000</td>\n",
              "      <td>0.000000</td>\n",
              "    </tr>\n",
              "    <tr>\n",
              "      <th>50%</th>\n",
              "      <td>1726.000000</td>\n",
              "      <td>678.000000</td>\n",
              "      <td>1686.000000</td>\n",
              "      <td>1443.500000</td>\n",
              "    </tr>\n",
              "    <tr>\n",
              "      <th>75%</th>\n",
              "      <td>3540.000000</td>\n",
              "      <td>1882.000000</td>\n",
              "      <td>3520.000000</td>\n",
              "      <td>4638.000000</td>\n",
              "    </tr>\n",
              "    <tr>\n",
              "      <th>max</th>\n",
              "      <td>6626.000000</td>\n",
              "      <td>4242.000000</td>\n",
              "      <td>6587.000000</td>\n",
              "      <td>7575.000000</td>\n",
              "    </tr>\n",
              "  </tbody>\n",
              "</table>\n",
              "</div>"
            ],
            "text/plain": [
              "         Producto1    Producto2    Producto3    Producto4\n",
              "count   365.000000   365.000000   365.000000   178.000000\n",
              "mean   2032.200000  1060.252055  2093.169863  2576.359551\n",
              "std    1878.879799  1079.533086  1854.368523  2484.004743\n",
              "min       0.000000     0.000000     0.000000     0.000000\n",
              "25%     194.000000    90.000000   228.000000     0.000000\n",
              "50%    1726.000000   678.000000  1686.000000  1443.500000\n",
              "75%    3540.000000  1882.000000  3520.000000  4638.000000\n",
              "max    6626.000000  4242.000000  6587.000000  7575.000000"
            ]
          },
          "metadata": {
            "tags": []
          },
          "execution_count": 27
        }
      ]
    },
    {
      "cell_type": "code",
      "metadata": {
        "id": "brvIm-PYySHc",
        "colab_type": "code",
        "outputId": "83719df4-9593-46f2-ec1f-b097089366a1",
        "colab": {
          "base_uri": "https://localhost:8080/",
          "height": 272
        }
      },
      "source": [
        "df[\"Producto4\"].unique()  "
      ],
      "execution_count": 0,
      "outputs": [
        {
          "output_type": "execute_result",
          "data": {
            "text/plain": [
              "array([  nan, 2156., 4548., 7575., 7268., 2320., 5081., 4236., 3755.,\n",
              "       6939., 4278., 5999., 3586., 4132., 7064., 6996., 4331., 6134.,\n",
              "       4639., 4635., 2144., 5041., 7219., 7208., 5237., 5869., 1753.,\n",
              "       7194., 5384., 7121., 5259., 5103., 5514., 3524., 4187., 4359.,\n",
              "       7127., 6971., 6178., 5078., 4416., 5683., 5647., 6901., 4902.,\n",
              "       3752., 4822., 4015., 5534., 7044., 6242., 6239., 5661., 1445.,\n",
              "       3064., 5941., 7052., 6864., 5837., 4185., 4036., 4375., 6763.,\n",
              "       6686., 6520., 6044., 5205., 3959., 4263., 4379., 4256., 3985.,\n",
              "       2169., 2550., 2605., 3599., 1923., 2044., 3183., 2709., 2547.,\n",
              "        656., 1415., 1342., 1799., 1588., 1906.,  705., 1116., 1773.,\n",
              "       2211.,  984., 1967.,  663., 1003.,  825.,  924.,  870., 1373.,\n",
              "       1311., 1238.,  919., 1006., 1483., 1374., 1442.,  633.,  952.,\n",
              "        286.,  833., 1191., 1114., 1075., 1230.,  958.,  309.,  859.,\n",
              "       1208.,  798., 1046.,  906.,  864.,  552., 1063., 1341., 1300.,\n",
              "       1175., 1108., 1005.,  321.,  404.,    0.])"
            ]
          },
          "metadata": {
            "tags": []
          },
          "execution_count": 28
        }
      ]
    },
    {
      "cell_type": "markdown",
      "metadata": {
        "id": "N0sYljD4K4UX",
        "colab_type": "text"
      },
      "source": [
        "<p><a name=\"formateo\"></a></p>\n",
        "\n",
        "## 2.1. Formateo de datos temporales"
      ]
    },
    {
      "cell_type": "markdown",
      "metadata": {
        "id": "HtYNEVV9LC-z",
        "colab_type": "text"
      },
      "source": [
        "La función `to_datetime` permite convertir los datos a un formato especial de tiempo"
      ]
    },
    {
      "cell_type": "code",
      "metadata": {
        "id": "5XzounFS_4zL",
        "colab_type": "code",
        "outputId": "244b9fa1-3a1d-424a-8daa-92a97ae7a0be",
        "colab": {
          "base_uri": "https://localhost:8080/",
          "height": 119
        }
      },
      "source": [
        "pd.to_datetime(df.Fecha).head()"
      ],
      "execution_count": 0,
      "outputs": [
        {
          "output_type": "execute_result",
          "data": {
            "text/plain": [
              "0   2009-01-01\n",
              "1   2009-02-01\n",
              "2   2009-03-01\n",
              "3   2009-04-01\n",
              "4   2009-05-01\n",
              "Name: Fecha, dtype: datetime64[ns]"
            ]
          },
          "metadata": {
            "tags": []
          },
          "execution_count": 29
        }
      ]
    },
    {
      "cell_type": "code",
      "metadata": {
        "id": "RRD46rmYLvcm",
        "colab_type": "code",
        "outputId": "d03f096a-2c6f-4840-c6ab-2a1822050b08",
        "colab": {
          "base_uri": "https://localhost:8080/",
          "height": 119
        }
      },
      "source": [
        "pd.to_datetime(df.Fecha, format='%d/%m/%Y').head()"
      ],
      "execution_count": 0,
      "outputs": [
        {
          "output_type": "execute_result",
          "data": {
            "text/plain": [
              "0   2009-01-01\n",
              "1   2009-01-02\n",
              "2   2009-01-03\n",
              "3   2009-01-04\n",
              "4   2009-01-05\n",
              "Name: Fecha, dtype: datetime64[ns]"
            ]
          },
          "metadata": {
            "tags": []
          },
          "execution_count": 30
        }
      ]
    },
    {
      "cell_type": "code",
      "metadata": {
        "id": "l2i3pwVcAaeP",
        "colab_type": "code",
        "outputId": "75760f5b-99fe-43e4-c8ae-792db4fce390",
        "colab": {
          "base_uri": "https://localhost:8080/",
          "height": 235
        }
      },
      "source": [
        "df.Fecha=pd.to_datetime(df.Fecha)\n",
        "df.set_index('Fecha', inplace=True)\n",
        "df.head()"
      ],
      "execution_count": 0,
      "outputs": [
        {
          "output_type": "execute_result",
          "data": {
            "text/html": [
              "<div>\n",
              "<style scoped>\n",
              "    .dataframe tbody tr th:only-of-type {\n",
              "        vertical-align: middle;\n",
              "    }\n",
              "\n",
              "    .dataframe tbody tr th {\n",
              "        vertical-align: top;\n",
              "    }\n",
              "\n",
              "    .dataframe thead th {\n",
              "        text-align: right;\n",
              "    }\n",
              "</style>\n",
              "<table border=\"1\" class=\"dataframe\">\n",
              "  <thead>\n",
              "    <tr style=\"text-align: right;\">\n",
              "      <th></th>\n",
              "      <th>Producto1</th>\n",
              "      <th>Producto2</th>\n",
              "      <th>Producto3</th>\n",
              "      <th>Producto4</th>\n",
              "    </tr>\n",
              "    <tr>\n",
              "      <th>Fecha</th>\n",
              "      <th></th>\n",
              "      <th></th>\n",
              "      <th></th>\n",
              "      <th></th>\n",
              "    </tr>\n",
              "  </thead>\n",
              "  <tbody>\n",
              "    <tr>\n",
              "      <th>2009-01-01</th>\n",
              "      <td>29</td>\n",
              "      <td>20</td>\n",
              "      <td>35</td>\n",
              "      <td>NaN</td>\n",
              "    </tr>\n",
              "    <tr>\n",
              "      <th>2009-02-01</th>\n",
              "      <td>19</td>\n",
              "      <td>3</td>\n",
              "      <td>22</td>\n",
              "      <td>NaN</td>\n",
              "    </tr>\n",
              "    <tr>\n",
              "      <th>2009-03-01</th>\n",
              "      <td>24</td>\n",
              "      <td>12</td>\n",
              "      <td>22</td>\n",
              "      <td>NaN</td>\n",
              "    </tr>\n",
              "    <tr>\n",
              "      <th>2009-04-01</th>\n",
              "      <td>24</td>\n",
              "      <td>8</td>\n",
              "      <td>15</td>\n",
              "      <td>NaN</td>\n",
              "    </tr>\n",
              "    <tr>\n",
              "      <th>2009-05-01</th>\n",
              "      <td>120</td>\n",
              "      <td>111</td>\n",
              "      <td>141</td>\n",
              "      <td>NaN</td>\n",
              "    </tr>\n",
              "  </tbody>\n",
              "</table>\n",
              "</div>"
            ],
            "text/plain": [
              "            Producto1  Producto2  Producto3  Producto4\n",
              "Fecha                                                 \n",
              "2009-01-01         29         20         35        NaN\n",
              "2009-02-01         19          3         22        NaN\n",
              "2009-03-01         24         12         22        NaN\n",
              "2009-04-01         24          8         15        NaN\n",
              "2009-05-01        120        111        141        NaN"
            ]
          },
          "metadata": {
            "tags": []
          },
          "execution_count": 31
        }
      ]
    },
    {
      "cell_type": "markdown",
      "metadata": {
        "id": "L5pKpKPmN8-3",
        "colab_type": "text"
      },
      "source": [
        "<p><a name=\"procesamientoNulos\"></a></p>\n",
        "\n",
        "## 2.2. Procesamiento de datos nulos"
      ]
    },
    {
      "cell_type": "code",
      "metadata": {
        "id": "fQRvzVfuBKRS",
        "colab_type": "code",
        "outputId": "3ad95e9b-f922-4bb7-bae4-7009e2106d1e",
        "colab": {
          "base_uri": "https://localhost:8080/",
          "height": 235
        }
      },
      "source": [
        "df.isna().head() "
      ],
      "execution_count": 0,
      "outputs": [
        {
          "output_type": "execute_result",
          "data": {
            "text/html": [
              "<div>\n",
              "<style scoped>\n",
              "    .dataframe tbody tr th:only-of-type {\n",
              "        vertical-align: middle;\n",
              "    }\n",
              "\n",
              "    .dataframe tbody tr th {\n",
              "        vertical-align: top;\n",
              "    }\n",
              "\n",
              "    .dataframe thead th {\n",
              "        text-align: right;\n",
              "    }\n",
              "</style>\n",
              "<table border=\"1\" class=\"dataframe\">\n",
              "  <thead>\n",
              "    <tr style=\"text-align: right;\">\n",
              "      <th></th>\n",
              "      <th>Producto1</th>\n",
              "      <th>Producto2</th>\n",
              "      <th>Producto3</th>\n",
              "      <th>Producto4</th>\n",
              "    </tr>\n",
              "    <tr>\n",
              "      <th>Fecha</th>\n",
              "      <th></th>\n",
              "      <th></th>\n",
              "      <th></th>\n",
              "      <th></th>\n",
              "    </tr>\n",
              "  </thead>\n",
              "  <tbody>\n",
              "    <tr>\n",
              "      <th>2009-01-01</th>\n",
              "      <td>False</td>\n",
              "      <td>False</td>\n",
              "      <td>False</td>\n",
              "      <td>True</td>\n",
              "    </tr>\n",
              "    <tr>\n",
              "      <th>2009-02-01</th>\n",
              "      <td>False</td>\n",
              "      <td>False</td>\n",
              "      <td>False</td>\n",
              "      <td>True</td>\n",
              "    </tr>\n",
              "    <tr>\n",
              "      <th>2009-03-01</th>\n",
              "      <td>False</td>\n",
              "      <td>False</td>\n",
              "      <td>False</td>\n",
              "      <td>True</td>\n",
              "    </tr>\n",
              "    <tr>\n",
              "      <th>2009-04-01</th>\n",
              "      <td>False</td>\n",
              "      <td>False</td>\n",
              "      <td>False</td>\n",
              "      <td>True</td>\n",
              "    </tr>\n",
              "    <tr>\n",
              "      <th>2009-05-01</th>\n",
              "      <td>False</td>\n",
              "      <td>False</td>\n",
              "      <td>False</td>\n",
              "      <td>True</td>\n",
              "    </tr>\n",
              "  </tbody>\n",
              "</table>\n",
              "</div>"
            ],
            "text/plain": [
              "            Producto1  Producto2  Producto3  Producto4\n",
              "Fecha                                                 \n",
              "2009-01-01      False      False      False       True\n",
              "2009-02-01      False      False      False       True\n",
              "2009-03-01      False      False      False       True\n",
              "2009-04-01      False      False      False       True\n",
              "2009-05-01      False      False      False       True"
            ]
          },
          "metadata": {
            "tags": []
          },
          "execution_count": 32
        }
      ]
    },
    {
      "cell_type": "markdown",
      "metadata": {
        "id": "9q_xfpstLYS6",
        "colab_type": "text"
      },
      "source": [
        " Es lo mismo que df.isnull, ver: https://datascience.stackexchange.com/questions/37878/difference-between-isna-and-isnull-in-pandas"
      ]
    },
    {
      "cell_type": "markdown",
      "metadata": {
        "id": "mvt0PKf1CpsC",
        "colab_type": "text"
      },
      "source": [
        "Usar el comando `fillna()` para reemplazar los valores nulos con el valor deseado. Puede hacerse en una sola columna `df.columna.fillna()` o en todas al mismo tiempo `df.fillna()` "
      ]
    },
    {
      "cell_type": "code",
      "metadata": {
        "id": "pu5d3XsZoJuJ",
        "colab_type": "code",
        "outputId": "683c275e-ba13-4cbb-a22c-fc17e7d58b45",
        "colab": {
          "base_uri": "https://localhost:8080/",
          "height": 1000
        }
      },
      "source": [
        "# Solo visual\n",
        "df.Producto4.fillna(0)"
      ],
      "execution_count": 0,
      "outputs": [
        {
          "output_type": "execute_result",
          "data": {
            "text/plain": [
              "Fecha\n",
              "2009-01-01    0.0\n",
              "2009-02-01    0.0\n",
              "2009-03-01    0.0\n",
              "2009-04-01    0.0\n",
              "2009-05-01    0.0\n",
              "2009-06-01    0.0\n",
              "2009-07-01    0.0\n",
              "2009-08-01    0.0\n",
              "2009-09-01    0.0\n",
              "2009-10-01    0.0\n",
              "2009-11-01    0.0\n",
              "2009-12-01    0.0\n",
              "2009-01-13    0.0\n",
              "2009-01-14    0.0\n",
              "2009-01-15    0.0\n",
              "2009-01-16    0.0\n",
              "2009-01-17    0.0\n",
              "2009-01-18    0.0\n",
              "2009-01-19    0.0\n",
              "2009-01-20    0.0\n",
              "2009-01-21    0.0\n",
              "2009-01-22    0.0\n",
              "2009-01-23    0.0\n",
              "2009-01-24    0.0\n",
              "2009-01-25    0.0\n",
              "2009-01-26    0.0\n",
              "2009-01-27    0.0\n",
              "2009-01-28    0.0\n",
              "2009-01-29    0.0\n",
              "2009-01-30    0.0\n",
              "             ... \n",
              "2009-02-12    0.0\n",
              "2009-03-12    0.0\n",
              "2009-04-12    0.0\n",
              "2009-05-12    0.0\n",
              "2009-06-12    0.0\n",
              "2009-07-12    0.0\n",
              "2009-08-12    0.0\n",
              "2009-09-12    0.0\n",
              "2009-10-12    0.0\n",
              "2009-11-12    0.0\n",
              "2009-12-12    0.0\n",
              "2009-12-13    0.0\n",
              "2009-12-14    0.0\n",
              "2009-12-15    0.0\n",
              "2009-12-16    0.0\n",
              "2009-12-17    0.0\n",
              "2009-12-18    0.0\n",
              "2009-12-19    0.0\n",
              "2009-12-20    0.0\n",
              "2009-12-21    0.0\n",
              "2009-12-22    0.0\n",
              "2009-12-23    0.0\n",
              "2009-12-24    0.0\n",
              "2009-12-25    0.0\n",
              "2009-12-26    0.0\n",
              "2009-12-27    0.0\n",
              "2009-12-28    0.0\n",
              "2009-12-29    0.0\n",
              "2009-12-30    0.0\n",
              "2009-12-31    0.0\n",
              "Name: Producto4, Length: 365, dtype: float64"
            ]
          },
          "metadata": {
            "tags": []
          },
          "execution_count": 33
        }
      ]
    },
    {
      "cell_type": "code",
      "metadata": {
        "id": "TVtHx9DhymFo",
        "colab_type": "code",
        "colab": {}
      },
      "source": [
        "# Cambiando los datos\n",
        "df.Producto4.fillna(df.Producto4.mean(),inplace=True) #Importante inplace"
      ],
      "execution_count": 0,
      "outputs": []
    },
    {
      "cell_type": "markdown",
      "metadata": {
        "id": "JozGd7c9Fsso",
        "colab_type": "text"
      },
      "source": [
        "<p><a name=\"indexacion\"></a></p>\n",
        "\n",
        "## 2.3. Indexación y localización\n",
        "Usando los comandos `iloc` y `loc`  en un dataframe, se puede acceder a los datos con base en las etiquetas y la ubicación respectivamente "
      ]
    },
    {
      "cell_type": "code",
      "metadata": {
        "id": "6ozNIUigzLgG",
        "colab_type": "code",
        "outputId": "13155d92-03fc-4892-8520-6025934c7b95",
        "colab": {
          "base_uri": "https://localhost:8080/",
          "height": 390
        }
      },
      "source": [
        "df.iloc[100:110]"
      ],
      "execution_count": 0,
      "outputs": [
        {
          "output_type": "execute_result",
          "data": {
            "text/html": [
              "<div>\n",
              "<style scoped>\n",
              "    .dataframe tbody tr th:only-of-type {\n",
              "        vertical-align: middle;\n",
              "    }\n",
              "\n",
              "    .dataframe tbody tr th {\n",
              "        vertical-align: top;\n",
              "    }\n",
              "\n",
              "    .dataframe thead th {\n",
              "        text-align: right;\n",
              "    }\n",
              "</style>\n",
              "<table border=\"1\" class=\"dataframe\">\n",
              "  <thead>\n",
              "    <tr style=\"text-align: right;\">\n",
              "      <th></th>\n",
              "      <th>Producto1</th>\n",
              "      <th>Producto2</th>\n",
              "      <th>Producto3</th>\n",
              "      <th>Producto4</th>\n",
              "    </tr>\n",
              "    <tr>\n",
              "      <th>Fecha</th>\n",
              "      <th></th>\n",
              "      <th></th>\n",
              "      <th></th>\n",
              "      <th></th>\n",
              "    </tr>\n",
              "  </thead>\n",
              "  <tbody>\n",
              "    <tr>\n",
              "      <th>2009-11-04</th>\n",
              "      <td>0</td>\n",
              "      <td>0</td>\n",
              "      <td>0</td>\n",
              "      <td>2576.359551</td>\n",
              "    </tr>\n",
              "    <tr>\n",
              "      <th>2009-12-04</th>\n",
              "      <td>0</td>\n",
              "      <td>0</td>\n",
              "      <td>0</td>\n",
              "      <td>2576.359551</td>\n",
              "    </tr>\n",
              "    <tr>\n",
              "      <th>2009-04-13</th>\n",
              "      <td>0</td>\n",
              "      <td>0</td>\n",
              "      <td>0</td>\n",
              "      <td>2576.359551</td>\n",
              "    </tr>\n",
              "    <tr>\n",
              "      <th>2009-04-14</th>\n",
              "      <td>0</td>\n",
              "      <td>0</td>\n",
              "      <td>0</td>\n",
              "      <td>2576.359551</td>\n",
              "    </tr>\n",
              "    <tr>\n",
              "      <th>2009-04-15</th>\n",
              "      <td>0</td>\n",
              "      <td>0</td>\n",
              "      <td>0</td>\n",
              "      <td>2576.359551</td>\n",
              "    </tr>\n",
              "    <tr>\n",
              "      <th>2009-04-16</th>\n",
              "      <td>0</td>\n",
              "      <td>0</td>\n",
              "      <td>0</td>\n",
              "      <td>2576.359551</td>\n",
              "    </tr>\n",
              "    <tr>\n",
              "      <th>2009-04-17</th>\n",
              "      <td>1286</td>\n",
              "      <td>820</td>\n",
              "      <td>1436</td>\n",
              "      <td>2576.359551</td>\n",
              "    </tr>\n",
              "    <tr>\n",
              "      <th>2009-04-18</th>\n",
              "      <td>1178</td>\n",
              "      <td>667</td>\n",
              "      <td>826</td>\n",
              "      <td>2576.359551</td>\n",
              "    </tr>\n",
              "    <tr>\n",
              "      <th>2009-04-19</th>\n",
              "      <td>2131</td>\n",
              "      <td>1155</td>\n",
              "      <td>1426</td>\n",
              "      <td>2576.359551</td>\n",
              "    </tr>\n",
              "    <tr>\n",
              "      <th>2009-04-20</th>\n",
              "      <td>2709</td>\n",
              "      <td>1697</td>\n",
              "      <td>2646</td>\n",
              "      <td>2576.359551</td>\n",
              "    </tr>\n",
              "  </tbody>\n",
              "</table>\n",
              "</div>"
            ],
            "text/plain": [
              "            Producto1  Producto2  Producto3    Producto4\n",
              "Fecha                                                   \n",
              "2009-11-04          0          0          0  2576.359551\n",
              "2009-12-04          0          0          0  2576.359551\n",
              "2009-04-13          0          0          0  2576.359551\n",
              "2009-04-14          0          0          0  2576.359551\n",
              "2009-04-15          0          0          0  2576.359551\n",
              "2009-04-16          0          0          0  2576.359551\n",
              "2009-04-17       1286        820       1436  2576.359551\n",
              "2009-04-18       1178        667        826  2576.359551\n",
              "2009-04-19       2131       1155       1426  2576.359551\n",
              "2009-04-20       2709       1697       2646  2576.359551"
            ]
          },
          "metadata": {
            "tags": []
          },
          "execution_count": 35
        }
      ]
    },
    {
      "cell_type": "markdown",
      "metadata": {
        "id": "xQ3ai7KcPKdA",
        "colab_type": "text"
      },
      "source": [
        "Indexación para un subconjunto de columnas"
      ]
    },
    {
      "cell_type": "code",
      "metadata": {
        "id": "Vy9_2BNyPJPU",
        "colab_type": "code",
        "outputId": "d00a6d0c-f325-4aa1-ff52-45201738788a",
        "colab": {
          "base_uri": "https://localhost:8080/",
          "height": 390
        }
      },
      "source": [
        "df[['Producto1','Producto4']].iloc[100:110]"
      ],
      "execution_count": 0,
      "outputs": [
        {
          "output_type": "execute_result",
          "data": {
            "text/html": [
              "<div>\n",
              "<style scoped>\n",
              "    .dataframe tbody tr th:only-of-type {\n",
              "        vertical-align: middle;\n",
              "    }\n",
              "\n",
              "    .dataframe tbody tr th {\n",
              "        vertical-align: top;\n",
              "    }\n",
              "\n",
              "    .dataframe thead th {\n",
              "        text-align: right;\n",
              "    }\n",
              "</style>\n",
              "<table border=\"1\" class=\"dataframe\">\n",
              "  <thead>\n",
              "    <tr style=\"text-align: right;\">\n",
              "      <th></th>\n",
              "      <th>Producto1</th>\n",
              "      <th>Producto4</th>\n",
              "    </tr>\n",
              "    <tr>\n",
              "      <th>Fecha</th>\n",
              "      <th></th>\n",
              "      <th></th>\n",
              "    </tr>\n",
              "  </thead>\n",
              "  <tbody>\n",
              "    <tr>\n",
              "      <th>2009-11-04</th>\n",
              "      <td>0</td>\n",
              "      <td>2576.359551</td>\n",
              "    </tr>\n",
              "    <tr>\n",
              "      <th>2009-12-04</th>\n",
              "      <td>0</td>\n",
              "      <td>2576.359551</td>\n",
              "    </tr>\n",
              "    <tr>\n",
              "      <th>2009-04-13</th>\n",
              "      <td>0</td>\n",
              "      <td>2576.359551</td>\n",
              "    </tr>\n",
              "    <tr>\n",
              "      <th>2009-04-14</th>\n",
              "      <td>0</td>\n",
              "      <td>2576.359551</td>\n",
              "    </tr>\n",
              "    <tr>\n",
              "      <th>2009-04-15</th>\n",
              "      <td>0</td>\n",
              "      <td>2576.359551</td>\n",
              "    </tr>\n",
              "    <tr>\n",
              "      <th>2009-04-16</th>\n",
              "      <td>0</td>\n",
              "      <td>2576.359551</td>\n",
              "    </tr>\n",
              "    <tr>\n",
              "      <th>2009-04-17</th>\n",
              "      <td>1286</td>\n",
              "      <td>2576.359551</td>\n",
              "    </tr>\n",
              "    <tr>\n",
              "      <th>2009-04-18</th>\n",
              "      <td>1178</td>\n",
              "      <td>2576.359551</td>\n",
              "    </tr>\n",
              "    <tr>\n",
              "      <th>2009-04-19</th>\n",
              "      <td>2131</td>\n",
              "      <td>2576.359551</td>\n",
              "    </tr>\n",
              "    <tr>\n",
              "      <th>2009-04-20</th>\n",
              "      <td>2709</td>\n",
              "      <td>2576.359551</td>\n",
              "    </tr>\n",
              "  </tbody>\n",
              "</table>\n",
              "</div>"
            ],
            "text/plain": [
              "            Producto1    Producto4\n",
              "Fecha                             \n",
              "2009-11-04          0  2576.359551\n",
              "2009-12-04          0  2576.359551\n",
              "2009-04-13          0  2576.359551\n",
              "2009-04-14          0  2576.359551\n",
              "2009-04-15          0  2576.359551\n",
              "2009-04-16          0  2576.359551\n",
              "2009-04-17       1286  2576.359551\n",
              "2009-04-18       1178  2576.359551\n",
              "2009-04-19       2131  2576.359551\n",
              "2009-04-20       2709  2576.359551"
            ]
          },
          "metadata": {
            "tags": []
          },
          "execution_count": 36
        }
      ]
    },
    {
      "cell_type": "code",
      "metadata": {
        "id": "UZwfvVR1yVoH",
        "colab_type": "code",
        "outputId": "b273394b-8605-4d13-a9d2-02a593ae9017",
        "colab": {
          "base_uri": "https://localhost:8080/",
          "height": 1000
        }
      },
      "source": [
        "df.iloc[:,1:3]"
      ],
      "execution_count": 0,
      "outputs": [
        {
          "output_type": "execute_result",
          "data": {
            "text/html": [
              "<div>\n",
              "<style scoped>\n",
              "    .dataframe tbody tr th:only-of-type {\n",
              "        vertical-align: middle;\n",
              "    }\n",
              "\n",
              "    .dataframe tbody tr th {\n",
              "        vertical-align: top;\n",
              "    }\n",
              "\n",
              "    .dataframe thead th {\n",
              "        text-align: right;\n",
              "    }\n",
              "</style>\n",
              "<table border=\"1\" class=\"dataframe\">\n",
              "  <thead>\n",
              "    <tr style=\"text-align: right;\">\n",
              "      <th></th>\n",
              "      <th>Producto2</th>\n",
              "      <th>Producto3</th>\n",
              "    </tr>\n",
              "    <tr>\n",
              "      <th>Fecha</th>\n",
              "      <th></th>\n",
              "      <th></th>\n",
              "    </tr>\n",
              "  </thead>\n",
              "  <tbody>\n",
              "    <tr>\n",
              "      <th>2009-01-01</th>\n",
              "      <td>20</td>\n",
              "      <td>35</td>\n",
              "    </tr>\n",
              "    <tr>\n",
              "      <th>2009-02-01</th>\n",
              "      <td>3</td>\n",
              "      <td>22</td>\n",
              "    </tr>\n",
              "    <tr>\n",
              "      <th>2009-03-01</th>\n",
              "      <td>12</td>\n",
              "      <td>22</td>\n",
              "    </tr>\n",
              "    <tr>\n",
              "      <th>2009-04-01</th>\n",
              "      <td>8</td>\n",
              "      <td>15</td>\n",
              "    </tr>\n",
              "    <tr>\n",
              "      <th>2009-05-01</th>\n",
              "      <td>111</td>\n",
              "      <td>141</td>\n",
              "    </tr>\n",
              "    <tr>\n",
              "      <th>2009-06-01</th>\n",
              "      <td>146</td>\n",
              "      <td>236</td>\n",
              "    </tr>\n",
              "    <tr>\n",
              "      <th>2009-07-01</th>\n",
              "      <td>33</td>\n",
              "      <td>80</td>\n",
              "    </tr>\n",
              "    <tr>\n",
              "      <th>2009-08-01</th>\n",
              "      <td>14</td>\n",
              "      <td>14</td>\n",
              "    </tr>\n",
              "    <tr>\n",
              "      <th>2009-09-01</th>\n",
              "      <td>20</td>\n",
              "      <td>32</td>\n",
              "    </tr>\n",
              "    <tr>\n",
              "      <th>2009-10-01</th>\n",
              "      <td>45</td>\n",
              "      <td>79</td>\n",
              "    </tr>\n",
              "    <tr>\n",
              "      <th>2009-11-01</th>\n",
              "      <td>160</td>\n",
              "      <td>306</td>\n",
              "    </tr>\n",
              "    <tr>\n",
              "      <th>2009-12-01</th>\n",
              "      <td>99</td>\n",
              "      <td>170</td>\n",
              "    </tr>\n",
              "    <tr>\n",
              "      <th>2009-01-13</th>\n",
              "      <td>94</td>\n",
              "      <td>172</td>\n",
              "    </tr>\n",
              "    <tr>\n",
              "      <th>2009-01-14</th>\n",
              "      <td>87</td>\n",
              "      <td>175</td>\n",
              "    </tr>\n",
              "    <tr>\n",
              "      <th>2009-01-15</th>\n",
              "      <td>90</td>\n",
              "      <td>172</td>\n",
              "    </tr>\n",
              "    <tr>\n",
              "      <th>2009-01-16</th>\n",
              "      <td>49</td>\n",
              "      <td>97</td>\n",
              "    </tr>\n",
              "    <tr>\n",
              "      <th>2009-01-17</th>\n",
              "      <td>13</td>\n",
              "      <td>20</td>\n",
              "    </tr>\n",
              "    <tr>\n",
              "      <th>2009-01-18</th>\n",
              "      <td>22</td>\n",
              "      <td>55</td>\n",
              "    </tr>\n",
              "    <tr>\n",
              "      <th>2009-01-19</th>\n",
              "      <td>127</td>\n",
              "      <td>202</td>\n",
              "    </tr>\n",
              "    <tr>\n",
              "      <th>2009-01-20</th>\n",
              "      <td>85</td>\n",
              "      <td>176</td>\n",
              "    </tr>\n",
              "    <tr>\n",
              "      <th>2009-01-21</th>\n",
              "      <td>63</td>\n",
              "      <td>137</td>\n",
              "    </tr>\n",
              "    <tr>\n",
              "      <th>2009-01-22</th>\n",
              "      <td>125</td>\n",
              "      <td>205</td>\n",
              "    </tr>\n",
              "    <tr>\n",
              "      <th>2009-01-23</th>\n",
              "      <td>81</td>\n",
              "      <td>153</td>\n",
              "    </tr>\n",
              "    <tr>\n",
              "      <th>2009-01-24</th>\n",
              "      <td>1</td>\n",
              "      <td>10</td>\n",
              "    </tr>\n",
              "    <tr>\n",
              "      <th>2009-01-25</th>\n",
              "      <td>14</td>\n",
              "      <td>28</td>\n",
              "    </tr>\n",
              "    <tr>\n",
              "      <th>2009-01-26</th>\n",
              "      <td>85</td>\n",
              "      <td>136</td>\n",
              "    </tr>\n",
              "    <tr>\n",
              "      <th>2009-01-27</th>\n",
              "      <td>119</td>\n",
              "      <td>221</td>\n",
              "    </tr>\n",
              "    <tr>\n",
              "      <th>2009-01-28</th>\n",
              "      <td>52</td>\n",
              "      <td>113</td>\n",
              "    </tr>\n",
              "    <tr>\n",
              "      <th>2009-01-29</th>\n",
              "      <td>80</td>\n",
              "      <td>117</td>\n",
              "    </tr>\n",
              "    <tr>\n",
              "      <th>2009-01-30</th>\n",
              "      <td>60</td>\n",
              "      <td>106</td>\n",
              "    </tr>\n",
              "    <tr>\n",
              "      <th>...</th>\n",
              "      <td>...</td>\n",
              "      <td>...</td>\n",
              "    </tr>\n",
              "    <tr>\n",
              "      <th>2009-02-12</th>\n",
              "      <td>711</td>\n",
              "      <td>1867</td>\n",
              "    </tr>\n",
              "    <tr>\n",
              "      <th>2009-03-12</th>\n",
              "      <td>367</td>\n",
              "      <td>921</td>\n",
              "    </tr>\n",
              "    <tr>\n",
              "      <th>2009-04-12</th>\n",
              "      <td>595</td>\n",
              "      <td>1472</td>\n",
              "    </tr>\n",
              "    <tr>\n",
              "      <th>2009-05-12</th>\n",
              "      <td>301</td>\n",
              "      <td>746</td>\n",
              "    </tr>\n",
              "    <tr>\n",
              "      <th>2009-06-12</th>\n",
              "      <td>276</td>\n",
              "      <td>679</td>\n",
              "    </tr>\n",
              "    <tr>\n",
              "      <th>2009-07-12</th>\n",
              "      <td>358</td>\n",
              "      <td>1039</td>\n",
              "    </tr>\n",
              "    <tr>\n",
              "      <th>2009-08-12</th>\n",
              "      <td>318</td>\n",
              "      <td>807</td>\n",
              "    </tr>\n",
              "    <tr>\n",
              "      <th>2009-09-12</th>\n",
              "      <td>64</td>\n",
              "      <td>274</td>\n",
              "    </tr>\n",
              "    <tr>\n",
              "      <th>2009-10-12</th>\n",
              "      <td>110</td>\n",
              "      <td>363</td>\n",
              "    </tr>\n",
              "    <tr>\n",
              "      <th>2009-11-12</th>\n",
              "      <td>77</td>\n",
              "      <td>378</td>\n",
              "    </tr>\n",
              "    <tr>\n",
              "      <th>2009-12-12</th>\n",
              "      <td>84</td>\n",
              "      <td>210</td>\n",
              "    </tr>\n",
              "    <tr>\n",
              "      <th>2009-12-13</th>\n",
              "      <td>49</td>\n",
              "      <td>113</td>\n",
              "    </tr>\n",
              "    <tr>\n",
              "      <th>2009-12-14</th>\n",
              "      <td>123</td>\n",
              "      <td>433</td>\n",
              "    </tr>\n",
              "    <tr>\n",
              "      <th>2009-12-15</th>\n",
              "      <td>143</td>\n",
              "      <td>395</td>\n",
              "    </tr>\n",
              "    <tr>\n",
              "      <th>2009-12-16</th>\n",
              "      <td>155</td>\n",
              "      <td>350</td>\n",
              "    </tr>\n",
              "    <tr>\n",
              "      <th>2009-12-17</th>\n",
              "      <td>118</td>\n",
              "      <td>304</td>\n",
              "    </tr>\n",
              "    <tr>\n",
              "      <th>2009-12-18</th>\n",
              "      <td>119</td>\n",
              "      <td>373</td>\n",
              "    </tr>\n",
              "    <tr>\n",
              "      <th>2009-12-19</th>\n",
              "      <td>73</td>\n",
              "      <td>162</td>\n",
              "    </tr>\n",
              "    <tr>\n",
              "      <th>2009-12-20</th>\n",
              "      <td>62</td>\n",
              "      <td>125</td>\n",
              "    </tr>\n",
              "    <tr>\n",
              "      <th>2009-12-21</th>\n",
              "      <td>125</td>\n",
              "      <td>383</td>\n",
              "    </tr>\n",
              "    <tr>\n",
              "      <th>2009-12-22</th>\n",
              "      <td>107</td>\n",
              "      <td>353</td>\n",
              "    </tr>\n",
              "    <tr>\n",
              "      <th>2009-12-23</th>\n",
              "      <td>84</td>\n",
              "      <td>204</td>\n",
              "    </tr>\n",
              "    <tr>\n",
              "      <th>2009-12-24</th>\n",
              "      <td>59</td>\n",
              "      <td>129</td>\n",
              "    </tr>\n",
              "    <tr>\n",
              "      <th>2009-12-25</th>\n",
              "      <td>21</td>\n",
              "      <td>36</td>\n",
              "    </tr>\n",
              "    <tr>\n",
              "      <th>2009-12-26</th>\n",
              "      <td>21</td>\n",
              "      <td>59</td>\n",
              "    </tr>\n",
              "    <tr>\n",
              "      <th>2009-12-27</th>\n",
              "      <td>29</td>\n",
              "      <td>52</td>\n",
              "    </tr>\n",
              "    <tr>\n",
              "      <th>2009-12-28</th>\n",
              "      <td>41</td>\n",
              "      <td>99</td>\n",
              "    </tr>\n",
              "    <tr>\n",
              "      <th>2009-12-29</th>\n",
              "      <td>52</td>\n",
              "      <td>115</td>\n",
              "    </tr>\n",
              "    <tr>\n",
              "      <th>2009-12-30</th>\n",
              "      <td>43</td>\n",
              "      <td>115</td>\n",
              "    </tr>\n",
              "    <tr>\n",
              "      <th>2009-12-31</th>\n",
              "      <td>46</td>\n",
              "      <td>112</td>\n",
              "    </tr>\n",
              "  </tbody>\n",
              "</table>\n",
              "<p>365 rows × 2 columns</p>\n",
              "</div>"
            ],
            "text/plain": [
              "            Producto2  Producto3\n",
              "Fecha                           \n",
              "2009-01-01         20         35\n",
              "2009-02-01          3         22\n",
              "2009-03-01         12         22\n",
              "2009-04-01          8         15\n",
              "2009-05-01        111        141\n",
              "2009-06-01        146        236\n",
              "2009-07-01         33         80\n",
              "2009-08-01         14         14\n",
              "2009-09-01         20         32\n",
              "2009-10-01         45         79\n",
              "2009-11-01        160        306\n",
              "2009-12-01         99        170\n",
              "2009-01-13         94        172\n",
              "2009-01-14         87        175\n",
              "2009-01-15         90        172\n",
              "2009-01-16         49         97\n",
              "2009-01-17         13         20\n",
              "2009-01-18         22         55\n",
              "2009-01-19        127        202\n",
              "2009-01-20         85        176\n",
              "2009-01-21         63        137\n",
              "2009-01-22        125        205\n",
              "2009-01-23         81        153\n",
              "2009-01-24          1         10\n",
              "2009-01-25         14         28\n",
              "2009-01-26         85        136\n",
              "2009-01-27        119        221\n",
              "2009-01-28         52        113\n",
              "2009-01-29         80        117\n",
              "2009-01-30         60        106\n",
              "...               ...        ...\n",
              "2009-02-12        711       1867\n",
              "2009-03-12        367        921\n",
              "2009-04-12        595       1472\n",
              "2009-05-12        301        746\n",
              "2009-06-12        276        679\n",
              "2009-07-12        358       1039\n",
              "2009-08-12        318        807\n",
              "2009-09-12         64        274\n",
              "2009-10-12        110        363\n",
              "2009-11-12         77        378\n",
              "2009-12-12         84        210\n",
              "2009-12-13         49        113\n",
              "2009-12-14        123        433\n",
              "2009-12-15        143        395\n",
              "2009-12-16        155        350\n",
              "2009-12-17        118        304\n",
              "2009-12-18        119        373\n",
              "2009-12-19         73        162\n",
              "2009-12-20         62        125\n",
              "2009-12-21        125        383\n",
              "2009-12-22        107        353\n",
              "2009-12-23         84        204\n",
              "2009-12-24         59        129\n",
              "2009-12-25         21         36\n",
              "2009-12-26         21         59\n",
              "2009-12-27         29         52\n",
              "2009-12-28         41         99\n",
              "2009-12-29         52        115\n",
              "2009-12-30         43        115\n",
              "2009-12-31         46        112\n",
              "\n",
              "[365 rows x 2 columns]"
            ]
          },
          "metadata": {
            "tags": []
          },
          "execution_count": 37
        }
      ]
    },
    {
      "cell_type": "code",
      "metadata": {
        "id": "_-TPOca3zOHd",
        "colab_type": "code",
        "outputId": "ad634362-8d78-4d86-d1b1-f69993763927",
        "colab": {
          "base_uri": "https://localhost:8080/",
          "height": 390
        }
      },
      "source": [
        "df.loc[\"2009-10-01\":\"2009-10-10\"]"
      ],
      "execution_count": 0,
      "outputs": [
        {
          "output_type": "execute_result",
          "data": {
            "text/html": [
              "<div>\n",
              "<style scoped>\n",
              "    .dataframe tbody tr th:only-of-type {\n",
              "        vertical-align: middle;\n",
              "    }\n",
              "\n",
              "    .dataframe tbody tr th {\n",
              "        vertical-align: top;\n",
              "    }\n",
              "\n",
              "    .dataframe thead th {\n",
              "        text-align: right;\n",
              "    }\n",
              "</style>\n",
              "<table border=\"1\" class=\"dataframe\">\n",
              "  <thead>\n",
              "    <tr style=\"text-align: right;\">\n",
              "      <th></th>\n",
              "      <th>Producto1</th>\n",
              "      <th>Producto2</th>\n",
              "      <th>Producto3</th>\n",
              "      <th>Producto4</th>\n",
              "    </tr>\n",
              "    <tr>\n",
              "      <th>Fecha</th>\n",
              "      <th></th>\n",
              "      <th></th>\n",
              "      <th></th>\n",
              "      <th></th>\n",
              "    </tr>\n",
              "  </thead>\n",
              "  <tbody>\n",
              "    <tr>\n",
              "      <th>2009-10-01</th>\n",
              "      <td>81</td>\n",
              "      <td>45</td>\n",
              "      <td>79</td>\n",
              "      <td>2576.359551</td>\n",
              "    </tr>\n",
              "    <tr>\n",
              "      <th>2009-10-02</th>\n",
              "      <td>228</td>\n",
              "      <td>101</td>\n",
              "      <td>260</td>\n",
              "      <td>2576.359551</td>\n",
              "    </tr>\n",
              "    <tr>\n",
              "      <th>2009-10-03</th>\n",
              "      <td>366</td>\n",
              "      <td>203</td>\n",
              "      <td>354</td>\n",
              "      <td>2576.359551</td>\n",
              "    </tr>\n",
              "    <tr>\n",
              "      <th>2009-10-04</th>\n",
              "      <td>0</td>\n",
              "      <td>0</td>\n",
              "      <td>0</td>\n",
              "      <td>2576.359551</td>\n",
              "    </tr>\n",
              "    <tr>\n",
              "      <th>2009-10-05</th>\n",
              "      <td>728</td>\n",
              "      <td>362</td>\n",
              "      <td>523</td>\n",
              "      <td>2576.359551</td>\n",
              "    </tr>\n",
              "    <tr>\n",
              "      <th>2009-10-06</th>\n",
              "      <td>3460</td>\n",
              "      <td>2354</td>\n",
              "      <td>3978</td>\n",
              "      <td>2576.359551</td>\n",
              "    </tr>\n",
              "    <tr>\n",
              "      <th>2009-10-07</th>\n",
              "      <td>6274</td>\n",
              "      <td>4242</td>\n",
              "      <td>5435</td>\n",
              "      <td>7268.000000</td>\n",
              "    </tr>\n",
              "    <tr>\n",
              "      <th>2009-10-08</th>\n",
              "      <td>2999</td>\n",
              "      <td>1545</td>\n",
              "      <td>3185</td>\n",
              "      <td>4187.000000</td>\n",
              "    </tr>\n",
              "    <tr>\n",
              "      <th>2009-10-09</th>\n",
              "      <td>5496</td>\n",
              "      <td>2921</td>\n",
              "      <td>6587</td>\n",
              "      <td>6520.000000</td>\n",
              "    </tr>\n",
              "    <tr>\n",
              "      <th>2009-10-10</th>\n",
              "      <td>1407</td>\n",
              "      <td>725</td>\n",
              "      <td>1443</td>\n",
              "      <td>1003.000000</td>\n",
              "    </tr>\n",
              "  </tbody>\n",
              "</table>\n",
              "</div>"
            ],
            "text/plain": [
              "            Producto1  Producto2  Producto3    Producto4\n",
              "Fecha                                                   \n",
              "2009-10-01         81         45         79  2576.359551\n",
              "2009-10-02        228        101        260  2576.359551\n",
              "2009-10-03        366        203        354  2576.359551\n",
              "2009-10-04          0          0          0  2576.359551\n",
              "2009-10-05        728        362        523  2576.359551\n",
              "2009-10-06       3460       2354       3978  2576.359551\n",
              "2009-10-07       6274       4242       5435  7268.000000\n",
              "2009-10-08       2999       1545       3185  4187.000000\n",
              "2009-10-09       5496       2921       6587  6520.000000\n",
              "2009-10-10       1407        725       1443  1003.000000"
            ]
          },
          "metadata": {
            "tags": []
          },
          "execution_count": 38
        }
      ]
    },
    {
      "cell_type": "markdown",
      "metadata": {
        "id": "ELqP9yEhg1Tb",
        "colab_type": "text"
      },
      "source": [
        "Parar reasignar un valor de dataframe, simplemente se debe saber la localización, ya sea por indice o por etiqueta y usar el operador de asignación `=`"
      ]
    },
    {
      "cell_type": "code",
      "metadata": {
        "id": "y3iwyTO2gZhD",
        "colab_type": "code",
        "colab": {}
      },
      "source": [
        "df.iloc[109,0]=1000"
      ],
      "execution_count": 0,
      "outputs": []
    },
    {
      "cell_type": "code",
      "metadata": {
        "id": "JjRmd-N3hVqZ",
        "colab_type": "code",
        "colab": {}
      },
      "source": [
        "df.loc['2009-04-19','Producto1']=999"
      ],
      "execution_count": 0,
      "outputs": []
    },
    {
      "cell_type": "markdown",
      "metadata": {
        "id": "rSN2AyoUhukD",
        "colab_type": "text"
      },
      "source": [
        "Validemos la re-asignación de los valores"
      ]
    },
    {
      "cell_type": "code",
      "metadata": {
        "id": "ED45O4mPhiBG",
        "colab_type": "code",
        "outputId": "e03c99f0-19c1-43b2-be71-168e3f6b0827",
        "colab": {
          "base_uri": "https://localhost:8080/",
          "height": 142
        }
      },
      "source": [
        "df[['Producto1']].iloc[108:110]"
      ],
      "execution_count": 0,
      "outputs": [
        {
          "output_type": "execute_result",
          "data": {
            "text/html": [
              "<div>\n",
              "<style scoped>\n",
              "    .dataframe tbody tr th:only-of-type {\n",
              "        vertical-align: middle;\n",
              "    }\n",
              "\n",
              "    .dataframe tbody tr th {\n",
              "        vertical-align: top;\n",
              "    }\n",
              "\n",
              "    .dataframe thead th {\n",
              "        text-align: right;\n",
              "    }\n",
              "</style>\n",
              "<table border=\"1\" class=\"dataframe\">\n",
              "  <thead>\n",
              "    <tr style=\"text-align: right;\">\n",
              "      <th></th>\n",
              "      <th>Producto1</th>\n",
              "    </tr>\n",
              "    <tr>\n",
              "      <th>Fecha</th>\n",
              "      <th></th>\n",
              "    </tr>\n",
              "  </thead>\n",
              "  <tbody>\n",
              "    <tr>\n",
              "      <th>2009-04-19</th>\n",
              "      <td>999</td>\n",
              "    </tr>\n",
              "    <tr>\n",
              "      <th>2009-04-20</th>\n",
              "      <td>1000</td>\n",
              "    </tr>\n",
              "  </tbody>\n",
              "</table>\n",
              "</div>"
            ],
            "text/plain": [
              "            Producto1\n",
              "Fecha                \n",
              "2009-04-19        999\n",
              "2009-04-20       1000"
            ]
          },
          "metadata": {
            "tags": []
          },
          "execution_count": 41
        }
      ]
    },
    {
      "cell_type": "markdown",
      "metadata": {
        "id": "ZkASh8amHAZJ",
        "colab_type": "text"
      },
      "source": [
        "<p><a name=\"organizacionDF\"></a></p>\n",
        "\n",
        "## 2.4. Organización de dataframes\n",
        "El método `sort_values` permite organizar los dataframes con base a los valores de las columnas o las filas"
      ]
    },
    {
      "cell_type": "code",
      "metadata": {
        "id": "mH5XUssqzRTP",
        "colab_type": "code",
        "outputId": "eb4372fa-3360-4f42-afe5-cde75c172e46",
        "colab": {
          "base_uri": "https://localhost:8080/",
          "height": 235
        }
      },
      "source": [
        "df.sort_values(by=\"Producto1\").head()"
      ],
      "execution_count": 0,
      "outputs": [
        {
          "output_type": "execute_result",
          "data": {
            "text/html": [
              "<div>\n",
              "<style scoped>\n",
              "    .dataframe tbody tr th:only-of-type {\n",
              "        vertical-align: middle;\n",
              "    }\n",
              "\n",
              "    .dataframe tbody tr th {\n",
              "        vertical-align: top;\n",
              "    }\n",
              "\n",
              "    .dataframe thead th {\n",
              "        text-align: right;\n",
              "    }\n",
              "</style>\n",
              "<table border=\"1\" class=\"dataframe\">\n",
              "  <thead>\n",
              "    <tr style=\"text-align: right;\">\n",
              "      <th></th>\n",
              "      <th>Producto1</th>\n",
              "      <th>Producto2</th>\n",
              "      <th>Producto3</th>\n",
              "      <th>Producto4</th>\n",
              "    </tr>\n",
              "    <tr>\n",
              "      <th>Fecha</th>\n",
              "      <th></th>\n",
              "      <th></th>\n",
              "      <th></th>\n",
              "      <th></th>\n",
              "    </tr>\n",
              "  </thead>\n",
              "  <tbody>\n",
              "    <tr>\n",
              "      <th>2009-11-04</th>\n",
              "      <td>0</td>\n",
              "      <td>0</td>\n",
              "      <td>0</td>\n",
              "      <td>2576.359551</td>\n",
              "    </tr>\n",
              "    <tr>\n",
              "      <th>2009-03-31</th>\n",
              "      <td>0</td>\n",
              "      <td>0</td>\n",
              "      <td>0</td>\n",
              "      <td>2576.359551</td>\n",
              "    </tr>\n",
              "    <tr>\n",
              "      <th>2009-04-04</th>\n",
              "      <td>0</td>\n",
              "      <td>0</td>\n",
              "      <td>0</td>\n",
              "      <td>2576.359551</td>\n",
              "    </tr>\n",
              "    <tr>\n",
              "      <th>2009-05-04</th>\n",
              "      <td>0</td>\n",
              "      <td>0</td>\n",
              "      <td>0</td>\n",
              "      <td>2576.359551</td>\n",
              "    </tr>\n",
              "    <tr>\n",
              "      <th>2009-06-04</th>\n",
              "      <td>0</td>\n",
              "      <td>0</td>\n",
              "      <td>0</td>\n",
              "      <td>2576.359551</td>\n",
              "    </tr>\n",
              "  </tbody>\n",
              "</table>\n",
              "</div>"
            ],
            "text/plain": [
              "            Producto1  Producto2  Producto3    Producto4\n",
              "Fecha                                                   \n",
              "2009-11-04          0          0          0  2576.359551\n",
              "2009-03-31          0          0          0  2576.359551\n",
              "2009-04-04          0          0          0  2576.359551\n",
              "2009-05-04          0          0          0  2576.359551\n",
              "2009-06-04          0          0          0  2576.359551"
            ]
          },
          "metadata": {
            "tags": []
          },
          "execution_count": 42
        }
      ]
    },
    {
      "cell_type": "markdown",
      "metadata": {
        "id": "hAo8K_5pzjjA",
        "colab_type": "text"
      },
      "source": [
        "<p><a name=\"graficasPandas\"></a></p>\n",
        "\n",
        "## 2.5. Graficando desde pandas\n",
        "Pandas permite realizar algunas gráficas directamente con el comando `DataFrame.plot()`.   "
      ]
    },
    {
      "cell_type": "code",
      "metadata": {
        "id": "s3PyHmNH02_H",
        "colab_type": "code",
        "outputId": "33aa3743-c7a0-4525-9f2f-2c1fa7a466dd",
        "colab": {
          "base_uri": "https://localhost:8080/",
          "height": 249
        }
      },
      "source": [
        "df.Producto1.plot(figsize=(15,3))"
      ],
      "execution_count": 0,
      "outputs": [
        {
          "output_type": "execute_result",
          "data": {
            "text/plain": [
              "<matplotlib.axes._subplots.AxesSubplot at 0x7f4bc9e812b0>"
            ]
          },
          "metadata": {
            "tags": []
          },
          "execution_count": 43
        },
        {
          "output_type": "display_data",
          "data": {
            "image/png": "[encoded data removed]",
            "text/plain": [
              "<Figure size 1080x216 with 1 Axes>"
            ]
          },
          "metadata": {
            "tags": []
          }
        }
      ]
    },
    {
      "cell_type": "code",
      "metadata": {
        "id": "sGFfkAxpzWnJ",
        "colab_type": "code",
        "outputId": "2870e30f-60d2-4963-a2f3-a9203621faf0",
        "colab": {
          "base_uri": "https://localhost:8080/",
          "height": 249
        }
      },
      "source": [
        "df.plot(figsize=(15,3))"
      ],
      "execution_count": 0,
      "outputs": [
        {
          "output_type": "execute_result",
          "data": {
            "text/plain": [
              "<matplotlib.axes._subplots.AxesSubplot at 0x7f4bc9dc3d30>"
            ]
          },
          "metadata": {
            "tags": []
          },
          "execution_count": 44
        },
        {
          "output_type": "display_data",
          "data": {
            "image/png": "[encoded data removed]",
            "text/plain": [
              "<Figure size 1080x216 with 1 Axes>"
            ]
          },
          "metadata": {
            "tags": []
          }
        }
      ]
    },
    {
      "cell_type": "markdown",
      "metadata": {
        "id": "FbXvkQgdinjx",
        "colab_type": "text"
      },
      "source": [
        "Además de gráficos de línea, pandas tiene otro tipo de gráficos los cuales se puede usar con el argumento `kind` dentro del método DataFrame.plot(). Los otro gráficos disponibles son:\n",
        "\n",
        "* `'bar'` or `'barh'` for bar plots\n",
        "* `'hist'` for histogram\n",
        "* `'box'` for boxplot\n",
        "* `'kde'` or `'density'` for density plots\n",
        "* ‘`'area'` for area plots\n",
        "* `'scatter'` for scatter plots\n",
        "* `'hexbin'` for hexagonal bin plots\n",
        "* `'pie'` for pie plots"
      ]
    },
    {
      "cell_type": "code",
      "metadata": {
        "id": "V0ftRiDyoG2_",
        "colab_type": "code",
        "outputId": "9baf8ea4-a942-414b-9868-2d0903fb9065",
        "colab": {
          "base_uri": "https://localhost:8080/",
          "height": 286
        }
      },
      "source": [
        "df.Producto1.plot(kind='hist')"
      ],
      "execution_count": 0,
      "outputs": [
        {
          "output_type": "execute_result",
          "data": {
            "text/plain": [
              "<matplotlib.axes._subplots.AxesSubplot at 0x7f4bc5d41f28>"
            ]
          },
          "metadata": {
            "tags": []
          },
          "execution_count": 45
        },
        {
          "output_type": "display_data",
          "data": {
            "image/png": "[encoded data removed]",
            "text/plain": [
              "<Figure size 432x288 with 1 Axes>"
            ]
          },
          "metadata": {
            "tags": []
          }
        }
      ]
    },
    {
      "cell_type": "code",
      "metadata": {
        "id": "0xC0aaJKbKUW",
        "colab_type": "code",
        "outputId": "07a473fb-c589-4685-a682-9cc68394baf4",
        "colab": {
          "base_uri": "https://localhost:8080/",
          "height": 315
        }
      },
      "source": [
        "df.hist(column='Producto1')"
      ],
      "execution_count": 0,
      "outputs": [
        {
          "output_type": "execute_result",
          "data": {
            "text/plain": [
              "array([[<matplotlib.axes._subplots.AxesSubplot object at 0x7f4bc5cbd0b8>]],\n",
              "      dtype=object)"
            ]
          },
          "metadata": {
            "tags": []
          },
          "execution_count": 46
        },
        {
          "output_type": "display_data",
          "data": {
            "image/png": "[encoded data removed]",
            "text/plain": [
              "<Figure size 432x288 with 1 Axes>"
            ]
          },
          "metadata": {
            "tags": []
          }
        }
      ]
    },
    {
      "cell_type": "markdown",
      "metadata": {
        "id": "f_22rRw1W3kL",
        "colab_type": "text"
      },
      "source": [
        "<p><a name=\"operacionesColFil\"></a></p>\n",
        "\n",
        "## 2.6. Operaciones con columnas y filas\n",
        "La función `apply` regresa algún valor después de aplicarle una función a cada columna/fila del dataframe. \n"
      ]
    },
    {
      "cell_type": "code",
      "metadata": {
        "id": "eCyZEb3zW2r0",
        "colab_type": "code",
        "colab": {}
      },
      "source": [
        "df['Producto3sqrt']=df.Producto3.apply(np.sqrt)"
      ],
      "execution_count": 0,
      "outputs": []
    },
    {
      "cell_type": "code",
      "metadata": {
        "id": "yUNmqGbsYRD5",
        "colab_type": "code",
        "outputId": "52791048-7f8e-4673-83f0-72680ca77740",
        "colab": {
          "base_uri": "https://localhost:8080/",
          "height": 235
        }
      },
      "source": [
        "df.tail()"
      ],
      "execution_count": 0,
      "outputs": [
        {
          "output_type": "execute_result",
          "data": {
            "text/html": [
              "<div>\n",
              "<style scoped>\n",
              "    .dataframe tbody tr th:only-of-type {\n",
              "        vertical-align: middle;\n",
              "    }\n",
              "\n",
              "    .dataframe tbody tr th {\n",
              "        vertical-align: top;\n",
              "    }\n",
              "\n",
              "    .dataframe thead th {\n",
              "        text-align: right;\n",
              "    }\n",
              "</style>\n",
              "<table border=\"1\" class=\"dataframe\">\n",
              "  <thead>\n",
              "    <tr style=\"text-align: right;\">\n",
              "      <th></th>\n",
              "      <th>Producto1</th>\n",
              "      <th>Producto2</th>\n",
              "      <th>Producto3</th>\n",
              "      <th>Producto4</th>\n",
              "      <th>Producto3sqrt</th>\n",
              "    </tr>\n",
              "    <tr>\n",
              "      <th>Fecha</th>\n",
              "      <th></th>\n",
              "      <th></th>\n",
              "      <th></th>\n",
              "      <th></th>\n",
              "      <th></th>\n",
              "    </tr>\n",
              "  </thead>\n",
              "  <tbody>\n",
              "    <tr>\n",
              "      <th>2009-12-27</th>\n",
              "      <td>66</td>\n",
              "      <td>29</td>\n",
              "      <td>52</td>\n",
              "      <td>0.0</td>\n",
              "      <td>7.211103</td>\n",
              "    </tr>\n",
              "    <tr>\n",
              "      <th>2009-12-28</th>\n",
              "      <td>61</td>\n",
              "      <td>41</td>\n",
              "      <td>99</td>\n",
              "      <td>0.0</td>\n",
              "      <td>9.949874</td>\n",
              "    </tr>\n",
              "    <tr>\n",
              "      <th>2009-12-29</th>\n",
              "      <td>89</td>\n",
              "      <td>52</td>\n",
              "      <td>115</td>\n",
              "      <td>0.0</td>\n",
              "      <td>10.723805</td>\n",
              "    </tr>\n",
              "    <tr>\n",
              "      <th>2009-12-30</th>\n",
              "      <td>76</td>\n",
              "      <td>43</td>\n",
              "      <td>115</td>\n",
              "      <td>0.0</td>\n",
              "      <td>10.723805</td>\n",
              "    </tr>\n",
              "    <tr>\n",
              "      <th>2009-12-31</th>\n",
              "      <td>53</td>\n",
              "      <td>46</td>\n",
              "      <td>112</td>\n",
              "      <td>0.0</td>\n",
              "      <td>10.583005</td>\n",
              "    </tr>\n",
              "  </tbody>\n",
              "</table>\n",
              "</div>"
            ],
            "text/plain": [
              "            Producto1  Producto2  Producto3  Producto4  Producto3sqrt\n",
              "Fecha                                                                \n",
              "2009-12-27         66         29         52        0.0       7.211103\n",
              "2009-12-28         61         41         99        0.0       9.949874\n",
              "2009-12-29         89         52        115        0.0      10.723805\n",
              "2009-12-30         76         43        115        0.0      10.723805\n",
              "2009-12-31         53         46        112        0.0      10.583005"
            ]
          },
          "metadata": {
            "tags": []
          },
          "execution_count": 48
        }
      ]
    },
    {
      "cell_type": "code",
      "metadata": {
        "id": "i3LBg-iZYbxY",
        "colab_type": "code",
        "outputId": "1dbd2fbd-9189-40d2-cb89-b64f68eb3c51",
        "colab": {
          "base_uri": "https://localhost:8080/",
          "height": 119
        }
      },
      "source": [
        "df.apply(np.sum, axis=0)"
      ],
      "execution_count": 0,
      "outputs": [
        {
          "output_type": "execute_result",
          "data": {
            "text/plain": [
              "Producto1        738912.000000\n",
              "Producto2        386992.000000\n",
              "Producto3        764007.000000\n",
              "Producto4        940371.235955\n",
              "Producto3sqrt     14277.399684\n",
              "dtype: float64"
            ]
          },
          "metadata": {
            "tags": []
          },
          "execution_count": 49
        }
      ]
    },
    {
      "cell_type": "code",
      "metadata": {
        "id": "kw2hTTsiolEn",
        "colab_type": "code",
        "outputId": "9bf7f81b-dd39-4eaf-f5e7-a8cd63871983",
        "colab": {
          "base_uri": "https://localhost:8080/",
          "height": 272
        }
      },
      "source": [
        "df.apply(np.sum, axis=0).plot(kind='pie')"
      ],
      "execution_count": 0,
      "outputs": [
        {
          "output_type": "execute_result",
          "data": {
            "text/plain": [
              "<matplotlib.axes._subplots.AxesSubplot at 0x7f4bc5bda0b8>"
            ]
          },
          "metadata": {
            "tags": []
          },
          "execution_count": 50
        },
        {
          "output_type": "display_data",
          "data": {
            "image/png": "[encoded data removed]",
            "text/plain": [
              "<Figure size 432x288 with 1 Axes>"
            ]
          },
          "metadata": {
            "tags": []
          }
        }
      ]
    },
    {
      "cell_type": "markdown",
      "metadata": {
        "id": "ssS9xwPYz-fW",
        "colab_type": "text"
      },
      "source": [
        "<p><a name=\"agrupacion\"></a></p>\n",
        "\n",
        "## 2.7. Agrupando dataframes\n",
        "El comando `groupby` permite agrupar y generar calculos y operaciónes sobre los valores agrupados."
      ]
    },
    {
      "cell_type": "code",
      "metadata": {
        "id": "Xyw-6Pzw0H6O",
        "colab_type": "code",
        "outputId": "216e6356-f2f9-47d5-ac29-6b3da7107a0c",
        "colab": {
          "base_uri": "https://localhost:8080/",
          "height": 235
        }
      },
      "source": [
        "df[\"month\"] = [i.month for i in df.index]\n",
        "df.head()"
      ],
      "execution_count": 0,
      "outputs": [
        {
          "output_type": "execute_result",
          "data": {
            "text/html": [
              "<div>\n",
              "<style scoped>\n",
              "    .dataframe tbody tr th:only-of-type {\n",
              "        vertical-align: middle;\n",
              "    }\n",
              "\n",
              "    .dataframe tbody tr th {\n",
              "        vertical-align: top;\n",
              "    }\n",
              "\n",
              "    .dataframe thead th {\n",
              "        text-align: right;\n",
              "    }\n",
              "</style>\n",
              "<table border=\"1\" class=\"dataframe\">\n",
              "  <thead>\n",
              "    <tr style=\"text-align: right;\">\n",
              "      <th></th>\n",
              "      <th>Producto1</th>\n",
              "      <th>Producto2</th>\n",
              "      <th>Producto3</th>\n",
              "      <th>Producto4</th>\n",
              "      <th>Producto3sqrt</th>\n",
              "      <th>month</th>\n",
              "    </tr>\n",
              "    <tr>\n",
              "      <th>Fecha</th>\n",
              "      <th></th>\n",
              "      <th></th>\n",
              "      <th></th>\n",
              "      <th></th>\n",
              "      <th></th>\n",
              "      <th></th>\n",
              "    </tr>\n",
              "  </thead>\n",
              "  <tbody>\n",
              "    <tr>\n",
              "      <th>2009-01-01</th>\n",
              "      <td>29</td>\n",
              "      <td>20</td>\n",
              "      <td>35</td>\n",
              "      <td>2576.359551</td>\n",
              "      <td>5.916080</td>\n",
              "      <td>1</td>\n",
              "    </tr>\n",
              "    <tr>\n",
              "      <th>2009-02-01</th>\n",
              "      <td>19</td>\n",
              "      <td>3</td>\n",
              "      <td>22</td>\n",
              "      <td>2576.359551</td>\n",
              "      <td>4.690416</td>\n",
              "      <td>2</td>\n",
              "    </tr>\n",
              "    <tr>\n",
              "      <th>2009-03-01</th>\n",
              "      <td>24</td>\n",
              "      <td>12</td>\n",
              "      <td>22</td>\n",
              "      <td>2576.359551</td>\n",
              "      <td>4.690416</td>\n",
              "      <td>3</td>\n",
              "    </tr>\n",
              "    <tr>\n",
              "      <th>2009-04-01</th>\n",
              "      <td>24</td>\n",
              "      <td>8</td>\n",
              "      <td>15</td>\n",
              "      <td>2576.359551</td>\n",
              "      <td>3.872983</td>\n",
              "      <td>4</td>\n",
              "    </tr>\n",
              "    <tr>\n",
              "      <th>2009-05-01</th>\n",
              "      <td>120</td>\n",
              "      <td>111</td>\n",
              "      <td>141</td>\n",
              "      <td>2576.359551</td>\n",
              "      <td>11.874342</td>\n",
              "      <td>5</td>\n",
              "    </tr>\n",
              "  </tbody>\n",
              "</table>\n",
              "</div>"
            ],
            "text/plain": [
              "            Producto1  Producto2  Producto3    Producto4  Producto3sqrt  month\n",
              "Fecha                                                                         \n",
              "2009-01-01         29         20         35  2576.359551       5.916080      1\n",
              "2009-02-01         19          3         22  2576.359551       4.690416      2\n",
              "2009-03-01         24         12         22  2576.359551       4.690416      3\n",
              "2009-04-01         24          8         15  2576.359551       3.872983      4\n",
              "2009-05-01        120        111        141  2576.359551      11.874342      5"
            ]
          },
          "metadata": {
            "tags": []
          },
          "execution_count": 51
        }
      ]
    },
    {
      "cell_type": "code",
      "metadata": {
        "id": "aRAVt8rUzpLY",
        "colab_type": "code",
        "outputId": "ee9f17c4-85c1-4e9d-af35-edab5ee0d7d2",
        "colab": {
          "base_uri": "https://localhost:8080/",
          "height": 452
        }
      },
      "source": [
        "df.groupby(\"month\").max()"
      ],
      "execution_count": 0,
      "outputs": [
        {
          "output_type": "execute_result",
          "data": {
            "text/html": [
              "<div>\n",
              "<style scoped>\n",
              "    .dataframe tbody tr th:only-of-type {\n",
              "        vertical-align: middle;\n",
              "    }\n",
              "\n",
              "    .dataframe tbody tr th {\n",
              "        vertical-align: top;\n",
              "    }\n",
              "\n",
              "    .dataframe thead th {\n",
              "        text-align: right;\n",
              "    }\n",
              "</style>\n",
              "<table border=\"1\" class=\"dataframe\">\n",
              "  <thead>\n",
              "    <tr style=\"text-align: right;\">\n",
              "      <th></th>\n",
              "      <th>Producto1</th>\n",
              "      <th>Producto2</th>\n",
              "      <th>Producto3</th>\n",
              "      <th>Producto4</th>\n",
              "      <th>Producto3sqrt</th>\n",
              "    </tr>\n",
              "    <tr>\n",
              "      <th>month</th>\n",
              "      <th></th>\n",
              "      <th></th>\n",
              "      <th></th>\n",
              "      <th></th>\n",
              "      <th></th>\n",
              "    </tr>\n",
              "  </thead>\n",
              "  <tbody>\n",
              "    <tr>\n",
              "      <th>1</th>\n",
              "      <td>5298</td>\n",
              "      <td>2796</td>\n",
              "      <td>5765</td>\n",
              "      <td>6939.0</td>\n",
              "      <td>75.927597</td>\n",
              "    </tr>\n",
              "    <tr>\n",
              "      <th>2</th>\n",
              "      <td>5451</td>\n",
              "      <td>2868</td>\n",
              "      <td>5517</td>\n",
              "      <td>7052.0</td>\n",
              "      <td>74.276510</td>\n",
              "    </tr>\n",
              "    <tr>\n",
              "      <th>3</th>\n",
              "      <td>5904</td>\n",
              "      <td>3523</td>\n",
              "      <td>5762</td>\n",
              "      <td>7194.0</td>\n",
              "      <td>75.907839</td>\n",
              "    </tr>\n",
              "    <tr>\n",
              "      <th>4</th>\n",
              "      <td>5278</td>\n",
              "      <td>3499</td>\n",
              "      <td>5327</td>\n",
              "      <td>5837.0</td>\n",
              "      <td>72.986300</td>\n",
              "    </tr>\n",
              "    <tr>\n",
              "      <th>5</th>\n",
              "      <td>6028</td>\n",
              "      <td>4120</td>\n",
              "      <td>5397</td>\n",
              "      <td>7121.0</td>\n",
              "      <td>73.464277</td>\n",
              "    </tr>\n",
              "    <tr>\n",
              "      <th>6</th>\n",
              "      <td>6320</td>\n",
              "      <td>3499</td>\n",
              "      <td>6047</td>\n",
              "      <td>5259.0</td>\n",
              "      <td>77.762459</td>\n",
              "    </tr>\n",
              "    <tr>\n",
              "      <th>7</th>\n",
              "      <td>6100</td>\n",
              "      <td>3825</td>\n",
              "      <td>5536</td>\n",
              "      <td>7219.0</td>\n",
              "      <td>74.404301</td>\n",
              "    </tr>\n",
              "    <tr>\n",
              "      <th>8</th>\n",
              "      <td>5452</td>\n",
              "      <td>2865</td>\n",
              "      <td>6379</td>\n",
              "      <td>7044.0</td>\n",
              "      <td>79.868642</td>\n",
              "    </tr>\n",
              "    <tr>\n",
              "      <th>9</th>\n",
              "      <td>6626</td>\n",
              "      <td>4227</td>\n",
              "      <td>6535</td>\n",
              "      <td>7575.0</td>\n",
              "      <td>80.839347</td>\n",
              "    </tr>\n",
              "    <tr>\n",
              "      <th>10</th>\n",
              "      <td>6274</td>\n",
              "      <td>4242</td>\n",
              "      <td>6587</td>\n",
              "      <td>7268.0</td>\n",
              "      <td>81.160335</td>\n",
              "    </tr>\n",
              "    <tr>\n",
              "      <th>11</th>\n",
              "      <td>4864</td>\n",
              "      <td>2648</td>\n",
              "      <td>5895</td>\n",
              "      <td>6044.0</td>\n",
              "      <td>76.778903</td>\n",
              "    </tr>\n",
              "    <tr>\n",
              "      <th>12</th>\n",
              "      <td>5538</td>\n",
              "      <td>2983</td>\n",
              "      <td>5107</td>\n",
              "      <td>7127.0</td>\n",
              "      <td>71.463277</td>\n",
              "    </tr>\n",
              "  </tbody>\n",
              "</table>\n",
              "</div>"
            ],
            "text/plain": [
              "       Producto1  Producto2  Producto3  Producto4  Producto3sqrt\n",
              "month                                                           \n",
              "1           5298       2796       5765     6939.0      75.927597\n",
              "2           5451       2868       5517     7052.0      74.276510\n",
              "3           5904       3523       5762     7194.0      75.907839\n",
              "4           5278       3499       5327     5837.0      72.986300\n",
              "5           6028       4120       5397     7121.0      73.464277\n",
              "6           6320       3499       6047     5259.0      77.762459\n",
              "7           6100       3825       5536     7219.0      74.404301\n",
              "8           5452       2865       6379     7044.0      79.868642\n",
              "9           6626       4227       6535     7575.0      80.839347\n",
              "10          6274       4242       6587     7268.0      81.160335\n",
              "11          4864       2648       5895     6044.0      76.778903\n",
              "12          5538       2983       5107     7127.0      71.463277"
            ]
          },
          "metadata": {
            "tags": []
          },
          "execution_count": 52
        }
      ]
    },
    {
      "cell_type": "code",
      "metadata": {
        "id": "YzsSLl_hz9LB",
        "colab_type": "code",
        "outputId": "92d59e54-9641-4d27-b783-edb53f831e97",
        "colab": {
          "base_uri": "https://localhost:8080/",
          "height": 255
        }
      },
      "source": [
        "df.groupby(\"month\")[\"Producto1\"].count()"
      ],
      "execution_count": 0,
      "outputs": [
        {
          "output_type": "execute_result",
          "data": {
            "text/plain": [
              "month\n",
              "1     31\n",
              "2     28\n",
              "3     31\n",
              "4     30\n",
              "5     31\n",
              "6     30\n",
              "7     31\n",
              "8     31\n",
              "9     30\n",
              "10    31\n",
              "11    30\n",
              "12    31\n",
              "Name: Producto1, dtype: int64"
            ]
          },
          "metadata": {
            "tags": []
          },
          "execution_count": 53
        }
      ]
    },
    {
      "cell_type": "code",
      "metadata": {
        "id": "UFkYHBpIEV2t",
        "colab_type": "code",
        "outputId": "ad66e8cb-2d70-491a-fe65-43b14e05f3dd",
        "colab": {
          "base_uri": "https://localhost:8080/",
          "height": 297
        }
      },
      "source": [
        "df2 = pd.DataFrame({\"Person\": [\"John\", \"Myla\", \"Lewis\", \"John\", \"Myla\", \"Lewis\", \"John\", \"Myla\"], \"Age\": [24, 55, 21, 24, 26, 43, 64, 55]})\n",
        "df2.head(8)"
      ],
      "execution_count": 0,
      "outputs": [
        {
          "output_type": "execute_result",
          "data": {
            "text/html": [
              "<div>\n",
              "<style scoped>\n",
              "    .dataframe tbody tr th:only-of-type {\n",
              "        vertical-align: middle;\n",
              "    }\n",
              "\n",
              "    .dataframe tbody tr th {\n",
              "        vertical-align: top;\n",
              "    }\n",
              "\n",
              "    .dataframe thead th {\n",
              "        text-align: right;\n",
              "    }\n",
              "</style>\n",
              "<table border=\"1\" class=\"dataframe\">\n",
              "  <thead>\n",
              "    <tr style=\"text-align: right;\">\n",
              "      <th></th>\n",
              "      <th>Person</th>\n",
              "      <th>Age</th>\n",
              "    </tr>\n",
              "  </thead>\n",
              "  <tbody>\n",
              "    <tr>\n",
              "      <th>0</th>\n",
              "      <td>John</td>\n",
              "      <td>24</td>\n",
              "    </tr>\n",
              "    <tr>\n",
              "      <th>1</th>\n",
              "      <td>Myla</td>\n",
              "      <td>55</td>\n",
              "    </tr>\n",
              "    <tr>\n",
              "      <th>2</th>\n",
              "      <td>Lewis</td>\n",
              "      <td>21</td>\n",
              "    </tr>\n",
              "    <tr>\n",
              "      <th>3</th>\n",
              "      <td>John</td>\n",
              "      <td>24</td>\n",
              "    </tr>\n",
              "    <tr>\n",
              "      <th>4</th>\n",
              "      <td>Myla</td>\n",
              "      <td>26</td>\n",
              "    </tr>\n",
              "    <tr>\n",
              "      <th>5</th>\n",
              "      <td>Lewis</td>\n",
              "      <td>43</td>\n",
              "    </tr>\n",
              "    <tr>\n",
              "      <th>6</th>\n",
              "      <td>John</td>\n",
              "      <td>64</td>\n",
              "    </tr>\n",
              "    <tr>\n",
              "      <th>7</th>\n",
              "      <td>Myla</td>\n",
              "      <td>55</td>\n",
              "    </tr>\n",
              "  </tbody>\n",
              "</table>\n",
              "</div>"
            ],
            "text/plain": [
              "  Person  Age\n",
              "0   John   24\n",
              "1   Myla   55\n",
              "2  Lewis   21\n",
              "3   John   24\n",
              "4   Myla   26\n",
              "5  Lewis   43\n",
              "6   John   64\n",
              "7   Myla   55"
            ]
          },
          "metadata": {
            "tags": []
          },
          "execution_count": 54
        }
      ]
    },
    {
      "cell_type": "code",
      "metadata": {
        "id": "71xLKPMAAsM3",
        "colab_type": "code",
        "outputId": "53596fcc-bde5-40d4-efa1-f60867450181",
        "colab": {
          "base_uri": "https://localhost:8080/",
          "height": 102
        }
      },
      "source": [
        "# Agrupar por persona y aplicar \"min\" a \"Age\"\n",
        "df2.groupby(\"Person\").Age.agg(\"min\")             \n",
        "#df2.groupby(\"Person\").Age.agg([\"min\"])\n"
      ],
      "execution_count": 0,
      "outputs": [
        {
          "output_type": "execute_result",
          "data": {
            "text/plain": [
              "Person\n",
              "John     24\n",
              "Lewis    21\n",
              "Myla     26\n",
              "Name: Age, dtype: int64"
            ]
          },
          "metadata": {
            "tags": []
          },
          "execution_count": 55
        }
      ]
    },
    {
      "cell_type": "code",
      "metadata": {
        "id": "mlRSIjfxGEkG",
        "colab_type": "code",
        "outputId": "93e8ffff-a20e-4218-e1bc-ed23887573c5",
        "colab": {
          "base_uri": "https://localhost:8080/",
          "height": 266
        }
      },
      "source": [
        "# Agrupar por persona y edad y aplicar \"count\" a \"Age\"\n",
        "df2.groupby([\"Person\",\"Age\"]).agg({\"Age\":\"count\"})"
      ],
      "execution_count": 0,
      "outputs": [
        {
          "output_type": "execute_result",
          "data": {
            "text/html": [
              "<div>\n",
              "<style scoped>\n",
              "    .dataframe tbody tr th:only-of-type {\n",
              "        vertical-align: middle;\n",
              "    }\n",
              "\n",
              "    .dataframe tbody tr th {\n",
              "        vertical-align: top;\n",
              "    }\n",
              "\n",
              "    .dataframe thead th {\n",
              "        text-align: right;\n",
              "    }\n",
              "</style>\n",
              "<table border=\"1\" class=\"dataframe\">\n",
              "  <thead>\n",
              "    <tr style=\"text-align: right;\">\n",
              "      <th></th>\n",
              "      <th></th>\n",
              "      <th>Age</th>\n",
              "    </tr>\n",
              "    <tr>\n",
              "      <th>Person</th>\n",
              "      <th>Age</th>\n",
              "      <th></th>\n",
              "    </tr>\n",
              "  </thead>\n",
              "  <tbody>\n",
              "    <tr>\n",
              "      <th rowspan=\"2\" valign=\"top\">John</th>\n",
              "      <th>24</th>\n",
              "      <td>2</td>\n",
              "    </tr>\n",
              "    <tr>\n",
              "      <th>64</th>\n",
              "      <td>1</td>\n",
              "    </tr>\n",
              "    <tr>\n",
              "      <th rowspan=\"2\" valign=\"top\">Lewis</th>\n",
              "      <th>21</th>\n",
              "      <td>1</td>\n",
              "    </tr>\n",
              "    <tr>\n",
              "      <th>43</th>\n",
              "      <td>1</td>\n",
              "    </tr>\n",
              "    <tr>\n",
              "      <th rowspan=\"2\" valign=\"top\">Myla</th>\n",
              "      <th>26</th>\n",
              "      <td>1</td>\n",
              "    </tr>\n",
              "    <tr>\n",
              "      <th>55</th>\n",
              "      <td>2</td>\n",
              "    </tr>\n",
              "  </tbody>\n",
              "</table>\n",
              "</div>"
            ],
            "text/plain": [
              "            Age\n",
              "Person Age     \n",
              "John   24     2\n",
              "       64     1\n",
              "Lewis  21     1\n",
              "       43     1\n",
              "Myla   26     1\n",
              "       55     2"
            ]
          },
          "metadata": {
            "tags": []
          },
          "execution_count": 56
        }
      ]
    },
    {
      "cell_type": "code",
      "metadata": {
        "id": "98rgSQOcWudL",
        "colab_type": "code",
        "outputId": "1e959fe0-591d-4232-a304-1370e9f43ba8",
        "colab": {
          "base_uri": "https://localhost:8080/",
          "height": 136
        }
      },
      "source": [
        "# frecuencia de las edades\n",
        "df2['Age'].value_counts()\n",
        "#df2[\"Age\"].value_counts(Normlize=True)"
      ],
      "execution_count": 0,
      "outputs": [
        {
          "output_type": "execute_result",
          "data": {
            "text/plain": [
              "55    2\n",
              "24    2\n",
              "21    1\n",
              "43    1\n",
              "26    1\n",
              "64    1\n",
              "Name: Age, dtype: int64"
            ]
          },
          "metadata": {
            "tags": []
          },
          "execution_count": 57
        }
      ]
    },
    {
      "cell_type": "markdown",
      "metadata": {
        "id": "Ai38-726bxxc",
        "colab_type": "text"
      },
      "source": [
        "<p><a name=\"renormalizacion\"></a></p>\n",
        "\n",
        "## 2.8. Normalización de datos\n",
        "En algunos algoritmos de Machine Learning (ML) es importante tener los datos normalizados. Para ellos la función `scale` se encarga de normalizar los datos quedando con una media cercana a 0 y una desviación estandar de 1"
      ]
    },
    {
      "cell_type": "code",
      "metadata": {
        "id": "NHh3nEUv0NjS",
        "colab_type": "code",
        "colab": {}
      },
      "source": [
        "from sklearn import preprocessing"
      ],
      "execution_count": 0,
      "outputs": []
    },
    {
      "cell_type": "code",
      "metadata": {
        "id": "NbgMxdzfesFh",
        "colab_type": "code",
        "colab": {}
      },
      "source": [
        "scaled=preprocessing.scale(df[['Producto4', 'Producto3sqrt']])"
      ],
      "execution_count": 0,
      "outputs": []
    },
    {
      "cell_type": "code",
      "metadata": {
        "id": "IPE1WrsecqgP",
        "colab_type": "code",
        "outputId": "3cc85c95-1598-447f-e338-296bb3e3b231",
        "colab": {
          "base_uri": "https://localhost:8080/",
          "height": 1000
        }
      },
      "source": [
        "scaled"
      ],
      "execution_count": 0,
      "outputs": [
        {
          "output_type": "execute_result",
          "data": {
            "text/plain": [
              "array([[-2.62892112e-16, -1.39909791e+00],\n",
              "       [-2.62892112e-16, -1.45074910e+00],\n",
              "       [-2.62892112e-16, -1.45074910e+00],\n",
              "       [-2.62892112e-16, -1.48519684e+00],\n",
              "       [-2.62892112e-16, -1.14800841e+00],\n",
              "       [-2.62892112e-16, -1.00102135e+00],\n",
              "       [-2.62892112e-16, -1.27148566e+00],\n",
              "       [-2.62892112e-16, -1.49073110e+00],\n",
              "       [-2.62892112e-16, -1.41002203e+00],\n",
              "       [-2.62892112e-16, -1.27384884e+00],\n",
              "       [-2.62892112e-16, -9.11236397e-01],\n",
              "       [-2.62892112e-16, -1.09895318e+00],\n",
              "       [-2.62892112e-16, -1.09573053e+00],\n",
              "       [-2.62892112e-16, -1.09093149e+00],\n",
              "       [-2.62892112e-16, -1.09573053e+00],\n",
              "       [-2.62892112e-16, -1.23336515e+00],\n",
              "       [-2.62892112e-16, -1.45994772e+00],\n",
              "       [-2.62892112e-16, -1.33588081e+00],\n",
              "       [-2.62892112e-16, -1.04946799e+00],\n",
              "       [-2.62892112e-16, -1.08934097e+00],\n",
              "       [-2.62892112e-16, -1.15515737e+00],\n",
              "       [-2.62892112e-16, -1.04503679e+00],\n",
              "       [-2.62892112e-16, -1.12714948e+00],\n",
              "       [-2.62892112e-16, -1.51514697e+00],\n",
              "       [-2.62892112e-16, -1.42541846e+00],\n",
              "       [-2.62892112e-16, -1.15696086e+00],\n",
              "       [-2.62892112e-16, -1.02193287e+00],\n",
              "       [-2.62892112e-16, -1.20044058e+00],\n",
              "       [-2.62892112e-16, -1.19258087e+00],\n",
              "       [-2.62892112e-16, -1.21453754e+00],\n",
              "       [-2.62892112e-16, -1.45994772e+00],\n",
              "       [-2.62892112e-16, -1.58881284e+00],\n",
              "       [-2.62892112e-16, -1.09252657e+00],\n",
              "       [-2.62892112e-16, -1.13400847e+00],\n",
              "       [-2.62892112e-16, -1.13400847e+00],\n",
              "       [-2.62892112e-16, -1.29082816e+00],\n",
              "       [-2.62892112e-16, -1.05542776e+00],\n",
              "       [-2.62892112e-16, -1.28835352e+00],\n",
              "       [-2.62892112e-16, -1.27384884e+00],\n",
              "       [-2.62892112e-16, -1.06753070e+00],\n",
              "       [-2.62892112e-16, -9.68900164e-01],\n",
              "       [-2.62892112e-16, -9.13649410e-01],\n",
              "       [-2.62892112e-16, -1.00791599e+00],\n",
              "       [-2.62892112e-16, -1.02051710e+00],\n",
              "       [-2.62892112e-16, -1.25988529e+00],\n",
              "       [-2.62892112e-16, -1.22489397e+00],\n",
              "       [-2.62892112e-16, -9.29531393e-01],\n",
              "       [-2.62892112e-16, -8.62272206e-01],\n",
              "       [-2.62892112e-16, -8.36709143e-01],\n",
              "       [-2.62892112e-16, -1.09412624e+00],\n",
              "       [-2.62892112e-16, -1.11038443e+00],\n",
              "       [-2.62892112e-16, -1.28835352e+00],\n",
              "       [-2.62892112e-16, -1.31927494e+00],\n",
              "       [-2.62892112e-16, -1.19258087e+00],\n",
              "       [-2.62892112e-16, -1.16977551e+00],\n",
              "       [-2.62892112e-16, -1.13228517e+00],\n",
              "       [-2.62892112e-16, -9.02852353e-01],\n",
              "       [-2.62892112e-16, -1.12037958e+00],\n",
              "       [-2.62892112e-16, -1.47465634e+00],\n",
              "       [-2.62892112e-16, -1.27148566e+00],\n",
              "       [-2.62892112e-16, -1.24201286e+00],\n",
              "       [-2.62892112e-16, -1.05692708e+00],\n",
              "       [-2.62892112e-16, -1.12206389e+00],\n",
              "       [-2.62892112e-16, -8.29087374e-01],\n",
              "       [-2.62892112e-16, -1.05542776e+00],\n",
              "       [-2.62892112e-16, -1.05393221e+00],\n",
              "       [-2.62892112e-16, -9.96919586e-01],\n",
              "       [-2.62892112e-16, -1.64840977e+00],\n",
              "       [-2.62892112e-16, -8.55524121e-01],\n",
              "       [-2.62892112e-16, -9.30767642e-01],\n",
              "       [-2.62892112e-16, -1.10545585e+00],\n",
              "       [-2.62892112e-16, -1.08302360e+00],\n",
              "       [-2.62892112e-16, -9.49573764e-01],\n",
              "       [-2.62892112e-16, -7.79642619e-01],\n",
              "       [-2.62892112e-16, -6.56519091e-01],\n",
              "       [-2.62892112e-16, -3.37954614e-01],\n",
              "       [-2.62892112e-16, -6.92069285e-01],\n",
              "       [-2.62892112e-16, -7.49503055e-01],\n",
              "       [-2.62892112e-16, -6.21334791e-01],\n",
              "       [-2.62892112e-16, -7.60435439e-01],\n",
              "       [-2.62892112e-16, -9.11236397e-01],\n",
              "       [-2.62892112e-16, -1.01208863e+00],\n",
              "       [-2.62892112e-16, -8.10866074e-01],\n",
              "       [-2.62892112e-16, -9.08831258e-01],\n",
              "       [-2.62892112e-16, -7.70492098e-01],\n",
              "       [-2.62892112e-16, -8.66803296e-01],\n",
              "       [-2.62892112e-16, -1.15515737e+00],\n",
              "       [-2.62892112e-16, -1.64840977e+00],\n",
              "       [-2.62892112e-16, -1.64840977e+00],\n",
              "       [-2.62892112e-16, -1.64840977e+00],\n",
              "       [-2.62892112e-16, -1.64840977e+00],\n",
              "       [-2.62892112e-16, -7.57440576e-01],\n",
              "       [-2.62892112e-16, -1.64840977e+00],\n",
              "       [-2.62892112e-16, -1.64840977e+00],\n",
              "       [-2.62892112e-16, -1.64840977e+00],\n",
              "       [-2.62892112e-16, -1.64840977e+00],\n",
              "       [-2.62892112e-16, -1.64840977e+00],\n",
              "       [-2.62892112e-16, -1.64840977e+00],\n",
              "       [-2.62892112e-16, -1.64840977e+00],\n",
              "       [-2.62892112e-16, -1.64840977e+00],\n",
              "       [-2.62892112e-16, -1.64840977e+00],\n",
              "       [-2.62892112e-16, -1.64840977e+00],\n",
              "       [-2.62892112e-16, -1.64840977e+00],\n",
              "       [-2.62892112e-16, -1.64840977e+00],\n",
              "       [-2.62892112e-16, -1.64840977e+00],\n",
              "       [-2.62892112e-16, -1.64840977e+00],\n",
              "       [-2.62892112e-16, -5.14787873e-02],\n",
              "       [-2.62892112e-16, -4.37256934e-01],\n",
              "       [-2.62892112e-16, -5.70488461e-02],\n",
              "       [-2.62892112e-16,  5.19313536e-01],\n",
              "       [-2.62892112e-16, -6.40534147e-01],\n",
              "       [-2.62892112e-16,  2.05811692e-01],\n",
              "       [-2.62892112e-16,  4.38759641e-01],\n",
              "       [-2.62892112e-16,  5.59091594e-01],\n",
              "       [-2.62892112e-16,  7.79388252e-01],\n",
              "       [-2.62892112e-16, -3.46793064e-01],\n",
              "       [-2.62892112e-16,  9.91404830e-01],\n",
              "       [-2.62892112e-16,  4.49368479e-01],\n",
              "       [-2.62892112e-16,  6.45491664e-01],\n",
              "       [-2.62892112e-16,  9.89385851e-01],\n",
              "       [-2.62892112e-16, -1.57365357e-02],\n",
              "       [-2.62892112e-16, -5.92823362e-02],\n",
              "       [-2.62892112e-16, -5.98411994e-02],\n",
              "       [-2.62892112e-16,  9.86017448e-01],\n",
              "       [-2.62892112e-16,  1.13643199e+00],\n",
              "       [-2.62892112e-16,  3.87939970e-01],\n",
              "       [-2.62892112e-16, -3.38632377e-01],\n",
              "       [-2.62892112e-16,  4.41735543e-01],\n",
              "       [-2.62892112e-16, -1.41057646e-02],\n",
              "       [-2.62892112e-16, -6.84670022e-01],\n",
              "       [-2.62892112e-16,  8.51821939e-01],\n",
              "       [-2.62892112e-16,  9.73855369e-01],\n",
              "       [-2.62892112e-16,  1.17412020e+00],\n",
              "       [-2.62892112e-16,  4.34074630e-01],\n",
              "       [-2.62892112e-16,  8.66340792e-01],\n",
              "       [-2.62892112e-16, -6.18744434e-01],\n",
              "       [-2.62892112e-16, -4.45348541e-01],\n",
              "       [-2.62892112e-16,  7.73305987e-02],\n",
              "       [-2.62892112e-16,  5.49012547e-01],\n",
              "       [-2.62892112e-16,  2.25342887e-01],\n",
              "       [-2.62892112e-16,  1.44747748e+00],\n",
              "       [-2.62892112e-16,  9.79605587e-01],\n",
              "       [-2.62892112e-16,  7.96517716e-01],\n",
              "       [-2.62892112e-16,  7.97243968e-01],\n",
              "       [-2.62892112e-16,  9.98794579e-01],\n",
              "       [-2.62892112e-16,  9.95102287e-01],\n",
              "       [-2.62892112e-16,  1.08942060e-01],\n",
              "       [-2.62892112e-16,  1.92354230e-01],\n",
              "       [-2.62892112e-16, -1.60275378e-01],\n",
              "       [-2.62892112e-16, -1.71655925e-01],\n",
              "       [-2.62892112e-16, -8.14014198e-03],\n",
              "       [-2.62892112e-16,  5.51839334e-01],\n",
              "       [-2.62892112e-16,  9.33245257e-01],\n",
              "       [-2.62892112e-16,  7.57343625e-01],\n",
              "       [-2.62892112e-16,  1.26971081e+00],\n",
              "       [-2.62892112e-16,  1.09013262e+00],\n",
              "       [-2.62892112e-16,  7.32485918e-01],\n",
              "       [-2.62892112e-16, -8.23592567e-02],\n",
              "       [-2.62892112e-16,  9.29459080e-01],\n",
              "       [-2.62892112e-16, -1.21983455e-01],\n",
              "       [-2.62892112e-16,  1.00950663e+00],\n",
              "       [-2.62892112e-16,  1.27184004e+00],\n",
              "       [-2.62892112e-16,  9.20833382e-01],\n",
              "       [-2.62892112e-16,  7.93246909e-01],\n",
              "       [-2.62892112e-16,  7.05480556e-01],\n",
              "       [-2.62892112e-16,  8.58206426e-01],\n",
              "       [-2.62892112e-16,  1.50769671e+00],\n",
              "       [-2.62892112e-16,  1.62860887e+00],\n",
              "       [-2.62892112e-16,  4.71683657e-01],\n",
              "       [-2.62892112e-16,  7.75728069e-01],\n",
              "       [-2.62892112e-16,  5.71126035e-01],\n",
              "       [-2.62892112e-16,  4.71683657e-01],\n",
              "       [-2.62892112e-16,  1.34095728e+00],\n",
              "       [-2.62892112e-16,  1.44432090e+00],\n",
              "       [-2.62892112e-16,  7.03216111e-01],\n",
              "       [-2.62892112e-16,  1.19137011e+00],\n",
              "       [-2.62892112e-16,  1.01151033e+00],\n",
              "       [-2.62892112e-16,  6.59735240e-02],\n",
              "       [-2.62892112e-16,  5.36856328e-01],\n",
              "       [-2.62892112e-16, -9.43118431e-02],\n",
              "       [-2.62892112e-16,  1.16971245e+00],\n",
              "       [-2.62892112e-16,  6.79306440e-01],\n",
              "       [-2.62892112e-16,  1.18636278e+00],\n",
              "       [-2.62892112e-16,  6.86162761e-01],\n",
              "       [-2.62892112e-16,  3.83574799e-01],\n",
              "       [-2.62892112e-16,  7.76094336e-01],\n",
              "       [-2.62892112e-16,  1.09854996e+00],\n",
              "       [-2.43012323e-01,  8.51111545e-01],\n",
              "       [ 1.13981691e+00,  9.78591757e-01],\n",
              "       [ 2.88974338e+00,  1.54739773e+00],\n",
              "       [ 2.71226488e+00,  1.45835736e+00],\n",
              "       [-1.48202961e-01,  2.09638778e-01],\n",
              "       [ 1.44794734e+00,  7.16019293e-01],\n",
              "       [ 9.59447884e-01,  9.86354482e-01],\n",
              "       [ 6.81378961e-01,  1.02316867e+00],\n",
              "       [ 2.52206805e+00,  1.48709141e+00],\n",
              "       [ 9.83728330e-01,  9.40458037e-01],\n",
              "       [ 1.97864853e+00,  1.12236704e+00],\n",
              "       [ 5.83679069e-01,  5.83095577e-01],\n",
              "       [ 8.99324874e-01,  5.45777474e-01],\n",
              "       [ 2.59433128e+00,  1.35872661e+00],\n",
              "       [ 2.55502008e+00,  1.43598352e+00],\n",
              "       [ 1.01436794e+00,  1.00147665e+00],\n",
              "       [ 2.05669282e+00,  1.28216005e+00],\n",
              "       [ 1.19242455e+00,  9.58913566e-01],\n",
              "       [ 1.19011213e+00,  6.82356184e-01],\n",
              "       [-2.49949594e-01,  9.06569771e-02],\n",
              "       [ 1.42482311e+00,  1.11723478e+00],\n",
              "       [ 2.68393769e+00,  1.45892893e+00],\n",
              "       [ 1.42482311e+00,  1.08623896e+00],\n",
              "       [ 2.67757853e+00,  1.38547814e+00],\n",
              "       [ 1.53813186e+00,  1.02449782e+00],\n",
              "       [ 1.90349477e+00,  7.91063934e-01],\n",
              "       [-4.75988988e-01, -1.33076392e-01],\n",
              "       [ 2.66948504e+00,  1.28730645e+00],\n",
              "       [ 1.62311342e+00,  1.13100625e+00],\n",
              "       [ 2.62728332e+00,  1.39074176e+00],\n",
              "       [ 1.55085019e+00,  1.11434370e+00],\n",
              "       [ 1.46066567e+00,  1.11595023e+00],\n",
              "       [ 1.69826718e+00,  7.35467629e-01],\n",
              "       [ 5.47836505e-01,  4.13075692e-01],\n",
              "       [ 9.31120696e-01,  7.29873854e-01],\n",
              "       [ 1.03055491e+00,  9.15990318e-01],\n",
              "       [ 2.63075195e+00,  1.36315256e+00],\n",
              "       [ 2.54056743e+00,  1.34807766e+00],\n",
              "       [ 2.08212948e+00,  1.22926451e+00],\n",
              "       [ 1.44621303e+00,  6.70133138e-01],\n",
              "       [ 1.06350694e+00,  5.98560659e-01],\n",
              "       [ 1.79596708e+00,  1.15391391e+00],\n",
              "       [ 1.77515526e+00,  1.21875411e+00],\n",
              "       [ 2.50010002e+00,  1.39949425e+00],\n",
              "       [ 1.34446639e+00,  9.78929744e-01],\n",
              "       [ 6.79644643e-01,  7.22769461e-01],\n",
              "       [ 1.29821792e+00,  7.01705269e-01],\n",
              "       [ 8.31686487e-01,  5.19723120e-01],\n",
              "       [ 1.70982930e+00,  1.20135838e+00],\n",
              "       [ 2.58276916e+00,  1.53263770e+00],\n",
              "       [ 2.11912826e+00,  1.36462643e+00],\n",
              "       [ 2.11739394e+00,  1.38196398e+00],\n",
              "       [ 1.78324875e+00,  1.23542920e+00],\n",
              "       [-6.54045596e-01, -1.69853173e-01],\n",
              "       [ 2.81907806e-01,  3.08784788e-01],\n",
              "       [ 1.94511839e+00,  1.32158721e+00],\n",
              "       [ 2.52206805e+00,  1.55128523e+00],\n",
              "       [ 2.58739401e+00,  1.48170613e+00],\n",
              "       [ 2.47871011e+00,  1.55045259e+00],\n",
              "       [ 1.88499538e+00,  1.42733487e+00],\n",
              "       [ 9.29964485e-01,  6.82356184e-01],\n",
              "       [ 8.43826710e-01,  5.79112876e-01],\n",
              "       [ 1.03980460e+00,  5.11927746e-01],\n",
              "       [ 2.42032141e+00,  1.71736638e+00],\n",
              "       [ 2.37580726e+00,  1.75827323e+00],\n",
              "       [ 2.27984169e+00,  1.77180012e+00],\n",
              "       [ 2.00466329e+00,  1.58716047e+00],\n",
              "       [ 1.51963247e+00,  9.74193966e-01],\n",
              "       [ 7.99312558e-01,  5.72325893e-01],\n",
              "       [ 9.75056742e-01,  1.34718854e+00],\n",
              "       [ 1.04211702e+00,  1.60440383e+00],\n",
              "       [ 9.71010001e-01,  1.65532524e+00],\n",
              "       [ 8.14343311e-01,  1.65613145e+00],\n",
              "       [-2.35496947e-01,  9.39771972e-01],\n",
              "       [-1.52386109e-02,  5.31974864e-01],\n",
              "       [ 1.65572119e-02,  5.74324216e-01],\n",
              "       [ 5.91194445e-01,  1.57643980e+00],\n",
              "       [-3.77710991e-01,  8.80776301e-01],\n",
              "       [-3.07760180e-01,  1.02682223e+00],\n",
              "       [ 3.50702404e-01,  1.60003323e+00],\n",
              "       [ 7.66802223e-02,  1.33679588e+00],\n",
              "       [-1.69729285e-02,  6.10384826e-01],\n",
              "       [-1.11017113e+00, -2.92661366e-01],\n",
              "       [-6.71388772e-01,  5.86276626e-01],\n",
              "       [-7.13590500e-01,  6.12349508e-01],\n",
              "       [-4.49396118e-01,  9.77915653e-01],\n",
              "       [-5.71376457e-01,  8.54661499e-01],\n",
              "       [-3.87538790e-01,  9.27046797e-01],\n",
              "       [-1.08184394e+00, -9.31695438e-02],\n",
              "       [-8.44242427e-01,  4.77487345e-02],\n",
              "       [-4.64426871e-01,  9.49702189e-01],\n",
              "       [-2.11216500e-01,  1.21286384e+00],\n",
              "       [-9.20552401e-01,  5.91436197e-01],\n",
              "       [-3.52274332e-01,  1.06505118e+00],\n",
              "       [-1.10612439e+00,  8.19551904e-02],\n",
              "       [-9.09568390e-01, -4.75912778e-02],\n",
              "       [-1.01247123e+00, -1.46023167e-01],\n",
              "       [-9.55238753e-01, -2.33688494e-01],\n",
              "       [-9.86456470e-01,  3.33132305e-01],\n",
              "       [-6.95669218e-01,  7.47357366e-01],\n",
              "       [-7.31511782e-01,  7.65817857e-01],\n",
              "       [-7.73713511e-01,  6.15097198e-01],\n",
              "       [-9.58129283e-01,  7.68159899e-02],\n",
              "       [-9.07834072e-01, -1.79134343e-02],\n",
              "       [-6.32077573e-01,  8.26478084e-01],\n",
              "       [-6.95091113e-01,  8.50756273e-01],\n",
              "       [-6.55779913e-01,  8.73744911e-01],\n",
              "       [-1.12346756e+00,  1.71981511e-01],\n",
              "       [-9.39051789e-01,  4.90032566e-01],\n",
              "       [-1.32407030e+00, -5.04365920e-01],\n",
              "       [-1.00784639e+00, -9.77437897e-02],\n",
              "       [-8.00884487e-01,  7.30247181e-01],\n",
              "       [-8.45398638e-01,  7.23143907e-01],\n",
              "       [-8.67944767e-01,  6.38125106e-01],\n",
              "       [-7.78338358e-01,  7.13764950e-01],\n",
              "       [-9.35583154e-01,  4.45979497e-01],\n",
              "       [-1.31077386e+00, -5.64957818e-01],\n",
              "       [-9.92815635e-01, -1.49573515e-01],\n",
              "       [-7.91056687e-01,  6.62076623e-01],\n",
              "       [-1.02808009e+00,  3.48754570e-01],\n",
              "       [-8.84709838e-01,  5.38481061e-01],\n",
              "       [-9.65644659e-01,  4.45555489e-01],\n",
              "       [-9.89925106e-01,  3.80075900e-01],\n",
              "       [-1.17029414e+00, -2.39348660e-01],\n",
              "       [-8.74882038e-01,  8.02054019e-03],\n",
              "       [-7.14168606e-01,  7.32112941e-01],\n",
              "       [-7.37870947e-01,  8.19651785e-01],\n",
              "       [-8.10134180e-01,  6.41229703e-01],\n",
              "       [-8.48867274e-01,  6.32292595e-01],\n",
              "       [-9.08412178e-01,  4.87539724e-01],\n",
              "       [-1.30383659e+00, -5.86480016e-01],\n",
              "       [-1.25585381e+00, -3.39988957e-01],\n",
              "       [-1.48940858e+00,  4.86708129e-01],\n",
              "       [-1.48940858e+00,  5.52646321e-01],\n",
              "       [-1.48940858e+00,  5.17674426e-01],\n",
              "       [-1.48940858e+00,  5.08225365e-01],\n",
              "       [-1.48940858e+00, -2.00932432e-02],\n",
              "       [-1.48940858e+00, -1.20239300e-01],\n",
              "       [-1.48940858e+00, -3.01861898e-01],\n",
              "       [-1.48940858e+00,  3.95339363e-01],\n",
              "       [-1.48940858e+00,  4.89617294e-01],\n",
              "       [-1.48940858e+00,  3.20545250e-01],\n",
              "       [-1.48940858e+00,  4.14797902e-01],\n",
              "       [-1.48940858e+00, -5.59332757e-02],\n",
              "       [-1.48940858e+00, -3.57754242e-01],\n",
              "       [-1.48940858e+00, -4.91246608e-01],\n",
              "       [-1.48940858e+00, -2.03875464e-01],\n",
              "       [-1.48940858e+00, -3.10363546e-02],\n",
              "       [-1.48940858e+00,  1.72469225e-01],\n",
              "       [-1.48940858e+00, -3.69503425e-01],\n",
              "       [-1.48940858e+00, -3.15854544e-02],\n",
              "       [-1.48940858e+00, -4.97401774e-01],\n",
              "       [-1.48940858e+00, -5.50304909e-01],\n",
              "       [-1.48940858e+00, -2.90044089e-01],\n",
              "       [-1.48940858e+00, -4.51267697e-01],\n",
              "       [-1.48940858e+00, -9.50845532e-01],\n",
              "       [-1.48940858e+00, -8.45508326e-01],\n",
              "       [-1.48940858e+00, -8.29087374e-01],\n",
              "       [-1.48940858e+00, -1.03772291e+00],\n",
              "       [-1.48940858e+00, -1.20044058e+00],\n",
              "       [-1.48940858e+00, -7.71504107e-01],\n",
              "       [-1.48940858e+00, -8.10866074e-01],\n",
              "       [-1.48940858e+00, -8.60016427e-01],\n",
              "       [-1.48940858e+00, -9.13649410e-01],\n",
              "       [-1.48940858e+00, -8.34524212e-01],\n",
              "       [-1.48940858e+00, -1.11203736e+00],\n",
              "       [-1.48940858e+00, -1.17725463e+00],\n",
              "       [-1.48940858e+00, -8.23686377e-01],\n",
              "       [-1.48940858e+00, -8.56644808e-01],\n",
              "       [-1.48940858e+00, -1.04651023e+00],\n",
              "       [-1.48940858e+00, -1.16977551e+00],\n",
              "       [-1.48940858e+00, -1.39556139e+00],\n",
              "       [-1.48940858e+00, -1.32471556e+00],\n",
              "       [-1.48940858e+00, -1.34452384e+00],\n",
              "       [-1.48940858e+00, -1.22910817e+00],\n",
              "       [-1.48940858e+00, -1.19649364e+00],\n",
              "       [-1.48940858e+00, -1.19649364e+00],\n",
              "       [-1.48940858e+00, -1.20242715e+00]])"
            ]
          },
          "metadata": {
            "tags": []
          },
          "execution_count": 60
        }
      ]
    },
    {
      "cell_type": "code",
      "metadata": {
        "id": "3VGOA0sEcrae",
        "colab_type": "code",
        "outputId": "43d0e271-8a90-431f-8aaa-8c2f32dc64b8",
        "colab": {
          "base_uri": "https://localhost:8080/",
          "height": 34
        }
      },
      "source": [
        "scaled.mean(axis=0)"
      ],
      "execution_count": 0,
      "outputs": [
        {
          "output_type": "execute_result",
          "data": {
            "text/plain": [
              "array([-3.60367507e-16,  1.94669243e-16])"
            ]
          },
          "metadata": {
            "tags": []
          },
          "execution_count": 61
        }
      ]
    },
    {
      "cell_type": "code",
      "metadata": {
        "id": "TCYzJoeFdH9G",
        "colab_type": "code",
        "outputId": "0f52412b-5478-4c26-f7ac-0e908b47c7ea",
        "colab": {
          "base_uri": "https://localhost:8080/",
          "height": 34
        }
      },
      "source": [
        "scaled.std(axis=0)"
      ],
      "execution_count": 0,
      "outputs": [
        {
          "output_type": "execute_result",
          "data": {
            "text/plain": [
              "array([1., 1.])"
            ]
          },
          "metadata": {
            "tags": []
          },
          "execution_count": 62
        }
      ]
    },
    {
      "cell_type": "markdown",
      "metadata": {
        "id": "nrfjXjHSebwk",
        "colab_type": "text"
      },
      "source": [
        "<p><a name=\"bineado\"></a></p>\n",
        "\n",
        "## 2.9. Bineado de datos\n",
        "La función `cut` nos permite separar los datos en bloques (bins)"
      ]
    },
    {
      "cell_type": "code",
      "metadata": {
        "id": "tO7iwmdJfTTy",
        "colab_type": "code",
        "outputId": "51711622-d00d-4b12-9843-f03da517ad05",
        "colab": {
          "base_uri": "https://localhost:8080/",
          "height": 221
        }
      },
      "source": [
        "df.Producto1[:10]"
      ],
      "execution_count": 0,
      "outputs": [
        {
          "output_type": "execute_result",
          "data": {
            "text/plain": [
              "Fecha\n",
              "2009-01-01     29\n",
              "2009-02-01     19\n",
              "2009-03-01     24\n",
              "2009-04-01     24\n",
              "2009-05-01    120\n",
              "2009-06-01    261\n",
              "2009-07-01     60\n",
              "2009-08-01     24\n",
              "2009-09-01     35\n",
              "2009-10-01     81\n",
              "Name: Producto1, dtype: int64"
            ]
          },
          "metadata": {
            "tags": []
          },
          "execution_count": 63
        }
      ]
    },
    {
      "cell_type": "markdown",
      "metadata": {
        "id": "fZcu4dM8qILP",
        "colab_type": "text"
      },
      "source": [
        "Se puede seleccionar el número de bins deseado y el programa obtiene la distribución óptima de los mismos"
      ]
    },
    {
      "cell_type": "code",
      "metadata": {
        "id": "Y5_LO951ega1",
        "colab_type": "code",
        "outputId": "a61ccb3c-8765-4809-d8e2-acd642565487",
        "colab": {
          "base_uri": "https://localhost:8080/",
          "height": 238
        }
      },
      "source": [
        "pd.cut(df.Producto1[:10], bins=3)"
      ],
      "execution_count": 0,
      "outputs": [
        {
          "output_type": "execute_result",
          "data": {
            "text/plain": [
              "Fecha\n",
              "2009-01-01     (18.758, 99.667]\n",
              "2009-02-01     (18.758, 99.667]\n",
              "2009-03-01     (18.758, 99.667]\n",
              "2009-04-01     (18.758, 99.667]\n",
              "2009-05-01    (99.667, 180.333]\n",
              "2009-06-01     (180.333, 261.0]\n",
              "2009-07-01     (18.758, 99.667]\n",
              "2009-08-01     (18.758, 99.667]\n",
              "2009-09-01     (18.758, 99.667]\n",
              "2009-10-01     (18.758, 99.667]\n",
              "Name: Producto1, dtype: category\n",
              "Categories (3, interval[float64]): [(18.758, 99.667] < (99.667, 180.333] < (180.333, 261.0]]"
            ]
          },
          "metadata": {
            "tags": []
          },
          "execution_count": 64
        }
      ]
    },
    {
      "cell_type": "markdown",
      "metadata": {
        "id": "tR3M7j8fqRTG",
        "colab_type": "text"
      },
      "source": [
        "Se puede seleccionar los intervalos de los bins deseados"
      ]
    },
    {
      "cell_type": "code",
      "metadata": {
        "id": "1OSXunBefNjG",
        "colab_type": "code",
        "outputId": "e3cfb569-e459-48cb-d8d5-62efafc2bf85",
        "colab": {
          "base_uri": "https://localhost:8080/",
          "height": 238
        }
      },
      "source": [
        "pd.cut(df.Producto1[:10],bins=[0,100,200,300])"
      ],
      "execution_count": 0,
      "outputs": [
        {
          "output_type": "execute_result",
          "data": {
            "text/plain": [
              "Fecha\n",
              "2009-01-01      (0, 100]\n",
              "2009-02-01      (0, 100]\n",
              "2009-03-01      (0, 100]\n",
              "2009-04-01      (0, 100]\n",
              "2009-05-01    (100, 200]\n",
              "2009-06-01    (200, 300]\n",
              "2009-07-01      (0, 100]\n",
              "2009-08-01      (0, 100]\n",
              "2009-09-01      (0, 100]\n",
              "2009-10-01      (0, 100]\n",
              "Name: Producto1, dtype: category\n",
              "Categories (3, interval[int64]): [(0, 100] < (100, 200] < (200, 300]]"
            ]
          },
          "metadata": {
            "tags": []
          },
          "execution_count": 65
        }
      ]
    },
    {
      "cell_type": "markdown",
      "metadata": {
        "id": "J8E-DXXWrn3v",
        "colab_type": "text"
      },
      "source": [
        "Se pueden poner etiquetas sobre los bins"
      ]
    },
    {
      "cell_type": "code",
      "metadata": {
        "id": "pZwv60b1rm-E",
        "colab_type": "code",
        "outputId": "af41737a-e74d-43dd-edeb-2e014a49f43e",
        "colab": {
          "base_uri": "https://localhost:8080/",
          "height": 238
        }
      },
      "source": [
        "pd.cut(df.Producto1[:10],bins=3, labels=['bajo','medio','alto'])"
      ],
      "execution_count": 0,
      "outputs": [
        {
          "output_type": "execute_result",
          "data": {
            "text/plain": [
              "Fecha\n",
              "2009-01-01     bajo\n",
              "2009-02-01     bajo\n",
              "2009-03-01     bajo\n",
              "2009-04-01     bajo\n",
              "2009-05-01    medio\n",
              "2009-06-01     alto\n",
              "2009-07-01     bajo\n",
              "2009-08-01     bajo\n",
              "2009-09-01     bajo\n",
              "2009-10-01     bajo\n",
              "Name: Producto1, dtype: category\n",
              "Categories (3, object): [bajo < medio < alto]"
            ]
          },
          "metadata": {
            "tags": []
          },
          "execution_count": 66
        }
      ]
    },
    {
      "cell_type": "markdown",
      "metadata": {
        "id": "fBvOlZqSsMz5",
        "colab_type": "text"
      },
      "source": [
        "<p><a name=\"concom\"></a></p>\n",
        "\n",
        "## 2.10. Concatenación y combinación de dataframes\n",
        "\n",
        "La concatenación se realiza mediante la función `concat()` y la combinación mediante la función `merge()`"
      ]
    },
    {
      "cell_type": "code",
      "metadata": {
        "id": "kxTLE1_0sL-B",
        "colab_type": "code",
        "colab": {}
      },
      "source": [
        "raw_data_1 = {\n",
        "        'subject_id': ['1', '2', '3', '4', '5'],\n",
        "        'first_name': ['Alex', 'Amy', 'Allen', 'Alice', 'Ayoung'], \n",
        "        'last_name': ['Anderson', 'Ackerman', 'Ali', 'Aoni', 'Atiches']}\n",
        "\n",
        "raw_data_2 = {\n",
        "        'subject_id': ['4', '5', '6', '7', '8'],\n",
        "        'first_name': ['Billy', 'Brian', 'Bran', 'Bryce', 'Betty'], \n",
        "        'last_name': ['Bonder', 'Black', 'Balwner', 'Brice', 'Btisan']}\n",
        "\n",
        "raw_data_3 = {\n",
        "        'subject_id': ['1', '2', '3', '4', '5', '7', '8', '9', '10', '11'],\n",
        "        'test_id': [51, 15, 15, 61, 16, 14, 15, 1, 61, 16]}\n",
        "\n",
        "data1 = pd.DataFrame(raw_data_1, columns = ['subject_id', 'first_name', 'last_name'])\n",
        "data2 = pd.DataFrame(raw_data_2, columns = ['subject_id', 'first_name', 'last_name'])\n",
        "data3 = pd.DataFrame(raw_data_3, columns = ['subject_id','test_id'])"
      ],
      "execution_count": 0,
      "outputs": []
    },
    {
      "cell_type": "code",
      "metadata": {
        "id": "vbHWFPRRsmNI",
        "colab_type": "code",
        "outputId": "e47e1775-5507-4a8e-db85-2fbe45617905",
        "colab": {
          "base_uri": "https://localhost:8080/",
          "height": 359
        }
      },
      "source": [
        "# Concatenar por filas\n",
        "all_data = pd.concat([data1, data2])\n",
        "all_data"
      ],
      "execution_count": 0,
      "outputs": [
        {
          "output_type": "execute_result",
          "data": {
            "text/html": [
              "<div>\n",
              "<style scoped>\n",
              "    .dataframe tbody tr th:only-of-type {\n",
              "        vertical-align: middle;\n",
              "    }\n",
              "\n",
              "    .dataframe tbody tr th {\n",
              "        vertical-align: top;\n",
              "    }\n",
              "\n",
              "    .dataframe thead th {\n",
              "        text-align: right;\n",
              "    }\n",
              "</style>\n",
              "<table border=\"1\" class=\"dataframe\">\n",
              "  <thead>\n",
              "    <tr style=\"text-align: right;\">\n",
              "      <th></th>\n",
              "      <th>subject_id</th>\n",
              "      <th>first_name</th>\n",
              "      <th>last_name</th>\n",
              "    </tr>\n",
              "  </thead>\n",
              "  <tbody>\n",
              "    <tr>\n",
              "      <th>0</th>\n",
              "      <td>1</td>\n",
              "      <td>Alex</td>\n",
              "      <td>Anderson</td>\n",
              "    </tr>\n",
              "    <tr>\n",
              "      <th>1</th>\n",
              "      <td>2</td>\n",
              "      <td>Amy</td>\n",
              "      <td>Ackerman</td>\n",
              "    </tr>\n",
              "    <tr>\n",
              "      <th>2</th>\n",
              "      <td>3</td>\n",
              "      <td>Allen</td>\n",
              "      <td>Ali</td>\n",
              "    </tr>\n",
              "    <tr>\n",
              "      <th>3</th>\n",
              "      <td>4</td>\n",
              "      <td>Alice</td>\n",
              "      <td>Aoni</td>\n",
              "    </tr>\n",
              "    <tr>\n",
              "      <th>4</th>\n",
              "      <td>5</td>\n",
              "      <td>Ayoung</td>\n",
              "      <td>Atiches</td>\n",
              "    </tr>\n",
              "    <tr>\n",
              "      <th>0</th>\n",
              "      <td>4</td>\n",
              "      <td>Billy</td>\n",
              "      <td>Bonder</td>\n",
              "    </tr>\n",
              "    <tr>\n",
              "      <th>1</th>\n",
              "      <td>5</td>\n",
              "      <td>Brian</td>\n",
              "      <td>Black</td>\n",
              "    </tr>\n",
              "    <tr>\n",
              "      <th>2</th>\n",
              "      <td>6</td>\n",
              "      <td>Bran</td>\n",
              "      <td>Balwner</td>\n",
              "    </tr>\n",
              "    <tr>\n",
              "      <th>3</th>\n",
              "      <td>7</td>\n",
              "      <td>Bryce</td>\n",
              "      <td>Brice</td>\n",
              "    </tr>\n",
              "    <tr>\n",
              "      <th>4</th>\n",
              "      <td>8</td>\n",
              "      <td>Betty</td>\n",
              "      <td>Btisan</td>\n",
              "    </tr>\n",
              "  </tbody>\n",
              "</table>\n",
              "</div>"
            ],
            "text/plain": [
              "  subject_id first_name last_name\n",
              "0          1       Alex  Anderson\n",
              "1          2        Amy  Ackerman\n",
              "2          3      Allen       Ali\n",
              "3          4      Alice      Aoni\n",
              "4          5     Ayoung   Atiches\n",
              "0          4      Billy    Bonder\n",
              "1          5      Brian     Black\n",
              "2          6       Bran   Balwner\n",
              "3          7      Bryce     Brice\n",
              "4          8      Betty    Btisan"
            ]
          },
          "metadata": {
            "tags": []
          },
          "execution_count": 70
        }
      ]
    },
    {
      "cell_type": "code",
      "metadata": {
        "id": "4koHlxR0tA4l",
        "colab_type": "code",
        "outputId": "91fb9d5d-1d10-446c-d836-77c5ddeb5c06",
        "colab": {
          "base_uri": "https://localhost:8080/",
          "height": 204
        }
      },
      "source": [
        "# Concatenar por columnas\n",
        "all_data_col = pd.concat([data1, data2], axis = 1)\n",
        "all_data_col"
      ],
      "execution_count": 0,
      "outputs": [
        {
          "output_type": "execute_result",
          "data": {
            "text/html": [
              "<div>\n",
              "<style scoped>\n",
              "    .dataframe tbody tr th:only-of-type {\n",
              "        vertical-align: middle;\n",
              "    }\n",
              "\n",
              "    .dataframe tbody tr th {\n",
              "        vertical-align: top;\n",
              "    }\n",
              "\n",
              "    .dataframe thead th {\n",
              "        text-align: right;\n",
              "    }\n",
              "</style>\n",
              "<table border=\"1\" class=\"dataframe\">\n",
              "  <thead>\n",
              "    <tr style=\"text-align: right;\">\n",
              "      <th></th>\n",
              "      <th>subject_id</th>\n",
              "      <th>first_name</th>\n",
              "      <th>last_name</th>\n",
              "      <th>subject_id</th>\n",
              "      <th>first_name</th>\n",
              "      <th>last_name</th>\n",
              "    </tr>\n",
              "  </thead>\n",
              "  <tbody>\n",
              "    <tr>\n",
              "      <th>0</th>\n",
              "      <td>1</td>\n",
              "      <td>Alex</td>\n",
              "      <td>Anderson</td>\n",
              "      <td>4</td>\n",
              "      <td>Billy</td>\n",
              "      <td>Bonder</td>\n",
              "    </tr>\n",
              "    <tr>\n",
              "      <th>1</th>\n",
              "      <td>2</td>\n",
              "      <td>Amy</td>\n",
              "      <td>Ackerman</td>\n",
              "      <td>5</td>\n",
              "      <td>Brian</td>\n",
              "      <td>Black</td>\n",
              "    </tr>\n",
              "    <tr>\n",
              "      <th>2</th>\n",
              "      <td>3</td>\n",
              "      <td>Allen</td>\n",
              "      <td>Ali</td>\n",
              "      <td>6</td>\n",
              "      <td>Bran</td>\n",
              "      <td>Balwner</td>\n",
              "    </tr>\n",
              "    <tr>\n",
              "      <th>3</th>\n",
              "      <td>4</td>\n",
              "      <td>Alice</td>\n",
              "      <td>Aoni</td>\n",
              "      <td>7</td>\n",
              "      <td>Bryce</td>\n",
              "      <td>Brice</td>\n",
              "    </tr>\n",
              "    <tr>\n",
              "      <th>4</th>\n",
              "      <td>5</td>\n",
              "      <td>Ayoung</td>\n",
              "      <td>Atiches</td>\n",
              "      <td>8</td>\n",
              "      <td>Betty</td>\n",
              "      <td>Btisan</td>\n",
              "    </tr>\n",
              "  </tbody>\n",
              "</table>\n",
              "</div>"
            ],
            "text/plain": [
              "  subject_id first_name last_name subject_id first_name last_name\n",
              "0          1       Alex  Anderson          4      Billy    Bonder\n",
              "1          2        Amy  Ackerman          5      Brian     Black\n",
              "2          3      Allen       Ali          6       Bran   Balwner\n",
              "3          4      Alice      Aoni          7      Bryce     Brice\n",
              "4          5     Ayoung   Atiches          8      Betty    Btisan"
            ]
          },
          "metadata": {
            "tags": []
          },
          "execution_count": 71
        }
      ]
    },
    {
      "cell_type": "code",
      "metadata": {
        "id": "RGbNfQvis92d",
        "colab_type": "code",
        "outputId": "c0abe7e0-91f0-441f-aa9e-cdb886b0a52c",
        "colab": {
          "base_uri": "https://localhost:8080/",
          "height": 328
        }
      },
      "source": [
        "# Combinar all_data y data3 a lo largo del valor de subject_id\n",
        "pd.merge(all_data, data3, on='subject_id')"
      ],
      "execution_count": 0,
      "outputs": [
        {
          "output_type": "execute_result",
          "data": {
            "text/html": [
              "<div>\n",
              "<style scoped>\n",
              "    .dataframe tbody tr th:only-of-type {\n",
              "        vertical-align: middle;\n",
              "    }\n",
              "\n",
              "    .dataframe tbody tr th {\n",
              "        vertical-align: top;\n",
              "    }\n",
              "\n",
              "    .dataframe thead th {\n",
              "        text-align: right;\n",
              "    }\n",
              "</style>\n",
              "<table border=\"1\" class=\"dataframe\">\n",
              "  <thead>\n",
              "    <tr style=\"text-align: right;\">\n",
              "      <th></th>\n",
              "      <th>subject_id</th>\n",
              "      <th>first_name</th>\n",
              "      <th>last_name</th>\n",
              "      <th>test_id</th>\n",
              "    </tr>\n",
              "  </thead>\n",
              "  <tbody>\n",
              "    <tr>\n",
              "      <th>0</th>\n",
              "      <td>1</td>\n",
              "      <td>Alex</td>\n",
              "      <td>Anderson</td>\n",
              "      <td>51</td>\n",
              "    </tr>\n",
              "    <tr>\n",
              "      <th>1</th>\n",
              "      <td>2</td>\n",
              "      <td>Amy</td>\n",
              "      <td>Ackerman</td>\n",
              "      <td>15</td>\n",
              "    </tr>\n",
              "    <tr>\n",
              "      <th>2</th>\n",
              "      <td>3</td>\n",
              "      <td>Allen</td>\n",
              "      <td>Ali</td>\n",
              "      <td>15</td>\n",
              "    </tr>\n",
              "    <tr>\n",
              "      <th>3</th>\n",
              "      <td>4</td>\n",
              "      <td>Alice</td>\n",
              "      <td>Aoni</td>\n",
              "      <td>61</td>\n",
              "    </tr>\n",
              "    <tr>\n",
              "      <th>4</th>\n",
              "      <td>4</td>\n",
              "      <td>Billy</td>\n",
              "      <td>Bonder</td>\n",
              "      <td>61</td>\n",
              "    </tr>\n",
              "    <tr>\n",
              "      <th>5</th>\n",
              "      <td>5</td>\n",
              "      <td>Ayoung</td>\n",
              "      <td>Atiches</td>\n",
              "      <td>16</td>\n",
              "    </tr>\n",
              "    <tr>\n",
              "      <th>6</th>\n",
              "      <td>5</td>\n",
              "      <td>Brian</td>\n",
              "      <td>Black</td>\n",
              "      <td>16</td>\n",
              "    </tr>\n",
              "    <tr>\n",
              "      <th>7</th>\n",
              "      <td>7</td>\n",
              "      <td>Bryce</td>\n",
              "      <td>Brice</td>\n",
              "      <td>14</td>\n",
              "    </tr>\n",
              "    <tr>\n",
              "      <th>8</th>\n",
              "      <td>8</td>\n",
              "      <td>Betty</td>\n",
              "      <td>Btisan</td>\n",
              "      <td>15</td>\n",
              "    </tr>\n",
              "  </tbody>\n",
              "</table>\n",
              "</div>"
            ],
            "text/plain": [
              "  subject_id first_name last_name  test_id\n",
              "0          1       Alex  Anderson       51\n",
              "1          2        Amy  Ackerman       15\n",
              "2          3      Allen       Ali       15\n",
              "3          4      Alice      Aoni       61\n",
              "4          4      Billy    Bonder       61\n",
              "5          5     Ayoung   Atiches       16\n",
              "6          5      Brian     Black       16\n",
              "7          7      Bryce     Brice       14\n",
              "8          8      Betty    Btisan       15"
            ]
          },
          "metadata": {
            "tags": []
          },
          "execution_count": 72
        }
      ]
    },
    {
      "cell_type": "code",
      "metadata": {
        "id": "h7UW_E-BthxT",
        "colab_type": "code",
        "outputId": "c45d03ea-60ac-404c-a98d-14b10f995f11",
        "colab": {
          "base_uri": "https://localhost:8080/",
          "height": 111
        }
      },
      "source": [
        "# Combinar solo los datos que tienen el mismo 'subject_id' en data1 y data2 (interseccion)\n",
        "pd.merge(data1, data2, on='subject_id', how='inner')"
      ],
      "execution_count": 0,
      "outputs": [
        {
          "output_type": "execute_result",
          "data": {
            "text/html": [
              "<div>\n",
              "<style scoped>\n",
              "    .dataframe tbody tr th:only-of-type {\n",
              "        vertical-align: middle;\n",
              "    }\n",
              "\n",
              "    .dataframe tbody tr th {\n",
              "        vertical-align: top;\n",
              "    }\n",
              "\n",
              "    .dataframe thead th {\n",
              "        text-align: right;\n",
              "    }\n",
              "</style>\n",
              "<table border=\"1\" class=\"dataframe\">\n",
              "  <thead>\n",
              "    <tr style=\"text-align: right;\">\n",
              "      <th></th>\n",
              "      <th>subject_id</th>\n",
              "      <th>first_name_x</th>\n",
              "      <th>last_name_x</th>\n",
              "      <th>first_name_y</th>\n",
              "      <th>last_name_y</th>\n",
              "    </tr>\n",
              "  </thead>\n",
              "  <tbody>\n",
              "    <tr>\n",
              "      <th>0</th>\n",
              "      <td>4</td>\n",
              "      <td>Alice</td>\n",
              "      <td>Aoni</td>\n",
              "      <td>Billy</td>\n",
              "      <td>Bonder</td>\n",
              "    </tr>\n",
              "    <tr>\n",
              "      <th>1</th>\n",
              "      <td>5</td>\n",
              "      <td>Ayoung</td>\n",
              "      <td>Atiches</td>\n",
              "      <td>Brian</td>\n",
              "      <td>Black</td>\n",
              "    </tr>\n",
              "  </tbody>\n",
              "</table>\n",
              "</div>"
            ],
            "text/plain": [
              "  subject_id first_name_x last_name_x first_name_y last_name_y\n",
              "0          4        Alice        Aoni        Billy      Bonder\n",
              "1          5       Ayoung     Atiches        Brian       Black"
            ]
          },
          "metadata": {
            "tags": []
          },
          "execution_count": 78
        }
      ]
    },
    {
      "cell_type": "code",
      "metadata": {
        "id": "BQqrG4TitxYg",
        "colab_type": "code",
        "outputId": "6743a5ee-304d-42fd-83e3-e53297d91328",
        "colab": {
          "base_uri": "https://localhost:8080/",
          "height": 297
        }
      },
      "source": [
        "# Combinar solo los datos que tienen el mismo 'subject_id' en data1 y data2 (union)\n",
        "pd.merge(data1, data2, on='subject_id', how='outer')\n",
        "\n"
      ],
      "execution_count": 0,
      "outputs": [
        {
          "output_type": "execute_result",
          "data": {
            "text/html": [
              "<div>\n",
              "<style scoped>\n",
              "    .dataframe tbody tr th:only-of-type {\n",
              "        vertical-align: middle;\n",
              "    }\n",
              "\n",
              "    .dataframe tbody tr th {\n",
              "        vertical-align: top;\n",
              "    }\n",
              "\n",
              "    .dataframe thead th {\n",
              "        text-align: right;\n",
              "    }\n",
              "</style>\n",
              "<table border=\"1\" class=\"dataframe\">\n",
              "  <thead>\n",
              "    <tr style=\"text-align: right;\">\n",
              "      <th></th>\n",
              "      <th>subject_id</th>\n",
              "      <th>first_name_x</th>\n",
              "      <th>last_name_x</th>\n",
              "      <th>first_name_y</th>\n",
              "      <th>last_name_y</th>\n",
              "    </tr>\n",
              "  </thead>\n",
              "  <tbody>\n",
              "    <tr>\n",
              "      <th>0</th>\n",
              "      <td>1</td>\n",
              "      <td>Alex</td>\n",
              "      <td>Anderson</td>\n",
              "      <td>NaN</td>\n",
              "      <td>NaN</td>\n",
              "    </tr>\n",
              "    <tr>\n",
              "      <th>1</th>\n",
              "      <td>2</td>\n",
              "      <td>Amy</td>\n",
              "      <td>Ackerman</td>\n",
              "      <td>NaN</td>\n",
              "      <td>NaN</td>\n",
              "    </tr>\n",
              "    <tr>\n",
              "      <th>2</th>\n",
              "      <td>3</td>\n",
              "      <td>Allen</td>\n",
              "      <td>Ali</td>\n",
              "      <td>NaN</td>\n",
              "      <td>NaN</td>\n",
              "    </tr>\n",
              "    <tr>\n",
              "      <th>3</th>\n",
              "      <td>4</td>\n",
              "      <td>Alice</td>\n",
              "      <td>Aoni</td>\n",
              "      <td>Billy</td>\n",
              "      <td>Bonder</td>\n",
              "    </tr>\n",
              "    <tr>\n",
              "      <th>4</th>\n",
              "      <td>5</td>\n",
              "      <td>Ayoung</td>\n",
              "      <td>Atiches</td>\n",
              "      <td>Brian</td>\n",
              "      <td>Black</td>\n",
              "    </tr>\n",
              "    <tr>\n",
              "      <th>5</th>\n",
              "      <td>6</td>\n",
              "      <td>NaN</td>\n",
              "      <td>NaN</td>\n",
              "      <td>Bran</td>\n",
              "      <td>Balwner</td>\n",
              "    </tr>\n",
              "    <tr>\n",
              "      <th>6</th>\n",
              "      <td>7</td>\n",
              "      <td>NaN</td>\n",
              "      <td>NaN</td>\n",
              "      <td>Bryce</td>\n",
              "      <td>Brice</td>\n",
              "    </tr>\n",
              "    <tr>\n",
              "      <th>7</th>\n",
              "      <td>8</td>\n",
              "      <td>NaN</td>\n",
              "      <td>NaN</td>\n",
              "      <td>Betty</td>\n",
              "      <td>Btisan</td>\n",
              "    </tr>\n",
              "  </tbody>\n",
              "</table>\n",
              "</div>"
            ],
            "text/plain": [
              "  subject_id first_name_x last_name_x first_name_y last_name_y\n",
              "0          1         Alex    Anderson          NaN         NaN\n",
              "1          2          Amy    Ackerman          NaN         NaN\n",
              "2          3        Allen         Ali          NaN         NaN\n",
              "3          4        Alice        Aoni        Billy      Bonder\n",
              "4          5       Ayoung     Atiches        Brian       Black\n",
              "5          6          NaN         NaN         Bran     Balwner\n",
              "6          7          NaN         NaN        Bryce       Brice\n",
              "7          8          NaN         NaN        Betty      Btisan"
            ]
          },
          "metadata": {
            "tags": []
          },
          "execution_count": 83
        }
      ]
    },
    {
      "cell_type": "markdown",
      "metadata": {
        "id": "O2ehaErhoIav",
        "colab_type": "text"
      },
      "source": [
        "<p><a name=\"tallpan\"></a></p>\n",
        "\n",
        "## 3. Taller Pandas"
      ]
    },
    {
      "cell_type": "markdown",
      "metadata": {
        "id": "yz3mwAY5mdCi",
        "colab_type": "text"
      },
      "source": [
        "### Ejercicio 1 \n",
        "\n",
        "Cargue el dataset provisto en la dirección 'https://pynative.com/wp-content/uploads/2019/01/company_sales_data.csv'  grafique la ganancia total (total_profit) para todos los meses. La gráfica debe tener las siguientes propiedades:\n",
        "\n",
        "* El estilo de línea punteado y de color rojo \n",
        "* Mostrar la legenda (legend) en la parte inferior derecha\n",
        "* X label name = Month Number\n",
        "* Y label name = Profits in dollars\n",
        "* Título : Company sales data of last year\n",
        "* Los markers deben ser circulares y de color negro\n",
        "* El grosor de la línea debe ser 3\n",
        "\n",
        "Solución esperada:\n",
        "<p><img  height=\"260px\" src=\"https://pynative.com/wp-content/uploads/2019/01/matplotlib_and_pandas_exercise_2_plot_style_properties-768x512.png\" align=\"center\" hspace=\"10px\" vspace=\"0px\"></p>"
      ]
    },
    {
      "cell_type": "markdown",
      "metadata": {
        "id": "FmT4jjbmmqFq",
        "colab_type": "text"
      },
      "source": [
        "Para ver la solución haga double-click <b>aquí</b>.\n",
        "<!--\n",
        "\n",
        "import pandas as pd\n",
        "import matplotlib.pyplot as plt  \n",
        "df = pd.read_csv('https://pynative.com/wp-content/uploads/2019/01/company_sales_data.csv')\n",
        "profitList = df ['total_profit'].tolist()\n",
        "monthList  = df ['month_number'].tolist()\n",
        "plt.plot(monthList, profitList, label = 'Profit data of last year', \n",
        "      color='r', marker='o', markerfacecolor='k', \n",
        "      linestyle='--', linewidth=3)\n",
        "      \n",
        "plt.xlabel('Month Number')\n",
        "plt.ylabel('Profit in dollar')\n",
        "plt.legend(loc='lower right')\n",
        "plt.title('Company Sales data of last year')\n",
        "plt.xticks(monthList)\n",
        "plt.yticks([100000, 200000, 300000, 400000, 500000])\n",
        "plt.show()\n",
        "-->"
      ]
    },
    {
      "cell_type": "markdown",
      "metadata": {
        "id": "es-m65sEpb7b",
        "colab_type": "text"
      },
      "source": [
        "### Ejercicio 2\n",
        "\n",
        "Dataset: https://raw.githubusercontent.com/justmarkham/DAT8/master/data/u.user\n",
        "\n",
        "1. Importar el dataset, asignarlo a una variable llamada *users* y usar el *user_id* como índice.\n",
        "2. ¿Cuál es el número de observaciones y columnas en el dataset? \n",
        "3. Mostrar el nombre de las columnas y el tipo de dato que contiene.\n",
        "4. Mostrar la indexación del dataset.\n",
        "5. ¿Cuántas ocupaciones diferentes hay en este conjunto de datos?\n",
        "6. ¿Cuál es la ocupación más frecuente?\n",
        "7. ¿Cuál es la edad media de los usuarios?\n",
        "8. ¿Cuál es la edad con menos ocurrencia?\n"
      ]
    },
    {
      "cell_type": "markdown",
      "metadata": {
        "id": "Wuwt_G1GpbN_",
        "colab_type": "text"
      },
      "source": [
        "Para ver la solución haga double-click <b>aquí</b>.\n",
        "<!--\n",
        "\n",
        "1. \n",
        "\n",
        "import pandas as pd\n",
        "\n",
        "users = pd.read_csv('https://raw.githubusercontent.com/justmarkham/DAT8/master/data/u.user', delimiter='|', index_col='user_id')\n",
        "users.head()\n",
        "  \n",
        "2.\n",
        "print(\"Número de observaciones:\",users.shape[0])\n",
        "print(\"Número de columnas: \",users.shape[1])\n",
        "\n",
        "3.\n",
        "print(\"Columnas: \",users.columns)\n",
        "print(\"Tipo de datos: \\n\",users.dtypes)\n",
        "\n",
        "4.\n",
        "print(\"Indexación: \",users.index)\n",
        "\n",
        "5.\n",
        "print(\"Número de ocupaciones diferentes:\",users.occupation.nunique())\n",
        "\n",
        "6.\n",
        "print(\"Ocupaciones más frecuentes:\\n\",users.occupation.value_counts().head())\n",
        "\n",
        "7.\n",
        "print(\"Edad media de los usuarios:\",round(users.age.mean()))\n",
        "\n",
        "8.\n",
        "print(\"Edades de menos ocurrencia:\\n\",users.age.value_counts().tail(10))\n",
        "\n",
        "-->"
      ]
    },
    {
      "cell_type": "markdown",
      "metadata": {
        "id": "pCX-t7lsuSVv",
        "colab_type": "text"
      },
      "source": [
        "### Ejercicio 3"
      ]
    },
    {
      "cell_type": "markdown",
      "metadata": {
        "id": "brSEH5NbyWwA",
        "colab_type": "text"
      },
      "source": [
        "Diccionario dado:\n",
        "\n",
        "raw_data = {'regiment': ['Nighthawks', 'Nighthawks', 'Nighthawks', 'Nighthawks', 'Dragoons', 'Dragoons', 'Dragoons', 'Dragoons', 'Scouts', 'Scouts', 'Scouts', 'Scouts'],\n",
        "            'company': ['1st', '1st', '2nd', '2nd', '1st', '1st', '2nd', '2nd','1st', '1st', '2nd', '2nd'],\n",
        "            'deaths': [523, 52, 25, 616, 43, 234, 523, 62, 62, 73, 37, 35],\n",
        "            'battles': [5, 42, 2, 2, 4, 7, 8, 3, 4, 7, 8, 9],\n",
        "            'size': [1045, 957, 1099, 1400, 1592, 1006, 987, 849, 973, 1005, 1099, 1523],\n",
        "            'veterans': [1, 5, 62, 26, 73, 37, 949, 48, 48, 435, 63, 345],\n",
        "            'readiness': [1, 2, 3, 3, 2, 1, 2, 3, 2, 1, 2, 3],\n",
        "            'armored': [1, 0, 1, 1, 0, 1, 0, 1, 0, 0, 1, 1],\n",
        "            'deserters': [4, 24, 31, 2, 3, 4, 24, 31, 2, 3, 2, 3],\n",
        "            'origin': ['Arizona', 'California', 'Texas', 'Florida', 'Maine', 'Iowa', 'Alaska', 'Washington', 'Oregon', 'Wyoming', 'Louisana', 'Georgia']}\n",
        "            \n",
        "1. Crea un DataFrame llamado *army* a partir del diccionario dado \n",
        "\n",
        "(No olvide incluir los nombres de las columnas en el orden presentado en el diccionario ('regimen', 'company', ...) para que el orden del índice de la columna sea coherente con las soluciones. Si se omite, Pandas ordenará las columnas alfabéticamente.\n",
        "\n",
        "2. Establezca la columna 'origin' como índice del dataset.\n",
        "3. Imprima las columnas 'veterans' y 'deaths'\n",
        "4. Seleccione las columnas 'deaths', 'size' y 'deserters' de Maine a Alaska.\n",
        "5. Seleccione la tercera columna hasta la séptima columna.\n",
        "6. Seleccione las filas donde *deaths* sea mayor que 50.\n",
        "7. Seleccione las filas donde *deaths* sea mayor que 500 o menor que 50.\n",
        "8. Selecciona todos los *regiments* no nombrados *Dragoons*.\n",
        "9. Seleccione la tercera celda en la fila llamada *Arizona*\n",
        "10. Seleccione la tercera celda en la columna llamada *deaths*\n"
      ]
    },
    {
      "cell_type": "markdown",
      "metadata": {
        "id": "gTBNeJy0yQFB",
        "colab_type": "text"
      },
      "source": [
        "Para ver la solución haga double-click <b>aquí</b>.\n",
        "<!--\n",
        "1.\n",
        "raw_data = {'regiment': ['Nighthawks', 'Nighthawks', 'Nighthawks', 'Nighthawks', 'Dragoons', 'Dragoons', 'Dragoons', 'Dragoons', 'Scouts', 'Scouts', 'Scouts', 'Scouts'], 'company': ['1st', '1st', '2nd', '2nd', '1st', '1st', '2nd', '2nd','1st', '1st', '2nd', '2nd'], 'deaths': [523, 52, 25, 616, 43, 234, 523, 62, 62, 73, 37, 35], 'battles': [5, 42, 2, 2, 4, 7, 8, 3, 4, 7, 8, 9], 'size': [1045, 957, 1099, 1400, 1592, 1006, 987, 849, 973, 1005, 1099, 1523], 'veterans': [1, 5, 62, 26, 73, 37, 949, 48, 48, 435, 63, 345], 'readiness': [1, 2, 3, 3, 2, 1, 2, 3, 2, 1, 2, 3], 'armored': [1, 0, 1, 1, 0, 1, 0, 1, 0, 0, 1, 1], 'deserters': [4, 24, 31, 2, 3, 4, 24, 31, 2, 3, 2, 3], 'origin': ['Arizona', 'California', 'Texas', 'Florida', 'Maine', 'Iowa', 'Alaska', 'Washington', 'Oregon', 'Wyoming', 'Louisana', 'Georgia']}\n",
        "\n",
        "army = pd.DataFrame(raw_data, columns = ['regiment', 'company', 'deaths', 'battles', 'size', 'veterans', 'readiness', 'armored', 'deserters', 'origin'])\n",
        "\n",
        "army.head()\n",
        "\n",
        "2.\n",
        "army = army.set_index(\"origin\")\n",
        "army.head()\n",
        "\n",
        "3. \n",
        "army[['veterans', 'deaths']]\n",
        "\n",
        "4.\n",
        "army.loc[['Maine','Alaska'] , [\"deaths\",\"size\",\"deserters\"]]\n",
        "\n",
        "5.\n",
        "army.iloc[: , 4:7]\n",
        "\n",
        "6.\n",
        "army[army['deaths'] > 50]\n",
        "\n",
        "7. \n",
        "army[(army['deaths'] > 500) | (army['deaths'] < 50)]\n",
        "\n",
        "8.\n",
        "army[(army['regiment'] != 'Dragoons')]\n",
        "\n",
        "9.\n",
        "army.loc[['Arizona'], ['deaths']]\n",
        "\n",
        "#O\n",
        "\n",
        "#army.iloc[[0]\n",
        "\n",
        "10.\n",
        "army.loc['Texas', 'deaths']\n",
        "\n",
        "#O\n",
        "\n",
        "#army.iloc[[2]\n",
        "\n",
        "\n",
        "-->"
      ]
    },
    {
      "cell_type": "markdown",
      "metadata": {
        "id": "2uqS7sNd8_Fk",
        "colab_type": "text"
      },
      "source": [
        "### Ejercicio 4\n",
        "\n",
        "Dataset: https://raw.githubusercontent.com/justmarkham/DAT8/master/data/u.user\n",
        "\n",
        "1.  Importar el dataset, asignarlo a una variable llamada *users* y usar el *user_id* como índice.\n",
        "2. ¿Cuál es la edad media por ocupación?\n",
        "3. Descubra la proporción de hombres por ocupación y clasifíquela de mayor a menor (cree una columna).\n",
        "4. Para cada ocupación calcule las edades mínimas y máximas.\n",
        "5. Para cada combinación de ocupación y género calcule la edad media.\n",
        "6. Para cada ocupación muestre el porcentaje de mujeres y hombres."
      ]
    },
    {
      "cell_type": "markdown",
      "metadata": {
        "id": "TVbi8B-a-gZ9",
        "colab_type": "text"
      },
      "source": [
        "Para ver la solución haga double-click <b>aquí</b>.\n",
        "<!--\n",
        "\n",
        "1. \n",
        "\n",
        "import pandas as pd\n",
        "\n",
        "users = pd.read_csv('https://raw.githubusercontent.com/justmarkham/DAT8/master/data/u.user', delimiter='|', index_col='user_id')\n",
        "users.head()\n",
        "  \n",
        "2.\n",
        "users.groupby('occupation').age.mean()\n",
        "\n",
        "3.\n",
        "# funcion que mapea el genero a un numero\n",
        "def gender_to_numeric(x):\n",
        "    if x == 'M':\n",
        "        return 1\n",
        "    if x == 'F':\n",
        "        return 0\n",
        "\n",
        "# aplica la funcion a la columna genero y saca el porcentaje de hombres por ocupacion\n",
        "users['gender_n'] = users['gender'].apply(gender_to_numeric)\n",
        "\n",
        "# se \n",
        "a = users.groupby('occupation').gender_n.sum() / users.occupation.value_counts() * 100 \n",
        "\n",
        "# ordenamiento de mayor a menor\n",
        "a.sort_values(ascending = False)\n",
        "\n",
        "4.\n",
        "users.groupby('occupation').age.agg(['min', 'max'])\n",
        "\n",
        "5.\n",
        "users.groupby(['occupation', 'gender']).age.mean()\n",
        "\n",
        "6.\n",
        "# crea un dataframe y aplica \"count\" al genero\n",
        "gender_ocup = users.groupby(['occupation', 'gender']).agg({'gender': 'count'})\n",
        "\n",
        "# crea un dataframe y aplica \"count\" para cada ocupacion\n",
        "occup_count = users.groupby(['occupation']).agg('count')\n",
        "\n",
        "# divida gender_ocup por occup_count y multiplique por 100\n",
        "occup_gender = gender_ocup.div(occup_count, level = \"occupation\") * 100\n",
        "\n",
        "# mostrar todas las filas de la columna genero\n",
        "occup_gender.loc[: , 'gender']\n",
        "\n",
        "-->"
      ]
    }
  ]
}