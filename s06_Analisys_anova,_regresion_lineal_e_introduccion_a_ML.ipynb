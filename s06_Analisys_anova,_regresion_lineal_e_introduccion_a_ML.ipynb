{
  "nbformat": 4,
  "nbformat_minor": 0,
  "metadata": {
    "colab": {
      "name": "s06_Analisys anova, regresion lineal e introduccion a ML.ipynb",
      "provenance": [],
      "collapsed_sections": [],
      "include_colab_link": true
    },
    "kernelspec": {
      "name": "python3",
      "display_name": "Python 3"
    }
  },
  "cells": [
    {
      "cell_type": "markdown",
      "metadata": {
        "id": "view-in-github",
        "colab_type": "text"
      },
      "source": [
        "<a href=\"https://colab.research.google.com/github/jdamaster/machineLearningDiplomat/blob/master/s06_Analisys_anova%2C_regresion_lineal_e_introduccion_a_ML.ipynb\" target=\"_parent\"><img src=\"https://colab.research.google.com/assets/colab-badge.svg\" alt=\"Open In Colab\"/></a>"
      ]
    },
    {
      "cell_type": "markdown",
      "metadata": {
        "id": "PLb_Nnm30apm",
        "colab_type": "text"
      },
      "source": [
        "<p><img alt=\"Colaboratory logo\" height=\"140px\" src=\"https://upload.wikimedia.org/wikipedia/commons/archive/f/fb/20161010213812%21Escudo-UdeA.svg\" align=\"left\" hspace=\"10px\" vspace=\"0px\"></p>\n",
        "\n",
        "<h1> Diplomado de Análisis de datos y Machine Learning en Python</h1>\n",
        "\n",
        "\n",
        "El presente diplomado hace parte del centro de Big Data de la facultad de ciencias exactas y naturales (FCEN) de la Universidad de Antioquia."
      ]
    },
    {
      "cell_type": "markdown",
      "metadata": {
        "id": "UBAGa-A40g6Q",
        "colab_type": "text"
      },
      "source": [
        "<p><a name=\"contents\"></a></p>\n",
        "\n",
        "# Contenido Sesión 6: Introducción al Machine Learning:\n",
        "\n",
        "\n",
        "- <a href=\"#anova2\">1. ANOVA II</a><br>\n",
        "  - <a href=\"#intro\">1.1. Introducción</a><br> \n",
        "  - <a href=\"#oneway\">1.2. One-way ANOVA varios grupos</a><br>\n",
        "- <a href=\"#ML\">2. Modelos basados en datos y Machine Learning</a><br>\n",
        "  - <a href=\"#modelML\">2.1. Modelos que se pueden construir</code></a><br>\n",
        "  - <a href=\"#terms\">2.2. Terminología</code></a><br>\n",
        "  - <a href=\"#supML\">2.3. Aprendizaje supervisado</code></a><br>\n",
        "  - <a href=\"#nonsupML\">2.4. Aprendizaje no supervisado</code></a><br>\n",
        "  - <a href=\"#data\">2.5. Observaciones acerca de los datos</code></a><br>\n",
        "- <a href=\"#sklearn\">3. Introducción a Scikit-Learn</a><br>\n",
        "  - <a href=\"#sklearnG\">3.12 Generalidades</a><br>\n",
        "  - <a href=\"#sklearnT\">3.2. Tratamiento de datos</a><br>\n",
        "    - <a href=\"#sklearnTT\">3.2.1 Datos de entrenamiento y de prueba</a><br>\n",
        "    - <a href=\"#sklearnCT\">3.2.2 Conversión de variables categóricas</a><br>\n",
        "    - <a href=\"#sklearnFS\">3.2.3 Escalamiento de características</a><br>\n",
        "    - <a href=\"#sklearnPL\">3.2.4 Pipeline</a><br>\n",
        "- <a href=\"#regresion\">4. Regresión lineal</a><br>\n",
        "  - <a href=\"#simple\">4.1 Regresión lineal simple</a><br>\n",
        "  - <a href=\"#multiple\">4.2 Regresión lineal multiple</a><br>\n",
        "    - <a href=\"#ridge\">4.3.1 Regresión lineal Ridge</a><br>\n",
        "    - <a href=\"#lasso\">4.3.2 Regresión lineal Lasso</a><br>\n",
        "- <a href=\"#taller\">5. Taller</a><br>\n"
      ]
    },
    {
      "cell_type": "markdown",
      "metadata": {
        "id": "ibXV6NcyB9Uy",
        "colab_type": "text"
      },
      "source": [
        "Objetivos:\n",
        "\n",
        "* Introducir el vocabulario y los conceptos fundamentales del Machine Learning (ML).\n",
        "* Presentar la API Scikit-Learn y mostrar algunos ejemplos de su uso.\n",
        "* Explorar los enfoques de ML más importantes y desarrollar una intuición sobre cómo funcionan y cuándo y\n",
        "donde son aplicables\n"
      ]
    },
    {
      "cell_type": "markdown",
      "metadata": {
        "id": "gPrturbz5oKk",
        "colab_type": "text"
      },
      "source": [
        "<p><a name=\"anova2\"></a></p>\n",
        "\n",
        "# 1. ANOVA II.\n",
        "\n",
        "<p><a name=\"intro\"></a></p>\n",
        "\n",
        "## 1.1. Introducción:\n",
        "\n",
        "[[Contenidos]](#contents)\n",
        "\n",
        "El el test one-way ANOVA es una técnica que es usada para variables blanco numéricas (\"Y\", siguendo la notación establecida), usualmente una variable, y datos de entrada de solo una variable numérica o categórica, por tal motivo se le conoce como \"one-way\".\n",
        "\n",
        "El test de análisis de varianzas puede pensarse como una generalización del t-test a más de dos grupos. En ANOVA, la **hipotesis nula** establece que **las medias de las poblaciones de las cuales se tomaron las muestras de los grupos son iguales**. De forma más concisa tenemos que:\n",
        "\n",
        " $\\mu_1=\\cdots=\\mu_n$\n",
        " \n",
        "\n",
        "Para un grupo de $n$ datos. La hipótesis alternativa sería que alguna de las medias de la ecuación anterior no se cumpla. Por lo tanto, tener un F-value alto y un p-value pequeño, implica que la probabilidad de que la hipótesis nula sea cierta es baja, por tanto, decimos que la hipotesis alternativa se debe cumplir.\n",
        "\n",
        "Supongamos que queremos analizar una variable categórica y ver la correlación con otras variables. \n",
        "\n",
        "Uno de los principales usos de ANOVA es el de analizar el impacto que las subcategorías tienen sobre en otra variable. \n",
        "\n",
        "Por ejemplo, en el caso del dataset de carros, resultaría interesante responder a la pregunta:\n",
        "\n",
        "* ¿Qué subcategorias de la categoría make (Fabricantes de carros), tienen algun impacto sobre la variable precio?.\n",
        "\n",
        "Empecemos por cargar los datos de carros y volverlos a inspeccionar:"
      ]
    },
    {
      "cell_type": "markdown",
      "metadata": {
        "id": "d5W_wTu-9lE4",
        "colab_type": "text"
      },
      "source": [
        "Realicemos una gráfica del precio medio en función de la de la marca, con el fin de analizar si existe alguna dependencia."
      ]
    },
    {
      "cell_type": "code",
      "metadata": {
        "id": "0-Pa9a0fvHUv",
        "colab_type": "code",
        "colab": {}
      },
      "source": [
        "import pandas as pd\n",
        "import numpy as np\n",
        "\n",
        "archivo = 'https://s3-api.us-geo.objectstorage.softlayer.net/cf-courses-data/CognitiveClass/DA0101EN/automobileEDA.csv'\n",
        "df = pd.read_csv(archivo)"
      ],
      "execution_count": 0,
      "outputs": []
    },
    {
      "cell_type": "code",
      "metadata": {
        "id": "NP0Pa3cx9UxA",
        "colab_type": "code",
        "outputId": "9420819e-17d2-4504-a1dd-8066e510cfe6",
        "colab": {
          "base_uri": "https://localhost:8080/",
          "height": 476
        }
      },
      "source": [
        "dftest1 = df[[\"make\",\"price\"]].groupby(\"make\").mean().sort_values(by=\"price\")\n",
        "dftest1.plot(kind=\"bar\",figsize=(9,6))"
      ],
      "execution_count": 0,
      "outputs": [
        {
          "output_type": "execute_result",
          "data": {
            "text/plain": [
              "<matplotlib.axes._subplots.AxesSubplot at 0x7f59b88dc2b0>"
            ]
          },
          "metadata": {
            "tags": []
          },
          "execution_count": 2
        },
        {
          "output_type": "display_data",
          "data": {
            "image/png": "[encoded data removed]",
            "text/plain": [
              "<Figure size 648x432 with 1 Axes>"
            ]
          },
          "metadata": {
            "tags": []
          }
        }
      ]
    },
    {
      "cell_type": "markdown",
      "metadata": {
        "id": "skBBV_VV9RiX",
        "colab_type": "text"
      },
      "source": [
        "De este gráfica se puede observar que existe una  variación del precio medio a medida que nos movemos de izquierda a derecha en las diferentes marcas, no obstente, no sabemos cual marca de carro tienen el impacto más alto y cual menos en la predicción del precio. \n",
        "\n",
        "Mediante ANOVA podemos ver si existe una diferencia significativa entre las medias de los precios de dos o más marcas.\n",
        "\n",
        "Recuerdemos que ANOVA retorna dos valores:\n",
        "\n",
        "* F-value: Que representa la razón de la variación entre la media de los grupos y la variación dentro de cada grupo.\n",
        "\n",
        "* p-value: Que representa la probabilidad de que la hipótesis nula (medias iguales) sea cierta. El valor p respresenta entonces, la significancia estadística.\n",
        "\n",
        "Veamos en una grafica de boxplots como se relacionan las diferentes marcas segun el precio."
      ]
    },
    {
      "cell_type": "code",
      "metadata": {
        "id": "olD4JJ-89vjL",
        "colab_type": "code",
        "outputId": "76a93e9a-e063-41d5-d377-5724950f410a",
        "colab": {
          "base_uri": "https://localhost:8080/",
          "height": 350
        }
      },
      "source": [
        "import matplotlib.pyplot as plt\n",
        "import seaborn as sns\n",
        "\n",
        "sns.boxplot(x=\"make\", y=\"price\", data=df[[\"make\",\"price\"]])\n",
        "plt.xticks(rotation=90)\n",
        "plt.show()"
      ],
      "execution_count": 0,
      "outputs": [
        {
          "output_type": "display_data",
          "data": {
            "image/png": "[encoded data removed]",
            "text/plain": [
              "<Figure size 432x288 with 1 Axes>"
            ]
          },
          "metadata": {
            "tags": []
          }
        }
      ]
    },
    {
      "cell_type": "markdown",
      "metadata": {
        "id": "LSJZJsam92vY",
        "colab_type": "text"
      },
      "source": [
        "De esta gráfica resulta dificil establecer si existe una correlación entre la variable categórica \"marca\" y el precio.\n",
        "\n",
        "Con el fin de comprender más a fondo la finalidad de ANOVA y lo que mide, intentemos diferenciar entre precios de carro según las marcas.\n",
        "\n",
        "Iniciemos la comparación entre dos grupos de marcas, aunque la finalidad de ANOVA consiste en diferenciar más de dos grupos (para diferenciar solo dos grupos, la prueba más adecuada es la t-student).\n",
        "\n",
        "De la base de datos de carros, extraigamos solo la marca y el precio y almacenémoslo en un nuevo dataFrame:"
      ]
    },
    {
      "cell_type": "code",
      "metadata": {
        "id": "cZuvBZ9m97AZ",
        "colab_type": "code",
        "outputId": "0d351376-2aab-4738-9fad-e4cf5ca8c0ad",
        "colab": {
          "base_uri": "https://localhost:8080/",
          "height": 204
        }
      },
      "source": [
        "df_test = df[[\"make\",\"price\"]]\n",
        "df_test.head()"
      ],
      "execution_count": 0,
      "outputs": [
        {
          "output_type": "execute_result",
          "data": {
            "text/html": [
              "<div>\n",
              "<style scoped>\n",
              "    .dataframe tbody tr th:only-of-type {\n",
              "        vertical-align: middle;\n",
              "    }\n",
              "\n",
              "    .dataframe tbody tr th {\n",
              "        vertical-align: top;\n",
              "    }\n",
              "\n",
              "    .dataframe thead th {\n",
              "        text-align: right;\n",
              "    }\n",
              "</style>\n",
              "<table border=\"1\" class=\"dataframe\">\n",
              "  <thead>\n",
              "    <tr style=\"text-align: right;\">\n",
              "      <th></th>\n",
              "      <th>make</th>\n",
              "      <th>price</th>\n",
              "    </tr>\n",
              "  </thead>\n",
              "  <tbody>\n",
              "    <tr>\n",
              "      <th>0</th>\n",
              "      <td>alfa-romero</td>\n",
              "      <td>13495.0</td>\n",
              "    </tr>\n",
              "    <tr>\n",
              "      <th>1</th>\n",
              "      <td>alfa-romero</td>\n",
              "      <td>16500.0</td>\n",
              "    </tr>\n",
              "    <tr>\n",
              "      <th>2</th>\n",
              "      <td>alfa-romero</td>\n",
              "      <td>16500.0</td>\n",
              "    </tr>\n",
              "    <tr>\n",
              "      <th>3</th>\n",
              "      <td>audi</td>\n",
              "      <td>13950.0</td>\n",
              "    </tr>\n",
              "    <tr>\n",
              "      <th>4</th>\n",
              "      <td>audi</td>\n",
              "      <td>17450.0</td>\n",
              "    </tr>\n",
              "  </tbody>\n",
              "</table>\n",
              "</div>"
            ],
            "text/plain": [
              "          make    price\n",
              "0  alfa-romero  13495.0\n",
              "1  alfa-romero  16500.0\n",
              "2  alfa-romero  16500.0\n",
              "3         audi  13950.0\n",
              "4         audi  17450.0"
            ]
          },
          "metadata": {
            "tags": []
          },
          "execution_count": 4
        }
      ]
    },
    {
      "cell_type": "markdown",
      "metadata": {
        "id": "shmLE_VG9_UD",
        "colab_type": "text"
      },
      "source": [
        "Creemos una función que nos sirva para escoger dos marcas dadas dentro de la columna de make y que la guarde con el respectivo precio en una nueva variable. Sea esta función escoger2marcas:"
      ]
    },
    {
      "cell_type": "code",
      "metadata": {
        "id": "JE2I-mja993F",
        "colab_type": "code",
        "colab": {}
      },
      "source": [
        "def escoger2marcas(df,marca1,marca2):\n",
        "  locations = [bool(df.loc[i][0]==marca1)|bool(df.loc[i][0]==marca2) for i in range(len(df))]\n",
        "  marca1_marca2 = df.loc[:][locations]\n",
        "  \n",
        "  return marca1_marca2"
      ],
      "execution_count": 0,
      "outputs": []
    },
    {
      "cell_type": "markdown",
      "metadata": {
        "id": "gcP7pZQr-GJd",
        "colab_type": "text"
      },
      "source": [
        "Establezcamos dos pares de marcas cuyo valor medio difieran notablemente y cuyo valor medio sean aproximados con el fin de ver los resultados de un test ANOVA:\n",
        "\n",
        "* Medias diferentes honda vs volvo.\n",
        "* Medias similares volkswagen vs nissan."
      ]
    },
    {
      "cell_type": "code",
      "metadata": {
        "id": "o5h8Ywip-FWn",
        "colab_type": "code",
        "outputId": "567c5133-08cb-4850-c818-9222954b45d7",
        "colab": {
          "base_uri": "https://localhost:8080/",
          "height": 301
        }
      },
      "source": [
        "# Grupos de medias diferentes\n",
        "honda_volvo = escoger2marcas(df_test,\"honda\",\"volvo\")\n",
        "sns.boxplot(x=\"make\", y=\"price\", data=honda_volvo)"
      ],
      "execution_count": 0,
      "outputs": [
        {
          "output_type": "execute_result",
          "data": {
            "text/plain": [
              "<matplotlib.axes._subplots.AxesSubplot at 0x7f59b881e198>"
            ]
          },
          "metadata": {
            "tags": []
          },
          "execution_count": 6
        },
        {
          "output_type": "display_data",
          "data": {
            "image/png": "[encoded data removed]",
            "text/plain": [
              "<Figure size 432x288 with 1 Axes>"
            ]
          },
          "metadata": {
            "tags": []
          }
        }
      ]
    },
    {
      "cell_type": "markdown",
      "metadata": {
        "id": "N9j1uRfp-SR_",
        "colab_type": "text"
      },
      "source": [
        "Si comparamos dos grupos muy diferentes obtenemos un F-value elevado y un p-value pequeño.\n",
        "\n",
        "Apliquemos ANOVA con scipy.stats:\n",
        "\n",
        "NOTA: la función que verán a continuación de `get_group()` obtienen el subgrupo que se le pase al argumento dentro de una lista, es decir, `test2.get_group('reanault')` devuelve una lista del dataframe solo con la subcategoria `renault`.\n",
        "\n",
        "Agrupemos primero por fabricante el data frame:\n"
      ]
    },
    {
      "cell_type": "code",
      "metadata": {
        "id": "8NRpJXik-dA4",
        "colab_type": "code",
        "outputId": "223d3ddd-82b4-4161-98ba-29f1b7b2172d",
        "colab": {
          "base_uri": "https://localhost:8080/",
          "height": 485
        }
      },
      "source": [
        "df_test2 = df[['make', 'price']].groupby(['make'])\n",
        "print(df_test2.get_group('honda'))\n",
        "print(df_test2.get_group('volvo'))"
      ],
      "execution_count": 0,
      "outputs": [
        {
          "output_type": "stream",
          "text": [
            "     make    price\n",
            "29  honda   6479.0\n",
            "30  honda   6855.0\n",
            "31  honda   5399.0\n",
            "32  honda   6529.0\n",
            "33  honda   7129.0\n",
            "34  honda   7295.0\n",
            "35  honda   7295.0\n",
            "36  honda   7895.0\n",
            "37  honda   9095.0\n",
            "38  honda   8845.0\n",
            "39  honda  10295.0\n",
            "40  honda  12945.0\n",
            "41  honda  10345.0\n",
            "      make    price\n",
            "190  volvo  12940.0\n",
            "191  volvo  13415.0\n",
            "192  volvo  15985.0\n",
            "193  volvo  16515.0\n",
            "194  volvo  18420.0\n",
            "195  volvo  18950.0\n",
            "196  volvo  16845.0\n",
            "197  volvo  19045.0\n",
            "198  volvo  21485.0\n",
            "199  volvo  22470.0\n",
            "200  volvo  22625.0\n"
          ],
          "name": "stdout"
        }
      ]
    },
    {
      "cell_type": "markdown",
      "metadata": {
        "id": "vWUY3QBB-vvP",
        "colab_type": "text"
      },
      "source": [
        "Realicemos el test ANOVA mediante la librería de scipy y el módulo de stats:"
      ]
    },
    {
      "cell_type": "code",
      "metadata": {
        "id": "FB8W3yGo-osQ",
        "colab_type": "code",
        "outputId": "75fae836-5b12-42a9-c0e8-1479c27cc89a",
        "colab": {
          "base_uri": "https://localhost:8080/",
          "height": 35
        }
      },
      "source": [
        "from scipy import stats\n",
        "\n",
        "f_val, p_val = stats.f_oneway(df_test2.get_group('honda')['price'], df_test2.get_group('volvo')['price'])  \n",
        "   \n",
        "print( \"ANOVA results: F=\", f_val, \", P =\", p_val)   "
      ],
      "execution_count": 0,
      "outputs": [
        {
          "output_type": "stream",
          "text": [
            "ANOVA results: F= 79.51335772254384 , P = 9.307852725853743e-09\n"
          ],
          "name": "stdout"
        }
      ]
    },
    {
      "cell_type": "code",
      "metadata": {
        "id": "Hz3Tx8rC-5pT",
        "colab_type": "code",
        "outputId": "e147c165-bdec-4747-8381-c392174dc676",
        "colab": {
          "base_uri": "https://localhost:8080/",
          "height": 301
        }
      },
      "source": [
        "# Grupos de medias similares\n",
        "honda_volvo = escoger2marcas(df_test,\"volkswagen\",\"nissan\")\n",
        "sns.boxplot(x=\"make\", y=\"price\", data=honda_volvo)"
      ],
      "execution_count": 0,
      "outputs": [
        {
          "output_type": "execute_result",
          "data": {
            "text/plain": [
              "<matplotlib.axes._subplots.AxesSubplot at 0x7f59b5ffd630>"
            ]
          },
          "metadata": {
            "tags": []
          },
          "execution_count": 9
        },
        {
          "output_type": "display_data",
          "data": {
            "image/png": "[encoded data removed]",
            "text/plain": [
              "<Figure size 432x288 with 1 Axes>"
            ]
          },
          "metadata": {
            "tags": []
          }
        }
      ]
    },
    {
      "cell_type": "code",
      "metadata": {
        "id": "8Gk5xdqd_ATD",
        "colab_type": "code",
        "outputId": "36fbf136-7e4d-4356-f51e-00c8411c874c",
        "colab": {
          "base_uri": "https://localhost:8080/",
          "height": 35
        }
      },
      "source": [
        "f_val, p_val = stats.f_oneway(df_test2.get_group('volkswagen')['price'], df_test2.get_group('nissan')['price'])  \n",
        "   \n",
        "print( \"ANOVA results: F=\", f_val, \", P =\", p_val)  "
      ],
      "execution_count": 0,
      "outputs": [
        {
          "output_type": "stream",
          "text": [
            "ANOVA results: F= 0.058661339194129865 , P = 0.8103896431706177\n"
          ],
          "name": "stdout"
        }
      ]
    },
    {
      "cell_type": "markdown",
      "metadata": {
        "id": "i6gE3_Kn_C_A",
        "colab_type": "text"
      },
      "source": [
        "Vemos que con ANOVA tenemos una \"forma cuantitativa\" de corroborar la inspección visual que se realiza con los boxplots.\n",
        "\n",
        "Los resultados del test ANOVA para la comparación de este par de los grupos de marcas de carros es el siguiente:\n",
        "\n",
        "honda vs volvo: El test ANOVA arroja un F-value alto y un p-value pequeño, lo que implica que deberíamos rechazar la hipótesis nula de que las medias de los grupos son aproximadamente iguales. En este sentido ambos grupos son diferentes y guardarian correlación con el precio.\n",
        "volkswagen vs nissan: El test ANOVA arroja un F-value bajo y un p-value alto, lo que indica que debemos aceptar la hipótesis nula de que las medias son aproximadamente iguales y no guardarían correlación con el precio.\n",
        "\n",
        "**Recapitulando**:\n",
        "\n",
        "El test de análisis de varianzas (ANOVA - Analysis Of Variance) es un método estadístico usado para provar las diferencias entre dos o más grupos.\n",
        "\n",
        "ANOVA se usa para el análisis de diferencias generales, en lugar de específicas, entre medias.\n",
        "\n",
        "Mediante un test ANOVA, podemos averiguar si los resultados de un experimento o encuesta son significativos. En otras palabras, el test ANOVA nos permite rechazar o aceptar la hipótesis nula. Básicamente, lo que se hace es probar si existe una diferencia entre grupos. Algunos ejemplos en los que se puede aplicar este método son:\n",
        "\n",
        "Un grupo de pacientes psiquiátricos está probando tres terapias diferentes: asesoramiento, medicación y biorretroalimentación, en el que se desea ver si una terapia es mejor que las otras.\n",
        "\n",
        "Un fabricante que tiene dos procesos diferentes para hacer bombillas y quieren saber si un proceso es mejor que el otro.\n",
        "\n",
        "Los estudiantes de diferentes universidades realizan el mismo examen y se desea ver si una universidad supera a la otra."
      ]
    },
    {
      "cell_type": "markdown",
      "metadata": {
        "id": "deqjsWP1_pG2",
        "colab_type": "text"
      },
      "source": [
        "<p><a name=\"oneway\"></a></p>\n",
        "\n",
        "## 1.1. One-way ANOVA: Incluyendo varios grupos.\n",
        "\n",
        "[[Contenidos]](#contents)\n",
        "\n",
        "Apliquemos ahora un test ANOVA sobre todos los grupos conformados por las diferentes marcas para ver su relación con el precio.\n",
        "\n",
        "Tengamos que ANOVA lo podemos aplicar de dos formas:\n",
        "\n",
        "1.   Mediante el módulo `stats` de `scipy`\n",
        "2.   Mediante el módulo `statmodels`, ajustando un modelo a los datos.\n",
        "\n",
        "Ambos métodos son similares pero cuentan con implementaciones de fondo, ligeramente diferentes , por lo que los resultados obtenidos de los valores F-value y p-value son, también, ligeramente diferentes.\n",
        "\n"
      ]
    },
    {
      "cell_type": "markdown",
      "metadata": {
        "id": "FO_QHbiEDLJF",
        "colab_type": "text"
      },
      "source": [
        "**ANOVA - mediante el módulo stats de scipy**:\n",
        "\n",
        "Procedamos a ver todas las marcas de carros de nuestro dataset:"
      ]
    },
    {
      "cell_type": "code",
      "metadata": {
        "id": "2mmhZwC9DTNX",
        "colab_type": "code",
        "outputId": "d600c246-0474-4e44-d6f2-dd2ed30b80aa",
        "colab": {
          "base_uri": "https://localhost:8080/",
          "height": 89
        }
      },
      "source": [
        "df[\"make\"].unique()"
      ],
      "execution_count": 0,
      "outputs": [
        {
          "output_type": "execute_result",
          "data": {
            "text/plain": [
              "array(['alfa-romero', 'audi', 'bmw', 'chevrolet', 'dodge', 'honda',\n",
              "       'isuzu', 'jaguar', 'mazda', 'mercedes-benz', 'mercury',\n",
              "       'mitsubishi', 'nissan', 'peugot', 'plymouth', 'porsche', 'renault',\n",
              "       'saab', 'subaru', 'toyota', 'volkswagen', 'volvo'], dtype=object)"
            ]
          },
          "metadata": {
            "tags": []
          },
          "execution_count": 11
        }
      ]
    },
    {
      "cell_type": "code",
      "metadata": {
        "id": "afIxVVF4DZ5x",
        "colab_type": "code",
        "outputId": "18771a28-dd14-41f3-e404-b356b9777238",
        "colab": {
          "base_uri": "https://localhost:8080/",
          "height": 35
        }
      },
      "source": [
        "from scipy import stats\n",
        "f_val, p_val = stats.f_oneway(df_test2.get_group('alfa-romero')['price'],df_test2.get_group('audi')['price'],df_test2.get_group('bmw')['price'],df_test2.get_group('chevrolet')['price'],df_test2.get_group('dodge')['price'],df_test2.get_group('honda')['price'],df_test2.get_group('jaguar')['price'],df_test2.get_group('mazda')['price'],df_test2.get_group('mercedes-benz')['price'],df_test2.get_group('mercury')['price'],df_test2.get_group('mitsubishi')['price'],df_test2.get_group('nissan')['price'],df_test2.get_group('peugot')['price'],df_test2.get_group('plymouth')['price'],df_test2.get_group('porsche')['price'],df_test2.get_group('renault')['price'],df_test2.get_group('saab')['price'],df_test2.get_group('subaru')['price'],df_test2.get_group('toyota')['price'],df_test2.get_group('volkswagen')['price'],df_test2.get_group('volvo')['price'])  \n",
        "   \n",
        "print(\"ANOVA results: F=\", f_val, \", P =\", p_val)   "
      ],
      "execution_count": 0,
      "outputs": [
        {
          "output_type": "stream",
          "text": [
            "ANOVA results: F= 34.6926644878663 , P = 8.007511322526291e-51\n"
          ],
          "name": "stdout"
        }
      ]
    },
    {
      "cell_type": "markdown",
      "metadata": {
        "id": "qP7vkxTfDAZy",
        "colab_type": "text"
      },
      "source": [
        "**ANOVA - mediante statsmodels:**"
      ]
    },
    {
      "cell_type": "code",
      "metadata": {
        "id": "a7qNzuWi_oLb",
        "colab_type": "code",
        "outputId": "162c2bb3-e0fa-473e-d0fa-22fb98784531",
        "colab": {
          "base_uri": "https://localhost:8080/",
          "height": 864
        }
      },
      "source": [
        "import statsmodels.api as sm\n",
        "from statsmodels.formula.api import ols\n",
        "\n",
        "results = ols('price ~ C(make)', data=df).fit()\n",
        "results.summary()"
      ],
      "execution_count": 0,
      "outputs": [
        {
          "output_type": "execute_result",
          "data": {
            "text/html": [
              "<table class=\"simpletable\">\n",
              "<caption>OLS Regression Results</caption>\n",
              "<tr>\n",
              "  <th>Dep. Variable:</th>          <td>price</td>      <th>  R-squared:         </th> <td>   0.796</td>\n",
              "</tr>\n",
              "<tr>\n",
              "  <th>Model:</th>                   <td>OLS</td>       <th>  Adj. R-squared:    </th> <td>   0.772</td>\n",
              "</tr>\n",
              "<tr>\n",
              "  <th>Method:</th>             <td>Least Squares</td>  <th>  F-statistic:       </th> <td>   33.23</td>\n",
              "</tr>\n",
              "<tr>\n",
              "  <th>Date:</th>             <td>Sat, 31 Aug 2019</td> <th>  Prob (F-statistic):</th> <td>1.07e-50</td>\n",
              "</tr>\n",
              "<tr>\n",
              "  <th>Time:</th>                 <td>13:27:51</td>     <th>  Log-Likelihood:    </th> <td> -1930.1</td>\n",
              "</tr>\n",
              "<tr>\n",
              "  <th>No. Observations:</th>      <td>   201</td>      <th>  AIC:               </th> <td>   3904.</td>\n",
              "</tr>\n",
              "<tr>\n",
              "  <th>Df Residuals:</th>          <td>   179</td>      <th>  BIC:               </th> <td>   3977.</td>\n",
              "</tr>\n",
              "<tr>\n",
              "  <th>Df Model:</th>              <td>    21</td>      <th>                     </th>     <td> </td>   \n",
              "</tr>\n",
              "<tr>\n",
              "  <th>Covariance Type:</th>      <td>nonrobust</td>    <th>                     </th>     <td> </td>   \n",
              "</tr>\n",
              "</table>\n",
              "<table class=\"simpletable\">\n",
              "<tr>\n",
              "              <td></td>                <th>coef</th>     <th>std err</th>      <th>t</th>      <th>P>|t|</th>  <th>[0.025</th>    <th>0.975]</th>  \n",
              "</tr>\n",
              "<tr>\n",
              "  <th>Intercept</th>                <td>  1.55e+04</td> <td> 2191.253</td> <td>    7.073</td> <td> 0.000</td> <td> 1.12e+04</td> <td> 1.98e+04</td>\n",
              "</tr>\n",
              "<tr>\n",
              "  <th>C(make)[T.audi]</th>          <td> 2360.8333</td> <td> 2683.726</td> <td>    0.880</td> <td> 0.380</td> <td>-2934.978</td> <td> 7656.645</td>\n",
              "</tr>\n",
              "<tr>\n",
              "  <th>C(make)[T.bmw]</th>           <td> 1.062e+04</td> <td> 2569.472</td> <td>    4.133</td> <td> 0.000</td> <td> 5550.063</td> <td> 1.57e+04</td>\n",
              "</tr>\n",
              "<tr>\n",
              "  <th>C(make)[T.chevrolet]</th>     <td>-9491.3333</td> <td> 3098.900</td> <td>   -3.063</td> <td> 0.003</td> <td>-1.56e+04</td> <td>-3376.257</td>\n",
              "</tr>\n",
              "<tr>\n",
              "  <th>C(make)[T.dodge]</th>         <td>-7622.8889</td> <td> 2530.241</td> <td>   -3.013</td> <td> 0.003</td> <td>-1.26e+04</td> <td>-2629.950</td>\n",
              "</tr>\n",
              "<tr>\n",
              "  <th>C(make)[T.honda]</th>         <td>-7313.6410</td> <td> 2430.977</td> <td>   -3.009</td> <td> 0.003</td> <td>-1.21e+04</td> <td>-2516.580</td>\n",
              "</tr>\n",
              "<tr>\n",
              "  <th>C(make)[T.isuzu]</th>         <td>-6581.8333</td> <td> 3464.676</td> <td>   -1.900</td> <td> 0.059</td> <td>-1.34e+04</td> <td>  255.030</td>\n",
              "</tr>\n",
              "<tr>\n",
              "  <th>C(make)[T.jaguar]</th>        <td>  1.91e+04</td> <td> 3098.900</td> <td>    6.164</td> <td> 0.000</td> <td>  1.3e+04</td> <td> 2.52e+04</td>\n",
              "</tr>\n",
              "<tr>\n",
              "  <th>C(make)[T.mazda]</th>         <td>-4845.4510</td> <td> 2376.748</td> <td>   -2.039</td> <td> 0.043</td> <td>-9535.500</td> <td> -155.402</td>\n",
              "</tr>\n",
              "<tr>\n",
              "  <th>C(make)[T.mercedes-benz]</th> <td> 1.815e+04</td> <td> 2569.472</td> <td>    7.063</td> <td> 0.000</td> <td> 1.31e+04</td> <td> 2.32e+04</td>\n",
              "</tr>\n",
              "<tr>\n",
              "  <th>C(make)[T.mercury]</th>       <td> 1004.6667</td> <td> 4382.507</td> <td>    0.229</td> <td> 0.819</td> <td>-7643.357</td> <td> 9652.691</td>\n",
              "</tr>\n",
              "<tr>\n",
              "  <th>C(make)[T.mitsubishi]</th>    <td>-6258.5641</td> <td> 2430.977</td> <td>   -2.575</td> <td> 0.011</td> <td>-1.11e+04</td> <td>-1461.504</td>\n",
              "</tr>\n",
              "<tr>\n",
              "  <th>C(make)[T.nissan]</th>        <td>-5082.6667</td> <td> 2366.824</td> <td>   -2.147</td> <td> 0.033</td> <td>-9753.133</td> <td> -412.200</td>\n",
              "</tr>\n",
              "<tr>\n",
              "  <th>C(make)[T.peugot]</th>        <td>   -9.2424</td> <td> 2472.067</td> <td>   -0.004</td> <td> 0.997</td> <td>-4887.386</td> <td> 4868.901</td>\n",
              "</tr>\n",
              "<tr>\n",
              "  <th>C(make)[T.plymouth]</th>      <td>-7534.9048</td> <td> 2619.049</td> <td>   -2.877</td> <td> 0.005</td> <td>-1.27e+04</td> <td>-2366.722</td>\n",
              "</tr>\n",
              "<tr>\n",
              "  <th>C(make)[T.porsche]</th>       <td>  1.59e+04</td> <td> 2898.756</td> <td>    5.486</td> <td> 0.000</td> <td> 1.02e+04</td> <td> 2.16e+04</td>\n",
              "</tr>\n",
              "<tr>\n",
              "  <th>C(make)[T.renault]</th>       <td>-5903.3333</td> <td> 3464.676</td> <td>   -1.704</td> <td> 0.090</td> <td>-1.27e+04</td> <td>  933.530</td>\n",
              "</tr>\n",
              "<tr>\n",
              "  <th>C(make)[T.saab]</th>          <td> -275.0000</td> <td> 2683.726</td> <td>   -0.102</td> <td> 0.918</td> <td>-5570.811</td> <td> 5020.811</td>\n",
              "</tr>\n",
              "<tr>\n",
              "  <th>C(make)[T.subaru]</th>        <td>-6957.0833</td> <td> 2449.896</td> <td>   -2.840</td> <td> 0.005</td> <td>-1.18e+04</td> <td>-2122.691</td>\n",
              "</tr>\n",
              "<tr>\n",
              "  <th>C(make)[T.toyota]</th>        <td>-5612.5208</td> <td> 2291.668</td> <td>   -2.449</td> <td> 0.015</td> <td>-1.01e+04</td> <td>-1090.361</td>\n",
              "</tr>\n",
              "<tr>\n",
              "  <th>C(make)[T.volkswagen]</th>    <td>-5420.8333</td> <td> 2449.896</td> <td>   -2.213</td> <td> 0.028</td> <td>-1.03e+04</td> <td> -586.441</td>\n",
              "</tr>\n",
              "<tr>\n",
              "  <th>C(make)[T.volvo]</th>         <td> 2564.8485</td> <td> 2472.067</td> <td>    1.038</td> <td> 0.301</td> <td>-2313.295</td> <td> 7442.992</td>\n",
              "</tr>\n",
              "</table>\n",
              "<table class=\"simpletable\">\n",
              "<tr>\n",
              "  <th>Omnibus:</th>       <td>30.411</td> <th>  Durbin-Watson:     </th> <td>   1.054</td>\n",
              "</tr>\n",
              "<tr>\n",
              "  <th>Prob(Omnibus):</th> <td> 0.000</td> <th>  Jarque-Bera (JB):  </th> <td>  54.610</td>\n",
              "</tr>\n",
              "<tr>\n",
              "  <th>Skew:</th>          <td> 0.777</td> <th>  Prob(JB):          </th> <td>1.39e-12</td>\n",
              "</tr>\n",
              "<tr>\n",
              "  <th>Kurtosis:</th>      <td> 5.027</td> <th>  Cond. No.          </th> <td>    40.3</td>\n",
              "</tr>\n",
              "</table><br/><br/>Warnings:<br/>[1] Standard Errors assume that the covariance matrix of the errors is correctly specified."
            ],
            "text/plain": [
              "<class 'statsmodels.iolib.summary.Summary'>\n",
              "\"\"\"\n",
              "                            OLS Regression Results                            \n",
              "==============================================================================\n",
              "Dep. Variable:                  price   R-squared:                       0.796\n",
              "Model:                            OLS   Adj. R-squared:                  0.772\n",
              "Method:                 Least Squares   F-statistic:                     33.23\n",
              "Date:                Sat, 31 Aug 2019   Prob (F-statistic):           1.07e-50\n",
              "Time:                        13:27:51   Log-Likelihood:                -1930.1\n",
              "No. Observations:                 201   AIC:                             3904.\n",
              "Df Residuals:                     179   BIC:                             3977.\n",
              "Df Model:                          21                                         \n",
              "Covariance Type:            nonrobust                                         \n",
              "============================================================================================\n",
              "                               coef    std err          t      P>|t|      [0.025      0.975]\n",
              "--------------------------------------------------------------------------------------------\n",
              "Intercept                  1.55e+04   2191.253      7.073      0.000    1.12e+04    1.98e+04\n",
              "C(make)[T.audi]           2360.8333   2683.726      0.880      0.380   -2934.978    7656.645\n",
              "C(make)[T.bmw]            1.062e+04   2569.472      4.133      0.000    5550.063    1.57e+04\n",
              "C(make)[T.chevrolet]     -9491.3333   3098.900     -3.063      0.003   -1.56e+04   -3376.257\n",
              "C(make)[T.dodge]         -7622.8889   2530.241     -3.013      0.003   -1.26e+04   -2629.950\n",
              "C(make)[T.honda]         -7313.6410   2430.977     -3.009      0.003   -1.21e+04   -2516.580\n",
              "C(make)[T.isuzu]         -6581.8333   3464.676     -1.900      0.059   -1.34e+04     255.030\n",
              "C(make)[T.jaguar]          1.91e+04   3098.900      6.164      0.000     1.3e+04    2.52e+04\n",
              "C(make)[T.mazda]         -4845.4510   2376.748     -2.039      0.043   -9535.500    -155.402\n",
              "C(make)[T.mercedes-benz]  1.815e+04   2569.472      7.063      0.000    1.31e+04    2.32e+04\n",
              "C(make)[T.mercury]        1004.6667   4382.507      0.229      0.819   -7643.357    9652.691\n",
              "C(make)[T.mitsubishi]    -6258.5641   2430.977     -2.575      0.011   -1.11e+04   -1461.504\n",
              "C(make)[T.nissan]        -5082.6667   2366.824     -2.147      0.033   -9753.133    -412.200\n",
              "C(make)[T.peugot]           -9.2424   2472.067     -0.004      0.997   -4887.386    4868.901\n",
              "C(make)[T.plymouth]      -7534.9048   2619.049     -2.877      0.005   -1.27e+04   -2366.722\n",
              "C(make)[T.porsche]         1.59e+04   2898.756      5.486      0.000    1.02e+04    2.16e+04\n",
              "C(make)[T.renault]       -5903.3333   3464.676     -1.704      0.090   -1.27e+04     933.530\n",
              "C(make)[T.saab]           -275.0000   2683.726     -0.102      0.918   -5570.811    5020.811\n",
              "C(make)[T.subaru]        -6957.0833   2449.896     -2.840      0.005   -1.18e+04   -2122.691\n",
              "C(make)[T.toyota]        -5612.5208   2291.668     -2.449      0.015   -1.01e+04   -1090.361\n",
              "C(make)[T.volkswagen]    -5420.8333   2449.896     -2.213      0.028   -1.03e+04    -586.441\n",
              "C(make)[T.volvo]          2564.8485   2472.067      1.038      0.301   -2313.295    7442.992\n",
              "==============================================================================\n",
              "Omnibus:                       30.411   Durbin-Watson:                   1.054\n",
              "Prob(Omnibus):                  0.000   Jarque-Bera (JB):               54.610\n",
              "Skew:                           0.777   Prob(JB):                     1.39e-12\n",
              "Kurtosis:                       5.027   Cond. No.                         40.3\n",
              "==============================================================================\n",
              "\n",
              "Warnings:\n",
              "[1] Standard Errors assume that the covariance matrix of the errors is correctly specified.\n",
              "\"\"\""
            ]
          },
          "metadata": {
            "tags": []
          },
          "execution_count": 14
        }
      ]
    },
    {
      "cell_type": "code",
      "metadata": {
        "id": "yvpiHiIUD2vw",
        "colab_type": "code",
        "outputId": "a61c9ef8-0ec0-4240-a11a-7dfa9d8b04a0",
        "colab": {
          "base_uri": "https://localhost:8080/",
          "height": 111
        }
      },
      "source": [
        "aov_table = sm.stats.anova_lm(results, typ=2)\n",
        "aov_table"
      ],
      "execution_count": 0,
      "outputs": [
        {
          "output_type": "execute_result",
          "data": {
            "text/html": [
              "<div>\n",
              "<style scoped>\n",
              "    .dataframe tbody tr th:only-of-type {\n",
              "        vertical-align: middle;\n",
              "    }\n",
              "\n",
              "    .dataframe tbody tr th {\n",
              "        vertical-align: top;\n",
              "    }\n",
              "\n",
              "    .dataframe thead th {\n",
              "        text-align: right;\n",
              "    }\n",
              "</style>\n",
              "<table border=\"1\" class=\"dataframe\">\n",
              "  <thead>\n",
              "    <tr style=\"text-align: right;\">\n",
              "      <th></th>\n",
              "      <th>sum_sq</th>\n",
              "      <th>df</th>\n",
              "      <th>F</th>\n",
              "      <th>PR(&gt;F)</th>\n",
              "    </tr>\n",
              "  </thead>\n",
              "  <tbody>\n",
              "    <tr>\n",
              "      <th>C(make)</th>\n",
              "      <td>1.005272e+10</td>\n",
              "      <td>21.0</td>\n",
              "      <td>33.232103</td>\n",
              "      <td>1.068343e-50</td>\n",
              "    </tr>\n",
              "    <tr>\n",
              "      <th>Residual</th>\n",
              "      <td>2.578454e+09</td>\n",
              "      <td>179.0</td>\n",
              "      <td>NaN</td>\n",
              "      <td>NaN</td>\n",
              "    </tr>\n",
              "  </tbody>\n",
              "</table>\n",
              "</div>"
            ],
            "text/plain": [
              "                sum_sq     df          F        PR(>F)\n",
              "C(make)   1.005272e+10   21.0  33.232103  1.068343e-50\n",
              "Residual  2.578454e+09  179.0        NaN           NaN"
            ]
          },
          "metadata": {
            "tags": []
          },
          "execution_count": 15
        }
      ]
    },
    {
      "cell_type": "markdown",
      "metadata": {
        "id": "rYrpEdWBD9LA",
        "colab_type": "text"
      },
      "source": [
        "De los resultados del test ANOVA para todas las las marcas, podemos concluir que puede ser un buen predictor del precio, no obstante, no podemos concluir cuales marcas no aportan diferencias en relación al precio.\n",
        "\n",
        "Para hallar los grupos que contribuyen más a diferenciar los precios y cuales menos, debemos hacer un test post-hoc."
      ]
    },
    {
      "cell_type": "markdown",
      "metadata": {
        "id": "7TLlqCNIEDxS",
        "colab_type": "text"
      },
      "source": [
        "**Test Post-hoc:**\n",
        "\n",
        "No entraremos en detalle sobre la parte teórica de un test post-hoc, sino que nos centraremos los resultados que arroja la prueba.\n",
        "\n",
        "Hay algunas técnicas diferentes que se pueden utilizar para establecer que grupos contribuyen o no a diferenciar el precio. Cada una de estas técnicas tiene diferentes formas de controlar el [tasa de error por familia](https://support.minitab.com/es-mx/minitab/18/help-and-how-to/modeling-statistics/anova/supporting-topics/multiple-comparisons/what-are-individual-and-family-error-rates/). Los métodos principales que pueden encontrarse en python son:\n",
        "\n",
        "* Fisher’s Least Significant Difference (LSD).\n",
        "* Bonferroni correction.\n",
        "* Tukey’s HSD.\n",
        "\n",
        "Usemos el último de estos para hacer un test post-hoc."
      ]
    },
    {
      "cell_type": "code",
      "metadata": {
        "id": "MwnaiAEdER_7",
        "colab_type": "code",
        "outputId": "1e01e46c-38ab-4cec-d9ee-a174d7eed802",
        "colab": {
          "base_uri": "https://localhost:8080/",
          "height": 1000
        }
      },
      "source": [
        "#Implementemos el método de Turkey's:\n",
        "from statsmodels.stats.multicomp import pairwise_tukeyhsd\n",
        "from statsmodels.stats.multicomp import MultiComparison\n",
        "\n",
        "mc = MultiComparison(df['price'], df['make'])\n",
        "mc_results = mc.tukeyhsd()\n",
        "print(mc_results)"
      ],
      "execution_count": 0,
      "outputs": [
        {
          "output_type": "stream",
          "text": [
            "             Multiple Comparison of Means - Tukey HSD, FWER=0.05             \n",
            "=============================================================================\n",
            "    group1        group2      meandiff  p-adj     lower       upper    reject\n",
            "-----------------------------------------------------------------------------\n",
            "  alfa-romero          audi   2360.8333    0.9  -7432.6038  12154.2704  False\n",
            "  alfa-romero           bmw  10620.4167 0.0097   1243.9145  19996.9188   True\n",
            "  alfa-romero     chevrolet  -9491.3333 0.2401 -20799.8204   1817.1538  False\n",
            "  alfa-romero         dodge  -7622.8889 0.2683 -16856.2299   1610.4522  False\n",
            "  alfa-romero         honda   -7313.641 0.2707 -16184.7482   1557.4661  False\n",
            "  alfa-romero         isuzu  -6581.8333    0.9 -19225.1063   6061.4396  False\n",
            "  alfa-romero        jaguar  19101.6667  0.001   7793.1796  30410.1538   True\n",
            "  alfa-romero         mazda   -4845.451    0.9 -13518.6647   3827.7627  False\n",
            "  alfa-romero mercedes-benz  18148.6667  0.001   8772.1645  27525.1688   True\n",
            "  alfa-romero       mercury   1004.6667    0.9 -14987.9491  16997.2825  False\n",
            "  alfa-romero    mitsubishi  -6258.5641 0.5636 -15129.6712    2612.543  False\n",
            "  alfa-romero        nissan  -5082.6667 0.8394 -13719.6663    3554.333  False\n",
            "  alfa-romero        peugot     -9.2424    0.9  -9030.2944   9011.8095  False\n",
            "  alfa-romero      plymouth  -7534.9048 0.3542 -17092.3207   2022.5112  False\n",
            "  alfa-romero       porsche  15902.1667  0.001   5324.0456  26480.2877   True\n",
            "  alfa-romero       renault  -5903.3333    0.9 -18546.6063   6739.9396  False\n",
            "  alfa-romero          saab      -275.0    0.9 -10068.4371   9518.4371  False\n",
            "  alfa-romero        subaru  -6957.0833 0.3813 -15897.2274   1983.0607  False\n",
            "  alfa-romero        toyota  -5612.5208 0.6446 -13975.2598   2750.2181  False\n",
            "  alfa-romero    volkswagen  -5420.8333 0.7973 -14360.9774   3519.3107  False\n",
            "  alfa-romero         volvo   2564.8485    0.9  -6456.2035  11585.9004  False\n",
            "         audi           bmw   8259.5833 0.0141    779.7222  15739.4445   True\n",
            "         audi     chevrolet -11852.1667 0.0033 -21645.6038  -2058.7296   True\n",
            "         audi         dodge  -9983.7222  0.001 -17283.3192  -2684.1252   True\n",
            "         audi         honda  -9674.4744  0.001 -16510.1215  -2838.8272   True\n",
            "         audi         isuzu  -8942.6667  0.348 -20251.1538   2365.8204  False\n",
            "         audi        jaguar  16740.8333  0.001   6947.3962  26534.2704   True\n",
            "         audi         mazda  -7206.2843 0.0158 -13783.0742   -629.4944   True\n",
            "         audi mercedes-benz  15787.8333  0.001   8307.9722  23267.6945   True\n",
            "         audi       mercury  -1356.1667    0.9 -16315.8889  13603.5556  False\n",
            "         audi    mitsubishi  -8619.3974 0.0016 -15455.0446  -1783.7503   True\n",
            "         audi        nissan     -7443.5 0.0088 -13972.4581   -914.5419   True\n",
            "         audi        peugot  -2370.0758    0.9  -9399.2228   4659.0713  False\n",
            "         audi      plymouth  -9895.7381 0.0011 -17601.1732   -2190.303   True\n",
            "         audi       porsche  13541.3333  0.001   4601.1893  22481.4774   True\n",
            "         audi       renault  -8264.1667  0.504 -19572.6538   3044.3204  False\n",
            "         audi          saab  -2635.8333    0.9 -10632.1412   5360.4746  False\n",
            "         audi        subaru  -9317.9167  0.001 -16242.9224  -2392.9109   True\n",
            "         audi        toyota  -7973.3542  0.001 -14134.9232  -1811.7851   True\n",
            "         audi    volkswagen  -7781.6667 0.0109 -14706.6724   -856.6609   True\n",
            "         audi         volvo    204.0152    0.9  -6825.1319   7233.1622  False\n",
            "          bmw     chevrolet   -20111.75  0.001 -29488.2522 -10735.2478   True\n",
            "          bmw         dodge -18243.3056  0.001 -24973.2015 -11513.4096   True\n",
            "          bmw         honda -17934.0577  0.001 -24157.6783  -11710.437   True\n",
            "          bmw         isuzu   -17202.25  0.001 -28151.6455  -6252.8545   True\n",
            "          bmw        jaguar     8481.25 0.1346   -895.2522  17857.7522  False\n",
            "          bmw         mazda -15465.8676  0.001 -21404.0111  -9527.7242   True\n",
            "          bmw mercedes-benz     7528.25 0.0176    603.2442  14453.2558   True\n",
            "          bmw       mercury    -9615.75 0.6836 -24305.9056   5074.4056  False\n",
            "          bmw    mitsubishi -16878.9808  0.001 -23102.6014 -10655.3601   True\n",
            "          bmw        nissan -15703.0833  0.001 -21588.2066  -9817.9601   True\n",
            "          bmw        peugot -10629.6591  0.001 -17065.2081  -4194.1101   True\n",
            "          bmw      plymouth -18155.3214  0.001 -25323.3834 -10987.2594   True\n",
            "          bmw       porsche     5281.75 0.7586  -3199.6153  13763.1153  False\n",
            "          bmw       renault   -16523.75  0.001 -27473.1455  -5574.3545   True\n",
            "          bmw          saab -10895.4167  0.001 -18375.2778  -3415.5555   True\n",
            "          bmw        subaru    -17577.5  0.001 -23899.1365 -11255.8635   True\n",
            "          bmw        toyota -16232.9375  0.001 -21707.6353 -10758.2397   True\n",
            "          bmw    volkswagen   -16041.25  0.001 -22362.8865  -9719.6135   True\n",
            "          bmw         volvo  -8055.5682 0.0018 -14491.1172  -1620.0192   True\n",
            "    chevrolet         dodge   1868.4444    0.9  -7364.8966  11101.7855  False\n",
            "    chevrolet         honda   2177.6923    0.9  -6693.4148  11048.7994  False\n",
            "    chevrolet         isuzu      2909.5    0.9  -9733.7729  15552.7729  False\n",
            "    chevrolet        jaguar     28593.0  0.001  17284.5129  39901.4871   True\n",
            "    chevrolet         mazda   4645.8824    0.9  -4027.3313   13319.096  False\n",
            "    chevrolet mercedes-benz     27640.0  0.001  18263.4978  37016.5022   True\n",
            "    chevrolet       mercury     10496.0 0.6796  -5496.6158  26488.6158  False\n",
            "    chevrolet    mitsubishi   3232.7692    0.9  -5638.3379  12103.8764  False\n",
            "    chevrolet        nissan   4408.6667    0.9   -4228.333  13045.6663  False\n",
            "    chevrolet        peugot   9482.0909 0.0275     461.039  18503.1429   True\n",
            "    chevrolet      plymouth   1956.4286    0.9  -7600.9874  11513.8445  False\n",
            "    chevrolet       porsche     25393.5  0.001  14815.3789  35971.6211   True\n",
            "    chevrolet       renault      3588.0    0.9  -9055.2729  16231.2729  False\n",
            "    chevrolet          saab   9216.3333  0.094   -577.1038  19009.7704  False\n",
            "    chevrolet        subaru     2534.25    0.9   -6405.894   11474.394  False\n",
            "    chevrolet        toyota   3878.8125    0.9  -4483.9265  12241.5515  False\n",
            "    chevrolet    volkswagen      4070.5    0.9   -4869.644   13010.644  False\n",
            "    chevrolet         volvo  12056.1818  0.001   3035.1299  21077.2338   True\n",
            "        dodge         honda    309.2479    0.9  -5696.5201   6315.0158  False\n",
            "        dodge         isuzu   1041.0556    0.9  -9785.9965  11868.1076  False\n",
            "        dodge        jaguar  26724.5556  0.001  17491.2145  35957.8966   True\n",
            "        dodge         mazda   2777.4379    0.9  -2931.9703   8486.8461  False\n",
            "        dodge mercedes-benz  25771.5556  0.001  19041.6596  32501.4515   True\n",
            "        dodge       mercury   8627.5556 0.8335  -5971.6385  23226.7496  False\n",
            "        dodge    mitsubishi   1364.3248    0.9  -4641.4431   7370.0927  False\n",
            "        dodge        nissan   2540.2222    0.9  -3114.0213   8194.4658  False\n",
            "        dodge        peugot   7613.6465 0.0027   1388.5292  13838.7637   True\n",
            "        dodge      plymouth     87.9841    0.9  -6891.7656   7067.7339  False\n",
            "        dodge       porsche  23525.0556  0.001  15202.2344  31847.8767   True\n",
            "        dodge       renault   1719.5556    0.9  -9107.4965  12546.6076  False\n",
            "        dodge          saab   7347.8889 0.0465     48.2919  14647.4859   True\n",
            "        dodge        subaru    665.8056    0.9  -5441.4755   6773.0866  False\n",
            "        dodge        toyota   2010.3681    0.9  -3215.3481   7236.0843  False\n",
            "        dodge    volkswagen   2202.0556    0.9  -3905.2255   8309.3366  False\n",
            "        dodge         volvo  10187.7374  0.001   3962.6201  16412.8546   True\n",
            "        honda         isuzu    731.8077    0.9  -9788.0313  11251.6466  False\n",
            "        honda        jaguar  26415.3077  0.001  17544.2006  35286.4148   True\n",
            "        honda         mazda     2468.19    0.9  -2634.6814   7571.0615  False\n",
            "        honda mercedes-benz  25462.3077  0.001   19238.687  31685.9283   True\n",
            "        honda       mercury   8318.3077 0.8623  -6054.5286  22691.1439  False\n",
            "        honda    mitsubishi   1055.0769    0.9  -4377.3446   6487.4984  False\n",
            "        honda        nissan   2230.9744    0.9  -2810.0994   7272.0481  False\n",
            "        honda        peugot   7304.3986 0.0011   1630.4194  12978.3778   True\n",
            "        honda      plymouth   -221.2637    0.9  -6714.2493   6271.7218  False\n",
            "        honda       porsche  23215.8077  0.001  15296.7606  31134.8548   True\n",
            "        honda       renault   1410.3077    0.9  -9109.5313  11930.1466  False\n",
            "        honda          saab    7038.641 0.0356    202.9939  13874.2881   True\n",
            "        honda        subaru    356.5577    0.9  -5187.8843   5900.9996  False\n",
            "        honda        toyota   1701.1202    0.9  -2854.1037   6256.3441  False\n",
            "        honda    volkswagen   1892.8077    0.9  -3651.6343   7437.2496  False\n",
            "        honda         volvo   9878.4895  0.001   4204.5103  15552.4687   True\n",
            "        isuzu        jaguar     25683.5  0.001  13040.2271  38326.7729   True\n",
            "        isuzu         mazda   1736.3824    0.9  -8617.1246  12089.8893  False\n",
            "        isuzu mercedes-benz     24730.5  0.001  13781.1045  35679.8955   True\n",
            "        isuzu       mercury      7586.5    0.9  -9376.2306  24549.2306  False\n",
            "        isuzu    mitsubishi    323.2692    0.9 -10196.5697  10843.1082  False\n",
            "        isuzu        nissan   1499.1667    0.9  -8824.0224  11822.3558  False\n",
            "        isuzu        peugot   6572.5909 0.7714  -4073.9977  17219.1795  False\n",
            "        isuzu      plymouth   -953.0714    0.9 -12057.7853  10151.6424  False\n",
            "        isuzu       porsche     22484.0  0.001  10489.5381  34478.4619   True\n",
            "        isuzu       renault       678.5    0.9 -13171.5116  14528.5116  False\n",
            "        isuzu          saab   6306.8333    0.9  -5001.6538  17615.3204  False\n",
            "        isuzu        subaru     -375.25    0.9 -10953.3711  10202.8711  False\n",
            "        isuzu        toyota    969.3125    0.9  -9125.5314  11064.1564  False\n",
            "        isuzu    volkswagen      1161.0    0.9  -9417.1211  11739.1211  False\n",
            "        isuzu         volvo   9146.6818 0.2038  -1499.9068  19793.2704  False\n",
            "       jaguar         mazda -23947.1176  0.001 -32620.3313  -15273.904   True\n",
            "       jaguar mercedes-benz      -953.0    0.9 -10329.5022   8423.5022  False\n",
            "       jaguar       mercury    -18097.0 0.0099 -34089.6158  -2104.3842   True\n",
            "       jaguar    mitsubishi -25360.2308  0.001 -34231.3379 -16489.1236   True\n",
            "       jaguar        nissan -24184.3333  0.001  -32821.333 -15547.3337   True\n",
            "       jaguar        peugot -19110.9091  0.001  -28131.961 -10089.8571   True\n",
            "       jaguar      plymouth -26636.5714  0.001 -36193.9874 -17079.1555   True\n",
            "       jaguar       porsche     -3199.5    0.9 -13777.6211   7378.6211  False\n",
            "       jaguar       renault    -25005.0  0.001 -37648.2729 -12361.7271   True\n",
            "       jaguar          saab -19376.6667  0.001 -29170.1038  -9583.2296   True\n",
            "       jaguar        subaru   -26058.75  0.001  -34998.894  -17118.606   True\n",
            "       jaguar        toyota -24714.1875  0.001 -33076.9265 -16351.4485   True\n",
            "       jaguar    volkswagen    -24522.5  0.001  -33462.644  -15582.356   True\n",
            "       jaguar         volvo -16536.8182  0.001 -25557.8701  -7515.7662   True\n",
            "        mazda mercedes-benz  22994.1176  0.001  17055.9742  28932.2611   True\n",
            "        mazda       mercury   5850.1176    0.9  -8401.4267   20101.662  False\n",
            "        mazda    mitsubishi  -1413.1131    0.9  -6515.9846   3689.7583  False\n",
            "        mazda        nissan   -237.2157    0.9  -4921.2864    4446.855  False\n",
            "        mazda        peugot   4836.2086 0.1374   -523.0949   10195.512  False\n",
            "        mazda      plymouth  -2689.4538    0.9  -8909.3377   3530.4301  False\n",
            "        mazda       porsche  20747.6176  0.001   13050.904  28444.3313   True\n",
            "        mazda       renault  -1057.8824    0.9 -11411.3893   9295.6246  False\n",
            "        mazda          saab    4570.451 0.5885  -2006.3389  11147.2409  False\n",
            "        mazda        subaru  -2111.6324    0.9  -7333.5985   3110.3338  False\n",
            "        mazda        toyota   -767.0699    0.9  -4923.7703   3389.6306  False\n",
            "        mazda    volkswagen   -575.3824    0.9  -5797.3485   4646.5838  False\n",
            "        mazda         volvo   7410.2995  0.001    2050.996  12769.6029   True\n",
            "mercedes-benz       mercury    -17144.0 0.0061 -31834.1556  -2453.8444   True\n",
            "mercedes-benz    mitsubishi -24407.2308  0.001 -30630.8514 -18183.6101   True\n",
            "mercedes-benz        nissan -23231.3333  0.001 -29116.4566 -17346.2101   True\n",
            "mercedes-benz        peugot -18157.9091  0.001 -24593.4581 -11722.3601   True\n",
            "mercedes-benz      plymouth -25683.5714  0.001 -32851.6334 -18515.5094   True\n",
            "mercedes-benz       porsche     -2246.5    0.9 -10727.8653   6234.8653  False\n",
            "mercedes-benz       renault    -24052.0  0.001 -35001.3955 -13102.6045   True\n",
            "mercedes-benz          saab -18423.6667  0.001 -25903.5278 -10943.8055   True\n",
            "mercedes-benz        subaru   -25105.75  0.001 -31427.3865 -18784.1135   True\n",
            "mercedes-benz        toyota -23761.1875  0.001 -29235.8853 -18286.4897   True\n",
            "mercedes-benz    volkswagen    -23569.5  0.001 -29891.1365 -17247.8635   True\n",
            "mercedes-benz         volvo -15583.8182  0.001 -22019.3672  -9148.2692   True\n",
            "      mercury    mitsubishi  -7263.2308    0.9  -21636.067   7109.6055  False\n",
            "      mercury        nissan  -6087.3333    0.9 -20316.8675   8142.2009  False\n",
            "      mercury        peugot  -1013.9091    0.9 -15479.7744  13451.9562  False\n",
            "      mercury      plymouth  -8539.5714  0.867 -23345.8566   6266.7137  False\n",
            "      mercury       porsche     14897.5 0.0763   -587.2837  30382.2837  False\n",
            "      mercury       renault     -6908.0    0.9 -23870.7306  10054.7306  False\n",
            "      mercury          saab  -1279.6667    0.9 -16239.3889  13680.0556  False\n",
            "      mercury        subaru    -7961.75    0.9 -22377.2991   6453.7991  False\n",
            "      mercury        toyota  -6617.1875    0.9 -20681.9407   7447.5657  False\n",
            "      mercury    volkswagen     -6425.5    0.9 -20841.0491   7990.0491  False\n",
            "      mercury         volvo   1560.1818    0.9 -12905.6835  16026.0471  False\n",
            "   mitsubishi        nissan   1175.8974    0.9  -3865.1763   6216.9712  False\n",
            "   mitsubishi        peugot   6249.3217 0.0147    575.3425  11923.3009   True\n",
            "   mitsubishi      plymouth  -1276.3407    0.9  -7769.3262   5216.6449  False\n",
            "   mitsubishi       porsche  22160.7308  0.001  14241.6837  30079.7778   True\n",
            "   mitsubishi       renault    355.2308    0.9 -10164.6082  10875.0697  False\n",
            "   mitsubishi          saab   5983.5641 0.1765    -852.083  12819.2112  False\n",
            "   mitsubishi        subaru   -698.5192    0.9  -6242.9612   4845.9227  False\n",
            "   mitsubishi        toyota    646.0433    0.9  -3909.1806   5201.2672  False\n",
            "   mitsubishi    volkswagen    837.7308    0.9  -4706.7112   6382.1727  False\n",
            "   mitsubishi         volvo   8823.4126  0.001   3149.4334  14497.3918   True\n",
            "       nissan        peugot   5073.4242 0.0804   -227.0721  10373.9206  False\n",
            "       nissan      plymouth  -2452.2381    0.9  -8621.5236   3717.0474  False\n",
            "       nissan       porsche  20984.8333  0.001  13328.9514  28640.7153   True\n",
            "       nissan       renault   -820.6667    0.9 -11143.8558   9502.5224  False\n",
            "       nissan          saab   4807.6667 0.4908  -1721.2914  11336.6247  False\n",
            "       nissan        subaru  -1874.4167    0.9  -7036.0112   3287.1779  False\n",
            "       nissan        toyota   -529.8542    0.9   -4610.453   3550.7446  False\n",
            "       nissan    volkswagen   -338.1667    0.9  -5499.7612   4823.4279  False\n",
            "       nissan         volvo   7647.5152  0.001   2347.0188  12948.0115   True\n",
            "       peugot      plymouth  -7525.6623 0.0109 -14222.0568   -829.2679   True\n",
            "       peugot       porsche  15911.4091  0.001   7824.7446  23998.0736   True\n",
            "       peugot       renault  -5894.0909    0.9 -16540.6795   4752.4977  False\n",
            "       peugot          saab   -265.7576    0.9  -7294.9046   6763.3895  False\n",
            "       peugot        subaru  -6947.8409 0.0037  -12729.162  -1166.5198   True\n",
            "       peugot        toyota  -5603.2784 0.0069 -10444.0326   -762.5242   True\n",
            "       peugot    volkswagen  -5411.5909 0.0991  -11192.912    369.7302  False\n",
            "       peugot         volvo   2574.0909    0.9  -3331.5739   8479.7557  False\n",
            "     plymouth       porsche  23437.0714  0.001  14756.1173  32118.0256   True\n",
            "     plymouth       renault   1631.5714    0.9  -9473.1424  12736.2853  False\n",
            "     plymouth          saab   7259.9048 0.0929   -445.5303  14965.3399  False\n",
            "     plymouth        subaru    577.8214    0.9   -6009.173   7164.8158  False\n",
            "     plymouth        toyota   1922.3839    0.9  -3856.6924   7701.4603  False\n",
            "     plymouth    volkswagen   2114.0714    0.9   -4472.923   8701.0658  False\n",
            "     plymouth         volvo  10099.7532  0.001   3403.3588  16796.1477   True\n",
            "      porsche       renault    -21805.5  0.001 -33799.9619  -9811.0381   True\n",
            "      porsche          saab -16177.1667  0.001 -25117.3107  -7237.0226   True\n",
            "      porsche        subaru   -22859.25  0.001 -30855.5579 -14862.9421   True\n",
            "      porsche        toyota -21514.6875  0.001 -28859.7653 -14169.6097   True\n",
            "      porsche    volkswagen    -21323.0  0.001 -29319.3079 -13326.6921   True\n",
            "      porsche         volvo -13337.3182  0.001 -21423.9827  -5250.6536   True\n",
            "      renault          saab   5628.3333    0.9  -5680.1538  16936.8204  False\n",
            "      renault        subaru    -1053.75    0.9 -11631.8711   9524.3711  False\n",
            "      renault        toyota    290.8125    0.9  -9804.0314  10385.6564  False\n",
            "      renault    volkswagen       482.5    0.9 -10095.6211  11060.6211  False\n",
            "      renault         volvo   8468.1818 0.3362  -2178.4068  19114.7704  False\n",
            "         saab        subaru  -6682.0833 0.0741 -13607.0891    242.9224  False\n",
            "         saab        toyota  -5337.5208 0.1914 -11499.0899    824.0482  False\n",
            "         saab    volkswagen  -5145.8333 0.4743 -12070.8391   1779.1724  False\n",
            "         saab         volvo   2839.8485    0.9  -4189.2986   9868.9955  False\n",
            "       subaru        toyota   1344.5625    0.9  -3343.6886   6032.8136  False\n",
            "       subaru    volkswagen     1536.25    0.9  -4117.9935   7190.4935  False\n",
            "       subaru         volvo   9521.9318  0.001   3740.6108  15303.2529   True\n",
            "       toyota    volkswagen    191.6875    0.9  -4496.5636   4879.9386  False\n",
            "       toyota         volvo   8177.3693  0.001   3336.6151  13018.1235   True\n",
            "   volkswagen         volvo   7985.6818  0.001   2204.3608  13767.0029   True\n",
            "-----------------------------------------------------------------------------\n"
          ],
          "name": "stdout"
        }
      ]
    },
    {
      "cell_type": "markdown",
      "metadata": {
        "id": "L1yMVGSzEY07",
        "colab_type": "text"
      },
      "source": [
        "El test post-hoc Turkey HDS contrala el error tipo I y mantienen el la tasa de error familiar en 0.05 (en la tabla se indica como FWER=0.05). Sobre la tabla anterior se tiene que: \n",
        "* Las columnas \"grupo1\" y grupo2 corresponden a los grupos que son comparados. \n",
        "* `meandiff` representa la diferencia en valores medios de los grupos calculados (group1-group2).\n",
        "* Las columnas `lower` y `upper` corresponden a los límites inferior y superior del intervalo de confianza del 95%.\n",
        "* En la columna `reject` se establece si debemos rechazar o no la hipotesis nula (medias iguales). "
      ]
    },
    {
      "cell_type": "markdown",
      "metadata": {
        "id": "QE8JRK9e5uT6",
        "colab_type": "text"
      },
      "source": [
        "<p><a name=\"ML\"></a></p>\n",
        "\n",
        "# 2. Modelos basados en datos y Machine Learning\n",
        "\n",
        "[Contenidos](#contents) "
      ]
    },
    {
      "cell_type": "markdown",
      "metadata": {
        "id": "QON9ti9x6anA",
        "colab_type": "text"
      },
      "source": [
        "<p><a name=\"modelML\"></a></p>\n",
        "\n",
        "## 2.1. Modelos que se pueden construir\n",
        "\n",
        "[Contenidos](#contents)\n"
      ]
    },
    {
      "cell_type": "markdown",
      "metadata": {
        "id": "uFOQl_5Qs_3e",
        "colab_type": "text"
      },
      "source": [
        "¿Qué es un modelo derivado de los datos?\n",
        "\n",
        "Caso ideal: Sabemos las distribuciones de las que vienen los datos. ⇒ podemos calcular analíticamente nuestro modelo.\n",
        "\n",
        "¿Podemos encontrar un modelo con 100% de acierto? ¿Por qué sí, o por qué no?\n",
        "\n"
      ]
    },
    {
      "cell_type": "code",
      "metadata": {
        "id": "_pGwvGxGo2Ix",
        "colab_type": "code",
        "outputId": "0af2b120-a942-4c36-df32-332f5b6fd274",
        "colab": {
          "base_uri": "https://localhost:8080/",
          "height": 283
        }
      },
      "source": [
        "from scipy import stats\n",
        "from scipy import optimize\n",
        "import numpy as np\n",
        "import matplotlib.pyplot as plt\n",
        "\n",
        "\n",
        "d1 = stats.norm(loc=10,scale=2)\n",
        "d2 = stats.norm(loc=17,scale=3)\n",
        "\n",
        "\n",
        "x = np.linspace(0,30,100)\n",
        "plt.plot(x, d1.pdf(x), color=\"red\", label=\"pop 1\")\n",
        "plt.plot(x, d2.pdf(x), color=\"blue\", label=\"pop 2\")\n",
        "plt.xlabel('Size')\n",
        "plt.ylabel('PDF')\n",
        "plt.grid()\n",
        "plt.legend();"
      ],
      "execution_count": 0,
      "outputs": [
        {
          "output_type": "display_data",
          "data": {
            "image/png": "[encoded data removed]",
            "text/plain": [
              "<Figure size 432x288 with 1 Axes>"
            ]
          },
          "metadata": {
            "tags": []
          }
        }
      ]
    },
    {
      "cell_type": "markdown",
      "metadata": {
        "id": "23tURt3KTU0-",
        "colab_type": "text"
      },
      "source": [
        "**Cálculo de la frontera óptima** (conocida también como _frontera bayesiana_)."
      ]
    },
    {
      "cell_type": "code",
      "metadata": {
        "id": "lsDaOt7otIrE",
        "colab_type": "code",
        "outputId": "fe6ed8ff-168e-498b-d8fb-c2c18c17915a",
        "colab": {
          "base_uri": "https://localhost:8080/",
          "height": 301
        }
      },
      "source": [
        "x = np.linspace(5,25,1000)\n",
        "minx = x[np.argmin(np.abs(d1.pdf(x)-d2.pdf(x)))]\n",
        "\n",
        "print (\"frontera óptima en %.2f\"%minx)\n",
        "\n",
        "x = np.linspace(0,30,100)\n",
        "plt.plot(x, d1.pdf(x), color=\"red\", label=\"pop 1\")\n",
        "plt.plot(x, d2.pdf(x), color=\"blue\", label=\"pop 2\")\n",
        "plt.axvline(minx, color=\"black\", label=u\"óptimo = %.2f\"%minx)\n",
        "plt.xlabel('Size')\n",
        "plt.ylabel('PDF')\n",
        "plt.grid()\n",
        "plt.legend();"
      ],
      "execution_count": 0,
      "outputs": [
        {
          "output_type": "stream",
          "text": [
            "frontera óptima en 13.15\n"
          ],
          "name": "stdout"
        },
        {
          "output_type": "display_data",
          "data": {
            "image/png": "[encoded data removed]",
            "text/plain": [
              "<Figure size 432x288 with 1 Axes>"
            ]
          },
          "metadata": {
            "tags": []
          }
        }
      ]
    },
    {
      "cell_type": "markdown",
      "metadata": {
        "id": "PDmE8KVMtXEB",
        "colab_type": "text"
      },
      "source": [
        "Cálculo analítico de los errores de clasificación"
      ]
    },
    {
      "cell_type": "code",
      "metadata": {
        "id": "i56j_xf5tWaH",
        "colab_type": "code",
        "outputId": "07a21005-0f84-4f7e-e0d7-342dbb1e9122",
        "colab": {
          "base_uri": "https://localhost:8080/",
          "height": 53
        }
      },
      "source": [
        "print (\"pop 1 error\", 1-d1.cdf(minx))\n",
        "print (\"pop 2 error\", d2.cdf(minx))"
      ],
      "execution_count": 0,
      "outputs": [
        {
          "output_type": "stream",
          "text": [
            "pop 1 error 0.05773516274534907\n",
            "pop 2 error 0.09957961739117976\n"
          ],
          "name": "stdout"
        }
      ]
    },
    {
      "cell_type": "markdown",
      "metadata": {
        "id": "fFrU-pa5SIkY",
        "colab_type": "text"
      },
      "source": [
        "### Caso 1D"
      ]
    },
    {
      "cell_type": "markdown",
      "metadata": {
        "id": "34WQy9SBtzCB",
        "colab_type": "text"
      },
      "source": [
        "**Caso real**: Tenemos una muestra de los datos \n",
        "\n",
        "$\\rightarrow$ ¿Cómo determinamos donde poner la frontera?\n",
        "\n",
        "$\\rightarrow$ ¿Qué frontera qusiéramos obtener?"
      ]
    },
    {
      "cell_type": "code",
      "metadata": {
        "colab_type": "code",
        "id": "J1g4z-Hmt6Zc",
        "colab": {}
      },
      "source": [
        "# Función para construir y graficar datasets con dos grupos, rojos y azules, en una dimensión\n",
        "def show_1D_dataset_samples(n, n_datasets=10, dot_alpha=.5, line_alpha=.5, figsize=(20,5)):\n",
        "    from sklearn.tree import DecisionTreeClassifier\n",
        "    plt.figure(figsize=figsize)\n",
        "    for i in range(n_datasets):\n",
        "\n",
        "        m1 = d1.rvs(n)\n",
        "        m2 = d2.rvs(n)\n",
        "        X = np.append(m1, m2).reshape(-1,1)\n",
        "        y = np.r_[[0]*len(m1)+[1]*len(m2)]\n",
        "        estimator = DecisionTreeClassifier(max_depth=1)\n",
        "        estimator.fit(X,y)\n",
        "        Xr = np.linspace(5, 30, 100).reshape(-1,1)\n",
        "        yr = estimator.predict(Xr)\n",
        "        plt.plot(Xr[yr==0], [i]*np.sum(yr==0), color=\"red\", alpha=line_alpha, lw=4)\n",
        "        plt.plot(Xr[yr==1], [i]*np.sum(yr==1), color=\"blue\", alpha=line_alpha, lw=4)\n",
        "        plt.scatter(m1, [i+.1]*len(m1), color=\"red\", alpha=dot_alpha, s=100)\n",
        "        plt.scatter(m2, [i+.1]*len(m2), color=\"blue\", alpha=dot_alpha, s=100)\n",
        "    plt.axis(\"off\")"
      ],
      "execution_count": 0,
      "outputs": []
    },
    {
      "cell_type": "code",
      "metadata": {
        "id": "knqaRgu0t7ZJ",
        "colab_type": "code",
        "outputId": "d7f54d3b-c5f8-4f14-90a5-968b8a581c78",
        "colab": {
          "base_uri": "https://localhost:8080/",
          "height": 124
        }
      },
      "source": [
        "show_1D_dataset_samples(10, n_datasets=1, dot_alpha=.5, line_alpha=0, figsize=(20,1))\n",
        "plt.axis(\"on\")\n",
        "plt.ylim(.095, .105)\n",
        "plt.yticks([])\n",
        "plt.axhline(.1, color=\"black\", alpha=.2)"
      ],
      "execution_count": 0,
      "outputs": [
        {
          "output_type": "execute_result",
          "data": {
            "text/plain": [
              "<matplotlib.lines.Line2D at 0x7f599c0da048>"
            ]
          },
          "metadata": {
            "tags": []
          },
          "execution_count": 21
        },
        {
          "output_type": "display_data",
          "data": {
            "image/png": "[encoded data removed]",
            "text/plain": [
              "<Figure size 1440x72 with 1 Axes>"
            ]
          },
          "metadata": {
            "tags": []
          }
        }
      ]
    },
    {
      "cell_type": "markdown",
      "metadata": {
        "id": "BqjE_uV-0G71",
        "colab_type": "text"
      },
      "source": [
        "Veamos como se puede mejorar la definición de la frontera a medida que aumentamos la cantidad de muestras."
      ]
    },
    {
      "cell_type": "code",
      "metadata": {
        "id": "tXaNZLRqt75l",
        "colab_type": "code",
        "outputId": "c2ee6805-94cd-4119-8760-9295e243d398",
        "colab": {
          "base_uri": "https://localhost:8080/",
          "height": 320
        }
      },
      "source": [
        "show_1D_dataset_samples(10, dot_alpha=.3)"
      ],
      "execution_count": 0,
      "outputs": [
        {
          "output_type": "display_data",
          "data": {
            "image/png": "[encoded data removed]",
            "text/plain": [
              "<Figure size 1440x360 with 1 Axes>"
            ]
          },
          "metadata": {
            "tags": []
          }
        }
      ]
    },
    {
      "cell_type": "code",
      "metadata": {
        "id": "TK87NcF2t8Nu",
        "colab_type": "code",
        "outputId": "faff940a-2706-432a-950d-3e4f24d77fd0",
        "colab": {
          "base_uri": "https://localhost:8080/",
          "height": 320
        }
      },
      "source": [
        "show_1D_dataset_samples(100, dot_alpha=.05)"
      ],
      "execution_count": 0,
      "outputs": [
        {
          "output_type": "display_data",
          "data": {
            "image/png": "[encoded data removed]",
            "text/plain": [
              "<Figure size 1440x360 with 1 Axes>"
            ]
          },
          "metadata": {
            "tags": []
          }
        }
      ]
    },
    {
      "cell_type": "code",
      "metadata": {
        "id": "vhWNrFP4t8hz",
        "colab_type": "code",
        "outputId": "6de5cc2d-60a9-4a24-9f3f-8abb18a53f02",
        "colab": {
          "base_uri": "https://localhost:8080/",
          "height": 320
        }
      },
      "source": [
        "show_1D_dataset_samples(10000, dot_alpha=.001)"
      ],
      "execution_count": 0,
      "outputs": [
        {
          "output_type": "display_data",
          "data": {
            "image/png": "[encoded data removed]",
            "text/plain": [
              "<Figure size 1440x360 with 1 Axes>"
            ]
          },
          "metadata": {
            "tags": []
          }
        }
      ]
    },
    {
      "cell_type": "markdown",
      "metadata": {
        "id": "lXrFYHtUPTPo",
        "colab_type": "text"
      },
      "source": [
        "### Caso en 2D\n",
        "\n",
        "- En 2D, un modelo de clasificación **es una frontera** en el plano\n",
        "\n",
        "\n",
        "- **Objetivo:** hallar la frontera que produce menos error de clasificación\n"
      ]
    },
    {
      "cell_type": "code",
      "metadata": {
        "id": "n7wNSKZYctIA",
        "colab_type": "code",
        "outputId": "94b0f8b6-12e9-49c9-fccc-3c19df8b9ec2",
        "colab": {
          "base_uri": "https://localhost:8080/",
          "height": 215
        }
      },
      "source": [
        "# copiando el archivo mlutils.py en la carpeta local\n",
        "!wget \"https://raw.githubusercontent.com/diplomado-bigdata-machinelearning-udea/Curso1/master/s06/mlutils.py\""
      ],
      "execution_count": 0,
      "outputs": [
        {
          "output_type": "stream",
          "text": [
            "--2019-08-31 13:38:02--  https://raw.githubusercontent.com/diplomado-bigdata-machinelearning-udea/Curso1/master/s06/mlutils.py\n",
            "Resolving raw.githubusercontent.com (raw.githubusercontent.com)... 151.101.0.133, 151.101.64.133, 151.101.128.133, ...\n",
            "Connecting to raw.githubusercontent.com (raw.githubusercontent.com)|151.101.0.133|:443... connected.\n",
            "HTTP request sent, awaiting response... 200 OK\n",
            "Length: 10691 (10K) [text/plain]\n",
            "Saving to: ‘mlutils.py’\n",
            "\n",
            "\rmlutils.py            0%[                    ]       0  --.-KB/s               \rmlutils.py          100%[===================>]  10.44K  --.-KB/s    in 0s      \n",
            "\n",
            "2019-08-31 13:38:02 (116 MB/s) - ‘mlutils.py’ saved [10691/10691]\n",
            "\n"
          ],
          "name": "stdout"
        }
      ]
    },
    {
      "cell_type": "code",
      "metadata": {
        "id": "9QstlcMfPrYy",
        "colab_type": "code",
        "colab": {}
      },
      "source": [
        "import mlutils \n",
        "import numpy as np\n",
        "import matplotlib.pyplot as plt\n",
        "from sklearn.metrics import accuracy_score\n",
        "from sklearn.model_selection import train_test_split"
      ],
      "execution_count": 0,
      "outputs": []
    },
    {
      "cell_type": "markdown",
      "metadata": {
        "id": "bwZUY6ggRUYw",
        "colab_type": "text"
      },
      "source": [
        "Muestreo de datos \"pseudoaleatoria\" para clasificar en dos grupos: rojos, azules"
      ]
    },
    {
      "cell_type": "code",
      "metadata": {
        "id": "JgsqtEGUPrKL",
        "colab_type": "code",
        "outputId": "065bf894-4818-4be9-e913-cb9018f525cf",
        "colab": {
          "base_uri": "https://localhost:8080/",
          "height": 283
        }
      },
      "source": [
        "mc = mlutils.Example_Bayes2DClassifier(mean0=[1.5, 2.5], cov0=[[0.1, 0.], [0., 0.1]],\n",
        "                                        mean1=[1.5, 2.], cov1=[[0.2,0.1],[0.1,.2]])\n",
        "X,y = mc.sample(100)\n",
        "mlutils.plot_2Ddata(X, y)\n",
        "plt.xlabel('Ancho')\n",
        "plt.ylabel('Alto')\n",
        "plt.show()"
      ],
      "execution_count": 0,
      "outputs": [
        {
          "output_type": "display_data",
          "data": {
            "image/png": "[encoded data removed]",
            "text/plain": [
              "<Figure size 432x288 with 1 Axes>"
            ]
          },
          "metadata": {
            "tags": []
          }
        }
      ]
    },
    {
      "cell_type": "markdown",
      "metadata": {
        "id": "WYoGrKCHUES3",
        "colab_type": "text"
      },
      "source": [
        "Clasificador lineal"
      ]
    },
    {
      "cell_type": "code",
      "metadata": {
        "id": "Wh2oDs3APqoX",
        "colab_type": "code",
        "outputId": "73e7f71e-2141-47d4-dbfe-8937f10b6910",
        "colab": {
          "base_uri": "https://localhost:8080/",
          "height": 339
        }
      },
      "source": [
        "from sklearn.linear_model import LogisticRegression\n",
        "estimador=LogisticRegression()\n",
        "estimador.fit(X,y)\n",
        "mlutils.plot_2Ddata_with_boundary(estimador.predict,X,y)\n",
        "plt.xlabel('Ancho')\n",
        "plt.ylabel('Alto')\n",
        "plt.show()"
      ],
      "execution_count": 0,
      "outputs": [
        {
          "output_type": "stream",
          "text": [
            "/usr/local/lib/python3.6/dist-packages/sklearn/linear_model/logistic.py:432: FutureWarning: Default solver will be changed to 'lbfgs' in 0.22. Specify a solver to silence this warning.\n",
            "  FutureWarning)\n"
          ],
          "name": "stderr"
        },
        {
          "output_type": "display_data",
          "data": {
            "image/png": "[encoded data removed]",
            "text/plain": [
              "<Figure size 432x288 with 1 Axes>"
            ]
          },
          "metadata": {
            "tags": []
          }
        }
      ]
    },
    {
      "cell_type": "markdown",
      "metadata": {
        "id": "swTUSq8LUITV",
        "colab_type": "text"
      },
      "source": [
        "Clasificador bosque aleatorio"
      ]
    },
    {
      "cell_type": "code",
      "metadata": {
        "id": "qlabETUtQVGH",
        "colab_type": "code",
        "outputId": "2a7c5059-c08b-4cce-e6e4-6dfcd8370fe8",
        "colab": {
          "base_uri": "https://localhost:8080/",
          "height": 339
        }
      },
      "source": [
        "from sklearn.ensemble import RandomForestClassifier\n",
        "estimador=RandomForestClassifier()\n",
        "estimador.fit(X,y)\n",
        "mlutils.plot_2Ddata_with_boundary(estimador.predict,X,y)\n",
        "plt.xlabel('Ancho')\n",
        "plt.ylabel('Alto')\n",
        "plt.show()"
      ],
      "execution_count": 0,
      "outputs": [
        {
          "output_type": "stream",
          "text": [
            "/usr/local/lib/python3.6/dist-packages/sklearn/ensemble/forest.py:245: FutureWarning: The default value of n_estimators will change from 10 in version 0.20 to 100 in 0.22.\n",
            "  \"10 in version 0.20 to 100 in 0.22.\", FutureWarning)\n"
          ],
          "name": "stderr"
        },
        {
          "output_type": "display_data",
          "data": {
            "image/png": "[encoded data removed]",
            "text/plain": [
              "<Figure size 432x288 with 1 Axes>"
            ]
          },
          "metadata": {
            "tags": []
          }
        }
      ]
    },
    {
      "cell_type": "markdown",
      "metadata": {
        "id": "QDkkUrgSULjV",
        "colab_type": "text"
      },
      "source": [
        "Clasificador máquina de soporte vectorial"
      ]
    },
    {
      "cell_type": "code",
      "metadata": {
        "id": "D7U8ayfuQXIP",
        "colab_type": "code",
        "outputId": "be2f95c9-a748-46bb-8b38-ec11c4fd214c",
        "colab": {
          "base_uri": "https://localhost:8080/",
          "height": 339
        }
      },
      "source": [
        "from sklearn.svm import SVC\n",
        "estimador=SVC()\n",
        "estimador.fit(X,y)\n",
        "mlutils.plot_2Ddata_with_boundary(estimador.predict,X,y)\n",
        "plt.xlabel('Ancho')\n",
        "plt.ylabel('Alto')\n",
        "plt.show()"
      ],
      "execution_count": 0,
      "outputs": [
        {
          "output_type": "stream",
          "text": [
            "/usr/local/lib/python3.6/dist-packages/sklearn/svm/base.py:193: FutureWarning: The default value of gamma will change from 'auto' to 'scale' in version 0.22 to account better for unscaled features. Set gamma explicitly to 'auto' or 'scale' to avoid this warning.\n",
            "  \"avoid this warning.\", FutureWarning)\n"
          ],
          "name": "stderr"
        },
        {
          "output_type": "display_data",
          "data": {
            "image/png": "[encoded data removed]",
            "text/plain": [
              "<Figure size 432x288 with 1 Axes>"
            ]
          },
          "metadata": {
            "tags": []
          }
        }
      ]
    },
    {
      "cell_type": "markdown",
      "metadata": {
        "id": "g8wPtmG1QdQ1",
        "colab_type": "text"
      },
      "source": [
        "**Los algoritmos de machine learning:**\n",
        "\n",
        "- Los algoritmos de clasificación **calculan fronteras** entre los datos.\n",
        "- Parten de una muestra de los datos, **no de las distribuciones**.\n",
        "- Por tanto, **no conocemos** la forma de la frontera bayesiana. O sea, **partimos ciegos**!!!!!!!\n",
        "\n",
        "Para abordar esta situación, **cualquier algoritmo** tiene necesariamente que plantear una alguna suposición de base:\n",
        "\n",
        "- los datos vienen de distribuciones normales.\n",
        "- las columnas son estadísticamente independientes.\n",
        "- la frontera es lineal, o cuadrática.\n",
        "\n",
        "Teniendo esto en cuenta, y **partiendo de una muestra de los datos**:\n",
        "\n",
        "- el objetivo de un usuario de ML es acercarse lo más posible a la **frontera bayesiana** (que no sabemos cómo es).\n",
        "- distintos algoritmos ML tienen **distintas capacidades** para modelar fronteras (un clasificador lineal no puede captuarar una frontera cuadrática).\n",
        "- necesitamos dos tipos de herramientas:\n",
        "   - una buena colección de algoritmos ML.\n",
        "   - métodos para saber qué tan cerca estamos de la frontera bayesiana."
      ]
    },
    {
      "cell_type": "markdown",
      "metadata": {
        "id": "enrgilAHD5uI",
        "colab_type": "text"
      },
      "source": [
        "<p><a name=\"terms\"></a></p>\n",
        "\n",
        "## 2.2. Terminología\n",
        "\n",
        "[Contenidos](#contents)\n",
        "\n",
        "Existen conceptos clave que sientan las bases para una mejor comprensión del ML. Aprenderemos la nomenclatura (términos estándar) que se utiliza para describir los datos, así como los términos utilizados para describir el aprendizaje y el modelado.\n"
      ]
    },
    {
      "cell_type": "markdown",
      "metadata": {
        "id": "UrS-hbyBKjbe",
        "colab_type": "text"
      },
      "source": [
        "La estructura tradicional para los datos en el campo del ML tienen la siguiente forma:"
      ]
    },
    {
      "cell_type": "markdown",
      "metadata": {
        "id": "1qQuZF4_JVNw",
        "colab_type": "text"
      },
      "source": [
        "![picture](https://3qeqpr26caki16dnhd19sv6by6v-wpengine.netdna-ssl.com/wp-content/uploads/2013/12/Table-of-Data-Showing-an-Instance-Feature-and-Train-Test-Datasets.png)"
      ]
    },
    {
      "cell_type": "markdown",
      "metadata": {
        "id": "O9iBiOaPLwF3",
        "colab_type": "text"
      },
      "source": [
        "* **Instancia**: A una sola fila de datos se le llama instancia. También se le conoce como una observación del dominio.\n",
        "* **Característica** (Feature): A una sola columna de datos se le llama característica. Es un componente de una observación y también se denomina atributo de una instancia de datos (La característica se suele asociar con el atributo y su valor, aunque la mayoría de las veces se usa atributo y característica indistintamente). Algunas características pueden ser entradas a un modelo (predictores) y otras pueden ser salidas o las características a predecir (también llamadas *labels*).\n",
        "* **Datos de entrenamiento**: Conjunto de datos que introducimos a nuestro algoritmo para entrenar nuestro modelo.\n",
        "* **Datos de prueba**: Conjunto de datos que utilizamos para validar la precisión de nuestro modelo pero que no se utiliza para entrenarlo. Puede llamarse conjunto de datos de validación.\n",
        "\n",
        "Otros términos que utilizaremos frecuentemente son:\n",
        "\n",
        "* **Parámetros del modelo**: Son aquellos que pertenecen al modelo utilizado para realizar el procedimiento de ajuste\n",
        "* **Hiperparámetros**: Es un parámetro de un algoritmo de aprendizaje (no del\n",
        "modelo). Como tal, no se ve afectado por el algoritmo de aprendizaje en sí; debe establecerse antes\n",
        "al entrenamiento y permanece constante durante el entrenamiento.\n",
        "* **Métrica**: Medida cuantitativa usada para evaluar el rendimiento del algoritmo.\n"
      ]
    },
    {
      "cell_type": "markdown",
      "metadata": {
        "id": "0jFVPnpF6alS",
        "colab_type": "text"
      },
      "source": [
        "<p><a name=\"supML\"></a></p>\n",
        "\n",
        "## 2.3. Aprendizaje supervisado\n",
        "\n",
        "[Contenidos](#contents)\n",
        "\n",
        "El aprendizaje supervisado implica de alguna manera modelar la relación entre las características de los datos y alguna etiqueta asociada a estos; una vez que se determina el modelo, se puede usar para asociar etiquetas a datos nuevos y desconocidos. El aprendizaje supervisado se subdivide en clasificación y regresión: En clasificación se tienen etiquetas discretas, mientras que en la regresión, las etiquetas son cantidades continuas."
      ]
    },
    {
      "cell_type": "markdown",
      "metadata": {
        "id": "IuCUGAGcTPi5",
        "colab_type": "text"
      },
      "source": [
        "### 2.3.1 Clasificación: Prediciendo etiquetas discretas.\n",
        "\n",
        "En clasificación, tenemos un conjunto de puntos etiquetados y deseamos utilizarlos para clasificar algunos puntos no etiquetados. Imaginemos que tenemos los datos que se muestran en la siguiente figura\n",
        "\n",
        "![picture](https://raw.githubusercontent.com/jakevdp/PythonDataScienceHandbook/master/notebooks/figures/05.01-classification-1.png)\n",
        "\n",
        "Tenemos dos características para cada punto, representadas por las posiciones (x, y). Además, tenemos una de las dos etiquetas de clases para cada punto, representadas por los colores de los puntos. A partir de estas características y etiquetas, nos gustaría crear un modelo que nos permita decidir si un nuevo punto debe etiquetarse como \"azul\" o \"rojo\". Un posible modelo es asumir que los dos grupos pueden separarse dibujando una línea recta a través del plano entre ellos, de modo que los puntos a cada lado de la línea caen en el mismo grupo.\n",
        "\n",
        "![picture](https://raw.githubusercontent.com/jakevdp/PythonDataScienceHandbook/master/notebooks/figures/05.01-classification-2.png)\n",
        "\n",
        "Este modelo es una versión cuantitativa del enunciado \"una línea recta separa las clases\", mientras que los parámetros del modelo son los números que describen la ubicación y orientación de la línea. Los valores óptimos para estos parámetros se aprenden de los datos (este es el \"aprendizaje\" en ML), que a menudo se denomina *entrenar el modelo*. Ahora que el modelo ha sido entrenado, se puede generalizar a datos nuevos sin etiquetas. Esta etapa generalmente se llama *predicción*.\n"
      ]
    },
    {
      "cell_type": "markdown",
      "metadata": {
        "id": "OiuuQ3avA715",
        "colab_type": "text"
      },
      "source": [
        "<p><a name=\"nonsupML\"></a></p>\n",
        "\n",
        "## 2.4. Aprendizaje no supervisado\n",
        "\n",
        "[Contenidos](#contents)\n",
        "\n",
        "El aprendizaje supervisado implica de alguna manera modelar la relación entre las características de los datos y alguna etiqueta asociada a estos; una vez que se determina el modelo, se puede usar para asociar etiquetas a datos nuevos y desconocidos. El aprendizaje supervisado se subdivide en clasificación y regresión:"
      ]
    },
    {
      "cell_type": "markdown",
      "metadata": {
        "id": "ywih9nDHp5kT",
        "colab_type": "text"
      },
      "source": [
        "El aprendizaje no supervisado implica modelos que describen datos sin referencia a cualquier etiqueta conocida. Un caso común de aprendizaje no supervisado es el de *agrupamiento* (clustering) en el que los datos se asignan automáticamente a un cierto número de grupos discretos. Por ejemplo, podríamos tener algunos datos bidimensionales\n",
        "\n",
        "![picture](https://raw.githubusercontent.com/jakevdp/PythonDataScienceHandbook/master/notebooks/figures/05.01-clustering-1.png)\n",
        "\n",
        "A simple vista, está claro que cada uno de estos puntos es parte de un grupo distinto. Dada esta entrada, un modelo de agrupamiento utilizará la estructura intrínseca de los datos para determinar qué puntos están relacionados, con un resultado como el siguiente\n",
        "\n",
        "![picture](https://raw.githubusercontent.com/jakevdp/PythonDataScienceHandbook/master/notebooks/figures/05.01-clustering-2.png)\n",
        "\n",
        "Algunos algoritmos de aprendizaje no supervisado son:\n",
        "\n",
        "* Agrupamiento\n",
        "  * Jerárquico\n",
        "  * Basado en densidad\n",
        "  * k-medias\n",
        "* Detección de anomalías\n",
        "* Visualización y reducción dimensional\n"
      ]
    },
    {
      "cell_type": "markdown",
      "metadata": {
        "id": "edtIjb8esqNG",
        "colab_type": "text"
      },
      "source": [
        "<p><a name=\"data\"></a></p>\n",
        "\n",
        "## 2.5. Observaciones acerca de los datos\n",
        "\n",
        "[Contenidos](#contents)\n",
        "\n",
        "* **Cantidad insuficiente de datos de entrenamiento**: Se necesitan muchos datos para que la mayoría de los algoritmos de ML funcionen correctamente. Incluso para problemas muy simples, generalmente se necesitan miles de ejemplos, y para problemas complejos como el reconocimiento de imágenes o de voz puede necesitarse millones de ejemplos. \n",
        "\n",
        "* **Datos de entrenamiento no representativos**: Para generalizar bien, es crucial que los datos de entrenamiento sean representativos de los nuevos casos que desea generalizar. Al usar un conjunto de entrenamiento no representativo, entrenamos un modelo con el cual es poco probable obtener predicciones precisas. Incluso muestras muy grandes pueden no ser representativas si el método de muestreo es defectuoso (sesgo en el muestreo).\n",
        "\n",
        "* **Datos de baja calidad**: Obviamente, si los datos de entrenamiento están llenos de errores, valores atípicos y ruido (por ejemplo, debido a mediciones de baja calidad), será más difícil para el algoritmo detectar los patrones subyacentes, por lo que es menos probable que funcione bien. ¡Siempre vale la pena dedicar tiempo a limpiar los datos de entrenamiento!\n",
        "\n",
        "* **Características irrelevantes**: El sistema solo será capaz de aprender si los datos de entrenamiento contienen suficientes características relevantes y no demasiadas irrelevantes. Una parte fundamental del éxito de un proyecto de ML es crear un buen conjunto de características para el entrenamiento. Este proceso se conoce como ingeniería de características. \n",
        "\n",
        "### ¡Los datos son más importantes que los algoritmos!"
      ]
    },
    {
      "cell_type": "markdown",
      "metadata": {
        "id": "d_A9WFzM546Y",
        "colab_type": "text"
      },
      "source": [
        "<p><a name=\"sklearn\"></a></p>\n",
        "\n",
        "# 3. Introducción a Scikit-Learn\n",
        "\n",
        "[Contenidos](#contents) \n",
        "\n",
        "\n"
      ]
    },
    {
      "cell_type": "markdown",
      "metadata": {
        "id": "axPhkEXz5581",
        "colab_type": "text"
      },
      "source": [
        "<p><a name=\"sklearnG\"></a></p>\n",
        "\n",
        "## 3.1 Generalidades\n",
        "\n",
        "Hay varias bibliotecas de Python que proporcionan implementaciones sólidas de una variedad de algoritmos de ML. Uno de los más conocidos es Scikit-Learn, un paquete que proporciona versiones eficientes de una gran cantidad de algoritmos comunes. Scikit-Learn se caracteriza por ser una API limpia, uniforme y optimizada, así como por una documentación en línea muy útil y completa. La API de Scikit-Learn está notablemente bien diseñada. Los principales principios de diseño son:\n",
        "\n",
        "* **Estimadores**: Cualquier objeto que pueda estimar algunos parámetros basados en un conjunto de datos se llama *estimador*. La estimación en sí misma se realiza mediante el método `fit()`, y solo toma un conjunto de datos como parámetro (o dos para algoritmos de aprendizaje supervisados; el segundo conjunto de datos contiene las etiquetas). Cualquier otro parámetro necesario para guiar el proceso de estimación se considera un hiperparámetro. Ya habíamos visto un ejemplo de un estimador cuando realizamos el llenado de valores nulos con `SimpleImputer` (La estrategía de llenado, en este caso \"most frequent\", es un ejemplo de un hiperparámetro)\n"
      ]
    },
    {
      "cell_type": "code",
      "metadata": {
        "id": "HGsZosQ14SfP",
        "colab_type": "code",
        "colab": {}
      },
      "source": [
        "from sklearn.impute import SimpleImputer\n",
        "import pandas as pd\n",
        "\n",
        "imputer = SimpleImputer(strategy='most_frequent')"
      ],
      "execution_count": 0,
      "outputs": []
    },
    {
      "cell_type": "markdown",
      "metadata": {
        "id": "P9rY3e6M4fUC",
        "colab_type": "text"
      },
      "source": [
        "* **Transformadores**: Algunos estimadores (como el imputer) también pueden transformar un conjunto de datos; Estos se llaman transformadores. Una vez más, la API es bastante simple: la transformación se realiza mediante el método `transform()` con el conjunto de datos para transformar como parámetro. Los transformadores también tienen un método conveniente llamado `fit_transform()` que es equivalente a llamar a `fit()` y luego aplicar `transform()`"
      ]
    },
    {
      "cell_type": "code",
      "metadata": {
        "id": "V93uIM7u4iSx",
        "colab_type": "code",
        "colab": {}
      },
      "source": [
        "imp = SimpleImputer(strategy='most_frequent')\n",
        "transformed_data = pd.DataFrame(imp.fit_transform(X))"
      ],
      "execution_count": 0,
      "outputs": []
    },
    {
      "cell_type": "markdown",
      "metadata": {
        "id": "-uphcWJo4j7x",
        "colab_type": "text"
      },
      "source": [
        "* **Predictores**: Finalmente, algunos estimadores son capaces de hacer predicciones dado un conjunto de datos; Estos se conocen como predictores. Un predictor tiene un método `predict()` que toma un conjunto de datos de nuevas instancias y devuelve un conjunto de datos de predicciones correspondientes. También tiene un método `score()` que mide la calidad de las predicciones dado un conjunto de prueba. (El modelo `LinearRegression` que veremos más adelante es un ejemplo de un predictor)\n"
      ]
    },
    {
      "cell_type": "markdown",
      "metadata": {
        "id": "ThYEc56n6AP9",
        "colab_type": "text"
      },
      "source": [
        "<p><a name=\"sklearnT\"></a></p>\n",
        "\n",
        "## 3.2 Tratamiento de datos\n",
        "\n",
        "ML se trata de crear modelos a partir de datos. Por esta razón, comenzaremos discutiendo algunos aspectos necesarios del tratamiento de los datos previos a la aplicación del algoritmo de ML en sklearn"
      ]
    },
    {
      "cell_type": "code",
      "metadata": {
        "id": "r66c6AJV8RyP",
        "colab_type": "code",
        "outputId": "09686581-ffd5-4f49-8b81-0df3394cbd63",
        "colab": {
          "base_uri": "https://localhost:8080/",
          "height": 306
        }
      },
      "source": [
        "import pandas as pd\n",
        "\n",
        "df=pd.read_csv('https://raw.githubusercontent.com/diplomado-bigdata-machinelearning-udea/Curso1/master/s04/adult.csv') \n",
        "df.head()"
      ],
      "execution_count": 0,
      "outputs": [
        {
          "output_type": "execute_result",
          "data": {
            "text/html": [
              "<div>\n",
              "<style scoped>\n",
              "    .dataframe tbody tr th:only-of-type {\n",
              "        vertical-align: middle;\n",
              "    }\n",
              "\n",
              "    .dataframe tbody tr th {\n",
              "        vertical-align: top;\n",
              "    }\n",
              "\n",
              "    .dataframe thead th {\n",
              "        text-align: right;\n",
              "    }\n",
              "</style>\n",
              "<table border=\"1\" class=\"dataframe\">\n",
              "  <thead>\n",
              "    <tr style=\"text-align: right;\">\n",
              "      <th></th>\n",
              "      <th>age</th>\n",
              "      <th>workclass</th>\n",
              "      <th>fnlwgt</th>\n",
              "      <th>education</th>\n",
              "      <th>education-num</th>\n",
              "      <th>marital-status</th>\n",
              "      <th>occupation</th>\n",
              "      <th>relationship</th>\n",
              "      <th>race</th>\n",
              "      <th>sex</th>\n",
              "      <th>capitalgain</th>\n",
              "      <th>capitalloss</th>\n",
              "      <th>hoursperweek</th>\n",
              "      <th>native-country</th>\n",
              "      <th>class</th>\n",
              "    </tr>\n",
              "  </thead>\n",
              "  <tbody>\n",
              "    <tr>\n",
              "      <th>0</th>\n",
              "      <td>2</td>\n",
              "      <td>State-gov</td>\n",
              "      <td>77516</td>\n",
              "      <td>Bachelors</td>\n",
              "      <td>13</td>\n",
              "      <td>Never-married</td>\n",
              "      <td>Adm-clerical</td>\n",
              "      <td>Not-in-family</td>\n",
              "      <td>White</td>\n",
              "      <td>Male</td>\n",
              "      <td>1</td>\n",
              "      <td>0</td>\n",
              "      <td>2</td>\n",
              "      <td>United-States</td>\n",
              "      <td>&lt;=50K</td>\n",
              "    </tr>\n",
              "    <tr>\n",
              "      <th>1</th>\n",
              "      <td>3</td>\n",
              "      <td>Self-emp-not-inc</td>\n",
              "      <td>83311</td>\n",
              "      <td>Bachelors</td>\n",
              "      <td>13</td>\n",
              "      <td>Married-civ-spouse</td>\n",
              "      <td>Exec-managerial</td>\n",
              "      <td>Husband</td>\n",
              "      <td>White</td>\n",
              "      <td>Male</td>\n",
              "      <td>0</td>\n",
              "      <td>0</td>\n",
              "      <td>0</td>\n",
              "      <td>United-States</td>\n",
              "      <td>&lt;=50K</td>\n",
              "    </tr>\n",
              "    <tr>\n",
              "      <th>2</th>\n",
              "      <td>2</td>\n",
              "      <td>Private</td>\n",
              "      <td>215646</td>\n",
              "      <td>HS-grad</td>\n",
              "      <td>9</td>\n",
              "      <td>Divorced</td>\n",
              "      <td>Handlers-cleaners</td>\n",
              "      <td>Not-in-family</td>\n",
              "      <td>White</td>\n",
              "      <td>Male</td>\n",
              "      <td>0</td>\n",
              "      <td>0</td>\n",
              "      <td>2</td>\n",
              "      <td>United-States</td>\n",
              "      <td>&lt;=50K</td>\n",
              "    </tr>\n",
              "    <tr>\n",
              "      <th>3</th>\n",
              "      <td>3</td>\n",
              "      <td>Private</td>\n",
              "      <td>234721</td>\n",
              "      <td>11th</td>\n",
              "      <td>7</td>\n",
              "      <td>Married-civ-spouse</td>\n",
              "      <td>Handlers-cleaners</td>\n",
              "      <td>Husband</td>\n",
              "      <td>Black</td>\n",
              "      <td>Male</td>\n",
              "      <td>0</td>\n",
              "      <td>0</td>\n",
              "      <td>2</td>\n",
              "      <td>United-States</td>\n",
              "      <td>&lt;=50K</td>\n",
              "    </tr>\n",
              "    <tr>\n",
              "      <th>4</th>\n",
              "      <td>1</td>\n",
              "      <td>Private</td>\n",
              "      <td>338409</td>\n",
              "      <td>Bachelors</td>\n",
              "      <td>13</td>\n",
              "      <td>Married-civ-spouse</td>\n",
              "      <td>Prof-specialty</td>\n",
              "      <td>Wife</td>\n",
              "      <td>Black</td>\n",
              "      <td>Female</td>\n",
              "      <td>0</td>\n",
              "      <td>0</td>\n",
              "      <td>2</td>\n",
              "      <td>Cuba</td>\n",
              "      <td>&lt;=50K</td>\n",
              "    </tr>\n",
              "  </tbody>\n",
              "</table>\n",
              "</div>"
            ],
            "text/plain": [
              "   age         workclass  fnlwgt  ... hoursperweek  native-country  class\n",
              "0    2         State-gov   77516  ...            2   United-States  <=50K\n",
              "1    3  Self-emp-not-inc   83311  ...            0   United-States  <=50K\n",
              "2    2           Private  215646  ...            2   United-States  <=50K\n",
              "3    3           Private  234721  ...            2   United-States  <=50K\n",
              "4    1           Private  338409  ...            2            Cuba  <=50K\n",
              "\n",
              "[5 rows x 15 columns]"
            ]
          },
          "metadata": {
            "tags": []
          },
          "execution_count": 34
        }
      ]
    },
    {
      "cell_type": "markdown",
      "metadata": {
        "id": "EZurcoswVSBB",
        "colab_type": "text"
      },
      "source": [
        "<p><a name=\"sklearnTT\"></a></p>\n",
        "\n",
        "### 3.2.1 Datos de entrenamiento y de prueba\n",
        "\n",
        "Comencemos por crear la matrix de características **X** y el vector (serie) de etiquetas **y**. Supongamos que en este caso queremos predecir la característica \"age\":"
      ]
    },
    {
      "cell_type": "code",
      "metadata": {
        "id": "U9oA7rngVgoR",
        "colab_type": "code",
        "outputId": "eef74784-0b2c-4352-a554-efc10e1b72a9",
        "colab": {
          "base_uri": "https://localhost:8080/",
          "height": 35
        }
      },
      "source": [
        "X = df.drop(\"age\", axis=1)\n",
        "X.shape"
      ],
      "execution_count": 0,
      "outputs": [
        {
          "output_type": "execute_result",
          "data": {
            "text/plain": [
              "(48842, 14)"
            ]
          },
          "metadata": {
            "tags": []
          },
          "execution_count": 35
        }
      ]
    },
    {
      "cell_type": "code",
      "metadata": {
        "id": "Dwh3UeyYWIIa",
        "colab_type": "code",
        "outputId": "808cfda7-f9eb-4066-d4d4-72221b747e55",
        "colab": {
          "base_uri": "https://localhost:8080/",
          "height": 35
        }
      },
      "source": [
        "y = df[\"age\"]\n",
        "y.shape"
      ],
      "execution_count": 0,
      "outputs": [
        {
          "output_type": "execute_result",
          "data": {
            "text/plain": [
              "(48842,)"
            ]
          },
          "metadata": {
            "tags": []
          },
          "execution_count": 36
        }
      ]
    },
    {
      "cell_type": "code",
      "metadata": {
        "id": "99ZL2qSdB2gL",
        "colab_type": "code",
        "outputId": "b7e979e8-1257-423c-f175-103f1c39f29e",
        "colab": {
          "base_uri": "https://localhost:8080/",
          "height": 305
        }
      },
      "source": [
        ""
      ],
      "execution_count": 0,
      "outputs": [
        {
          "output_type": "execute_result",
          "data": {
            "text/plain": [
              "age                  0\n",
              "workclass         2799\n",
              "fnlwgt               0\n",
              "education            0\n",
              "education-num        0\n",
              "marital-status       0\n",
              "occupation        2809\n",
              "relationship         0\n",
              "race                 0\n",
              "sex                  0\n",
              "capitalgain          0\n",
              "capitalloss          0\n",
              "hoursperweek         0\n",
              "native-country     857\n",
              "class                0\n",
              "dtype: int64"
            ]
          },
          "metadata": {
            "tags": []
          },
          "execution_count": 37
        }
      ]
    },
    {
      "cell_type": "markdown",
      "metadata": {
        "id": "JJOSK9ya_6aF",
        "colab_type": "text"
      },
      "source": [
        "\n",
        "\n",
        "\n",
        "Generalmente se elige el 20% de los datos para la prueba y el resto para el entrenamiento. Los datos se deben dividir eligiendo los datos de manera aleatoria. Existen varias maneras de realizar este proceso\n",
        "\n",
        "   1) Crear una función que seleccione el 20% de los datos aleatoriamente.\n",
        "      \n",
        "   2) De la librería `sklearn.model_selection` usar las funciones:\n",
        "      \n",
        "      * train_test_split\n",
        "       \n",
        "      * StratifiedShuffleSplit \n",
        "      \n",
        "La primera función dividirá los datos en los mismos índices (esto es muy útil, por ejemplo, si tenemos un DataFrame separado para las etiquetas). La segunda función hace lo que se conoce como un muestreo estratificado, el cual se usa en el caso de que no haya suficientes datos y queramos evitar introducir sesgos\n",
        "\n",
        "\n"
      ]
    },
    {
      "cell_type": "code",
      "metadata": {
        "id": "rVouMu_rT-lP",
        "colab_type": "code",
        "outputId": "754b6127-a75e-41b8-a1a7-dd64673abfc7",
        "colab": {
          "base_uri": "https://localhost:8080/",
          "height": 53
        }
      },
      "source": [
        "# Cuando tengamos una cantidad de datos tal que estemos seguros que no introduciremos un sesgo\n",
        "from sklearn.model_selection import train_test_split\n",
        "x_train, x_test, y_train, y_test = train_test_split(X,y, test_size=0.2, random_state=42) # random_state nos permite establecer una semilla \n",
        "\n",
        "print(x_train.shape,y_train.shape)\n",
        "print(x_test.shape,y_test.shape)"
      ],
      "execution_count": 0,
      "outputs": [
        {
          "output_type": "stream",
          "text": [
            "(39073, 14) (39073,)\n",
            "(9769, 14) (9769,)\n"
          ],
          "name": "stdout"
        }
      ]
    },
    {
      "cell_type": "code",
      "metadata": {
        "id": "j26SK0N_ULDV",
        "colab_type": "code",
        "outputId": "ae252f11-eb25-492a-fc6c-4732162a5d4c",
        "colab": {
          "base_uri": "https://localhost:8080/",
          "height": 53
        }
      },
      "source": [
        "from sklearn.model_selection import StratifiedShuffleSplit\n",
        "\n",
        "s = StratifiedShuffleSplit(n_splits=5, test_size=0.2, random_state=40)\n",
        "\n",
        "for train_index, test_index in s.split(X,y):\n",
        "  X_train, X_test = X.iloc[train_index], X.iloc[test_index]\n",
        "  Y_train, Y_test = y.iloc[train_index], y.iloc[test_index]\n",
        "  \n",
        "print(X_train.shape,Y_train.shape)\n",
        "print(X_test.shape,Y_test.shape)"
      ],
      "execution_count": 0,
      "outputs": [
        {
          "output_type": "stream",
          "text": [
            "(39073, 14) (39073,)\n",
            "(9769, 14) (9769,)\n"
          ],
          "name": "stdout"
        }
      ]
    },
    {
      "cell_type": "markdown",
      "metadata": {
        "id": "c2KQa9-FnJm4",
        "colab_type": "text"
      },
      "source": [
        "<p><a name=\"sklearnCT\"></a></p>\n",
        "\n",
        "### 3.2.2 Conversión de variables categóricas\n",
        "\n",
        "Para la conversión de variables categóricas, sklearn ofrece los módulos `OrdinalEncoder` y `OneHotEncoder`"
      ]
    },
    {
      "cell_type": "code",
      "metadata": {
        "id": "upAz1I2knn5C",
        "colab_type": "code",
        "outputId": "66a4926b-0667-4672-8d68-2a2b406ef15d",
        "colab": {
          "base_uri": "https://localhost:8080/",
          "height": 305
        }
      },
      "source": [
        "df.dtypes"
      ],
      "execution_count": 0,
      "outputs": [
        {
          "output_type": "execute_result",
          "data": {
            "text/plain": [
              "age                int64\n",
              "workclass         object\n",
              "fnlwgt             int64\n",
              "education         object\n",
              "education-num      int64\n",
              "marital-status    object\n",
              "occupation        object\n",
              "relationship      object\n",
              "race              object\n",
              "sex               object\n",
              "capitalgain        int64\n",
              "capitalloss        int64\n",
              "hoursperweek       int64\n",
              "native-country    object\n",
              "class             object\n",
              "dtype: object"
            ]
          },
          "metadata": {
            "tags": []
          },
          "execution_count": 42
        }
      ]
    },
    {
      "cell_type": "code",
      "metadata": {
        "id": "BWwBMTVxnu8-",
        "colab_type": "code",
        "outputId": "16b1816d-8011-4cda-82d2-44e1d33e7550",
        "colab": {
          "base_uri": "https://localhost:8080/",
          "height": 143
        }
      },
      "source": [
        "from sklearn.preprocessing import OrdinalEncoder\n",
        "\n",
        "ordinal_encoder = OrdinalEncoder()\n",
        "df_cat_encoded = ordinal_encoder.fit_transform(df[[\"education\"]])\n",
        "df_cat_encoded"
      ],
      "execution_count": 0,
      "outputs": [
        {
          "output_type": "execute_result",
          "data": {
            "text/plain": [
              "array([[ 9.],\n",
              "       [ 9.],\n",
              "       [11.],\n",
              "       ...,\n",
              "       [ 9.],\n",
              "       [ 9.],\n",
              "       [ 9.]])"
            ]
          },
          "metadata": {
            "tags": []
          },
          "execution_count": 43
        }
      ]
    },
    {
      "cell_type": "code",
      "metadata": {
        "id": "K5zGziIYoe2T",
        "colab_type": "code",
        "outputId": "b358c70c-8550-4619-de42-05a7131db07b",
        "colab": {
          "base_uri": "https://localhost:8080/",
          "height": 53
        }
      },
      "source": [
        "from sklearn.preprocessing import OneHotEncoder\n",
        "\n",
        "cat_encoder = OneHotEncoder()\n",
        "#cat_encoder = OneHotEncoder(sparse=False)\n",
        "df_cat_1hot = cat_encoder.fit_transform(df[[\"sex\"]])\n",
        "df_cat_1hot"
      ],
      "execution_count": 0,
      "outputs": [
        {
          "output_type": "execute_result",
          "data": {
            "text/plain": [
              "<48842x2 sparse matrix of type '<class 'numpy.float64'>'\n",
              "\twith 48842 stored elements in Compressed Sparse Row format>"
            ]
          },
          "metadata": {
            "tags": []
          },
          "execution_count": 44
        }
      ]
    },
    {
      "cell_type": "markdown",
      "metadata": {
        "id": "C1aA6EiG2rIN",
        "colab_type": "text"
      },
      "source": [
        "Por defecto el `OneHotEncoder` retorna una matriz dispersa (sparse). Muchos de los estimadores de Sklearn aceptan entradas de este tipo al ajustar y evaluar modelos. "
      ]
    },
    {
      "cell_type": "markdown",
      "metadata": {
        "id": "keS9v4A2qiig",
        "colab_type": "text"
      },
      "source": [
        "<p><a name=\"sklearnFS\"></a></p>\n",
        "\n",
        "### 3.2.3 Escalado de características"
      ]
    },
    {
      "cell_type": "markdown",
      "metadata": {
        "id": "nYdSdabfqvxh",
        "colab_type": "text"
      },
      "source": [
        "Los algoritmos de ML no funcionan bien cuando los atributos numéricos de entrada tienen escalas muy diferentes (o en algunos casos las entradas deben estar normalizadas). Para resolver esto, Scikit-Learn tiene dos funciones para que todos los atributos tengan la misma escala: \n",
        "\n",
        "* Normalización  $$\n",
        "           x'=\\frac{x-x_{min}}{x_{max}-x_{min}}.\n",
        "           $$ \n",
        "\n",
        "\n"
      ]
    },
    {
      "cell_type": "code",
      "metadata": {
        "id": "FCGH7VdFqvZP",
        "colab_type": "code",
        "outputId": "1404c215-2013-40b8-f26c-d609d0d6fbf9",
        "colab": {
          "base_uri": "https://localhost:8080/",
          "height": 143
        }
      },
      "source": [
        "from sklearn.preprocessing import MinMaxScaler\n",
        "\n",
        "scaler = MinMaxScaler()\n",
        "scaler.fit_transform(df[[\"age\"]],df[[\"hoursperweek\"]])"
      ],
      "execution_count": 0,
      "outputs": [
        {
          "output_type": "execute_result",
          "data": {
            "text/plain": [
              "array([[0.5 ],\n",
              "       [0.75],\n",
              "       [0.5 ],\n",
              "       ...,\n",
              "       [0.5 ],\n",
              "       [0.5 ],\n",
              "       [0.25]])"
            ]
          },
          "metadata": {
            "tags": []
          },
          "execution_count": 45
        }
      ]
    },
    {
      "cell_type": "markdown",
      "metadata": {
        "id": "nQv2DNcOvmlv",
        "colab_type": "text"
      },
      "source": [
        "* Estandarización:$$\n",
        "    x'=\\frac{x-\\bar x}{\\sigma}\n",
        "    $$"
      ]
    },
    {
      "cell_type": "code",
      "metadata": {
        "id": "ORhvoYxNsrif",
        "colab_type": "code",
        "outputId": "7812f1c5-0abd-4b6c-eb3f-3f79133c64a9",
        "colab": {
          "base_uri": "https://localhost:8080/",
          "height": 143
        }
      },
      "source": [
        "from sklearn.preprocessing import StandardScaler\n",
        "\n",
        "sscaler = StandardScaler()\n",
        "sscaler.fit_transform(df[[\"age\"]],df[[\"hoursperweek\"]])"
      ],
      "execution_count": 0,
      "outputs": [
        {
          "output_type": "execute_result",
          "data": {
            "text/plain": [
              "array([[ 0.17672381],\n",
              "       [ 0.94870704],\n",
              "       [ 0.17672381],\n",
              "       ...,\n",
              "       [ 0.17672381],\n",
              "       [ 0.17672381],\n",
              "       [-0.59525942]])"
            ]
          },
          "metadata": {
            "tags": []
          },
          "execution_count": 46
        }
      ]
    },
    {
      "cell_type": "markdown",
      "metadata": {
        "id": "ma3-y7ZXvt7u",
        "colab_type": "text"
      },
      "source": [
        "<p><a name=\"sklearnPL\"></a></p>\n",
        "\n",
        "### 3.2.4 Pipeline\n",
        "\n",
        "Un *Pipeline* es una secuencia de transformaciones que se utilizan para automatizar flujos de trabajo. Los pipelines son muy comunes en los sistemas de ML, ya que hay muchos datos para manipular y muchas transformaciones de datos para aplicar. Sklearn proporciona la clase `Pipeline`. En el siguiente ejemplo crearemos un pipeline para \n",
        "\n",
        "1) Reemplazar los valores nulos por la media \n",
        "\n",
        "2) Estandarizar los datos.\n"
      ]
    },
    {
      "cell_type": "code",
      "metadata": {
        "id": "jULTvAWNxqBt",
        "colab_type": "code",
        "outputId": "0c23a3fd-1947-42e0-8166-4b88e0cdaddd",
        "colab": {
          "base_uri": "https://localhost:8080/",
          "height": 71
        }
      },
      "source": [
        "from sklearn.pipeline import Pipeline\n",
        "\n",
        "num_pipeline = Pipeline([\n",
        "        ('imputer', SimpleImputer(strategy=\"median\")),\n",
        "        ('std_scaler', StandardScaler()),\n",
        "    ])\n",
        "\n",
        "df_age_pipe = num_pipeline.fit_transform(df[[\"age\"]])\n",
        "\n",
        "trans_age = pd.DataFrame(df_age_pipe)\n",
        "print(trans_age.std(),trans_age.mean())\n"
      ],
      "execution_count": 0,
      "outputs": [
        {
          "output_type": "stream",
          "text": [
            "0    1.00001\n",
            "dtype: float64 0   -1.553935e-15\n",
            "dtype: float64\n"
          ],
          "name": "stdout"
        }
      ]
    },
    {
      "cell_type": "markdown",
      "metadata": {
        "id": "ksuZ7R8U6Alp",
        "colab_type": "text"
      },
      "source": [
        "<p><a name=\"regresion\"></a></p>\n",
        "\n",
        "# 4. Regresión lineal\n",
        "\n",
        "[Contenidos](#contents) "
      ]
    },
    {
      "cell_type": "markdown",
      "metadata": {
        "id": "45fkBVVRkIOJ",
        "colab_type": "text"
      },
      "source": [
        "## 4.1 Regresión lineal simple\n",
        "<p><a name=\"simple\"></a></p>"
      ]
    },
    {
      "cell_type": "markdown",
      "metadata": {
        "colab_type": "text",
        "id": "Kvpxqubig4lK"
      },
      "source": [
        "Para iniciar nuestro estudio de los algorítmos de regresión usaremosuno de los casos más simples posibles:  la regresión lineal.\n",
        "\n",
        "Como recordarás la ecuación de una línea recta está dada por la ecuación\n",
        "\n",
        "$$y = m*x+b$$\n",
        "\n",
        "Donde $y$ es la variable dependiente, $x$ la independiente y a $m$ y $b$ las llamamos pendientes e intercepto.\n",
        "\n",
        "En el ambito del ML solemos reescribir la ecuación como\n",
        "\n",
        "$$y=w_0+w_1x$$\n",
        "\n",
        "siendo $w_0$ y $w_1$ llamados los \"parámetros del modelo\"\n",
        "\n"
      ]
    },
    {
      "cell_type": "markdown",
      "metadata": {
        "colab_type": "text",
        "id": "POPdAj-8g4la"
      },
      "source": [
        "La **pregunta** que nos haríamos sería: dados un conjunto de datos $(x,y)$, ¿Cuáles son los parámetros para una línea que mejor representan *el conjunto* de datos?\n",
        "\n",
        "En otras palabras, queremos encontrar los $w_i$ que mínimicen el error al predecir $y$ dado un $x$"
      ]
    },
    {
      "cell_type": "markdown",
      "metadata": {
        "colab_type": "text",
        "id": "AVmtMySBg4le"
      },
      "source": [
        "![Imagen tomada de medium.com](https://miro.medium.com/max/642/1*xxxqZtZExBJoxmYKIY-waw.png)"
      ]
    },
    {
      "cell_type": "markdown",
      "metadata": {
        "colab_type": "text",
        "id": "4Df7xWtgg4lo"
      },
      "source": [
        "Existen varios algoritmos para resolver ésta tarea, el más simple es usar el algorítmo de mínimos cuadrados.\n",
        "\n",
        "El algoritmo encuentra los parámetros que minimizan la el error cuadrado conjunto (la suma) entre nuestras predicciones y los valores reales."
      ]
    },
    {
      "cell_type": "markdown",
      "metadata": {
        "colab_type": "text",
        "id": "guMAxrDEg4lu"
      },
      "source": [
        "![Imagen tomada de /www.jmp.com](https://www.jmp.com/en_hk/statistics-knowledge-portal/what-is-multiple-regression/fitting-multiple-regression-model/_jcr_content/par/styledcontainer_2069/par/lightbox_4130/lightboxImage.img.png/1548704005203.png)"
      ]
    },
    {
      "cell_type": "markdown",
      "metadata": {
        "colab_type": "text",
        "id": "pgf56L2Tg4ly"
      },
      "source": [
        "Sklearn cuenta con una sublibrería completa para los modelos lineales llamada \"linear_model\".\n",
        "\n",
        "Volvamos a nuestro dataset de autos."
      ]
    },
    {
      "cell_type": "code",
      "metadata": {
        "colab_type": "code",
        "id": "JgYZ6f-9g4l3",
        "colab": {}
      },
      "source": [
        "import pandas as pd\n",
        "import numpy as np\n",
        "\n",
        "archivo = 'https://s3-api.us-geo.objectstorage.softlayer.net/cf-courses-data/CognitiveClass/DA0101EN/automobileEDA.csv'\n",
        "df = pd.read_csv(archivo)"
      ],
      "execution_count": 0,
      "outputs": []
    },
    {
      "cell_type": "code",
      "metadata": {
        "colab_type": "code",
        "outputId": "fdebb9a3-ed53-4dc7-8ed1-cf6d019cb1d9",
        "id": "bO1TuyU7g4mU",
        "colab": {
          "base_uri": "https://localhost:8080/",
          "height": 305
        }
      },
      "source": [
        "df.head()"
      ],
      "execution_count": 0,
      "outputs": [
        {
          "output_type": "execute_result",
          "data": {
            "text/html": [
              "<div>\n",
              "<style scoped>\n",
              "    .dataframe tbody tr th:only-of-type {\n",
              "        vertical-align: middle;\n",
              "    }\n",
              "\n",
              "    .dataframe tbody tr th {\n",
              "        vertical-align: top;\n",
              "    }\n",
              "\n",
              "    .dataframe thead th {\n",
              "        text-align: right;\n",
              "    }\n",
              "</style>\n",
              "<table border=\"1\" class=\"dataframe\">\n",
              "  <thead>\n",
              "    <tr style=\"text-align: right;\">\n",
              "      <th></th>\n",
              "      <th>symboling</th>\n",
              "      <th>normalized-losses</th>\n",
              "      <th>make</th>\n",
              "      <th>aspiration</th>\n",
              "      <th>num-of-doors</th>\n",
              "      <th>body-style</th>\n",
              "      <th>drive-wheels</th>\n",
              "      <th>engine-location</th>\n",
              "      <th>wheel-base</th>\n",
              "      <th>length</th>\n",
              "      <th>width</th>\n",
              "      <th>height</th>\n",
              "      <th>curb-weight</th>\n",
              "      <th>engine-type</th>\n",
              "      <th>num-of-cylinders</th>\n",
              "      <th>engine-size</th>\n",
              "      <th>fuel-system</th>\n",
              "      <th>bore</th>\n",
              "      <th>stroke</th>\n",
              "      <th>compression-ratio</th>\n",
              "      <th>horsepower</th>\n",
              "      <th>peak-rpm</th>\n",
              "      <th>city-mpg</th>\n",
              "      <th>highway-mpg</th>\n",
              "      <th>price</th>\n",
              "      <th>city-L/100km</th>\n",
              "      <th>horsepower-binned</th>\n",
              "      <th>diesel</th>\n",
              "      <th>gas</th>\n",
              "    </tr>\n",
              "  </thead>\n",
              "  <tbody>\n",
              "    <tr>\n",
              "      <th>0</th>\n",
              "      <td>3</td>\n",
              "      <td>122</td>\n",
              "      <td>alfa-romero</td>\n",
              "      <td>std</td>\n",
              "      <td>two</td>\n",
              "      <td>convertible</td>\n",
              "      <td>rwd</td>\n",
              "      <td>front</td>\n",
              "      <td>88.6</td>\n",
              "      <td>0.811148</td>\n",
              "      <td>0.890278</td>\n",
              "      <td>48.8</td>\n",
              "      <td>2548</td>\n",
              "      <td>dohc</td>\n",
              "      <td>four</td>\n",
              "      <td>130</td>\n",
              "      <td>mpfi</td>\n",
              "      <td>3.47</td>\n",
              "      <td>2.68</td>\n",
              "      <td>9.0</td>\n",
              "      <td>111.0</td>\n",
              "      <td>5000.0</td>\n",
              "      <td>21</td>\n",
              "      <td>27</td>\n",
              "      <td>13495.0</td>\n",
              "      <td>11.190476</td>\n",
              "      <td>Medium</td>\n",
              "      <td>0</td>\n",
              "      <td>1</td>\n",
              "    </tr>\n",
              "    <tr>\n",
              "      <th>1</th>\n",
              "      <td>3</td>\n",
              "      <td>122</td>\n",
              "      <td>alfa-romero</td>\n",
              "      <td>std</td>\n",
              "      <td>two</td>\n",
              "      <td>convertible</td>\n",
              "      <td>rwd</td>\n",
              "      <td>front</td>\n",
              "      <td>88.6</td>\n",
              "      <td>0.811148</td>\n",
              "      <td>0.890278</td>\n",
              "      <td>48.8</td>\n",
              "      <td>2548</td>\n",
              "      <td>dohc</td>\n",
              "      <td>four</td>\n",
              "      <td>130</td>\n",
              "      <td>mpfi</td>\n",
              "      <td>3.47</td>\n",
              "      <td>2.68</td>\n",
              "      <td>9.0</td>\n",
              "      <td>111.0</td>\n",
              "      <td>5000.0</td>\n",
              "      <td>21</td>\n",
              "      <td>27</td>\n",
              "      <td>16500.0</td>\n",
              "      <td>11.190476</td>\n",
              "      <td>Medium</td>\n",
              "      <td>0</td>\n",
              "      <td>1</td>\n",
              "    </tr>\n",
              "    <tr>\n",
              "      <th>2</th>\n",
              "      <td>1</td>\n",
              "      <td>122</td>\n",
              "      <td>alfa-romero</td>\n",
              "      <td>std</td>\n",
              "      <td>two</td>\n",
              "      <td>hatchback</td>\n",
              "      <td>rwd</td>\n",
              "      <td>front</td>\n",
              "      <td>94.5</td>\n",
              "      <td>0.822681</td>\n",
              "      <td>0.909722</td>\n",
              "      <td>52.4</td>\n",
              "      <td>2823</td>\n",
              "      <td>ohcv</td>\n",
              "      <td>six</td>\n",
              "      <td>152</td>\n",
              "      <td>mpfi</td>\n",
              "      <td>2.68</td>\n",
              "      <td>3.47</td>\n",
              "      <td>9.0</td>\n",
              "      <td>154.0</td>\n",
              "      <td>5000.0</td>\n",
              "      <td>19</td>\n",
              "      <td>26</td>\n",
              "      <td>16500.0</td>\n",
              "      <td>12.368421</td>\n",
              "      <td>Medium</td>\n",
              "      <td>0</td>\n",
              "      <td>1</td>\n",
              "    </tr>\n",
              "    <tr>\n",
              "      <th>3</th>\n",
              "      <td>2</td>\n",
              "      <td>164</td>\n",
              "      <td>audi</td>\n",
              "      <td>std</td>\n",
              "      <td>four</td>\n",
              "      <td>sedan</td>\n",
              "      <td>fwd</td>\n",
              "      <td>front</td>\n",
              "      <td>99.8</td>\n",
              "      <td>0.848630</td>\n",
              "      <td>0.919444</td>\n",
              "      <td>54.3</td>\n",
              "      <td>2337</td>\n",
              "      <td>ohc</td>\n",
              "      <td>four</td>\n",
              "      <td>109</td>\n",
              "      <td>mpfi</td>\n",
              "      <td>3.19</td>\n",
              "      <td>3.40</td>\n",
              "      <td>10.0</td>\n",
              "      <td>102.0</td>\n",
              "      <td>5500.0</td>\n",
              "      <td>24</td>\n",
              "      <td>30</td>\n",
              "      <td>13950.0</td>\n",
              "      <td>9.791667</td>\n",
              "      <td>Medium</td>\n",
              "      <td>0</td>\n",
              "      <td>1</td>\n",
              "    </tr>\n",
              "    <tr>\n",
              "      <th>4</th>\n",
              "      <td>2</td>\n",
              "      <td>164</td>\n",
              "      <td>audi</td>\n",
              "      <td>std</td>\n",
              "      <td>four</td>\n",
              "      <td>sedan</td>\n",
              "      <td>4wd</td>\n",
              "      <td>front</td>\n",
              "      <td>99.4</td>\n",
              "      <td>0.848630</td>\n",
              "      <td>0.922222</td>\n",
              "      <td>54.3</td>\n",
              "      <td>2824</td>\n",
              "      <td>ohc</td>\n",
              "      <td>five</td>\n",
              "      <td>136</td>\n",
              "      <td>mpfi</td>\n",
              "      <td>3.19</td>\n",
              "      <td>3.40</td>\n",
              "      <td>8.0</td>\n",
              "      <td>115.0</td>\n",
              "      <td>5500.0</td>\n",
              "      <td>18</td>\n",
              "      <td>22</td>\n",
              "      <td>17450.0</td>\n",
              "      <td>13.055556</td>\n",
              "      <td>Medium</td>\n",
              "      <td>0</td>\n",
              "      <td>1</td>\n",
              "    </tr>\n",
              "  </tbody>\n",
              "</table>\n",
              "</div>"
            ],
            "text/plain": [
              "   symboling  normalized-losses         make  ... horsepower-binned diesel gas\n",
              "0          3                122  alfa-romero  ...            Medium      0   1\n",
              "1          3                122  alfa-romero  ...            Medium      0   1\n",
              "2          1                122  alfa-romero  ...            Medium      0   1\n",
              "3          2                164         audi  ...            Medium      0   1\n",
              "4          2                164         audi  ...            Medium      0   1\n",
              "\n",
              "[5 rows x 29 columns]"
            ]
          },
          "metadata": {
            "tags": []
          },
          "execution_count": 44
        }
      ]
    },
    {
      "cell_type": "code",
      "metadata": {
        "colab_type": "code",
        "outputId": "9b738f2c-0cdc-43a9-9c57-a0d140a3935d",
        "id": "BqpH8GUUg4mu",
        "colab": {
          "base_uri": "https://localhost:8080/",
          "height": 557
        }
      },
      "source": [
        "df.dtypes"
      ],
      "execution_count": 0,
      "outputs": [
        {
          "output_type": "execute_result",
          "data": {
            "text/plain": [
              "symboling              int64\n",
              "normalized-losses      int64\n",
              "make                  object\n",
              "aspiration            object\n",
              "num-of-doors          object\n",
              "body-style            object\n",
              "drive-wheels          object\n",
              "engine-location       object\n",
              "wheel-base           float64\n",
              "length               float64\n",
              "width                float64\n",
              "height               float64\n",
              "curb-weight            int64\n",
              "engine-type           object\n",
              "num-of-cylinders      object\n",
              "engine-size            int64\n",
              "fuel-system           object\n",
              "bore                 float64\n",
              "stroke               float64\n",
              "compression-ratio    float64\n",
              "horsepower           float64\n",
              "peak-rpm             float64\n",
              "city-mpg               int64\n",
              "highway-mpg            int64\n",
              "price                float64\n",
              "city-L/100km         float64\n",
              "horsepower-binned     object\n",
              "diesel                 int64\n",
              "gas                    int64\n",
              "dtype: object"
            ]
          },
          "metadata": {
            "tags": []
          },
          "execution_count": 50
        }
      ]
    },
    {
      "cell_type": "markdown",
      "metadata": {
        "colab_type": "text",
        "id": "r3I7rOKwg4nD"
      },
      "source": [
        "Usaremos el tamaño del motor para crear un modelo sencillo para el precio del auto."
      ]
    },
    {
      "cell_type": "code",
      "metadata": {
        "colab_type": "code",
        "id": "WNitw1T7g4na",
        "colab": {}
      },
      "source": [
        "#separemos nuestros datos en features y label\n",
        "X = df['engine-size'].values.reshape(-1,1)\n",
        "y = df['price'].values.reshape(-1,1)"
      ],
      "execution_count": 0,
      "outputs": []
    },
    {
      "cell_type": "code",
      "metadata": {
        "colab_type": "code",
        "outputId": "3087bc48-fff0-477c-eb2a-f65424e94bd7",
        "id": "8F8kLuIHg4np",
        "colab": {
          "base_uri": "https://localhost:8080/",
          "height": 35
        }
      },
      "source": [
        "from sklearn.linear_model import LinearRegression\n",
        "from sklearn.model_selection import train_test_split\n",
        "import matplotlib.pyplot as plt\n",
        "\n",
        "X_train, X_test, y_train, y_test = train_test_split(X,y,test_size=0.2,random_state=3)\n",
        "\n",
        "linear  = LinearRegression(normalize=True)\n",
        "linear.fit(X_train,y_train)\n",
        "print('R2 =',linear.score(X_test,y_test))\n"
      ],
      "execution_count": 0,
      "outputs": [
        {
          "output_type": "stream",
          "text": [
            "R2 = 0.7735450111026795\n"
          ],
          "name": "stdout"
        }
      ]
    },
    {
      "cell_type": "code",
      "metadata": {
        "colab_type": "code",
        "outputId": "c76c1b2d-0628-4502-af42-010ff3d41030",
        "id": "BqwAKwPNg4oA",
        "colab": {
          "base_uri": "https://localhost:8080/",
          "height": 53
        }
      },
      "source": [
        "print('w1 =',linear.coef_)\n",
        "print('w0 =',linear.intercept_)"
      ],
      "execution_count": 0,
      "outputs": [
        {
          "output_type": "stream",
          "text": [
            "w1 = [[174.5482757]]\n",
            "w0 = [-8836.38107893]\n"
          ],
          "name": "stdout"
        }
      ]
    },
    {
      "cell_type": "code",
      "metadata": {
        "colab_type": "code",
        "outputId": "c2ba4888-339e-495e-ce39-c9805a16a458",
        "id": "4lITyMr1g4oR",
        "colab": {
          "base_uri": "https://localhost:8080/",
          "height": 283
        }
      },
      "source": [
        "y_pred = linear.predict(X_test)\n",
        "\n",
        "plt.scatter(X_test, y_test,  color='black',label=r'datos test')\n",
        "plt.scatter(X_train, y_train,  color='red',alpha=0.4,label=r'datos entrenamiento')\n",
        "plt.plot(X_test, y_pred, color='blue',label=r'predicción')\n",
        "plt.legend(loc='lower right')\n",
        "\n",
        "plt.xlabel(r'Engine size')\n",
        "plt.ylabel(r'Price')\n",
        "\n",
        "plt.show()"
      ],
      "execution_count": 0,
      "outputs": [
        {
          "output_type": "display_data",
          "data": {
            "image/png": "[encoded data removed]",
            "text/plain": [
              "<Figure size 432x288 with 1 Axes>"
            ]
          },
          "metadata": {
            "tags": []
          }
        }
      ]
    },
    {
      "cell_type": "markdown",
      "metadata": {
        "colab_type": "text",
        "id": "TVbP5qBgg4oe"
      },
      "source": [
        "\n",
        "## 4.2 Regresión lineal multiple\n",
        "<p><a name=\"multiple\"></a></p>\n"
      ]
    },
    {
      "cell_type": "markdown",
      "metadata": {
        "colab_type": "text",
        "id": "la39tOyrg4oh"
      },
      "source": [
        "Normalmente los problemas de ML no son tan simples y los datos están compuestos de muchos predictores. En éstos casos podemos usar también el algorítmo de regresión lineal, haciendo una extensión de la ecuación de la linea a más dimensiones:\n",
        "$$y=w_0+w_1x_1+w_2x_2+...+w_nx_n$$\n",
        "\n",
        "Donde $n$ será la cantidad de variables predictoras en nuestros datos y de nuevo $w_i$ será el **peso** del predictor $x_i$.\n",
        "\n",
        "En éstos casos ya no tendremos una línea si no un plano, o hiperplano como modelo."
      ]
    },
    {
      "cell_type": "markdown",
      "metadata": {
        "colab_type": "text",
        "id": "eFyAyoE_g4ol"
      },
      "source": [
        "Veamos un modelo 2D.\n",
        "\n",
        "Usemos ahora el tamaño del motor y el peso vacío como predictores del precio."
      ]
    },
    {
      "cell_type": "code",
      "metadata": {
        "colab_type": "code",
        "id": "H9C3yN6ng4os",
        "colab": {}
      },
      "source": [
        "X = df[['engine-size','curb-weight']]\n",
        "y = df['price']"
      ],
      "execution_count": 0,
      "outputs": []
    },
    {
      "cell_type": "code",
      "metadata": {
        "colab_type": "code",
        "outputId": "f99129f3-84ea-4a1c-fec7-d10cf9bdae53",
        "id": "b4G8LPuFg4pA",
        "colab": {
          "base_uri": "https://localhost:8080/",
          "height": 35
        }
      },
      "source": [
        "X_train, X_test, y_train, y_test = train_test_split(X,y,test_size=0.2,random_state=3)\n",
        "\n",
        "linearM  = LinearRegression(normalize=True)\n",
        "linearM.fit(X_train,y_train)\n",
        "print('R2 =',linearM.score(X_test,y_test))"
      ],
      "execution_count": 0,
      "outputs": [
        {
          "output_type": "stream",
          "text": [
            "R2 = 0.8138779449118414\n"
          ],
          "name": "stdout"
        }
      ]
    },
    {
      "cell_type": "code",
      "metadata": {
        "colab_type": "code",
        "outputId": "4f9fad46-b7c2-4976-ccc5-e716be7fd7f1",
        "id": "pzebQNWGg4pN",
        "colab": {
          "base_uri": "https://localhost:8080/",
          "height": 53
        }
      },
      "source": [
        "print('w1, w2 =',linearM.coef_)\n",
        "print('w0 =',linearM.intercept_)"
      ],
      "execution_count": 0,
      "outputs": [
        {
          "output_type": "stream",
          "text": [
            "w1, w2 = [117.18848596   4.97221762]\n",
            "w0 = -14334.771686602337\n"
          ],
          "name": "stdout"
        }
      ]
    },
    {
      "cell_type": "code",
      "metadata": {
        "colab_type": "code",
        "outputId": "a880a1d8-e07b-458f-9ff9-a8434024f495",
        "id": "Pc10JYeGg4pj",
        "colab": {
          "base_uri": "https://localhost:8080/",
          "height": 466
        }
      },
      "source": [
        "from mpl_toolkits.mplot3d import Axes3D\n",
        "\n",
        "xx,yy = np.meshgrid(X_test['engine-size'].values, X_test['curb-weight'].values)\n",
        "zz = linearM.intercept_+linearM.coef_[0]*xx+linearM.coef_[1]*yy\n",
        "\n",
        "sc = plt.figure(figsize=(8,8)).gca(projection='3d')\n",
        "sc.scatter(X_test['engine-size'], X_test['curb-weight'], y_test,label=r'datos test')\n",
        "sc.scatter(X_train['engine-size'], X_train['curb-weight'], y_train,label=r'datos entrenamiento')\n",
        "sc.plot_surface(xx, yy, zz, alpha=0.05)\n",
        "sc.legend()\n",
        "\n",
        "sc.view_init(elev=35, azim=30)\n",
        "sc.set_xlabel('Engine size')\n",
        "sc.set_ylabel('Curb weight')\n",
        "sc.set_zlabel('Price')\n",
        "plt.show()"
      ],
      "execution_count": 0,
      "outputs": [
        {
          "output_type": "display_data",
          "data": {
            "image/png": "[encoded data removed]",
            "text/plain": [
              "<Figure size 576x576 with 1 Axes>"
            ]
          },
          "metadata": {
            "tags": []
          }
        }
      ]
    },
    {
      "cell_type": "markdown",
      "metadata": {
        "colab_type": "text",
        "id": "X3r3ys1Og4p6"
      },
      "source": [
        "LinearRegression usa el método de mínimos cuadrados, ésto hace que los parámetros estimados dependan fuertemente de la independencia de las características.\n",
        "\n",
        "Cuando las columnas están fuertemente correlacionadas, llamado multicolinealidad,  el algorítmo de mínimos cuadrados es altamente sensible a variaciones aleatorias en la variable diana, haciendo que la varianza sea bastante grande.\n",
        "\n"
      ]
    },
    {
      "cell_type": "markdown",
      "metadata": {
        "colab_type": "text",
        "id": "4oAEk2Mug4p_"
      },
      "source": [
        "## 4.3 Otros estimadores lineales"
      ]
    },
    {
      "cell_type": "markdown",
      "metadata": {
        "colab_type": "text",
        "id": "q9UobvQAg4qD"
      },
      "source": [
        "Dado el problema de multicolinealidad del algorírmo de mínimos cuadrados podemos mencionar dos opciones que vienen implementadas también en sklearn:\n",
        "\n",
        "*   Regresión Ridge\n",
        "*   Regresión Lasso\n",
        "\n"
      ]
    },
    {
      "cell_type": "markdown",
      "metadata": {
        "id": "3N59YXM5Cq7t",
        "colab_type": "text"
      },
      "source": [
        "\n",
        "#### 4.3.1 Regresión Ridge\n",
        "<p><a name=\"ridge\"></a></p>\n",
        "\n",
        "En éste típo de algorítmo se impondrá una penalidad sobre los coeficientes calculados, de tal manera que se modificará el error de los mínimos cuadrados como:\n",
        "\n",
        "$$\\sum (Y_i-\\hat Y_i)^2+\\alpha \\sum w_i^2 $$\n",
        "\n",
        "\n",
        "El hiperparámetro $\\alpha$, llamado complejidad, controla qué tanto se penaliza los coeficientes, haciendo que éstos sean más pequeños y por tanto estabilizando las soluciones aunque a costa de una menor sesibilidad a los datos.\n",
        "\n"
      ]
    },
    {
      "cell_type": "markdown",
      "metadata": {
        "id": "6XYnP6-PSK9e",
        "colab_type": "text"
      },
      "source": [
        "Para comparar entrenemos un modelo LinearRegresor y uno Ridge con todos los datos"
      ]
    },
    {
      "cell_type": "code",
      "metadata": {
        "id": "LaRNw-BIO9Dv",
        "colab_type": "code",
        "colab": {}
      },
      "source": [
        "df.dropna(inplace=True)\n",
        "X = df[['symboling', 'normalized-losses', 'wheel-base', 'length',\n",
        "       'width', 'height', 'curb-weight',\n",
        "       'engine-size', 'bore', 'stroke', 'compression-ratio',\n",
        "       'horsepower', 'peak-rpm', 'city-mpg', 'highway-mpg',\n",
        "       'city-L/100km',  'diesel', 'gas']]\n",
        "y = df['price']"
      ],
      "execution_count": 0,
      "outputs": []
    },
    {
      "cell_type": "code",
      "metadata": {
        "id": "s8UW-ctON4WJ",
        "colab_type": "code",
        "outputId": "da4fd3a6-65b3-4eb9-b3cc-9f8eb9eecd8b",
        "colab": {
          "base_uri": "https://localhost:8080/",
          "height": 287
        }
      },
      "source": [
        "from sklearn.linear_model import Ridge\n",
        "\n",
        "X_train, X_test, y_train, y_test = train_test_split(X,y,test_size=0.2,random_state=3)\n",
        "\n",
        "#modelo OLS\n",
        "linearM  = LinearRegression(normalize=True)\n",
        "linearM.fit(X_train,y_train)\n",
        "print('R2 OLS =',linearM.score(X_test,y_test))\n",
        "print('wi OLS =',linearM.coef_)\n",
        "print('w0 OLS =',linearM.intercept_)\n",
        "\n",
        "#Modelo Ridge\n",
        "print(5*'#')\n",
        "ridge  = Ridge(alpha=1,normalize=True)\n",
        "ridge.fit(X_train,y_train)\n",
        "print('R2 Ridge =',ridge.score(X_test,y_test))\n",
        "print('wi Ridge =',ridge.coef_)\n",
        "print('w0 Ridge =',ridge.intercept_)"
      ],
      "execution_count": 0,
      "outputs": [
        {
          "output_type": "stream",
          "text": [
            "R2 OLS = 0.8435359669008109\n",
            "wi OLS = [ 3.21614312e+01 -1.03220246e+01  1.41118840e+02 -2.23572818e+04\n",
            "  4.32821190e+04  1.74105227e+02 -1.52039826e-01  1.11924260e+02\n",
            " -9.95886066e+01 -2.85373944e+03  6.92164686e+02  2.32587030e+01\n",
            "  1.80134818e+00  2.27747260e+01  2.17008482e+02  1.52150525e+03\n",
            " -1.84019329e+03  1.84019329e+03]\n",
            "w0 OLS = -76507.00943884654\n",
            "#####\n",
            "R2 Ridge = 0.7133951662369991\n",
            "wi Ridge = [ 7.37216191e+01 -3.83731882e-01  6.53044658e+01  5.87166942e+03\n",
            "  2.54199023e+04  2.68756816e+01  1.45468267e+00  3.67838020e+01\n",
            "  1.19095810e+03 -4.71217393e+02  8.08538699e+01  2.89763652e+01\n",
            "  3.06326189e-01 -5.65004684e+01 -5.56486013e+01  3.61066213e+02\n",
            "  8.67411260e+02 -8.67411260e+02]\n",
            "w0 Ridge = -38835.23676298204\n"
          ],
          "name": "stdout"
        }
      ]
    },
    {
      "cell_type": "code",
      "metadata": {
        "id": "u4QF7mJQXCLq",
        "colab_type": "code",
        "outputId": "86950fc4-80c4-48f1-82a9-c28ce55fc978",
        "colab": {
          "base_uri": "https://localhost:8080/",
          "height": 283
        }
      },
      "source": [
        "plt.figure()\n",
        "plt.plot(ridge.coef_,'r.-',label=r'Coeficientes Ridge')\n",
        "plt.plot(linearM.coef_,'b*',label=r'Coeficientes OLS')\n",
        "plt.legend()\n",
        "plt.xlabel(r'Coeficiente')\n",
        "plt.show()"
      ],
      "execution_count": 0,
      "outputs": [
        {
          "output_type": "display_data",
          "data": {
            "image/png": "[encoded data removed]",
            "text/plain": [
              "<Figure size 432x288 with 1 Axes>"
            ]
          },
          "metadata": {
            "tags": []
          }
        }
      ]
    },
    {
      "cell_type": "markdown",
      "metadata": {
        "id": "pAuu5y2PTbDE",
        "colab_type": "text"
      },
      "source": [
        "Vemos que en el caso del dataset para autos con un valor de $\\alpha = 1$ se nota una pequeña variación en los parámetros y la precisión del modelo.\n",
        "\n",
        "El modelo se hace robusto a variaciones de los predictores, pero puerde un poco de precisión (se necesitan más datos para entrenamiento)\n",
        "\n",
        "En general el hiperparámetro $\\alpha$ debe ser  buscado con varios experimentos."
      ]
    },
    {
      "cell_type": "markdown",
      "metadata": {
        "id": "8eQq2bxZZGA0",
        "colab_type": "text"
      },
      "source": [
        "\n",
        "#### 4.3.2 Regresión Lasso\n",
        "<p><a name=\"lasso\"></a></p>"
      ]
    },
    {
      "cell_type": "markdown",
      "metadata": {
        "id": "McFBYtFpZQJK",
        "colab_type": "text"
      },
      "source": [
        "Al igual que el algorítmo Ridge, Lasso impone una penalidad sobre la función de error del OLS, pero ésta en cambio está dada por el valor absoluto de los coeficientes, así:\n",
        "$$\\sum (Y_i-\\hat Y_i)^2+\\alpha \\sum |w_i|$$\n",
        "\n",
        "Esto hace que a diferencia de Ridge que buscaba hacer pequeños los valores de algunos $w_i$, Lasso fuerza a que sean 0.\n",
        "\n",
        "Así, puede decirse que Ridge es bueno cuando esperamos que todos los predictores tengan una influencia sobre el predictor así sea pequeña, mientras que Lasso se usará cuando esperamos que el numero de predictores relevantes sea pequeño (predictores con peso diferente de 0)."
      ]
    },
    {
      "cell_type": "markdown",
      "metadata": {
        "id": "m6AFGzbGao2p",
        "colab_type": "text"
      },
      "source": [
        "Para implementar una regresión tipo Lasso se sigue el mismo esquema de los casos anteriores."
      ]
    },
    {
      "cell_type": "code",
      "metadata": {
        "id": "KqNbFWnAb2we",
        "colab_type": "code",
        "outputId": "be177dd1-96d4-4662-f2fa-e146c6fda3c4",
        "colab": {
          "base_uri": "https://localhost:8080/",
          "height": 143
        }
      },
      "source": [
        "from sklearn.linear_model import Lasso\n",
        "\n",
        "#modelo Lasso\n",
        "lasso  = Lasso(alpha=10,normalize=True)\n",
        "lasso.fit(X_train,y_train)\n",
        "print('R2 Lasso =',lasso.score(X_test,y_test))\n",
        "print('wi Lasso =',lasso.coef_)\n",
        "print('w0 Lasso =',lasso.intercept_)"
      ],
      "execution_count": 0,
      "outputs": [
        {
          "output_type": "stream",
          "text": [
            "R2 Lasso = 0.8360932068188104\n",
            "wi Lasso = [-0.00000000e+00 -3.19883868e+00  0.00000000e+00 -0.00000000e+00\n",
            "  3.43182211e+04  1.19391461e+02  0.00000000e+00  1.20148466e+02\n",
            " -0.00000000e+00 -2.49132114e+03  3.08466036e+02  2.00496318e+01\n",
            "  1.51785391e+00  0.00000000e+00  0.00000000e+00  5.19565705e+02\n",
            "  0.00000000e+00 -0.00000000e+00]\n",
            "w0 Lasso = -49559.07715934429\n"
          ],
          "name": "stdout"
        }
      ]
    },
    {
      "cell_type": "code",
      "metadata": {
        "id": "OWvDHtaIcVBT",
        "colab_type": "code",
        "outputId": "940a86e4-cf67-4b44-c7f0-1c30a02d8203",
        "colab": {
          "base_uri": "https://localhost:8080/",
          "height": 283
        }
      },
      "source": [
        "plt.figure()\n",
        "plt.plot(lasso.coef_,'r.-',label=r'Coeficientes Lasso')\n",
        "plt.plot(linearM.coef_,'b*',label=r'Coeficientes OLS')\n",
        "plt.plot(ridge.coef_,'g*',label=r'Coeficientes Ridge')\n",
        "plt.legend()\n",
        "plt.xlabel(r'Coeficiente')\n",
        "plt.show()"
      ],
      "execution_count": 0,
      "outputs": [
        {
          "output_type": "display_data",
          "data": {
            "image/png": "[encoded data removed]",
            "text/plain": [
              "<Figure size 432x288 with 1 Axes>"
            ]
          },
          "metadata": {
            "tags": []
          }
        }
      ]
    },
    {
      "cell_type": "code",
      "metadata": {
        "id": "L7SNd4NIdKGS",
        "colab_type": "code",
        "outputId": "0e560d71-de37-4b07-d187-8c39cbf70638",
        "colab": {
          "base_uri": "https://localhost:8080/",
          "height": 71
        }
      },
      "source": [
        "print('numero de coeficientes:',len(linearM.coef_))\n",
        "print('numero de coeficientes diferentes a cero para Ridge:',len(ridge.coef_[ridge.coef_!=0]))\n",
        "print('numero de coeficientes diferentes a cero para Lasso:',len(lasso.coef_[lasso.coef_!=0]))"
      ],
      "execution_count": 0,
      "outputs": [
        {
          "output_type": "stream",
          "text": [
            "numero de coeficientes: 18\n",
            "numero de coeficientes diferentes a cero para Ridge: 18\n",
            "numero de coeficientes diferentes a cero para Lasso: 9\n"
          ],
          "name": "stdout"
        }
      ]
    },
    {
      "cell_type": "markdown",
      "metadata": {
        "id": "S6he5Hx7dy56",
        "colab_type": "text"
      },
      "source": [
        "Como vemos, Lasso ha disminuído el número de coeficientes mientras que Ridge no lo hace.\n",
        "\n",
        "La elección entre éstos 3 tipos de regresión lineal depende fuertemente de nuestro dataset (sus correlaciones), nuestro conocimiento del campo (relaciones esperadas de las variables predictoras y la variable diana) y nuestras necesidades computacionales."
      ]
    },
    {
      "cell_type": "markdown",
      "metadata": {
        "id": "BlalQm636IAI",
        "colab_type": "text"
      },
      "source": [
        "<p><a name=\"taller\"></a></p>\n",
        "\n",
        "# 5. Taller\n",
        "\n",
        "[Contenidos](#contents) \n",
        "\n",
        "Analizar la tres regresiones lineales vistas en clase y ver la afectación de los resultados al implementar la normalización y la regularización con el parámetro $\\alpha$"
      ]
    },
    {
      "cell_type": "markdown",
      "metadata": {
        "id": "qU41Rq0E8KoM",
        "colab_type": "text"
      },
      "source": [
        "## Pregunta 1\n",
        "\n",
        "Cargar el dataset de autos, eliminar las filas con valores nulos y dejar solo las columnas con variables numéricas"
      ]
    },
    {
      "cell_type": "markdown",
      "metadata": {
        "id": "sCbQnD0JAqO-",
        "colab_type": "text"
      },
      "source": [
        "Hacer doble click <b>aquí</b> para ver la solución:\n",
        "\n",
        "<!-- Respuesta:\n",
        "\n",
        "import pandas as pd\n",
        "import numpy as np\n",
        "\n",
        "archivo = 'https://s3-api.us-geo.objectstorage.softlayer.net/cf-courses-data/CognitiveClass/DA0101EN/automobileEDA.csv'\n",
        "df = pd.read_csv(archivo)\n",
        "\n",
        "df.dropna(inplace=True)\n",
        "dfNum=df[df.columns[df.dtypes=='float64']]\n",
        "\n",
        "--->"
      ]
    },
    {
      "cell_type": "markdown",
      "metadata": {
        "id": "pZgt73LO8Sdl",
        "colab_type": "text"
      },
      "source": [
        "## Pregunta 2\n",
        "\n",
        "Definir la variable a predecir $y$ como el precio y la matriz de características $X$ con el resto de variables numéricas"
      ]
    },
    {
      "cell_type": "markdown",
      "metadata": {
        "id": "Dt4CbOq5AxCg",
        "colab_type": "text"
      },
      "source": [
        "Hacer doble click <b>aquí</b> para ver la solución:\n",
        "\n",
        "<!-- Respuesta:\n",
        "\n",
        "y=dfNum['price']\n",
        "X=dfNum.loc[:, dfNum.columns != 'price']\n",
        "\n",
        "\n",
        "--->"
      ]
    },
    {
      "cell_type": "markdown",
      "metadata": {
        "id": "RY6Vkcaj7ako",
        "colab_type": "text"
      },
      "source": [
        "## Pregunta 3\n",
        "\n",
        "Separar el dataset de cancer en los subsets de entrenamiento (train) y prueba (test).\n"
      ]
    },
    {
      "cell_type": "markdown",
      "metadata": {
        "id": "fEtYZIhmA1Kn",
        "colab_type": "text"
      },
      "source": [
        "Hacer doble click <b>aquí</b> para ver la solución:\n",
        "\n",
        "<!-- Respuesta:\n",
        "\n",
        "from sklearn.model_selection import train_test_split\n",
        "X_train, X_test, y_train, y_test = train_test_split(X, y,\n",
        "                                                   random_state = 0)\n",
        "\n",
        "\n",
        "--->"
      ]
    },
    {
      "cell_type": "markdown",
      "metadata": {
        "id": "NrMEBpRe75P2",
        "colab_type": "text"
      },
      "source": [
        "## Pregunta 4\n",
        "\n",
        "Hacer una regresión por mínimos cuadrados y calcular el intercepto, los coeficientes y los score de entrenamiento y prueba  "
      ]
    },
    {
      "cell_type": "markdown",
      "metadata": {
        "id": "pTs84nVjA23Y",
        "colab_type": "text"
      },
      "source": [
        "Hacer doble click <b>aquí</b> para ver la solución:\n",
        "\n",
        "<!-- Respuesta:\n",
        "\n",
        "from sklearn.linear_model import LinearRegression\n",
        "\n",
        "linreg = LinearRegression().fit(X_train, y_train)\n",
        "\n",
        "print('Autos dataset')\n",
        "print('linear model intercept: {}'\n",
        "     .format(linreg.intercept_))\n",
        "print('linear model coeff:\\n{}'\n",
        "     .format(linreg.coef_))\n",
        "print('R-squared score (training): {:.3f}'\n",
        "     .format(linreg.score(X_train, y_train)))\n",
        "print('R-squared score (test): {:.3f}'\n",
        "     .format(linreg.score(X_test, y_test)))\n",
        "\n",
        "\n",
        "--->"
      ]
    },
    {
      "cell_type": "markdown",
      "metadata": {
        "id": "tlK4Lc965kb9",
        "colab_type": "text"
      },
      "source": [
        "## Pregunta 5\n",
        "\n",
        "Hacer una regresión de Ridge y calcular el intercepto, los coeficientes, los score de entrenamiento y prueba. "
      ]
    },
    {
      "cell_type": "markdown",
      "metadata": {
        "id": "tjyv73-_A5Em",
        "colab_type": "text"
      },
      "source": [
        "Hacer doble click <b>aquí</b> para ver la solución:\n",
        "\n",
        "<!-- Respuesta:\n",
        "\n",
        "\n",
        "from sklearn.linear_model import Ridge\n",
        "\n",
        "\n",
        "linridge = Ridge(alpha=20.0).fit(X_train, y_train)\n",
        "\n",
        "print('Autos dataset')\n",
        "print('ridge regression linear model intercept: {}'\n",
        "     .format(linridge.intercept_))\n",
        "print('ridge regression linear model coeff:\\n{}'\n",
        "     .format(linridge.coef_))\n",
        "print('R-squared score (training): {:.3f}'\n",
        "     .format(linridge.score(X_train, y_train)))\n",
        "print('R-squared score (test): {:.3f}'\n",
        "     .format(linridge.score(X_test, y_test)))\n",
        "print('Number of non-zero features: {}'\n",
        "     .format(np.sum(linridge.coef_ != 0)))\n",
        "\n",
        "--->"
      ]
    },
    {
      "cell_type": "markdown",
      "metadata": {
        "id": "-JX9Tg3_5qK0",
        "colab_type": "text"
      },
      "source": [
        "## Pregunta 6\n",
        "\n",
        "Hacer normalización de los datos e la misma regresión de Ridge anterior y obtener las mismas métricas."
      ]
    },
    {
      "cell_type": "markdown",
      "metadata": {
        "id": "6cB1ukizA6kv",
        "colab_type": "text"
      },
      "source": [
        "Hacer doble click <b>aquí</b> para ver la solución:\n",
        "\n",
        "<!-- Respuesta:\n",
        "\n",
        "from sklearn.preprocessing import MinMaxScaler\n",
        "scaler = MinMaxScaler()\n",
        "\n",
        "from sklearn.linear_model import Ridge\n",
        "\n",
        "\n",
        "X_train_scaled = scaler.fit_transform(X_train)\n",
        "X_test_scaled = scaler.transform(X_test)\n",
        "\n",
        "linridge = Ridge(alpha=20.0).fit(X_train_scaled, y_train)\n",
        "\n",
        "print('Autos dataset')\n",
        "print('ridge regression linear model intercept: {}'\n",
        "     .format(linridge.intercept_))\n",
        "print('ridge regression linear model coeff:\\n{}'\n",
        "     .format(linridge.coef_))\n",
        "print('R-squared score (training): {:.3f}'\n",
        "     .format(linridge.score(X_train_scaled, y_train)))\n",
        "print('R-squared score (test): {:.3f}'\n",
        "     .format(linridge.score(X_test_scaled, y_test)))\n",
        "print('Number of non-zero features: {}'\n",
        "     .format(np.sum(linridge.coef_ != 0)))\n",
        "\n",
        "\n",
        "--->"
      ]
    },
    {
      "cell_type": "markdown",
      "metadata": {
        "id": "l-oSRD125vv2",
        "colab_type": "text"
      },
      "source": [
        "## Pregunta 7\n",
        "\n",
        "Implementar la regresión de Ridge con las variables escaldas para los siguientes valores del parámetro de regularización $\\alpha=[0, 1, 10, 20, 50, 100, 1000]$"
      ]
    },
    {
      "cell_type": "markdown",
      "metadata": {
        "id": "fqefzkWxA8Mt",
        "colab_type": "text"
      },
      "source": [
        "Hacer doble click <b>aquí</b> para ver la solución:\n",
        "\n",
        "<!-- Respuesta:\n",
        "\n",
        "print('Ridge regression: effect of alpha regularization parameter\\n')\n",
        "for this_alpha in [0, 1, 10, 20, 50, 100, 1000]:\n",
        "    linridge = Ridge(alpha = this_alpha).fit(X_train_scaled, y_train)\n",
        "    r2_train = linridge.score(X_train_scaled, y_train)\n",
        "    r2_test = linridge.score(X_test_scaled, y_test)\n",
        "    num_coeff_bigger = np.sum(abs(linridge.coef_) > 1.0)\n",
        "    print('Alpha = {:.2f}\\nnum abs(coeff) > 1.0: {}, \\\n",
        "r-squared training: {:.2f}, r-squared test: {:.2f}\\n'\n",
        "         .format(this_alpha, num_coeff_bigger, r2_train, r2_test))\n",
        "\n",
        "\n",
        "--->"
      ]
    },
    {
      "cell_type": "markdown",
      "metadata": {
        "id": "dp4H020451DZ",
        "colab_type": "text"
      },
      "source": [
        "## Pregunta 8\n",
        "\n",
        "Realizar los mismos calculos de las preguntas 5-7 pero esta vez para la regresión de Lasso"
      ]
    },
    {
      "cell_type": "markdown",
      "metadata": {
        "id": "Qk0svOTZA9Ym",
        "colab_type": "text"
      },
      "source": [
        "Hacer doble click <b>aquí</b> para ver la solución:\n",
        "\n",
        "<!-- Respuesta:\n",
        "\n",
        "from sklearn.linear_model import Lasso\n",
        "from sklearn.preprocessing import MinMaxScaler\n",
        "scaler = MinMaxScaler()\n",
        "\n",
        "\n",
        "\n",
        "X_train_scaled = scaler.fit_transform(X_train)\n",
        "X_test_scaled = scaler.transform(X_test)\n",
        "\n",
        "linlasso = Lasso(alpha=2.0, max_iter = 10000).fit(X_train_scaled, y_train)\n",
        "\n",
        "print('Autos dataset')\n",
        "print('lasso regression linear model intercept: {}'\n",
        "     .format(linlasso.intercept_))\n",
        "print('lasso regression linear model coeff:\\n{}'\n",
        "     .format(linlasso.coef_))\n",
        "print('Non-zero features: {}'\n",
        "     .format(np.sum(linlasso.coef_ != 0)))\n",
        "print('R-squared score (training): {:.3f}'\n",
        "     .format(linlasso.score(X_train_scaled, y_train)))\n",
        "print('R-squared score (test): {:.3f}\\n'\n",
        "     .format(linlasso.score(X_test_scaled, y_test)))\n",
        "print('Features with non-zero weight (sorted by absolute magnitude):')\n",
        "\n",
        "for e in sorted (list(zip(list(X), linlasso.coef_)),\n",
        "                key = lambda e: -abs(e[1])):\n",
        "    if e[1] != 0:\n",
        "        print('\\t{}, {:.3f}'.format(e[0], e[1]))\n",
        "\n",
        "\n",
        "print('Lasso regression: effect of alpha regularization\\n\\\n",
        "parameter on number of features kept in final model\\n')\n",
        "\n",
        "for alpha in [0.5, 1, 2, 3, 5, 10, 20, 50]:\n",
        "    linlasso = Lasso(alpha, max_iter = 10000).fit(X_train_scaled, y_train)\n",
        "    r2_train = linlasso.score(X_train_scaled, y_train)\n",
        "    r2_test = linlasso.score(X_test_scaled, y_test)\n",
        "    \n",
        "    print('Alpha = {:.2f}\\nFeatures kept: {}, r-squared training: {:.2f}, \\\n",
        "r-squared test: {:.2f}\\n'\n",
        "         .format(alpha, np.sum(linlasso.coef_ != 0), r2_train, r2_test))\n",
        "\n",
        "\n",
        "--->"
      ]
    }
  ]
}