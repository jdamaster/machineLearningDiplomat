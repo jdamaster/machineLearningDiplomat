{
  "nbformat": 4,
  "nbformat_minor": 0,
  "metadata": {
    "colab": {
      "name": "s02_Introduccion a python, numpy, pandas y matplotlib.ipynb",
      "provenance": [],
      "collapsed_sections": [],
      "include_colab_link": true
    },
    "kernelspec": {
      "name": "python3",
      "display_name": "Python 3"
    },
    "accelerator": "GPU"
  },
  "cells": [
    {
      "cell_type": "markdown",
      "metadata": {
        "id": "view-in-github",
        "colab_type": "text"
      },
      "source": [
        "<a href=\"https://colab.research.google.com/github/jdamaster/machineLearningDiplomat/blob/master/s02_Introduccion_a_python%2C_numpy%2C_pandas_y_matplotlib.ipynb\" target=\"_parent\"><img src=\"https://colab.research.google.com/assets/colab-badge.svg\" alt=\"Open In Colab\"/></a>"
      ]
    },
    {
      "cell_type": "markdown",
      "metadata": {
        "id": "mtEzBLXfdP4q",
        "colab_type": "text"
      },
      "source": [
        "\n",
        "<p><img alt=\"Colaboratory logo\" height=\"140px\" src=\"https://upload.wikimedia.org/wikipedia/commons/archive/f/fb/20161010213812%21Escudo-UdeA.svg\" align=\"left\" hspace=\"10px\" vspace=\"0px\"></p>\n",
        "\n",
        "<h1> Diplomado de Análisis de datos y Machine Learning en Python</h1>\n",
        "\n",
        "\n",
        "El presente diplomado hace parte del centro de Big Data de la facultad de ciencias exactas y naturales (FCEN) de la Universidad de Antioquia."
      ]
    },
    {
      "cell_type": "markdown",
      "metadata": {
        "id": "sYkr79uu_Lp-",
        "colab_type": "text"
      },
      "source": [
        "## More Resources\n",
        "\n",
        "Learn how to make the most of Python, Jupyter, Colaboratory, and related tools with these resources:\n",
        "\n",
        "### Working with Notebooks in Colaboratory\n",
        "- [Overview of Colaboratory](/notebooks/basic_features_overview.ipynb)\n",
        "- [Guide to Markdown](/notebooks/markdown_guide.ipynb)\n",
        "- [Importing libraries and installing dependencies](/notebooks/snippets/importing_libraries.ipynb)\n",
        "- [Saving and loading notebooks in GitHub](https://colab.research.google.com/github/googlecolab/colabtools/blob/master/notebooks/colab-github-demo.ipynb)\n",
        "- [Interactive forms](/notebooks/forms.ipynb)\n",
        "- [Interactive widgets](/notebooks/widgets.ipynb)\n",
        "\n",
        "### Working with Data\n",
        "- [Loading data: Drive, Sheets, and Google Cloud Storage](/notebooks/io.ipynb) \n",
        "- [Charts: visualizing data](/notebooks/charts.ipynb)\n",
        "- [Getting started with BigQuery](/notebooks/bigquery.ipynb)\n",
        "\n",
        "### Machine Learning Crash Course\n",
        "These are a few of the notebooks from Google's online Machine Learning course. See the [full course website](https://developers.google.com/machine-learning/crash-course/) for more.\n",
        "- [Intro to Pandas](/notebooks/mlcc/intro_to_pandas.ipynb)\n",
        "- [Tensorflow concepts](/notebooks/mlcc/tensorflow_programming_concepts.ipynb)\n",
        "- [First steps with TensorFlow](/notebooks/mlcc/first_steps_with_tensor_flow.ipynb)\n",
        "- [Intro to neural nets](/notebooks/mlcc/intro_to_neural_nets.ipynb)\n",
        "- [Intro to sparse data and embeddings](/notebooks/mlcc/intro_to_sparse_data_and_embeddings.ipynb)\n",
        "\n",
        "### Using Accelerated Hardware\n",
        "- [TensorFlow with GPUs](/notebooks/gpu.ipynb)\n",
        "- [TensorFlow with TPUs](/notebooks/tpu.ipynb)"
      ]
    },
    {
      "cell_type": "markdown",
      "metadata": {
        "id": "SW9cZkhEdn7N",
        "colab_type": "text"
      },
      "source": [
        "<p><a name=\"contents\"></a></p>\n",
        "\n",
        "# Contenido Sesión 2\n",
        "\n",
        "- <a href=\"#libs\">1. Librerías en Python.\n",
        "   - <a href=\"#ilbintro\">1.1 Introducción</a><br>\n",
        "- <a href=\"#numpy\">2. Numpy</a><br>\n",
        "   - <a href=\"#arrays\">2.1. Arrays</a><br>\n",
        "   - <a href=\"#dataType\">2.2. Tipos de datos</a><br>\n",
        "   - <a href=\"#arraysBAS\">2.3. Manipulación de los arrays</a><br>\n",
        "    - <a href=\"#arraysATT\">2.3.1. Atributos </a><br>\n",
        "    - <a href=\"#arraysIDX\">2.3.2. Indexado </a><br>\n",
        "    - <a href=\"#arraysSLI\">2.3.3. Segmentación </a><br>\n",
        "    - <a href=\"#arraysRES\">2.3.4. Reshape</a><br>\n",
        "    - <a href=\"#arraysCON\">2.3.5. Concatenación y división</a><br>\n",
        "   - <a href=\"#arrayMath\">2.4. Operaciones entre arrays</a><br>\n",
        "   - <a href=\"#bcasting\">2.5. Broadcasting</a><br>\n",
        "   - <a href=\"#tnumpy\">2.6. Taller numpy</a><br>\n",
        "- <a href=\"#matplotlib\">3. Matplotlib</a><br>\n",
        "  - <a href=\"#mpylab\">3.1 matplotlib, pyplot y pylab </a><br>\n",
        "  - <a href=\"#plotfunc\">3.2 Función `plot` </a><br>\n",
        "  - <a href=\"#catVars\">3.3 Gráficas de varibles categóricas </a><br>\n",
        "  - <a href=\"#scatterPlots\">3.4 Gráficos de dispersión </a><br>\n",
        "  - <a href=\"#tmatplotlib\">3.5 Taller `matplotlib` </a><br>\n",
        "- <a href=\"#pandas\">4. Pandas</a><br>\n",
        " - <a href=\"#ipandas\">4.1 Introducción a `pandas` </a><br>\n",
        " - <a href=\"#visu\">4.2 Visualización del dataFrame </a><br>\n",
        " - <a href=\"#internet\">4.3 Carga de una base de datos de internet </a><br>\n",
        " - <a href=\"#dataExploration\">4.4 Exploración básica del dataFrame </a><br>\n",
        " - <a href=\"#timeSeries\">4.5 Series de tiempo </a><br>\n",
        " - <a href=\"#tpandas\">4.6 Taller `pandas` </a><br>\n"
      ]
    },
    {
      "cell_type": "markdown",
      "metadata": {
        "id": "1P7kbSzrjJsk",
        "colab_type": "text"
      },
      "source": [
        "<p><a name=\"libs\"></a></p>\n",
        "\n",
        "# Librerías en Python\n",
        "\n",
        "[[Contenidos]](#contents)\n",
        "\n",
        "En Python, una libreria es una colección de funciones y métodos que nos permiten realizar varias acciones sin la necesidad de programarlas explicitamente. Las librerias suelen contener módulos integrados que proporcionan diferentes funcionalidades que pueden ser usadas directamente. \n",
        "\n",
        "Existen varias librerías extensas con un amplio rango de opciones. Podemos dividir estas librerías en tres grandes grupos:\n",
        "\n",
        "\n",
        "\n",
        "1.   Librerías de computación científica: [numPy](https://numpy.org/), [pandas](https://pandas.pydata.org/) y [SciPy](https://www.scipy.org/)\n",
        "2.   Librerías de visualización: [matplotlib](https://matplotlib.org/) y [seaborn](https://seaborn.pydata.org/).\n",
        "3.   Librerías de algoritmos: [Skir-learn](https://scikit-learn.org/stable/) y [Statsmodels](https://www.statsmodels.org/stable/index.html#).\n",
        "\n",
        "En lo que respecta a la **sección 2** nos centraremos en las librerías cientificas y de visualización de numPy, pandas y matplotlib.\n",
        "\n"
      ]
    },
    {
      "cell_type": "markdown",
      "metadata": {
        "id": "hn__DFsalOfa",
        "colab_type": "text"
      },
      "source": [
        "<p><a name=\"numpy\"></a></p>\n",
        "\n",
        "# 2. Numpy\n",
        "\n",
        "[[Contenidos]](#contents)\n",
        "\n",
        "\n",
        "Numpy es la librería central para el computo científico en Python. Esta librería proporciona objetos matriciales multidimensionales de alto desempeño, además de herramientas para trabajar con estos arreglos. Para quienes estén familiarizados con el algebra lineal encontrarán este tutorial útil para empezar a trabajar con Numpy."
      ]
    },
    {
      "cell_type": "code",
      "metadata": {
        "id": "Q2JaOEXgoV5b",
        "colab_type": "code",
        "colab": {}
      },
      "source": [
        "#importación de numpy\n",
        "\n",
        "import numpy as np"
      ],
      "execution_count": 0,
      "outputs": []
    },
    {
      "cell_type": "markdown",
      "metadata": {
        "id": "HB-jNF1wzG3a",
        "colab_type": "text"
      },
      "source": [
        "<p><a name=\"arrays\"></a></p>\n",
        "\n",
        "## 2.1. Arrays\n",
        "\n",
        "[[Contenidos]](#contents)\n",
        "\n",
        "\n",
        "Un array en numpy es un grid de valores, del mismo tipo, los cuales son indexados por una tupla de enteros no negativos. El número de dimensiones es el rango de la matriz; la forma de la matríz es una tupla de enteros dados por el tamaño del array a lo largo de cada dimensión.\n",
        "\n",
        "\n",
        "\n",
        "Podemos inicializar los arrays de numpy mediante listas de Python y acceder a los elementos mediante corchetes `[]`\n"
      ]
    },
    {
      "cell_type": "code",
      "metadata": {
        "id": "ApzNyesGoQBf",
        "colab_type": "code",
        "outputId": "f1a28652-8fd7-4c7b-bf23-faaf135cb524",
        "colab": {
          "base_uri": "https://localhost:8080/",
          "height": 68
        }
      },
      "source": [
        "a=np.array([0,1,2,3]) # Creación de un array de rango 1\n",
        "print(type(a))      # Impresión del tipo\n",
        "print(a.shape)      # impresión de la dimensión \"(4,)\"\n",
        "list(a)"
      ],
      "execution_count": 0,
      "outputs": [
        {
          "output_type": "stream",
          "text": [
            "<class 'numpy.ndarray'>\n",
            "(4,)\n"
          ],
          "name": "stdout"
        },
        {
          "output_type": "execute_result",
          "data": {
            "text/plain": [
              "[0, 1, 2, 3]"
            ]
          },
          "metadata": {
            "tags": []
          },
          "execution_count": 3
        }
      ]
    },
    {
      "cell_type": "markdown",
      "metadata": {
        "id": "FoS8S0qAOu0-",
        "colab_type": "text"
      },
      "source": [
        "También se puede crear en numpy un array de dos dimensiones, como una lista de listas:"
      ]
    },
    {
      "cell_type": "code",
      "metadata": {
        "id": "zoG2Ng9hOHfp",
        "colab_type": "code",
        "outputId": "95757cc6-808d-4c9f-f241-5862088e493c",
        "colab": {
          "base_uri": "https://localhost:8080/",
          "height": 51
        }
      },
      "source": [
        "b = np.array([[0,1,2,3],[4,5,6,7]])    # Creación de un array de rango 2\n",
        "print(b.shape)                     # Impresión de las dimensiones \"(2, 4)\"\n",
        "print(b[0, 0], b[0, 1], b[1, 0])   # Impresión de los elementos 0, 1 y 4"
      ],
      "execution_count": 0,
      "outputs": [
        {
          "output_type": "stream",
          "text": [
            "(2, 4)\n",
            "0 1 4\n"
          ],
          "name": "stdout"
        }
      ]
    },
    {
      "cell_type": "markdown",
      "metadata": {
        "id": "wLi3SWmkO3cn",
        "colab_type": "text"
      },
      "source": [
        "Numpy proporciona varias funciones para la creación de arrays:\n"
      ]
    },
    {
      "cell_type": "code",
      "metadata": {
        "id": "REDIJWb_QdfC",
        "colab_type": "code",
        "outputId": "d61f8b12-45bd-4074-97dd-dad4c91351f9",
        "colab": {
          "base_uri": "https://localhost:8080/",
          "height": 326
        }
      },
      "source": [
        "a = np.zeros((2,2))                        # Creación de un array de zeros\n",
        "print(\"Array de ceros\", a)                 # Imprime \"[[ 0.  0.]\n",
        "                                           #          [ 0.  0.]]\"\n",
        "\n",
        "b = np.ones((1,2))                         # Creación de un array de unos\n",
        "print(\"Arrays de unos\", b)                 # Imprime \"[[ 1.  1.]]\"\n",
        "\n",
        "c = np.full((2,2), 8)                      # Creación de un array de una costante\n",
        "print(\"Array constante\", c)                # Imprime \"[[ 8.  8.]\n",
        "                                           #          [ 8.  8.]]\"\n",
        "\n",
        "d = np.eye(2)                              # Creación de la matriz indentidad de 2x2.\n",
        "print(\"Matriz identidad 2x2\", d)           # Imprime \"[[ 1.  0.]\n",
        "                                           #          [ 0.  1.]]\"\n",
        "\n",
        "e = np.arange(0, 20, 2)                    # Creación de un vector lleno de una secuencia lineal\n",
        "print(\"Array de una secuencia lineal\" ,e)  # que comience en 0, finalice en 18, con paso 2.\n",
        "\n",
        "\n",
        "f = np.linspace(0, 1, 5)                   # Crea un vector de cinco valores espaciados \n",
        "print(\"Array de una secuencia lineal2\",f)  # uniformemente entre 0 y 1.   \n",
        "\n",
        "\n",
        "g = np.random.random((2,2))                # Creación de una matriz de 2x2 de valores aleatorios.\n",
        "print(\"Array de números aleatorios(u)\", g) # distribuidos uniformemente.\n",
        "\n",
        "\n",
        "h = np.random.normal(0, 1, (3, 3))         # Creación una matriz 3x3 de valores aleatorios normalmente \n",
        "print(\"Array de números aleatorios(n)\", h) # distribuidos con media 0 y desviación estándar 1.\n",
        "\n",
        "\n",
        "i = np.random.randint(0, 10, (3, 3))       # Creación de una matriz 3x3 de números enteros aleatorios\n",
        "print(\"Array de números aleatorios(i)\",i)  # en el intervalo [0,10)\n"
      ],
      "execution_count": 0,
      "outputs": [
        {
          "output_type": "stream",
          "text": [
            "Array de ceros [[0. 0.]\n",
            " [0. 0.]]\n",
            "Arrays de unos [[1. 1.]]\n",
            "Array constante [[8 8]\n",
            " [8 8]]\n",
            "Matriz identidad 2x2 [[1. 0.]\n",
            " [0. 1.]]\n",
            "Array de una secuencia lineal [ 0  2  4  6  8 10 12 14 16 18]\n",
            "Array de una secuencia lineal2 [0.   0.25 0.5  0.75 1.  ]\n",
            "Array de números aleatorios(u) [[0.84942439 0.81799447]\n",
            " [0.38854751 0.61306171]]\n",
            "Array de números aleatorios(n) [[-0.74683977 -1.11351601  0.99002345]\n",
            " [ 0.85693574 -0.3054266   0.93234696]\n",
            " [-0.20668885  0.10677889  0.75009156]]\n",
            "Array de números aleatorios(i) [[4 9 0]\n",
            " [7 7 7]\n",
            " [3 3 5]]\n"
          ],
          "name": "stdout"
        }
      ]
    },
    {
      "cell_type": "markdown",
      "metadata": {
        "id": "aDUkFkiNzqAt",
        "colab_type": "text"
      },
      "source": [
        "<p><a name=\"dataType\"></a></p>\n",
        "\n",
        "## 2.2. Tipos de datos."
      ]
    },
    {
      "cell_type": "markdown",
      "metadata": {
        "id": "XWTfZKIhWQdO",
        "colab_type": "text"
      },
      "source": [
        "[[Contenidos]](#contents)\n",
        "\n",
        "Los arrays en NumPy contienen valores de un solo tipo, por lo que es importante tener conocimiento de esos tipos y sus limitaciones. En numpy, los elementos de un array  por defecto son floats de 64 bits, es decir, que cada float ocupa 8 bytes en memoria. Vemos esto en el siguiente ejemplo"
      ]
    },
    {
      "cell_type": "code",
      "metadata": {
        "id": "j7ZxXurxTTxd",
        "colab_type": "code",
        "outputId": "6eac1791-c45c-4b8f-cde6-03b1592099df",
        "colab": {
          "base_uri": "https://localhost:8080/",
          "height": 51
        }
      },
      "source": [
        "n = np.zeros((1))\n",
        "print(\"Tipo de dato almacenado en un elemento del array:\", type(n[0]))\n",
        "print(\"Bytes almacenados en el array: %d bytes\" % (n.size * n.itemsize))"
      ],
      "execution_count": 0,
      "outputs": [
        {
          "output_type": "stream",
          "text": [
            "Tipo de dato almacenado en un elemento del array: <class 'numpy.float64'>\n",
            "Bytes almacenados en el array: 8 bytes\n"
          ],
          "name": "stdout"
        }
      ]
    },
    {
      "cell_type": "markdown",
      "metadata": {
        "id": "EdedVnLvtDgA",
        "colab_type": "text"
      },
      "source": [
        "El tipo por defecto de cada elemento del array es `float64`, que ocupan 8 bytes de memoria. Si se quiere cambiar el tipo por defecto, se debe acceder mediante `dtype=np.` y el nombre del tipo deseado, por ejemplo:"
      ]
    },
    {
      "cell_type": "code",
      "metadata": {
        "id": "G5y3njGotmui",
        "colab_type": "code",
        "outputId": "c367f247-9d08-48aa-a6d7-956331c607f8",
        "colab": {
          "base_uri": "https://localhost:8080/",
          "height": 51
        }
      },
      "source": [
        "# Definición de un array de enteros de 8 bits\n",
        "n = np.zeros((1), dtype = np.int8)\n",
        "print(\"Tipo de dato almacenado en un elemento del array:\", type(n[0]))\n",
        "print(\"Bytes almacenados en el array: %d bytes\" % (n.size * n.itemsize))"
      ],
      "execution_count": 0,
      "outputs": [
        {
          "output_type": "stream",
          "text": [
            "Tipo de dato almacenado en un elemento del array: <class 'numpy.int8'>\n",
            "Bytes almacenados en el array: 1 bytes\n"
          ],
          "name": "stdout"
        }
      ]
    },
    {
      "cell_type": "markdown",
      "metadata": {
        "id": "Bm6umNJTAqnU",
        "colab_type": "text"
      },
      "source": [
        "ver tipos de datos: https://numpy.org/devdocs/user/basics.types.html"
      ]
    },
    {
      "cell_type": "markdown",
      "metadata": {
        "id": "KRZdYM8EBIfv",
        "colab_type": "text"
      },
      "source": [
        "<p><a name=\"arraysBAS\"></a></p>\n",
        "\n",
        "## 2.3. Manipulación de los arrays"
      ]
    },
    {
      "cell_type": "markdown",
      "metadata": {
        "id": "hMrRBFpuCOYE",
        "colab_type": "text"
      },
      "source": [
        "[[Contenidos]](#contents)\n",
        "\n"
      ]
    },
    {
      "cell_type": "markdown",
      "metadata": {
        "id": "aUAVSSFjA8JF",
        "colab_type": "text"
      },
      "source": [
        "<p><a name=\"arraysATT\"></a></p>\n",
        "\n",
        "###2.3.1. Atributos\n",
        "\n",
        "Cada array tiene como atributos: <code>ndim</code>  (el número de dimensiones), <code>shape</code> (el tamaño de cada dimensión) y <code>size</code> (el tamaño total de la matriz o número de elementos):\n"
      ]
    },
    {
      "cell_type": "code",
      "metadata": {
        "id": "1zx4b91dC5iX",
        "colab_type": "code",
        "outputId": "1ade33af-856e-4dc8-e76b-5f8895027c0e",
        "colab": {
          "base_uri": "https://localhost:8080/",
          "height": 217
        }
      },
      "source": [
        "x1 = np.random.randint(10, size=6)          # array unidimensional\n",
        "x2 = np.random.randint(10, size=(3, 4))     # array bidimensional\n",
        "x3 = np.random.randint(10, size=(3, 4, 5))  # array tridimensional\n",
        "\n",
        "print(\"x1 ndim: \", x1.ndim)\n",
        "print(\"x1 shape:\", x1.shape)\n",
        "print(\"x1 size: \", x1.size,\"\\n\")\n",
        "\n",
        "print(\"x2 ndim: \", x2.ndim)\n",
        "print(\"x2 shape:\", x2.shape)\n",
        "print(\"x2 size: \", x2.size, \"\\n\")\n",
        "\n",
        "print(\"x3 ndim: \", x3.ndim)\n",
        "print(\"x3 shape:\", x3.shape)\n",
        "print(\"x3 size: \", x3.size)"
      ],
      "execution_count": 0,
      "outputs": [
        {
          "output_type": "stream",
          "text": [
            "x1 ndim:  1\n",
            "x1 shape: (6,)\n",
            "x1 size:  6 \n",
            "\n",
            "x2 ndim:  2\n",
            "x2 shape: (3, 4)\n",
            "x2 size:  12 \n",
            "\n",
            "x3 ndim:  3\n",
            "x3 shape: (3, 4, 5)\n",
            "x3 size:  60\n"
          ],
          "name": "stdout"
        }
      ]
    },
    {
      "cell_type": "markdown",
      "metadata": {
        "id": "lNlJw0HeGIIC",
        "colab_type": "text"
      },
      "source": [
        "Otro atributo útil es el <code>dtype</code>, el tipo de dato del array (discutido previamente en la sección 2.2.)"
      ]
    },
    {
      "cell_type": "code",
      "metadata": {
        "id": "DewYiYJqGQ34",
        "colab_type": "code",
        "outputId": "c72b572b-9720-4a26-c638-b49dacf959e5",
        "colab": {
          "base_uri": "https://localhost:8080/",
          "height": 35
        }
      },
      "source": [
        "print(\"dtype: \", x3.dtype)"
      ],
      "execution_count": 0,
      "outputs": [
        {
          "output_type": "stream",
          "text": [
            "dtype:  int64\n"
          ],
          "name": "stdout"
        }
      ]
    },
    {
      "cell_type": "markdown",
      "metadata": {
        "id": "T8-an6XDGizu",
        "colab_type": "text"
      },
      "source": [
        "Otros atributos incluyen <code>itemsize</code>, que enumera el tamaño (en bytes) de cada elemento del array,\n",
        "y <code>nbytes</code>, que enumera el tamaño total (en bytes) del array"
      ]
    },
    {
      "cell_type": "code",
      "metadata": {
        "id": "84xkkKF6G_YU",
        "colab_type": "code",
        "outputId": "9befa772-efaa-49d6-bf89-555e47b290e8",
        "colab": {
          "base_uri": "https://localhost:8080/",
          "height": 54
        }
      },
      "source": [
        "print(\"itemsize:\", x3.itemsize, \"bytes\")\n",
        "print(\"nbytes:\", x3.nbytes, \"bytes\")"
      ],
      "execution_count": 0,
      "outputs": [
        {
          "output_type": "stream",
          "text": [
            "itemsize: 8 bytes\n",
            "nbytes: 480 bytes\n"
          ],
          "name": "stdout"
        }
      ]
    },
    {
      "cell_type": "markdown",
      "metadata": {
        "id": "EjugYaD5HfQl",
        "colab_type": "text"
      },
      "source": [
        "En general, esperamos que  <code>nbytes </code> sea igual a  <code>itemsize </code>  por  <code>size </code>."
      ]
    },
    {
      "cell_type": "code",
      "metadata": {
        "id": "60cMP_eHJ1Xs",
        "colab_type": "code",
        "outputId": "54be77dc-fbd1-438b-c555-bd161c8b6438",
        "colab": {
          "base_uri": "https://localhost:8080/",
          "height": 35
        }
      },
      "source": [
        "print(\"El número de bytes que ocupa x3 es:\", x3.itemsize*x3.size, \"bytes\")"
      ],
      "execution_count": 0,
      "outputs": [
        {
          "output_type": "stream",
          "text": [
            "El número de bytes que ocupa x3 es: 480 bytes\n"
          ],
          "name": "stdout"
        }
      ]
    },
    {
      "cell_type": "markdown",
      "metadata": {
        "id": "BEe6fe-PzXBf",
        "colab_type": "text"
      },
      "source": [
        "<p><a name=\"arraysIDX\"></a></p>\n",
        "\n",
        "### 2.3.2. Indexado\n",
        "\n",
        "[[Contenidos]](#contents)\n",
        "\n",
        "Al igual que en las librerias estándar de Python, se puede acceder a la i-ésima componente de un array especificando el índice deseado entre []"
      ]
    },
    {
      "cell_type": "code",
      "metadata": {
        "id": "X7-kPWAbI_Sq",
        "colab_type": "code",
        "outputId": "50aacc52-1901-4c7a-be2d-27456192c35b",
        "colab": {
          "base_uri": "https://localhost:8080/",
          "height": 54
        }
      },
      "source": [
        "print(x1)\n",
        "\n",
        "print(x1[0])"
      ],
      "execution_count": 0,
      "outputs": [
        {
          "output_type": "stream",
          "text": [
            "[7 0 6 9 5 0]\n",
            "7\n"
          ],
          "name": "stdout"
        }
      ]
    },
    {
      "cell_type": "markdown",
      "metadata": {
        "id": "rCjdMfYHKBxm",
        "colab_type": "text"
      },
      "source": [
        "En un array multidimensional, se accede a los elementos utilizando una tupla de índices separados por comas"
      ]
    },
    {
      "cell_type": "code",
      "metadata": {
        "id": "5JDno9bhKRCS",
        "colab_type": "code",
        "outputId": "e06e0967-b75d-49d0-b09a-d96403693fd3",
        "colab": {
          "base_uri": "https://localhost:8080/",
          "height": 90
        }
      },
      "source": [
        "print(x2)\n",
        "\n",
        "print(x2[0,1])"
      ],
      "execution_count": 0,
      "outputs": [
        {
          "output_type": "stream",
          "text": [
            "[[6 6 7 1]\n",
            " [7 7 4 7]\n",
            " [9 9 2 7]]\n",
            "6\n"
          ],
          "name": "stdout"
        }
      ]
    },
    {
      "cell_type": "markdown",
      "metadata": {
        "id": "H03qUs3PLdRP",
        "colab_type": "text"
      },
      "source": [
        "Recordemos que los arrays en NumPy tiene un tipo fijo. Si intentamos insertar un número de tipo flotante en un array de tipo entero, el valor se truncará"
      ]
    },
    {
      "cell_type": "code",
      "metadata": {
        "id": "Nchf3cKTLpJE",
        "colab_type": "code",
        "outputId": "747c9d28-c2e8-46ba-957c-f34c572d01ef",
        "colab": {
          "base_uri": "https://localhost:8080/",
          "height": 35
        }
      },
      "source": [
        "x1[0] = 3.1415\n",
        "print(x1)"
      ],
      "execution_count": 0,
      "outputs": [
        {
          "output_type": "stream",
          "text": [
            "[3 0 6 9 5 0]\n"
          ],
          "name": "stdout"
        }
      ]
    },
    {
      "cell_type": "markdown",
      "metadata": {
        "id": "tpxd_MBXXebw",
        "colab_type": "text"
      },
      "source": [
        "En el caso tridimensional"
      ]
    },
    {
      "cell_type": "code",
      "metadata": {
        "id": "ng-oz5ObXd_s",
        "colab_type": "code",
        "outputId": "3ee1bd42-c8d3-477f-9a4a-0ba0c285179a",
        "colab": {
          "base_uri": "https://localhost:8080/",
          "height": 363
        }
      },
      "source": [
        "print(x3,\"\\n\")\n",
        "\n",
        "print(\"Dos formas de acceder al mismo elemento: \\n\")\n",
        "print(\"x3[1][1][0] =\", x3[1][1][0])\n",
        "print(\"x3[1,1,0] =\", x3[1,1,0])"
      ],
      "execution_count": 0,
      "outputs": [
        {
          "output_type": "stream",
          "text": [
            "[[[3 2 1 5 4]\n",
            "  [0 6 9 1 6]\n",
            "  [6 0 6 8 5]\n",
            "  [3 0 8 0 2]]\n",
            "\n",
            " [[2 9 6 3 9]\n",
            "  [7 8 2 9 2]\n",
            "  [9 7 4 3 1]\n",
            "  [6 4 5 8 4]]\n",
            "\n",
            " [[6 9 8 4 7]\n",
            "  [2 5 0 8 4]\n",
            "  [1 8 6 5 2]\n",
            "  [0 3 6 3 7]]] \n",
            "\n",
            "Dos formas de acceder al mismo elemento: \n",
            "\n",
            "x3[1][1][0] = 7\n",
            "x3[1,1,0] = 7\n"
          ],
          "name": "stdout"
        }
      ]
    },
    {
      "cell_type": "markdown",
      "metadata": {
        "id": "ef1KZw0JBfCK",
        "colab_type": "text"
      },
      "source": [
        "<p><a name=\"arraysSLI\"></a></p>\n",
        "\n",
        "### 2.3.3. Segmentación\n",
        "\n",
        "[[Contenidos]](#contents)\n",
        "\n",
        "La sintaxis de segmentación NumPy sigue la de la lista estándar de Python: <code>x[inicio:final:paso]</code>"
      ]
    },
    {
      "cell_type": "code",
      "metadata": {
        "id": "F1UB_I8MNtvx",
        "colab_type": "code",
        "outputId": "f8b63417-dee4-4b8c-c109-77758fdb1fe2",
        "colab": {
          "base_uri": "https://localhost:8080/",
          "height": 145
        }
      },
      "source": [
        "x = np.arange(10)     \n",
        "\n",
        "print(x)\n",
        "\n",
        "print('Primeros cinco elementos ',x[:5])\n",
        "\n",
        "print('Elementos luego del índice 5 ',x[5:])\n",
        "\n",
        "print('Subarray medio ',x[4:7])\n",
        "\n",
        "print('Subarray medio2', x[4:-3])\n",
        "\n",
        "print('Elementos separados por dos índices ',x[::2])\n",
        "\n",
        "print('Elementos separados por dos índices comenzando en el índice 1 ',x[1::2])"
      ],
      "execution_count": 0,
      "outputs": [
        {
          "output_type": "stream",
          "text": [
            "[0 1 2 3 4 5 6 7 8 9]\n",
            "Primeros cinco elementos  [0 1 2 3 4]\n",
            "Elementos luego del índice 5  [5 6 7 8 9]\n",
            "Subarray medio  [4 5 6]\n",
            "Subarray medio2 [4 5 6]\n",
            "Elementos separados por dos índices  [0 2 4 6 8]\n",
            "Elementos separados por dos índices comenzando en el índice 1  [1 3 5 7 9]\n"
          ],
          "name": "stdout"
        }
      ]
    },
    {
      "cell_type": "markdown",
      "metadata": {
        "id": "3IxyCwGgP1BE",
        "colab_type": "text"
      },
      "source": [
        "Un caso potencialmente confuso es cuando el valor del paso es negativo. En este caso, los valores predeterminados para <code>inicio</code> y \n",
        "<code>final</code> se intercambian."
      ]
    },
    {
      "cell_type": "code",
      "metadata": {
        "id": "F_kJNMyNP8bs",
        "colab_type": "code",
        "outputId": "9796fe64-45d2-41c3-abb0-0c01d4593f8f",
        "colab": {
          "base_uri": "https://localhost:8080/",
          "height": 54
        }
      },
      "source": [
        "print(x[::-1])      # Se reversan todos los elementos \n",
        "\n",
        "print(x[5::-2])     # Se reversan los elementos desde el índice 5 con paso 2 "
      ],
      "execution_count": 0,
      "outputs": [
        {
          "output_type": "stream",
          "text": [
            "[9 8 7 6 5 4 3 2 1 0]\n",
            "[5 3 1]\n"
          ],
          "name": "stdout"
        }
      ]
    },
    {
      "cell_type": "markdown",
      "metadata": {
        "id": "fuenNeduPVP2",
        "colab_type": "text"
      },
      "source": [
        "Para los arrays multidimensionales la segmentación se hace de una manera similar, por ejemplo:"
      ]
    },
    {
      "cell_type": "code",
      "metadata": {
        "id": "YAVT_c6PPJG-",
        "colab_type": "code",
        "outputId": "33b12f0e-77a5-461e-dcef-822bd870badf",
        "colab": {
          "base_uri": "https://localhost:8080/",
          "height": 290
        }
      },
      "source": [
        "print(x2)\n",
        "\n",
        "print('Dos filas, tres columnas')\n",
        "print(x2[:2, :3])  \n",
        "\n",
        "print('Todas las filas, dos columnas')\n",
        "print(x2[:, :2])      \n",
        "\n",
        "print('Dos filas, el resto de columnas con paso 2')\n",
        "print(x2[:2, ::2])        \n",
        "\n",
        "print('Primera fila')\n",
        "print(x2[0])"
      ],
      "execution_count": 0,
      "outputs": [
        {
          "output_type": "stream",
          "text": [
            "[[6 6 7 1]\n",
            " [7 7 4 7]\n",
            " [9 9 2 7]]\n",
            "Dos filas, tres columnas\n",
            "[[6 6 7]\n",
            " [7 7 4]]\n",
            "Todas las filas, dos columnas\n",
            "[[6 6]\n",
            " [7 7]\n",
            " [9 9]]\n",
            "Dos filas, el resto de columnas con paso 2\n",
            "[[6 7]\n",
            " [7 4]]\n",
            "Primera fila\n",
            "[6 6 7 1]\n"
          ],
          "name": "stdout"
        }
      ]
    },
    {
      "cell_type": "code",
      "metadata": {
        "id": "gm-aZkm6VBQE",
        "colab_type": "code",
        "outputId": "485bc1c1-abf8-4919-e33c-f008996c2e19",
        "colab": {
          "base_uri": "https://localhost:8080/",
          "height": 435
        }
      },
      "source": [
        "print(x3)\n",
        "\n",
        "print('Tercer array, dos filas y tres columnas')\n",
        "print(x3[2,:2,:3])\n",
        "\n",
        "print('Hasta el 2do array, dos filas y dos columnas')\n",
        "print(x3[:2,:2,:2])"
      ],
      "execution_count": 0,
      "outputs": [
        {
          "output_type": "stream",
          "text": [
            "[[[3 2 1 5 4]\n",
            "  [0 6 9 1 6]\n",
            "  [6 0 6 8 5]\n",
            "  [3 0 8 0 2]]\n",
            "\n",
            " [[2 9 6 3 9]\n",
            "  [7 8 2 9 2]\n",
            "  [9 7 4 3 1]\n",
            "  [6 4 5 8 4]]\n",
            "\n",
            " [[6 9 8 4 7]\n",
            "  [2 5 0 8 4]\n",
            "  [1 8 6 5 2]\n",
            "  [0 3 6 3 7]]]\n",
            "Tercer array, dos filas y tres columnas\n",
            "[[6 9 8]\n",
            " [2 5 0]]\n",
            "Hasta el 2do array, dos filas y dos columnas\n",
            "[[[3 2]\n",
            "  [0 6]]\n",
            "\n",
            " [[2 9]\n",
            "  [7 8]]]\n"
          ],
          "name": "stdout"
        }
      ]
    },
    {
      "cell_type": "markdown",
      "metadata": {
        "id": "CM0OAc5wa4-t",
        "colab_type": "text"
      },
      "source": [
        "Es importante tener en cuenta que la segmentación de arrays en NumPy devuelve *vistas*  en lugar de *copias* de los datos del array. Esto significa que cuando trabajamos con grandes conjuntos de datos, podemos acceder y procesar partes de estos conjuntos de datos sin la necesidad de copiar el búfer de datos subyacente."
      ]
    },
    {
      "cell_type": "code",
      "metadata": {
        "id": "3Y89Onz1bO1h",
        "colab_type": "code",
        "outputId": "6263752b-d914-4d66-cd91-354f18f84842",
        "colab": {
          "base_uri": "https://localhost:8080/",
          "height": 163
        }
      },
      "source": [
        "print('Array original \\n',x2)\n",
        "\n",
        "sub_array = x2[:2,:2]\n",
        "\n",
        "sub_array[0,0] = 1\n",
        "\n",
        "print('Array luego de modificar el subarray \\n',x2)"
      ],
      "execution_count": 0,
      "outputs": [
        {
          "output_type": "stream",
          "text": [
            "Array original \n",
            " [[6 6 7 1]\n",
            " [7 7 4 7]\n",
            " [9 9 2 7]]\n",
            "Array luego de modificar el subarray \n",
            " [[1 6 7 1]\n",
            " [7 7 4 7]\n",
            " [9 9 2 7]]\n"
          ],
          "name": "stdout"
        }
      ]
    },
    {
      "cell_type": "markdown",
      "metadata": {
        "id": "ztGzf48tb4U5",
        "colab_type": "text"
      },
      "source": [
        "A veces es útil copiar explícitamente los datos dentro de un array o un  subarray. Esto se puede hacer más fácilmente con el\n",
        "método <code>copy()</code>"
      ]
    },
    {
      "cell_type": "code",
      "metadata": {
        "id": "DkFK83b5denr",
        "colab_type": "code",
        "outputId": "a7d693d0-14d7-4550-c212-2ce3039f2e00",
        "colab": {
          "base_uri": "https://localhost:8080/",
          "height": 126
        }
      },
      "source": [
        "sub_array_copia = x2[:2,:2].copy()\n",
        "sub_array_copia[0,0] = 20\n",
        "\n",
        "print(sub_array_copia)\n",
        "print(5*'-')\n",
        "print(x2)"
      ],
      "execution_count": 0,
      "outputs": [
        {
          "output_type": "stream",
          "text": [
            "[[20  6]\n",
            " [ 7  7]]\n",
            "-----\n",
            "[[1 6 7 1]\n",
            " [7 7 4 7]\n",
            " [9 9 2 7]]\n"
          ],
          "name": "stdout"
        }
      ]
    },
    {
      "cell_type": "markdown",
      "metadata": {
        "id": "9Ez4uourB6CM",
        "colab_type": "text"
      },
      "source": [
        "<p><a name=\"arraysRES\"></a></p>\n",
        "\n",
        "### 2.3.4. Reshape\n",
        "\n",
        "[[Contenidos]](#contents)\n",
        "\n",
        "Otro tipo útil de operación es el \"reshape\" de arrays. La forma más flexible de hacerlo es con el método <code>reshape()</code>. \n",
        "\n"
      ]
    },
    {
      "cell_type": "code",
      "metadata": {
        "id": "gwJ2emt68ObB",
        "colab_type": "code",
        "outputId": "7f1af8da-3cae-4b74-8c81-2a20a03f4b16",
        "colab": {
          "base_uri": "https://localhost:8080/",
          "height": 90
        }
      },
      "source": [
        "grilla = np.arange(1, 10).reshape((3, 3))            \n",
        "print(grilla)\n",
        "\n",
        "a = np.array([[1,2,3], [4,5,6]]).reshape(1,6)\n",
        "print(a)"
      ],
      "execution_count": 0,
      "outputs": [
        {
          "output_type": "stream",
          "text": [
            "[[1 2 3]\n",
            " [4 5 6]\n",
            " [7 8 9]]\n",
            "[[1 2 3 4 5 6]]\n"
          ],
          "name": "stdout"
        }
      ]
    },
    {
      "cell_type": "markdown",
      "metadata": {
        "id": "tLcXP-5n9KQ3",
        "colab_type": "text"
      },
      "source": [
        "Podemos convertir un array unidimensional en un vector fila o columna bidimensional \n",
        "\n"
      ]
    },
    {
      "cell_type": "code",
      "metadata": {
        "id": "6Livw21U9TBQ",
        "colab_type": "code",
        "outputId": "86f7c8a8-a07b-4686-ef4a-0d0f2644c04b",
        "colab": {
          "base_uri": "https://localhost:8080/",
          "height": 90
        }
      },
      "source": [
        "x = np.array([1,2,3])\n",
        "\n",
        "fil_x = x.reshape((1,3))    # vector fila\n",
        "col_x = x.reshape((3,1))    # vector columna\n",
        "\n",
        "print(fil_x)\n",
        "print(col_x)"
      ],
      "execution_count": 0,
      "outputs": [
        {
          "output_type": "stream",
          "text": [
            "[[1 2 3]]\n",
            "[[1]\n",
            " [2]\n",
            " [3]]\n"
          ],
          "name": "stdout"
        }
      ]
    },
    {
      "cell_type": "markdown",
      "metadata": {
        "id": "HpobXl09HLRj",
        "colab_type": "text"
      },
      "source": [
        "<p><a name=\"arraysCON\"></a></p>\n",
        "\n",
        "### 2.2.5. Concatenación y división de arrays\n",
        "\n",
        "[[Contenidos]](#contents)\n",
        "\n",
        "Todas las rutinas anteriores funcionaron en arrays individuales. También es posible combinar varios arrays en uno solo o, por el contrario, dividir un array en varios. La concatenación, o unión de dos arrays en NumPy, se realiza principalmente a través de la rutina <code>np.concatenate</code>\n"
      ]
    },
    {
      "cell_type": "code",
      "metadata": {
        "id": "nRpkEwBSIU7e",
        "colab_type": "code",
        "outputId": "9baf8d6f-6e7b-43b8-ea05-71169b185cf1",
        "colab": {
          "base_uri": "https://localhost:8080/",
          "height": 35
        }
      },
      "source": [
        "x = np.array([1, 2, 3])\n",
        "y = np.array([3, 2, 1])\n",
        "z = np.concatenate([x, y])\n",
        "print(z)"
      ],
      "execution_count": 0,
      "outputs": [
        {
          "output_type": "stream",
          "text": [
            "[1 2 3 3 2 1]\n"
          ],
          "name": "stdout"
        }
      ]
    },
    {
      "cell_type": "markdown",
      "metadata": {
        "id": "BhwiTVYzItHY",
        "colab_type": "text"
      },
      "source": [
        "\n",
        "También se puede utilizar para arrays bidimensionales"
      ]
    },
    {
      "cell_type": "code",
      "metadata": {
        "id": "ImZZ9zIVIz-z",
        "colab_type": "code",
        "outputId": "f731caa4-a1b0-4a5d-d16d-02a358253844",
        "colab": {
          "base_uri": "https://localhost:8080/",
          "height": 145
        }
      },
      "source": [
        "grilla = np.array([[1, 2, 3], [4, 5, 6]])\n",
        "\n",
        "z1 = np.concatenate([grilla,grilla])            # concatenar a lo largo del primer eje\n",
        "print(z1)\n",
        "print(5*'-')\n",
        "z2 = np.concatenate([grilla,grilla], axis=1)    # concatenar a lo largo del segundo eje\n",
        "print(z2)"
      ],
      "execution_count": 0,
      "outputs": [
        {
          "output_type": "stream",
          "text": [
            "[[1 2 3]\n",
            " [4 5 6]\n",
            " [1 2 3]\n",
            " [4 5 6]]\n",
            "-----\n",
            "[[1 2 3 1 2 3]\n",
            " [4 5 6 4 5 6]]\n"
          ],
          "name": "stdout"
        }
      ]
    },
    {
      "cell_type": "markdown",
      "metadata": {
        "id": "6gC3eowqKuKY",
        "colab_type": "text"
      },
      "source": [
        "Para trabajar con arrays de dimensiones mixtas, puede ser más claro usar las funciones  <code>np.vstack</code> y <code>np.hstack</code>. \n"
      ]
    },
    {
      "cell_type": "code",
      "metadata": {
        "id": "Tu-Dla5nK-zh",
        "colab_type": "code",
        "outputId": "3d53ac0d-d4b1-4c23-b56a-97b4955d9381",
        "colab": {
          "base_uri": "https://localhost:8080/",
          "height": 126
        }
      },
      "source": [
        "# Apilar verticalmente los arrays\n",
        "x = np.array([11, 22, 33])\n",
        "z1 = np.vstack([x,grilla])\n",
        "print(z1)\n",
        "\n",
        "print(5*'-')\n",
        "# Apilar horizontalmente los arrays\n",
        "y = np.array([[99], [99]])\n",
        "z2 = np.hstack([grilla, y])\n",
        "print(z2)"
      ],
      "execution_count": 0,
      "outputs": [
        {
          "output_type": "stream",
          "text": [
            "[[11 22 33]\n",
            " [ 1  2  3]\n",
            " [ 4  5  6]]\n",
            "-----\n",
            "[[ 1  2  3 99]\n",
            " [ 4  5  6 99]]\n"
          ],
          "name": "stdout"
        }
      ]
    },
    {
      "cell_type": "markdown",
      "metadata": {
        "id": "463MK3SkNX3D",
        "colab_type": "text"
      },
      "source": [
        "Lo opuesto a la concatenación es la división, que se implementa mediante las funciones <code>np.split</code>, <code>np.hsplit</code> y <code>np.vsplit</code>\n"
      ]
    },
    {
      "cell_type": "code",
      "metadata": {
        "id": "yysGRkhaNlc7",
        "colab_type": "code",
        "outputId": "06d40d96-e8ce-4772-88ee-7e4aa7066986",
        "colab": {
          "base_uri": "https://localhost:8080/",
          "height": 35
        }
      },
      "source": [
        "x = [1, 2, 3, 99, 99, 3, 2, 1]\n",
        "x1, x2, x3 = np.split(x, [3, 5])\n",
        "print(x1, x2, x3)"
      ],
      "execution_count": 0,
      "outputs": [
        {
          "output_type": "stream",
          "text": [
            "[1 2 3] [99 99] [3 2 1]\n"
          ],
          "name": "stdout"
        }
      ]
    },
    {
      "cell_type": "markdown",
      "metadata": {
        "colab_type": "text",
        "id": "jDAhKsOXd9VI"
      },
      "source": [
        "Note que las funciones `np.hsplit` y `np.vsplit` son similares"
      ]
    },
    {
      "cell_type": "code",
      "metadata": {
        "id": "iN0f1cVvN4Zj",
        "colab_type": "code",
        "outputId": "e8f3ef31-55d5-4351-a250-3b6b5822e3f6",
        "colab": {
          "base_uri": "https://localhost:8080/",
          "height": 108
        }
      },
      "source": [
        "grilla = np.arange(16).reshape((4, 4))\n",
        "\n",
        "sup, inf = np.vsplit(grilla, [2])\n",
        "print(sup)\n",
        "print(5*'-')\n",
        "print(inf)"
      ],
      "execution_count": 0,
      "outputs": [
        {
          "output_type": "stream",
          "text": [
            "[[0 1 2 3]\n",
            " [4 5 6 7]]\n",
            "-----\n",
            "[[ 8  9 10 11]\n",
            " [12 13 14 15]]\n"
          ],
          "name": "stdout"
        }
      ]
    },
    {
      "cell_type": "code",
      "metadata": {
        "id": "GTbRCocjOS_R",
        "colab_type": "code",
        "outputId": "b12e201f-6f34-49c8-a924-3f159a63e497",
        "colab": {
          "base_uri": "https://localhost:8080/",
          "height": 181
        }
      },
      "source": [
        "izq, der = np.hsplit(grilla, [2])\n",
        "print(izq)\n",
        "print(5*'-')\n",
        "print(der)"
      ],
      "execution_count": 0,
      "outputs": [
        {
          "output_type": "stream",
          "text": [
            "[[ 0  1]\n",
            " [ 4  5]\n",
            " [ 8  9]\n",
            " [12 13]]\n",
            "-----\n",
            "[[ 2  3]\n",
            " [ 6  7]\n",
            " [10 11]\n",
            " [14 15]]\n"
          ],
          "name": "stdout"
        }
      ]
    },
    {
      "cell_type": "markdown",
      "metadata": {
        "id": "4CFfCTUfg-EH",
        "colab_type": "text"
      },
      "source": [
        "<p><a name=\"arrayMath\"></a></p>\n",
        "\n",
        "## 2.4. Operaciones entre arrays \n",
        "\n",
        "[[Contenidos]](#contents)\n",
        "\n",
        "### 2.4.1. Operaciones vectorizadas\n",
        "\n",
        "El cálculo con arrays en NumPy puede ser muy rápido o muy lento. La clave para hacerlo rápido es usar operaciones *vectorizadas*, generalmente implementadas a través de las funciones universales de NumPy (ufuncs)"
      ]
    },
    {
      "cell_type": "code",
      "metadata": {
        "id": "XJNXfC8J8A_O",
        "colab_type": "code",
        "outputId": "a171afea-61d5-4c71-f866-f0aa823bc9dc",
        "colab": {
          "base_uri": "https://localhost:8080/",
          "height": 54
        }
      },
      "source": [
        "def compute_reciprocals(values):\n",
        "  output = np.empty(len(values))\n",
        "  for i in range(len(values)):\n",
        "    output[i] = 1.0 / values[i]\n",
        "  return output\n",
        "\n",
        "big_array = np.random.randint(1, 100, size=1000000) \n",
        "\n",
        "\n",
        "%timeit compute_reciprocals(big_array)          # calculo en loop\n",
        "\n",
        "%timeit (1.0 / big_array)                       # calculo vectorizado"
      ],
      "execution_count": 0,
      "outputs": [
        {
          "output_type": "stream",
          "text": [
            "1 loop, best of 3: 1.84 s per loop\n",
            "100 loops, best of 3: 2.66 ms per loop\n"
          ],
          "name": "stdout"
        }
      ]
    },
    {
      "cell_type": "markdown",
      "metadata": {
        "id": "FM8EdbgL-4QG",
        "colab_type": "text"
      },
      "source": [
        "Las operaciones vectorizadas en NumPy se implementan a través de las ufuncs, cuyo objetivo principal es ejecutar rápidamente operaciones de forma repetida sobre valores de arrays. Las operaciones con ufuncs no se limitan a arrays unidimensionales, sino que también pueden actuar sobre arrays multidimensionales "
      ]
    },
    {
      "cell_type": "code",
      "metadata": {
        "id": "xyfbKnVC_mW0",
        "colab_type": "code",
        "outputId": "e01b7223-f040-439a-d158-fc92e2c1e9cf",
        "colab": {
          "base_uri": "https://localhost:8080/",
          "height": 108
        }
      },
      "source": [
        "print(np.arange(5) / np.arange(1, 6))         # Operación sobre array unidimensional\n",
        "\n",
        "print(5*'-')\n",
        "x = np.arange(9).reshape((3, 3))              # Operación sobre array multidimensional\n",
        "print(2**x)"
      ],
      "execution_count": 0,
      "outputs": [
        {
          "output_type": "stream",
          "text": [
            "[0.         0.5        0.66666667 0.75       0.8       ]\n",
            "-----\n",
            "[[  1   2   4]\n",
            " [  8  16  32]\n",
            " [ 64 128 256]]\n"
          ],
          "name": "stdout"
        }
      ]
    },
    {
      "cell_type": "markdown",
      "metadata": {
        "id": "d-jGhCb5Aayf",
        "colab_type": "text"
      },
      "source": [
        "Los cálculos que usan vectorización a través de ufuncs son casi siempre más eficientes que su contraparte implementada a través de ciclos, especialmente a medida que los arrays crecen en tamaño. Cada vez que se vea un ciclo de este tipo en un script de Python, debe considerarse si este puede reemplazarse con una expresión vectorizada."
      ]
    },
    {
      "cell_type": "markdown",
      "metadata": {
        "id": "Nbkpq8HPU_Jl",
        "colab_type": "text"
      },
      "source": [
        "**Definición:** En el contexto de lenguajes de alto nivel como Python, MATLAB o R, el término **vectorización** representa el uso de código optimizado y precompilado escritos en lenguajes de bajo nivel (por ejemplo C) para realizar operaciones matemáticas en una secuencia de datos. Esto se realiza en lugar de una iteración explicita escrita en código nativo."
      ]
    },
    {
      "cell_type": "markdown",
      "metadata": {
        "id": "59bWwCsfAzGH",
        "colab_type": "text"
      },
      "source": [
        "### 2.4.2. Ufuncs\n",
        "\n",
        "https://docs.scipy.org/doc/numpy/reference/ufuncs.html"
      ]
    },
    {
      "cell_type": "code",
      "metadata": {
        "id": "sdFATPpfCEk6",
        "colab_type": "code",
        "outputId": "652301d4-144e-4b38-991c-2f47b8320b90",
        "colab": {
          "base_uri": "https://localhost:8080/",
          "height": 272
        }
      },
      "source": [
        "x = np.arange(1,5)\n",
        "print(x)\n",
        "\n",
        "# Operadores aritméticos\n",
        "print('x+2 ',np.add(x,2))\n",
        "print('x-2 ',np.subtract(x,2))\n",
        "print('-x ',np.negative(x))\n",
        "print('x*2 ',np.multiply(x,2))\n",
        "print('x/2 ',np.divide(x,2))\n",
        "print('x^2 ',np.power(x,2))\n",
        "\n",
        "# Funciones trigonométricas\n",
        "theta = np.linspace(0,np.pi,3)\n",
        "\n",
        "print('sin(theta)',np.sin(theta))\n",
        "print('cos(theta)',np.cos(theta))\n",
        "\n",
        "# Exponenciales y logaritmos\n",
        "print(\"e^x =\", np.exp(x))\n",
        "print(\"2^x =\", np.exp2(x))\n",
        "print(\"3^x =\", np.power(3, x))\n",
        "\n",
        "print(\"ln(x) =\", np.log(x))\n",
        "print(\"log2(x) =\", np.log2(x))\n",
        "print(\"log10(x) =\", np.log10(x))"
      ],
      "execution_count": 0,
      "outputs": [
        {
          "output_type": "stream",
          "text": [
            "[1 2 3 4]\n",
            "x+2  [3 4 5 6]\n",
            "x-2  [-1  0  1  2]\n",
            "-x  [-1 -2 -3 -4]\n",
            "x*2  [2 4 6 8]\n",
            "x/2  [0.5 1.  1.5 2. ]\n",
            "x^2  [ 1  4  9 16]\n",
            "sin(theta) [0.0000000e+00 1.0000000e+00 1.2246468e-16]\n",
            "cos(theta) [ 1.000000e+00  6.123234e-17 -1.000000e+00]\n",
            "e^x = [ 2.71828183  7.3890561  20.08553692 54.59815003]\n",
            "2^x = [ 2.  4.  8. 16.]\n",
            "3^x = [ 3  9 27 81]\n",
            "ln(x) = [0.         0.69314718 1.09861229 1.38629436]\n",
            "log2(x) = [0.        1.        1.5849625 2.       ]\n",
            "log10(x) = [0.         0.30103    0.47712125 0.60205999]\n"
          ],
          "name": "stdout"
        }
      ]
    },
    {
      "cell_type": "markdown",
      "metadata": {
        "id": "y9M0gTBl61gy",
        "colab_type": "text"
      },
      "source": [
        "### 2.4.3. Operaciones Básicas.\n",
        "\n",
        "Las operaciones matematicas basicas entre arrays, son operaciones elemento a elemento, y estan disponibles, tanto como sobrecarga de operadores como en funciones de la librería de numpy:"
      ]
    },
    {
      "cell_type": "code",
      "metadata": {
        "id": "3WDg1X327shT",
        "colab_type": "code",
        "outputId": "85d34735-e671-4858-c78e-eea7f7cd3e6f",
        "colab": {
          "base_uri": "https://localhost:8080/",
          "height": 329
        }
      },
      "source": [
        "x = np.array([[1,2],[3,4]], dtype=np.float64)\n",
        "y = np.array([[5,6],[7,8]], dtype=np.float64)\n",
        "\n",
        "# Suma elemento a elemento\n",
        "print(x + y)\n",
        "print(np.add(x, y))\n",
        "\n",
        "# Resta elemento a elemento.\n",
        "print(x - y)\n",
        "print(np.subtract(x, y))\n",
        "\n",
        "# Multiplicación elemento a elemento.\n",
        "print(x * y)\n",
        "print(np.multiply(x, y))\n",
        "\n",
        "# División elemento a elemento.\n",
        "print(x / y)\n",
        "print(np.divide(x, y))\n",
        "\n",
        "# Raiz cuadrada a cada elmento.\n",
        "print(np.sqrt(x))"
      ],
      "execution_count": 0,
      "outputs": [
        {
          "output_type": "stream",
          "text": [
            "[[ 6.  8.]\n",
            " [10. 12.]]\n",
            "[[ 6.  8.]\n",
            " [10. 12.]]\n",
            "[[-4. -4.]\n",
            " [-4. -4.]]\n",
            "[[-4. -4.]\n",
            " [-4. -4.]]\n",
            "[[ 5. 12.]\n",
            " [21. 32.]]\n",
            "[[ 5. 12.]\n",
            " [21. 32.]]\n",
            "[[0.2        0.33333333]\n",
            " [0.42857143 0.5       ]]\n",
            "[[0.2        0.33333333]\n",
            " [0.42857143 0.5       ]]\n",
            "[[1.         1.41421356]\n",
            " [1.73205081 2.        ]]\n"
          ],
          "name": "stdout"
        }
      ]
    },
    {
      "cell_type": "markdown",
      "metadata": {
        "id": "hjEETdx_8wyF",
        "colab_type": "text"
      },
      "source": [
        "Nótese que la multiplicación mediante el operador `*` corresponde a una multiplicación elemento a elemento entre dos arrays. En Python, la multiplicación matricial entre dos arrays se realiza mediante la función punto (`dot`)."
      ]
    },
    {
      "cell_type": "code",
      "metadata": {
        "colab_type": "code",
        "outputId": "bebd69bb-e5bb-472c-b9b8-89b33470f30c",
        "id": "GnH9g3-cOS9V",
        "colab": {
          "base_uri": "https://localhost:8080/",
          "height": 269
        }
      },
      "source": [
        "import numpy as np\n",
        "\n",
        "x = np.array([[1,2],[3,4]])\n",
        "y = np.array([[5,6],[7,8]])\n",
        "\n",
        "v = np.array([9,10])\n",
        "w = np.array([11, 12])\n",
        "\n",
        "# Producto entre vectores\n",
        "print(\"Producto vector-vector\",v.dot(w))\n",
        "print(\"Producto vector-vector\", np.dot(v, w),\"\\n\")\n",
        "\n",
        "# Producto matriz/vector;\n",
        "print(\"Producto matriz/vector \\n\",x.dot(v))\n",
        "print(\"Producto matriz/vector \\n\", np.dot(x, v),\"\\n\")\n",
        "\n",
        "# Producto matrix/matrix ; \n",
        "print(\"Producto matriz/matriz \\n\",x.dot(y),\"\\n\")\n",
        "print(\"Producto matriz/matriz \\n\",np.dot(x, y))"
      ],
      "execution_count": 0,
      "outputs": [
        {
          "output_type": "stream",
          "text": [
            "Producto vector-vector 219\n",
            "Producto vector-vector 219 \n",
            "\n",
            "Producto matriz/vector \n",
            " [29 67]\n",
            "Producto matriz/vector \n",
            " [29 67] \n",
            "\n",
            "Producto matriz/matriz \n",
            " [[19 22]\n",
            " [43 50]] \n",
            "\n",
            "Producto matriz/matriz \n",
            " [[19 22]\n",
            " [43 50]]\n"
          ],
          "name": "stdout"
        }
      ]
    },
    {
      "cell_type": "markdown",
      "metadata": {
        "id": "363CkXHPNcXL",
        "colab_type": "text"
      },
      "source": [
        "Python proporciona algunas funciones para realizar operaciones sobre los arrays. \n",
        "Por ejemplo, la función `sum` realiza una suma sobre todos los elementos del array:"
      ]
    },
    {
      "cell_type": "code",
      "metadata": {
        "id": "wDmks3LyNtAI",
        "colab_type": "code",
        "outputId": "d9af7baf-2b67-4870-8f22-2be39e400205",
        "colab": {
          "base_uri": "https://localhost:8080/",
          "height": 67
        }
      },
      "source": [
        "import numpy as np\n",
        "\n",
        "x = np.array([[1,2],[3,4]])\n",
        "\n",
        "print(\"Suma total de los elementos del array\", np.sum(x))  # Calculo de la suma de todos los elementos.\n",
        "print(\"Suma de cada columna\",np.sum(x, axis=0))  # Suma de cada columna\n",
        "print(\"Suma de cada fila\",np.sum(x, axis=1))  # Suma de cada fila"
      ],
      "execution_count": 0,
      "outputs": [
        {
          "output_type": "stream",
          "text": [
            "Suma total de los elementos del array 10\n",
            "Suma de cada columna [4 6]\n",
            "Suma de cada fila [3 7]\n"
          ],
          "name": "stdout"
        }
      ]
    },
    {
      "cell_type": "markdown",
      "metadata": {
        "id": "9KxDpyp1PAMS",
        "colab_type": "text"
      },
      "source": [
        "Para más funciones puede consultar [este enlace](https://docs.scipy.org/doc/numpy/reference/routines.math.html)."
      ]
    },
    {
      "cell_type": "markdown",
      "metadata": {
        "id": "GrBf6Ya90lbM",
        "colab_type": "text"
      },
      "source": [
        "<p><a name=\"bcasting\"></a></p>\n",
        "\n",
        "## 2.5. Broadcasting.\n",
        "\n",
        "[[Contenidos]](#contents)\n",
        "\n",
        "El Broadcasting es una potente herramienta que nos permite trabajar en numpy con arrays de diferentes tamaños para realizar operaciones aritméticas. A menudo tenemos un array mas pequeño y otro de tamaño mayor, de tal forma que queremos usar el array más pequeño varias veces para realizar algunas operaciones en el array mas grande.\n",
        "\n",
        "Supongamos, por ejemplo, que se quiere adicionar un vector constante a cada fila de una matriz. Podemos realizar esto de la siguiente forma:"
      ]
    },
    {
      "cell_type": "code",
      "metadata": {
        "id": "i2dGNyrbdHau",
        "colab_type": "code",
        "outputId": "83c1da46-e627-4d44-d53f-92ec8822bee7",
        "colab": {
          "base_uri": "https://localhost:8080/",
          "height": 163
        }
      },
      "source": [
        "import numpy as np\n",
        "\n",
        "x = np.arange(start = 1, stop = 13, step = 1).reshape((4,3)); # Array de 4x3 \n",
        "y = np.array([1,0,1]) # Vector fila\n",
        "v = np.empty_like(x) #Array vacio de la mismas dimensiones que x\n",
        "\n",
        "# Modificación del array x, sumando en cada fila el vector fila y.\n",
        "\n",
        "for i in range(len(x)):\n",
        "  v[i,:] = x[i,:]+y\n",
        "\n",
        "print(x)\n",
        "print(v)"
      ],
      "execution_count": 0,
      "outputs": [
        {
          "output_type": "stream",
          "text": [
            "[[ 1  2  3]\n",
            " [ 4  5  6]\n",
            " [ 7  8  9]\n",
            " [10 11 12]]\n",
            "[[ 2  2  4]\n",
            " [ 5  5  7]\n",
            " [ 8  8 10]\n",
            " [11 11 13]]\n"
          ],
          "name": "stdout"
        }
      ]
    },
    {
      "cell_type": "markdown",
      "metadata": {
        "id": "tnRyZCIMgl2g",
        "colab_type": "text"
      },
      "source": [
        "No obstante, cuando la matriz es muy grande, un loop for puede resultar muy lento. El problema anterior también puede ser resuelto de la siguiente forma:"
      ]
    },
    {
      "cell_type": "code",
      "metadata": {
        "id": "Y8PpTsRDhRJU",
        "colab_type": "code",
        "outputId": "dd75ffc7-079b-467b-8f2b-012e2f983f73",
        "colab": {
          "base_uri": "https://localhost:8080/",
          "height": 34
        }
      },
      "source": [
        "np.tile?"
      ],
      "execution_count": 0,
      "outputs": [
        {
          "output_type": "stream",
          "text": [
            "Object `np.tile` not found.\n"
          ],
          "name": "stdout"
        }
      ]
    },
    {
      "cell_type": "code",
      "metadata": {
        "id": "8S4cRFs8iciC",
        "colab_type": "code",
        "outputId": "12c3645e-3368-45b1-84f1-cac1b0ba32bb",
        "colab": {
          "base_uri": "https://localhost:8080/",
          "height": 156
        }
      },
      "source": [
        "x = np.arange(start = 1, stop = 13, step = 1).reshape((4,3)); # Array de 4x3 \n",
        "y = np.array([1,0,1]) # Vector fila\n",
        "yy = np.tile(y,(4,1)) # Creación de matriz de (4,3) con cada fila dada por y.\n",
        "print(yy)\n",
        "\n",
        "v = x+yy\n",
        "print(v)"
      ],
      "execution_count": 0,
      "outputs": [
        {
          "output_type": "stream",
          "text": [
            "[[1 0 1]\n",
            " [1 0 1]\n",
            " [1 0 1]\n",
            " [1 0 1]]\n",
            "[[ 2  2  4]\n",
            " [ 5  5  7]\n",
            " [ 8  8 10]\n",
            " [11 11 13]]\n"
          ],
          "name": "stdout"
        }
      ]
    },
    {
      "cell_type": "markdown",
      "metadata": {
        "id": "4NgtnTSQjxJe",
        "colab_type": "text"
      },
      "source": [
        "El broadcasting en numpy nos permite realizar esto calculos sin la necesidad de crear multiples copias de y. A continuación se muestra la solución al anaterior ploblema usando broadcasting:"
      ]
    },
    {
      "cell_type": "code",
      "metadata": {
        "id": "8RKjPJa2kEzP",
        "colab_type": "code",
        "outputId": "700e5573-02d9-4d41-e820-c1faebb591ee",
        "colab": {
          "base_uri": "https://localhost:8080/",
          "height": 87
        }
      },
      "source": [
        "x = np.arange(start = 1, stop = 13, step = 1).reshape((4,3)); # Array de 4x3 \n",
        "y = np.array([1,0,1]) # Vector fila\n",
        "\n",
        "v = x+y\n",
        "print(v)"
      ],
      "execution_count": 0,
      "outputs": [
        {
          "output_type": "stream",
          "text": [
            "[[ 2  2  4]\n",
            " [ 5  5  7]\n",
            " [ 8  8 10]\n",
            " [11 11 13]]\n"
          ],
          "name": "stdout"
        }
      ]
    },
    {
      "cell_type": "markdown",
      "metadata": {
        "id": "NQnxhbtOqZLc",
        "colab_type": "text"
      },
      "source": [
        "<p><a name=\"tnumpy\"></a></p>\n",
        "\n",
        "## 2.6. Taller Numpy\n",
        "\n",
        "[[Contenidos]](#contents)"
      ]
    },
    {
      "cell_type": "markdown",
      "metadata": {
        "id": "SQURPZFUqjo9",
        "colab_type": "text"
      },
      "source": [
        "<div class=\"alert alert-danger alertdanger\" style=\"margin-top: 20px\">\n",
        "<h1> Pregunta #1: </h1>\n",
        "<b>Defina un array de 6x6x6 de floats de 64 bits. Determine cual será la reserva de memoria en bytes necesaria para definir el array y corrobórelo mediante funciones de numpy</b>.\n",
        "</div>"
      ]
    },
    {
      "cell_type": "code",
      "metadata": {
        "id": "YuV9jC_quRsk",
        "colab_type": "code",
        "colab": {}
      },
      "source": [
        "#escriba acá su código"
      ],
      "execution_count": 0,
      "outputs": []
    },
    {
      "cell_type": "markdown",
      "metadata": {
        "id": "bvkn3nrYqvAF",
        "colab_type": "text"
      },
      "source": [
        "<div class=\"alert alert-danger alertdanger\" style=\"margin-top: 20px\">\n",
        "<h1> Respuesta Pregunta #1: </h1>\n",
        "<b>Corra el código a continuación:</b>\n",
        "</div>"
      ]
    },
    {
      "cell_type": "markdown",
      "metadata": {
        "id": "N_49wnbZ8sq6",
        "colab_type": "text"
      },
      "source": [
        "Para ver la solución haga double-click <b>aquí</b>.\n",
        "\n",
        "<!-- La respuesta se encuentra a continuación:\n",
        "\n",
        "import numpy as np\n",
        "a=np.zeros((6,6,6)) #también podría usar np.random.random((6,6,6)) u otros\n",
        "\n",
        "# La cantidad de memoria de memoria necesaria para definir el array sería\n",
        "print(\"Cantidad de memoria necesaría para definir el array\", 8*6*6*6, \"Bytes\")\n",
        "\n",
        "# Corroboración del tamaño requerido mediante funciones de numpy\n",
        "\n",
        "print(\"Bytes almacenados en el array: %d bytes\" % (a.size * a.itemsize))\n",
        "\n",
        "-->"
      ]
    },
    {
      "cell_type": "markdown",
      "metadata": {
        "id": "RxwB3NJD8g9l",
        "colab_type": "text"
      },
      "source": [
        "<div class=\"alert alert-danger alertdanger\" style=\"margin-top: 20px\">\n",
        "<h1> Pregunta #2: </h1>\n",
        "<b>Realice una comparación entre el tiempo de computo requerido para la sumar todos los elementos de un array mediante el método la función vectorizada de numpy sum en comparación con una suma realizada iterando sobre los elementos del array</b>.\n",
        "</div>"
      ]
    },
    {
      "cell_type": "code",
      "metadata": {
        "id": "b_d0aukwuVTn",
        "colab_type": "code",
        "colab": {}
      },
      "source": [
        "#escriba acá su código"
      ],
      "execution_count": 0,
      "outputs": []
    },
    {
      "cell_type": "markdown",
      "metadata": {
        "id": "eEJG3rtE8Sbu",
        "colab_type": "text"
      },
      "source": [
        "<div class=\"alert alert-danger alertdanger\" style=\"margin-top: 20px\">\n",
        "<h1> Respuesta Pregunta #2: </h1>\n",
        "<b>Corra el código a continuación:</b>\n",
        "</div>"
      ]
    },
    {
      "cell_type": "markdown",
      "metadata": {
        "id": "wYQg_rTJ75y-",
        "colab_type": "text"
      },
      "source": [
        "Para ver la solución haga double-click <b>aquí</b>.\n",
        "\n",
        "<!-- La respuesta se encuentra a continuación:\n",
        "\n",
        "import numpy as np\n",
        "\n",
        "def sumArrayElements(arrayInput):\n",
        "    total = 0\n",
        "    for i in arrayInput:\n",
        "        total += i\n",
        "  \n",
        "    return total\n",
        "  \n",
        "\n",
        "nElements = 100000 \n",
        "\n",
        "totalA = sumArrayElements(np.arange(nElements))\n",
        "print(\"Información de la suma mediante función for:\")\n",
        "%timeit sumArrayElements(np.arange(nElements))\n",
        "print(\"La suma de los elementos es \", str(totalA)+\".\\n\")\n",
        "\n",
        "totalB=np.sum(np.arange(nElements))\n",
        "print(\"Información de la suma mediante función vectorizada sum:\")\n",
        "%timeit np.sum(np.arange(nElements))\n",
        "print(\"La suma de los elementos es \", str(totalB)+\".\\n\")\n",
        "\n",
        "-->"
      ]
    },
    {
      "cell_type": "markdown",
      "metadata": {
        "id": "sRWedwBcq0nG",
        "colab_type": "text"
      },
      "source": [
        "<div class=\"alert alert-danger alertdanger\" style=\"margin-top: 20px\">\n",
        "<h1> Pregunta #3: </h1>\n",
        "<b>Demuestre que la multiplicación de una matriz $A$ de $6\\times6$ por la matriz ideantidad $I$ es igual a la matriz $A$</b>.\n",
        "</div>\n",
        "\n"
      ]
    },
    {
      "cell_type": "code",
      "metadata": {
        "id": "WSKbyRpguYMt",
        "colab_type": "code",
        "colab": {}
      },
      "source": [
        "#escriba acá su código"
      ],
      "execution_count": 0,
      "outputs": []
    },
    {
      "cell_type": "markdown",
      "metadata": {
        "id": "3KrZo30Fr3RH",
        "colab_type": "text"
      },
      "source": [
        "<div class=\"alert alert-danger alertdanger\" style=\"margin-top: 20px\">\n",
        "<h1> Respuesta Pregunta #3: </h1>\n",
        "<b>Corra el código a continuación:</b>\n",
        "</div>\n"
      ]
    },
    {
      "cell_type": "markdown",
      "metadata": {
        "id": "seJp2cPN5sId",
        "colab_type": "text"
      },
      "source": [
        "Para ver la solución haga double-click <b>aquí</b>.\n",
        "\n",
        "<!-- La respuesta se encuentra a continuación:\n",
        "import numpy as np\n",
        "\n",
        "identity = np.eye(6,6)\n",
        "A1 = np.random.rand(6,6)\n",
        "A2 = A1.dot(identity)\n",
        "if A2==A1:\n",
        "    print('se cumple')\n",
        "else:\n",
        "    print('no se cumple')\n",
        "\n",
        "print(\"La matriz A1 es \", A1)\n",
        "print(\"La matriz A2 es \", A2)\n",
        "\n",
        "-->"
      ]
    },
    {
      "cell_type": "markdown",
      "metadata": {
        "id": "iLkJH4010yGI",
        "colab_type": "text"
      },
      "source": [
        "<p><a name=\"matplotlib\"></a></p>\n",
        "\n",
        "# 3. Matplotlib.\n",
        "\n",
        "[[Contenidos]](#contents)\n",
        "\n",
        "\n",
        "matplotlib es la librería principal para la realización de gráficas científicas en Python. Esta librería proporciona funciones para la realizacion de gráficas como mapas, histogramas, gráficas de dispersión, entre otras. La visualización de sus datos y de diferentes aspectos de su analisis puede brindarle una mejor comprensión del problema a tratar. Para mayor información sobre la librería `matplotlib` puede consultar en [este enlace](https://matplotlib.org/index.html).\n",
        "\n"
      ]
    },
    {
      "cell_type": "markdown",
      "metadata": {
        "id": "rE8AzSuaaCde",
        "colab_type": "text"
      },
      "source": [
        "<p><a name=\"mpylab\"></a></p>\n",
        "\n",
        "## 3.1 matplotlib, pyplot y pylab.\n",
        "\n",
        "[[Contenidos]](#contents)\n",
        "\n",
        "\n",
        "\n",
        "1.   `matplotlib`: Cuando se habla de paquete, se habla de todo el paquete de visualización de Python.\n",
        "2.   `pyplot` : corresponde a un módulo de `matplotlib`, el cual permite crear  gráficas de forma rápida y sin necesidad de instanciar figuras o ejes.\n",
        "3.   `pylab` es una módulo poco recomendado para el tratamiento de arrays y gráficas inteacticas, cuyo uso es desaconsejado [en este enlace](https://matthiasbussonnier.com/posts/10-No-PyLab-Thanks.html).\n",
        "\n"
      ]
    },
    {
      "cell_type": "markdown",
      "metadata": {
        "id": "ThjV-GxbYn_r",
        "colab_type": "text"
      },
      "source": [
        "<p><a name=\"plotfunc\"></a></p>\n",
        "\n",
        "## 3.2 Función `plot`.\n",
        "\n",
        "[[Contenidos]](#contents)"
      ]
    },
    {
      "cell_type": "code",
      "metadata": {
        "id": "oAkS2PnSDZh6",
        "colab_type": "code",
        "outputId": "6a3762ab-a9c4-4698-abe9-738dd4edbf7c",
        "colab": {
          "base_uri": "https://localhost:8080/",
          "height": 287
        }
      },
      "source": [
        "import matplotlib.pyplot as plt\n",
        "\n",
        "# Generar una secuencia de 100 numeros entre -10 y 10 \n",
        "x = np.linspace(-10, 10, 100)\n",
        "# Creamos un arreglo con el seno de éstos números\n",
        "y = np.sin(x)\n",
        "# Generamos una gráfica con x vs y\n",
        "plt.plot(x, y, marker=\"x\")"
      ],
      "execution_count": 0,
      "outputs": [
        {
          "output_type": "execute_result",
          "data": {
            "text/plain": [
              "[<matplotlib.lines.Line2D at 0x7fce70722b70>]"
            ]
          },
          "metadata": {
            "tags": []
          },
          "execution_count": 37
        },
        {
          "output_type": "display_data",
          "data": {
            "image/png": "[encoded data removed]",
            "text/plain": [
              "<Figure size 432x288 with 1 Axes>"
            ]
          },
          "metadata": {
            "tags": []
          }
        }
      ]
    },
    {
      "cell_type": "markdown",
      "metadata": {
        "id": "QGhkpdwnYBG9",
        "colab_type": "text"
      },
      "source": [
        "Antes de realizar gráficas en usando matplolib, es necesario conocer cada una de las partes de una gráfica, con el fin de acceder facilmente a las funciones que las modifica:"
      ]
    },
    {
      "cell_type": "markdown",
      "metadata": {
        "id": "gYEvMIv2TFSK",
        "colab_type": "text"
      },
      "source": [
        "<a href=\"https://ibb.co/nBCK0rX\"><img src=\"https://i.ibb.co/ScrZxNk/partes-grafica.png\" alt=\"partes-grafica\" border=\"0\"></a>"
      ]
    },
    {
      "cell_type": "markdown",
      "metadata": {
        "id": "yKci4KKLeg8u",
        "colab_type": "text"
      },
      "source": [
        "Podemos representar en una figura, varias gráficas, adicionarle un título y etiquetar las curvas y los ejes"
      ]
    },
    {
      "cell_type": "code",
      "metadata": {
        "id": "-VabNHNiehqd",
        "colab_type": "code",
        "outputId": "e67fb4fd-59ca-44bb-b791-a6d6c6df2cae",
        "colab": {
          "base_uri": "https://localhost:8080/",
          "height": 295
        }
      },
      "source": [
        "import numpy as np\n",
        "import matplotlib.pyplot as plt\n",
        "\n",
        "# Coordenadas x y de las gráficas para las funciones seno y coseno\n",
        "x = np.arange(0, 3 * np.pi, 0.1)\n",
        "y_sin = np.sin(x)\n",
        "y_cos = np.cos(x)\n",
        "\n",
        "# Gráfica de los puntos usando matplolib.\n",
        "plt.plot(x, y_sin)\n",
        "plt.plot(x, y_cos)\n",
        "plt.xlabel('label del eje x')\n",
        "plt.ylabel('label del eje y')\n",
        "plt.title('Funciones seno y coseno')\n",
        "plt.legend(['Seno', 'Coseno'])\n",
        "plt.show()"
      ],
      "execution_count": 0,
      "outputs": [
        {
          "output_type": "display_data",
          "data": {
            "image/png": "[encoded data removed]",
            "text/plain": [
              "<Figure size 432x288 with 1 Axes>"
            ]
          },
          "metadata": {
            "tags": []
          }
        }
      ]
    },
    {
      "cell_type": "markdown",
      "metadata": {
        "id": "A9eYoSjpncUH",
        "colab_type": "text"
      },
      "source": [
        "Existen casos en los que los datos se presentan en un formato que le permite acceder a variables particulares con mediante una palabra clave. Por ejemplo, con numpy.recarray o pandas.DataFrame:"
      ]
    },
    {
      "cell_type": "code",
      "metadata": {
        "id": "xjBMkaa3nddG",
        "colab_type": "code",
        "outputId": "1ed6a86a-2116-472a-f6d3-584d04d40496",
        "colab": {
          "base_uri": "https://localhost:8080/",
          "height": 284
        }
      },
      "source": [
        "import matplotlib.pyplot as plt\n",
        "\n",
        "dicc = {'a': np.arange(50),\n",
        "        'c': np.random.randint(0, 50, 50),\n",
        "        'd': np.random.randn(50)}\n",
        "dicc['b'] = dicc['a'] + 10 * np.random.randn(50)\n",
        "dicc['d'] = np.abs(dicc['d']) * 100\n",
        "\n",
        "plt.scatter('a', 'b', c='c', s='d', data=dicc)\n",
        "plt.xlabel('Entrada a')\n",
        "plt.ylabel('Entrada b')\n",
        "plt.show()"
      ],
      "execution_count": 0,
      "outputs": [
        {
          "output_type": "display_data",
          "data": {
            "image/png": "[encoded data removed]",
            "text/plain": [
              "<Figure size 432x288 with 1 Axes>"
            ]
          },
          "metadata": {
            "tags": []
          }
        }
      ]
    },
    {
      "cell_type": "code",
      "metadata": {
        "id": "pP6eeohspx74",
        "colab_type": "code",
        "colab": {}
      },
      "source": [
        "plt.scatter?"
      ],
      "execution_count": 0,
      "outputs": []
    },
    {
      "cell_type": "markdown",
      "metadata": {
        "id": "Cqdo4gxOfxxt",
        "colab_type": "text"
      },
      "source": [
        "<p><a name=\"catVars\"></a></p>\n",
        "\n",
        "## 3.3 Gráficas de variables categóricas.\n",
        "\n",
        "[[Contenidos]](#contents)"
      ]
    },
    {
      "cell_type": "code",
      "metadata": {
        "id": "Eb9JiZLRsf-u",
        "colab_type": "code",
        "outputId": "62915937-a707-4ade-b6b7-971bfddc5741",
        "colab": {
          "base_uri": "https://localhost:8080/",
          "height": 233
        }
      },
      "source": [
        "import matplotlib.pyplot as plt\n",
        "\n",
        "names = ['groupo_a', 'groupo_b', 'groupo_c']\n",
        "values = [5, 25, 100]\n",
        "\n",
        "plt.figure(figsize=(9, 3))\n",
        "\n",
        "plt.subplot(131)\n",
        "plt.bar(names, values)\n",
        "plt.subplot(132)\n",
        "plt.scatter(names, values)\n",
        "plt.subplot(133)\n",
        "plt.plot(names, values)\n",
        "plt.suptitle('Gráficas categóricas')\n",
        "plt.show()"
      ],
      "execution_count": 0,
      "outputs": [
        {
          "output_type": "display_data",
          "data": {
            "image/png": "[encoded data removed]",
            "text/plain": [
              "<Figure size 648x216 with 3 Axes>"
            ]
          },
          "metadata": {
            "tags": []
          }
        }
      ]
    },
    {
      "cell_type": "code",
      "metadata": {
        "id": "cw-jX0yB5gYu",
        "colab_type": "code",
        "colab": {}
      },
      "source": [
        "plt.subplot?"
      ],
      "execution_count": 0,
      "outputs": []
    },
    {
      "cell_type": "markdown",
      "metadata": {
        "id": "3BCp_ZEyg5f7",
        "colab_type": "text"
      },
      "source": [
        "<p><a name=\"scatterPlots\"></a></p>\n",
        "\n",
        "## 3.4 Gráficos de dispersión.\n",
        "\n",
        "[[Contenidos]](#contents)\n",
        "\n",
        "A continuación se muestran varios ejemplos de gráficos de dispersión, los cuales pueden realizarse mediante la función `scatter`:"
      ]
    },
    {
      "cell_type": "code",
      "metadata": {
        "id": "5APQ2ZhHhIEz",
        "colab_type": "code",
        "outputId": "ad417e60-075c-4dc7-8961-2a17836b4b5d",
        "colab": {
          "base_uri": "https://localhost:8080/",
          "height": 295
        }
      },
      "source": [
        "import matplotlib.pyplot as plt\n",
        "import numpy as np\n",
        "\n",
        "# Generación de los puntos (x,y) para la realización de los gráficos de \n",
        "# dispersión.\n",
        "x=range(10)\n",
        "y=np.random.rand(10)\n",
        "\n",
        "plt.scatter(x,y)\n",
        "plt.xlabel('label del eje x')\n",
        "plt.ylabel('label del eje y')\n",
        "plt.title('Gráfico de dispersión')\n",
        "plt.show()"
      ],
      "execution_count": 0,
      "outputs": [
        {
          "output_type": "display_data",
          "data": {
            "image/png": "[encoded data removed]",
            "text/plain": [
              "<Figure size 432x288 with 1 Axes>"
            ]
          },
          "metadata": {
            "tags": []
          }
        }
      ]
    },
    {
      "cell_type": "code",
      "metadata": {
        "id": "tQx5gaepjN-k",
        "colab_type": "code",
        "outputId": "7d2f2355-cd51-43a9-d217-58a8532e600b",
        "colab": {
          "base_uri": "https://localhost:8080/",
          "height": 295
        }
      },
      "source": [
        "xx=np.array([0,3,5,1,9,7,6,2,4,8])\n",
        "\n",
        "plt.scatter(xx,y)\n",
        "plt.xlabel('label del eje x')\n",
        "plt.ylabel('label del eje y')\n",
        "plt.title('Gráfico de dispersión')\n",
        "plt.show()"
      ],
      "execution_count": 0,
      "outputs": [
        {
          "output_type": "display_data",
          "data": {
            "image/png": "[encoded data removed]",
            "text/plain": [
              "<Figure size 432x288 with 1 Axes>"
            ]
          },
          "metadata": {
            "tags": []
          }
        }
      ]
    },
    {
      "cell_type": "code",
      "metadata": {
        "id": "QQD9aPp_jvI1",
        "colab_type": "code",
        "outputId": "b150145d-f4eb-496f-a6cc-8645beee114a",
        "colab": {
          "base_uri": "https://localhost:8080/",
          "height": 295
        }
      },
      "source": [
        "plt.plot(x,y)\n",
        "plt.xlabel('label del eje x')\n",
        "plt.ylabel('label del eje y')\n",
        "plt.title('Gráfico de dispersión, puntos conectados')\n",
        "plt.show()"
      ],
      "execution_count": 0,
      "outputs": [
        {
          "output_type": "display_data",
          "data": {
            "image/png": "[encoded data removed]",
            "text/plain": [
              "<Figure size 432x288 with 1 Axes>"
            ]
          },
          "metadata": {
            "tags": []
          }
        }
      ]
    },
    {
      "cell_type": "code",
      "metadata": {
        "id": "bptSqSz4j-vB",
        "colab_type": "code",
        "outputId": "9c04ccdb-adf2-4e21-e2f6-d93c4f357fa7",
        "colab": {
          "base_uri": "https://localhost:8080/",
          "height": 295
        }
      },
      "source": [
        "plt.plot(xx,y)\n",
        "plt.xlabel('label del eje x')\n",
        "plt.ylabel('label del eje y')\n",
        "plt.title('Gráfico de dispersión, puntos conectados')\n",
        "plt.show()"
      ],
      "execution_count": 0,
      "outputs": [
        {
          "output_type": "display_data",
          "data": {
            "image/png": "[encoded data removed]",
            "text/plain": [
              "<Figure size 432x288 with 1 Axes>"
            ]
          },
          "metadata": {
            "tags": []
          }
        }
      ]
    },
    {
      "cell_type": "markdown",
      "metadata": {
        "id": "5Hmbe8lCkne5",
        "colab_type": "text"
      },
      "source": [
        "<p><a name=\"tmatplotlib\"></a></p>\n",
        "\n",
        "## 3.5 Taller `matplotlib`\n",
        "\n",
        "[[Contenidos]](#contents)"
      ]
    },
    {
      "cell_type": "markdown",
      "metadata": {
        "id": "YkWTnd6FlYZr",
        "colab_type": "text"
      },
      "source": [
        "<div class=\"alert alert-danger alertdanger\" style=\"margin-top: 20px\">\n",
        "<h1> Pregunta #1: </h1>\n",
        "\n",
        "**Grafíque los cuatro gráficos de ejemplo de la sección [gráficos de dispersión](#scatterPlots) en una figura compuesta por 4 subplots de 2x2 cajones**.\n"
      ]
    },
    {
      "cell_type": "markdown",
      "metadata": {
        "id": "7y1G7Ynloyhs",
        "colab_type": "text"
      },
      "source": [
        "<div class=\"alert alert-danger alertdanger\" style=\"margin-top: 20px\">\n",
        "<h1> Respuesta Pregunta #1: </h1>\n",
        "<b>Corra el código a continuación:</b>\n",
        "</div>"
      ]
    },
    {
      "cell_type": "markdown",
      "metadata": {
        "id": "vKt34ygUo6-N",
        "colab_type": "text"
      },
      "source": [
        "Para ver la solución haga double-click <b>aquí</b>.\n",
        "\n",
        "<!-- La respuesta se encuentra a continuación:\n",
        "import matplotlib.pyplot as plt\n",
        "import numpy as np\n",
        "\n",
        "# Generación de los puntos (x,y) para la realización de los gráficos de \n",
        "# dispersión.\n",
        "\n",
        "# Datos 1.\n",
        "x=range(10)\n",
        "y=np.random.rand(10)\n",
        "\n",
        "# Datos 2 (mismos valores de y de Datos1).\n",
        "xx=np.array([0,3,5,1,9,7,6,2,4,8])\n",
        "\n",
        "#Ajuste del tamaño de cada subplot\n",
        "plt.subplots(2,2, figsize=(8,8))\n",
        "\n",
        "plt.subplot(221)\n",
        "plt.scatter(x, y)\n",
        "plt.xlabel('label del eje x')\n",
        "plt.ylabel('label del eje y')\n",
        "plt.subplot(222)\n",
        "plt.scatter(xx,y)\n",
        "plt.xlabel('label del eje x')\n",
        "plt.ylabel('label del eje y')\n",
        "plt.subplot(223)\n",
        "plt.plot(x,y)\n",
        "plt.xlabel('label del eje x')\n",
        "plt.ylabel('label del eje y')\n",
        "plt.subplot(224)\n",
        "plt.plot(xx,y)\n",
        "plt.xlabel('label del eje x')\n",
        "plt.ylabel('label del eje y')\n",
        "plt.suptitle('Gráficos de dispersión')\n",
        "plt.show()\n",
        "-->"
      ]
    },
    {
      "cell_type": "markdown",
      "metadata": {
        "id": "QRcTUlvY1KT1",
        "colab_type": "text"
      },
      "source": [
        "<p><a name=\"pandas\"></a></p>\n",
        "\n",
        "# 4. Pandas.\n",
        "\n",
        "[[Contenidos]](#contents)\n",
        "\n",
        "\n",
        "`pandas` es una biblioteca que respresenta una extensión de numpy, para la manipulación y análisis de datos en Python."
      ]
    },
    {
      "cell_type": "markdown",
      "metadata": {
        "id": "-J3wznX-tPJa",
        "colab_type": "text"
      },
      "source": [
        "\n",
        "<p><a name=\"ipandas\"></a></p>\n",
        "\n",
        "## 4.1 Introducción a la librería `pandas`.\n",
        "\n",
        "[[Contenidos]](#contents)\n",
        "\n",
        "A continuación se expondrá la noción básica de dataFrame en `pandas`. \n",
        "\n"
      ]
    },
    {
      "cell_type": "code",
      "metadata": {
        "id": "TgcumsD9tPoh",
        "colab_type": "code",
        "colab": {}
      },
      "source": [
        "import pandas as pd\n",
        "\n",
        "numbers = {\"even\":list(range(0,200,2)),\"odd\":list(range(1,200,2))}\n",
        "\n",
        "# Creación de un dataFrame en pandas\n",
        "df=pd.DataFrame(numbers)"
      ],
      "execution_count": 0,
      "outputs": []
    },
    {
      "cell_type": "markdown",
      "metadata": {
        "id": "c_XHgD9Iva2G",
        "colab_type": "text"
      },
      "source": [
        "<p><a name=\"visu\"></a></p>\n",
        "\n",
        "## 4.2 Visualización del dataFrame.\n",
        "\n",
        "[[Contenidos]](#contents)"
      ]
    },
    {
      "cell_type": "markdown",
      "metadata": {
        "id": "rsRXMJKuvljX",
        "colab_type": "text"
      },
      "source": [
        "Para visualizar el dataFrame creado, sobretodo en el caso de almacenamiento de grandes tablas, existen dos métodos o funciones útiles mediante las cuales se puede inspecciónar el principio y final de los datos.\n",
        "\n",
        "\n",
        "Para inspeccionar la cabecera de la tabla usamos la función `head()` de la librería."
      ]
    },
    {
      "cell_type": "code",
      "metadata": {
        "id": "2atMDMORwGdm",
        "colab_type": "code",
        "outputId": "0ee078f2-d58a-44fa-9f55-4f6233d2f6a3",
        "colab": {
          "base_uri": "https://localhost:8080/",
          "height": 202
        }
      },
      "source": [
        "df.head()"
      ],
      "execution_count": 0,
      "outputs": [
        {
          "output_type": "execute_result",
          "data": {
            "text/html": [
              "<div>\n",
              "<style scoped>\n",
              "    .dataframe tbody tr th:only-of-type {\n",
              "        vertical-align: middle;\n",
              "    }\n",
              "\n",
              "    .dataframe tbody tr th {\n",
              "        vertical-align: top;\n",
              "    }\n",
              "\n",
              "    .dataframe thead th {\n",
              "        text-align: right;\n",
              "    }\n",
              "</style>\n",
              "<table border=\"1\" class=\"dataframe\">\n",
              "  <thead>\n",
              "    <tr style=\"text-align: right;\">\n",
              "      <th></th>\n",
              "      <th>even</th>\n",
              "      <th>odd</th>\n",
              "    </tr>\n",
              "  </thead>\n",
              "  <tbody>\n",
              "    <tr>\n",
              "      <th>0</th>\n",
              "      <td>0</td>\n",
              "      <td>1</td>\n",
              "    </tr>\n",
              "    <tr>\n",
              "      <th>1</th>\n",
              "      <td>2</td>\n",
              "      <td>3</td>\n",
              "    </tr>\n",
              "    <tr>\n",
              "      <th>2</th>\n",
              "      <td>4</td>\n",
              "      <td>5</td>\n",
              "    </tr>\n",
              "    <tr>\n",
              "      <th>3</th>\n",
              "      <td>6</td>\n",
              "      <td>7</td>\n",
              "    </tr>\n",
              "    <tr>\n",
              "      <th>4</th>\n",
              "      <td>8</td>\n",
              "      <td>9</td>\n",
              "    </tr>\n",
              "  </tbody>\n",
              "</table>\n",
              "</div>"
            ],
            "text/plain": [
              "   even  odd\n",
              "0     0    1\n",
              "1     2    3\n",
              "2     4    5\n",
              "3     6    7\n",
              "4     8    9"
            ]
          },
          "metadata": {
            "tags": []
          },
          "execution_count": 46
        }
      ]
    },
    {
      "cell_type": "markdown",
      "metadata": {
        "id": "_YWMAyg2w1Ct",
        "colab_type": "text"
      },
      "source": [
        "Por defecto, la función `head()` mostrará las cinco primeras filas de la tabla, además de la cabecera. \n",
        "\n",
        "Si se quiere imprimir en pantalla más elementos de la fila, se debe indicar el número deseado de la siguiente forma: "
      ]
    },
    {
      "cell_type": "code",
      "metadata": {
        "id": "HPkxwIoUw5Yq",
        "colab_type": "code",
        "outputId": "f79c79d7-63b4-4eff-f254-79ec2d2bf111",
        "colab": {
          "base_uri": "https://localhost:8080/",
          "height": 294
        }
      },
      "source": [
        "# Mostrar en pantalla las 8 primeras filas del dataFrame\n",
        "df.head(8)"
      ],
      "execution_count": 0,
      "outputs": [
        {
          "output_type": "execute_result",
          "data": {
            "text/html": [
              "<div>\n",
              "<style scoped>\n",
              "    .dataframe tbody tr th:only-of-type {\n",
              "        vertical-align: middle;\n",
              "    }\n",
              "\n",
              "    .dataframe tbody tr th {\n",
              "        vertical-align: top;\n",
              "    }\n",
              "\n",
              "    .dataframe thead th {\n",
              "        text-align: right;\n",
              "    }\n",
              "</style>\n",
              "<table border=\"1\" class=\"dataframe\">\n",
              "  <thead>\n",
              "    <tr style=\"text-align: right;\">\n",
              "      <th></th>\n",
              "      <th>even</th>\n",
              "      <th>odd</th>\n",
              "    </tr>\n",
              "  </thead>\n",
              "  <tbody>\n",
              "    <tr>\n",
              "      <th>0</th>\n",
              "      <td>0</td>\n",
              "      <td>1</td>\n",
              "    </tr>\n",
              "    <tr>\n",
              "      <th>1</th>\n",
              "      <td>2</td>\n",
              "      <td>3</td>\n",
              "    </tr>\n",
              "    <tr>\n",
              "      <th>2</th>\n",
              "      <td>4</td>\n",
              "      <td>5</td>\n",
              "    </tr>\n",
              "    <tr>\n",
              "      <th>3</th>\n",
              "      <td>6</td>\n",
              "      <td>7</td>\n",
              "    </tr>\n",
              "    <tr>\n",
              "      <th>4</th>\n",
              "      <td>8</td>\n",
              "      <td>9</td>\n",
              "    </tr>\n",
              "    <tr>\n",
              "      <th>5</th>\n",
              "      <td>10</td>\n",
              "      <td>11</td>\n",
              "    </tr>\n",
              "    <tr>\n",
              "      <th>6</th>\n",
              "      <td>12</td>\n",
              "      <td>13</td>\n",
              "    </tr>\n",
              "    <tr>\n",
              "      <th>7</th>\n",
              "      <td>14</td>\n",
              "      <td>15</td>\n",
              "    </tr>\n",
              "  </tbody>\n",
              "</table>\n",
              "</div>"
            ],
            "text/plain": [
              "   even  odd\n",
              "0     0    1\n",
              "1     2    3\n",
              "2     4    5\n",
              "3     6    7\n",
              "4     8    9\n",
              "5    10   11\n",
              "6    12   13\n",
              "7    14   15"
            ]
          },
          "metadata": {
            "tags": []
          },
          "execution_count": 48
        }
      ]
    },
    {
      "cell_type": "markdown",
      "metadata": {
        "id": "vlSG623Fx4gA",
        "colab_type": "text"
      },
      "source": [
        "Por otra parte, si lo que se quiere inspeccionar son los últimos datos del dataFrame, debemos usar la función `tail()`:"
      ]
    },
    {
      "cell_type": "code",
      "metadata": {
        "id": "mcM_YsB6yEsu",
        "colab_type": "code",
        "outputId": "907a4fcf-9876-46ea-c33a-4427cb53eac9",
        "colab": {
          "base_uri": "https://localhost:8080/",
          "height": 202
        }
      },
      "source": [
        "# Inspección del final del dataFrame\n",
        "\n",
        "df.tail()"
      ],
      "execution_count": 0,
      "outputs": [
        {
          "output_type": "execute_result",
          "data": {
            "text/html": [
              "<div>\n",
              "<style scoped>\n",
              "    .dataframe tbody tr th:only-of-type {\n",
              "        vertical-align: middle;\n",
              "    }\n",
              "\n",
              "    .dataframe tbody tr th {\n",
              "        vertical-align: top;\n",
              "    }\n",
              "\n",
              "    .dataframe thead th {\n",
              "        text-align: right;\n",
              "    }\n",
              "</style>\n",
              "<table border=\"1\" class=\"dataframe\">\n",
              "  <thead>\n",
              "    <tr style=\"text-align: right;\">\n",
              "      <th></th>\n",
              "      <th>even</th>\n",
              "      <th>odd</th>\n",
              "    </tr>\n",
              "  </thead>\n",
              "  <tbody>\n",
              "    <tr>\n",
              "      <th>95</th>\n",
              "      <td>190</td>\n",
              "      <td>191</td>\n",
              "    </tr>\n",
              "    <tr>\n",
              "      <th>96</th>\n",
              "      <td>192</td>\n",
              "      <td>193</td>\n",
              "    </tr>\n",
              "    <tr>\n",
              "      <th>97</th>\n",
              "      <td>194</td>\n",
              "      <td>195</td>\n",
              "    </tr>\n",
              "    <tr>\n",
              "      <th>98</th>\n",
              "      <td>196</td>\n",
              "      <td>197</td>\n",
              "    </tr>\n",
              "    <tr>\n",
              "      <th>99</th>\n",
              "      <td>198</td>\n",
              "      <td>199</td>\n",
              "    </tr>\n",
              "  </tbody>\n",
              "</table>\n",
              "</div>"
            ],
            "text/plain": [
              "    even  odd\n",
              "95   190  191\n",
              "96   192  193\n",
              "97   194  195\n",
              "98   196  197\n",
              "99   198  199"
            ]
          },
          "metadata": {
            "tags": []
          },
          "execution_count": 49
        }
      ]
    },
    {
      "cell_type": "markdown",
      "metadata": {
        "id": "aqs77P9kyVW7",
        "colab_type": "text"
      },
      "source": [
        "De forma análoga a la función `head()`, podemos especificar el número de filas a visualizar en la parte final del dataFrame:"
      ]
    },
    {
      "cell_type": "code",
      "metadata": {
        "id": "LDYEnNlCyjw6",
        "colab_type": "code",
        "outputId": "49825bdf-d2dd-4fa1-b681-8f86ddecbd39",
        "colab": {
          "base_uri": "https://localhost:8080/",
          "height": 263
        }
      },
      "source": [
        "df.tail(7)"
      ],
      "execution_count": 0,
      "outputs": [
        {
          "output_type": "execute_result",
          "data": {
            "text/html": [
              "<div>\n",
              "<style scoped>\n",
              "    .dataframe tbody tr th:only-of-type {\n",
              "        vertical-align: middle;\n",
              "    }\n",
              "\n",
              "    .dataframe tbody tr th {\n",
              "        vertical-align: top;\n",
              "    }\n",
              "\n",
              "    .dataframe thead th {\n",
              "        text-align: right;\n",
              "    }\n",
              "</style>\n",
              "<table border=\"1\" class=\"dataframe\">\n",
              "  <thead>\n",
              "    <tr style=\"text-align: right;\">\n",
              "      <th></th>\n",
              "      <th>even</th>\n",
              "      <th>odd</th>\n",
              "    </tr>\n",
              "  </thead>\n",
              "  <tbody>\n",
              "    <tr>\n",
              "      <th>93</th>\n",
              "      <td>186</td>\n",
              "      <td>187</td>\n",
              "    </tr>\n",
              "    <tr>\n",
              "      <th>94</th>\n",
              "      <td>188</td>\n",
              "      <td>189</td>\n",
              "    </tr>\n",
              "    <tr>\n",
              "      <th>95</th>\n",
              "      <td>190</td>\n",
              "      <td>191</td>\n",
              "    </tr>\n",
              "    <tr>\n",
              "      <th>96</th>\n",
              "      <td>192</td>\n",
              "      <td>193</td>\n",
              "    </tr>\n",
              "    <tr>\n",
              "      <th>97</th>\n",
              "      <td>194</td>\n",
              "      <td>195</td>\n",
              "    </tr>\n",
              "    <tr>\n",
              "      <th>98</th>\n",
              "      <td>196</td>\n",
              "      <td>197</td>\n",
              "    </tr>\n",
              "    <tr>\n",
              "      <th>99</th>\n",
              "      <td>198</td>\n",
              "      <td>199</td>\n",
              "    </tr>\n",
              "  </tbody>\n",
              "</table>\n",
              "</div>"
            ],
            "text/plain": [
              "    even  odd\n",
              "93   186  187\n",
              "94   188  189\n",
              "95   190  191\n",
              "96   192  193\n",
              "97   194  195\n",
              "98   196  197\n",
              "99   198  199"
            ]
          },
          "metadata": {
            "tags": []
          },
          "execution_count": 50
        }
      ]
    },
    {
      "cell_type": "markdown",
      "metadata": {
        "id": "sJ8t9alGusho",
        "colab_type": "text"
      },
      "source": [
        "<p><a name=\"internet\"></a></p>\n",
        "\n",
        "## 4.3 Carga de una base de datos de internet.\n",
        "\n",
        "[[Contenidos]](#contents)\n"
      ]
    },
    {
      "cell_type": "code",
      "metadata": {
        "id": "o2ji8VAvu9ij",
        "colab_type": "code",
        "colab": {}
      },
      "source": [
        "import pandas as pd\n",
        "\n",
        "# Lectura de una base de datos en internet y asignación a la variable df.\n",
        "path = \"https://s3-api.us-geo.objectstorage.softlayer.net/cf-courses-data/CognitiveClass/DA0101EN/auto.csv\"\n",
        "df = pd.read_csv(path, header=None)"
      ],
      "execution_count": 0,
      "outputs": []
    },
    {
      "cell_type": "markdown",
      "metadata": {
        "id": "HKLB_0Cdvy94",
        "colab_type": "text"
      },
      "source": [
        "Inspección de la tabla"
      ]
    },
    {
      "cell_type": "code",
      "metadata": {
        "id": "NquKtl9zwDwo",
        "colab_type": "code",
        "outputId": "daf56495-0b86-4733-e950-b73368304ab3",
        "colab": {
          "base_uri": "https://localhost:8080/",
          "height": 274
        }
      },
      "source": [
        "df.head()"
      ],
      "execution_count": 0,
      "outputs": [
        {
          "output_type": "execute_result",
          "data": {
            "text/html": [
              "<div>\n",
              "<style scoped>\n",
              "    .dataframe tbody tr th:only-of-type {\n",
              "        vertical-align: middle;\n",
              "    }\n",
              "\n",
              "    .dataframe tbody tr th {\n",
              "        vertical-align: top;\n",
              "    }\n",
              "\n",
              "    .dataframe thead th {\n",
              "        text-align: right;\n",
              "    }\n",
              "</style>\n",
              "<table border=\"1\" class=\"dataframe\">\n",
              "  <thead>\n",
              "    <tr style=\"text-align: right;\">\n",
              "      <th></th>\n",
              "      <th>0</th>\n",
              "      <th>1</th>\n",
              "      <th>2</th>\n",
              "      <th>3</th>\n",
              "      <th>4</th>\n",
              "      <th>5</th>\n",
              "      <th>6</th>\n",
              "      <th>7</th>\n",
              "      <th>8</th>\n",
              "      <th>9</th>\n",
              "      <th>10</th>\n",
              "      <th>11</th>\n",
              "      <th>12</th>\n",
              "      <th>13</th>\n",
              "      <th>14</th>\n",
              "      <th>15</th>\n",
              "      <th>16</th>\n",
              "      <th>17</th>\n",
              "      <th>18</th>\n",
              "      <th>19</th>\n",
              "      <th>20</th>\n",
              "      <th>21</th>\n",
              "      <th>22</th>\n",
              "      <th>23</th>\n",
              "      <th>24</th>\n",
              "      <th>25</th>\n",
              "    </tr>\n",
              "  </thead>\n",
              "  <tbody>\n",
              "    <tr>\n",
              "      <th>0</th>\n",
              "      <td>3</td>\n",
              "      <td>?</td>\n",
              "      <td>alfa-romero</td>\n",
              "      <td>gas</td>\n",
              "      <td>std</td>\n",
              "      <td>two</td>\n",
              "      <td>convertible</td>\n",
              "      <td>rwd</td>\n",
              "      <td>front</td>\n",
              "      <td>88.6</td>\n",
              "      <td>168.8</td>\n",
              "      <td>64.1</td>\n",
              "      <td>48.8</td>\n",
              "      <td>2548</td>\n",
              "      <td>dohc</td>\n",
              "      <td>four</td>\n",
              "      <td>130</td>\n",
              "      <td>mpfi</td>\n",
              "      <td>3.47</td>\n",
              "      <td>2.68</td>\n",
              "      <td>9.0</td>\n",
              "      <td>111</td>\n",
              "      <td>5000</td>\n",
              "      <td>21</td>\n",
              "      <td>27</td>\n",
              "      <td>13495</td>\n",
              "    </tr>\n",
              "    <tr>\n",
              "      <th>1</th>\n",
              "      <td>3</td>\n",
              "      <td>?</td>\n",
              "      <td>alfa-romero</td>\n",
              "      <td>gas</td>\n",
              "      <td>std</td>\n",
              "      <td>two</td>\n",
              "      <td>convertible</td>\n",
              "      <td>rwd</td>\n",
              "      <td>front</td>\n",
              "      <td>88.6</td>\n",
              "      <td>168.8</td>\n",
              "      <td>64.1</td>\n",
              "      <td>48.8</td>\n",
              "      <td>2548</td>\n",
              "      <td>dohc</td>\n",
              "      <td>four</td>\n",
              "      <td>130</td>\n",
              "      <td>mpfi</td>\n",
              "      <td>3.47</td>\n",
              "      <td>2.68</td>\n",
              "      <td>9.0</td>\n",
              "      <td>111</td>\n",
              "      <td>5000</td>\n",
              "      <td>21</td>\n",
              "      <td>27</td>\n",
              "      <td>16500</td>\n",
              "    </tr>\n",
              "    <tr>\n",
              "      <th>2</th>\n",
              "      <td>1</td>\n",
              "      <td>?</td>\n",
              "      <td>alfa-romero</td>\n",
              "      <td>gas</td>\n",
              "      <td>std</td>\n",
              "      <td>two</td>\n",
              "      <td>hatchback</td>\n",
              "      <td>rwd</td>\n",
              "      <td>front</td>\n",
              "      <td>94.5</td>\n",
              "      <td>171.2</td>\n",
              "      <td>65.5</td>\n",
              "      <td>52.4</td>\n",
              "      <td>2823</td>\n",
              "      <td>ohcv</td>\n",
              "      <td>six</td>\n",
              "      <td>152</td>\n",
              "      <td>mpfi</td>\n",
              "      <td>2.68</td>\n",
              "      <td>3.47</td>\n",
              "      <td>9.0</td>\n",
              "      <td>154</td>\n",
              "      <td>5000</td>\n",
              "      <td>19</td>\n",
              "      <td>26</td>\n",
              "      <td>16500</td>\n",
              "    </tr>\n",
              "    <tr>\n",
              "      <th>3</th>\n",
              "      <td>2</td>\n",
              "      <td>164</td>\n",
              "      <td>audi</td>\n",
              "      <td>gas</td>\n",
              "      <td>std</td>\n",
              "      <td>four</td>\n",
              "      <td>sedan</td>\n",
              "      <td>fwd</td>\n",
              "      <td>front</td>\n",
              "      <td>99.8</td>\n",
              "      <td>176.6</td>\n",
              "      <td>66.2</td>\n",
              "      <td>54.3</td>\n",
              "      <td>2337</td>\n",
              "      <td>ohc</td>\n",
              "      <td>four</td>\n",
              "      <td>109</td>\n",
              "      <td>mpfi</td>\n",
              "      <td>3.19</td>\n",
              "      <td>3.40</td>\n",
              "      <td>10.0</td>\n",
              "      <td>102</td>\n",
              "      <td>5500</td>\n",
              "      <td>24</td>\n",
              "      <td>30</td>\n",
              "      <td>13950</td>\n",
              "    </tr>\n",
              "    <tr>\n",
              "      <th>4</th>\n",
              "      <td>2</td>\n",
              "      <td>164</td>\n",
              "      <td>audi</td>\n",
              "      <td>gas</td>\n",
              "      <td>std</td>\n",
              "      <td>four</td>\n",
              "      <td>sedan</td>\n",
              "      <td>4wd</td>\n",
              "      <td>front</td>\n",
              "      <td>99.4</td>\n",
              "      <td>176.6</td>\n",
              "      <td>66.4</td>\n",
              "      <td>54.3</td>\n",
              "      <td>2824</td>\n",
              "      <td>ohc</td>\n",
              "      <td>five</td>\n",
              "      <td>136</td>\n",
              "      <td>mpfi</td>\n",
              "      <td>3.19</td>\n",
              "      <td>3.40</td>\n",
              "      <td>8.0</td>\n",
              "      <td>115</td>\n",
              "      <td>5500</td>\n",
              "      <td>18</td>\n",
              "      <td>22</td>\n",
              "      <td>17450</td>\n",
              "    </tr>\n",
              "  </tbody>\n",
              "</table>\n",
              "</div>"
            ],
            "text/plain": [
              "   0    1            2    3    4     5   ...    20   21    22  23  24     25\n",
              "0   3    ?  alfa-romero  gas  std   two  ...   9.0  111  5000  21  27  13495\n",
              "1   3    ?  alfa-romero  gas  std   two  ...   9.0  111  5000  21  27  16500\n",
              "2   1    ?  alfa-romero  gas  std   two  ...   9.0  154  5000  19  26  16500\n",
              "3   2  164         audi  gas  std  four  ...  10.0  102  5500  24  30  13950\n",
              "4   2  164         audi  gas  std  four  ...   8.0  115  5500  18  22  17450\n",
              "\n",
              "[5 rows x 26 columns]"
            ]
          },
          "metadata": {
            "tags": []
          },
          "execution_count": 4
        }
      ]
    },
    {
      "cell_type": "markdown",
      "metadata": {
        "id": "_gW_tx5Wwbf7",
        "colab_type": "text"
      },
      "source": [
        "Nótese que la cabecera de la tabla no se imprime, esto se debe a que, cuando se importó la tabla, no incluimos la cabecera al indicarlo mediante el argumento `header=None`."
      ]
    },
    {
      "cell_type": "code",
      "metadata": {
        "id": "I6ndQk2bwMq7",
        "colab_type": "code",
        "outputId": "f2d07632-575a-4ef4-d142-39c23df988ce",
        "colab": {
          "base_uri": "https://localhost:8080/",
          "height": 222
        }
      },
      "source": [
        "df.tail()"
      ],
      "execution_count": 0,
      "outputs": [
        {
          "output_type": "execute_result",
          "data": {
            "text/html": [
              "<div>\n",
              "<style scoped>\n",
              "    .dataframe tbody tr th:only-of-type {\n",
              "        vertical-align: middle;\n",
              "    }\n",
              "\n",
              "    .dataframe tbody tr th {\n",
              "        vertical-align: top;\n",
              "    }\n",
              "\n",
              "    .dataframe thead th {\n",
              "        text-align: right;\n",
              "    }\n",
              "</style>\n",
              "<table border=\"1\" class=\"dataframe\">\n",
              "  <thead>\n",
              "    <tr style=\"text-align: right;\">\n",
              "      <th></th>\n",
              "      <th>0</th>\n",
              "      <th>1</th>\n",
              "      <th>2</th>\n",
              "      <th>3</th>\n",
              "      <th>4</th>\n",
              "      <th>5</th>\n",
              "      <th>6</th>\n",
              "      <th>7</th>\n",
              "      <th>8</th>\n",
              "      <th>9</th>\n",
              "      <th>10</th>\n",
              "      <th>11</th>\n",
              "      <th>12</th>\n",
              "      <th>13</th>\n",
              "      <th>14</th>\n",
              "      <th>15</th>\n",
              "      <th>16</th>\n",
              "      <th>17</th>\n",
              "      <th>18</th>\n",
              "      <th>19</th>\n",
              "      <th>20</th>\n",
              "      <th>21</th>\n",
              "      <th>22</th>\n",
              "      <th>23</th>\n",
              "      <th>24</th>\n",
              "      <th>25</th>\n",
              "    </tr>\n",
              "  </thead>\n",
              "  <tbody>\n",
              "    <tr>\n",
              "      <th>200</th>\n",
              "      <td>-1</td>\n",
              "      <td>95</td>\n",
              "      <td>volvo</td>\n",
              "      <td>gas</td>\n",
              "      <td>std</td>\n",
              "      <td>four</td>\n",
              "      <td>sedan</td>\n",
              "      <td>rwd</td>\n",
              "      <td>front</td>\n",
              "      <td>109.1</td>\n",
              "      <td>188.8</td>\n",
              "      <td>68.9</td>\n",
              "      <td>55.5</td>\n",
              "      <td>2952</td>\n",
              "      <td>ohc</td>\n",
              "      <td>four</td>\n",
              "      <td>141</td>\n",
              "      <td>mpfi</td>\n",
              "      <td>3.78</td>\n",
              "      <td>3.15</td>\n",
              "      <td>9.5</td>\n",
              "      <td>114</td>\n",
              "      <td>5400</td>\n",
              "      <td>23</td>\n",
              "      <td>28</td>\n",
              "      <td>16845</td>\n",
              "    </tr>\n",
              "    <tr>\n",
              "      <th>201</th>\n",
              "      <td>-1</td>\n",
              "      <td>95</td>\n",
              "      <td>volvo</td>\n",
              "      <td>gas</td>\n",
              "      <td>turbo</td>\n",
              "      <td>four</td>\n",
              "      <td>sedan</td>\n",
              "      <td>rwd</td>\n",
              "      <td>front</td>\n",
              "      <td>109.1</td>\n",
              "      <td>188.8</td>\n",
              "      <td>68.8</td>\n",
              "      <td>55.5</td>\n",
              "      <td>3049</td>\n",
              "      <td>ohc</td>\n",
              "      <td>four</td>\n",
              "      <td>141</td>\n",
              "      <td>mpfi</td>\n",
              "      <td>3.78</td>\n",
              "      <td>3.15</td>\n",
              "      <td>8.7</td>\n",
              "      <td>160</td>\n",
              "      <td>5300</td>\n",
              "      <td>19</td>\n",
              "      <td>25</td>\n",
              "      <td>19045</td>\n",
              "    </tr>\n",
              "    <tr>\n",
              "      <th>202</th>\n",
              "      <td>-1</td>\n",
              "      <td>95</td>\n",
              "      <td>volvo</td>\n",
              "      <td>gas</td>\n",
              "      <td>std</td>\n",
              "      <td>four</td>\n",
              "      <td>sedan</td>\n",
              "      <td>rwd</td>\n",
              "      <td>front</td>\n",
              "      <td>109.1</td>\n",
              "      <td>188.8</td>\n",
              "      <td>68.9</td>\n",
              "      <td>55.5</td>\n",
              "      <td>3012</td>\n",
              "      <td>ohcv</td>\n",
              "      <td>six</td>\n",
              "      <td>173</td>\n",
              "      <td>mpfi</td>\n",
              "      <td>3.58</td>\n",
              "      <td>2.87</td>\n",
              "      <td>8.8</td>\n",
              "      <td>134</td>\n",
              "      <td>5500</td>\n",
              "      <td>18</td>\n",
              "      <td>23</td>\n",
              "      <td>21485</td>\n",
              "    </tr>\n",
              "    <tr>\n",
              "      <th>203</th>\n",
              "      <td>-1</td>\n",
              "      <td>95</td>\n",
              "      <td>volvo</td>\n",
              "      <td>diesel</td>\n",
              "      <td>turbo</td>\n",
              "      <td>four</td>\n",
              "      <td>sedan</td>\n",
              "      <td>rwd</td>\n",
              "      <td>front</td>\n",
              "      <td>109.1</td>\n",
              "      <td>188.8</td>\n",
              "      <td>68.9</td>\n",
              "      <td>55.5</td>\n",
              "      <td>3217</td>\n",
              "      <td>ohc</td>\n",
              "      <td>six</td>\n",
              "      <td>145</td>\n",
              "      <td>idi</td>\n",
              "      <td>3.01</td>\n",
              "      <td>3.40</td>\n",
              "      <td>23.0</td>\n",
              "      <td>106</td>\n",
              "      <td>4800</td>\n",
              "      <td>26</td>\n",
              "      <td>27</td>\n",
              "      <td>22470</td>\n",
              "    </tr>\n",
              "    <tr>\n",
              "      <th>204</th>\n",
              "      <td>-1</td>\n",
              "      <td>95</td>\n",
              "      <td>volvo</td>\n",
              "      <td>gas</td>\n",
              "      <td>turbo</td>\n",
              "      <td>four</td>\n",
              "      <td>sedan</td>\n",
              "      <td>rwd</td>\n",
              "      <td>front</td>\n",
              "      <td>109.1</td>\n",
              "      <td>188.8</td>\n",
              "      <td>68.9</td>\n",
              "      <td>55.5</td>\n",
              "      <td>3062</td>\n",
              "      <td>ohc</td>\n",
              "      <td>four</td>\n",
              "      <td>141</td>\n",
              "      <td>mpfi</td>\n",
              "      <td>3.78</td>\n",
              "      <td>3.15</td>\n",
              "      <td>9.5</td>\n",
              "      <td>114</td>\n",
              "      <td>5400</td>\n",
              "      <td>19</td>\n",
              "      <td>25</td>\n",
              "      <td>22625</td>\n",
              "    </tr>\n",
              "  </tbody>\n",
              "</table>\n",
              "</div>"
            ],
            "text/plain": [
              "     0   1      2       3      4     5   ...    20   21    22  23  24     25\n",
              "200  -1  95  volvo     gas    std  four  ...   9.5  114  5400  23  28  16845\n",
              "201  -1  95  volvo     gas  turbo  four  ...   8.7  160  5300  19  25  19045\n",
              "202  -1  95  volvo     gas    std  four  ...   8.8  134  5500  18  23  21485\n",
              "203  -1  95  volvo  diesel  turbo  four  ...  23.0  106  4800  26  27  22470\n",
              "204  -1  95  volvo     gas  turbo  four  ...   9.5  114  5400  19  25  22625\n",
              "\n",
              "[5 rows x 26 columns]"
            ]
          },
          "metadata": {
            "tags": []
          },
          "execution_count": 5
        }
      ]
    },
    {
      "cell_type": "markdown",
      "metadata": {
        "id": "lvfDMqm5BIgJ",
        "colab_type": "text"
      },
      "source": [
        "## Pregunta: \n",
        "\n",
        "Imprima en pantalla los 10 primeros elementos del dataFrame y los 10 últimos elementos."
      ]
    },
    {
      "cell_type": "markdown",
      "metadata": {
        "id": "ELX582hhBOys",
        "colab_type": "text"
      },
      "source": [
        "Para ver la solución haga double-click <b>aquí</b>.\n",
        "\n",
        "<!-- La respuesta se encuentra a continuación:\n",
        "\n",
        "# Celda 1: 10 primeros elementos del dataFrame\n",
        "\n",
        "df.head(10)\n",
        "\n",
        "# Celda 2: 10 últimos elementos del dataFrame\n",
        "\n",
        "df.tail(10)\n",
        "\n",
        "-->"
      ]
    },
    {
      "cell_type": "markdown",
      "metadata": {
        "id": "uRHx-OTDBWp7",
        "colab_type": "text"
      },
      "source": [
        "Agreguemos un header a los datos cargados:"
      ]
    },
    {
      "cell_type": "code",
      "metadata": {
        "id": "ggmzAZlmBbnX",
        "colab_type": "code",
        "outputId": "9bc72eb1-f62a-4cce-c3dc-7afd2d2d8b8d",
        "colab": {
          "base_uri": "https://localhost:8080/",
          "height": 72
        }
      },
      "source": [
        "# Creación de un header\n",
        "headers = [\"symboling\",\"normalized-losses\",\"make\",\"fuel-type\",\"aspiration\", \"num-of-doors\",\"body-style\",\n",
        "         \"drive-wheels\",\"engine-location\",\"wheel-base\", \"length\",\"width\",\"height\",\"curb-weight\",\"engine-type\",\n",
        "         \"num-of-cylinders\", \"engine-size\",\"fuel-system\",\"bore\",\"stroke\",\"compression-ratio\",\"horsepower\",\n",
        "         \"peak-rpm\",\"city-mpg\",\"highway-mpg\",\"price\"]\n",
        "print(\"headers\\n\", headers)"
      ],
      "execution_count": 0,
      "outputs": [
        {
          "output_type": "stream",
          "text": [
            "headers\n",
            " ['symboling', 'normalized-losses', 'make', 'fuel-type', 'aspiration', 'num-of-doors', 'body-style', 'drive-wheels', 'engine-location', 'wheel-base', 'length', 'width', 'height', 'curb-weight', 'engine-type', 'num-of-cylinders', 'engine-size', 'fuel-system', 'bore', 'stroke', 'compression-ratio', 'horsepower', 'peak-rpm', 'city-mpg', 'highway-mpg', 'price']\n"
          ],
          "name": "stdout"
        }
      ]
    },
    {
      "cell_type": "markdown",
      "metadata": {
        "id": "72gjs6qUBgoy",
        "colab_type": "text"
      },
      "source": [
        "Remplazo del header en el dataFrame"
      ]
    },
    {
      "cell_type": "code",
      "metadata": {
        "id": "3ySUhc6qBme1",
        "colab_type": "code",
        "outputId": "a4bf595c-a577-4ff3-a91f-c8bbdd236373",
        "colab": {
          "base_uri": "https://localhost:8080/",
          "height": 462
        }
      },
      "source": [
        "df.columns = headers\n",
        "df.head(10)"
      ],
      "execution_count": 0,
      "outputs": [
        {
          "output_type": "execute_result",
          "data": {
            "text/html": [
              "<div>\n",
              "<style scoped>\n",
              "    .dataframe tbody tr th:only-of-type {\n",
              "        vertical-align: middle;\n",
              "    }\n",
              "\n",
              "    .dataframe tbody tr th {\n",
              "        vertical-align: top;\n",
              "    }\n",
              "\n",
              "    .dataframe thead th {\n",
              "        text-align: right;\n",
              "    }\n",
              "</style>\n",
              "<table border=\"1\" class=\"dataframe\">\n",
              "  <thead>\n",
              "    <tr style=\"text-align: right;\">\n",
              "      <th></th>\n",
              "      <th>symboling</th>\n",
              "      <th>normalized-losses</th>\n",
              "      <th>make</th>\n",
              "      <th>fuel-type</th>\n",
              "      <th>aspiration</th>\n",
              "      <th>num-of-doors</th>\n",
              "      <th>body-style</th>\n",
              "      <th>drive-wheels</th>\n",
              "      <th>engine-location</th>\n",
              "      <th>wheel-base</th>\n",
              "      <th>length</th>\n",
              "      <th>width</th>\n",
              "      <th>height</th>\n",
              "      <th>curb-weight</th>\n",
              "      <th>engine-type</th>\n",
              "      <th>num-of-cylinders</th>\n",
              "      <th>engine-size</th>\n",
              "      <th>fuel-system</th>\n",
              "      <th>bore</th>\n",
              "      <th>stroke</th>\n",
              "      <th>compression-ratio</th>\n",
              "      <th>horsepower</th>\n",
              "      <th>peak-rpm</th>\n",
              "      <th>city-mpg</th>\n",
              "      <th>highway-mpg</th>\n",
              "      <th>price</th>\n",
              "    </tr>\n",
              "  </thead>\n",
              "  <tbody>\n",
              "    <tr>\n",
              "      <th>0</th>\n",
              "      <td>3</td>\n",
              "      <td>?</td>\n",
              "      <td>alfa-romero</td>\n",
              "      <td>gas</td>\n",
              "      <td>std</td>\n",
              "      <td>two</td>\n",
              "      <td>convertible</td>\n",
              "      <td>rwd</td>\n",
              "      <td>front</td>\n",
              "      <td>88.6</td>\n",
              "      <td>168.8</td>\n",
              "      <td>64.1</td>\n",
              "      <td>48.8</td>\n",
              "      <td>2548</td>\n",
              "      <td>dohc</td>\n",
              "      <td>four</td>\n",
              "      <td>130</td>\n",
              "      <td>mpfi</td>\n",
              "      <td>3.47</td>\n",
              "      <td>2.68</td>\n",
              "      <td>9.0</td>\n",
              "      <td>111</td>\n",
              "      <td>5000</td>\n",
              "      <td>21</td>\n",
              "      <td>27</td>\n",
              "      <td>13495</td>\n",
              "    </tr>\n",
              "    <tr>\n",
              "      <th>1</th>\n",
              "      <td>3</td>\n",
              "      <td>?</td>\n",
              "      <td>alfa-romero</td>\n",
              "      <td>gas</td>\n",
              "      <td>std</td>\n",
              "      <td>two</td>\n",
              "      <td>convertible</td>\n",
              "      <td>rwd</td>\n",
              "      <td>front</td>\n",
              "      <td>88.6</td>\n",
              "      <td>168.8</td>\n",
              "      <td>64.1</td>\n",
              "      <td>48.8</td>\n",
              "      <td>2548</td>\n",
              "      <td>dohc</td>\n",
              "      <td>four</td>\n",
              "      <td>130</td>\n",
              "      <td>mpfi</td>\n",
              "      <td>3.47</td>\n",
              "      <td>2.68</td>\n",
              "      <td>9.0</td>\n",
              "      <td>111</td>\n",
              "      <td>5000</td>\n",
              "      <td>21</td>\n",
              "      <td>27</td>\n",
              "      <td>16500</td>\n",
              "    </tr>\n",
              "    <tr>\n",
              "      <th>2</th>\n",
              "      <td>1</td>\n",
              "      <td>?</td>\n",
              "      <td>alfa-romero</td>\n",
              "      <td>gas</td>\n",
              "      <td>std</td>\n",
              "      <td>two</td>\n",
              "      <td>hatchback</td>\n",
              "      <td>rwd</td>\n",
              "      <td>front</td>\n",
              "      <td>94.5</td>\n",
              "      <td>171.2</td>\n",
              "      <td>65.5</td>\n",
              "      <td>52.4</td>\n",
              "      <td>2823</td>\n",
              "      <td>ohcv</td>\n",
              "      <td>six</td>\n",
              "      <td>152</td>\n",
              "      <td>mpfi</td>\n",
              "      <td>2.68</td>\n",
              "      <td>3.47</td>\n",
              "      <td>9.0</td>\n",
              "      <td>154</td>\n",
              "      <td>5000</td>\n",
              "      <td>19</td>\n",
              "      <td>26</td>\n",
              "      <td>16500</td>\n",
              "    </tr>\n",
              "    <tr>\n",
              "      <th>3</th>\n",
              "      <td>2</td>\n",
              "      <td>164</td>\n",
              "      <td>audi</td>\n",
              "      <td>gas</td>\n",
              "      <td>std</td>\n",
              "      <td>four</td>\n",
              "      <td>sedan</td>\n",
              "      <td>fwd</td>\n",
              "      <td>front</td>\n",
              "      <td>99.8</td>\n",
              "      <td>176.6</td>\n",
              "      <td>66.2</td>\n",
              "      <td>54.3</td>\n",
              "      <td>2337</td>\n",
              "      <td>ohc</td>\n",
              "      <td>four</td>\n",
              "      <td>109</td>\n",
              "      <td>mpfi</td>\n",
              "      <td>3.19</td>\n",
              "      <td>3.40</td>\n",
              "      <td>10.0</td>\n",
              "      <td>102</td>\n",
              "      <td>5500</td>\n",
              "      <td>24</td>\n",
              "      <td>30</td>\n",
              "      <td>13950</td>\n",
              "    </tr>\n",
              "    <tr>\n",
              "      <th>4</th>\n",
              "      <td>2</td>\n",
              "      <td>164</td>\n",
              "      <td>audi</td>\n",
              "      <td>gas</td>\n",
              "      <td>std</td>\n",
              "      <td>four</td>\n",
              "      <td>sedan</td>\n",
              "      <td>4wd</td>\n",
              "      <td>front</td>\n",
              "      <td>99.4</td>\n",
              "      <td>176.6</td>\n",
              "      <td>66.4</td>\n",
              "      <td>54.3</td>\n",
              "      <td>2824</td>\n",
              "      <td>ohc</td>\n",
              "      <td>five</td>\n",
              "      <td>136</td>\n",
              "      <td>mpfi</td>\n",
              "      <td>3.19</td>\n",
              "      <td>3.40</td>\n",
              "      <td>8.0</td>\n",
              "      <td>115</td>\n",
              "      <td>5500</td>\n",
              "      <td>18</td>\n",
              "      <td>22</td>\n",
              "      <td>17450</td>\n",
              "    </tr>\n",
              "    <tr>\n",
              "      <th>5</th>\n",
              "      <td>2</td>\n",
              "      <td>?</td>\n",
              "      <td>audi</td>\n",
              "      <td>gas</td>\n",
              "      <td>std</td>\n",
              "      <td>two</td>\n",
              "      <td>sedan</td>\n",
              "      <td>fwd</td>\n",
              "      <td>front</td>\n",
              "      <td>99.8</td>\n",
              "      <td>177.3</td>\n",
              "      <td>66.3</td>\n",
              "      <td>53.1</td>\n",
              "      <td>2507</td>\n",
              "      <td>ohc</td>\n",
              "      <td>five</td>\n",
              "      <td>136</td>\n",
              "      <td>mpfi</td>\n",
              "      <td>3.19</td>\n",
              "      <td>3.40</td>\n",
              "      <td>8.5</td>\n",
              "      <td>110</td>\n",
              "      <td>5500</td>\n",
              "      <td>19</td>\n",
              "      <td>25</td>\n",
              "      <td>15250</td>\n",
              "    </tr>\n",
              "    <tr>\n",
              "      <th>6</th>\n",
              "      <td>1</td>\n",
              "      <td>158</td>\n",
              "      <td>audi</td>\n",
              "      <td>gas</td>\n",
              "      <td>std</td>\n",
              "      <td>four</td>\n",
              "      <td>sedan</td>\n",
              "      <td>fwd</td>\n",
              "      <td>front</td>\n",
              "      <td>105.8</td>\n",
              "      <td>192.7</td>\n",
              "      <td>71.4</td>\n",
              "      <td>55.7</td>\n",
              "      <td>2844</td>\n",
              "      <td>ohc</td>\n",
              "      <td>five</td>\n",
              "      <td>136</td>\n",
              "      <td>mpfi</td>\n",
              "      <td>3.19</td>\n",
              "      <td>3.40</td>\n",
              "      <td>8.5</td>\n",
              "      <td>110</td>\n",
              "      <td>5500</td>\n",
              "      <td>19</td>\n",
              "      <td>25</td>\n",
              "      <td>17710</td>\n",
              "    </tr>\n",
              "    <tr>\n",
              "      <th>7</th>\n",
              "      <td>1</td>\n",
              "      <td>?</td>\n",
              "      <td>audi</td>\n",
              "      <td>gas</td>\n",
              "      <td>std</td>\n",
              "      <td>four</td>\n",
              "      <td>wagon</td>\n",
              "      <td>fwd</td>\n",
              "      <td>front</td>\n",
              "      <td>105.8</td>\n",
              "      <td>192.7</td>\n",
              "      <td>71.4</td>\n",
              "      <td>55.7</td>\n",
              "      <td>2954</td>\n",
              "      <td>ohc</td>\n",
              "      <td>five</td>\n",
              "      <td>136</td>\n",
              "      <td>mpfi</td>\n",
              "      <td>3.19</td>\n",
              "      <td>3.40</td>\n",
              "      <td>8.5</td>\n",
              "      <td>110</td>\n",
              "      <td>5500</td>\n",
              "      <td>19</td>\n",
              "      <td>25</td>\n",
              "      <td>18920</td>\n",
              "    </tr>\n",
              "    <tr>\n",
              "      <th>8</th>\n",
              "      <td>1</td>\n",
              "      <td>158</td>\n",
              "      <td>audi</td>\n",
              "      <td>gas</td>\n",
              "      <td>turbo</td>\n",
              "      <td>four</td>\n",
              "      <td>sedan</td>\n",
              "      <td>fwd</td>\n",
              "      <td>front</td>\n",
              "      <td>105.8</td>\n",
              "      <td>192.7</td>\n",
              "      <td>71.4</td>\n",
              "      <td>55.9</td>\n",
              "      <td>3086</td>\n",
              "      <td>ohc</td>\n",
              "      <td>five</td>\n",
              "      <td>131</td>\n",
              "      <td>mpfi</td>\n",
              "      <td>3.13</td>\n",
              "      <td>3.40</td>\n",
              "      <td>8.3</td>\n",
              "      <td>140</td>\n",
              "      <td>5500</td>\n",
              "      <td>17</td>\n",
              "      <td>20</td>\n",
              "      <td>23875</td>\n",
              "    </tr>\n",
              "    <tr>\n",
              "      <th>9</th>\n",
              "      <td>0</td>\n",
              "      <td>?</td>\n",
              "      <td>audi</td>\n",
              "      <td>gas</td>\n",
              "      <td>turbo</td>\n",
              "      <td>two</td>\n",
              "      <td>hatchback</td>\n",
              "      <td>4wd</td>\n",
              "      <td>front</td>\n",
              "      <td>99.5</td>\n",
              "      <td>178.2</td>\n",
              "      <td>67.9</td>\n",
              "      <td>52.0</td>\n",
              "      <td>3053</td>\n",
              "      <td>ohc</td>\n",
              "      <td>five</td>\n",
              "      <td>131</td>\n",
              "      <td>mpfi</td>\n",
              "      <td>3.13</td>\n",
              "      <td>3.40</td>\n",
              "      <td>7.0</td>\n",
              "      <td>160</td>\n",
              "      <td>5500</td>\n",
              "      <td>16</td>\n",
              "      <td>22</td>\n",
              "      <td>?</td>\n",
              "    </tr>\n",
              "  </tbody>\n",
              "</table>\n",
              "</div>"
            ],
            "text/plain": [
              "   symboling normalized-losses         make  ... city-mpg highway-mpg  price\n",
              "0          3                 ?  alfa-romero  ...       21          27  13495\n",
              "1          3                 ?  alfa-romero  ...       21          27  16500\n",
              "2          1                 ?  alfa-romero  ...       19          26  16500\n",
              "3          2               164         audi  ...       24          30  13950\n",
              "4          2               164         audi  ...       18          22  17450\n",
              "5          2                 ?         audi  ...       19          25  15250\n",
              "6          1               158         audi  ...       19          25  17710\n",
              "7          1                 ?         audi  ...       19          25  18920\n",
              "8          1               158         audi  ...       17          20  23875\n",
              "9          0                 ?         audi  ...       16          22      ?\n",
              "\n",
              "[10 rows x 26 columns]"
            ]
          },
          "metadata": {
            "tags": []
          },
          "execution_count": 14
        }
      ]
    },
    {
      "cell_type": "markdown",
      "metadata": {
        "id": "ZO4od7zdACUx",
        "colab_type": "text"
      },
      "source": [
        "<p><a name=\"dataExploration\"></a></p>\n",
        "\n",
        "## 4.4 Exploración básica del dataFrame.\n",
        "\n",
        "[[Contenidos]](#contents)\n",
        "\n",
        "\n",
        "A continuación se analizan los tipos de datos que contiene el dataFrame anterior. Para esto, usamos la funcion `dtypes`"
      ]
    },
    {
      "cell_type": "code",
      "metadata": {
        "id": "RdtAfbJdAcw-",
        "colab_type": "code",
        "outputId": "c1067c5f-1731-4b6e-f204-5b09a1438d6b",
        "colab": {
          "base_uri": "https://localhost:8080/",
          "height": 485
        }
      },
      "source": [
        "df.dtypes"
      ],
      "execution_count": 0,
      "outputs": [
        {
          "output_type": "execute_result",
          "data": {
            "text/plain": [
              "symboling              int64\n",
              "normalized-losses     object\n",
              "make                  object\n",
              "fuel-type             object\n",
              "aspiration            object\n",
              "num-of-doors          object\n",
              "body-style            object\n",
              "drive-wheels          object\n",
              "engine-location       object\n",
              "wheel-base           float64\n",
              "length               float64\n",
              "width                float64\n",
              "height               float64\n",
              "curb-weight            int64\n",
              "engine-type           object\n",
              "num-of-cylinders      object\n",
              "engine-size            int64\n",
              "fuel-system           object\n",
              "bore                  object\n",
              "stroke                object\n",
              "compression-ratio    float64\n",
              "horsepower            object\n",
              "peak-rpm              object\n",
              "city-mpg               int64\n",
              "highway-mpg            int64\n",
              "price                 object\n",
              "dtype: object"
            ]
          },
          "metadata": {
            "tags": []
          },
          "execution_count": 15
        }
      ]
    },
    {
      "cell_type": "markdown",
      "metadata": {
        "id": "mfb_KbuLB5S3",
        "colab_type": "text"
      },
      "source": [
        "**Descripción del dataFrame**\n",
        "\n",
        "Para obtener una descripción estadistica del dataFrame, podemos usar el método `describe()` de la siguiente forma "
      ]
    },
    {
      "cell_type": "code",
      "metadata": {
        "id": "EyfNX8ACB3-p",
        "colab_type": "code",
        "outputId": "2222fa78-2d24-4ee7-f399-05ff53d785aa",
        "colab": {
          "base_uri": "https://localhost:8080/",
          "height": 331
        }
      },
      "source": [
        "df.describe()"
      ],
      "execution_count": 0,
      "outputs": [
        {
          "output_type": "execute_result",
          "data": {
            "text/html": [
              "<div>\n",
              "<style scoped>\n",
              "    .dataframe tbody tr th:only-of-type {\n",
              "        vertical-align: middle;\n",
              "    }\n",
              "\n",
              "    .dataframe tbody tr th {\n",
              "        vertical-align: top;\n",
              "    }\n",
              "\n",
              "    .dataframe thead th {\n",
              "        text-align: right;\n",
              "    }\n",
              "</style>\n",
              "<table border=\"1\" class=\"dataframe\">\n",
              "  <thead>\n",
              "    <tr style=\"text-align: right;\">\n",
              "      <th></th>\n",
              "      <th>symboling</th>\n",
              "      <th>wheel-base</th>\n",
              "      <th>length</th>\n",
              "      <th>width</th>\n",
              "      <th>height</th>\n",
              "      <th>curb-weight</th>\n",
              "      <th>engine-size</th>\n",
              "      <th>compression-ratio</th>\n",
              "      <th>city-mpg</th>\n",
              "      <th>highway-mpg</th>\n",
              "    </tr>\n",
              "  </thead>\n",
              "  <tbody>\n",
              "    <tr>\n",
              "      <th>count</th>\n",
              "      <td>205.000000</td>\n",
              "      <td>205.000000</td>\n",
              "      <td>205.000000</td>\n",
              "      <td>205.000000</td>\n",
              "      <td>205.000000</td>\n",
              "      <td>205.000000</td>\n",
              "      <td>205.000000</td>\n",
              "      <td>205.000000</td>\n",
              "      <td>205.000000</td>\n",
              "      <td>205.000000</td>\n",
              "    </tr>\n",
              "    <tr>\n",
              "      <th>mean</th>\n",
              "      <td>0.834146</td>\n",
              "      <td>98.756585</td>\n",
              "      <td>174.049268</td>\n",
              "      <td>65.907805</td>\n",
              "      <td>53.724878</td>\n",
              "      <td>2555.565854</td>\n",
              "      <td>126.907317</td>\n",
              "      <td>10.142537</td>\n",
              "      <td>25.219512</td>\n",
              "      <td>30.751220</td>\n",
              "    </tr>\n",
              "    <tr>\n",
              "      <th>std</th>\n",
              "      <td>1.245307</td>\n",
              "      <td>6.021776</td>\n",
              "      <td>12.337289</td>\n",
              "      <td>2.145204</td>\n",
              "      <td>2.443522</td>\n",
              "      <td>520.680204</td>\n",
              "      <td>41.642693</td>\n",
              "      <td>3.972040</td>\n",
              "      <td>6.542142</td>\n",
              "      <td>6.886443</td>\n",
              "    </tr>\n",
              "    <tr>\n",
              "      <th>min</th>\n",
              "      <td>-2.000000</td>\n",
              "      <td>86.600000</td>\n",
              "      <td>141.100000</td>\n",
              "      <td>60.300000</td>\n",
              "      <td>47.800000</td>\n",
              "      <td>1488.000000</td>\n",
              "      <td>61.000000</td>\n",
              "      <td>7.000000</td>\n",
              "      <td>13.000000</td>\n",
              "      <td>16.000000</td>\n",
              "    </tr>\n",
              "    <tr>\n",
              "      <th>25%</th>\n",
              "      <td>0.000000</td>\n",
              "      <td>94.500000</td>\n",
              "      <td>166.300000</td>\n",
              "      <td>64.100000</td>\n",
              "      <td>52.000000</td>\n",
              "      <td>2145.000000</td>\n",
              "      <td>97.000000</td>\n",
              "      <td>8.600000</td>\n",
              "      <td>19.000000</td>\n",
              "      <td>25.000000</td>\n",
              "    </tr>\n",
              "    <tr>\n",
              "      <th>50%</th>\n",
              "      <td>1.000000</td>\n",
              "      <td>97.000000</td>\n",
              "      <td>173.200000</td>\n",
              "      <td>65.500000</td>\n",
              "      <td>54.100000</td>\n",
              "      <td>2414.000000</td>\n",
              "      <td>120.000000</td>\n",
              "      <td>9.000000</td>\n",
              "      <td>24.000000</td>\n",
              "      <td>30.000000</td>\n",
              "    </tr>\n",
              "    <tr>\n",
              "      <th>75%</th>\n",
              "      <td>2.000000</td>\n",
              "      <td>102.400000</td>\n",
              "      <td>183.100000</td>\n",
              "      <td>66.900000</td>\n",
              "      <td>55.500000</td>\n",
              "      <td>2935.000000</td>\n",
              "      <td>141.000000</td>\n",
              "      <td>9.400000</td>\n",
              "      <td>30.000000</td>\n",
              "      <td>34.000000</td>\n",
              "    </tr>\n",
              "    <tr>\n",
              "      <th>max</th>\n",
              "      <td>3.000000</td>\n",
              "      <td>120.900000</td>\n",
              "      <td>208.100000</td>\n",
              "      <td>72.300000</td>\n",
              "      <td>59.800000</td>\n",
              "      <td>4066.000000</td>\n",
              "      <td>326.000000</td>\n",
              "      <td>23.000000</td>\n",
              "      <td>49.000000</td>\n",
              "      <td>54.000000</td>\n",
              "    </tr>\n",
              "  </tbody>\n",
              "</table>\n",
              "</div>"
            ],
            "text/plain": [
              "        symboling  wheel-base  ...    city-mpg  highway-mpg\n",
              "count  205.000000  205.000000  ...  205.000000   205.000000\n",
              "mean     0.834146   98.756585  ...   25.219512    30.751220\n",
              "std      1.245307    6.021776  ...    6.542142     6.886443\n",
              "min     -2.000000   86.600000  ...   13.000000    16.000000\n",
              "25%      0.000000   94.500000  ...   19.000000    25.000000\n",
              "50%      1.000000   97.000000  ...   24.000000    30.000000\n",
              "75%      2.000000  102.400000  ...   30.000000    34.000000\n",
              "max      3.000000  120.900000  ...   49.000000    54.000000\n",
              "\n",
              "[8 rows x 10 columns]"
            ]
          },
          "metadata": {
            "tags": []
          },
          "execution_count": 16
        }
      ]
    },
    {
      "cell_type": "markdown",
      "metadata": {
        "id": "l0qd61hBCi0A",
        "colab_type": "text"
      },
      "source": [
        "También podemos mostrar la descripción de unas cuantas columnas de la tabla, indicando los nombres de las columnas:"
      ]
    },
    {
      "cell_type": "code",
      "metadata": {
        "id": "KXkiRk5HDBxL",
        "colab_type": "code",
        "outputId": "ff9b1044-6b4f-45bc-ec0d-3c5eb9c50240",
        "colab": {
          "base_uri": "https://localhost:8080/",
          "height": 294
        }
      },
      "source": [
        "df[['length','compression-ratio']].describe()"
      ],
      "execution_count": 0,
      "outputs": [
        {
          "output_type": "execute_result",
          "data": {
            "text/html": [
              "<div>\n",
              "<style scoped>\n",
              "    .dataframe tbody tr th:only-of-type {\n",
              "        vertical-align: middle;\n",
              "    }\n",
              "\n",
              "    .dataframe tbody tr th {\n",
              "        vertical-align: top;\n",
              "    }\n",
              "\n",
              "    .dataframe thead th {\n",
              "        text-align: right;\n",
              "    }\n",
              "</style>\n",
              "<table border=\"1\" class=\"dataframe\">\n",
              "  <thead>\n",
              "    <tr style=\"text-align: right;\">\n",
              "      <th></th>\n",
              "      <th>length</th>\n",
              "      <th>compression-ratio</th>\n",
              "    </tr>\n",
              "  </thead>\n",
              "  <tbody>\n",
              "    <tr>\n",
              "      <th>count</th>\n",
              "      <td>205.000000</td>\n",
              "      <td>205.000000</td>\n",
              "    </tr>\n",
              "    <tr>\n",
              "      <th>mean</th>\n",
              "      <td>174.049268</td>\n",
              "      <td>10.142537</td>\n",
              "    </tr>\n",
              "    <tr>\n",
              "      <th>std</th>\n",
              "      <td>12.337289</td>\n",
              "      <td>3.972040</td>\n",
              "    </tr>\n",
              "    <tr>\n",
              "      <th>min</th>\n",
              "      <td>141.100000</td>\n",
              "      <td>7.000000</td>\n",
              "    </tr>\n",
              "    <tr>\n",
              "      <th>25%</th>\n",
              "      <td>166.300000</td>\n",
              "      <td>8.600000</td>\n",
              "    </tr>\n",
              "    <tr>\n",
              "      <th>50%</th>\n",
              "      <td>173.200000</td>\n",
              "      <td>9.000000</td>\n",
              "    </tr>\n",
              "    <tr>\n",
              "      <th>75%</th>\n",
              "      <td>183.100000</td>\n",
              "      <td>9.400000</td>\n",
              "    </tr>\n",
              "    <tr>\n",
              "      <th>max</th>\n",
              "      <td>208.100000</td>\n",
              "      <td>23.000000</td>\n",
              "    </tr>\n",
              "  </tbody>\n",
              "</table>\n",
              "</div>"
            ],
            "text/plain": [
              "           length  compression-ratio\n",
              "count  205.000000         205.000000\n",
              "mean   174.049268          10.142537\n",
              "std     12.337289           3.972040\n",
              "min    141.100000           7.000000\n",
              "25%    166.300000           8.600000\n",
              "50%    173.200000           9.000000\n",
              "75%    183.100000           9.400000\n",
              "max    208.100000          23.000000"
            ]
          },
          "metadata": {
            "tags": []
          },
          "execution_count": 17
        }
      ]
    },
    {
      "cell_type": "markdown",
      "metadata": {
        "id": "6OnqFBnKDNUC",
        "colab_type": "text"
      },
      "source": [
        "Para obtener un resumen conciso de los datos almacenados en el dataFrame, podemos ejecutar el método `info()`"
      ]
    },
    {
      "cell_type": "code",
      "metadata": {
        "id": "ib_NQM28DiMe",
        "colab_type": "code",
        "outputId": "a7fba1c8-0b9e-483f-fea2-7190d7ed6dfd",
        "colab": {
          "base_uri": "https://localhost:8080/",
          "height": 145
        }
      },
      "source": [
        "df.info()"
      ],
      "execution_count": 0,
      "outputs": [
        {
          "output_type": "stream",
          "text": [
            "<class 'pandas.core.frame.DataFrame'>\n",
            "RangeIndex: 100 entries, 0 to 99\n",
            "Data columns (total 2 columns):\n",
            "even    100 non-null int64\n",
            "odd     100 non-null int64\n",
            "dtypes: int64(2)\n",
            "memory usage: 1.6 KB\n"
          ],
          "name": "stdout"
        }
      ]
    },
    {
      "cell_type": "markdown",
      "metadata": {
        "id": "vSis4zUtGdwM",
        "colab_type": "text"
      },
      "source": [
        "<p><a name=\"timeSeries\"></a></p>\n",
        "\n",
        "## 4.5 Series de tiempo.\n",
        "\n",
        "[[Contenidos]](#contents)"
      ]
    },
    {
      "cell_type": "code",
      "metadata": {
        "id": "Hr8MtfrTO8V0",
        "colab_type": "code",
        "colab": {}
      },
      "source": [
        "# Import packages\n",
        "import numpy as np\n",
        "import pandas as pd\n",
        "import matplotlib.pyplot as plt\n",
        "\n",
        "# Lectura de una base de datos en internet y asignación a la variable df.\n",
        "path = \"https://raw.githubusercontent.com/diplomado-bigdata-machinelearning-udea/Curso1/master/s02/multiTimeline.csv\"\n",
        "df = pd.read_csv(path, skiprows=1)"
      ],
      "execution_count": 0,
      "outputs": []
    },
    {
      "cell_type": "code",
      "metadata": {
        "id": "oX-74tbGPIN3",
        "colab_type": "code",
        "outputId": "b894495e-dadb-4086-d784-7bc65ae9927b",
        "colab": {
          "base_uri": "https://localhost:8080/",
          "height": 202
        }
      },
      "source": [
        "df.head()"
      ],
      "execution_count": 0,
      "outputs": [
        {
          "output_type": "execute_result",
          "data": {
            "text/html": [
              "<div>\n",
              "<style scoped>\n",
              "    .dataframe tbody tr th:only-of-type {\n",
              "        vertical-align: middle;\n",
              "    }\n",
              "\n",
              "    .dataframe tbody tr th {\n",
              "        vertical-align: top;\n",
              "    }\n",
              "\n",
              "    .dataframe thead th {\n",
              "        text-align: right;\n",
              "    }\n",
              "</style>\n",
              "<table border=\"1\" class=\"dataframe\">\n",
              "  <thead>\n",
              "    <tr style=\"text-align: right;\">\n",
              "      <th></th>\n",
              "      <th>Month</th>\n",
              "      <th>diet: (Worldwide)</th>\n",
              "      <th>gym: (Worldwide)</th>\n",
              "      <th>finance: (Worldwide)</th>\n",
              "    </tr>\n",
              "  </thead>\n",
              "  <tbody>\n",
              "    <tr>\n",
              "      <th>0</th>\n",
              "      <td>2004-01</td>\n",
              "      <td>100</td>\n",
              "      <td>31</td>\n",
              "      <td>48</td>\n",
              "    </tr>\n",
              "    <tr>\n",
              "      <th>1</th>\n",
              "      <td>2004-02</td>\n",
              "      <td>75</td>\n",
              "      <td>26</td>\n",
              "      <td>49</td>\n",
              "    </tr>\n",
              "    <tr>\n",
              "      <th>2</th>\n",
              "      <td>2004-03</td>\n",
              "      <td>67</td>\n",
              "      <td>24</td>\n",
              "      <td>47</td>\n",
              "    </tr>\n",
              "    <tr>\n",
              "      <th>3</th>\n",
              "      <td>2004-04</td>\n",
              "      <td>70</td>\n",
              "      <td>22</td>\n",
              "      <td>48</td>\n",
              "    </tr>\n",
              "    <tr>\n",
              "      <th>4</th>\n",
              "      <td>2004-05</td>\n",
              "      <td>72</td>\n",
              "      <td>22</td>\n",
              "      <td>43</td>\n",
              "    </tr>\n",
              "  </tbody>\n",
              "</table>\n",
              "</div>"
            ],
            "text/plain": [
              "     Month  diet: (Worldwide)  gym: (Worldwide)  finance: (Worldwide)\n",
              "0  2004-01                100                31                    48\n",
              "1  2004-02                 75                26                    49\n",
              "2  2004-03                 67                24                    47\n",
              "3  2004-04                 70                22                    48\n",
              "4  2004-05                 72                22                    43"
            ]
          },
          "metadata": {
            "tags": []
          },
          "execution_count": 2
        }
      ]
    },
    {
      "cell_type": "markdown",
      "metadata": {
        "id": "zDV6eZ8vPNJw",
        "colab_type": "text"
      },
      "source": [
        "El argumento `skiprows` se introduce con el fin de no incluir la primera columna.\n",
        "\n",
        "Se puede usar también el método `.info()` para revizar los tipos de datos, el número de columnas y más:"
      ]
    },
    {
      "cell_type": "code",
      "metadata": {
        "id": "-Qj8lccxPOd-",
        "colab_type": "code",
        "outputId": "1faccb1f-7d45-4f80-cb52-de338496e856",
        "colab": {
          "base_uri": "https://localhost:8080/",
          "height": 173
        }
      },
      "source": [
        "df.info()"
      ],
      "execution_count": 0,
      "outputs": [
        {
          "output_type": "stream",
          "text": [
            "<class 'pandas.core.frame.DataFrame'>\n",
            "RangeIndex: 168 entries, 0 to 167\n",
            "Data columns (total 4 columns):\n",
            "Month                   168 non-null object\n",
            "diet: (Worldwide)       168 non-null int64\n",
            "gym: (Worldwide)        168 non-null int64\n",
            "finance: (Worldwide)    168 non-null int64\n",
            "dtypes: int64(3), object(1)\n",
            "memory usage: 5.3+ KB\n"
          ],
          "name": "stdout"
        }
      ]
    },
    {
      "cell_type": "markdown",
      "metadata": {
        "id": "ImzP3cILPW4u",
        "colab_type": "text"
      },
      "source": [
        "El siguiente paso es organizar los datos de tendencias de google, antes de realizar el análisis de estos."
      ]
    },
    {
      "cell_type": "markdown",
      "metadata": {
        "id": "jDRsKcJMPrh3",
        "colab_type": "text"
      },
      "source": [
        "**Data Wrangling**\n",
        "\n",
        "Lo primero que debemos hacer es modificar los nombres de las columnas con el fin de evitar espacios dentro de ellos. Para realizar lo anterior, podemos usar reasignar a df.columns una lista con el nombre de las columnas que deseemos."
      ]
    },
    {
      "cell_type": "code",
      "metadata": {
        "id": "_G08c39kPwNq",
        "colab_type": "code",
        "outputId": "aca92784-6bf6-4562-c03d-b50ee2f0a232",
        "colab": {
          "base_uri": "https://localhost:8080/",
          "height": 202
        }
      },
      "source": [
        "df.columns = ['month', 'diet', 'gym', 'finance']\n",
        "df.head()"
      ],
      "execution_count": 0,
      "outputs": [
        {
          "output_type": "execute_result",
          "data": {
            "text/html": [
              "<div>\n",
              "<style scoped>\n",
              "    .dataframe tbody tr th:only-of-type {\n",
              "        vertical-align: middle;\n",
              "    }\n",
              "\n",
              "    .dataframe tbody tr th {\n",
              "        vertical-align: top;\n",
              "    }\n",
              "\n",
              "    .dataframe thead th {\n",
              "        text-align: right;\n",
              "    }\n",
              "</style>\n",
              "<table border=\"1\" class=\"dataframe\">\n",
              "  <thead>\n",
              "    <tr style=\"text-align: right;\">\n",
              "      <th></th>\n",
              "      <th>month</th>\n",
              "      <th>diet</th>\n",
              "      <th>gym</th>\n",
              "      <th>finance</th>\n",
              "    </tr>\n",
              "  </thead>\n",
              "  <tbody>\n",
              "    <tr>\n",
              "      <th>0</th>\n",
              "      <td>2004-01</td>\n",
              "      <td>100</td>\n",
              "      <td>31</td>\n",
              "      <td>48</td>\n",
              "    </tr>\n",
              "    <tr>\n",
              "      <th>1</th>\n",
              "      <td>2004-02</td>\n",
              "      <td>75</td>\n",
              "      <td>26</td>\n",
              "      <td>49</td>\n",
              "    </tr>\n",
              "    <tr>\n",
              "      <th>2</th>\n",
              "      <td>2004-03</td>\n",
              "      <td>67</td>\n",
              "      <td>24</td>\n",
              "      <td>47</td>\n",
              "    </tr>\n",
              "    <tr>\n",
              "      <th>3</th>\n",
              "      <td>2004-04</td>\n",
              "      <td>70</td>\n",
              "      <td>22</td>\n",
              "      <td>48</td>\n",
              "    </tr>\n",
              "    <tr>\n",
              "      <th>4</th>\n",
              "      <td>2004-05</td>\n",
              "      <td>72</td>\n",
              "      <td>22</td>\n",
              "      <td>43</td>\n",
              "    </tr>\n",
              "  </tbody>\n",
              "</table>\n",
              "</div>"
            ],
            "text/plain": [
              "     month  diet  gym  finance\n",
              "0  2004-01   100   31       48\n",
              "1  2004-02    75   26       49\n",
              "2  2004-03    67   24       47\n",
              "3  2004-04    70   22       48\n",
              "4  2004-05    72   22       43"
            ]
          },
          "metadata": {
            "tags": []
          },
          "execution_count": 4
        }
      ]
    },
    {
      "cell_type": "markdown",
      "metadata": {
        "id": "BWs8QQi9P0jG",
        "colab_type": "text"
      },
      "source": [
        "Posteriormente, convertimos la columna month en un tipo de dato DateTime para convertirlo en el índice del DataFrame.\n",
        "\n",
        "Usaremos el método .to_datetime() para convertir la columna 'mes' del DataFrame a DateTime.\n",
        "\n",
        "Se debe tener cuidado de incluir el argumento inplace cuando configure el índice del DataFrame df para que realmente modifique el índice original y lo configure en la columna 'mes'."
      ]
    },
    {
      "cell_type": "code",
      "metadata": {
        "id": "6HT_WeP1P73I",
        "colab_type": "code",
        "outputId": "a65fc62e-fe59-478f-d777-a7f702c7f1e8",
        "colab": {
          "base_uri": "https://localhost:8080/",
          "height": 233
        }
      },
      "source": [
        "df.month = pd.to_datetime(df.month)\n",
        "df.set_index('month', inplace=True)\n",
        "df.head()"
      ],
      "execution_count": 0,
      "outputs": [
        {
          "output_type": "execute_result",
          "data": {
            "text/html": [
              "<div>\n",
              "<style scoped>\n",
              "    .dataframe tbody tr th:only-of-type {\n",
              "        vertical-align: middle;\n",
              "    }\n",
              "\n",
              "    .dataframe tbody tr th {\n",
              "        vertical-align: top;\n",
              "    }\n",
              "\n",
              "    .dataframe thead th {\n",
              "        text-align: right;\n",
              "    }\n",
              "</style>\n",
              "<table border=\"1\" class=\"dataframe\">\n",
              "  <thead>\n",
              "    <tr style=\"text-align: right;\">\n",
              "      <th></th>\n",
              "      <th>diet</th>\n",
              "      <th>gym</th>\n",
              "      <th>finance</th>\n",
              "    </tr>\n",
              "    <tr>\n",
              "      <th>month</th>\n",
              "      <th></th>\n",
              "      <th></th>\n",
              "      <th></th>\n",
              "    </tr>\n",
              "  </thead>\n",
              "  <tbody>\n",
              "    <tr>\n",
              "      <th>2004-01-01</th>\n",
              "      <td>100</td>\n",
              "      <td>31</td>\n",
              "      <td>48</td>\n",
              "    </tr>\n",
              "    <tr>\n",
              "      <th>2004-02-01</th>\n",
              "      <td>75</td>\n",
              "      <td>26</td>\n",
              "      <td>49</td>\n",
              "    </tr>\n",
              "    <tr>\n",
              "      <th>2004-03-01</th>\n",
              "      <td>67</td>\n",
              "      <td>24</td>\n",
              "      <td>47</td>\n",
              "    </tr>\n",
              "    <tr>\n",
              "      <th>2004-04-01</th>\n",
              "      <td>70</td>\n",
              "      <td>22</td>\n",
              "      <td>48</td>\n",
              "    </tr>\n",
              "    <tr>\n",
              "      <th>2004-05-01</th>\n",
              "      <td>72</td>\n",
              "      <td>22</td>\n",
              "      <td>43</td>\n",
              "    </tr>\n",
              "  </tbody>\n",
              "</table>\n",
              "</div>"
            ],
            "text/plain": [
              "            diet  gym  finance\n",
              "month                         \n",
              "2004-01-01   100   31       48\n",
              "2004-02-01    75   26       49\n",
              "2004-03-01    67   24       47\n",
              "2004-04-01    70   22       48\n",
              "2004-05-01    72   22       43"
            ]
          },
          "metadata": {
            "tags": []
          },
          "execution_count": 5
        }
      ]
    },
    {
      "cell_type": "markdown",
      "metadata": {
        "id": "2H1qGXGeQCci",
        "colab_type": "text"
      },
      "source": [
        "**Exploración de los datos**\n",
        "\n",
        "A continuación, visualicemos todos los datos de la tabla mediante el método plot de panda:"
      ]
    },
    {
      "cell_type": "code",
      "metadata": {
        "id": "vQhWKAdmQEiu",
        "colab_type": "code",
        "outputId": "3d9ebb51-38ba-4cc1-b71a-dfa9902ebf13",
        "colab": {
          "base_uri": "https://localhost:8080/",
          "height": 351
        }
      },
      "source": [
        "df.plot(figsize=(10,5), linewidth=3, fontsize=20)\n",
        "plt.xlabel('Year', fontsize=15);"
      ],
      "execution_count": 0,
      "outputs": [
        {
          "output_type": "display_data",
          "data": {
            "image/png": "[encoded data removed]",
            "text/plain": [
              "<Figure size 720x360 with 1 Axes>"
            ]
          },
          "metadata": {
            "tags": []
          }
        }
      ]
    },
    {
      "cell_type": "markdown",
      "metadata": {
        "id": "TP4Jh26qQVOq",
        "colab_type": "text"
      },
      "source": [
        "Si se quiere visualizar solo una columna de los datos, se debe especificar como una lista:"
      ]
    },
    {
      "cell_type": "code",
      "metadata": {
        "id": "i3R5rdawQbsJ",
        "colab_type": "code",
        "outputId": "683d4ed3-4e10-4af3-d54f-d0c21da09925",
        "colab": {
          "base_uri": "https://localhost:8080/",
          "height": 351
        }
      },
      "source": [
        "df[['diet']].plot(figsize=(10,5), linewidth=3, fontsize=20)\n",
        "plt.xlabel('Year', fontsize=15);"
      ],
      "execution_count": 0,
      "outputs": [
        {
          "output_type": "display_data",
          "data": {
            "image/png": "[encoded data removed]",
            "text/plain": [
              "<Figure size 720x360 with 1 Axes>"
            ]
          },
          "metadata": {
            "tags": []
          }
        }
      ]
    },
    {
      "cell_type": "markdown",
      "metadata": {
        "id": "VHT2R-SqQh93",
        "colab_type": "text"
      },
      "source": [
        "Podemos incluir mas de una columna en la lista"
      ]
    },
    {
      "cell_type": "code",
      "metadata": {
        "id": "3mYJA9PXQrFK",
        "colab_type": "code",
        "outputId": "c7be9f3e-2194-4c23-8306-47a4f3b81459",
        "colab": {
          "base_uri": "https://localhost:8080/",
          "height": 351
        }
      },
      "source": [
        "df[['diet','gym']].plot(figsize=(10,5), linewidth=3, fontsize=20)\n",
        "plt.xlabel('Year', fontsize=15);"
      ],
      "execution_count": 0,
      "outputs": [
        {
          "output_type": "display_data",
          "data": {
            "image/png": "[encoded data removed]",
            "text/plain": [
              "<Figure size 720x360 with 1 Axes>"
            ]
          },
          "metadata": {
            "tags": []
          }
        }
      ]
    },
    {
      "cell_type": "markdown",
      "metadata": {
        "id": "qKf8fugiQx7g",
        "colab_type": "text"
      },
      "source": [
        "O las tres"
      ]
    },
    {
      "cell_type": "code",
      "metadata": {
        "id": "NgmRPV1LQzKi",
        "colab_type": "code",
        "outputId": "0b23c75d-aed2-4211-cd6e-aeb346ad56b2",
        "colab": {
          "base_uri": "https://localhost:8080/",
          "height": 347
        }
      },
      "source": [
        "df[['diet','gym','finance']].plot(figsize=(10,5), linewidth=3, fontsize=15)\n",
        "plt.xlabel('Year', fontsize=15);"
      ],
      "execution_count": 0,
      "outputs": [
        {
          "output_type": "display_data",
          "data": {
            "image/png": "[encoded data removed]",
            "text/plain": [
              "<Figure size 720x360 with 1 Axes>"
            ]
          },
          "metadata": {
            "tags": []
          }
        }
      ]
    },
    {
      "cell_type": "markdown",
      "metadata": {
        "id": "uvKhMq3fQ-ks",
        "colab_type": "text"
      },
      "source": [
        "**Tendencias**: Hay varias formas de identificar tendencias en series de tiempo. Una forma popular es tomar un promedio móvil, lo que significa que, para cada punto de tiempo, se toma el promedio de los puntos a cada lado (el número de puntos se especifica mediante un tamaño de ventana, que debe elegir)."
      ]
    },
    {
      "cell_type": "markdown",
      "metadata": {
        "id": "E5QKWUADRFoD",
        "colab_type": "text"
      },
      "source": [
        "**Rolling average**\n",
        "\n",
        "Empecemos por realizar el promedio movil dentro de una ventana de puntos variables, en la columna 'diet', con el fin de observar lo que realiza el este método en los datos. "
      ]
    },
    {
      "cell_type": "code",
      "metadata": {
        "id": "45dWszBtRJ8x",
        "colab_type": "code",
        "outputId": "6ae9b590-48c3-4c13-c98d-22f1b2f247a4",
        "colab": {
          "base_uri": "https://localhost:8080/",
          "height": 347
        }
      },
      "source": [
        "diet = df[['diet']]\n",
        "diet.rolling(1).mean().plot(figsize=(10,5), linewidth=3, fontsize=15)\n",
        "plt.xlabel('Year', fontsize=15);"
      ],
      "execution_count": 0,
      "outputs": [
        {
          "output_type": "display_data",
          "data": {
            "image/png": "[encoded data removed]",
            "text/plain": [
              "<Figure size 720x360 with 1 Axes>"
            ]
          },
          "metadata": {
            "tags": []
          }
        }
      ]
    },
    {
      "cell_type": "code",
      "metadata": {
        "id": "auuQXIysRQWI",
        "colab_type": "code",
        "outputId": "07f0c83f-50ef-4844-fa39-60aab5eb58af",
        "colab": {
          "base_uri": "https://localhost:8080/",
          "height": 347
        }
      },
      "source": [
        "diet = df[['diet']]\n",
        "diet.rolling(6).mean().plot(figsize=(10,5), linewidth=3, fontsize=15)\n",
        "plt.xlabel('Year', fontsize=15);"
      ],
      "execution_count": 0,
      "outputs": [
        {
          "output_type": "display_data",
          "data": {
            "image/png": "[encoded data removed]",
            "text/plain": [
              "<Figure size 720x360 with 1 Axes>"
            ]
          },
          "metadata": {
            "tags": []
          }
        }
      ]
    },
    {
      "cell_type": "code",
      "metadata": {
        "id": "XEbay0aBRUtb",
        "colab_type": "code",
        "outputId": "0d4a62f9-5620-459b-fe20-a1e55065a03f",
        "colab": {
          "base_uri": "https://localhost:8080/",
          "height": 347
        }
      },
      "source": [
        "diet = df[['diet']]\n",
        "diet.rolling(12).mean().plot(figsize=(10,5), linewidth=3, fontsize=15)\n",
        "plt.xlabel('Year', fontsize=15);"
      ],
      "execution_count": 0,
      "outputs": [
        {
          "output_type": "display_data",
          "data": {
            "image/png": "[encoded data removed]",
            "text/plain": [
              "<Figure size 720x360 with 1 Axes>"
            ]
          },
          "metadata": {
            "tags": []
          }
        }
      ]
    },
    {
      "cell_type": "markdown",
      "metadata": {
        "id": "Btp1IzVGRpye",
        "colab_type": "text"
      },
      "source": [
        "Veamos la tendendia en la variable 'gym'"
      ]
    },
    {
      "cell_type": "code",
      "metadata": {
        "id": "E3JFybcjRra9",
        "colab_type": "code",
        "outputId": "33745536-52f8-4e4e-d840-344a2ec9cf7c",
        "colab": {
          "base_uri": "https://localhost:8080/",
          "height": 347
        }
      },
      "source": [
        "gym = df[['gym']]\n",
        "gym.rolling(12).mean().plot(figsize=(10,5), linewidth=3, fontsize=15)\n",
        "plt.xlabel('Year', fontsize=15);"
      ],
      "execution_count": 0,
      "outputs": [
        {
          "output_type": "display_data",
          "data": {
            "image/png": "[encoded data removed]",
            "text/plain": [
              "<Figure size 720x360 with 1 Axes>"
            ]
          },
          "metadata": {
            "tags": []
          }
        }
      ]
    },
    {
      "cell_type": "markdown",
      "metadata": {
        "id": "HjGvROK4R9md",
        "colab_type": "text"
      },
      "source": [
        "Mediante este promediado movil hemos eliminado la estacionalidad en los datos y puede observarse una tendencia al alsa en los datos 'gym'. No obstante, persiste la inquitud de cómo se comportan estos dos conjuntos de datos. Para ello, podemos graficar ambos conjuntos en una sola figura. Procedamos a construimos un nuevo DataFrame concatenando que contenga las columnas con el promedio móvil de 'diet' y 'dimnasio' mediante la función pd.concat(), que toma una lista de las columnas como primer argumento y se concatenan con el metodo .concat(), a lo largo del eje de las columnas."
      ]
    },
    {
      "cell_type": "code",
      "metadata": {
        "id": "4gzhukRASEOH",
        "colab_type": "code",
        "outputId": "911d2c2f-81cf-44da-e8da-e2662801bcd2",
        "colab": {
          "base_uri": "https://localhost:8080/",
          "height": 693
        }
      },
      "source": [
        "df_rm = pd.concat([diet.rolling(12).mean(), gym.rolling(12).mean()], axis='columns')\n",
        "df_rm.head(20)"
      ],
      "execution_count": 0,
      "outputs": [
        {
          "output_type": "execute_result",
          "data": {
            "text/html": [
              "<div>\n",
              "<style scoped>\n",
              "    .dataframe tbody tr th:only-of-type {\n",
              "        vertical-align: middle;\n",
              "    }\n",
              "\n",
              "    .dataframe tbody tr th {\n",
              "        vertical-align: top;\n",
              "    }\n",
              "\n",
              "    .dataframe thead th {\n",
              "        text-align: right;\n",
              "    }\n",
              "</style>\n",
              "<table border=\"1\" class=\"dataframe\">\n",
              "  <thead>\n",
              "    <tr style=\"text-align: right;\">\n",
              "      <th></th>\n",
              "      <th>diet</th>\n",
              "      <th>gym</th>\n",
              "    </tr>\n",
              "    <tr>\n",
              "      <th>month</th>\n",
              "      <th></th>\n",
              "      <th></th>\n",
              "    </tr>\n",
              "  </thead>\n",
              "  <tbody>\n",
              "    <tr>\n",
              "      <th>2004-01-01</th>\n",
              "      <td>NaN</td>\n",
              "      <td>NaN</td>\n",
              "    </tr>\n",
              "    <tr>\n",
              "      <th>2004-02-01</th>\n",
              "      <td>NaN</td>\n",
              "      <td>NaN</td>\n",
              "    </tr>\n",
              "    <tr>\n",
              "      <th>2004-03-01</th>\n",
              "      <td>NaN</td>\n",
              "      <td>NaN</td>\n",
              "    </tr>\n",
              "    <tr>\n",
              "      <th>2004-04-01</th>\n",
              "      <td>NaN</td>\n",
              "      <td>NaN</td>\n",
              "    </tr>\n",
              "    <tr>\n",
              "      <th>2004-05-01</th>\n",
              "      <td>NaN</td>\n",
              "      <td>NaN</td>\n",
              "    </tr>\n",
              "    <tr>\n",
              "      <th>2004-06-01</th>\n",
              "      <td>NaN</td>\n",
              "      <td>NaN</td>\n",
              "    </tr>\n",
              "    <tr>\n",
              "      <th>2004-07-01</th>\n",
              "      <td>NaN</td>\n",
              "      <td>NaN</td>\n",
              "    </tr>\n",
              "    <tr>\n",
              "      <th>2004-08-01</th>\n",
              "      <td>NaN</td>\n",
              "      <td>NaN</td>\n",
              "    </tr>\n",
              "    <tr>\n",
              "      <th>2004-09-01</th>\n",
              "      <td>NaN</td>\n",
              "      <td>NaN</td>\n",
              "    </tr>\n",
              "    <tr>\n",
              "      <th>2004-10-01</th>\n",
              "      <td>NaN</td>\n",
              "      <td>NaN</td>\n",
              "    </tr>\n",
              "    <tr>\n",
              "      <th>2004-11-01</th>\n",
              "      <td>NaN</td>\n",
              "      <td>NaN</td>\n",
              "    </tr>\n",
              "    <tr>\n",
              "      <th>2004-12-01</th>\n",
              "      <td>63.666667</td>\n",
              "      <td>24.666667</td>\n",
              "    </tr>\n",
              "    <tr>\n",
              "      <th>2005-01-01</th>\n",
              "      <td>60.666667</td>\n",
              "      <td>24.750000</td>\n",
              "    </tr>\n",
              "    <tr>\n",
              "      <th>2005-02-01</th>\n",
              "      <td>58.916667</td>\n",
              "      <td>24.916667</td>\n",
              "    </tr>\n",
              "    <tr>\n",
              "      <th>2005-03-01</th>\n",
              "      <td>58.000000</td>\n",
              "      <td>25.166667</td>\n",
              "    </tr>\n",
              "    <tr>\n",
              "      <th>2005-04-01</th>\n",
              "      <td>56.833333</td>\n",
              "      <td>25.416667</td>\n",
              "    </tr>\n",
              "    <tr>\n",
              "      <th>2005-05-01</th>\n",
              "      <td>55.750000</td>\n",
              "      <td>25.583333</td>\n",
              "    </tr>\n",
              "    <tr>\n",
              "      <th>2005-06-01</th>\n",
              "      <td>54.833333</td>\n",
              "      <td>25.666667</td>\n",
              "    </tr>\n",
              "    <tr>\n",
              "      <th>2005-07-01</th>\n",
              "      <td>54.250000</td>\n",
              "      <td>25.833333</td>\n",
              "    </tr>\n",
              "    <tr>\n",
              "      <th>2005-08-01</th>\n",
              "      <td>53.583333</td>\n",
              "      <td>25.833333</td>\n",
              "    </tr>\n",
              "  </tbody>\n",
              "</table>\n",
              "</div>"
            ],
            "text/plain": [
              "                 diet        gym\n",
              "month                           \n",
              "2004-01-01        NaN        NaN\n",
              "2004-02-01        NaN        NaN\n",
              "2004-03-01        NaN        NaN\n",
              "2004-04-01        NaN        NaN\n",
              "2004-05-01        NaN        NaN\n",
              "2004-06-01        NaN        NaN\n",
              "2004-07-01        NaN        NaN\n",
              "2004-08-01        NaN        NaN\n",
              "2004-09-01        NaN        NaN\n",
              "2004-10-01        NaN        NaN\n",
              "2004-11-01        NaN        NaN\n",
              "2004-12-01  63.666667  24.666667\n",
              "2005-01-01  60.666667  24.750000\n",
              "2005-02-01  58.916667  24.916667\n",
              "2005-03-01  58.000000  25.166667\n",
              "2005-04-01  56.833333  25.416667\n",
              "2005-05-01  55.750000  25.583333\n",
              "2005-06-01  54.833333  25.666667\n",
              "2005-07-01  54.250000  25.833333\n",
              "2005-08-01  53.583333  25.833333"
            ]
          },
          "metadata": {
            "tags": []
          },
          "execution_count": 16
        }
      ]
    },
    {
      "cell_type": "markdown",
      "metadata": {
        "id": "RulDVJWDSgaq",
        "colab_type": "text"
      },
      "source": [
        "A continuación, graficamos los datos mediante el método `plot()`, tal y como se realizó anteriormente. "
      ]
    },
    {
      "cell_type": "code",
      "metadata": {
        "id": "B5uCIyhoSlAx",
        "colab_type": "code",
        "outputId": "8b86c384-c2e5-48a7-c6e5-482a4fe34b15",
        "colab": {
          "base_uri": "https://localhost:8080/",
          "height": 347
        }
      },
      "source": [
        "df_rm.plot(figsize=(10,5), linewidth=5, fontsize=15)\n",
        "plt.xlabel('Year', fontsize=15);"
      ],
      "execution_count": 0,
      "outputs": [
        {
          "output_type": "display_data",
          "data": {
            "image/png": "[encoded data removed]",
            "text/plain": [
              "<Figure size 720x360 with 1 Axes>"
            ]
          },
          "metadata": {
            "tags": []
          }
        }
      ]
    },
    {
      "cell_type": "markdown",
      "metadata": {
        "id": "wXZ2yWoxSzO8",
        "colab_type": "text"
      },
      "source": [
        "Podemos observar que, al eliminar la estacionalidad, los datos de 'diet' presentan alguna forma de estacionalidad, mientras que los datos 'gym' tienen una tendencia al alza monotona. "
      ]
    },
    {
      "cell_type": "markdown",
      "metadata": {
        "id": "yFpEUNJ-S4Kb",
        "colab_type": "text"
      },
      "source": [
        "**Diferenciación de primer orden**\n",
        "\n",
        "Otra forma de eliminar las tendencias globales de los datos se llama **diferenciación**, en donde se analizan las diferencias entre datos consecutivos del conjunto de datos. A esta técnica se le conoce con el nombre de diferenciación de primer orden, ya que solo nos centramos en las diferencias entre un dato y el dato inmediatamente anterior a este."
      ]
    },
    {
      "cell_type": "code",
      "metadata": {
        "id": "2XNcdjoCTB_I",
        "colab_type": "code",
        "outputId": "52429ff2-f195-413d-d9e3-25555ad27b96",
        "colab": {
          "base_uri": "https://localhost:8080/",
          "height": 347
        }
      },
      "source": [
        "diet.diff().plot(figsize=(10,5), linewidth=3, fontsize=15)\n",
        "plt.xlabel('Year', fontsize=15);"
      ],
      "execution_count": 0,
      "outputs": [
        {
          "output_type": "display_data",
          "data": {
            "image/png": "[encoded data removed]",
            "text/plain": [
              "<Figure size 720x360 with 1 Axes>"
            ]
          },
          "metadata": {
            "tags": []
          }
        }
      ]
    },
    {
      "cell_type": "markdown",
      "metadata": {
        "id": "05O1SjehTOU4",
        "colab_type": "text"
      },
      "source": [
        "Nótese que hemos eliminado gran parte de la tendencia y que puede observarse valores pico cada mes de enero."
      ]
    },
    {
      "cell_type": "markdown",
      "metadata": {
        "id": "hCW75le1LRfc",
        "colab_type": "text"
      },
      "source": [
        "<p><a name=\"tpandas\"></a></p>\n",
        "\n",
        "## 4.6 Taller `pandas`.\n",
        "\n",
        "[[Contenidos]](#contents)"
      ]
    },
    {
      "cell_type": "markdown",
      "metadata": {
        "id": "amHmB1KXEk38",
        "colab_type": "text"
      },
      "source": [
        "<div class=\"alert alert-danger alertdanger\" style=\"margin-top: 20px\">\n",
        "<h1> Pregunta #1: </h1>\n",
        "  \n",
        "  Escriba un código de pandas para agregar datos a la siguiente serie de pandas s = pd.Series(['100', '200', 'python', '300.12', '400'])"
      ]
    },
    {
      "cell_type": "markdown",
      "metadata": {
        "id": "6CGawz-sEyim",
        "colab_type": "text"
      },
      "source": [
        "<div class=\"alert alert-danger alertdanger\" style=\"margin-top: 20px\">\n",
        "<h1> Respuesta Pregunta #1: </h1>\n",
        "<b>Corra el código a continuación:</b>\n",
        "</div>"
      ]
    },
    {
      "cell_type": "markdown",
      "metadata": {
        "id": "3GOGHumvE42W",
        "colab_type": "text"
      },
      "source": [
        "Para ver la solución haga double-click <b>aquí</b>.\n",
        "\n",
        "<!-- La respuesta se encuentra a continuación:\n",
        "\n",
        "# Celda 1: s = pd.Series(['100', '200', 'python', '300.12', '400'])\n",
        "print(\"Original Data Series:\")\n",
        "print(s)\n",
        "print(\"\\nData Series after adding some data:\")\n",
        "new_s = s.append(pd.Series(['500', 'php']))\n",
        "print(new_s)\n",
        "\n",
        "\n",
        "-->"
      ]
    },
    {
      "cell_type": "markdown",
      "metadata": {
        "id": "pG0BOoQGFQbI",
        "colab_type": "text"
      },
      "source": [
        "<div class=\"alert alert-danger alertdanger\" style=\"margin-top: 20px\">\n",
        "<h1> Pregunta #2: </h1>\n",
        "  \n",
        "  \n",
        "1.  Escriba un código usando pandas que cree y muestre un DataFrame creado a partir del siguiente diccionario exam_data = {'name': ['Anastasia', 'Dima', 'Katherine', 'James', 'Emily', 'Michael', 'Matthew', 'Laura', 'Kevin', 'Jonas'], 'score': [12.5, 9, 16.5, 10, 9, 20, 14.5, 12, 8, 19], 'attempts': [1, 3, 2, 3, 2, 3, 1, 1, 2, 1], 'qualify': ['yes', 'no', 'yes', 'no', 'no', 'yes', 'yes', 'no', 'no', 'yes']} y las siguientes etiquetas para los índices labels = ['a', 'b', 'c', 'd', 'e', 'f', 'g', 'h', 'i', 'j']\n",
        "\n",
        "2.  Filtre solo las columnas 'name' y 'score'   DataFrame exam_data\n",
        "  \n",
        "3.  Selecionel las filas donde el número de intentos (attemps) es mayor que 2\n",
        "\n",
        "\n",
        "\n",
        "  \n",
        "\n"
      ]
    },
    {
      "cell_type": "markdown",
      "metadata": {
        "id": "Zhp8mBkvKNnx",
        "colab_type": "text"
      },
      "source": [
        "<div class=\"alert alert-danger alertdanger\" style=\"margin-top: 20px\">\n",
        "<h1> Respuesta Pregunta #2: </h1>\n",
        "<b>Corra el código a continuación:</b>\n",
        "</div>"
      ]
    },
    {
      "cell_type": "markdown",
      "metadata": {
        "id": "td2Dy9xfMNQ9",
        "colab_type": "text"
      },
      "source": [
        "Para ver la solución haga double-click <b>aquí</b>.\n",
        "\n",
        "<!-- La respuesta se encuentra a continuación:\n",
        "\n",
        "# Celda 1: exam_data  = {'name': ['Anastasia', 'Dima', 'Katherine', 'James', 'Emily', 'Michael', 'Matthew', 'Laura', 'Kevin', 'Jonas'],\n",
        "        'score': [12.5, 9, 16.5, 10, 9, 20, 14.5, 12, 8, 19],\n",
        "        'attempts': [1, 3, 2, 3, 2, 3, 1, 1, 2, 1],\n",
        "        'qualify': ['yes', 'no', 'yes', 'no', 'no', 'yes', 'yes', 'no', 'no', 'yes']}\n",
        "labels = ['a', 'b', 'c', 'd', 'e', 'f', 'g', 'h', 'i', 'j']\n",
        "\n",
        "df = pd.DataFrame(exam_data , index=labels)\n",
        "\n",
        "# Celda 2: df[['name', 'score']]\n",
        "\n",
        "# Celda 3: df[df['attempts']>2]\n",
        "\n",
        "\n",
        "-->"
      ]
    },
    {
      "cell_type": "markdown",
      "metadata": {
        "id": "boFz2qYDKNCY",
        "colab_type": "text"
      },
      "source": [
        "<div class=\"alert alert-danger alertdanger\" style=\"margin-top: 20px\">\n",
        "<h1> Pregunta #3: </h1>\n",
        "\n",
        "Usando el mismo DatFrame anteior \n",
        "1. Selecciones las filas donde score se encuentre entre 15 y 20 (incluidos)\n",
        "2. Cambie el score en la fila 'd' a 11.5\n",
        "3. Agregue una nueva fila con etiqueta 'k' al data frame con un valor que usted desee para cada columna\n",
        "4. Borre la fila 'k' y entregue nuevamente el  DataFrame original.\n",
        "5. Ordene el DataFrame por nombre ('name') en orden ascendente.\n",
        "6.Reemplace los valores de la columna 'qualify' que contiene los valores 'yes' y 'no' por los valores buleanos True and False respectivamente.\n"
      ]
    },
    {
      "cell_type": "markdown",
      "metadata": {
        "id": "UctnYfR1MlYI",
        "colab_type": "text"
      },
      "source": [
        "<div class=\"alert alert-danger alertdanger\" style=\"margin-top: 20px\">\n",
        "<h1> Respuesta Pregunta #3: </h1>\n",
        "<b>Corra el código a continuación:</b>\n",
        "</div>"
      ]
    },
    {
      "cell_type": "markdown",
      "metadata": {
        "id": "lQSED9LYMsry",
        "colab_type": "text"
      },
      "source": [
        "Para ver la solución haga double-click <b>aquí</b>.\n",
        "\n",
        "<!-- La respuesta se encuentra a continuación:\n",
        "\n",
        "# Celda 1: df[df['score'].between(15, 20)] ##también puede ser df[(df['score']>=15) & (df['score']<=20)]\n",
        "\n",
        "# Celda 2: df.loc['d', 'score'] = 11.5\n",
        "\n",
        "# Celda 3: df.loc['k'] = [1, 'Suresh', 'yes', 15.5]\n",
        "\n",
        "# Celda 4: df = df.drop('k')\n",
        "\n",
        "# Celda 5: df.sort_values(by=['name'], ascending=[True])\n",
        "\n",
        "# Celda 6: df['qualify'] = df['qualify'].map({'yes': True, 'no': False})\n",
        "\n",
        "\n",
        "-->"
      ]
    },
    {
      "cell_type": "markdown",
      "metadata": {
        "id": "JsrMK0ddMBdp",
        "colab_type": "text"
      },
      "source": [
        "<div class=\"alert alert-danger alertdanger\" style=\"margin-top: 20px\">\n",
        "<h1> Pregunta #4: </h1>\n",
        "\n",
        "Descargue el archivo almacenado en `*/s02/exp_data.csv` para almacenarlo localmente y cargue el archivo al colaboratory para elaborar una gráfica de las columnas que contienen el archívo; para realizar la gráfica decifre cual de ellas es la variable independiente y cual la dependiente.\n"
      ]
    },
    {
      "cell_type": "markdown",
      "metadata": {
        "id": "Qrw_qjbSMBUv",
        "colab_type": "text"
      },
      "source": [
        "<div class=\"alert alert-danger alertdanger\" style=\"margin-top: 20px\">\n",
        "<h1> Respuesta Pregunta #4: </h1>\n",
        "<b>Corra el código a continuación:</b>\n",
        "</div>"
      ]
    },
    {
      "cell_type": "markdown",
      "metadata": {
        "id": "X_P2QneuMBIT",
        "colab_type": "text"
      },
      "source": [
        "Para ver la solución haga double-click <b>aquí</b>.\n",
        "\n",
        "<!-- La respuesta se encuentra a continuación:\n",
        "\n",
        "# Celda 1: Importar método files y cargar archivo\n",
        "from google.colab import files\n",
        "\n",
        "uploaded = files.upload()\n",
        "\n",
        "# Celda2: Generación de diccionario\n",
        " for fn in uploaded.keys():\n",
        "  print('User uploaded file \"{name}\" with length {length} bytes'.format(\n",
        "      name=fn, length=len(uploaded[fn])))\n",
        "\n",
        "# Celda3: Impresión de información del diccionario\n",
        "uploaded\n",
        "\n",
        "# Celda4: Importar librería pandas y generar el dataframe\n",
        "import pandas as pd\n",
        "import io \n",
        "\n",
        "exp_data = pd.read_csv(io.StringIO(uploaded['expData.csv'].decode('utf-8')))\n",
        "\n",
        "# Celda5: Gráfica de los datos del archivo expDaata.csv\n",
        "import matplotlib.pyplot as plt\n",
        "plt.plot(exp_data['x'],exp_data['exp(x)'])\n",
        "\n",
        "\n",
        "-->"
      ]
    }
  ]
}