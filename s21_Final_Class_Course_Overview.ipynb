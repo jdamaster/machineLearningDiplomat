{
  "nbformat": 4,
  "nbformat_minor": 0,
  "metadata": {
    "colab": {
      "name": "s21_Final_Class_Course_Overview.ipynb",
      "provenance": [],
      "collapsed_sections": [],
      "include_colab_link": true
    },
    "kernelspec": {
      "name": "python3",
      "display_name": "Python 3"
    },
    "accelerator": "GPU"
  },
  "cells": [
    {
      "cell_type": "markdown",
      "metadata": {
        "id": "view-in-github",
        "colab_type": "text"
      },
      "source": [
        "<a href=\"https://colab.research.google.com/github/jdamaster/machineLearningDiplomat/blob/master/s21_Final_Class_Course_Overview.ipynb\" target=\"_parent\"><img src=\"https://colab.research.google.com/assets/colab-badge.svg\" alt=\"Open In Colab\"/></a>"
      ]
    },
    {
      "cell_type": "markdown",
      "metadata": {
        "id": "oEPdxw2Vzyp3",
        "colab_type": "text"
      },
      "source": [
        "<p><img alt=\"Colaboratory logo\" height=\"140px\" src=\"https://upload.wikimedia.org/wikipedia/commons/archive/f/fb/20161010213812%21Escudo-UdeA.svg\" align=\"left\" hspace=\"10px\" vspace=\"0px\"></p>\n",
        "\n",
        "<h1> Diplomado de Análisis de datos y Machine Learning en Python</h1>\n",
        "\n",
        "\n",
        "El presente diplomado hace parte del centro de Big Data de la facultad de ciencias exactas y naturales (FCEN) de la Universidad de Antioquia."
      ]
    },
    {
      "cell_type": "code",
      "metadata": {
        "id": "8o4G1sYKznZU",
        "colab_type": "code",
        "outputId": "8bc1b463-57e5-4435-9387-eca05ecc91f5",
        "colab": {
          "base_uri": "https://localhost:8080/",
          "height": 80
        }
      },
      "source": [
        "from tensorflow import keras\n",
        "%tensorflow_version 2.x"
      ],
      "execution_count": 1,
      "outputs": [
        {
          "output_type": "display_data",
          "data": {
            "text/html": [
              "<p style=\"color: red;\">\n",
              "The default version of TensorFlow in Colab will soon switch to TensorFlow 2.x.<br>\n",
              "We recommend you <a href=\"https://www.tensorflow.org/guide/migrate\" target=\"_blank\">upgrade</a> now \n",
              "or ensure your notebook will continue to use TensorFlow 1.x via the <code>%tensorflow_version 1.x</code> magic:\n",
              "<a href=\"https://colab.research.google.com/notebooks/tensorflow_version.ipynb\" target=\"_blank\">more info</a>.</p>\n"
            ],
            "text/plain": [
              "<IPython.core.display.HTML object>"
            ]
          },
          "metadata": {
            "tags": []
          }
        },
        {
          "output_type": "stream",
          "text": [
            "TensorFlow is already loaded. Please restart the runtime to change versions.\n"
          ],
          "name": "stdout"
        }
      ]
    },
    {
      "cell_type": "markdown",
      "metadata": {
        "id": "1iGd8pp8mmv3",
        "colab_type": "text"
      },
      "source": [
        "# Perceptrón multicapa- Ejemplo"
      ]
    },
    {
      "cell_type": "markdown",
      "metadata": {
        "id": "R52KGmz5y_2G",
        "colab_type": "text"
      },
      "source": [
        "Usualmente los bancos realizan una segmentación de sus clientes de acuerdo a características que posean, estas características se definen con base a la información recolectada de cada cliente a partir de su historia con la entidad, esto permitirá al banco tener diferentes capos de acción a los cuales atacar de acuerdo a las necesidades de cada grupo. Cuando se tiene esta segmentación el paso a seguir, como estrategia de venta, es ofrecer servicios a través de contact centers a cada grupo de acuerdo a lo que se considere pertinente. Uno de estos servicios son los depositos a plazo fijo, por los cuales podemos tener cierta ganancia al dejar nuestro dinero depositado por cierto tiempo en una entidad bancaria, es por esto que para el siguiente ejemplo usaremos un dataset llamado **Bank Marketing Data set**, el cual puede ser encontrado en la siguiente [página web](https://archive.ics.uci.edu/ml/datasets/bank+marketing); este dataset posee información obtenida a partir de unas campañas de marketing realizadas por algunas entidades bancarias portuguesas, en donde se busca a partir de cierta información determinar si el cliente se suscribirá a un déposito a plazo fijo. Para este dataset tenemos los siguientes atributos:\n",
        "\n",
        " 1-Age (numeric)\n",
        "\n",
        " 2-job :type of job (categorical: 'admin.','blue-collar','entrepreneur','housemaid','management','retired','self-employed','services','student','technician','unemployed','unknown')\n",
        "\n",
        " 3 - marital : marital status (categorical: 'divorced','married','single','unknown'; note: 'divorced' means divorced or widowed)\n",
        " \n",
        " 4 - education (categorical: 'basic.4y','basic.6y','basic.9y','high.school','illiterate','professional.course','university.degree','unknown')\n",
        "\n",
        " 5 - default: has credit in default? (categorical: 'no','yes','unknown')\n",
        "\n",
        " 6 - housing: has housing loan? (categorical: 'no','yes','unknown')\n",
        " \n",
        " 7 - loan: has personal loan? (categorical: 'no','yes','unknown') \n",
        "\n",
        " **related with the last contact of the current campaign**\n",
        " \n",
        " 8 - contact: contact communication type (categorical: 'cellular','telephone')\n",
        "\n",
        " 9 - month: last contact month of year (categorical: 'jan', 'feb', 'mar', ..., 'nov', 'dec')\n",
        "\n",
        " 10 - day_of_week: last contact day of the week (categorical: 'mon','tue','wed','thu','fri')\n",
        "\n",
        " 11 - duration: last contact duration, in seconds (numeric). Important note: this attribute highly affects the output target (e.g., if duration=0 then y='no'). Yet, the duration is not known before a call is performed. Also, after the end of the call y is obviously known. Thus, this input should only be included for benchmark purposes and should be discarded if the intention is to have a realistic predictive model.\n",
        "\n",
        " **other attributes:**\n",
        "\n",
        "12 - campaign: number of contacts performed during this campaign and for this client (numeric, includes last contact)\n",
        "\n",
        "13 - pdays: number of days that passed by after the client was last contacted from a previous campaign (numeric; 999 means client was not previously contacted)\n",
        "\n",
        "14 - previous: number of contacts performed before this campaign and for this client (numeric)\n",
        "\n",
        "15 - poutcome: outcome of the previous marketing campaign (categorical: 'failure','nonexistent','success')\n",
        "**social and economic context attributes**\n",
        "\n",
        "16 - emp.var.rate: employment variation rate - quarterly indicator (numeric)\n",
        "\n",
        "17 - cons.price.idx: consumer price index - monthly indicator (numeric)\n",
        "\n",
        "18 - cons.conf.idx: consumer confidence index - monthly indicator (numeric)\n",
        "\n",
        "19 - euribor3m: euribor 3 month rate - daily indicator (numeric)\n",
        "\n",
        "20 - nr.employed: number of employees - quarterly indicator (numeric)\n",
        "\n",
        "Además de la etiqueta que tenemos:\n",
        "\n",
        "21 - y - has the client subscribed a term deposit? (binary: 'yes','no')\n",
        "\n",
        "\n",
        "**Nota:** Para mayor información de lo anterior visita los siguientes links:\n",
        " [link1](http://media.salford-systems.com/video/tutorial/2015/targeted_marketing.pdf)\n",
        "[link2](https://core.ac.uk/download/pdf/55616194.pdf)\n",
        "\n",
        "\n",
        "\n",
        "Iniciamos importando algunas de las librerías que usaremos:\n",
        "\n"
      ]
    },
    {
      "cell_type": "code",
      "metadata": {
        "id": "ycIX_5E9GTVz",
        "colab_type": "code",
        "colab": {
          "base_uri": "https://localhost:8080/",
          "height": 34
        },
        "outputId": "8efbe22e-46a4-409f-86cb-044a1209fc3f"
      },
      "source": [
        "%tensorflow_version 2.x"
      ],
      "execution_count": 1,
      "outputs": [
        {
          "output_type": "stream",
          "text": [
            "TensorFlow 2.x selected.\n"
          ],
          "name": "stdout"
        }
      ]
    },
    {
      "cell_type": "code",
      "metadata": {
        "id": "I_VE31mfUHW9",
        "colab_type": "code",
        "colab": {}
      },
      "source": [
        "import numpy as np\n",
        "import pandas as pd\n",
        "from tensorflow import keras\n",
        "import matplotlib.pyplot as plt\n",
        "import seaborn as sns; sns.set()\n"
      ],
      "execution_count": 0,
      "outputs": []
    },
    {
      "cell_type": "markdown",
      "metadata": {
        "id": "Zqf94vxXzH7A",
        "colab_type": "text"
      },
      "source": [
        "Ahora descargamos los datos haciendo uso de los siguientes comandos"
      ]
    },
    {
      "cell_type": "code",
      "metadata": {
        "id": "XlkCV_R1TR8_",
        "colab_type": "code",
        "outputId": "1025c6b6-8107-41fd-9922-56227634f201",
        "colab": {
          "base_uri": "https://localhost:8080/",
          "height": 391
        }
      },
      "source": [
        "!wget https://archive.ics.uci.edu/ml/machine-learning-databases/00222/bank-additional.zip\n",
        "!unzip bank-additional.zip"
      ],
      "execution_count": 3,
      "outputs": [
        {
          "output_type": "stream",
          "text": [
            "--2020-02-22 13:33:22--  https://archive.ics.uci.edu/ml/machine-learning-databases/00222/bank-additional.zip\n",
            "Resolving archive.ics.uci.edu (archive.ics.uci.edu)... 128.195.10.252\n",
            "Connecting to archive.ics.uci.edu (archive.ics.uci.edu)|128.195.10.252|:443... connected.\n",
            "HTTP request sent, awaiting response... 200 OK\n",
            "Length: 444572 (434K) [application/x-httpd-php]\n",
            "Saving to: ‘bank-additional.zip’\n",
            "\n",
            "\rbank-additional.zip   0%[                    ]       0  --.-KB/s               \rbank-additional.zip 100%[===================>] 434.15K  --.-KB/s    in 0.1s    \n",
            "\n",
            "2020-02-22 13:33:22 (2.94 MB/s) - ‘bank-additional.zip’ saved [444572/444572]\n",
            "\n",
            "Archive:  bank-additional.zip\n",
            "   creating: bank-additional/\n",
            "  inflating: bank-additional/.DS_Store  \n",
            "   creating: __MACOSX/\n",
            "   creating: __MACOSX/bank-additional/\n",
            "  inflating: __MACOSX/bank-additional/._.DS_Store  \n",
            "  inflating: bank-additional/.Rhistory  \n",
            "  inflating: bank-additional/bank-additional-full.csv  \n",
            "  inflating: bank-additional/bank-additional-names.txt  \n",
            "  inflating: bank-additional/bank-additional.csv  \n",
            "  inflating: __MACOSX/._bank-additional  \n"
          ],
          "name": "stdout"
        }
      ]
    },
    {
      "cell_type": "markdown",
      "metadata": {
        "id": "tGiZ83YGzOhB",
        "colab_type": "text"
      },
      "source": [
        "Verificamos que los datos hayan sido descargados"
      ]
    },
    {
      "cell_type": "code",
      "metadata": {
        "id": "lHKlqBASTi_E",
        "colab_type": "code",
        "outputId": "0a0718ff-0618-4665-e1d9-c576035014fd",
        "colab": {
          "base_uri": "https://localhost:8080/",
          "height": 34
        }
      },
      "source": [
        "cd bank-additional/"
      ],
      "execution_count": 4,
      "outputs": [
        {
          "output_type": "stream",
          "text": [
            "/content/bank-additional\n"
          ],
          "name": "stdout"
        }
      ]
    },
    {
      "cell_type": "code",
      "metadata": {
        "id": "VHRCVbS1UcYF",
        "colab_type": "code",
        "outputId": "fa79a1d2-7f15-4da4-bf8e-eeee6fc7d224",
        "colab": {
          "base_uri": "https://localhost:8080/",
          "height": 34
        }
      },
      "source": [
        "ls"
      ],
      "execution_count": 5,
      "outputs": [
        {
          "output_type": "stream",
          "text": [
            "\u001b[0m\u001b[01;32mbank-additional.csv\u001b[0m*  \u001b[01;32mbank-additional-full.csv\u001b[0m*  bank-additional-names.txt\n"
          ],
          "name": "stdout"
        }
      ]
    },
    {
      "cell_type": "markdown",
      "metadata": {
        "id": "ooTubG58zS_N",
        "colab_type": "text"
      },
      "source": [
        "Ahora procedemos a cargar los datos para ver los atributos con los que se cuenta, los cuales fueron descritos al inicio"
      ]
    },
    {
      "cell_type": "code",
      "metadata": {
        "id": "hRK7m9u6T--q",
        "colab_type": "code",
        "colab": {}
      },
      "source": [
        "data=pd.read_csv('bank-additional-full.csv',sep=';',index_col=False)"
      ],
      "execution_count": 0,
      "outputs": []
    },
    {
      "cell_type": "code",
      "metadata": {
        "id": "IEosWng4UgHL",
        "colab_type": "code",
        "outputId": "0a63637b-ee85-403d-fca1-03bfa986c731",
        "colab": {
          "base_uri": "https://localhost:8080/",
          "height": 224
        }
      },
      "source": [
        "data.head()"
      ],
      "execution_count": 7,
      "outputs": [
        {
          "output_type": "execute_result",
          "data": {
            "text/html": [
              "<div>\n",
              "<style scoped>\n",
              "    .dataframe tbody tr th:only-of-type {\n",
              "        vertical-align: middle;\n",
              "    }\n",
              "\n",
              "    .dataframe tbody tr th {\n",
              "        vertical-align: top;\n",
              "    }\n",
              "\n",
              "    .dataframe thead th {\n",
              "        text-align: right;\n",
              "    }\n",
              "</style>\n",
              "<table border=\"1\" class=\"dataframe\">\n",
              "  <thead>\n",
              "    <tr style=\"text-align: right;\">\n",
              "      <th></th>\n",
              "      <th>age</th>\n",
              "      <th>job</th>\n",
              "      <th>marital</th>\n",
              "      <th>education</th>\n",
              "      <th>default</th>\n",
              "      <th>housing</th>\n",
              "      <th>loan</th>\n",
              "      <th>contact</th>\n",
              "      <th>month</th>\n",
              "      <th>day_of_week</th>\n",
              "      <th>duration</th>\n",
              "      <th>campaign</th>\n",
              "      <th>pdays</th>\n",
              "      <th>previous</th>\n",
              "      <th>poutcome</th>\n",
              "      <th>emp.var.rate</th>\n",
              "      <th>cons.price.idx</th>\n",
              "      <th>cons.conf.idx</th>\n",
              "      <th>euribor3m</th>\n",
              "      <th>nr.employed</th>\n",
              "      <th>y</th>\n",
              "    </tr>\n",
              "  </thead>\n",
              "  <tbody>\n",
              "    <tr>\n",
              "      <th>0</th>\n",
              "      <td>56</td>\n",
              "      <td>housemaid</td>\n",
              "      <td>married</td>\n",
              "      <td>basic.4y</td>\n",
              "      <td>no</td>\n",
              "      <td>no</td>\n",
              "      <td>no</td>\n",
              "      <td>telephone</td>\n",
              "      <td>may</td>\n",
              "      <td>mon</td>\n",
              "      <td>261</td>\n",
              "      <td>1</td>\n",
              "      <td>999</td>\n",
              "      <td>0</td>\n",
              "      <td>nonexistent</td>\n",
              "      <td>1.1</td>\n",
              "      <td>93.994</td>\n",
              "      <td>-36.4</td>\n",
              "      <td>4.857</td>\n",
              "      <td>5191.0</td>\n",
              "      <td>no</td>\n",
              "    </tr>\n",
              "    <tr>\n",
              "      <th>1</th>\n",
              "      <td>57</td>\n",
              "      <td>services</td>\n",
              "      <td>married</td>\n",
              "      <td>high.school</td>\n",
              "      <td>unknown</td>\n",
              "      <td>no</td>\n",
              "      <td>no</td>\n",
              "      <td>telephone</td>\n",
              "      <td>may</td>\n",
              "      <td>mon</td>\n",
              "      <td>149</td>\n",
              "      <td>1</td>\n",
              "      <td>999</td>\n",
              "      <td>0</td>\n",
              "      <td>nonexistent</td>\n",
              "      <td>1.1</td>\n",
              "      <td>93.994</td>\n",
              "      <td>-36.4</td>\n",
              "      <td>4.857</td>\n",
              "      <td>5191.0</td>\n",
              "      <td>no</td>\n",
              "    </tr>\n",
              "    <tr>\n",
              "      <th>2</th>\n",
              "      <td>37</td>\n",
              "      <td>services</td>\n",
              "      <td>married</td>\n",
              "      <td>high.school</td>\n",
              "      <td>no</td>\n",
              "      <td>yes</td>\n",
              "      <td>no</td>\n",
              "      <td>telephone</td>\n",
              "      <td>may</td>\n",
              "      <td>mon</td>\n",
              "      <td>226</td>\n",
              "      <td>1</td>\n",
              "      <td>999</td>\n",
              "      <td>0</td>\n",
              "      <td>nonexistent</td>\n",
              "      <td>1.1</td>\n",
              "      <td>93.994</td>\n",
              "      <td>-36.4</td>\n",
              "      <td>4.857</td>\n",
              "      <td>5191.0</td>\n",
              "      <td>no</td>\n",
              "    </tr>\n",
              "    <tr>\n",
              "      <th>3</th>\n",
              "      <td>40</td>\n",
              "      <td>admin.</td>\n",
              "      <td>married</td>\n",
              "      <td>basic.6y</td>\n",
              "      <td>no</td>\n",
              "      <td>no</td>\n",
              "      <td>no</td>\n",
              "      <td>telephone</td>\n",
              "      <td>may</td>\n",
              "      <td>mon</td>\n",
              "      <td>151</td>\n",
              "      <td>1</td>\n",
              "      <td>999</td>\n",
              "      <td>0</td>\n",
              "      <td>nonexistent</td>\n",
              "      <td>1.1</td>\n",
              "      <td>93.994</td>\n",
              "      <td>-36.4</td>\n",
              "      <td>4.857</td>\n",
              "      <td>5191.0</td>\n",
              "      <td>no</td>\n",
              "    </tr>\n",
              "    <tr>\n",
              "      <th>4</th>\n",
              "      <td>56</td>\n",
              "      <td>services</td>\n",
              "      <td>married</td>\n",
              "      <td>high.school</td>\n",
              "      <td>no</td>\n",
              "      <td>no</td>\n",
              "      <td>yes</td>\n",
              "      <td>telephone</td>\n",
              "      <td>may</td>\n",
              "      <td>mon</td>\n",
              "      <td>307</td>\n",
              "      <td>1</td>\n",
              "      <td>999</td>\n",
              "      <td>0</td>\n",
              "      <td>nonexistent</td>\n",
              "      <td>1.1</td>\n",
              "      <td>93.994</td>\n",
              "      <td>-36.4</td>\n",
              "      <td>4.857</td>\n",
              "      <td>5191.0</td>\n",
              "      <td>no</td>\n",
              "    </tr>\n",
              "  </tbody>\n",
              "</table>\n",
              "</div>"
            ],
            "text/plain": [
              "   age        job  marital  ... euribor3m nr.employed   y\n",
              "0   56  housemaid  married  ...     4.857      5191.0  no\n",
              "1   57   services  married  ...     4.857      5191.0  no\n",
              "2   37   services  married  ...     4.857      5191.0  no\n",
              "3   40     admin.  married  ...     4.857      5191.0  no\n",
              "4   56   services  married  ...     4.857      5191.0  no\n",
              "\n",
              "[5 rows x 21 columns]"
            ]
          },
          "metadata": {
            "tags": []
          },
          "execution_count": 7
        }
      ]
    },
    {
      "cell_type": "code",
      "metadata": {
        "id": "LOQ-XfdtGsuj",
        "colab_type": "code",
        "colab": {
          "base_uri": "https://localhost:8080/",
          "height": 34
        },
        "outputId": "c2801d4a-daf0-4af1-abfb-de5a27d5c1d1"
      },
      "source": [
        "data.shape\n"
      ],
      "execution_count": 9,
      "outputs": [
        {
          "output_type": "execute_result",
          "data": {
            "text/plain": [
              "(41188, 21)"
            ]
          },
          "metadata": {
            "tags": []
          },
          "execution_count": 9
        }
      ]
    },
    {
      "cell_type": "markdown",
      "metadata": {
        "id": "p5ItCAMb21Zs",
        "colab_type": "text"
      },
      "source": [
        "Como tenemos varias variables categóricas lo que haremos es usar el labelEncoder, para pasarlas a términos númericos\n",
        "\n"
      ]
    },
    {
      "cell_type": "code",
      "metadata": {
        "id": "EhCfch4rWbf2",
        "colab_type": "code",
        "colab": {}
      },
      "source": [
        "from sklearn.preprocessing import LabelEncoder\n",
        "le=LabelEncoder()"
      ],
      "execution_count": 0,
      "outputs": []
    },
    {
      "cell_type": "code",
      "metadata": {
        "id": "i7lYsfjzWim7",
        "colab_type": "code",
        "colab": {}
      },
      "source": [
        "data['trabajo']=le.fit_transform(data['job'])\n",
        "data['marital_c']=le.fit_transform(data['marital'])\n",
        "data['educacion']=le.fit_transform(data['education'])\n",
        "data['housing_c']=le.fit_transform(data['housing'])\n",
        "data['loan_c']=le.fit_transform(data['loan'])\n",
        "data['contact_c']=le.fit_transform(data['contact'])\n",
        "data['poutcome_c']=le.fit_transform(data['poutcome'])\n",
        "data['tag']=le.fit_transform(data['y'])"
      ],
      "execution_count": 0,
      "outputs": []
    },
    {
      "cell_type": "code",
      "metadata": {
        "id": "zQEUHyUzWi22",
        "colab_type": "code",
        "outputId": "0e571166-4948-4657-c320-3f6632e1bc5a",
        "colab": {
          "base_uri": "https://localhost:8080/",
          "height": 224
        }
      },
      "source": [
        "data.head()"
      ],
      "execution_count": 12,
      "outputs": [
        {
          "output_type": "execute_result",
          "data": {
            "text/html": [
              "<div>\n",
              "<style scoped>\n",
              "    .dataframe tbody tr th:only-of-type {\n",
              "        vertical-align: middle;\n",
              "    }\n",
              "\n",
              "    .dataframe tbody tr th {\n",
              "        vertical-align: top;\n",
              "    }\n",
              "\n",
              "    .dataframe thead th {\n",
              "        text-align: right;\n",
              "    }\n",
              "</style>\n",
              "<table border=\"1\" class=\"dataframe\">\n",
              "  <thead>\n",
              "    <tr style=\"text-align: right;\">\n",
              "      <th></th>\n",
              "      <th>age</th>\n",
              "      <th>job</th>\n",
              "      <th>marital</th>\n",
              "      <th>education</th>\n",
              "      <th>default</th>\n",
              "      <th>housing</th>\n",
              "      <th>loan</th>\n",
              "      <th>contact</th>\n",
              "      <th>month</th>\n",
              "      <th>day_of_week</th>\n",
              "      <th>duration</th>\n",
              "      <th>campaign</th>\n",
              "      <th>pdays</th>\n",
              "      <th>previous</th>\n",
              "      <th>poutcome</th>\n",
              "      <th>emp.var.rate</th>\n",
              "      <th>cons.price.idx</th>\n",
              "      <th>cons.conf.idx</th>\n",
              "      <th>euribor3m</th>\n",
              "      <th>nr.employed</th>\n",
              "      <th>y</th>\n",
              "      <th>trabajo</th>\n",
              "      <th>marital_c</th>\n",
              "      <th>educacion</th>\n",
              "      <th>housing_c</th>\n",
              "      <th>loan_c</th>\n",
              "      <th>contact_c</th>\n",
              "      <th>poutcome_c</th>\n",
              "      <th>tag</th>\n",
              "    </tr>\n",
              "  </thead>\n",
              "  <tbody>\n",
              "    <tr>\n",
              "      <th>0</th>\n",
              "      <td>56</td>\n",
              "      <td>housemaid</td>\n",
              "      <td>married</td>\n",
              "      <td>basic.4y</td>\n",
              "      <td>no</td>\n",
              "      <td>no</td>\n",
              "      <td>no</td>\n",
              "      <td>telephone</td>\n",
              "      <td>may</td>\n",
              "      <td>mon</td>\n",
              "      <td>261</td>\n",
              "      <td>1</td>\n",
              "      <td>999</td>\n",
              "      <td>0</td>\n",
              "      <td>nonexistent</td>\n",
              "      <td>1.1</td>\n",
              "      <td>93.994</td>\n",
              "      <td>-36.4</td>\n",
              "      <td>4.857</td>\n",
              "      <td>5191.0</td>\n",
              "      <td>no</td>\n",
              "      <td>3</td>\n",
              "      <td>1</td>\n",
              "      <td>0</td>\n",
              "      <td>0</td>\n",
              "      <td>0</td>\n",
              "      <td>1</td>\n",
              "      <td>1</td>\n",
              "      <td>0</td>\n",
              "    </tr>\n",
              "    <tr>\n",
              "      <th>1</th>\n",
              "      <td>57</td>\n",
              "      <td>services</td>\n",
              "      <td>married</td>\n",
              "      <td>high.school</td>\n",
              "      <td>unknown</td>\n",
              "      <td>no</td>\n",
              "      <td>no</td>\n",
              "      <td>telephone</td>\n",
              "      <td>may</td>\n",
              "      <td>mon</td>\n",
              "      <td>149</td>\n",
              "      <td>1</td>\n",
              "      <td>999</td>\n",
              "      <td>0</td>\n",
              "      <td>nonexistent</td>\n",
              "      <td>1.1</td>\n",
              "      <td>93.994</td>\n",
              "      <td>-36.4</td>\n",
              "      <td>4.857</td>\n",
              "      <td>5191.0</td>\n",
              "      <td>no</td>\n",
              "      <td>7</td>\n",
              "      <td>1</td>\n",
              "      <td>3</td>\n",
              "      <td>0</td>\n",
              "      <td>0</td>\n",
              "      <td>1</td>\n",
              "      <td>1</td>\n",
              "      <td>0</td>\n",
              "    </tr>\n",
              "    <tr>\n",
              "      <th>2</th>\n",
              "      <td>37</td>\n",
              "      <td>services</td>\n",
              "      <td>married</td>\n",
              "      <td>high.school</td>\n",
              "      <td>no</td>\n",
              "      <td>yes</td>\n",
              "      <td>no</td>\n",
              "      <td>telephone</td>\n",
              "      <td>may</td>\n",
              "      <td>mon</td>\n",
              "      <td>226</td>\n",
              "      <td>1</td>\n",
              "      <td>999</td>\n",
              "      <td>0</td>\n",
              "      <td>nonexistent</td>\n",
              "      <td>1.1</td>\n",
              "      <td>93.994</td>\n",
              "      <td>-36.4</td>\n",
              "      <td>4.857</td>\n",
              "      <td>5191.0</td>\n",
              "      <td>no</td>\n",
              "      <td>7</td>\n",
              "      <td>1</td>\n",
              "      <td>3</td>\n",
              "      <td>2</td>\n",
              "      <td>0</td>\n",
              "      <td>1</td>\n",
              "      <td>1</td>\n",
              "      <td>0</td>\n",
              "    </tr>\n",
              "    <tr>\n",
              "      <th>3</th>\n",
              "      <td>40</td>\n",
              "      <td>admin.</td>\n",
              "      <td>married</td>\n",
              "      <td>basic.6y</td>\n",
              "      <td>no</td>\n",
              "      <td>no</td>\n",
              "      <td>no</td>\n",
              "      <td>telephone</td>\n",
              "      <td>may</td>\n",
              "      <td>mon</td>\n",
              "      <td>151</td>\n",
              "      <td>1</td>\n",
              "      <td>999</td>\n",
              "      <td>0</td>\n",
              "      <td>nonexistent</td>\n",
              "      <td>1.1</td>\n",
              "      <td>93.994</td>\n",
              "      <td>-36.4</td>\n",
              "      <td>4.857</td>\n",
              "      <td>5191.0</td>\n",
              "      <td>no</td>\n",
              "      <td>0</td>\n",
              "      <td>1</td>\n",
              "      <td>1</td>\n",
              "      <td>0</td>\n",
              "      <td>0</td>\n",
              "      <td>1</td>\n",
              "      <td>1</td>\n",
              "      <td>0</td>\n",
              "    </tr>\n",
              "    <tr>\n",
              "      <th>4</th>\n",
              "      <td>56</td>\n",
              "      <td>services</td>\n",
              "      <td>married</td>\n",
              "      <td>high.school</td>\n",
              "      <td>no</td>\n",
              "      <td>no</td>\n",
              "      <td>yes</td>\n",
              "      <td>telephone</td>\n",
              "      <td>may</td>\n",
              "      <td>mon</td>\n",
              "      <td>307</td>\n",
              "      <td>1</td>\n",
              "      <td>999</td>\n",
              "      <td>0</td>\n",
              "      <td>nonexistent</td>\n",
              "      <td>1.1</td>\n",
              "      <td>93.994</td>\n",
              "      <td>-36.4</td>\n",
              "      <td>4.857</td>\n",
              "      <td>5191.0</td>\n",
              "      <td>no</td>\n",
              "      <td>7</td>\n",
              "      <td>1</td>\n",
              "      <td>3</td>\n",
              "      <td>0</td>\n",
              "      <td>2</td>\n",
              "      <td>1</td>\n",
              "      <td>1</td>\n",
              "      <td>0</td>\n",
              "    </tr>\n",
              "  </tbody>\n",
              "</table>\n",
              "</div>"
            ],
            "text/plain": [
              "   age        job  marital    education  ... loan_c contact_c poutcome_c tag\n",
              "0   56  housemaid  married     basic.4y  ...      0         1          1   0\n",
              "1   57   services  married  high.school  ...      0         1          1   0\n",
              "2   37   services  married  high.school  ...      0         1          1   0\n",
              "3   40     admin.  married     basic.6y  ...      0         1          1   0\n",
              "4   56   services  married  high.school  ...      2         1          1   0\n",
              "\n",
              "[5 rows x 29 columns]"
            ]
          },
          "metadata": {
            "tags": []
          },
          "execution_count": 12
        }
      ]
    },
    {
      "cell_type": "markdown",
      "metadata": {
        "id": "zEcAwh4E25HS",
        "colab_type": "text"
      },
      "source": [
        "Luego de tener esto quitamos las columnas que son categoricas y aquellas que pueden no aportarnos información al momento de entrenar nuestra red."
      ]
    },
    {
      "cell_type": "code",
      "metadata": {
        "id": "dxTirY3RUj55",
        "colab_type": "code",
        "colab": {}
      },
      "source": [
        "data=data.drop(columns=['job','marital','education','default','housing','loan','contact','month','day_of_week','poutcome','y'])"
      ],
      "execution_count": 0,
      "outputs": []
    },
    {
      "cell_type": "code",
      "metadata": {
        "id": "97lOe-tXVrpX",
        "colab_type": "code",
        "outputId": "eb8fbb5d-328b-4d75-e80e-ccda590c8aaf",
        "colab": {
          "base_uri": "https://localhost:8080/",
          "height": 224
        }
      },
      "source": [
        "data.head()"
      ],
      "execution_count": 14,
      "outputs": [
        {
          "output_type": "execute_result",
          "data": {
            "text/html": [
              "<div>\n",
              "<style scoped>\n",
              "    .dataframe tbody tr th:only-of-type {\n",
              "        vertical-align: middle;\n",
              "    }\n",
              "\n",
              "    .dataframe tbody tr th {\n",
              "        vertical-align: top;\n",
              "    }\n",
              "\n",
              "    .dataframe thead th {\n",
              "        text-align: right;\n",
              "    }\n",
              "</style>\n",
              "<table border=\"1\" class=\"dataframe\">\n",
              "  <thead>\n",
              "    <tr style=\"text-align: right;\">\n",
              "      <th></th>\n",
              "      <th>age</th>\n",
              "      <th>duration</th>\n",
              "      <th>campaign</th>\n",
              "      <th>pdays</th>\n",
              "      <th>previous</th>\n",
              "      <th>emp.var.rate</th>\n",
              "      <th>cons.price.idx</th>\n",
              "      <th>cons.conf.idx</th>\n",
              "      <th>euribor3m</th>\n",
              "      <th>nr.employed</th>\n",
              "      <th>trabajo</th>\n",
              "      <th>marital_c</th>\n",
              "      <th>educacion</th>\n",
              "      <th>housing_c</th>\n",
              "      <th>loan_c</th>\n",
              "      <th>contact_c</th>\n",
              "      <th>poutcome_c</th>\n",
              "      <th>tag</th>\n",
              "    </tr>\n",
              "  </thead>\n",
              "  <tbody>\n",
              "    <tr>\n",
              "      <th>0</th>\n",
              "      <td>56</td>\n",
              "      <td>261</td>\n",
              "      <td>1</td>\n",
              "      <td>999</td>\n",
              "      <td>0</td>\n",
              "      <td>1.1</td>\n",
              "      <td>93.994</td>\n",
              "      <td>-36.4</td>\n",
              "      <td>4.857</td>\n",
              "      <td>5191.0</td>\n",
              "      <td>3</td>\n",
              "      <td>1</td>\n",
              "      <td>0</td>\n",
              "      <td>0</td>\n",
              "      <td>0</td>\n",
              "      <td>1</td>\n",
              "      <td>1</td>\n",
              "      <td>0</td>\n",
              "    </tr>\n",
              "    <tr>\n",
              "      <th>1</th>\n",
              "      <td>57</td>\n",
              "      <td>149</td>\n",
              "      <td>1</td>\n",
              "      <td>999</td>\n",
              "      <td>0</td>\n",
              "      <td>1.1</td>\n",
              "      <td>93.994</td>\n",
              "      <td>-36.4</td>\n",
              "      <td>4.857</td>\n",
              "      <td>5191.0</td>\n",
              "      <td>7</td>\n",
              "      <td>1</td>\n",
              "      <td>3</td>\n",
              "      <td>0</td>\n",
              "      <td>0</td>\n",
              "      <td>1</td>\n",
              "      <td>1</td>\n",
              "      <td>0</td>\n",
              "    </tr>\n",
              "    <tr>\n",
              "      <th>2</th>\n",
              "      <td>37</td>\n",
              "      <td>226</td>\n",
              "      <td>1</td>\n",
              "      <td>999</td>\n",
              "      <td>0</td>\n",
              "      <td>1.1</td>\n",
              "      <td>93.994</td>\n",
              "      <td>-36.4</td>\n",
              "      <td>4.857</td>\n",
              "      <td>5191.0</td>\n",
              "      <td>7</td>\n",
              "      <td>1</td>\n",
              "      <td>3</td>\n",
              "      <td>2</td>\n",
              "      <td>0</td>\n",
              "      <td>1</td>\n",
              "      <td>1</td>\n",
              "      <td>0</td>\n",
              "    </tr>\n",
              "    <tr>\n",
              "      <th>3</th>\n",
              "      <td>40</td>\n",
              "      <td>151</td>\n",
              "      <td>1</td>\n",
              "      <td>999</td>\n",
              "      <td>0</td>\n",
              "      <td>1.1</td>\n",
              "      <td>93.994</td>\n",
              "      <td>-36.4</td>\n",
              "      <td>4.857</td>\n",
              "      <td>5191.0</td>\n",
              "      <td>0</td>\n",
              "      <td>1</td>\n",
              "      <td>1</td>\n",
              "      <td>0</td>\n",
              "      <td>0</td>\n",
              "      <td>1</td>\n",
              "      <td>1</td>\n",
              "      <td>0</td>\n",
              "    </tr>\n",
              "    <tr>\n",
              "      <th>4</th>\n",
              "      <td>56</td>\n",
              "      <td>307</td>\n",
              "      <td>1</td>\n",
              "      <td>999</td>\n",
              "      <td>0</td>\n",
              "      <td>1.1</td>\n",
              "      <td>93.994</td>\n",
              "      <td>-36.4</td>\n",
              "      <td>4.857</td>\n",
              "      <td>5191.0</td>\n",
              "      <td>7</td>\n",
              "      <td>1</td>\n",
              "      <td>3</td>\n",
              "      <td>0</td>\n",
              "      <td>2</td>\n",
              "      <td>1</td>\n",
              "      <td>1</td>\n",
              "      <td>0</td>\n",
              "    </tr>\n",
              "  </tbody>\n",
              "</table>\n",
              "</div>"
            ],
            "text/plain": [
              "   age  duration  campaign  pdays  ...  loan_c  contact_c  poutcome_c  tag\n",
              "0   56       261         1    999  ...       0          1           1    0\n",
              "1   57       149         1    999  ...       0          1           1    0\n",
              "2   37       226         1    999  ...       0          1           1    0\n",
              "3   40       151         1    999  ...       0          1           1    0\n",
              "4   56       307         1    999  ...       2          1           1    0\n",
              "\n",
              "[5 rows x 18 columns]"
            ]
          },
          "metadata": {
            "tags": []
          },
          "execution_count": 14
        }
      ]
    },
    {
      "cell_type": "markdown",
      "metadata": {
        "id": "7pBZ2ue93JuS",
        "colab_type": "text"
      },
      "source": [
        "Teniendo esto hacemos nuestra division entre mis datos y etiquetas"
      ]
    },
    {
      "cell_type": "code",
      "metadata": {
        "id": "cfjR35o_YptQ",
        "colab_type": "code",
        "colab": {}
      },
      "source": [
        "X=data.drop(columns=['tag'])\n",
        "y=data['tag']"
      ],
      "execution_count": 0,
      "outputs": []
    },
    {
      "cell_type": "code",
      "metadata": {
        "id": "USzwoW6-Y87T",
        "colab_type": "code",
        "outputId": "b4757ded-4611-463c-c751-9f86316600ea",
        "colab": {
          "base_uri": "https://localhost:8080/",
          "height": 34
        }
      },
      "source": [
        "X.shape, y.shape\n"
      ],
      "execution_count": 18,
      "outputs": [
        {
          "output_type": "execute_result",
          "data": {
            "text/plain": [
              "(41188, 17)"
            ]
          },
          "metadata": {
            "tags": []
          },
          "execution_count": 18
        }
      ]
    },
    {
      "cell_type": "markdown",
      "metadata": {
        "id": "PFQTTI_Z3X2j",
        "colab_type": "text"
      },
      "source": [
        "Hacemos una división en mis conjuntos y además normalizamos los datos ya que tenemos escalas bastante diferentes"
      ]
    },
    {
      "cell_type": "code",
      "metadata": {
        "id": "--w3wycBaMzW",
        "colab_type": "code",
        "colab": {}
      },
      "source": [
        "\n",
        "from sklearn.model_selection import train_test_split\n",
        "from sklearn.preprocessing import StandardScaler\n"
      ],
      "execution_count": 0,
      "outputs": []
    },
    {
      "cell_type": "code",
      "metadata": {
        "id": "xC4knB55abTt",
        "colab_type": "code",
        "colab": {}
      },
      "source": [
        "X_train, X_test, y_train, y_test=train_test_split(X,y,test_size=0.3, random_state=42)"
      ],
      "execution_count": 0,
      "outputs": []
    },
    {
      "cell_type": "code",
      "metadata": {
        "id": "a7pms87NpTto",
        "colab_type": "code",
        "colab": {}
      },
      "source": [
        "# Vamos a hacer un MACHETAZO de reescalar datos que son categoricos,\n",
        "# eso no se deberia hacer pues estos datos los convertimos a numericos pero no tienen\n",
        "# relacion con sus numeros,\n",
        "# en teoria no afecta, pero tampoco ayuda\n",
        "ss=StandardScaler()"
      ],
      "execution_count": 0,
      "outputs": []
    },
    {
      "cell_type": "code",
      "metadata": {
        "id": "mWyX_1UVpWXa",
        "colab_type": "code",
        "colab": {}
      },
      "source": [
        "# ´El machetazo´\n",
        "X_train=ss.fit_transform(X_train)\n",
        "X_test=ss.fit_transform(X_test)"
      ],
      "execution_count": 0,
      "outputs": []
    },
    {
      "cell_type": "code",
      "metadata": {
        "id": "Jph7wmX2pdfq",
        "colab_type": "code",
        "outputId": "c43319be-983e-4770-8f5e-79433300fd2e",
        "colab": {
          "base_uri": "https://localhost:8080/",
          "height": 34
        }
      },
      "source": [
        "X_train.shape"
      ],
      "execution_count": 25,
      "outputs": [
        {
          "output_type": "execute_result",
          "data": {
            "text/plain": [
              "(28831, 17)"
            ]
          },
          "metadata": {
            "tags": []
          },
          "execution_count": 25
        }
      ]
    },
    {
      "cell_type": "code",
      "metadata": {
        "id": "MC7fqDD4pfRX",
        "colab_type": "code",
        "outputId": "60f825dc-053f-49af-8fff-4e7957054af2",
        "colab": {
          "base_uri": "https://localhost:8080/",
          "height": 34
        }
      },
      "source": [
        "X_test.shape"
      ],
      "execution_count": 26,
      "outputs": [
        {
          "output_type": "execute_result",
          "data": {
            "text/plain": [
              "(12357, 17)"
            ]
          },
          "metadata": {
            "tags": []
          },
          "execution_count": 26
        }
      ]
    },
    {
      "cell_type": "code",
      "metadata": {
        "id": "Y9yPE_-uuWD-",
        "colab_type": "code",
        "colab": {}
      },
      "source": [
        "y_test=y_test.values\n",
        "y_train = y_train.values\n"
      ],
      "execution_count": 0,
      "outputs": []
    },
    {
      "cell_type": "markdown",
      "metadata": {
        "id": "dOWxhqHW3khx",
        "colab_type": "text"
      },
      "source": [
        "Ahora bien creamos nuestra red multicapa, teniendo en cuenta que tenemos una problema de clasificación binaria."
      ]
    },
    {
      "cell_type": "code",
      "metadata": {
        "id": "V62BL4GFsLuI",
        "colab_type": "code",
        "colab": {}
      },
      "source": [
        "keras.backend.clear_session()"
      ],
      "execution_count": 0,
      "outputs": []
    },
    {
      "cell_type": "code",
      "metadata": {
        "id": "nHBw2YVGplgU",
        "colab_type": "code",
        "colab": {}
      },
      "source": [
        "# kernel_initializer='he_uniform' se utiliza para el problema del gradiente descendiente \n",
        "#activation='relu'\n",
        "\n",
        "\n",
        "# Es importante resaltar que se pueden usar multiplos de 2 para las neuronas en cada capa, esto ayuda \n",
        "# a paralelizar\n",
        "model= keras.models.Sequential([\n",
        "                         keras.layers.Dense(32,activation='relu',kernel_initializer='he_uniform',input_shape=(17,)),\n",
        "                         keras.layers.Dense(16,activation='relu',kernel_initializer='he_uniform'),\n",
        "                         keras.layers.Dense(8,activation='relu',kernel_initializer='he_uniform'),\n",
        "                         keras.layers.Dense(1,activation='sigmoid')\n",
        "])\n"
      ],
      "execution_count": 0,
      "outputs": []
    },
    {
      "cell_type": "code",
      "metadata": {
        "id": "q7jUFgL2qif8",
        "colab_type": "code",
        "colab": {}
      },
      "source": [
        "model.compile(optimizer='adam',loss='binary_crossentropy',metrics=['accuracy'])"
      ],
      "execution_count": 0,
      "outputs": []
    },
    {
      "cell_type": "code",
      "metadata": {
        "id": "3vf_kvgoqr3h",
        "colab_type": "code",
        "outputId": "559d719b-14e0-4388-b21c-a750a664ef4b",
        "colab": {
          "base_uri": "https://localhost:8080/",
          "height": 374
        }
      },
      "source": [
        "history=model.fit(X_train,y_train,epochs=10)"
      ],
      "execution_count": 31,
      "outputs": [
        {
          "output_type": "stream",
          "text": [
            "Train on 28831 samples\n",
            "Epoch 1/10\n",
            "28831/28831 [==============================] - 5s 165us/sample - loss: 0.2404 - accuracy: 0.9018\n",
            "Epoch 2/10\n",
            "28831/28831 [==============================] - 3s 92us/sample - loss: 0.2019 - accuracy: 0.9083\n",
            "Epoch 3/10\n",
            "28831/28831 [==============================] - 3s 96us/sample - loss: 0.1974 - accuracy: 0.9101\n",
            "Epoch 4/10\n",
            "28831/28831 [==============================] - 3s 94us/sample - loss: 0.1947 - accuracy: 0.9108\n",
            "Epoch 5/10\n",
            "28831/28831 [==============================] - 3s 93us/sample - loss: 0.1927 - accuracy: 0.9119\n",
            "Epoch 6/10\n",
            "28831/28831 [==============================] - 3s 95us/sample - loss: 0.1914 - accuracy: 0.9116\n",
            "Epoch 7/10\n",
            "28831/28831 [==============================] - 3s 94us/sample - loss: 0.1891 - accuracy: 0.9125\n",
            "Epoch 8/10\n",
            "28831/28831 [==============================] - 3s 93us/sample - loss: 0.1874 - accuracy: 0.9141\n",
            "Epoch 9/10\n",
            "28831/28831 [==============================] - 3s 96us/sample - loss: 0.1861 - accuracy: 0.9145\n",
            "Epoch 10/10\n",
            "28831/28831 [==============================] - 3s 97us/sample - loss: 0.1854 - accuracy: 0.9139\n"
          ],
          "name": "stdout"
        }
      ]
    },
    {
      "cell_type": "code",
      "metadata": {
        "id": "9XJig41YrGbT",
        "colab_type": "code",
        "outputId": "8de7fb01-f7ca-4907-b913-614d31b84db2",
        "colab": {
          "base_uri": "https://localhost:8080/",
          "height": 355
        }
      },
      "source": [
        "pd.DataFrame(history.history).plot(figsize=(5,5))\n",
        "plt.title('Curvas de validación')"
      ],
      "execution_count": 32,
      "outputs": [
        {
          "output_type": "execute_result",
          "data": {
            "text/plain": [
              "Text(0.5, 1.0, 'Curvas de validación')"
            ]
          },
          "metadata": {
            "tags": []
          },
          "execution_count": 32
        },
        {
          "output_type": "display_data",
          "data": {
            "image/png": "[encoded data removed]",
            "text/plain": [
              "<Figure size 360x360 with 1 Axes>"
            ]
          },
          "metadata": {
            "tags": []
          }
        }
      ]
    },
    {
      "cell_type": "code",
      "metadata": {
        "id": "HWKTb7dRrsoP",
        "colab_type": "code",
        "outputId": "b7c08f54-1e50-4841-eac9-b90e67999b7c",
        "colab": {
          "base_uri": "https://localhost:8080/",
          "height": 51
        }
      },
      "source": [
        "model.evaluate(X_test,y_test)"
      ],
      "execution_count": 33,
      "outputs": [
        {
          "output_type": "stream",
          "text": [
            "12357/12357 [==============================] - 1s 66us/sample - loss: 0.1874 - accuracy: 0.9144\n"
          ],
          "name": "stdout"
        },
        {
          "output_type": "execute_result",
          "data": {
            "text/plain": [
              "[0.18743255273553172, 0.9143805]"
            ]
          },
          "metadata": {
            "tags": []
          },
          "execution_count": 33
        }
      ]
    },
    {
      "cell_type": "code",
      "metadata": {
        "id": "soCRvFwkttfQ",
        "colab_type": "code",
        "colab": {}
      },
      "source": [
        "\n",
        "from sklearn.metrics import confusion_matrix\n"
      ],
      "execution_count": 0,
      "outputs": []
    },
    {
      "cell_type": "code",
      "metadata": {
        "id": "CwA4kcnvsEZP",
        "colab_type": "code",
        "colab": {}
      },
      "source": [
        "\n",
        "from sklearn.metrics import confusion_matrix"
      ],
      "execution_count": 0,
      "outputs": []
    },
    {
      "cell_type": "code",
      "metadata": {
        "id": "OXD_IOx3tk_a",
        "colab_type": "code",
        "colab": {}
      },
      "source": [
        "a=confusion_matrix(y_test,y_h)"
      ],
      "execution_count": 0,
      "outputs": []
    },
    {
      "cell_type": "code",
      "metadata": {
        "id": "PE9WVssnuAG7",
        "colab_type": "code",
        "outputId": "e90f29bd-288f-412c-81cc-d99b33bd309b",
        "colab": {
          "base_uri": "https://localhost:8080/",
          "height": 339
        }
      },
      "source": [
        "plt.figure(figsize=(8,5))\n",
        "sns.heatmap(a,annot=True,cmap='BuGn_r')\n"
      ],
      "execution_count": 37,
      "outputs": [
        {
          "output_type": "execute_result",
          "data": {
            "text/plain": [
              "<matplotlib.axes._subplots.AxesSubplot at 0x7faa1204aba8>"
            ]
          },
          "metadata": {
            "tags": []
          },
          "execution_count": 37
        },
        {
          "output_type": "display_data",
          "data": {
            "image/png": "[encoded data removed]",
            "text/plain": [
              "<Figure size 576x360 with 2 Axes>"
            ]
          },
          "metadata": {
            "tags": []
          }
        }
      ]
    },
    {
      "cell_type": "code",
      "metadata": {
        "id": "MU2XVE6Gwy2n",
        "colab_type": "code",
        "outputId": "a8b28be4-cce4-499e-d0bb-7cef8795be7d",
        "colab": {
          "base_uri": "https://localhost:8080/",
          "height": 53
        }
      },
      "source": [
        "a"
      ],
      "execution_count": 0,
      "outputs": [
        {
          "output_type": "execute_result",
          "data": {
            "text/plain": [
              "array([[10456,   512],\n",
              "       [  636,   753]])"
            ]
          },
          "metadata": {
            "tags": []
          },
          "execution_count": 31
        }
      ]
    },
    {
      "cell_type": "markdown",
      "metadata": {
        "id": "dH5vanIUezLF",
        "colab_type": "text"
      },
      "source": [
        "## Ejercicio\n",
        "\n",
        "La ionósfera es la parte de la atmósfera que se encuentra usualmente expuesta a la radiación solar y por tal motivo se mantiene ionizada, lo cual se dá debido a que los gases en estas capas son agitados por la radiación solar para formar iones, que tienen una carga eléctrica. El Ionosphere Data Set contiene información captada por radares, los cuales buscaban detectar electrones libres en esta capa de la atmosfera, donde estas antenas regresaban a partir de señales \"good\" si detectaban algún elemento en la ionósfera o \"bad\" en caso contrario.\n",
        "\n",
        "<p><img alt=\"Colaboratory logo\" height=\"200px\" src=\"https://t2.ev.ltmcdn.com/es/posts/6/1/7/atmosfera_y_cuales_son_sus_capas_para_ninos_de_primaria_1716_600.jpg\" align=\"center\" hspace=\"10px\" vspace=\"0px\"></p>\n",
        "\n",
        "<p><img alt=\"Colaboratory logo\" height=\"250px\" src=\"https://archive.ics.uci.edu/ml/assets/MLimages/Large52.jpg\" align=\"center\" hspace=\"10px\" vspace=\"0px\"></p>\n",
        "\n",
        "\n",
        "Para más información pueden ver el siguiente [artículo](https://pdfs.semanticscholar.org/e0d2/de05caacdfa8073b2b4f77c5e72cb2449b81.pdf). Para nuestro ejercicio buscaremos realizar una red con la cual podamos hacer una clasificación (bad or good). Para eso debemos seguir los siguientes pasos:\n",
        "\n",
        "  \n",
        "\n",
        "1.   Descargar los datos desde el siguiente [enlace](https://raw.githubusercontent.com/jbrownlee/Datasets/master/ionosphere.csv)\n",
        "2. Carga/llama las librerías que consideres necesarias\n",
        "3.   Leer los datos y crear las respectivas variable **X** y **Y**.\n",
        "4.  Encontrar las dimensiones de las variables anteriores\n",
        "5. Realizar un proceso de encoding si es necesario\n",
        "6. Dividir nuestros dato, en los datos de entrenamiento y test\n",
        "7. Construir la red en la que uses el perceptron multi capa, donde apliques los conceptos aprendidos en clase\n",
        "8. Compila el modelo y haz un fit de los datos\n",
        "9. Haz un plot de las curvas de validación\n",
        "11. Encuentra las clases predichas para los datos de test.\n",
        "10. Realiza la matiz de confusión para este caso\n"
      ]
    },
    {
      "cell_type": "markdown",
      "metadata": {
        "id": "E_EuamzIRs6e",
        "colab_type": "text"
      },
      "source": [
        "# Julian attempt\n",
        "\n",
        "###Descargar los datos y guardarlos"
      ]
    },
    {
      "cell_type": "code",
      "metadata": {
        "id": "fZV5siWHRsK7",
        "colab_type": "code",
        "colab": {
          "base_uri": "https://localhost:8080/",
          "height": 394
        },
        "outputId": "d024a3f2-4c81-498f-ccb0-5810b74acf49"
      },
      "source": [
        "!wget https://raw.githubusercontent.com/jbrownlee/Datasets/master/ionosphere.csv\n",
        "!head ionosphere.csv"
      ],
      "execution_count": 42,
      "outputs": [
        {
          "output_type": "stream",
          "text": [
            "--2020-02-22 14:27:56--  https://raw.githubusercontent.com/jbrownlee/Datasets/master/ionosphere.csv\n",
            "Resolving raw.githubusercontent.com (raw.githubusercontent.com)... 151.101.0.133, 151.101.64.133, 151.101.128.133, ...\n",
            "Connecting to raw.githubusercontent.com (raw.githubusercontent.com)|151.101.0.133|:443... connected.\n",
            "HTTP request sent, awaiting response... 200 OK\n",
            "Length: 76466 (75K) [text/plain]\n",
            "Saving to: ‘ionosphere.csv.1’\n",
            "\n",
            "\rionosphere.csv.1      0%[                    ]       0  --.-KB/s               \rionosphere.csv.1    100%[===================>]  74.67K  --.-KB/s    in 0.02s   \n",
            "\n",
            "2020-02-22 14:27:56 (4.36 MB/s) - ‘ionosphere.csv.1’ saved [76466/76466]\n",
            "\n",
            "1,0,0.99539,-0.05889,0.85243,0.02306,0.83398,-0.37708,1,0.03760,0.85243,-0.17755,0.59755,-0.44945,0.60536,-0.38223,0.84356,-0.38542,0.58212,-0.32192,0.56971,-0.29674,0.36946,-0.47357,0.56811,-0.51171,0.41078,-0.46168,0.21266,-0.34090,0.42267,-0.54487,0.18641,-0.45300,g\n",
            "1,0,1,-0.18829,0.93035,-0.36156,-0.10868,-0.93597,1,-0.04549,0.50874,-0.67743,0.34432,-0.69707,-0.51685,-0.97515,0.05499,-0.62237,0.33109,-1,-0.13151,-0.45300,-0.18056,-0.35734,-0.20332,-0.26569,-0.20468,-0.18401,-0.19040,-0.11593,-0.16626,-0.06288,-0.13738,-0.02447,b\n",
            "1,0,1,-0.03365,1,0.00485,1,-0.12062,0.88965,0.01198,0.73082,0.05346,0.85443,0.00827,0.54591,0.00299,0.83775,-0.13644,0.75535,-0.08540,0.70887,-0.27502,0.43385,-0.12062,0.57528,-0.40220,0.58984,-0.22145,0.43100,-0.17365,0.60436,-0.24180,0.56045,-0.38238,g\n",
            "1,0,1,-0.45161,1,1,0.71216,-1,0,0,0,0,0,0,-1,0.14516,0.54094,-0.39330,-1,-0.54467,-0.69975,1,0,0,1,0.90695,0.51613,1,1,-0.20099,0.25682,1,-0.32382,1,b\n",
            "1,0,1,-0.02401,0.94140,0.06531,0.92106,-0.23255,0.77152,-0.16399,0.52798,-0.20275,0.56409,-0.00712,0.34395,-0.27457,0.52940,-0.21780,0.45107,-0.17813,0.05982,-0.35575,0.02309,-0.52879,0.03286,-0.65158,0.13290,-0.53206,0.02431,-0.62197,-0.05707,-0.59573,-0.04608,-0.65697,g\n",
            "1,0,0.02337,-0.00592,-0.09924,-0.11949,-0.00763,-0.11824,0.14706,0.06637,0.03786,-0.06302,0,0,-0.04572,-0.15540,-0.00343,-0.10196,-0.11575,-0.05414,0.01838,0.03669,0.01519,0.00888,0.03513,-0.01535,-0.03240,0.09223,-0.07859,0.00732,0,0,-0.00039,0.12011,b\n",
            "1,0,0.97588,-0.10602,0.94601,-0.20800,0.92806,-0.28350,0.85996,-0.27342,0.79766,-0.47929,0.78225,-0.50764,0.74628,-0.61436,0.57945,-0.68086,0.37852,-0.73641,0.36324,-0.76562,0.31898,-0.79753,0.22792,-0.81634,0.13659,-0.82510,0.04606,-0.82395,-0.04262,-0.81318,-0.13832,-0.80975,g\n",
            "0,0,0,0,0,0,1,-1,0,0,-1,-1,0,0,0,0,1,1,-1,-1,0,0,0,0,1,1,1,1,0,0,1,1,0,0,b\n",
            "1,0,0.96355,-0.07198,1,-0.14333,1,-0.21313,1,-0.36174,0.92570,-0.43569,0.94510,-0.40668,0.90392,-0.46381,0.98305,-0.35257,0.84537,-0.66020,0.75346,-0.60589,0.69637,-0.64225,0.85106,-0.65440,0.57577,-0.69712,0.25435,-0.63919,0.45114,-0.72779,0.38895,-0.73420,g\n",
            "1,0,-0.01864,-0.08459,0,0,0,0,0.11470,-0.26810,-0.45663,-0.38172,0,0,-0.33656,0.38602,-0.37133,0.15018,0.63728,0.22115,0,0,0,0,-0.14803,-0.01326,0.20645,-0.02294,0,0,0.16595,0.24086,-0.08208,0.38065,b\n"
          ],
          "name": "stdout"
        }
      ]
    },
    {
      "cell_type": "markdown",
      "metadata": {
        "id": "a3JWTO1OSOi4",
        "colab_type": "text"
      },
      "source": [
        "### Carga/llama las librerías que consideres necesarias"
      ]
    },
    {
      "cell_type": "code",
      "metadata": {
        "id": "1WpjcZ92SZlH",
        "colab_type": "code",
        "colab": {}
      },
      "source": [
        "import numpy as np\n",
        "import pandas as pd\n",
        "from tensorflow import keras\n",
        "import matplotlib.pyplot as plt\n",
        "import seaborn as sns; sns.set()\n",
        "\n",
        "from sklearn.model_selection import train_test_split\n",
        "from sklearn.preprocessing import StandardScaler"
      ],
      "execution_count": 0,
      "outputs": []
    },
    {
      "cell_type": "markdown",
      "metadata": {
        "id": "THQariUuSqOq",
        "colab_type": "text"
      },
      "source": [
        "### Leer los datos y crear las respectivas variable X y Y"
      ]
    },
    {
      "cell_type": "code",
      "metadata": {
        "id": "blQE98X-Sqpq",
        "colab_type": "code",
        "colab": {
          "base_uri": "https://localhost:8080/",
          "height": 224
        },
        "outputId": "fe22fa13-95b2-43a0-eaa6-5397244a8e8a"
      },
      "source": [
        "data=pd.read_csv('ionosphere.csv',sep=',',header=None)\n",
        "data.head()"
      ],
      "execution_count": 57,
      "outputs": [
        {
          "output_type": "execute_result",
          "data": {
            "text/html": [
              "<div>\n",
              "<style scoped>\n",
              "    .dataframe tbody tr th:only-of-type {\n",
              "        vertical-align: middle;\n",
              "    }\n",
              "\n",
              "    .dataframe tbody tr th {\n",
              "        vertical-align: top;\n",
              "    }\n",
              "\n",
              "    .dataframe thead th {\n",
              "        text-align: right;\n",
              "    }\n",
              "</style>\n",
              "<table border=\"1\" class=\"dataframe\">\n",
              "  <thead>\n",
              "    <tr style=\"text-align: right;\">\n",
              "      <th></th>\n",
              "      <th>0</th>\n",
              "      <th>1</th>\n",
              "      <th>2</th>\n",
              "      <th>3</th>\n",
              "      <th>4</th>\n",
              "      <th>5</th>\n",
              "      <th>6</th>\n",
              "      <th>7</th>\n",
              "      <th>8</th>\n",
              "      <th>9</th>\n",
              "      <th>10</th>\n",
              "      <th>11</th>\n",
              "      <th>12</th>\n",
              "      <th>13</th>\n",
              "      <th>14</th>\n",
              "      <th>15</th>\n",
              "      <th>16</th>\n",
              "      <th>17</th>\n",
              "      <th>18</th>\n",
              "      <th>19</th>\n",
              "      <th>20</th>\n",
              "      <th>21</th>\n",
              "      <th>22</th>\n",
              "      <th>23</th>\n",
              "      <th>24</th>\n",
              "      <th>25</th>\n",
              "      <th>26</th>\n",
              "      <th>27</th>\n",
              "      <th>28</th>\n",
              "      <th>29</th>\n",
              "      <th>30</th>\n",
              "      <th>31</th>\n",
              "      <th>32</th>\n",
              "      <th>33</th>\n",
              "      <th>34</th>\n",
              "    </tr>\n",
              "  </thead>\n",
              "  <tbody>\n",
              "    <tr>\n",
              "      <th>0</th>\n",
              "      <td>1</td>\n",
              "      <td>0</td>\n",
              "      <td>0.99539</td>\n",
              "      <td>-0.05889</td>\n",
              "      <td>0.85243</td>\n",
              "      <td>0.02306</td>\n",
              "      <td>0.83398</td>\n",
              "      <td>-0.37708</td>\n",
              "      <td>1.00000</td>\n",
              "      <td>0.03760</td>\n",
              "      <td>0.85243</td>\n",
              "      <td>-0.17755</td>\n",
              "      <td>0.59755</td>\n",
              "      <td>-0.44945</td>\n",
              "      <td>0.60536</td>\n",
              "      <td>-0.38223</td>\n",
              "      <td>0.84356</td>\n",
              "      <td>-0.38542</td>\n",
              "      <td>0.58212</td>\n",
              "      <td>-0.32192</td>\n",
              "      <td>0.56971</td>\n",
              "      <td>-0.29674</td>\n",
              "      <td>0.36946</td>\n",
              "      <td>-0.47357</td>\n",
              "      <td>0.56811</td>\n",
              "      <td>-0.51171</td>\n",
              "      <td>0.41078</td>\n",
              "      <td>-0.46168</td>\n",
              "      <td>0.21266</td>\n",
              "      <td>-0.34090</td>\n",
              "      <td>0.42267</td>\n",
              "      <td>-0.54487</td>\n",
              "      <td>0.18641</td>\n",
              "      <td>-0.45300</td>\n",
              "      <td>g</td>\n",
              "    </tr>\n",
              "    <tr>\n",
              "      <th>1</th>\n",
              "      <td>1</td>\n",
              "      <td>0</td>\n",
              "      <td>1.00000</td>\n",
              "      <td>-0.18829</td>\n",
              "      <td>0.93035</td>\n",
              "      <td>-0.36156</td>\n",
              "      <td>-0.10868</td>\n",
              "      <td>-0.93597</td>\n",
              "      <td>1.00000</td>\n",
              "      <td>-0.04549</td>\n",
              "      <td>0.50874</td>\n",
              "      <td>-0.67743</td>\n",
              "      <td>0.34432</td>\n",
              "      <td>-0.69707</td>\n",
              "      <td>-0.51685</td>\n",
              "      <td>-0.97515</td>\n",
              "      <td>0.05499</td>\n",
              "      <td>-0.62237</td>\n",
              "      <td>0.33109</td>\n",
              "      <td>-1.00000</td>\n",
              "      <td>-0.13151</td>\n",
              "      <td>-0.45300</td>\n",
              "      <td>-0.18056</td>\n",
              "      <td>-0.35734</td>\n",
              "      <td>-0.20332</td>\n",
              "      <td>-0.26569</td>\n",
              "      <td>-0.20468</td>\n",
              "      <td>-0.18401</td>\n",
              "      <td>-0.19040</td>\n",
              "      <td>-0.11593</td>\n",
              "      <td>-0.16626</td>\n",
              "      <td>-0.06288</td>\n",
              "      <td>-0.13738</td>\n",
              "      <td>-0.02447</td>\n",
              "      <td>b</td>\n",
              "    </tr>\n",
              "    <tr>\n",
              "      <th>2</th>\n",
              "      <td>1</td>\n",
              "      <td>0</td>\n",
              "      <td>1.00000</td>\n",
              "      <td>-0.03365</td>\n",
              "      <td>1.00000</td>\n",
              "      <td>0.00485</td>\n",
              "      <td>1.00000</td>\n",
              "      <td>-0.12062</td>\n",
              "      <td>0.88965</td>\n",
              "      <td>0.01198</td>\n",
              "      <td>0.73082</td>\n",
              "      <td>0.05346</td>\n",
              "      <td>0.85443</td>\n",
              "      <td>0.00827</td>\n",
              "      <td>0.54591</td>\n",
              "      <td>0.00299</td>\n",
              "      <td>0.83775</td>\n",
              "      <td>-0.13644</td>\n",
              "      <td>0.75535</td>\n",
              "      <td>-0.08540</td>\n",
              "      <td>0.70887</td>\n",
              "      <td>-0.27502</td>\n",
              "      <td>0.43385</td>\n",
              "      <td>-0.12062</td>\n",
              "      <td>0.57528</td>\n",
              "      <td>-0.40220</td>\n",
              "      <td>0.58984</td>\n",
              "      <td>-0.22145</td>\n",
              "      <td>0.43100</td>\n",
              "      <td>-0.17365</td>\n",
              "      <td>0.60436</td>\n",
              "      <td>-0.24180</td>\n",
              "      <td>0.56045</td>\n",
              "      <td>-0.38238</td>\n",
              "      <td>g</td>\n",
              "    </tr>\n",
              "    <tr>\n",
              "      <th>3</th>\n",
              "      <td>1</td>\n",
              "      <td>0</td>\n",
              "      <td>1.00000</td>\n",
              "      <td>-0.45161</td>\n",
              "      <td>1.00000</td>\n",
              "      <td>1.00000</td>\n",
              "      <td>0.71216</td>\n",
              "      <td>-1.00000</td>\n",
              "      <td>0.00000</td>\n",
              "      <td>0.00000</td>\n",
              "      <td>0.00000</td>\n",
              "      <td>0.00000</td>\n",
              "      <td>0.00000</td>\n",
              "      <td>0.00000</td>\n",
              "      <td>-1.00000</td>\n",
              "      <td>0.14516</td>\n",
              "      <td>0.54094</td>\n",
              "      <td>-0.39330</td>\n",
              "      <td>-1.00000</td>\n",
              "      <td>-0.54467</td>\n",
              "      <td>-0.69975</td>\n",
              "      <td>1.00000</td>\n",
              "      <td>0.00000</td>\n",
              "      <td>0.00000</td>\n",
              "      <td>1.00000</td>\n",
              "      <td>0.90695</td>\n",
              "      <td>0.51613</td>\n",
              "      <td>1.00000</td>\n",
              "      <td>1.00000</td>\n",
              "      <td>-0.20099</td>\n",
              "      <td>0.25682</td>\n",
              "      <td>1.00000</td>\n",
              "      <td>-0.32382</td>\n",
              "      <td>1.00000</td>\n",
              "      <td>b</td>\n",
              "    </tr>\n",
              "    <tr>\n",
              "      <th>4</th>\n",
              "      <td>1</td>\n",
              "      <td>0</td>\n",
              "      <td>1.00000</td>\n",
              "      <td>-0.02401</td>\n",
              "      <td>0.94140</td>\n",
              "      <td>0.06531</td>\n",
              "      <td>0.92106</td>\n",
              "      <td>-0.23255</td>\n",
              "      <td>0.77152</td>\n",
              "      <td>-0.16399</td>\n",
              "      <td>0.52798</td>\n",
              "      <td>-0.20275</td>\n",
              "      <td>0.56409</td>\n",
              "      <td>-0.00712</td>\n",
              "      <td>0.34395</td>\n",
              "      <td>-0.27457</td>\n",
              "      <td>0.52940</td>\n",
              "      <td>-0.21780</td>\n",
              "      <td>0.45107</td>\n",
              "      <td>-0.17813</td>\n",
              "      <td>0.05982</td>\n",
              "      <td>-0.35575</td>\n",
              "      <td>0.02309</td>\n",
              "      <td>-0.52879</td>\n",
              "      <td>0.03286</td>\n",
              "      <td>-0.65158</td>\n",
              "      <td>0.13290</td>\n",
              "      <td>-0.53206</td>\n",
              "      <td>0.02431</td>\n",
              "      <td>-0.62197</td>\n",
              "      <td>-0.05707</td>\n",
              "      <td>-0.59573</td>\n",
              "      <td>-0.04608</td>\n",
              "      <td>-0.65697</td>\n",
              "      <td>g</td>\n",
              "    </tr>\n",
              "  </tbody>\n",
              "</table>\n",
              "</div>"
            ],
            "text/plain": [
              "   0   1        2        3        4   ...       30       31       32       33  34\n",
              "0   1   0  0.99539 -0.05889  0.85243  ...  0.42267 -0.54487  0.18641 -0.45300   g\n",
              "1   1   0  1.00000 -0.18829  0.93035  ... -0.16626 -0.06288 -0.13738 -0.02447   b\n",
              "2   1   0  1.00000 -0.03365  1.00000  ...  0.60436 -0.24180  0.56045 -0.38238   g\n",
              "3   1   0  1.00000 -0.45161  1.00000  ...  0.25682  1.00000 -0.32382  1.00000   b\n",
              "4   1   0  1.00000 -0.02401  0.94140  ... -0.05707 -0.59573 -0.04608 -0.65697   g\n",
              "\n",
              "[5 rows x 35 columns]"
            ]
          },
          "metadata": {
            "tags": []
          },
          "execution_count": 57
        }
      ]
    },
    {
      "cell_type": "markdown",
      "metadata": {
        "id": "t1lA9vKMV2Vh",
        "colab_type": "text"
      },
      "source": [
        "Codificar los datops antes de separarlos"
      ]
    },
    {
      "cell_type": "markdown",
      "metadata": {
        "id": "tAoJ7qsqW2gy",
        "colab_type": "text"
      },
      "source": [
        "### Encontrar las dimensiones de las variables anteriores"
      ]
    },
    {
      "cell_type": "code",
      "metadata": {
        "id": "vsPGNo5aW4Op",
        "colab_type": "code",
        "colab": {
          "base_uri": "https://localhost:8080/",
          "height": 34
        },
        "outputId": "aff34790-018d-44e7-e4f5-219e0f818562"
      },
      "source": [
        "# train data dimensions\n",
        "X.shape, Y.shape"
      ],
      "execution_count": 64,
      "outputs": [
        {
          "output_type": "execute_result",
          "data": {
            "text/plain": [
              "((245, 34), (245,))"
            ]
          },
          "metadata": {
            "tags": []
          },
          "execution_count": 64
        }
      ]
    },
    {
      "cell_type": "markdown",
      "metadata": {
        "id": "rLzmNVNDXIv0",
        "colab_type": "text"
      },
      "source": [
        "### Realizar un proceso de encoding si es necesario"
      ]
    },
    {
      "cell_type": "code",
      "metadata": {
        "id": "z3Gtl6oeV6gF",
        "colab_type": "code",
        "colab": {}
      },
      "source": [
        "le=LabelEncoder()\n",
        "data[34]=le.fit_transform(data[34])"
      ],
      "execution_count": 0,
      "outputs": []
    },
    {
      "cell_type": "code",
      "metadata": {
        "id": "vkwXDFJQTx9N",
        "colab_type": "code",
        "colab": {}
      },
      "source": [
        "#Split X and Y\n",
        "X= data.drop(columns=data.columns[34])\n",
        "Y= data[34]"
      ],
      "execution_count": 0,
      "outputs": []
    },
    {
      "cell_type": "markdown",
      "metadata": {
        "id": "9Dn0vUQBXQYI",
        "colab_type": "text"
      },
      "source": [
        "## Dividir nuestros datos, en los datos de entrenamiento y test"
      ]
    },
    {
      "cell_type": "code",
      "metadata": {
        "id": "M1wuvWCHVOKw",
        "colab_type": "code",
        "colab": {}
      },
      "source": [
        "# Split the data into train and test\n",
        "X_train, X_test, y_train, y_test=train_test_split(X,Y,test_size=0.3, random_state=42)\n"
      ],
      "execution_count": 0,
      "outputs": []
    },
    {
      "cell_type": "code",
      "metadata": {
        "id": "qQF9910DWWmV",
        "colab_type": "code",
        "colab": {}
      },
      "source": [
        "# estandarizar (si es necesario)\n",
        "\n",
        "ss=StandardScaler()\n",
        "X_train=ss.fit_transform(X_train)\n",
        "X_test=ss.fit_transform(X_test)"
      ],
      "execution_count": 0,
      "outputs": []
    },
    {
      "cell_type": "markdown",
      "metadata": {
        "id": "_MHcyRJyX1z1",
        "colab_type": "text"
      },
      "source": [
        "### Construir la red en la que uses el perceptron multi capa, donde apliques los conceptos aprendidos en clase"
      ]
    },
    {
      "cell_type": "code",
      "metadata": {
        "id": "ZdLmNZpTYD5z",
        "colab_type": "code",
        "colab": {}
      },
      "source": [
        "keras.backend.clear_session()"
      ],
      "execution_count": 0,
      "outputs": []
    },
    {
      "cell_type": "code",
      "metadata": {
        "id": "d8K3JbLjYC6a",
        "colab_type": "code",
        "colab": {}
      },
      "source": [
        "model= keras.models.Sequential([\n",
        "                         keras.layers.Dense(32,activation='relu',kernel_initializer='he_uniform',input_shape=(34,)),\n",
        "                         keras.layers.Dense(16,activation='relu',kernel_initializer='he_uniform'),\n",
        "                         keras.layers.Dense(8,activation='relu',kernel_initializer='he_uniform'),\n",
        "                         keras.layers.Dense(1,activation='sigmoid')\n",
        "])\n"
      ],
      "execution_count": 0,
      "outputs": []
    },
    {
      "cell_type": "markdown",
      "metadata": {
        "id": "OnY1D9b5YSNr",
        "colab_type": "text"
      },
      "source": [
        "### Compila el modelo y haz un fit de los datos"
      ]
    },
    {
      "cell_type": "code",
      "metadata": {
        "id": "UEk8Gw9iYMyf",
        "colab_type": "code",
        "colab": {}
      },
      "source": [
        "model.compile(optimizer='adam',loss='binary_crossentropy',metrics=['accuracy'])"
      ],
      "execution_count": 0,
      "outputs": []
    },
    {
      "cell_type": "code",
      "metadata": {
        "id": "KFogHymIYT6e",
        "colab_type": "code",
        "colab": {
          "base_uri": "https://localhost:8080/",
          "height": 884
        },
        "outputId": "9e775345-6817-4abb-c6a2-5eaa8ce44a36"
      },
      "source": [
        "history=model.fit(X_train,y_train,epochs=25,validation_data=(X_test,y_test))"
      ],
      "execution_count": 87,
      "outputs": [
        {
          "output_type": "stream",
          "text": [
            "Train on 245 samples, validate on 106 samples\n",
            "Epoch 1/25\n",
            "245/245 [==============================] - 0s 2ms/sample - loss: 0.7642 - accuracy: 0.3510 - val_loss: 0.6776 - val_accuracy: 0.4151\n",
            "Epoch 2/25\n",
            "245/245 [==============================] - 0s 167us/sample - loss: 0.6761 - accuracy: 0.5020 - val_loss: 0.6271 - val_accuracy: 0.5849\n",
            "Epoch 3/25\n",
            "245/245 [==============================] - 0s 178us/sample - loss: 0.6302 - accuracy: 0.6490 - val_loss: 0.5926 - val_accuracy: 0.6509\n",
            "Epoch 4/25\n",
            "245/245 [==============================] - 0s 166us/sample - loss: 0.5992 - accuracy: 0.7102 - val_loss: 0.5643 - val_accuracy: 0.7264\n",
            "Epoch 5/25\n",
            "245/245 [==============================] - 0s 162us/sample - loss: 0.5713 - accuracy: 0.7429 - val_loss: 0.5392 - val_accuracy: 0.7358\n",
            "Epoch 6/25\n",
            "245/245 [==============================] - 0s 151us/sample - loss: 0.5444 - accuracy: 0.7837 - val_loss: 0.5156 - val_accuracy: 0.8208\n",
            "Epoch 7/25\n",
            "245/245 [==============================] - 0s 184us/sample - loss: 0.5175 - accuracy: 0.8367 - val_loss: 0.4919 - val_accuracy: 0.8585\n",
            "Epoch 8/25\n",
            "245/245 [==============================] - 0s 152us/sample - loss: 0.4902 - accuracy: 0.8571 - val_loss: 0.4675 - val_accuracy: 0.8774\n",
            "Epoch 9/25\n",
            "245/245 [==============================] - 0s 161us/sample - loss: 0.4627 - accuracy: 0.8694 - val_loss: 0.4421 - val_accuracy: 0.8774\n",
            "Epoch 10/25\n",
            "245/245 [==============================] - 0s 166us/sample - loss: 0.4341 - accuracy: 0.8735 - val_loss: 0.4188 - val_accuracy: 0.8962\n",
            "Epoch 11/25\n",
            "245/245 [==============================] - 0s 165us/sample - loss: 0.4062 - accuracy: 0.8939 - val_loss: 0.3985 - val_accuracy: 0.9057\n",
            "Epoch 12/25\n",
            "245/245 [==============================] - 0s 168us/sample - loss: 0.3800 - accuracy: 0.8980 - val_loss: 0.3780 - val_accuracy: 0.9151\n",
            "Epoch 13/25\n",
            "245/245 [==============================] - 0s 196us/sample - loss: 0.3532 - accuracy: 0.9020 - val_loss: 0.3558 - val_accuracy: 0.9151\n",
            "Epoch 14/25\n",
            "245/245 [==============================] - 0s 142us/sample - loss: 0.3290 - accuracy: 0.9020 - val_loss: 0.3357 - val_accuracy: 0.9245\n",
            "Epoch 15/25\n",
            "245/245 [==============================] - 0s 158us/sample - loss: 0.3056 - accuracy: 0.9102 - val_loss: 0.3159 - val_accuracy: 0.9340\n",
            "Epoch 16/25\n",
            "245/245 [==============================] - 0s 158us/sample - loss: 0.2831 - accuracy: 0.9143 - val_loss: 0.2979 - val_accuracy: 0.9245\n",
            "Epoch 17/25\n",
            "245/245 [==============================] - 0s 157us/sample - loss: 0.2631 - accuracy: 0.9184 - val_loss: 0.2816 - val_accuracy: 0.9245\n",
            "Epoch 18/25\n",
            "245/245 [==============================] - 0s 154us/sample - loss: 0.2446 - accuracy: 0.9224 - val_loss: 0.2684 - val_accuracy: 0.9245\n",
            "Epoch 19/25\n",
            "245/245 [==============================] - 0s 197us/sample - loss: 0.2288 - accuracy: 0.9265 - val_loss: 0.2556 - val_accuracy: 0.9245\n",
            "Epoch 20/25\n",
            "245/245 [==============================] - 0s 154us/sample - loss: 0.2137 - accuracy: 0.9347 - val_loss: 0.2457 - val_accuracy: 0.9245\n",
            "Epoch 21/25\n",
            "245/245 [==============================] - 0s 153us/sample - loss: 0.2016 - accuracy: 0.9388 - val_loss: 0.2381 - val_accuracy: 0.9245\n",
            "Epoch 22/25\n",
            "245/245 [==============================] - 0s 157us/sample - loss: 0.1889 - accuracy: 0.9429 - val_loss: 0.2273 - val_accuracy: 0.9245\n",
            "Epoch 23/25\n",
            "245/245 [==============================] - 0s 175us/sample - loss: 0.1785 - accuracy: 0.9469 - val_loss: 0.2208 - val_accuracy: 0.9245\n",
            "Epoch 24/25\n",
            "245/245 [==============================] - 0s 170us/sample - loss: 0.1687 - accuracy: 0.9551 - val_loss: 0.2136 - val_accuracy: 0.9245\n",
            "Epoch 25/25\n",
            "245/245 [==============================] - 0s 147us/sample - loss: 0.1604 - accuracy: 0.9551 - val_loss: 0.2083 - val_accuracy: 0.9245\n"
          ],
          "name": "stdout"
        }
      ]
    },
    {
      "cell_type": "markdown",
      "metadata": {
        "id": "rm8WwdOHY6zO",
        "colab_type": "text"
      },
      "source": [
        "### Haz un plot de las curvas de validación"
      ]
    },
    {
      "cell_type": "code",
      "metadata": {
        "id": "raZcmpXJaAr0",
        "colab_type": "code",
        "colab": {}
      },
      "source": [
        "history.history"
      ],
      "execution_count": 0,
      "outputs": []
    },
    {
      "cell_type": "code",
      "metadata": {
        "id": "mvQOk65dYbU8",
        "colab_type": "code",
        "colab": {
          "base_uri": "https://localhost:8080/",
          "height": 355
        },
        "outputId": "b0347cdd-51b8-4082-98cf-873f07f0206b"
      },
      "source": [
        "pd.DataFrame(history.history).plot(figsize=(5,5))\n",
        "plt.title('Curvas de validación')"
      ],
      "execution_count": 89,
      "outputs": [
        {
          "output_type": "execute_result",
          "data": {
            "text/plain": [
              "Text(0.5, 1.0, 'Curvas de validación')"
            ]
          },
          "metadata": {
            "tags": []
          },
          "execution_count": 89
        },
        {
          "output_type": "display_data",
          "data": {
            "image/png": "[encoded data removed]",
            "text/plain": [
              "<Figure size 360x360 with 1 Axes>"
            ]
          },
          "metadata": {
            "tags": []
          }
        }
      ]
    },
    {
      "cell_type": "markdown",
      "metadata": {
        "id": "qBoxeWyrY8mB",
        "colab_type": "text"
      },
      "source": [
        "### Encuentra las clases predichas para los datos de test"
      ]
    },
    {
      "cell_type": "code",
      "metadata": {
        "id": "sRnRkVA4ZZVA",
        "colab_type": "code",
        "colab": {
          "base_uri": "https://localhost:8080/",
          "height": 34
        },
        "outputId": "666bc895-d796-4dd0-81f0-aff117cdcd9e"
      },
      "source": [
        "# Evaluar el modelo\n",
        "model.evaluate(X_test,y_test)\n",
        "y_h=model.predict_classes(X_test)\n",
        "\n"
      ],
      "execution_count": 90,
      "outputs": [
        {
          "output_type": "stream",
          "text": [
            "106/106 [==============================] - 0s 131us/sample - loss: 0.2083 - accuracy: 0.9245\n"
          ],
          "name": "stdout"
        }
      ]
    },
    {
      "cell_type": "markdown",
      "metadata": {
        "id": "WBJBLyxyZ90r",
        "colab_type": "text"
      },
      "source": [
        "### Realiza la matiz de confusión para este caso"
      ]
    },
    {
      "cell_type": "code",
      "metadata": {
        "id": "9KFNoQgkZsw4",
        "colab_type": "code",
        "colab": {
          "base_uri": "https://localhost:8080/",
          "height": 339
        },
        "outputId": "edbbd178-db9f-4a4b-be6a-e59a49998c10"
      },
      "source": [
        "# Imprimir la matriz de confusion\n",
        "from sklearn.metrics import confusion_matrix\n",
        "a=confusion_matrix(y_test,y_h)\n",
        "plt.figure(figsize=(8,5))\n",
        "sns.heatmap(a,annot=True,cmap='BuGn_r')"
      ],
      "execution_count": 91,
      "outputs": [
        {
          "output_type": "execute_result",
          "data": {
            "text/plain": [
              "<matplotlib.axes._subplots.AxesSubplot at 0x7fa9f22382e8>"
            ]
          },
          "metadata": {
            "tags": []
          },
          "execution_count": 91
        },
        {
          "output_type": "display_data",
          "data": {
            "image/png": "[encoded data removed]",
            "text/plain": [
              "<Figure size 576x360 with 2 Axes>"
            ]
          },
          "metadata": {
            "tags": []
          }
        }
      ]
    },
    {
      "cell_type": "markdown",
      "metadata": {
        "id": "Osr3K0U6WZDE",
        "colab_type": "text"
      },
      "source": [
        "# Ejemplo CNN"
      ]
    },
    {
      "cell_type": "markdown",
      "metadata": {
        "id": "ctee8CtHAIhi",
        "colab_type": "text"
      },
      "source": [
        "Según [este artículo](https://www.researchgate.net/publication/263052166_Automatic_detection_of_invasive_ductal_carcinoma_in_whole_slide_images_with_Convolutional_Neural_Networks) es posible detectar un carcinoma ductal invasivo mediante una red neuronal convolucional. Primero debemos descargar las imagenes que están claificadas dependiendo de si hay o no carcinoma. [Aquí](http://www.andrewjanowczyk.com/use-case-6-invasive-ductal-carcinoma-idc-segmentation/) se encuentra un resumen."
      ]
    },
    {
      "cell_type": "markdown",
      "metadata": {
        "id": "JmBUtisXCoWX",
        "colab_type": "text"
      },
      "source": [
        "## Datos"
      ]
    },
    {
      "cell_type": "markdown",
      "metadata": {
        "id": "Z0j-nwHXCp_8",
        "colab_type": "text"
      },
      "source": [
        "Un subconjunto de los datos se encuentran [aquí](https://drive.google.com/drive/folders/1eNV9IszdsBw52URAvBuJoK-O5lxGveLf?usp=sharing), sólo debemos agregarlos a nuestro google drive y montar la unidad"
      ]
    },
    {
      "cell_type": "code",
      "metadata": {
        "id": "o1Ak5BjUWX-k",
        "colab_type": "code",
        "outputId": "b427c3c6-773b-4142-9b58-09d6b17cfe2f",
        "colab": {
          "base_uri": "https://localhost:8080/",
          "height": 122
        }
      },
      "source": [
        "from google.colab import drive\n",
        "drive.mount('/content/drive',force_remount=True)"
      ],
      "execution_count": 92,
      "outputs": [
        {
          "output_type": "stream",
          "text": [
            "Go to this URL in a browser: https://accounts.google.com/o/oauth2/auth?client_id=947318989803-6bn6qk8qdgf4n4g3pfee6491hc0brc4i.apps.googleusercontent.com&redirect_uri=urn%3aietf%3awg%3aoauth%3a2.0%3aoob&response_type=code&scope=email%20https%3a%2f%2fwww.googleapis.com%2fauth%2fdocs.test%20https%3a%2f%2fwww.googleapis.com%2fauth%2fdrive%20https%3a%2f%2fwww.googleapis.com%2fauth%2fdrive.photos.readonly%20https%3a%2f%2fwww.googleapis.com%2fauth%2fpeopleapi.readonly\n",
            "\n",
            "Enter your authorization code:\n",
            "··········\n",
            "Mounted at /content/drive\n"
          ],
          "name": "stdout"
        }
      ]
    },
    {
      "cell_type": "markdown",
      "metadata": {
        "id": "NXk5s56sBkr9",
        "colab_type": "text"
      },
      "source": [
        "Exportamos los datos para obtener varias carpetas cada una con los datos de la clase 0 y clase 1"
      ]
    },
    {
      "cell_type": "code",
      "metadata": {
        "id": "EGlm0R2zzkF3",
        "colab_type": "code",
        "colab": {}
      },
      "source": [
        "import zipfile\n",
        "zip_ref = zipfile.ZipFile(\"/content/drive/My Drive/IDC.zip\", 'r')\n",
        "zip_ref.extractall(\"./\")\n",
        "zip_ref.close()"
      ],
      "execution_count": 0,
      "outputs": []
    },
    {
      "cell_type": "markdown",
      "metadata": {
        "id": "fgRqmxcQBobv",
        "colab_type": "text"
      },
      "source": [
        "Después de Extraer los datos usamos glob para obtener todas las imagenes de las subcarpetas"
      ]
    },
    {
      "cell_type": "code",
      "metadata": {
        "id": "WblkZH-Z4ggl",
        "colab_type": "code",
        "colab": {}
      },
      "source": [
        "from glob import glob\n",
        "imagenes = glob('IDC/**/*.png', recursive=True)"
      ],
      "execution_count": 0,
      "outputs": []
    },
    {
      "cell_type": "code",
      "metadata": {
        "id": "j2VqmEZXlJp3",
        "colab_type": "code",
        "colab": {
          "base_uri": "https://localhost:8080/",
          "height": 34
        },
        "outputId": "a78beb85-0b8d-4616-b8ac-f77f79babe1b"
      },
      "source": [
        "imagenes[0]"
      ],
      "execution_count": 5,
      "outputs": [
        {
          "output_type": "execute_result",
          "data": {
            "text/plain": [
              "'IDC/13916/1/13916_idx5_x301_y1451_class1.png'"
            ]
          },
          "metadata": {
            "tags": []
          },
          "execution_count": 5
        }
      ]
    },
    {
      "cell_type": "markdown",
      "metadata": {
        "id": "Dmm49K-iBrjl",
        "colab_type": "text"
      },
      "source": [
        "Todas las imagenes se convierten a imagenes a color de 50x50 pixeles"
      ]
    },
    {
      "cell_type": "code",
      "metadata": {
        "id": "U11w3CCHYVIU",
        "colab_type": "code",
        "colab": {}
      },
      "source": [
        "import cv2\n",
        "import numpy as np\n",
        "def procesarImg(lidx,uidx):\n",
        "    alto = 50\n",
        "    ancho = 50\n",
        "    canales = 3\n",
        "    x = []\n",
        "    y = []\n",
        "    for img in imagenes[lidx:uidx]:\n",
        "        imagenFull = cv2.imread(img) #BGR\n",
        "        imageRes = (cv2.resize(imagenFull, (alto,ancho), interpolation=cv2.INTER_CUBIC))\n",
        "        x.append(imageRes)\n",
        "        if img[-10:]==\"class0.png\":\n",
        "            y.append(0)\n",
        "        elif img[-10:]==\"class1.png\":\n",
        "            y.append(1)\n",
        "        else:\n",
        "            return\n",
        "    return x,y"
      ],
      "execution_count": 0,
      "outputs": []
    },
    {
      "cell_type": "code",
      "metadata": {
        "id": "U9tcYeZYYXc5",
        "colab_type": "code",
        "colab": {}
      },
      "source": [
        "X, Y = procesarImg(0,10000)\n",
        "X = np.array(X)/255"
      ],
      "execution_count": 0,
      "outputs": []
    },
    {
      "cell_type": "code",
      "metadata": {
        "id": "Fr10LD7smF7J",
        "colab_type": "code",
        "colab": {
          "base_uri": "https://localhost:8080/",
          "height": 34
        },
        "outputId": "59d73ac2-1351-41c5-e14a-63d5b247ca1c"
      },
      "source": [
        ""
      ],
      "execution_count": 106,
      "outputs": [
        {
          "output_type": "execute_result",
          "data": {
            "text/plain": [
              "((10000, 50, 50, 3), 10000)"
            ]
          },
          "metadata": {
            "tags": []
          },
          "execution_count": 106
        }
      ]
    },
    {
      "cell_type": "code",
      "metadata": {
        "id": "8e1fWF-QGucc",
        "colab_type": "code",
        "outputId": "d832cba6-586c-44a1-d069-196720ed3486",
        "colab": {
          "base_uri": "https://localhost:8080/",
          "height": 287
        }
      },
      "source": [
        "import matplotlib.pyplot as plt\n",
        "ejemplo=0\n",
        "plt.imshow(X[ejemplo])\n",
        "Y[ejemplo]"
      ],
      "execution_count": 8,
      "outputs": [
        {
          "output_type": "execute_result",
          "data": {
            "text/plain": [
              "1"
            ]
          },
          "metadata": {
            "tags": []
          },
          "execution_count": 8
        },
        {
          "output_type": "display_data",
          "data": {
            "image/png": "[encoded data removed]",
            "text/plain": [
              "<Figure size 432x288 with 1 Axes>"
            ]
          },
          "metadata": {
            "tags": []
          }
        }
      ]
    },
    {
      "cell_type": "markdown",
      "metadata": {
        "id": "V40pKnmRBxM1",
        "colab_type": "text"
      },
      "source": [
        "Se separan los datos en entrenamiento y test"
      ]
    },
    {
      "cell_type": "code",
      "metadata": {
        "id": "_uuFVi_xYbtn",
        "colab_type": "code",
        "outputId": "9d9e4410-4819-41ff-af01-bd1488440db3",
        "colab": {
          "base_uri": "https://localhost:8080/",
          "height": 34
        }
      },
      "source": [
        "from sklearn.model_selection import train_test_split\n",
        "X_train, X_test, y_train, y_test = train_test_split(X,Y,test_size=0.15)\n",
        "y_train.count(1),y_train.count(0)"
      ],
      "execution_count": 9,
      "outputs": [
        {
          "output_type": "execute_result",
          "data": {
            "text/plain": [
              "(3363, 5137)"
            ]
          },
          "metadata": {
            "tags": []
          },
          "execution_count": 9
        }
      ]
    },
    {
      "cell_type": "markdown",
      "metadata": {
        "id": "WH46bSOfCtc7",
        "colab_type": "text"
      },
      "source": [
        "## Muestreo Aleatorio"
      ]
    },
    {
      "cell_type": "markdown",
      "metadata": {
        "id": "2ZpTVdygB2b9",
        "colab_type": "text"
      },
      "source": [
        "Los datos están muy desbalanceados, hay el triple de datos de la clase 1 que la clase 0. Para lidiar con esto, vamos a hacer un muestreo de los datos para que queden balanceados"
      ]
    },
    {
      "cell_type": "code",
      "metadata": {
        "id": "aiYHHZMVYvOW",
        "colab_type": "code",
        "colab": {}
      },
      "source": [
        "X_trainFlat = X_train.reshape(X_train.shape[0], -1)\n",
        "X_testFlat = X_test.reshape(X_test.shape[0], -1)"
      ],
      "execution_count": 0,
      "outputs": []
    },
    {
      "cell_type": "code",
      "metadata": {
        "id": "EhiGpJwWYxQi",
        "colab_type": "code",
        "outputId": "d2e35b25-f737-47bc-f765-ae7e5609d355",
        "colab": {
          "base_uri": "https://localhost:8080/",
          "height": 207
        }
      },
      "source": [
        "from imblearn.under_sampling import RandomUnderSampler\n",
        "from keras.utils import to_categorical\n",
        "random_under_sampler = RandomUnderSampler(ratio='majority')\n",
        "X_trainRos, Y_trainRos = random_under_sampler.fit_sample(X_trainFlat, y_train)\n",
        "X_testRos, Y_testRos = random_under_sampler.fit_sample(X_testFlat, y_test)\n",
        "X_trainRos=X_trainRos.reshape((-1,50,50,3))\n",
        "X_testRos=X_testRos.reshape((-1,50,50,3))\n",
        "Y_trainRos=to_categorical(Y_trainRos)\n",
        "Y_testRos=to_categorical(Y_testRos)\n",
        "(Y_trainRos==1).sum(),(Y_trainRos==0).sum()"
      ],
      "execution_count": 11,
      "outputs": [
        {
          "output_type": "stream",
          "text": [
            "/usr/local/lib/python3.6/dist-packages/sklearn/externals/six.py:31: FutureWarning: The module is deprecated in version 0.21 and will be removed in version 0.23 since we've dropped support for Python 2.7. Please rely on the official version of six (https://pypi.org/project/six/).\n",
            "  \"(https://pypi.org/project/six/).\", FutureWarning)\n",
            "/usr/local/lib/python3.6/dist-packages/sklearn/utils/deprecation.py:144: FutureWarning: The sklearn.neighbors.base module is  deprecated in version 0.22 and will be removed in version 0.24. The corresponding classes / functions should instead be imported from sklearn.neighbors. Anything that cannot be imported from sklearn.neighbors is now part of the private API.\n",
            "  warnings.warn(message, FutureWarning)\n",
            "Using TensorFlow backend.\n",
            "/usr/local/lib/python3.6/dist-packages/sklearn/utils/deprecation.py:87: FutureWarning: Function safe_indexing is deprecated; safe_indexing is deprecated in version 0.22 and will be removed in version 0.24.\n",
            "  warnings.warn(msg, category=FutureWarning)\n",
            "/usr/local/lib/python3.6/dist-packages/sklearn/utils/deprecation.py:87: FutureWarning: Function safe_indexing is deprecated; safe_indexing is deprecated in version 0.22 and will be removed in version 0.24.\n",
            "  warnings.warn(msg, category=FutureWarning)\n"
          ],
          "name": "stderr"
        },
        {
          "output_type": "execute_result",
          "data": {
            "text/plain": [
              "(6726, 6726)"
            ]
          },
          "metadata": {
            "tags": []
          },
          "execution_count": 11
        }
      ]
    },
    {
      "cell_type": "markdown",
      "metadata": {
        "id": "v3SVZpTnCxpU",
        "colab_type": "text"
      },
      "source": [
        "## Red Convolucional"
      ]
    },
    {
      "cell_type": "markdown",
      "metadata": {
        "id": "lXN0obDzCCJ4",
        "colab_type": "text"
      },
      "source": [
        "Ahora vamos a construir la red convolucional"
      ]
    },
    {
      "cell_type": "code",
      "metadata": {
        "id": "uYuBfR2KpLFd",
        "colab_type": "code",
        "colab": {}
      },
      "source": [
        "from keras.models import Sequential\n",
        "from keras.layers import Conv2D,MaxPooling2D,Flatten,Dense,Dropout"
      ],
      "execution_count": 0,
      "outputs": []
    },
    {
      "cell_type": "code",
      "metadata": {
        "id": "ILcio5hcpMbA",
        "colab_type": "code",
        "colab": {}
      },
      "source": [
        "batch_size = 256\n",
        "num_classes = 2\n",
        "epochs = 100"
      ],
      "execution_count": 0,
      "outputs": []
    },
    {
      "cell_type": "code",
      "metadata": {
        "id": "dZ1nvZURY3m_",
        "colab_type": "code",
        "outputId": "aeda846e-c87c-4fe9-8df8-d4b2285d4189",
        "colab": {
          "base_uri": "https://localhost:8080/",
          "height": 802
        }
      },
      "source": [
        "\n",
        "model = Sequential()\n",
        "model.add(Conv2D(32, kernel_size=(3,3),activation='relu',input_shape=(50,50,3)))\n",
        "model.add(MaxPooling2D(pool_size=(2, 2)))\n",
        "model.add(Conv2D(64, (3,3), activation='relu'))\n",
        "model.add(MaxPooling2D(pool_size=(2,2)))\n",
        "model.add(Conv2D(128, (3, 3), activation='relu'))\n",
        "model.add(Conv2D(256, (3, 3), activation='relu'))\n",
        "model.add(Flatten()) \n",
        "model.add(Dropout(0.5))\n",
        "model.add(Dense(128, activation='relu'))\n",
        "model.add(Dropout(0.5))\n",
        "model.add(Dense(128, activation='relu'))\n",
        "model.add(Dense(num_classes, activation='sigmoid'))\n",
        "model.summary()"
      ],
      "execution_count": 14,
      "outputs": [
        {
          "output_type": "stream",
          "text": [
            "WARNING:tensorflow:From /usr/local/lib/python3.6/dist-packages/keras/backend/tensorflow_backend.py:66: The name tf.get_default_graph is deprecated. Please use tf.compat.v1.get_default_graph instead.\n",
            "\n",
            "WARNING:tensorflow:From /usr/local/lib/python3.6/dist-packages/keras/backend/tensorflow_backend.py:541: The name tf.placeholder is deprecated. Please use tf.compat.v1.placeholder instead.\n",
            "\n",
            "WARNING:tensorflow:From /usr/local/lib/python3.6/dist-packages/keras/backend/tensorflow_backend.py:4432: The name tf.random_uniform is deprecated. Please use tf.random.uniform instead.\n",
            "\n",
            "WARNING:tensorflow:From /usr/local/lib/python3.6/dist-packages/keras/backend/tensorflow_backend.py:4267: The name tf.nn.max_pool is deprecated. Please use tf.nn.max_pool2d instead.\n",
            "\n",
            "WARNING:tensorflow:From /usr/local/lib/python3.6/dist-packages/keras/backend/tensorflow_backend.py:148: The name tf.placeholder_with_default is deprecated. Please use tf.compat.v1.placeholder_with_default instead.\n",
            "\n",
            "WARNING:tensorflow:From /usr/local/lib/python3.6/dist-packages/keras/backend/tensorflow_backend.py:3733: calling dropout (from tensorflow.python.ops.nn_ops) with keep_prob is deprecated and will be removed in a future version.\n",
            "Instructions for updating:\n",
            "Please use `rate` instead of `keep_prob`. Rate should be set to `rate = 1 - keep_prob`.\n",
            "Model: \"sequential_1\"\n",
            "_________________________________________________________________\n",
            "Layer (type)                 Output Shape              Param #   \n",
            "=================================================================\n",
            "conv2d_1 (Conv2D)            (None, 48, 48, 32)        896       \n",
            "_________________________________________________________________\n",
            "max_pooling2d_1 (MaxPooling2 (None, 24, 24, 32)        0         \n",
            "_________________________________________________________________\n",
            "conv2d_2 (Conv2D)            (None, 22, 22, 64)        18496     \n",
            "_________________________________________________________________\n",
            "max_pooling2d_2 (MaxPooling2 (None, 11, 11, 64)        0         \n",
            "_________________________________________________________________\n",
            "conv2d_3 (Conv2D)            (None, 9, 9, 128)         73856     \n",
            "_________________________________________________________________\n",
            "conv2d_4 (Conv2D)            (None, 7, 7, 256)         295168    \n",
            "_________________________________________________________________\n",
            "flatten_1 (Flatten)          (None, 12544)             0         \n",
            "_________________________________________________________________\n",
            "dropout_1 (Dropout)          (None, 12544)             0         \n",
            "_________________________________________________________________\n",
            "dense_1 (Dense)              (None, 128)               1605760   \n",
            "_________________________________________________________________\n",
            "dropout_2 (Dropout)          (None, 128)               0         \n",
            "_________________________________________________________________\n",
            "dense_2 (Dense)              (None, 128)               16512     \n",
            "_________________________________________________________________\n",
            "dense_3 (Dense)              (None, 2)                 258       \n",
            "=================================================================\n",
            "Total params: 2,010,946\n",
            "Trainable params: 2,010,946\n",
            "Non-trainable params: 0\n",
            "_________________________________________________________________\n"
          ],
          "name": "stdout"
        }
      ]
    },
    {
      "cell_type": "markdown",
      "metadata": {
        "id": "1dqYEoRFCI2z",
        "colab_type": "text"
      },
      "source": [
        "Es un problema de clasificación binaria entonces vamos a usar la entropía cruzada"
      ]
    },
    {
      "cell_type": "code",
      "metadata": {
        "id": "uCVv-AouY8SG",
        "colab_type": "code",
        "outputId": "733585f4-b7f6-4f29-d3c0-4996278ebee9",
        "colab": {
          "base_uri": "https://localhost:8080/",
          "height": 156
        }
      },
      "source": [
        "model.compile(loss='binary_crossentropy',optimizer='adam',metrics=['accuracy'])"
      ],
      "execution_count": 15,
      "outputs": [
        {
          "output_type": "stream",
          "text": [
            "WARNING:tensorflow:From /usr/local/lib/python3.6/dist-packages/keras/optimizers.py:793: The name tf.train.Optimizer is deprecated. Please use tf.compat.v1.train.Optimizer instead.\n",
            "\n",
            "WARNING:tensorflow:From /usr/local/lib/python3.6/dist-packages/keras/backend/tensorflow_backend.py:3657: The name tf.log is deprecated. Please use tf.math.log instead.\n",
            "\n",
            "WARNING:tensorflow:From /usr/local/lib/python3.6/dist-packages/tensorflow_core/python/ops/nn_impl.py:183: where (from tensorflow.python.ops.array_ops) is deprecated and will be removed in a future version.\n",
            "Instructions for updating:\n",
            "Use tf.where in 2.0, which has the same broadcast rule as np.where\n"
          ],
          "name": "stdout"
        }
      ]
    },
    {
      "cell_type": "markdown",
      "metadata": {
        "id": "Qxg_0-SbCOrc",
        "colab_type": "text"
      },
      "source": [
        "Podemos aumentar los datos mediante rotaciones y reflexiones"
      ]
    },
    {
      "cell_type": "code",
      "metadata": {
        "id": "qlcWcaFVZMdL",
        "colab_type": "code",
        "colab": {}
      },
      "source": [
        "from keras.preprocessing.image import ImageDataGenerator\n",
        "datagen = ImageDataGenerator(\n",
        "    featurewise_center=True,\n",
        "    featurewise_std_normalization=True,\n",
        "    rotation_range=180,\n",
        "    horizontal_flip=True,vertical_flip = True)"
      ],
      "execution_count": 0,
      "outputs": []
    },
    {
      "cell_type": "markdown",
      "metadata": {
        "id": "rab0pcMlCabd",
        "colab_type": "text"
      },
      "source": [
        "Usaremos early stopping y haremos un checkpoint del modelo cada que la pérdida de validación disminuya"
      ]
    },
    {
      "cell_type": "code",
      "metadata": {
        "id": "5h82FLI-ZHYx",
        "colab_type": "code",
        "colab": {}
      },
      "source": [
        "from keras.callbacks import EarlyStopping,ModelCheckpoint\n",
        "early_stopping_monitor = EarlyStopping(monitor='val_loss', patience=3, mode='min')\n",
        "model_checkpoint = ModelCheckpoint('best_model.h5', monitor='val_loss', mode='min', verbose=1, save_best_only=True)"
      ],
      "execution_count": 0,
      "outputs": []
    },
    {
      "cell_type": "markdown",
      "metadata": {
        "id": "UfCtC4cDCdtu",
        "colab_type": "text"
      },
      "source": [
        "## Entrenamiento"
      ]
    },
    {
      "cell_type": "code",
      "metadata": {
        "id": "qB4Q8c8wZPr7",
        "colab_type": "code",
        "outputId": "65d3edea-be3a-4f29-ebc4-1d6343e6201b",
        "colab": {
          "base_uri": "https://localhost:8080/",
          "height": 785
        }
      },
      "source": [
        "training = model.fit_generator(datagen.flow(X_trainRos,Y_trainRos,batch_size=batch_size),steps_per_epoch=len(X_trainRos) / batch_size, epochs=epochs,validation_data=(X_testRos, Y_testRos), verbose=1, callbacks=[early_stopping_monitor, model_checkpoint])"
      ],
      "execution_count": 19,
      "outputs": [
        {
          "output_type": "stream",
          "text": [
            "WARNING:tensorflow:From /usr/local/lib/python3.6/dist-packages/keras/backend/tensorflow_backend.py:1033: The name tf.assign_add is deprecated. Please use tf.compat.v1.assign_add instead.\n",
            "\n",
            "WARNING:tensorflow:From /usr/local/lib/python3.6/dist-packages/keras/backend/tensorflow_backend.py:1020: The name tf.assign is deprecated. Please use tf.compat.v1.assign instead.\n",
            "\n",
            "WARNING:tensorflow:From /usr/local/lib/python3.6/dist-packages/keras/backend/tensorflow_backend.py:3005: The name tf.Session is deprecated. Please use tf.compat.v1.Session instead.\n",
            "\n",
            "Epoch 1/100\n",
            "WARNING:tensorflow:From /usr/local/lib/python3.6/dist-packages/keras/backend/tensorflow_backend.py:190: The name tf.get_default_session is deprecated. Please use tf.compat.v1.get_default_session instead.\n",
            "\n",
            "WARNING:tensorflow:From /usr/local/lib/python3.6/dist-packages/keras/backend/tensorflow_backend.py:197: The name tf.ConfigProto is deprecated. Please use tf.compat.v1.ConfigProto instead.\n",
            "\n"
          ],
          "name": "stdout"
        },
        {
          "output_type": "stream",
          "text": [
            "/usr/local/lib/python3.6/dist-packages/keras_preprocessing/image/image_data_generator.py:716: UserWarning: This ImageDataGenerator specifies `featurewise_center`, but it hasn't been fit on any training data. Fit it first by calling `.fit(numpy_data)`.\n",
            "  warnings.warn('This ImageDataGenerator specifies '\n",
            "/usr/local/lib/python3.6/dist-packages/keras_preprocessing/image/image_data_generator.py:724: UserWarning: This ImageDataGenerator specifies `featurewise_std_normalization`, but it hasn't been fit on any training data. Fit it first by calling `.fit(numpy_data)`.\n",
            "  warnings.warn('This ImageDataGenerator specifies '\n"
          ],
          "name": "stderr"
        },
        {
          "output_type": "stream",
          "text": [
            "WARNING:tensorflow:From /usr/local/lib/python3.6/dist-packages/keras/backend/tensorflow_backend.py:207: The name tf.global_variables is deprecated. Please use tf.compat.v1.global_variables instead.\n",
            "\n",
            "WARNING:tensorflow:From /usr/local/lib/python3.6/dist-packages/keras/backend/tensorflow_backend.py:216: The name tf.is_variable_initialized is deprecated. Please use tf.compat.v1.is_variable_initialized instead.\n",
            "\n",
            "WARNING:tensorflow:From /usr/local/lib/python3.6/dist-packages/keras/backend/tensorflow_backend.py:223: The name tf.variables_initializer is deprecated. Please use tf.compat.v1.variables_initializer instead.\n",
            "\n",
            "27/26 [==============================] - 18s 666ms/step - loss: 0.5967 - acc: 0.6625 - val_loss: 0.6302 - val_acc: 0.6643\n",
            "\n",
            "Epoch 00001: val_loss improved from inf to 0.63022, saving model to best_model.h5\n",
            "Epoch 2/100\n",
            "27/26 [==============================] - 4s 166ms/step - loss: 0.4731 - acc: 0.7852 - val_loss: 0.3522 - val_acc: 0.8548\n",
            "\n",
            "Epoch 00002: val_loss improved from 0.63022 to 0.35218, saving model to best_model.h5\n",
            "Epoch 3/100\n",
            "27/26 [==============================] - 5s 167ms/step - loss: 0.3924 - acc: 0.8410 - val_loss: 0.3436 - val_acc: 0.8565\n",
            "\n",
            "Epoch 00003: val_loss improved from 0.35218 to 0.34355, saving model to best_model.h5\n",
            "Epoch 4/100\n",
            "27/26 [==============================] - 5s 174ms/step - loss: 0.3710 - acc: 0.8436 - val_loss: 0.6628 - val_acc: 0.7390\n",
            "\n",
            "Epoch 00004: val_loss did not improve from 0.34355\n",
            "Epoch 5/100\n",
            "27/26 [==============================] - 5s 174ms/step - loss: 0.4024 - acc: 0.8352 - val_loss: 0.3870 - val_acc: 0.8311\n",
            "\n",
            "Epoch 00005: val_loss did not improve from 0.34355\n",
            "Epoch 6/100\n",
            "27/26 [==============================] - 5s 170ms/step - loss: 0.3827 - acc: 0.8399 - val_loss: 0.4091 - val_acc: 0.8260\n",
            "\n",
            "Epoch 00006: val_loss did not improve from 0.34355\n"
          ],
          "name": "stdout"
        }
      ]
    },
    {
      "cell_type": "markdown",
      "metadata": {
        "id": "C8aJAA8OC25l",
        "colab_type": "text"
      },
      "source": [
        "## Validación"
      ]
    },
    {
      "cell_type": "code",
      "metadata": {
        "id": "75cSCybTZS9r",
        "colab_type": "code",
        "outputId": "7c978a9c-a748-418a-8615-42203f8f728c",
        "colab": {
          "base_uri": "https://localhost:8080/",
          "height": 51
        }
      },
      "source": [
        "from keras.models import load_model\n",
        "from sklearn import metrics\n",
        "model = load_model('best_model.h5')\n",
        "y_pred_one_hot = model.predict(X_testRos)\n",
        "y_pred_labels = np.argmax(y_pred_one_hot, axis = 1)\n",
        "y_true_labels = np.argmax(Y_testRos,axis=1)\n",
        "metrics.confusion_matrix(y_true=y_true_labels, y_pred=y_pred_labels)"
      ],
      "execution_count": 20,
      "outputs": [
        {
          "output_type": "execute_result",
          "data": {
            "text/plain": [
              "array([[544,  45],\n",
              "       [126, 463]])"
            ]
          },
          "metadata": {
            "tags": []
          },
          "execution_count": 20
        }
      ]
    },
    {
      "cell_type": "markdown",
      "metadata": {
        "id": "z530l-L_Mlkg",
        "colab_type": "text"
      },
      "source": [
        "##**Problema de CNN**\n",
        "\n",
        "El siguiente problema tiene como objetivo resolver un problema de clasificación de imágenes de 10 categorias, las cuales están codificadas de la siguiente forma:\n",
        "\n",
        "- airplane : 0\n",
        "- automobile : 1\n",
        "- bird : 2\n",
        "- cat : 3\n",
        "- deer : 4\n",
        "- dog : 5\n",
        "- frog : 6\n",
        "- horse : 7\n",
        "- ship : 8\n",
        "- truck : 9\n",
        "\n",
        "1. Importe las librerías necesarias para obtener los datos de `cifar10, construir un modelo de redes neuronales convolucionales y graficar las imágenes.\n",
        "\n",
        "2. Cargue las imágenes y sus etiquetas y divídalas en dos grupos: entrenamiento y evaluación. Para ello consulte la ayuda de la función `load_data()` que contiene el dataset cifar10.\n",
        "\n",
        "3. Determine que tipo de tensores que se almacenan en el conjunto de entrenamiento y test (tanto para el conjunto de imágenes como los labels).\n",
        "\n",
        "4. Normalice las imágenes. Para ello, determine cual es la profundidad de píxel dentro de las imágenes del dataset. Nota: por profundidad de píxel se entiende a los bits necesarios para representar el número almacenado en cada píxel.\n",
        "\n",
        "5. Grafíque las 25 primeras figuras almacenadas en el conjunto de imágenes de entrenamiento. Ayuda: haga uso de la función `imshow` de `matplotlib`, y fije como argumento dentro de `imshow` `cmap=plt.cm.binary`.\n",
        "\n",
        "6. Antes de crear su modelo responda las siguientes preguntas:\n",
        "\n",
        "  - ¿Qué tipo de valriables representan las etiquetas del dataset?.\n",
        "  - ¿Qué tipo de función de pérdida puede definirse para estas etiquetas?\n",
        "  - ¿Que tipo de capa puede definirse a la salida del modelo?\n",
        "\n",
        "7. Cree un modelo secuencial con la siguiente estructura:\n",
        "\n",
        "  - Capa de convolución 2D cuya entrada deberá ser igual a la dimensión de cada una de las imágenes. Dicha capa deberá estar constituida por **32 filtros**, cada uno de $3\\times3$, y una función de activación `relu`.\n",
        "  - Capa `MaxPoling` de $(2,2)$.\n",
        "  - Capa de convolución 2D compuesta por 64 filtros de $3\\times3$ y función de activación `relu`.\n",
        "  - Capa `MaxPoling` de $(2,2)$.\n",
        "  - Capa de convolución 2D compuesta por 64 filtros de $3\\times3$ y función de activación `relu`.\n",
        "  - Capa `flatten` para que la imágen de salida de la capa anterior se convierta en un vector fila.\n",
        "  - Capa densamente conexa de 64 neuronas y función de activación `relu`\n",
        "  - Capa densamente conexa de 10 neuronas con la identidad función de activación.\n",
        "\n",
        "8. Compile el modelo con los siguientes parámetros definidos en el argumento:\n",
        "\n",
        "  ```\n",
        "    optimizer='adam',\n",
        "                loss=keras.losses.SparseCategoricalCrossentrop(from_logits=True),\n",
        "                metrics=['accuracy']\n",
        "  ```\n",
        "\n",
        "9. Entrene el modelo durante 10 época, usando el grupo de evalución como grupo de validación. Almacene dicho entrenamiento en un objeto `history`.\n",
        "\n",
        "10. Grafique las curvas de aprendizaje almacenadas ene l objeto history.\n",
        "\n",
        "11. Evalue el desempeño del modelo en el conjunto de evaluación."
      ]
    },
    {
      "cell_type": "markdown",
      "metadata": {
        "id": "Wx-L1KQasO4Q",
        "colab_type": "text"
      },
      "source": [
        "### Importe las librerías necesarias para obtener los datos de `cifar10, construir un modelo de redes neuronales convolucionales y graficar las imágenes\n",
        "\n"
      ]
    },
    {
      "cell_type": "code",
      "metadata": {
        "id": "Mj5avzLcsKc9",
        "colab_type": "code",
        "colab": {
          "base_uri": "https://localhost:8080/",
          "height": 51
        },
        "outputId": "556e38be-01af-44cf-f913-a716423b92e9"
      },
      "source": [
        "from tensorflow.keras.datasets import cifar10\n",
        "(x_train,y_train), (x_test,y_test) =cifar10.load_data()\n"
      ],
      "execution_count": 23,
      "outputs": [
        {
          "output_type": "stream",
          "text": [
            "Downloading data from https://www.cs.toronto.edu/~kriz/cifar-10-python.tar.gz\n",
            "170500096/170498071 [==============================] - 4s 0us/step\n"
          ],
          "name": "stdout"
        }
      ]
    },
    {
      "cell_type": "code",
      "metadata": {
        "id": "p0ev4WP-snrS",
        "colab_type": "code",
        "colab": {
          "base_uri": "https://localhost:8080/",
          "height": 34
        },
        "outputId": "cb965fe6-c500-4296-b799-8908b0c899ee"
      },
      "source": [
        "x_train.shape,y_train.shape"
      ],
      "execution_count": 24,
      "outputs": [
        {
          "output_type": "execute_result",
          "data": {
            "text/plain": [
              "((50000, 32, 32, 3), (50000, 1))"
            ]
          },
          "metadata": {
            "tags": []
          },
          "execution_count": 24
        }
      ]
    },
    {
      "cell_type": "markdown",
      "metadata": {
        "id": "-uZPlZXeQEwc",
        "colab_type": "text"
      },
      "source": [
        "# Ejemplo RNN"
      ]
    },
    {
      "cell_type": "markdown",
      "metadata": {
        "id": "rvzTPodGPWuL",
        "colab_type": "text"
      },
      "source": [
        "Usaremos el dataset de Occupancy Detection. Este dataset describe las mediciones de una habitación y el objetivo es predecir si la habitación está ocupada o no. Puede leer mas sobre el data set en este [link](https://archive.ics.uci.edu/ml/datasets/Occupancy+Detection+)"
      ]
    },
    {
      "cell_type": "markdown",
      "metadata": {
        "id": "0cuDmXGIQI8-",
        "colab_type": "text"
      },
      "source": [
        "Importemos algunas librerias que necesitaremos"
      ]
    },
    {
      "cell_type": "code",
      "metadata": {
        "id": "_SF1Dg1qRdLA",
        "colab_type": "code",
        "outputId": "dc79c6ca-c94d-4bcf-ae82-068dc86715d1",
        "colab": {
          "base_uri": "https://localhost:8080/",
          "height": 34
        }
      },
      "source": [
        "%tensorflow_version 2.x"
      ],
      "execution_count": 0,
      "outputs": [
        {
          "output_type": "stream",
          "text": [
            "TensorFlow is already loaded. Please restart the runtime to change versions.\n"
          ],
          "name": "stdout"
        }
      ]
    },
    {
      "cell_type": "code",
      "metadata": {
        "id": "tBqzgn_Z6q7B",
        "colab_type": "code",
        "colab": {}
      },
      "source": [
        "import numpy as np\n",
        "import pandas as pd\n",
        "from keras.preprocessing.sequence import TimeseriesGenerator\n",
        "from tensorflow import keras\n",
        "import seaborn as sns\n",
        "from sklearn.metrics import roc_auc_score\n",
        "from sklearn.model_selection import train_test_split\n",
        "from sklearn.preprocessing import StandardScaler"
      ],
      "execution_count": 0,
      "outputs": []
    },
    {
      "cell_type": "markdown",
      "metadata": {
        "id": "bInvQWsyQOfu",
        "colab_type": "text"
      },
      "source": [
        "Ahora procedamos a importar los datos de entrenamiento y de testeo que se encuntran en el repositorio de github"
      ]
    },
    {
      "cell_type": "code",
      "metadata": {
        "id": "5qNm8-T8f_4U",
        "colab_type": "code",
        "colab": {}
      },
      "source": [
        "data_train = pd.read_csv('https://raw.githubusercontent.com/diplomado-bigdata-machinelearning-udea/Curso2/master/Datasets/Occupancy_train.txt')\n",
        "data_test = pd.read_csv('https://raw.githubusercontent.com/diplomado-bigdata-machinelearning-udea/Curso2/master/Datasets/Occupancy_test.txt')"
      ],
      "execution_count": 0,
      "outputs": []
    },
    {
      "cell_type": "code",
      "metadata": {
        "id": "AOLUd2nWzzAL",
        "colab_type": "code",
        "outputId": "729a9fd3-87f3-4bdf-b8ca-0f041bbcc53c",
        "colab": {
          "base_uri": "https://localhost:8080/",
          "height": 50
        }
      },
      "source": [
        "print('data_train_shape =',data_train.shape, '\\ndata_test_shape =',data_test.shape)"
      ],
      "execution_count": 0,
      "outputs": [
        {
          "output_type": "stream",
          "text": [
            "data_train_shape = (8143, 7) \n",
            "data_test_shape = (2665, 7)\n"
          ],
          "name": "stdout"
        }
      ]
    },
    {
      "cell_type": "code",
      "metadata": {
        "id": "4rbBXhUbqHvm",
        "colab_type": "code",
        "outputId": "8cd0f76e-ad1d-4410-a030-faccfdea1d7f",
        "colab": {
          "base_uri": "https://localhost:8080/",
          "height": 195
        }
      },
      "source": [
        "data_train.head()"
      ],
      "execution_count": 0,
      "outputs": [
        {
          "output_type": "execute_result",
          "data": {
            "text/html": [
              "<div>\n",
              "<style scoped>\n",
              "    .dataframe tbody tr th:only-of-type {\n",
              "        vertical-align: middle;\n",
              "    }\n",
              "\n",
              "    .dataframe tbody tr th {\n",
              "        vertical-align: top;\n",
              "    }\n",
              "\n",
              "    .dataframe thead th {\n",
              "        text-align: right;\n",
              "    }\n",
              "</style>\n",
              "<table border=\"1\" class=\"dataframe\">\n",
              "  <thead>\n",
              "    <tr style=\"text-align: right;\">\n",
              "      <th></th>\n",
              "      <th>date</th>\n",
              "      <th>Temperature</th>\n",
              "      <th>Humidity</th>\n",
              "      <th>Light</th>\n",
              "      <th>CO2</th>\n",
              "      <th>HumidityRatio</th>\n",
              "      <th>Occupancy</th>\n",
              "    </tr>\n",
              "  </thead>\n",
              "  <tbody>\n",
              "    <tr>\n",
              "      <th>1</th>\n",
              "      <td>2015-02-04 17:51:00</td>\n",
              "      <td>23.18</td>\n",
              "      <td>27.2720</td>\n",
              "      <td>426.0</td>\n",
              "      <td>721.25</td>\n",
              "      <td>0.004793</td>\n",
              "      <td>1</td>\n",
              "    </tr>\n",
              "    <tr>\n",
              "      <th>2</th>\n",
              "      <td>2015-02-04 17:51:59</td>\n",
              "      <td>23.15</td>\n",
              "      <td>27.2675</td>\n",
              "      <td>429.5</td>\n",
              "      <td>714.00</td>\n",
              "      <td>0.004783</td>\n",
              "      <td>1</td>\n",
              "    </tr>\n",
              "    <tr>\n",
              "      <th>3</th>\n",
              "      <td>2015-02-04 17:53:00</td>\n",
              "      <td>23.15</td>\n",
              "      <td>27.2450</td>\n",
              "      <td>426.0</td>\n",
              "      <td>713.50</td>\n",
              "      <td>0.004779</td>\n",
              "      <td>1</td>\n",
              "    </tr>\n",
              "    <tr>\n",
              "      <th>4</th>\n",
              "      <td>2015-02-04 17:54:00</td>\n",
              "      <td>23.15</td>\n",
              "      <td>27.2000</td>\n",
              "      <td>426.0</td>\n",
              "      <td>708.25</td>\n",
              "      <td>0.004772</td>\n",
              "      <td>1</td>\n",
              "    </tr>\n",
              "    <tr>\n",
              "      <th>5</th>\n",
              "      <td>2015-02-04 17:55:00</td>\n",
              "      <td>23.10</td>\n",
              "      <td>27.2000</td>\n",
              "      <td>426.0</td>\n",
              "      <td>704.50</td>\n",
              "      <td>0.004757</td>\n",
              "      <td>1</td>\n",
              "    </tr>\n",
              "  </tbody>\n",
              "</table>\n",
              "</div>"
            ],
            "text/plain": [
              "                  date  Temperature  Humidity  ...     CO2  HumidityRatio  Occupancy\n",
              "1  2015-02-04 17:51:00        23.18   27.2720  ...  721.25       0.004793          1\n",
              "2  2015-02-04 17:51:59        23.15   27.2675  ...  714.00       0.004783          1\n",
              "3  2015-02-04 17:53:00        23.15   27.2450  ...  713.50       0.004779          1\n",
              "4  2015-02-04 17:54:00        23.15   27.2000  ...  708.25       0.004772          1\n",
              "5  2015-02-04 17:55:00        23.10   27.2000  ...  704.50       0.004757          1\n",
              "\n",
              "[5 rows x 7 columns]"
            ]
          },
          "metadata": {
            "tags": []
          },
          "execution_count": 83
        }
      ]
    },
    {
      "cell_type": "markdown",
      "metadata": {
        "id": "0zr4yM0OUdXG",
        "colab_type": "text"
      },
      "source": [
        "Selecciones las caracteristicas que usaremos para el entrenamiendo, estas seran ['Temperature', 'Humidity', 'Light', 'CO2']"
      ]
    },
    {
      "cell_type": "code",
      "metadata": {
        "id": "wIUN2oKNL-BM",
        "colab_type": "code",
        "colab": {}
      },
      "source": [
        "X_train = data_train[data_train.columns[1:-2]]\n",
        "X_test = data_test[data_test.columns[1:-2]]"
      ],
      "execution_count": 0,
      "outputs": []
    },
    {
      "cell_type": "markdown",
      "metadata": {
        "id": "qAavyxDQUzSx",
        "colab_type": "text"
      },
      "source": [
        "Ahora se reescalan los datos"
      ]
    },
    {
      "cell_type": "code",
      "metadata": {
        "id": "fHcE1dgtMIgx",
        "colab_type": "code",
        "colab": {}
      },
      "source": [
        "scale = StandardScaler()\n",
        "X_train = scale.fit_transform(X_train)\n",
        "X_test = scale.transform(X_test)\n",
        "X_train = pd.DataFrame(X_train , columns=data_train.columns[1:-2])\n",
        "X_test = pd.DataFrame(X_test , columns=data_test.columns[1:-2])"
      ],
      "execution_count": 0,
      "outputs": []
    },
    {
      "cell_type": "code",
      "metadata": {
        "id": "YD-DW4U-U64R",
        "colab_type": "code",
        "outputId": "d6a8e579-cbf1-428a-83f9-c4269b31f0b2",
        "colab": {
          "base_uri": "https://localhost:8080/",
          "height": 195
        }
      },
      "source": [
        "X_train.head()"
      ],
      "execution_count": 0,
      "outputs": [
        {
          "output_type": "execute_result",
          "data": {
            "text/html": [
              "<div>\n",
              "<style scoped>\n",
              "    .dataframe tbody tr th:only-of-type {\n",
              "        vertical-align: middle;\n",
              "    }\n",
              "\n",
              "    .dataframe tbody tr th {\n",
              "        vertical-align: top;\n",
              "    }\n",
              "\n",
              "    .dataframe thead th {\n",
              "        text-align: right;\n",
              "    }\n",
              "</style>\n",
              "<table border=\"1\" class=\"dataframe\">\n",
              "  <thead>\n",
              "    <tr style=\"text-align: right;\">\n",
              "      <th></th>\n",
              "      <th>Temperature</th>\n",
              "      <th>Humidity</th>\n",
              "      <th>Light</th>\n",
              "      <th>CO2</th>\n",
              "    </tr>\n",
              "  </thead>\n",
              "  <tbody>\n",
              "    <tr>\n",
              "      <th>0</th>\n",
              "      <td>2.518470</td>\n",
              "      <td>0.278526</td>\n",
              "      <td>1.573763</td>\n",
              "      <td>0.364948</td>\n",
              "    </tr>\n",
              "    <tr>\n",
              "      <th>1</th>\n",
              "      <td>2.488967</td>\n",
              "      <td>0.277713</td>\n",
              "      <td>1.591735</td>\n",
              "      <td>0.341881</td>\n",
              "    </tr>\n",
              "    <tr>\n",
              "      <th>2</th>\n",
              "      <td>2.488967</td>\n",
              "      <td>0.273645</td>\n",
              "      <td>1.573763</td>\n",
              "      <td>0.340290</td>\n",
              "    </tr>\n",
              "    <tr>\n",
              "      <th>3</th>\n",
              "      <td>2.488967</td>\n",
              "      <td>0.265508</td>\n",
              "      <td>1.573763</td>\n",
              "      <td>0.323587</td>\n",
              "    </tr>\n",
              "    <tr>\n",
              "      <th>4</th>\n",
              "      <td>2.439796</td>\n",
              "      <td>0.265508</td>\n",
              "      <td>1.573763</td>\n",
              "      <td>0.311655</td>\n",
              "    </tr>\n",
              "  </tbody>\n",
              "</table>\n",
              "</div>"
            ],
            "text/plain": [
              "   Temperature  Humidity     Light       CO2\n",
              "0     2.518470  0.278526  1.573763  0.364948\n",
              "1     2.488967  0.277713  1.591735  0.341881\n",
              "2     2.488967  0.273645  1.573763  0.340290\n",
              "3     2.488967  0.265508  1.573763  0.323587\n",
              "4     2.439796  0.265508  1.573763  0.311655"
            ]
          },
          "metadata": {
            "tags": []
          },
          "execution_count": 86
        }
      ]
    },
    {
      "cell_type": "code",
      "metadata": {
        "id": "r7M1D1XBU9pn",
        "colab_type": "code",
        "outputId": "14cf3ebe-89bd-4ed0-a00a-6fb64c454a90",
        "colab": {
          "base_uri": "https://localhost:8080/",
          "height": 195
        }
      },
      "source": [
        "X_test.head()"
      ],
      "execution_count": 0,
      "outputs": [
        {
          "output_type": "execute_result",
          "data": {
            "text/html": [
              "<div>\n",
              "<style scoped>\n",
              "    .dataframe tbody tr th:only-of-type {\n",
              "        vertical-align: middle;\n",
              "    }\n",
              "\n",
              "    .dataframe tbody tr th {\n",
              "        vertical-align: top;\n",
              "    }\n",
              "\n",
              "    .dataframe thead th {\n",
              "        text-align: right;\n",
              "    }\n",
              "</style>\n",
              "<table border=\"1\" class=\"dataframe\">\n",
              "  <thead>\n",
              "    <tr style=\"text-align: right;\">\n",
              "      <th></th>\n",
              "      <th>Temperature</th>\n",
              "      <th>Humidity</th>\n",
              "      <th>Light</th>\n",
              "      <th>CO2</th>\n",
              "    </tr>\n",
              "  </thead>\n",
              "  <tbody>\n",
              "    <tr>\n",
              "      <th>0</th>\n",
              "      <td>3.029851</td>\n",
              "      <td>0.097723</td>\n",
              "      <td>2.391247</td>\n",
              "      <td>0.453875</td>\n",
              "    </tr>\n",
              "    <tr>\n",
              "      <th>1</th>\n",
              "      <td>3.047553</td>\n",
              "      <td>0.100977</td>\n",
              "      <td>2.356329</td>\n",
              "      <td>0.489510</td>\n",
              "    </tr>\n",
              "    <tr>\n",
              "      <th>2</th>\n",
              "      <td>3.059354</td>\n",
              "      <td>0.090129</td>\n",
              "      <td>2.326889</td>\n",
              "      <td>0.518993</td>\n",
              "    </tr>\n",
              "    <tr>\n",
              "      <th>3</th>\n",
              "      <td>3.051978</td>\n",
              "      <td>0.071145</td>\n",
              "      <td>1.921656</td>\n",
              "      <td>0.535167</td>\n",
              "    </tr>\n",
              "    <tr>\n",
              "      <th>4</th>\n",
              "      <td>3.082956</td>\n",
              "      <td>0.084705</td>\n",
              "      <td>1.895211</td>\n",
              "      <td>0.548689</td>\n",
              "    </tr>\n",
              "  </tbody>\n",
              "</table>\n",
              "</div>"
            ],
            "text/plain": [
              "   Temperature  Humidity     Light       CO2\n",
              "0     3.029851  0.097723  2.391247  0.453875\n",
              "1     3.047553  0.100977  2.356329  0.489510\n",
              "2     3.059354  0.090129  2.326889  0.518993\n",
              "3     3.051978  0.071145  1.921656  0.535167\n",
              "4     3.082956  0.084705  1.895211  0.548689"
            ]
          },
          "metadata": {
            "tags": []
          },
          "execution_count": 87
        }
      ]
    },
    {
      "cell_type": "markdown",
      "metadata": {
        "id": "VdFNDGxGUvrw",
        "colab_type": "text"
      },
      "source": [
        "Procedamos ahora a poner nuestro dataset en una forma adecuada para el modelo, esto es [sample, timestep, features]"
      ]
    },
    {
      "cell_type": "code",
      "metadata": {
        "id": "Q4tI023C4Hx_",
        "colab_type": "code",
        "colab": {}
      },
      "source": [
        "def time_setped_data(data_set, time_step, columns):\n",
        "  data = pd.DataFrame()\n",
        "  for j in columns:\n",
        "    for i in range(time_step):\n",
        "      data['{}(t+{})'.format(j, i)] = data_set[j].shift(-i)\n",
        "\n",
        "  data.dropna(inplace=True)\n",
        "  return data"
      ],
      "execution_count": 0,
      "outputs": []
    },
    {
      "cell_type": "code",
      "metadata": {
        "id": "g6xCkwXn4txS",
        "colab_type": "code",
        "colab": {}
      },
      "source": [
        "X_train = time_setped_data(data_set=X_train, time_step=20, columns=X_train.columns)\n",
        "X_test = time_setped_data(data_set=X_test, time_step=20, columns=X_test.columns)"
      ],
      "execution_count": 0,
      "outputs": []
    },
    {
      "cell_type": "code",
      "metadata": {
        "id": "--Sw2v3x31W1",
        "colab_type": "code",
        "outputId": "f93f8dd3-345d-4f10-f232-626d42c6fd5b",
        "colab": {
          "base_uri": "https://localhost:8080/",
          "height": 215
        }
      },
      "source": [
        "X_train.head()"
      ],
      "execution_count": 0,
      "outputs": [
        {
          "output_type": "execute_result",
          "data": {
            "text/html": [
              "<div>\n",
              "<style scoped>\n",
              "    .dataframe tbody tr th:only-of-type {\n",
              "        vertical-align: middle;\n",
              "    }\n",
              "\n",
              "    .dataframe tbody tr th {\n",
              "        vertical-align: top;\n",
              "    }\n",
              "\n",
              "    .dataframe thead th {\n",
              "        text-align: right;\n",
              "    }\n",
              "</style>\n",
              "<table border=\"1\" class=\"dataframe\">\n",
              "  <thead>\n",
              "    <tr style=\"text-align: right;\">\n",
              "      <th></th>\n",
              "      <th>Temperature(t+0)</th>\n",
              "      <th>Temperature(t+1)</th>\n",
              "      <th>Temperature(t+2)</th>\n",
              "      <th>Temperature(t+3)</th>\n",
              "      <th>Temperature(t+4)</th>\n",
              "      <th>Temperature(t+5)</th>\n",
              "      <th>Temperature(t+6)</th>\n",
              "      <th>Temperature(t+7)</th>\n",
              "      <th>Temperature(t+8)</th>\n",
              "      <th>Temperature(t+9)</th>\n",
              "      <th>Temperature(t+10)</th>\n",
              "      <th>Temperature(t+11)</th>\n",
              "      <th>Temperature(t+12)</th>\n",
              "      <th>Temperature(t+13)</th>\n",
              "      <th>Temperature(t+14)</th>\n",
              "      <th>Temperature(t+15)</th>\n",
              "      <th>Temperature(t+16)</th>\n",
              "      <th>Temperature(t+17)</th>\n",
              "      <th>Temperature(t+18)</th>\n",
              "      <th>Temperature(t+19)</th>\n",
              "      <th>Humidity(t+0)</th>\n",
              "      <th>Humidity(t+1)</th>\n",
              "      <th>Humidity(t+2)</th>\n",
              "      <th>Humidity(t+3)</th>\n",
              "      <th>Humidity(t+4)</th>\n",
              "      <th>Humidity(t+5)</th>\n",
              "      <th>Humidity(t+6)</th>\n",
              "      <th>Humidity(t+7)</th>\n",
              "      <th>Humidity(t+8)</th>\n",
              "      <th>Humidity(t+9)</th>\n",
              "      <th>Humidity(t+10)</th>\n",
              "      <th>Humidity(t+11)</th>\n",
              "      <th>Humidity(t+12)</th>\n",
              "      <th>Humidity(t+13)</th>\n",
              "      <th>Humidity(t+14)</th>\n",
              "      <th>Humidity(t+15)</th>\n",
              "      <th>Humidity(t+16)</th>\n",
              "      <th>Humidity(t+17)</th>\n",
              "      <th>Humidity(t+18)</th>\n",
              "      <th>Humidity(t+19)</th>\n",
              "      <th>Light(t+0)</th>\n",
              "      <th>Light(t+1)</th>\n",
              "      <th>Light(t+2)</th>\n",
              "      <th>Light(t+3)</th>\n",
              "      <th>Light(t+4)</th>\n",
              "      <th>Light(t+5)</th>\n",
              "      <th>Light(t+6)</th>\n",
              "      <th>Light(t+7)</th>\n",
              "      <th>Light(t+8)</th>\n",
              "      <th>Light(t+9)</th>\n",
              "      <th>Light(t+10)</th>\n",
              "      <th>Light(t+11)</th>\n",
              "      <th>Light(t+12)</th>\n",
              "      <th>Light(t+13)</th>\n",
              "      <th>Light(t+14)</th>\n",
              "      <th>Light(t+15)</th>\n",
              "      <th>Light(t+16)</th>\n",
              "      <th>Light(t+17)</th>\n",
              "      <th>Light(t+18)</th>\n",
              "      <th>Light(t+19)</th>\n",
              "      <th>CO2(t+0)</th>\n",
              "      <th>CO2(t+1)</th>\n",
              "      <th>CO2(t+2)</th>\n",
              "      <th>CO2(t+3)</th>\n",
              "      <th>CO2(t+4)</th>\n",
              "      <th>CO2(t+5)</th>\n",
              "      <th>CO2(t+6)</th>\n",
              "      <th>CO2(t+7)</th>\n",
              "      <th>CO2(t+8)</th>\n",
              "      <th>CO2(t+9)</th>\n",
              "      <th>CO2(t+10)</th>\n",
              "      <th>CO2(t+11)</th>\n",
              "      <th>CO2(t+12)</th>\n",
              "      <th>CO2(t+13)</th>\n",
              "      <th>CO2(t+14)</th>\n",
              "      <th>CO2(t+15)</th>\n",
              "      <th>CO2(t+16)</th>\n",
              "      <th>CO2(t+17)</th>\n",
              "      <th>CO2(t+18)</th>\n",
              "      <th>CO2(t+19)</th>\n",
              "    </tr>\n",
              "  </thead>\n",
              "  <tbody>\n",
              "    <tr>\n",
              "      <th>0</th>\n",
              "      <td>2.518470</td>\n",
              "      <td>2.488967</td>\n",
              "      <td>2.488967</td>\n",
              "      <td>2.488967</td>\n",
              "      <td>2.439796</td>\n",
              "      <td>2.439796</td>\n",
              "      <td>2.439796</td>\n",
              "      <td>2.439796</td>\n",
              "      <td>2.439796</td>\n",
              "      <td>2.415210</td>\n",
              "      <td>2.415210</td>\n",
              "      <td>2.439796</td>\n",
              "      <td>2.439796</td>\n",
              "      <td>2.390625</td>\n",
              "      <td>2.341454</td>\n",
              "      <td>2.341454</td>\n",
              "      <td>2.341454</td>\n",
              "      <td>2.287365</td>\n",
              "      <td>2.287365</td>\n",
              "      <td>2.233277</td>\n",
              "      <td>0.278526</td>\n",
              "      <td>0.277713</td>\n",
              "      <td>0.273645</td>\n",
              "      <td>0.265508</td>\n",
              "      <td>0.265508</td>\n",
              "      <td>0.265508</td>\n",
              "      <td>0.265508</td>\n",
              "      <td>0.265508</td>\n",
              "      <td>0.265508</td>\n",
              "      <td>0.260988</td>\n",
              "      <td>0.256468</td>\n",
              "      <td>0.247428</td>\n",
              "      <td>0.259482</td>\n",
              "      <td>0.256468</td>\n",
              "      <td>0.251948</td>\n",
              "      <td>0.251948</td>\n",
              "      <td>0.265508</td>\n",
              "      <td>0.281781</td>\n",
              "      <td>0.299861</td>\n",
              "      <td>0.299861</td>\n",
              "      <td>1.573763</td>\n",
              "      <td>1.591735</td>\n",
              "      <td>1.573763</td>\n",
              "      <td>1.573763</td>\n",
              "      <td>1.573763</td>\n",
              "      <td>1.537818</td>\n",
              "      <td>1.537818</td>\n",
              "      <td>1.537818</td>\n",
              "      <td>1.537818</td>\n",
              "      <td>1.537818</td>\n",
              "      <td>1.537818</td>\n",
              "      <td>1.537818</td>\n",
              "      <td>1.537818</td>\n",
              "      <td>1.537818</td>\n",
              "      <td>1.537818</td>\n",
              "      <td>1.535251</td>\n",
              "      <td>-0.613726</td>\n",
              "      <td>-0.613726</td>\n",
              "      <td>-0.613726</td>\n",
              "      <td>-0.613726</td>\n",
              "      <td>0.364948</td>\n",
              "      <td>0.341881</td>\n",
              "      <td>0.340290</td>\n",
              "      <td>0.323587</td>\n",
              "      <td>0.311655</td>\n",
              "      <td>0.300520</td>\n",
              "      <td>0.302641</td>\n",
              "      <td>0.294156</td>\n",
              "      <td>0.263400</td>\n",
              "      <td>0.259158</td>\n",
              "      <td>0.266317</td>\n",
              "      <td>0.268703</td>\n",
              "      <td>0.244841</td>\n",
              "      <td>0.257567</td>\n",
              "      <td>0.252795</td>\n",
              "      <td>0.235296</td>\n",
              "      <td>0.238477</td>\n",
              "      <td>0.249613</td>\n",
              "      <td>0.249613</td>\n",
              "      <td>0.262340</td>\n",
              "    </tr>\n",
              "    <tr>\n",
              "      <th>1</th>\n",
              "      <td>2.488967</td>\n",
              "      <td>2.488967</td>\n",
              "      <td>2.488967</td>\n",
              "      <td>2.439796</td>\n",
              "      <td>2.439796</td>\n",
              "      <td>2.439796</td>\n",
              "      <td>2.439796</td>\n",
              "      <td>2.439796</td>\n",
              "      <td>2.415210</td>\n",
              "      <td>2.415210</td>\n",
              "      <td>2.439796</td>\n",
              "      <td>2.439796</td>\n",
              "      <td>2.390625</td>\n",
              "      <td>2.341454</td>\n",
              "      <td>2.341454</td>\n",
              "      <td>2.341454</td>\n",
              "      <td>2.287365</td>\n",
              "      <td>2.287365</td>\n",
              "      <td>2.233277</td>\n",
              "      <td>2.233277</td>\n",
              "      <td>0.277713</td>\n",
              "      <td>0.273645</td>\n",
              "      <td>0.265508</td>\n",
              "      <td>0.265508</td>\n",
              "      <td>0.265508</td>\n",
              "      <td>0.265508</td>\n",
              "      <td>0.265508</td>\n",
              "      <td>0.265508</td>\n",
              "      <td>0.260988</td>\n",
              "      <td>0.256468</td>\n",
              "      <td>0.247428</td>\n",
              "      <td>0.259482</td>\n",
              "      <td>0.256468</td>\n",
              "      <td>0.251948</td>\n",
              "      <td>0.251948</td>\n",
              "      <td>0.265508</td>\n",
              "      <td>0.281781</td>\n",
              "      <td>0.299861</td>\n",
              "      <td>0.299861</td>\n",
              "      <td>0.299861</td>\n",
              "      <td>1.591735</td>\n",
              "      <td>1.573763</td>\n",
              "      <td>1.573763</td>\n",
              "      <td>1.573763</td>\n",
              "      <td>1.537818</td>\n",
              "      <td>1.537818</td>\n",
              "      <td>1.537818</td>\n",
              "      <td>1.537818</td>\n",
              "      <td>1.537818</td>\n",
              "      <td>1.537818</td>\n",
              "      <td>1.537818</td>\n",
              "      <td>1.537818</td>\n",
              "      <td>1.537818</td>\n",
              "      <td>1.537818</td>\n",
              "      <td>1.535251</td>\n",
              "      <td>-0.613726</td>\n",
              "      <td>-0.613726</td>\n",
              "      <td>-0.613726</td>\n",
              "      <td>-0.613726</td>\n",
              "      <td>-0.613726</td>\n",
              "      <td>0.341881</td>\n",
              "      <td>0.340290</td>\n",
              "      <td>0.323587</td>\n",
              "      <td>0.311655</td>\n",
              "      <td>0.300520</td>\n",
              "      <td>0.302641</td>\n",
              "      <td>0.294156</td>\n",
              "      <td>0.263400</td>\n",
              "      <td>0.259158</td>\n",
              "      <td>0.266317</td>\n",
              "      <td>0.268703</td>\n",
              "      <td>0.244841</td>\n",
              "      <td>0.257567</td>\n",
              "      <td>0.252795</td>\n",
              "      <td>0.235296</td>\n",
              "      <td>0.238477</td>\n",
              "      <td>0.249613</td>\n",
              "      <td>0.249613</td>\n",
              "      <td>0.262340</td>\n",
              "      <td>0.263930</td>\n",
              "    </tr>\n",
              "    <tr>\n",
              "      <th>2</th>\n",
              "      <td>2.488967</td>\n",
              "      <td>2.488967</td>\n",
              "      <td>2.439796</td>\n",
              "      <td>2.439796</td>\n",
              "      <td>2.439796</td>\n",
              "      <td>2.439796</td>\n",
              "      <td>2.439796</td>\n",
              "      <td>2.415210</td>\n",
              "      <td>2.415210</td>\n",
              "      <td>2.439796</td>\n",
              "      <td>2.439796</td>\n",
              "      <td>2.390625</td>\n",
              "      <td>2.341454</td>\n",
              "      <td>2.341454</td>\n",
              "      <td>2.341454</td>\n",
              "      <td>2.287365</td>\n",
              "      <td>2.287365</td>\n",
              "      <td>2.233277</td>\n",
              "      <td>2.233277</td>\n",
              "      <td>2.233277</td>\n",
              "      <td>0.273645</td>\n",
              "      <td>0.265508</td>\n",
              "      <td>0.265508</td>\n",
              "      <td>0.265508</td>\n",
              "      <td>0.265508</td>\n",
              "      <td>0.265508</td>\n",
              "      <td>0.265508</td>\n",
              "      <td>0.260988</td>\n",
              "      <td>0.256468</td>\n",
              "      <td>0.247428</td>\n",
              "      <td>0.259482</td>\n",
              "      <td>0.256468</td>\n",
              "      <td>0.251948</td>\n",
              "      <td>0.251948</td>\n",
              "      <td>0.265508</td>\n",
              "      <td>0.281781</td>\n",
              "      <td>0.299861</td>\n",
              "      <td>0.299861</td>\n",
              "      <td>0.299861</td>\n",
              "      <td>0.299861</td>\n",
              "      <td>1.573763</td>\n",
              "      <td>1.573763</td>\n",
              "      <td>1.573763</td>\n",
              "      <td>1.537818</td>\n",
              "      <td>1.537818</td>\n",
              "      <td>1.537818</td>\n",
              "      <td>1.537818</td>\n",
              "      <td>1.537818</td>\n",
              "      <td>1.537818</td>\n",
              "      <td>1.537818</td>\n",
              "      <td>1.537818</td>\n",
              "      <td>1.537818</td>\n",
              "      <td>1.537818</td>\n",
              "      <td>1.535251</td>\n",
              "      <td>-0.613726</td>\n",
              "      <td>-0.613726</td>\n",
              "      <td>-0.613726</td>\n",
              "      <td>-0.613726</td>\n",
              "      <td>-0.613726</td>\n",
              "      <td>-0.613726</td>\n",
              "      <td>0.340290</td>\n",
              "      <td>0.323587</td>\n",
              "      <td>0.311655</td>\n",
              "      <td>0.300520</td>\n",
              "      <td>0.302641</td>\n",
              "      <td>0.294156</td>\n",
              "      <td>0.263400</td>\n",
              "      <td>0.259158</td>\n",
              "      <td>0.266317</td>\n",
              "      <td>0.268703</td>\n",
              "      <td>0.244841</td>\n",
              "      <td>0.257567</td>\n",
              "      <td>0.252795</td>\n",
              "      <td>0.235296</td>\n",
              "      <td>0.238477</td>\n",
              "      <td>0.249613</td>\n",
              "      <td>0.249613</td>\n",
              "      <td>0.262340</td>\n",
              "      <td>0.263930</td>\n",
              "      <td>0.262340</td>\n",
              "    </tr>\n",
              "    <tr>\n",
              "      <th>3</th>\n",
              "      <td>2.488967</td>\n",
              "      <td>2.439796</td>\n",
              "      <td>2.439796</td>\n",
              "      <td>2.439796</td>\n",
              "      <td>2.439796</td>\n",
              "      <td>2.439796</td>\n",
              "      <td>2.415210</td>\n",
              "      <td>2.415210</td>\n",
              "      <td>2.439796</td>\n",
              "      <td>2.439796</td>\n",
              "      <td>2.390625</td>\n",
              "      <td>2.341454</td>\n",
              "      <td>2.341454</td>\n",
              "      <td>2.341454</td>\n",
              "      <td>2.287365</td>\n",
              "      <td>2.287365</td>\n",
              "      <td>2.233277</td>\n",
              "      <td>2.233277</td>\n",
              "      <td>2.233277</td>\n",
              "      <td>2.233277</td>\n",
              "      <td>0.265508</td>\n",
              "      <td>0.265508</td>\n",
              "      <td>0.265508</td>\n",
              "      <td>0.265508</td>\n",
              "      <td>0.265508</td>\n",
              "      <td>0.265508</td>\n",
              "      <td>0.260988</td>\n",
              "      <td>0.256468</td>\n",
              "      <td>0.247428</td>\n",
              "      <td>0.259482</td>\n",
              "      <td>0.256468</td>\n",
              "      <td>0.251948</td>\n",
              "      <td>0.251948</td>\n",
              "      <td>0.265508</td>\n",
              "      <td>0.281781</td>\n",
              "      <td>0.299861</td>\n",
              "      <td>0.299861</td>\n",
              "      <td>0.299861</td>\n",
              "      <td>0.299861</td>\n",
              "      <td>0.309805</td>\n",
              "      <td>1.573763</td>\n",
              "      <td>1.573763</td>\n",
              "      <td>1.537818</td>\n",
              "      <td>1.537818</td>\n",
              "      <td>1.537818</td>\n",
              "      <td>1.537818</td>\n",
              "      <td>1.537818</td>\n",
              "      <td>1.537818</td>\n",
              "      <td>1.537818</td>\n",
              "      <td>1.537818</td>\n",
              "      <td>1.537818</td>\n",
              "      <td>1.537818</td>\n",
              "      <td>1.535251</td>\n",
              "      <td>-0.613726</td>\n",
              "      <td>-0.613726</td>\n",
              "      <td>-0.613726</td>\n",
              "      <td>-0.613726</td>\n",
              "      <td>-0.613726</td>\n",
              "      <td>-0.613726</td>\n",
              "      <td>-0.613726</td>\n",
              "      <td>0.323587</td>\n",
              "      <td>0.311655</td>\n",
              "      <td>0.300520</td>\n",
              "      <td>0.302641</td>\n",
              "      <td>0.294156</td>\n",
              "      <td>0.263400</td>\n",
              "      <td>0.259158</td>\n",
              "      <td>0.266317</td>\n",
              "      <td>0.268703</td>\n",
              "      <td>0.244841</td>\n",
              "      <td>0.257567</td>\n",
              "      <td>0.252795</td>\n",
              "      <td>0.235296</td>\n",
              "      <td>0.238477</td>\n",
              "      <td>0.249613</td>\n",
              "      <td>0.249613</td>\n",
              "      <td>0.262340</td>\n",
              "      <td>0.263930</td>\n",
              "      <td>0.262340</td>\n",
              "      <td>0.268703</td>\n",
              "    </tr>\n",
              "    <tr>\n",
              "      <th>4</th>\n",
              "      <td>2.439796</td>\n",
              "      <td>2.439796</td>\n",
              "      <td>2.439796</td>\n",
              "      <td>2.439796</td>\n",
              "      <td>2.439796</td>\n",
              "      <td>2.415210</td>\n",
              "      <td>2.415210</td>\n",
              "      <td>2.439796</td>\n",
              "      <td>2.439796</td>\n",
              "      <td>2.390625</td>\n",
              "      <td>2.341454</td>\n",
              "      <td>2.341454</td>\n",
              "      <td>2.341454</td>\n",
              "      <td>2.287365</td>\n",
              "      <td>2.287365</td>\n",
              "      <td>2.233277</td>\n",
              "      <td>2.233277</td>\n",
              "      <td>2.233277</td>\n",
              "      <td>2.233277</td>\n",
              "      <td>2.233277</td>\n",
              "      <td>0.265508</td>\n",
              "      <td>0.265508</td>\n",
              "      <td>0.265508</td>\n",
              "      <td>0.265508</td>\n",
              "      <td>0.265508</td>\n",
              "      <td>0.260988</td>\n",
              "      <td>0.256468</td>\n",
              "      <td>0.247428</td>\n",
              "      <td>0.259482</td>\n",
              "      <td>0.256468</td>\n",
              "      <td>0.251948</td>\n",
              "      <td>0.251948</td>\n",
              "      <td>0.265508</td>\n",
              "      <td>0.281781</td>\n",
              "      <td>0.299861</td>\n",
              "      <td>0.299861</td>\n",
              "      <td>0.299861</td>\n",
              "      <td>0.299861</td>\n",
              "      <td>0.309805</td>\n",
              "      <td>0.319749</td>\n",
              "      <td>1.573763</td>\n",
              "      <td>1.537818</td>\n",
              "      <td>1.537818</td>\n",
              "      <td>1.537818</td>\n",
              "      <td>1.537818</td>\n",
              "      <td>1.537818</td>\n",
              "      <td>1.537818</td>\n",
              "      <td>1.537818</td>\n",
              "      <td>1.537818</td>\n",
              "      <td>1.537818</td>\n",
              "      <td>1.537818</td>\n",
              "      <td>1.535251</td>\n",
              "      <td>-0.613726</td>\n",
              "      <td>-0.613726</td>\n",
              "      <td>-0.613726</td>\n",
              "      <td>-0.613726</td>\n",
              "      <td>-0.613726</td>\n",
              "      <td>-0.613726</td>\n",
              "      <td>-0.613726</td>\n",
              "      <td>-0.613726</td>\n",
              "      <td>0.311655</td>\n",
              "      <td>0.300520</td>\n",
              "      <td>0.302641</td>\n",
              "      <td>0.294156</td>\n",
              "      <td>0.263400</td>\n",
              "      <td>0.259158</td>\n",
              "      <td>0.266317</td>\n",
              "      <td>0.268703</td>\n",
              "      <td>0.244841</td>\n",
              "      <td>0.257567</td>\n",
              "      <td>0.252795</td>\n",
              "      <td>0.235296</td>\n",
              "      <td>0.238477</td>\n",
              "      <td>0.249613</td>\n",
              "      <td>0.249613</td>\n",
              "      <td>0.262340</td>\n",
              "      <td>0.263930</td>\n",
              "      <td>0.262340</td>\n",
              "      <td>0.268703</td>\n",
              "      <td>0.259158</td>\n",
              "    </tr>\n",
              "  </tbody>\n",
              "</table>\n",
              "</div>"
            ],
            "text/plain": [
              "   Temperature(t+0)  Temperature(t+1)  ...  CO2(t+18)  CO2(t+19)\n",
              "0          2.518470          2.488967  ...   0.249613   0.262340\n",
              "1          2.488967          2.488967  ...   0.262340   0.263930\n",
              "2          2.488967          2.488967  ...   0.263930   0.262340\n",
              "3          2.488967          2.439796  ...   0.262340   0.268703\n",
              "4          2.439796          2.439796  ...   0.268703   0.259158\n",
              "\n",
              "[5 rows x 80 columns]"
            ]
          },
          "metadata": {
            "tags": []
          },
          "execution_count": 90
        }
      ]
    },
    {
      "cell_type": "code",
      "metadata": {
        "id": "KY1URZFw89Gt",
        "colab_type": "code",
        "outputId": "c4f3ea25-f5ae-4ffa-d664-1cb5e64b5c3d",
        "colab": {
          "base_uri": "https://localhost:8080/",
          "height": 215
        }
      },
      "source": [
        "X_test.head()"
      ],
      "execution_count": 0,
      "outputs": [
        {
          "output_type": "execute_result",
          "data": {
            "text/html": [
              "<div>\n",
              "<style scoped>\n",
              "    .dataframe tbody tr th:only-of-type {\n",
              "        vertical-align: middle;\n",
              "    }\n",
              "\n",
              "    .dataframe tbody tr th {\n",
              "        vertical-align: top;\n",
              "    }\n",
              "\n",
              "    .dataframe thead th {\n",
              "        text-align: right;\n",
              "    }\n",
              "</style>\n",
              "<table border=\"1\" class=\"dataframe\">\n",
              "  <thead>\n",
              "    <tr style=\"text-align: right;\">\n",
              "      <th></th>\n",
              "      <th>Temperature(t+0)</th>\n",
              "      <th>Temperature(t+1)</th>\n",
              "      <th>Temperature(t+2)</th>\n",
              "      <th>Temperature(t+3)</th>\n",
              "      <th>Temperature(t+4)</th>\n",
              "      <th>Temperature(t+5)</th>\n",
              "      <th>Temperature(t+6)</th>\n",
              "      <th>Temperature(t+7)</th>\n",
              "      <th>Temperature(t+8)</th>\n",
              "      <th>Temperature(t+9)</th>\n",
              "      <th>Temperature(t+10)</th>\n",
              "      <th>Temperature(t+11)</th>\n",
              "      <th>Temperature(t+12)</th>\n",
              "      <th>Temperature(t+13)</th>\n",
              "      <th>Temperature(t+14)</th>\n",
              "      <th>Temperature(t+15)</th>\n",
              "      <th>Temperature(t+16)</th>\n",
              "      <th>Temperature(t+17)</th>\n",
              "      <th>Temperature(t+18)</th>\n",
              "      <th>Temperature(t+19)</th>\n",
              "      <th>Humidity(t+0)</th>\n",
              "      <th>Humidity(t+1)</th>\n",
              "      <th>Humidity(t+2)</th>\n",
              "      <th>Humidity(t+3)</th>\n",
              "      <th>Humidity(t+4)</th>\n",
              "      <th>Humidity(t+5)</th>\n",
              "      <th>Humidity(t+6)</th>\n",
              "      <th>Humidity(t+7)</th>\n",
              "      <th>Humidity(t+8)</th>\n",
              "      <th>Humidity(t+9)</th>\n",
              "      <th>Humidity(t+10)</th>\n",
              "      <th>Humidity(t+11)</th>\n",
              "      <th>Humidity(t+12)</th>\n",
              "      <th>Humidity(t+13)</th>\n",
              "      <th>Humidity(t+14)</th>\n",
              "      <th>Humidity(t+15)</th>\n",
              "      <th>Humidity(t+16)</th>\n",
              "      <th>Humidity(t+17)</th>\n",
              "      <th>Humidity(t+18)</th>\n",
              "      <th>Humidity(t+19)</th>\n",
              "      <th>Light(t+0)</th>\n",
              "      <th>Light(t+1)</th>\n",
              "      <th>Light(t+2)</th>\n",
              "      <th>Light(t+3)</th>\n",
              "      <th>Light(t+4)</th>\n",
              "      <th>Light(t+5)</th>\n",
              "      <th>Light(t+6)</th>\n",
              "      <th>Light(t+7)</th>\n",
              "      <th>Light(t+8)</th>\n",
              "      <th>Light(t+9)</th>\n",
              "      <th>Light(t+10)</th>\n",
              "      <th>Light(t+11)</th>\n",
              "      <th>Light(t+12)</th>\n",
              "      <th>Light(t+13)</th>\n",
              "      <th>Light(t+14)</th>\n",
              "      <th>Light(t+15)</th>\n",
              "      <th>Light(t+16)</th>\n",
              "      <th>Light(t+17)</th>\n",
              "      <th>Light(t+18)</th>\n",
              "      <th>Light(t+19)</th>\n",
              "      <th>CO2(t+0)</th>\n",
              "      <th>CO2(t+1)</th>\n",
              "      <th>CO2(t+2)</th>\n",
              "      <th>CO2(t+3)</th>\n",
              "      <th>CO2(t+4)</th>\n",
              "      <th>CO2(t+5)</th>\n",
              "      <th>CO2(t+6)</th>\n",
              "      <th>CO2(t+7)</th>\n",
              "      <th>CO2(t+8)</th>\n",
              "      <th>CO2(t+9)</th>\n",
              "      <th>CO2(t+10)</th>\n",
              "      <th>CO2(t+11)</th>\n",
              "      <th>CO2(t+12)</th>\n",
              "      <th>CO2(t+13)</th>\n",
              "      <th>CO2(t+14)</th>\n",
              "      <th>CO2(t+15)</th>\n",
              "      <th>CO2(t+16)</th>\n",
              "      <th>CO2(t+17)</th>\n",
              "      <th>CO2(t+18)</th>\n",
              "      <th>CO2(t+19)</th>\n",
              "    </tr>\n",
              "  </thead>\n",
              "  <tbody>\n",
              "    <tr>\n",
              "      <th>0</th>\n",
              "      <td>3.029851</td>\n",
              "      <td>3.047553</td>\n",
              "      <td>3.059354</td>\n",
              "      <td>3.051978</td>\n",
              "      <td>3.082956</td>\n",
              "      <td>3.088857</td>\n",
              "      <td>3.059354</td>\n",
              "      <td>3.082956</td>\n",
              "      <td>3.082956</td>\n",
              "      <td>3.065255</td>\n",
              "      <td>3.074105</td>\n",
              "      <td>3.029851</td>\n",
              "      <td>3.029851</td>\n",
              "      <td>3.029851</td>\n",
              "      <td>3.029851</td>\n",
              "      <td>3.029851</td>\n",
              "      <td>3.029851</td>\n",
              "      <td>2.931509</td>\n",
              "      <td>2.970846</td>\n",
              "      <td>2.980680</td>\n",
              "      <td>0.097723</td>\n",
              "      <td>0.100977</td>\n",
              "      <td>0.090129</td>\n",
              "      <td>0.071145</td>\n",
              "      <td>0.084705</td>\n",
              "      <td>0.095553</td>\n",
              "      <td>0.100977</td>\n",
              "      <td>0.100977</td>\n",
              "      <td>0.111826</td>\n",
              "      <td>0.119058</td>\n",
              "      <td>0.129002</td>\n",
              "      <td>0.149794</td>\n",
              "      <td>0.157026</td>\n",
              "      <td>0.175107</td>\n",
              "      <td>0.188486</td>\n",
              "      <td>0.209459</td>\n",
              "      <td>0.224376</td>\n",
              "      <td>0.209459</td>\n",
              "      <td>0.225008</td>\n",
              "      <td>0.238388</td>\n",
              "      <td>2.391247</td>\n",
              "      <td>2.356329</td>\n",
              "      <td>2.326889</td>\n",
              "      <td>1.921656</td>\n",
              "      <td>1.895211</td>\n",
              "      <td>2.306349</td>\n",
              "      <td>2.140319</td>\n",
              "      <td>1.999964</td>\n",
              "      <td>1.830510</td>\n",
              "      <td>2.005099</td>\n",
              "      <td>1.858753</td>\n",
              "      <td>1.860293</td>\n",
              "      <td>1.826659</td>\n",
              "      <td>1.794566</td>\n",
              "      <td>1.768891</td>\n",
              "      <td>1.768891</td>\n",
              "      <td>1.722676</td>\n",
              "      <td>1.717541</td>\n",
              "      <td>1.738081</td>\n",
              "      <td>1.768891</td>\n",
              "      <td>0.453875</td>\n",
              "      <td>0.489510</td>\n",
              "      <td>0.518993</td>\n",
              "      <td>0.535167</td>\n",
              "      <td>0.548689</td>\n",
              "      <td>0.583687</td>\n",
              "      <td>0.609140</td>\n",
              "      <td>0.605959</td>\n",
              "      <td>0.625685</td>\n",
              "      <td>0.644139</td>\n",
              "      <td>0.664024</td>\n",
              "      <td>0.691863</td>\n",
              "      <td>0.717317</td>\n",
              "      <td>0.759739</td>\n",
              "      <td>0.782222</td>\n",
              "      <td>0.809585</td>\n",
              "      <td>0.870036</td>\n",
              "      <td>0.905034</td>\n",
              "      <td>0.926033</td>\n",
              "      <td>0.935260</td>\n",
              "    </tr>\n",
              "    <tr>\n",
              "      <th>1</th>\n",
              "      <td>3.047553</td>\n",
              "      <td>3.059354</td>\n",
              "      <td>3.051978</td>\n",
              "      <td>3.082956</td>\n",
              "      <td>3.088857</td>\n",
              "      <td>3.059354</td>\n",
              "      <td>3.082956</td>\n",
              "      <td>3.082956</td>\n",
              "      <td>3.065255</td>\n",
              "      <td>3.074105</td>\n",
              "      <td>3.029851</td>\n",
              "      <td>3.029851</td>\n",
              "      <td>3.029851</td>\n",
              "      <td>3.029851</td>\n",
              "      <td>3.029851</td>\n",
              "      <td>3.029851</td>\n",
              "      <td>2.931509</td>\n",
              "      <td>2.970846</td>\n",
              "      <td>2.980680</td>\n",
              "      <td>2.970846</td>\n",
              "      <td>0.100977</td>\n",
              "      <td>0.090129</td>\n",
              "      <td>0.071145</td>\n",
              "      <td>0.084705</td>\n",
              "      <td>0.095553</td>\n",
              "      <td>0.100977</td>\n",
              "      <td>0.100977</td>\n",
              "      <td>0.111826</td>\n",
              "      <td>0.119058</td>\n",
              "      <td>0.129002</td>\n",
              "      <td>0.149794</td>\n",
              "      <td>0.157026</td>\n",
              "      <td>0.175107</td>\n",
              "      <td>0.188486</td>\n",
              "      <td>0.209459</td>\n",
              "      <td>0.224376</td>\n",
              "      <td>0.209459</td>\n",
              "      <td>0.225008</td>\n",
              "      <td>0.238388</td>\n",
              "      <td>0.247428</td>\n",
              "      <td>2.356329</td>\n",
              "      <td>2.326889</td>\n",
              "      <td>1.921656</td>\n",
              "      <td>1.895211</td>\n",
              "      <td>2.306349</td>\n",
              "      <td>2.140319</td>\n",
              "      <td>1.999964</td>\n",
              "      <td>1.830510</td>\n",
              "      <td>2.005099</td>\n",
              "      <td>1.858753</td>\n",
              "      <td>1.860293</td>\n",
              "      <td>1.826659</td>\n",
              "      <td>1.794566</td>\n",
              "      <td>1.768891</td>\n",
              "      <td>1.768891</td>\n",
              "      <td>1.722676</td>\n",
              "      <td>1.717541</td>\n",
              "      <td>1.738081</td>\n",
              "      <td>1.768891</td>\n",
              "      <td>1.815105</td>\n",
              "      <td>0.489510</td>\n",
              "      <td>0.518993</td>\n",
              "      <td>0.535167</td>\n",
              "      <td>0.548689</td>\n",
              "      <td>0.583687</td>\n",
              "      <td>0.609140</td>\n",
              "      <td>0.605959</td>\n",
              "      <td>0.625685</td>\n",
              "      <td>0.644139</td>\n",
              "      <td>0.664024</td>\n",
              "      <td>0.691863</td>\n",
              "      <td>0.717317</td>\n",
              "      <td>0.759739</td>\n",
              "      <td>0.782222</td>\n",
              "      <td>0.809585</td>\n",
              "      <td>0.870036</td>\n",
              "      <td>0.905034</td>\n",
              "      <td>0.926033</td>\n",
              "      <td>0.935260</td>\n",
              "      <td>0.961668</td>\n",
              "    </tr>\n",
              "    <tr>\n",
              "      <th>2</th>\n",
              "      <td>3.059354</td>\n",
              "      <td>3.051978</td>\n",
              "      <td>3.082956</td>\n",
              "      <td>3.088857</td>\n",
              "      <td>3.059354</td>\n",
              "      <td>3.082956</td>\n",
              "      <td>3.082956</td>\n",
              "      <td>3.065255</td>\n",
              "      <td>3.074105</td>\n",
              "      <td>3.029851</td>\n",
              "      <td>3.029851</td>\n",
              "      <td>3.029851</td>\n",
              "      <td>3.029851</td>\n",
              "      <td>3.029851</td>\n",
              "      <td>3.029851</td>\n",
              "      <td>2.931509</td>\n",
              "      <td>2.970846</td>\n",
              "      <td>2.980680</td>\n",
              "      <td>2.970846</td>\n",
              "      <td>2.931509</td>\n",
              "      <td>0.090129</td>\n",
              "      <td>0.071145</td>\n",
              "      <td>0.084705</td>\n",
              "      <td>0.095553</td>\n",
              "      <td>0.100977</td>\n",
              "      <td>0.100977</td>\n",
              "      <td>0.111826</td>\n",
              "      <td>0.119058</td>\n",
              "      <td>0.129002</td>\n",
              "      <td>0.149794</td>\n",
              "      <td>0.157026</td>\n",
              "      <td>0.175107</td>\n",
              "      <td>0.188486</td>\n",
              "      <td>0.209459</td>\n",
              "      <td>0.224376</td>\n",
              "      <td>0.209459</td>\n",
              "      <td>0.225008</td>\n",
              "      <td>0.238388</td>\n",
              "      <td>0.247428</td>\n",
              "      <td>0.258276</td>\n",
              "      <td>2.326889</td>\n",
              "      <td>1.921656</td>\n",
              "      <td>1.895211</td>\n",
              "      <td>2.306349</td>\n",
              "      <td>2.140319</td>\n",
              "      <td>1.999964</td>\n",
              "      <td>1.830510</td>\n",
              "      <td>2.005099</td>\n",
              "      <td>1.858753</td>\n",
              "      <td>1.860293</td>\n",
              "      <td>1.826659</td>\n",
              "      <td>1.794566</td>\n",
              "      <td>1.768891</td>\n",
              "      <td>1.768891</td>\n",
              "      <td>1.722676</td>\n",
              "      <td>1.717541</td>\n",
              "      <td>1.738081</td>\n",
              "      <td>1.768891</td>\n",
              "      <td>1.815105</td>\n",
              "      <td>1.768891</td>\n",
              "      <td>0.518993</td>\n",
              "      <td>0.535167</td>\n",
              "      <td>0.548689</td>\n",
              "      <td>0.583687</td>\n",
              "      <td>0.609140</td>\n",
              "      <td>0.605959</td>\n",
              "      <td>0.625685</td>\n",
              "      <td>0.644139</td>\n",
              "      <td>0.664024</td>\n",
              "      <td>0.691863</td>\n",
              "      <td>0.717317</td>\n",
              "      <td>0.759739</td>\n",
              "      <td>0.782222</td>\n",
              "      <td>0.809585</td>\n",
              "      <td>0.870036</td>\n",
              "      <td>0.905034</td>\n",
              "      <td>0.926033</td>\n",
              "      <td>0.935260</td>\n",
              "      <td>0.961668</td>\n",
              "      <td>0.990939</td>\n",
              "    </tr>\n",
              "    <tr>\n",
              "      <th>3</th>\n",
              "      <td>3.051978</td>\n",
              "      <td>3.082956</td>\n",
              "      <td>3.088857</td>\n",
              "      <td>3.059354</td>\n",
              "      <td>3.082956</td>\n",
              "      <td>3.082956</td>\n",
              "      <td>3.065255</td>\n",
              "      <td>3.074105</td>\n",
              "      <td>3.029851</td>\n",
              "      <td>3.029851</td>\n",
              "      <td>3.029851</td>\n",
              "      <td>3.029851</td>\n",
              "      <td>3.029851</td>\n",
              "      <td>3.029851</td>\n",
              "      <td>2.931509</td>\n",
              "      <td>2.970846</td>\n",
              "      <td>2.980680</td>\n",
              "      <td>2.970846</td>\n",
              "      <td>2.931509</td>\n",
              "      <td>2.931509</td>\n",
              "      <td>0.071145</td>\n",
              "      <td>0.084705</td>\n",
              "      <td>0.095553</td>\n",
              "      <td>0.100977</td>\n",
              "      <td>0.100977</td>\n",
              "      <td>0.111826</td>\n",
              "      <td>0.119058</td>\n",
              "      <td>0.129002</td>\n",
              "      <td>0.149794</td>\n",
              "      <td>0.157026</td>\n",
              "      <td>0.175107</td>\n",
              "      <td>0.188486</td>\n",
              "      <td>0.209459</td>\n",
              "      <td>0.224376</td>\n",
              "      <td>0.209459</td>\n",
              "      <td>0.225008</td>\n",
              "      <td>0.238388</td>\n",
              "      <td>0.247428</td>\n",
              "      <td>0.258276</td>\n",
              "      <td>0.272017</td>\n",
              "      <td>1.921656</td>\n",
              "      <td>1.895211</td>\n",
              "      <td>2.306349</td>\n",
              "      <td>2.140319</td>\n",
              "      <td>1.999964</td>\n",
              "      <td>1.830510</td>\n",
              "      <td>2.005099</td>\n",
              "      <td>1.858753</td>\n",
              "      <td>1.860293</td>\n",
              "      <td>1.826659</td>\n",
              "      <td>1.794566</td>\n",
              "      <td>1.768891</td>\n",
              "      <td>1.768891</td>\n",
              "      <td>1.722676</td>\n",
              "      <td>1.717541</td>\n",
              "      <td>1.738081</td>\n",
              "      <td>1.768891</td>\n",
              "      <td>1.815105</td>\n",
              "      <td>1.768891</td>\n",
              "      <td>1.945533</td>\n",
              "      <td>0.535167</td>\n",
              "      <td>0.548689</td>\n",
              "      <td>0.583687</td>\n",
              "      <td>0.609140</td>\n",
              "      <td>0.605959</td>\n",
              "      <td>0.625685</td>\n",
              "      <td>0.644139</td>\n",
              "      <td>0.664024</td>\n",
              "      <td>0.691863</td>\n",
              "      <td>0.717317</td>\n",
              "      <td>0.759739</td>\n",
              "      <td>0.782222</td>\n",
              "      <td>0.809585</td>\n",
              "      <td>0.870036</td>\n",
              "      <td>0.905034</td>\n",
              "      <td>0.926033</td>\n",
              "      <td>0.935260</td>\n",
              "      <td>0.961668</td>\n",
              "      <td>0.990939</td>\n",
              "      <td>1.013847</td>\n",
              "    </tr>\n",
              "    <tr>\n",
              "      <th>4</th>\n",
              "      <td>3.082956</td>\n",
              "      <td>3.088857</td>\n",
              "      <td>3.059354</td>\n",
              "      <td>3.082956</td>\n",
              "      <td>3.082956</td>\n",
              "      <td>3.065255</td>\n",
              "      <td>3.074105</td>\n",
              "      <td>3.029851</td>\n",
              "      <td>3.029851</td>\n",
              "      <td>3.029851</td>\n",
              "      <td>3.029851</td>\n",
              "      <td>3.029851</td>\n",
              "      <td>3.029851</td>\n",
              "      <td>2.931509</td>\n",
              "      <td>2.970846</td>\n",
              "      <td>2.980680</td>\n",
              "      <td>2.970846</td>\n",
              "      <td>2.931509</td>\n",
              "      <td>2.931509</td>\n",
              "      <td>2.931509</td>\n",
              "      <td>0.084705</td>\n",
              "      <td>0.095553</td>\n",
              "      <td>0.100977</td>\n",
              "      <td>0.100977</td>\n",
              "      <td>0.111826</td>\n",
              "      <td>0.119058</td>\n",
              "      <td>0.129002</td>\n",
              "      <td>0.149794</td>\n",
              "      <td>0.157026</td>\n",
              "      <td>0.175107</td>\n",
              "      <td>0.188486</td>\n",
              "      <td>0.209459</td>\n",
              "      <td>0.224376</td>\n",
              "      <td>0.209459</td>\n",
              "      <td>0.225008</td>\n",
              "      <td>0.238388</td>\n",
              "      <td>0.247428</td>\n",
              "      <td>0.258276</td>\n",
              "      <td>0.272017</td>\n",
              "      <td>0.281781</td>\n",
              "      <td>1.895211</td>\n",
              "      <td>2.306349</td>\n",
              "      <td>2.140319</td>\n",
              "      <td>1.999964</td>\n",
              "      <td>1.830510</td>\n",
              "      <td>2.005099</td>\n",
              "      <td>1.858753</td>\n",
              "      <td>1.860293</td>\n",
              "      <td>1.826659</td>\n",
              "      <td>1.794566</td>\n",
              "      <td>1.768891</td>\n",
              "      <td>1.768891</td>\n",
              "      <td>1.722676</td>\n",
              "      <td>1.717541</td>\n",
              "      <td>1.738081</td>\n",
              "      <td>1.768891</td>\n",
              "      <td>1.815105</td>\n",
              "      <td>1.768891</td>\n",
              "      <td>1.945533</td>\n",
              "      <td>2.108825</td>\n",
              "      <td>0.548689</td>\n",
              "      <td>0.583687</td>\n",
              "      <td>0.609140</td>\n",
              "      <td>0.605959</td>\n",
              "      <td>0.625685</td>\n",
              "      <td>0.644139</td>\n",
              "      <td>0.664024</td>\n",
              "      <td>0.691863</td>\n",
              "      <td>0.717317</td>\n",
              "      <td>0.759739</td>\n",
              "      <td>0.782222</td>\n",
              "      <td>0.809585</td>\n",
              "      <td>0.870036</td>\n",
              "      <td>0.905034</td>\n",
              "      <td>0.926033</td>\n",
              "      <td>0.935260</td>\n",
              "      <td>0.961668</td>\n",
              "      <td>0.990939</td>\n",
              "      <td>1.013847</td>\n",
              "      <td>1.027210</td>\n",
              "    </tr>\n",
              "  </tbody>\n",
              "</table>\n",
              "</div>"
            ],
            "text/plain": [
              "   Temperature(t+0)  Temperature(t+1)  ...  CO2(t+18)  CO2(t+19)\n",
              "0          3.029851          3.047553  ...   0.926033   0.935260\n",
              "1          3.047553          3.059354  ...   0.935260   0.961668\n",
              "2          3.059354          3.051978  ...   0.961668   0.990939\n",
              "3          3.051978          3.082956  ...   0.990939   1.013847\n",
              "4          3.082956          3.088857  ...   1.013847   1.027210\n",
              "\n",
              "[5 rows x 80 columns]"
            ]
          },
          "metadata": {
            "tags": []
          },
          "execution_count": 91
        }
      ]
    },
    {
      "cell_type": "code",
      "metadata": {
        "id": "qb62_t_sTHGE",
        "colab_type": "code",
        "outputId": "24cb58a5-da68-43ef-c0d8-0d64bdd0389e",
        "colab": {
          "base_uri": "https://localhost:8080/",
          "height": 50
        }
      },
      "source": [
        "print('X_train_shape =',X_train.shape, '\\nX_test_shape =',X_test.shape)"
      ],
      "execution_count": 0,
      "outputs": [
        {
          "output_type": "stream",
          "text": [
            "X_train_shape = (8124, 80) \n",
            "X_test_shape = (2646, 80)\n"
          ],
          "name": "stdout"
        }
      ]
    },
    {
      "cell_type": "code",
      "metadata": {
        "id": "uIam1iE48Tx_",
        "colab_type": "code",
        "colab": {}
      },
      "source": [
        "X_train = np.array(X_train).reshape((-1,20,4))\n",
        "X_test = np.array(X_test).reshape((-1,20,4))"
      ],
      "execution_count": 0,
      "outputs": []
    },
    {
      "cell_type": "code",
      "metadata": {
        "id": "JBJSq_ty8e7l",
        "colab_type": "code",
        "outputId": "fe57c65c-f53f-4ecc-adf6-9ebb45d22076",
        "colab": {
          "base_uri": "https://localhost:8080/",
          "height": 50
        }
      },
      "source": [
        "print('X_train_shape =',X_train.shape, '\\nX_test_shape =',X_test.shape)"
      ],
      "execution_count": 0,
      "outputs": [
        {
          "output_type": "stream",
          "text": [
            "X_train_shape = (8124, 20, 4) \n",
            "X_test_shape = (2646, 20, 4)\n"
          ],
          "name": "stdout"
        }
      ]
    },
    {
      "cell_type": "markdown",
      "metadata": {
        "id": "nH0tX6XrTaag",
        "colab_type": "text"
      },
      "source": [
        "Ahora pasemos a seleccionar las etiquetas"
      ]
    },
    {
      "cell_type": "code",
      "metadata": {
        "id": "ND3PEeQiBS2a",
        "colab_type": "code",
        "colab": {}
      },
      "source": [
        "y_train = data_train.iloc[:X_train.shape[0],-1]\n",
        "y_test = data_test.iloc[:X_test.shape[0],-1]"
      ],
      "execution_count": 0,
      "outputs": []
    },
    {
      "cell_type": "code",
      "metadata": {
        "id": "QFt8GD53T3tH",
        "colab_type": "code",
        "outputId": "3d9c41a3-0cf3-488f-e9b7-80b47b2e6743",
        "colab": {
          "base_uri": "https://localhost:8080/",
          "height": 50
        }
      },
      "source": [
        "print('y_train_shape =',y_train.shape, '\\ny_test_shape =',y_test.shape)"
      ],
      "execution_count": 0,
      "outputs": [
        {
          "output_type": "stream",
          "text": [
            "y_train_shape = (8124,) \n",
            "y_test_shape = (2646,)\n"
          ],
          "name": "stdout"
        }
      ]
    },
    {
      "cell_type": "code",
      "metadata": {
        "id": "JbLNqiWYFDAr",
        "colab_type": "code",
        "outputId": "b457623e-88e4-4f15-c0e8-b1689ef483f0",
        "colab": {
          "base_uri": "https://localhost:8080/",
          "height": 296
        }
      },
      "source": [
        "sns.countplot(y_test)"
      ],
      "execution_count": 0,
      "outputs": [
        {
          "output_type": "execute_result",
          "data": {
            "text/plain": [
              "<matplotlib.axes._subplots.AxesSubplot at 0x7f485b4532e8>"
            ]
          },
          "metadata": {
            "tags": []
          },
          "execution_count": 97
        },
        {
          "output_type": "display_data",
          "data": {
            "image/png": "[encoded data removed]",
            "text/plain": [
              "<Figure size 432x288 with 1 Axes>"
            ]
          },
          "metadata": {
            "tags": []
          }
        }
      ]
    },
    {
      "cell_type": "markdown",
      "metadata": {
        "id": "kFppKSW6UOMa",
        "colab_type": "text"
      },
      "source": [
        "Ahora procedamos a crear nuestro modelo LSTM"
      ]
    },
    {
      "cell_type": "code",
      "metadata": {
        "id": "ZRDBhQi-G-HT",
        "colab_type": "code",
        "colab": {}
      },
      "source": [
        "keras.backend.clear_session()"
      ],
      "execution_count": 0,
      "outputs": []
    },
    {
      "cell_type": "code",
      "metadata": {
        "id": "MgE1WmY_Dd3m",
        "colab_type": "code",
        "colab": {}
      },
      "source": [
        "model = keras.models.Sequential([\n",
        "                                 keras.layers.LSTM(5, return_sequences=True, input_shape=[None, 4]),\n",
        "                                 keras.layers.LSTM(5),\n",
        "                                 keras.layers.Dense(1, activation='sigmoid')\n",
        "])"
      ],
      "execution_count": 0,
      "outputs": []
    },
    {
      "cell_type": "code",
      "metadata": {
        "id": "fHOdUTw8D_KJ",
        "colab_type": "code",
        "colab": {}
      },
      "source": [
        "model.compile(loss='binary_crossentropy', optimizer='adam', metrics=[keras.metrics.AUC(num_thresholds=200)])"
      ],
      "execution_count": 0,
      "outputs": []
    },
    {
      "cell_type": "code",
      "metadata": {
        "id": "U18rtX4pEKr2",
        "colab_type": "code",
        "outputId": "850fe217-a32e-4d8a-c8a7-77552eb45439",
        "colab": {
          "base_uri": "https://localhost:8080/",
          "height": 218
        }
      },
      "source": [
        "model.fit(X_train,y_train, epochs=5, batch_size=32, validation_data=(X_test,y_test))"
      ],
      "execution_count": 0,
      "outputs": [
        {
          "output_type": "stream",
          "text": [
            "Train on 8124 samples, validate on 2646 samples\n",
            "Epoch 1/5\n",
            "8124/8124 [==============================] - 9s 1ms/sample - loss: 0.2883 - auc: 0.9751 - val_loss: 0.2071 - val_auc: 0.9879\n",
            "Epoch 2/5\n",
            "8124/8124 [==============================] - 8s 1ms/sample - loss: 0.1246 - auc: 0.9893 - val_loss: 0.1596 - val_auc: 0.9891\n",
            "Epoch 3/5\n",
            "8124/8124 [==============================] - 8s 985us/sample - loss: 0.0939 - auc: 0.9918 - val_loss: 0.1314 - val_auc: 0.9903\n",
            "Epoch 4/5\n",
            "8124/8124 [==============================] - 8s 980us/sample - loss: 0.0794 - auc: 0.9935 - val_loss: 0.1180 - val_auc: 0.9920\n",
            "Epoch 5/5\n",
            "8124/8124 [==============================] - 8s 989us/sample - loss: 0.0707 - auc: 0.9958 - val_loss: 0.1103 - val_auc: 0.9930\n"
          ],
          "name": "stdout"
        },
        {
          "output_type": "execute_result",
          "data": {
            "text/plain": [
              "<tensorflow.python.keras.callbacks.History at 0x7f484ce79748>"
            ]
          },
          "metadata": {
            "tags": []
          },
          "execution_count": 123
        }
      ]
    },
    {
      "cell_type": "code",
      "metadata": {
        "id": "imXGV9vFUMP9",
        "colab_type": "code",
        "colab": {}
      },
      "source": [
        ""
      ],
      "execution_count": 0,
      "outputs": []
    }
  ]
}