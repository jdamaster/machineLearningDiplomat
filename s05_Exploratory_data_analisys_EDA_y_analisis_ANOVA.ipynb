{
  "nbformat": 4,
  "nbformat_minor": 0,
  "metadata": {
    "kernelspec": {
      "display_name": "Python 3",
      "language": "python",
      "name": "python3"
    },
    "language_info": {
      "codemirror_mode": {
        "name": "ipython",
        "version": 3
      },
      "file_extension": ".py",
      "mimetype": "text/x-python",
      "name": "python",
      "nbconvert_exporter": "python",
      "pygments_lexer": "ipython3",
      "version": "3.7.1"
    },
    "colab": {
      "name": "s05_Exploratory data analisys EDA y analisis ANOVA.ipynb",
      "provenance": [],
      "collapsed_sections": [
        "E-pPemhgmxkG"
      ],
      "include_colab_link": true
    }
  },
  "cells": [
    {
      "cell_type": "markdown",
      "metadata": {
        "id": "view-in-github",
        "colab_type": "text"
      },
      "source": [
        "<a href=\"https://colab.research.google.com/github/jdamaster/machineLearningDiplomat/blob/master/s05_Exploratory_data_analisys_EDA_y_analisis_ANOVA.ipynb\" target=\"_parent\"><img src=\"https://colab.research.google.com/assets/colab-badge.svg\" alt=\"Open In Colab\"/></a>"
      ]
    },
    {
      "cell_type": "markdown",
      "metadata": {
        "id": "ll773pFtmxek",
        "colab_type": "text"
      },
      "source": [
        "<p><img alt=\"Colaboratory logo\" height=\"140px\" src=\"https://upload.wikimedia.org/wikipedia/commons/archive/f/fb/20161010213812%21Escudo-UdeA.svg\" align=\"left\" hspace=\"10px\" vspace=\"0px\"></p>\n",
        "\n",
        "<h1> Diplomado de Análisis de datos y Machine Learning en Python</h1>\n",
        "\n",
        "\n",
        "El presente diplomado hace parte del centro de Big Data de la facultad de ciencias exactas y naturales (FCEN) de la Universidad de Antioquia."
      ]
    },
    {
      "cell_type": "markdown",
      "metadata": {
        "id": "NxliSzo0mxeq",
        "colab_type": "text"
      },
      "source": [
        "<p><a name=\"contents\"></a></p>\n",
        "\n",
        "# Contenido Sesión 4: Análisis exploratorio:\n",
        "\n",
        "- <a href=\"#intro\">1. Introducción</a><br>\n",
        "- <a href=\"#eStat\">2. Estadística descriptiva.</a><br>\n",
        "    - <a href=\"#des_count\">2.1. Métodos <code>.describe()</code> y <code>count_values()</code>.</a><br>\n",
        "    - <a href=\"#bPlot\">2.2. Box Plots.</a><br>\n",
        "    - <a href=\"#sPlot\">2.3. Scatter Plots.</a><br>\n",
        "    - <a href=\"#hmaps\">2.1. Groupby y Heatmaps.</a><br>\n",
        "- <a href=#corr> 3. Correlación\n",
        "- <a href=\"#anova\"> 4. Análisis de varianzas (ANOVA).  \n",
        "  - <a href=\"#modelado\">4.1. ANOVA para creación de modelos.</a><br>\n",
        "  - <a href=\"#Reducción dimensional\">4.2. ANOVA para la reducción dimensional.</a><br>"
      ]
    },
    {
      "cell_type": "markdown",
      "metadata": {
        "id": "NdK13yJ5mxeu",
        "colab_type": "text"
      },
      "source": [
        "<p><a name=\"intro\"></a></p>\n",
        "\n",
        "## Introducción:\n",
        "\n",
        "El análisis exploratorio de datos (EDA del inglés Exploratory Data Analysis) se realiza con el fin de:\n",
        "\n",
        "<ol>\n",
        "  <li>Resumir las principales características del conjunto de datos.</li>\n",
        "  <li>Entender mejor el conjunto de datos que se está tratando.</li>\n",
        "  <li>Establecer relaciones entre variables.</li>\n",
        "  <li>Determinar si una variables es un buen predictor de una variable blanco.</li>\n",
        "  <li>Extraer las variables más importantes.</li>\n",
        "</ol>\n",
        "\n",
        "**Objetivo:** Determinar las características que más impactan en lo que se busca establecer.\n",
        "\n",
        "Para abordar el análisis exploratorio de datos, es útil aplicar las siguientes técnicas que abordaremos en el presente notebook:\n",
        "\n",
        "<ol>\n",
        "  <li> Estadística descriptiva</li>\n",
        "  <li> Agrupamiento: Método GroupBy()</li>  \n",
        "  <li> Correlación de Pearson</li>\n",
        "  <li> Mapas de correlación</li>\n",
        "  <li> Análisis de variaciones: Anova</li>\n",
        "</ol>\n",
        "\n",
        "En primer lugar, carguemos el dataset de caractarísticas de carros que vamos a analizar."
      ]
    },
    {
      "cell_type": "code",
      "metadata": {
        "id": "d6toM2ynmxez",
        "colab_type": "code",
        "colab": {}
      },
      "source": [
        "import pandas as pd\n",
        "import numpy as np\n",
        "\n",
        "archivo = 'https://s3-api.us-geo.objectstorage.softlayer.net/cf-courses-data/CognitiveClass/DA0101EN/automobileEDA.csv'\n",
        "df = pd.read_csv(archivo)"
      ],
      "execution_count": 0,
      "outputs": []
    },
    {
      "cell_type": "code",
      "metadata": {
        "id": "0ELSmHcFmxfE",
        "colab_type": "code",
        "outputId": "e4dec21a-f7fc-463c-c960-e6c7cb07f2ea",
        "colab": {
          "base_uri": "https://localhost:8080/",
          "height": 301
        }
      },
      "source": [
        "#Apariencia de la tabla de datos\n",
        "df.head()"
      ],
      "execution_count": 0,
      "outputs": [
        {
          "output_type": "execute_result",
          "data": {
            "text/html": [
              "<div>\n",
              "<style scoped>\n",
              "    .dataframe tbody tr th:only-of-type {\n",
              "        vertical-align: middle;\n",
              "    }\n",
              "\n",
              "    .dataframe tbody tr th {\n",
              "        vertical-align: top;\n",
              "    }\n",
              "\n",
              "    .dataframe thead th {\n",
              "        text-align: right;\n",
              "    }\n",
              "</style>\n",
              "<table border=\"1\" class=\"dataframe\">\n",
              "  <thead>\n",
              "    <tr style=\"text-align: right;\">\n",
              "      <th></th>\n",
              "      <th>symboling</th>\n",
              "      <th>normalized-losses</th>\n",
              "      <th>make</th>\n",
              "      <th>aspiration</th>\n",
              "      <th>num-of-doors</th>\n",
              "      <th>body-style</th>\n",
              "      <th>drive-wheels</th>\n",
              "      <th>engine-location</th>\n",
              "      <th>wheel-base</th>\n",
              "      <th>length</th>\n",
              "      <th>width</th>\n",
              "      <th>height</th>\n",
              "      <th>curb-weight</th>\n",
              "      <th>engine-type</th>\n",
              "      <th>num-of-cylinders</th>\n",
              "      <th>engine-size</th>\n",
              "      <th>fuel-system</th>\n",
              "      <th>bore</th>\n",
              "      <th>stroke</th>\n",
              "      <th>compression-ratio</th>\n",
              "      <th>horsepower</th>\n",
              "      <th>peak-rpm</th>\n",
              "      <th>city-mpg</th>\n",
              "      <th>highway-mpg</th>\n",
              "      <th>price</th>\n",
              "      <th>city-L/100km</th>\n",
              "      <th>horsepower-binned</th>\n",
              "      <th>diesel</th>\n",
              "      <th>gas</th>\n",
              "    </tr>\n",
              "  </thead>\n",
              "  <tbody>\n",
              "    <tr>\n",
              "      <th>0</th>\n",
              "      <td>3</td>\n",
              "      <td>122</td>\n",
              "      <td>alfa-romero</td>\n",
              "      <td>std</td>\n",
              "      <td>two</td>\n",
              "      <td>convertible</td>\n",
              "      <td>rwd</td>\n",
              "      <td>front</td>\n",
              "      <td>88.6</td>\n",
              "      <td>0.811148</td>\n",
              "      <td>0.890278</td>\n",
              "      <td>48.8</td>\n",
              "      <td>2548</td>\n",
              "      <td>dohc</td>\n",
              "      <td>four</td>\n",
              "      <td>130</td>\n",
              "      <td>mpfi</td>\n",
              "      <td>3.47</td>\n",
              "      <td>2.68</td>\n",
              "      <td>9.0</td>\n",
              "      <td>111.0</td>\n",
              "      <td>5000.0</td>\n",
              "      <td>21</td>\n",
              "      <td>27</td>\n",
              "      <td>13495.0</td>\n",
              "      <td>11.190476</td>\n",
              "      <td>Medium</td>\n",
              "      <td>0</td>\n",
              "      <td>1</td>\n",
              "    </tr>\n",
              "    <tr>\n",
              "      <th>1</th>\n",
              "      <td>3</td>\n",
              "      <td>122</td>\n",
              "      <td>alfa-romero</td>\n",
              "      <td>std</td>\n",
              "      <td>two</td>\n",
              "      <td>convertible</td>\n",
              "      <td>rwd</td>\n",
              "      <td>front</td>\n",
              "      <td>88.6</td>\n",
              "      <td>0.811148</td>\n",
              "      <td>0.890278</td>\n",
              "      <td>48.8</td>\n",
              "      <td>2548</td>\n",
              "      <td>dohc</td>\n",
              "      <td>four</td>\n",
              "      <td>130</td>\n",
              "      <td>mpfi</td>\n",
              "      <td>3.47</td>\n",
              "      <td>2.68</td>\n",
              "      <td>9.0</td>\n",
              "      <td>111.0</td>\n",
              "      <td>5000.0</td>\n",
              "      <td>21</td>\n",
              "      <td>27</td>\n",
              "      <td>16500.0</td>\n",
              "      <td>11.190476</td>\n",
              "      <td>Medium</td>\n",
              "      <td>0</td>\n",
              "      <td>1</td>\n",
              "    </tr>\n",
              "    <tr>\n",
              "      <th>2</th>\n",
              "      <td>1</td>\n",
              "      <td>122</td>\n",
              "      <td>alfa-romero</td>\n",
              "      <td>std</td>\n",
              "      <td>two</td>\n",
              "      <td>hatchback</td>\n",
              "      <td>rwd</td>\n",
              "      <td>front</td>\n",
              "      <td>94.5</td>\n",
              "      <td>0.822681</td>\n",
              "      <td>0.909722</td>\n",
              "      <td>52.4</td>\n",
              "      <td>2823</td>\n",
              "      <td>ohcv</td>\n",
              "      <td>six</td>\n",
              "      <td>152</td>\n",
              "      <td>mpfi</td>\n",
              "      <td>2.68</td>\n",
              "      <td>3.47</td>\n",
              "      <td>9.0</td>\n",
              "      <td>154.0</td>\n",
              "      <td>5000.0</td>\n",
              "      <td>19</td>\n",
              "      <td>26</td>\n",
              "      <td>16500.0</td>\n",
              "      <td>12.368421</td>\n",
              "      <td>Medium</td>\n",
              "      <td>0</td>\n",
              "      <td>1</td>\n",
              "    </tr>\n",
              "    <tr>\n",
              "      <th>3</th>\n",
              "      <td>2</td>\n",
              "      <td>164</td>\n",
              "      <td>audi</td>\n",
              "      <td>std</td>\n",
              "      <td>four</td>\n",
              "      <td>sedan</td>\n",
              "      <td>fwd</td>\n",
              "      <td>front</td>\n",
              "      <td>99.8</td>\n",
              "      <td>0.848630</td>\n",
              "      <td>0.919444</td>\n",
              "      <td>54.3</td>\n",
              "      <td>2337</td>\n",
              "      <td>ohc</td>\n",
              "      <td>four</td>\n",
              "      <td>109</td>\n",
              "      <td>mpfi</td>\n",
              "      <td>3.19</td>\n",
              "      <td>3.40</td>\n",
              "      <td>10.0</td>\n",
              "      <td>102.0</td>\n",
              "      <td>5500.0</td>\n",
              "      <td>24</td>\n",
              "      <td>30</td>\n",
              "      <td>13950.0</td>\n",
              "      <td>9.791667</td>\n",
              "      <td>Medium</td>\n",
              "      <td>0</td>\n",
              "      <td>1</td>\n",
              "    </tr>\n",
              "    <tr>\n",
              "      <th>4</th>\n",
              "      <td>2</td>\n",
              "      <td>164</td>\n",
              "      <td>audi</td>\n",
              "      <td>std</td>\n",
              "      <td>four</td>\n",
              "      <td>sedan</td>\n",
              "      <td>4wd</td>\n",
              "      <td>front</td>\n",
              "      <td>99.4</td>\n",
              "      <td>0.848630</td>\n",
              "      <td>0.922222</td>\n",
              "      <td>54.3</td>\n",
              "      <td>2824</td>\n",
              "      <td>ohc</td>\n",
              "      <td>five</td>\n",
              "      <td>136</td>\n",
              "      <td>mpfi</td>\n",
              "      <td>3.19</td>\n",
              "      <td>3.40</td>\n",
              "      <td>8.0</td>\n",
              "      <td>115.0</td>\n",
              "      <td>5500.0</td>\n",
              "      <td>18</td>\n",
              "      <td>22</td>\n",
              "      <td>17450.0</td>\n",
              "      <td>13.055556</td>\n",
              "      <td>Medium</td>\n",
              "      <td>0</td>\n",
              "      <td>1</td>\n",
              "    </tr>\n",
              "  </tbody>\n",
              "</table>\n",
              "</div>"
            ],
            "text/plain": [
              "   symboling  normalized-losses         make  ... horsepower-binned diesel gas\n",
              "0          3                122  alfa-romero  ...            Medium      0   1\n",
              "1          3                122  alfa-romero  ...            Medium      0   1\n",
              "2          1                122  alfa-romero  ...            Medium      0   1\n",
              "3          2                164         audi  ...            Medium      0   1\n",
              "4          2                164         audi  ...            Medium      0   1\n",
              "\n",
              "[5 rows x 29 columns]"
            ]
          },
          "metadata": {
            "tags": []
          },
          "execution_count": 2
        }
      ]
    },
    {
      "cell_type": "code",
      "metadata": {
        "id": "mfLyOApLmxfT",
        "colab_type": "code",
        "outputId": "ba4cc009-7326-422d-9ad9-f1dc1b4684a1",
        "colab": {
          "base_uri": "https://localhost:8080/",
          "height": 516
        }
      },
      "source": [
        "df.isna().sum()"
      ],
      "execution_count": 0,
      "outputs": [
        {
          "output_type": "execute_result",
          "data": {
            "text/plain": [
              "symboling            0\n",
              "normalized-losses    0\n",
              "make                 0\n",
              "aspiration           0\n",
              "num-of-doors         0\n",
              "body-style           0\n",
              "drive-wheels         0\n",
              "engine-location      0\n",
              "wheel-base           0\n",
              "length               0\n",
              "width                0\n",
              "height               0\n",
              "curb-weight          0\n",
              "engine-type          0\n",
              "num-of-cylinders     0\n",
              "engine-size          0\n",
              "fuel-system          0\n",
              "bore                 0\n",
              "stroke               4\n",
              "compression-ratio    0\n",
              "horsepower           0\n",
              "peak-rpm             0\n",
              "city-mpg             0\n",
              "highway-mpg          0\n",
              "price                0\n",
              "city-L/100km         0\n",
              "horsepower-binned    1\n",
              "diesel               0\n",
              "gas                  0\n",
              "dtype: int64"
            ]
          },
          "metadata": {
            "tags": []
          },
          "execution_count": 3
        }
      ]
    },
    {
      "cell_type": "code",
      "metadata": {
        "id": "9Y7Js--amxfh",
        "colab_type": "code",
        "outputId": "1f75111d-b8f8-45ee-c95c-aa3416e0019b",
        "colab": {
          "base_uri": "https://localhost:8080/",
          "height": 516
        }
      },
      "source": [
        "df.dtypes"
      ],
      "execution_count": 0,
      "outputs": [
        {
          "output_type": "execute_result",
          "data": {
            "text/plain": [
              "symboling              int64\n",
              "normalized-losses      int64\n",
              "make                  object\n",
              "aspiration            object\n",
              "num-of-doors          object\n",
              "body-style            object\n",
              "drive-wheels          object\n",
              "engine-location       object\n",
              "wheel-base           float64\n",
              "length               float64\n",
              "width                float64\n",
              "height               float64\n",
              "curb-weight            int64\n",
              "engine-type           object\n",
              "num-of-cylinders      object\n",
              "engine-size            int64\n",
              "fuel-system           object\n",
              "bore                 float64\n",
              "stroke               float64\n",
              "compression-ratio    float64\n",
              "horsepower           float64\n",
              "peak-rpm             float64\n",
              "city-mpg               int64\n",
              "highway-mpg            int64\n",
              "price                float64\n",
              "city-L/100km         float64\n",
              "horsepower-binned     object\n",
              "diesel                 int64\n",
              "gas                    int64\n",
              "dtype: object"
            ]
          },
          "metadata": {
            "tags": []
          },
          "execution_count": 4
        }
      ]
    },
    {
      "cell_type": "markdown",
      "metadata": {
        "id": "7-TVAEAtmxfv",
        "colab_type": "text"
      },
      "source": [
        "<p><a name=\"eStat\"></a></p>\n",
        "\n",
        "## Estadística descriptiva:\n",
        "\n",
        "[[Contenidos]](#contents)\n",
        "\n",
        "Antes de ponernos en la tarea de construir un modelo que pretenda predecir alguna característica del conjunto de datos, es importante realizar una exploración de los datos. La **estadística descriptiva** nos permite explorar los datos con el propósito de hallar las características principales, mediante la implementación de gráficas y el cálculo de algunas variable estadísticas. Para este fín, en Python, podemos hacer uso de:\n",
        "\n",
        "<ol>\n",
        "  <li>Métodos: <code>.describe()</code>, el cual permite obtener un resumen estadístico de las <b>variables numéricas</b> en <code>pandas</code>, o la función <code>.value_counts()</code>, la cual permite contabilizar variables categóricas .</li>\n",
        "    <li>Box plots. </li>\n",
        "    <li>Gráficos de dispersión. </li>\n",
        "</ol>"
      ]
    },
    {
      "cell_type": "markdown",
      "metadata": {
        "id": "HA5hcsZwmxf0",
        "colab_type": "text"
      },
      "source": [
        "<p><a name=\"des_count\"></a></p>\n",
        "\n",
        "### 2.1 Metodos .describe() y .value_counts()"
      ]
    },
    {
      "cell_type": "code",
      "metadata": {
        "id": "MGNmO0Q9mxf4",
        "colab_type": "code",
        "outputId": "ff1bd72c-5136-410d-c025-a1aa316693db",
        "colab": {
          "base_uri": "https://localhost:8080/",
          "height": 324
        }
      },
      "source": [
        "# Para dar una descripción estadística de variables numéricas:\n",
        "df.describe()"
      ],
      "execution_count": 0,
      "outputs": [
        {
          "output_type": "execute_result",
          "data": {
            "text/html": [
              "<div>\n",
              "<style scoped>\n",
              "    .dataframe tbody tr th:only-of-type {\n",
              "        vertical-align: middle;\n",
              "    }\n",
              "\n",
              "    .dataframe tbody tr th {\n",
              "        vertical-align: top;\n",
              "    }\n",
              "\n",
              "    .dataframe thead th {\n",
              "        text-align: right;\n",
              "    }\n",
              "</style>\n",
              "<table border=\"1\" class=\"dataframe\">\n",
              "  <thead>\n",
              "    <tr style=\"text-align: right;\">\n",
              "      <th></th>\n",
              "      <th>symboling</th>\n",
              "      <th>normalized-losses</th>\n",
              "      <th>wheel-base</th>\n",
              "      <th>length</th>\n",
              "      <th>width</th>\n",
              "      <th>height</th>\n",
              "      <th>curb-weight</th>\n",
              "      <th>engine-size</th>\n",
              "      <th>bore</th>\n",
              "      <th>stroke</th>\n",
              "      <th>compression-ratio</th>\n",
              "      <th>horsepower</th>\n",
              "      <th>peak-rpm</th>\n",
              "      <th>city-mpg</th>\n",
              "      <th>highway-mpg</th>\n",
              "      <th>price</th>\n",
              "      <th>city-L/100km</th>\n",
              "      <th>diesel</th>\n",
              "      <th>gas</th>\n",
              "    </tr>\n",
              "  </thead>\n",
              "  <tbody>\n",
              "    <tr>\n",
              "      <th>count</th>\n",
              "      <td>201.000000</td>\n",
              "      <td>201.00000</td>\n",
              "      <td>201.000000</td>\n",
              "      <td>201.000000</td>\n",
              "      <td>201.000000</td>\n",
              "      <td>201.000000</td>\n",
              "      <td>201.000000</td>\n",
              "      <td>201.000000</td>\n",
              "      <td>201.000000</td>\n",
              "      <td>197.000000</td>\n",
              "      <td>201.000000</td>\n",
              "      <td>201.000000</td>\n",
              "      <td>201.000000</td>\n",
              "      <td>201.000000</td>\n",
              "      <td>201.000000</td>\n",
              "      <td>201.000000</td>\n",
              "      <td>201.000000</td>\n",
              "      <td>201.000000</td>\n",
              "      <td>201.000000</td>\n",
              "    </tr>\n",
              "    <tr>\n",
              "      <th>mean</th>\n",
              "      <td>0.840796</td>\n",
              "      <td>122.00000</td>\n",
              "      <td>98.797015</td>\n",
              "      <td>0.837102</td>\n",
              "      <td>0.915126</td>\n",
              "      <td>53.766667</td>\n",
              "      <td>2555.666667</td>\n",
              "      <td>126.875622</td>\n",
              "      <td>3.330692</td>\n",
              "      <td>3.256904</td>\n",
              "      <td>10.164279</td>\n",
              "      <td>103.405534</td>\n",
              "      <td>5117.665368</td>\n",
              "      <td>25.179104</td>\n",
              "      <td>30.686567</td>\n",
              "      <td>13207.129353</td>\n",
              "      <td>9.944145</td>\n",
              "      <td>0.099502</td>\n",
              "      <td>0.900498</td>\n",
              "    </tr>\n",
              "    <tr>\n",
              "      <th>std</th>\n",
              "      <td>1.254802</td>\n",
              "      <td>31.99625</td>\n",
              "      <td>6.066366</td>\n",
              "      <td>0.059213</td>\n",
              "      <td>0.029187</td>\n",
              "      <td>2.447822</td>\n",
              "      <td>517.296727</td>\n",
              "      <td>41.546834</td>\n",
              "      <td>0.268072</td>\n",
              "      <td>0.319256</td>\n",
              "      <td>4.004965</td>\n",
              "      <td>37.365700</td>\n",
              "      <td>478.113805</td>\n",
              "      <td>6.423220</td>\n",
              "      <td>6.815150</td>\n",
              "      <td>7947.066342</td>\n",
              "      <td>2.534599</td>\n",
              "      <td>0.300083</td>\n",
              "      <td>0.300083</td>\n",
              "    </tr>\n",
              "    <tr>\n",
              "      <th>min</th>\n",
              "      <td>-2.000000</td>\n",
              "      <td>65.00000</td>\n",
              "      <td>86.600000</td>\n",
              "      <td>0.678039</td>\n",
              "      <td>0.837500</td>\n",
              "      <td>47.800000</td>\n",
              "      <td>1488.000000</td>\n",
              "      <td>61.000000</td>\n",
              "      <td>2.540000</td>\n",
              "      <td>2.070000</td>\n",
              "      <td>7.000000</td>\n",
              "      <td>48.000000</td>\n",
              "      <td>4150.000000</td>\n",
              "      <td>13.000000</td>\n",
              "      <td>16.000000</td>\n",
              "      <td>5118.000000</td>\n",
              "      <td>4.795918</td>\n",
              "      <td>0.000000</td>\n",
              "      <td>0.000000</td>\n",
              "    </tr>\n",
              "    <tr>\n",
              "      <th>25%</th>\n",
              "      <td>0.000000</td>\n",
              "      <td>101.00000</td>\n",
              "      <td>94.500000</td>\n",
              "      <td>0.801538</td>\n",
              "      <td>0.890278</td>\n",
              "      <td>52.000000</td>\n",
              "      <td>2169.000000</td>\n",
              "      <td>98.000000</td>\n",
              "      <td>3.150000</td>\n",
              "      <td>3.110000</td>\n",
              "      <td>8.600000</td>\n",
              "      <td>70.000000</td>\n",
              "      <td>4800.000000</td>\n",
              "      <td>19.000000</td>\n",
              "      <td>25.000000</td>\n",
              "      <td>7775.000000</td>\n",
              "      <td>7.833333</td>\n",
              "      <td>0.000000</td>\n",
              "      <td>1.000000</td>\n",
              "    </tr>\n",
              "    <tr>\n",
              "      <th>50%</th>\n",
              "      <td>1.000000</td>\n",
              "      <td>122.00000</td>\n",
              "      <td>97.000000</td>\n",
              "      <td>0.832292</td>\n",
              "      <td>0.909722</td>\n",
              "      <td>54.100000</td>\n",
              "      <td>2414.000000</td>\n",
              "      <td>120.000000</td>\n",
              "      <td>3.310000</td>\n",
              "      <td>3.290000</td>\n",
              "      <td>9.000000</td>\n",
              "      <td>95.000000</td>\n",
              "      <td>5125.369458</td>\n",
              "      <td>24.000000</td>\n",
              "      <td>30.000000</td>\n",
              "      <td>10295.000000</td>\n",
              "      <td>9.791667</td>\n",
              "      <td>0.000000</td>\n",
              "      <td>1.000000</td>\n",
              "    </tr>\n",
              "    <tr>\n",
              "      <th>75%</th>\n",
              "      <td>2.000000</td>\n",
              "      <td>137.00000</td>\n",
              "      <td>102.400000</td>\n",
              "      <td>0.881788</td>\n",
              "      <td>0.925000</td>\n",
              "      <td>55.500000</td>\n",
              "      <td>2926.000000</td>\n",
              "      <td>141.000000</td>\n",
              "      <td>3.580000</td>\n",
              "      <td>3.410000</td>\n",
              "      <td>9.400000</td>\n",
              "      <td>116.000000</td>\n",
              "      <td>5500.000000</td>\n",
              "      <td>30.000000</td>\n",
              "      <td>34.000000</td>\n",
              "      <td>16500.000000</td>\n",
              "      <td>12.368421</td>\n",
              "      <td>0.000000</td>\n",
              "      <td>1.000000</td>\n",
              "    </tr>\n",
              "    <tr>\n",
              "      <th>max</th>\n",
              "      <td>3.000000</td>\n",
              "      <td>256.00000</td>\n",
              "      <td>120.900000</td>\n",
              "      <td>1.000000</td>\n",
              "      <td>1.000000</td>\n",
              "      <td>59.800000</td>\n",
              "      <td>4066.000000</td>\n",
              "      <td>326.000000</td>\n",
              "      <td>3.940000</td>\n",
              "      <td>4.170000</td>\n",
              "      <td>23.000000</td>\n",
              "      <td>262.000000</td>\n",
              "      <td>6600.000000</td>\n",
              "      <td>49.000000</td>\n",
              "      <td>54.000000</td>\n",
              "      <td>45400.000000</td>\n",
              "      <td>18.076923</td>\n",
              "      <td>1.000000</td>\n",
              "      <td>1.000000</td>\n",
              "    </tr>\n",
              "  </tbody>\n",
              "</table>\n",
              "</div>"
            ],
            "text/plain": [
              "        symboling  normalized-losses  ...      diesel         gas\n",
              "count  201.000000          201.00000  ...  201.000000  201.000000\n",
              "mean     0.840796          122.00000  ...    0.099502    0.900498\n",
              "std      1.254802           31.99625  ...    0.300083    0.300083\n",
              "min     -2.000000           65.00000  ...    0.000000    0.000000\n",
              "25%      0.000000          101.00000  ...    0.000000    1.000000\n",
              "50%      1.000000          122.00000  ...    0.000000    1.000000\n",
              "75%      2.000000          137.00000  ...    0.000000    1.000000\n",
              "max      3.000000          256.00000  ...    1.000000    1.000000\n",
              "\n",
              "[8 rows x 19 columns]"
            ]
          },
          "metadata": {
            "tags": []
          },
          "execution_count": 5
        }
      ]
    },
    {
      "cell_type": "markdown",
      "metadata": {
        "id": "2fwQoo2AmxgE",
        "colab_type": "text"
      },
      "source": [
        "Por ejemplo, la variable \"drive-wheels\" describe la tracción de los vehiculos consignados en la tabla; son variables categóricas que representan:\n",
        "\n",
        "<ol>\n",
        "    <li>fwd - Front Wheel Drive: Tracción delantera.</li>\n",
        "    <li>rwd - Rear Wheel Drive: Tracción Tracera.</li>\n",
        "    <li>4wd - 4 Wheel Drive: Tracción de cuatro ruedas.</li>\n",
        "</ol>\n",
        "\n",
        "Para contabilizar esta variable usamos el método <code>.value_counts()</code>"
      ]
    },
    {
      "cell_type": "code",
      "metadata": {
        "id": "zGMMFBOrmxgH",
        "colab_type": "code",
        "outputId": "3d70d5bf-5405-4984-be2a-1e5c6a0597ff",
        "colab": {
          "base_uri": "https://localhost:8080/",
          "height": 83
        }
      },
      "source": [
        "# Para contabilizar variables categóricas:\n",
        "df[\"drive-wheels\"].value_counts()"
      ],
      "execution_count": 0,
      "outputs": [
        {
          "output_type": "execute_result",
          "data": {
            "text/plain": [
              "fwd    118\n",
              "rwd     75\n",
              "4wd      8\n",
              "Name: drive-wheels, dtype: int64"
            ]
          },
          "metadata": {
            "tags": []
          },
          "execution_count": 6
        }
      ]
    },
    {
      "cell_type": "code",
      "metadata": {
        "id": "q8ww-k6l_Jzq",
        "colab_type": "code",
        "outputId": "e9f7033d-6b30-4555-df45-5864d63e9b1d",
        "colab": {
          "base_uri": "https://localhost:8080/",
          "height": 271
        }
      },
      "source": [
        "df[\"drive-wheels\"].value_counts().plot(kind = \"pie\", autopct='%1.1f%%')"
      ],
      "execution_count": 0,
      "outputs": [
        {
          "output_type": "execute_result",
          "data": {
            "text/plain": [
              "<matplotlib.axes._subplots.AxesSubplot at 0x7f9c3d0cdcc0>"
            ]
          },
          "metadata": {
            "tags": []
          },
          "execution_count": 7
        },
        {
          "output_type": "display_data",
          "data": {
            "image/png": "[encoded data removed]",
            "text/plain": [
              "<Figure size 432x288 with 1 Axes>"
            ]
          },
          "metadata": {
            "tags": []
          }
        }
      ]
    },
    {
      "cell_type": "markdown",
      "metadata": {
        "id": "gTKY2ky5mxgU",
        "colab_type": "text"
      },
      "source": [
        "<b>Ejercicio</b>: Guarde el número de cuentas por tipo de tracción en un nuevo DataFrame, renombre la columna a \"value_counts\" y establezca el nombre de los índices como \"drive-wheels\".\n",
        "\n",
        "De doble click <b>aquí</b> para ver la solución:\n",
        "\n",
        "<!-- Respuesta:\n",
        "#Definición del dataFrame\n",
        "drive_wheels_counts = df[\"drive-wheels\"].value_counts().to_frame()\n",
        "# Renombramiento de la columna a value_counts\n",
        "drive_wheels_counts.rename(columns={'drive-wheels':'value_counts'},inplace=True)\n",
        "#Renimbramiento de los índices\n",
        "drive_wheels_counts.index.name='drive_wheels'\n",
        "#Visualización del dataFrame:\n",
        "drive_wheels_counts\n",
        "--->"
      ]
    },
    {
      "cell_type": "markdown",
      "metadata": {
        "id": "5XnZpQzZmxgZ",
        "colab_type": "text"
      },
      "source": [
        "No obstante, esta función también permite contabilizar las variables numéricas. Por ejemplo, \"width\" representa el ancho de los carros:"
      ]
    },
    {
      "cell_type": "code",
      "metadata": {
        "id": "D_KJYpIDmxgd",
        "colab_type": "code",
        "outputId": "0a8ad312-80b6-430f-ef96-bc3eb937a632",
        "colab": {
          "base_uri": "https://localhost:8080/",
          "height": 750
        }
      },
      "source": [
        "df[\"width\"].value_counts()"
      ],
      "execution_count": 0,
      "outputs": [
        {
          "output_type": "execute_result",
          "data": {
            "text/plain": [
              "0.886111    24\n",
              "0.923611    23\n",
              "0.908333    15\n",
              "0.950000    10\n",
              "0.894444    10\n",
              "0.888889     9\n",
              "0.883333     9\n",
              "0.909722     8\n",
              "0.905556     7\n",
              "0.933333     6\n",
              "0.891667     6\n",
              "0.920833     6\n",
              "0.911111     6\n",
              "0.929167     5\n",
              "0.900000     4\n",
              "0.956944     4\n",
              "0.943056     4\n",
              "0.912500     4\n",
              "0.902778     3\n",
              "0.995833     3\n",
              "0.887500     3\n",
              "0.991667     3\n",
              "0.976389     3\n",
              "0.897222     2\n",
              "0.940278     2\n",
              "0.966667     2\n",
              "0.890278     2\n",
              "0.918056     2\n",
              "0.948611     2\n",
              "0.944444     1\n",
              "0.868056     1\n",
              "0.916667     1\n",
              "0.979167     1\n",
              "0.880556     1\n",
              "0.919444     1\n",
              "0.858333     1\n",
              "0.955556     1\n",
              "0.980556     1\n",
              "0.837500     1\n",
              "0.922222     1\n",
              "0.984722     1\n",
              "0.925000     1\n",
              "1.000000     1\n",
              "Name: width, dtype: int64"
            ]
          },
          "metadata": {
            "tags": []
          },
          "execution_count": 8
        }
      ]
    },
    {
      "cell_type": "markdown",
      "metadata": {
        "id": "GLnDzvWTmxgw",
        "colab_type": "text"
      },
      "source": [
        "<p><a name=\"bPlot\"></a></p>\n",
        "\n",
        "### 2.2 Box Plots\n",
        "\n",
        "[Contenidos](#contents) "
      ]
    },
    {
      "cell_type": "markdown",
      "metadata": {
        "id": "1FxxmkPLmxg5",
        "colab_type": "text"
      },
      "source": [
        "Los box plot representan gráficas en las que se pueden analizar varias características de un conjunto de datos como:\n",
        "\n",
        "<ol>\n",
        "    <li> La distribución de los datos.</li>\n",
        "    <li> Asimetría.</li>\n",
        "    <li> Los puntos aislados.</li>\n",
        "</ol>\n",
        "\n",
        "En la siguiente gráfica se muestran las diferentes partes de una gráfica de caja:\n",
        "\n",
        "<img src=\"https://imgbb.com/\"><img src=\"https://i.ibb.co/6tkRtg0/Captura-de-pantalla-2019-08-22-19-01-17.png\" style=\"width:250px;height:300px;\" alt=\"Captura-de-pantalla-2019-08-20-22-39-39\" border=\"0\"></a>\n",
        "\n",
        "En esta gráfica, podemos identificar las siguiente cantidades:\n",
        "\n",
        "<ol>\n",
        "    <li> Mediana.</li><br>\n",
        "    <li> Cuartil superior $P_{75}.$</li><br>\n",
        "    <li> Cuartil inferior $P_{25}$</li><br>\n",
        "    <li>Rango intercuartil $IQR=P_{75}-P_{25}$</li><br>\n",
        "    <li>Extremo superior \\[UE= \\begin{cases} \n",
        "   P_{\\text{75}}+1.5\\times IQR = UP & \\text{si } UP < \\text{max(Data)} \\\\\n",
        "   \\text{max(Data)}       & \\text{si } UP \\ge \\text{max(Data)}\n",
        "  \\end{cases}\\]<br> </li><br>\n",
        "    <li>Extremo inferior \\[LE= \\begin{cases} \n",
        "   P_{\\text{25}}-1.5\\times IQR = LO & \\text{si } LO > \\text{min(Data)} \\\\\n",
        "   \\text{min(Data)}       & \\text{si } LO \\le \\text{min(Data)}\n",
        "  \\end{cases}\\]<br></li>\n",
        "</ol>"
      ]
    },
    {
      "cell_type": "code",
      "metadata": {
        "scrolled": true,
        "id": "P7Z-QcV5mxg9",
        "colab_type": "code",
        "outputId": "6b158b4b-4d2c-4d57-cfd6-8cd1201b8ad4",
        "colab": {
          "base_uri": "https://localhost:8080/",
          "height": 326
        }
      },
      "source": [
        "import seaborn as sns\n",
        "import matplotlib.pyplot as plt\n",
        "plt.figure(figsize=(4.5, 4.5))\n",
        "sns.boxplot(x=\"drive-wheels\",y=\"price\", data=df)"
      ],
      "execution_count": 0,
      "outputs": [
        {
          "output_type": "execute_result",
          "data": {
            "text/plain": [
              "<matplotlib.axes._subplots.AxesSubplot at 0x7f9c30fb9240>"
            ]
          },
          "metadata": {
            "tags": []
          },
          "execution_count": 9
        },
        {
          "output_type": "display_data",
          "data": {
            "image/png": "[encoded data removed]",
            "text/plain": [
              "<Figure size 324x324 with 1 Axes>"
            ]
          },
          "metadata": {
            "tags": []
          }
        }
      ]
    },
    {
      "cell_type": "markdown",
      "metadata": {
        "id": "Mv8n33IxmxhN",
        "colab_type": "text"
      },
      "source": [
        "En este caso se tiene que:\n",
        "\n",
        "<ol>\n",
        "    <li> Mediana: rwd $\\rightarrow$ 16900, fwd $\\rightarrow$ 8192 y 4wd$\\rightarrow$9005.5</li><br>\n",
        "    <li> Cuartil superior: $P_{75\\text{-rwd}}\\approx 22547.50$, $P_{75\\text{-fwd}}\\approx 10333$ y $P_{75\\text{-4wd}}\\approx 11368$</li><br>\n",
        "    <li> Cuartil inferior: $P_{25\\text{-rwd}}= 13455$, $P_{25\\text{-fwd}}\\approx 6951$ y $P_{25\\text{-4wd}}\\approx 7984$</li><br>\n",
        "    <li>Rango intercuartil: $IQR_{\\text{rwd}}\\approx 9023$, $IQR_{\\text{fwd}}\\approx 3381$ y $IQR_{\\text{4wd}}\\approx 3384$</li><br>\n",
        "    <li>Extremo superior \\[UE= \\begin{cases} \n",
        "   P_{\\text{75}}+1.5\\times IQR = UP & \\text{si } UP < \\text{max(Data)} \\\\\n",
        "   \\text{max(Data)}       & \\text{si } UP \\ge \\text{max(Data)}\n",
        "  \\end{cases}\\]<br>\n",
        "        Por ejemplo, $UE_{\\text{rwd}}= P_{\\text{75}\\text{rwd}}+1.5\\times IQR_{\\text{rwd}}\\rightarrow UE_{\\text{rwd}}=22547.50+(22547.50-13455.00)\\times1.5 \\therefore UE_{\\text{rwd}}=36186.25$, ya que $UE_{\\text{rwd}}<\\text{max(Data)}$. </li><br>\n",
        "    <li>Extremo inferior \\[LE= \\begin{cases} \n",
        "   P_{\\text{25}}-1.5\\times IQR = LO & \\text{si } LO > \\text{min(Data)} \\\\\n",
        "   \\text{min(Data)}       & \\text{si } LO \\le \\text{min(Data)}\n",
        "  \\end{cases}\\]<br>\n",
        "    Por ejemplo, $LE_{\\text{rwd}}=\\text{min(Data)}\\rightarrow LE_{\\text{rwd}}=6785$, ya que se cumple que $LO\\leq \\text{min(Data)}$. </li><br>\n",
        "</ol>"
      ]
    },
    {
      "cell_type": "code",
      "metadata": {
        "id": "Ds5Dvp7VmxhQ",
        "colab_type": "code",
        "outputId": "77724ab9-cb4a-44f4-819f-eb1d336b52d5",
        "colab": {
          "base_uri": "https://localhost:8080/",
          "height": 167
        }
      },
      "source": [
        "df.groupby([\"drive-wheels\"]).price.describe()"
      ],
      "execution_count": 0,
      "outputs": [
        {
          "output_type": "execute_result",
          "data": {
            "text/html": [
              "<div>\n",
              "<style scoped>\n",
              "    .dataframe tbody tr th:only-of-type {\n",
              "        vertical-align: middle;\n",
              "    }\n",
              "\n",
              "    .dataframe tbody tr th {\n",
              "        vertical-align: top;\n",
              "    }\n",
              "\n",
              "    .dataframe thead th {\n",
              "        text-align: right;\n",
              "    }\n",
              "</style>\n",
              "<table border=\"1\" class=\"dataframe\">\n",
              "  <thead>\n",
              "    <tr style=\"text-align: right;\">\n",
              "      <th></th>\n",
              "      <th>count</th>\n",
              "      <th>mean</th>\n",
              "      <th>std</th>\n",
              "      <th>min</th>\n",
              "      <th>25%</th>\n",
              "      <th>50%</th>\n",
              "      <th>75%</th>\n",
              "      <th>max</th>\n",
              "    </tr>\n",
              "    <tr>\n",
              "      <th>drive-wheels</th>\n",
              "      <th></th>\n",
              "      <th></th>\n",
              "      <th></th>\n",
              "      <th></th>\n",
              "      <th></th>\n",
              "      <th></th>\n",
              "      <th></th>\n",
              "      <th></th>\n",
              "    </tr>\n",
              "  </thead>\n",
              "  <tbody>\n",
              "    <tr>\n",
              "      <th>4wd</th>\n",
              "      <td>8.0</td>\n",
              "      <td>10241.000000</td>\n",
              "      <td>3288.211064</td>\n",
              "      <td>7603.0</td>\n",
              "      <td>7984.25</td>\n",
              "      <td>9005.5</td>\n",
              "      <td>11367.75</td>\n",
              "      <td>17450.0</td>\n",
              "    </tr>\n",
              "    <tr>\n",
              "      <th>fwd</th>\n",
              "      <td>118.0</td>\n",
              "      <td>9244.779661</td>\n",
              "      <td>3345.898257</td>\n",
              "      <td>5118.0</td>\n",
              "      <td>6950.75</td>\n",
              "      <td>8192.0</td>\n",
              "      <td>10332.50</td>\n",
              "      <td>23875.0</td>\n",
              "    </tr>\n",
              "    <tr>\n",
              "      <th>rwd</th>\n",
              "      <td>75.0</td>\n",
              "      <td>19757.613333</td>\n",
              "      <td>9082.575728</td>\n",
              "      <td>6785.0</td>\n",
              "      <td>13455.00</td>\n",
              "      <td>16900.0</td>\n",
              "      <td>22547.50</td>\n",
              "      <td>45400.0</td>\n",
              "    </tr>\n",
              "  </tbody>\n",
              "</table>\n",
              "</div>"
            ],
            "text/plain": [
              "              count          mean          std  ...      50%       75%      max\n",
              "drive-wheels                                    ...                            \n",
              "4wd             8.0  10241.000000  3288.211064  ...   9005.5  11367.75  17450.0\n",
              "fwd           118.0   9244.779661  3345.898257  ...   8192.0  10332.50  23875.0\n",
              "rwd            75.0  19757.613333  9082.575728  ...  16900.0  22547.50  45400.0\n",
              "\n",
              "[3 rows x 8 columns]"
            ]
          },
          "metadata": {
            "tags": []
          },
          "execution_count": 10
        }
      ]
    },
    {
      "cell_type": "markdown",
      "metadata": {
        "id": "F1iw51E2mxha",
        "colab_type": "text"
      },
      "source": [
        "Los box plots, o diagramas de cajas permiten comparar facilmente diferentes grupos. En este ejemplo, mediante el uso de diagramas de cajas podemos ver diferentes categorías y sus distribuciones respecto al precio. \n",
        "\n",
        "Vemos que, por ejemplo, que el precio de los carros de tracción trasera (rwd) son distintos a los de otras categorias, no obstante, el precio de los carros de tracción delantera y $4\\times4$ son casi indistinguibles."
      ]
    },
    {
      "cell_type": "markdown",
      "metadata": {
        "id": "dYW53rkumxhd",
        "colab_type": "text"
      },
      "source": [
        "**Ejercicio:** Use un diagrama de cajas para determinar si la variable \"body-style\" y \"engine-location\", la cual determina el tipo de carro, es un buen predictor del precio. Argumente su respuesta.\n",
        "\n",
        "De click **aquí** para ver la respuesta.\n",
        "\n",
        "<!--- Respuesta:\n",
        "#Celda 1:\n",
        "sns.boxplot(x=\"body-style\", y=\"price\", data=df)\n",
        "# Argumentación: Se puede observar que el precio de los carros para los diferentes tipos de carros presenta una superposición significativa, de tal forma que la variable \"body-style\" no sería un predictor adecuado del precio\n",
        "#Celda 2:\n",
        "sns.boxplot(x=\"engine-location\", y=\"price\", data=df)\n",
        "# Argumentación: Puede observarse qu la distribución de los precios entre las subcategorias fron y rear son lo suficiente diferentes como para considerar la variable categórica \"engine-location\" como un predictor adecuado del precio.\n",
        "--->"
      ]
    },
    {
      "cell_type": "markdown",
      "metadata": {
        "id": "8pIzHRgQmxhg",
        "colab_type": "text"
      },
      "source": [
        "<p><a name=\"sPlot\"></a></p>\n",
        "\n",
        "### 2.3 Scatter plots\n",
        "\n",
        "[Contenidos](#contents) \n",
        "\n",
        "Dentro de nuestros datos podemos tener en varias ocaciones variables continuas. Este tipo de datos representan puntos dentro de un rango. En el conjunto de datos que estamos trabajando, por ejemplo, las variables correspondientes a las columnas **\"price\"** y **\"engine-size\"** son variables continuas. ¿Qué deberiamos hacer si queremos predecir el precio a partir del tamaño del motor?.\n",
        "\n",
        "Una forma rápida para inspeccionar este tipo de relaciones consiste en realizar un scatter plot de ambas variables. Cada observación en el scatter plot es representada  como un punto. Este tipo de gráficas representa la relación ente ambas variables. La variable predictora representa la variable que se usa para predecir un determinado resultado. Por otra parte, la variable diana o blanco, corresponde a la variable que se pretende predecir. En nuestro caso tenemos que:\n",
        "\n",
        "<ol>\n",
        "    <li>Variable diana o blanco: \"price\".</li>\n",
        "    <li>Variable predictora: \"engine-size\".</li>\n",
        "</ol>\n",
        "\n",
        "En una gráfica de dispersión, usualmente el eje x, o eje horizontal, se hace coincidir con la variable predictora y el eje y, o eje vertical, con la variable diana.\n",
        "\n",
        "Veamos ahora como se relacionan las variables \"price\" y \"engine-size\"."
      ]
    },
    {
      "cell_type": "code",
      "metadata": {
        "id": "1ki0k5k6mxhn",
        "colab_type": "code",
        "outputId": "4b12c116-a26b-470a-9b00-457f6931550a",
        "colab": {
          "base_uri": "https://localhost:8080/",
          "height": 311
        }
      },
      "source": [
        "df.plot(kind=\"scatter\", y = \"price\", x = \"engine-size\", title = \"Gráfica de dispersión de \\\"engine-size\\\" vs \\\"price\\\"\", alpha = 0.4)"
      ],
      "execution_count": 0,
      "outputs": [
        {
          "output_type": "execute_result",
          "data": {
            "text/plain": [
              "<matplotlib.axes._subplots.AxesSubplot at 0x7f9c30ecee80>"
            ]
          },
          "metadata": {
            "tags": []
          },
          "execution_count": 11
        },
        {
          "output_type": "display_data",
          "data": {
            "image/png": "[encoded data removed]",
            "text/plain": [
              "<Figure size 432x288 with 1 Axes>"
            ]
          },
          "metadata": {
            "tags": []
          }
        }
      ]
    },
    {
      "cell_type": "markdown",
      "metadata": {
        "id": "OcXdxVFimxh0",
        "colab_type": "text"
      },
      "source": [
        "<p><a name=\"hmaps\"></a></p>\n",
        "\n",
        "### 2.4 Groupby y Heatmaps\n",
        "\n",
        "[Contenidos](#contents)\n",
        "\n",
        "Recordemos que con el método groupby podemos agrupar los datos en diferentes categorías. Los datos son agrupados con base en una o varias características y el análisis se realiza sobre los grupos individuales. Veamos esto.\n",
        "\n",
        "Agrupemos, por ejemplo la tabla por tipo de tracción (\"drive-wheels\"). Podemos observar que tenemos tres tipos de categorias."
      ]
    },
    {
      "cell_type": "code",
      "metadata": {
        "id": "5Jqda4qAmxh5",
        "colab_type": "code",
        "outputId": "566f58e8-d922-414a-d510-bccac5468936",
        "colab": {
          "base_uri": "https://localhost:8080/",
          "height": 33
        }
      },
      "source": [
        "df['drive-wheels'].unique()"
      ],
      "execution_count": 0,
      "outputs": [
        {
          "output_type": "execute_result",
          "data": {
            "text/plain": [
              "array(['rwd', 'fwd', '4wd'], dtype=object)"
            ]
          },
          "metadata": {
            "tags": []
          },
          "execution_count": 12
        }
      ]
    },
    {
      "cell_type": "markdown",
      "metadata": {
        "id": "mq0cv3_OmxiJ",
        "colab_type": "text"
      },
      "source": [
        "Definamos un subdataFrame con las columnas 'drive-wheels', 'body-style' y 'price' y agrupemos por 'drive-wheels' para calcular el valor medio en cada categoria:"
      ]
    },
    {
      "cell_type": "code",
      "metadata": {
        "id": "OsXl3V0VmxiN",
        "colab_type": "code",
        "outputId": "0dc40cb3-85b3-4be9-965f-f539af679781",
        "colab": {
          "base_uri": "https://localhost:8080/",
          "height": 137
        }
      },
      "source": [
        "df_group = df[['drive-wheels','body-style','price']]\n",
        "\n",
        "# Agrupamiento de los resultados\n",
        "df_grupo1 = df_group.groupby(['drive-wheels'], as_index = False).mean().sort_values(by = \"price\", ascending = False).reset_index(drop = True)\n",
        "df_grupo1"
      ],
      "execution_count": 0,
      "outputs": [
        {
          "output_type": "execute_result",
          "data": {
            "text/html": [
              "<div>\n",
              "<style scoped>\n",
              "    .dataframe tbody tr th:only-of-type {\n",
              "        vertical-align: middle;\n",
              "    }\n",
              "\n",
              "    .dataframe tbody tr th {\n",
              "        vertical-align: top;\n",
              "    }\n",
              "\n",
              "    .dataframe thead th {\n",
              "        text-align: right;\n",
              "    }\n",
              "</style>\n",
              "<table border=\"1\" class=\"dataframe\">\n",
              "  <thead>\n",
              "    <tr style=\"text-align: right;\">\n",
              "      <th></th>\n",
              "      <th>drive-wheels</th>\n",
              "      <th>price</th>\n",
              "    </tr>\n",
              "  </thead>\n",
              "  <tbody>\n",
              "    <tr>\n",
              "      <th>0</th>\n",
              "      <td>rwd</td>\n",
              "      <td>19757.613333</td>\n",
              "    </tr>\n",
              "    <tr>\n",
              "      <th>1</th>\n",
              "      <td>4wd</td>\n",
              "      <td>10241.000000</td>\n",
              "    </tr>\n",
              "    <tr>\n",
              "      <th>2</th>\n",
              "      <td>fwd</td>\n",
              "      <td>9244.779661</td>\n",
              "    </tr>\n",
              "  </tbody>\n",
              "</table>\n",
              "</div>"
            ],
            "text/plain": [
              "  drive-wheels         price\n",
              "0          rwd  19757.613333\n",
              "1          4wd  10241.000000\n",
              "2          fwd   9244.779661"
            ]
          },
          "metadata": {
            "tags": []
          },
          "execution_count": 13
        }
      ]
    },
    {
      "cell_type": "markdown",
      "metadata": {
        "id": "Isvaraqdmxif",
        "colab_type": "text"
      },
      "source": [
        "De los datos, se puede ver que los carros con tracción tracera son, en promedio, los mas caros. Por otra parte, los carros de tracción delantera y tracción total son, en promedio, similares. \n",
        "\n",
        "Podemos agrupar de acuerdo a varias variables. Por ejemplo, agrupemos por 'drive-wheels' y 'body-style'. Este procedimento agrupara el dataframe por combinaciones unicas de 'drive-wheels' y 'body-style'. Guardemos el resultado en la variable de prueba 'grupo_test'"
      ]
    },
    {
      "cell_type": "code",
      "metadata": {
        "id": "x_8VmGW7mxij",
        "colab_type": "code",
        "outputId": "78a89563-8f77-44bf-9468-8ada8feaaba1",
        "colab": {
          "base_uri": "https://localhost:8080/",
          "height": 437
        }
      },
      "source": [
        "# grouping results\n",
        "grupo_test = df_group.groupby(['drive-wheels','body-style'], as_index = False).mean().sort_values(by = \"price\", ascending = False).reset_index(drop = True)\n",
        "grupo_test"
      ],
      "execution_count": 0,
      "outputs": [
        {
          "output_type": "execute_result",
          "data": {
            "text/html": [
              "<div>\n",
              "<style scoped>\n",
              "    .dataframe tbody tr th:only-of-type {\n",
              "        vertical-align: middle;\n",
              "    }\n",
              "\n",
              "    .dataframe tbody tr th {\n",
              "        vertical-align: top;\n",
              "    }\n",
              "\n",
              "    .dataframe thead th {\n",
              "        text-align: right;\n",
              "    }\n",
              "</style>\n",
              "<table border=\"1\" class=\"dataframe\">\n",
              "  <thead>\n",
              "    <tr style=\"text-align: right;\">\n",
              "      <th></th>\n",
              "      <th>drive-wheels</th>\n",
              "      <th>body-style</th>\n",
              "      <th>price</th>\n",
              "    </tr>\n",
              "  </thead>\n",
              "  <tbody>\n",
              "    <tr>\n",
              "      <th>0</th>\n",
              "      <td>rwd</td>\n",
              "      <td>hardtop</td>\n",
              "      <td>24202.714286</td>\n",
              "    </tr>\n",
              "    <tr>\n",
              "      <th>1</th>\n",
              "      <td>rwd</td>\n",
              "      <td>convertible</td>\n",
              "      <td>23949.600000</td>\n",
              "    </tr>\n",
              "    <tr>\n",
              "      <th>2</th>\n",
              "      <td>rwd</td>\n",
              "      <td>sedan</td>\n",
              "      <td>21711.833333</td>\n",
              "    </tr>\n",
              "    <tr>\n",
              "      <th>3</th>\n",
              "      <td>rwd</td>\n",
              "      <td>wagon</td>\n",
              "      <td>16994.222222</td>\n",
              "    </tr>\n",
              "    <tr>\n",
              "      <th>4</th>\n",
              "      <td>rwd</td>\n",
              "      <td>hatchback</td>\n",
              "      <td>14337.777778</td>\n",
              "    </tr>\n",
              "    <tr>\n",
              "      <th>5</th>\n",
              "      <td>4wd</td>\n",
              "      <td>sedan</td>\n",
              "      <td>12647.333333</td>\n",
              "    </tr>\n",
              "    <tr>\n",
              "      <th>6</th>\n",
              "      <td>fwd</td>\n",
              "      <td>convertible</td>\n",
              "      <td>11595.000000</td>\n",
              "    </tr>\n",
              "    <tr>\n",
              "      <th>7</th>\n",
              "      <td>fwd</td>\n",
              "      <td>wagon</td>\n",
              "      <td>9997.333333</td>\n",
              "    </tr>\n",
              "    <tr>\n",
              "      <th>8</th>\n",
              "      <td>fwd</td>\n",
              "      <td>sedan</td>\n",
              "      <td>9811.800000</td>\n",
              "    </tr>\n",
              "    <tr>\n",
              "      <th>9</th>\n",
              "      <td>4wd</td>\n",
              "      <td>wagon</td>\n",
              "      <td>9095.750000</td>\n",
              "    </tr>\n",
              "    <tr>\n",
              "      <th>10</th>\n",
              "      <td>fwd</td>\n",
              "      <td>hatchback</td>\n",
              "      <td>8396.387755</td>\n",
              "    </tr>\n",
              "    <tr>\n",
              "      <th>11</th>\n",
              "      <td>fwd</td>\n",
              "      <td>hardtop</td>\n",
              "      <td>8249.000000</td>\n",
              "    </tr>\n",
              "    <tr>\n",
              "      <th>12</th>\n",
              "      <td>4wd</td>\n",
              "      <td>hatchback</td>\n",
              "      <td>7603.000000</td>\n",
              "    </tr>\n",
              "  </tbody>\n",
              "</table>\n",
              "</div>"
            ],
            "text/plain": [
              "   drive-wheels   body-style         price\n",
              "0           rwd      hardtop  24202.714286\n",
              "1           rwd  convertible  23949.600000\n",
              "2           rwd        sedan  21711.833333\n",
              "3           rwd        wagon  16994.222222\n",
              "4           rwd    hatchback  14337.777778\n",
              "5           4wd        sedan  12647.333333\n",
              "6           fwd  convertible  11595.000000\n",
              "7           fwd        wagon   9997.333333\n",
              "8           fwd        sedan   9811.800000\n",
              "9           4wd        wagon   9095.750000\n",
              "10          fwd    hatchback   8396.387755\n",
              "11          fwd      hardtop   8249.000000\n",
              "12          4wd    hatchback   7603.000000"
            ]
          },
          "metadata": {
            "tags": []
          },
          "execution_count": 14
        }
      ]
    },
    {
      "cell_type": "markdown",
      "metadata": {
        "id": "TQQH4cIbmxi0",
        "colab_type": "text"
      },
      "source": [
        "Este tipo de tablas es más facil visualizarlas cuando se convierten en una tabla pivote. Como en Excel, en las tablas pivote podemos visualizar los datos especificando una variable categórica a lo largo de las columnas y otra variable categórica a lo largo de las filas.\n",
        "\n",
        "En este caso, la categoria \"drive-wheel\" le asignaremos las filas de la tabla, y realizacemos un pivote en \"body-style\" para convertirla en las columnas de la tabla:"
      ]
    },
    {
      "cell_type": "code",
      "metadata": {
        "id": "-E9N86oumxi5",
        "colab_type": "code",
        "outputId": "c1984195-6a11-47a2-e09e-3fd4663b42d5",
        "colab": {
          "base_uri": "https://localhost:8080/",
          "height": 197
        }
      },
      "source": [
        "grouped_pivot = grupo_test.pivot(index = 'drive-wheels', columns = 'body-style')\n",
        "grouped_pivot"
      ],
      "execution_count": 0,
      "outputs": [
        {
          "output_type": "execute_result",
          "data": {
            "text/html": [
              "<div>\n",
              "<style scoped>\n",
              "    .dataframe tbody tr th:only-of-type {\n",
              "        vertical-align: middle;\n",
              "    }\n",
              "\n",
              "    .dataframe tbody tr th {\n",
              "        vertical-align: top;\n",
              "    }\n",
              "\n",
              "    .dataframe thead tr th {\n",
              "        text-align: left;\n",
              "    }\n",
              "\n",
              "    .dataframe thead tr:last-of-type th {\n",
              "        text-align: right;\n",
              "    }\n",
              "</style>\n",
              "<table border=\"1\" class=\"dataframe\">\n",
              "  <thead>\n",
              "    <tr>\n",
              "      <th></th>\n",
              "      <th colspan=\"5\" halign=\"left\">price</th>\n",
              "    </tr>\n",
              "    <tr>\n",
              "      <th>body-style</th>\n",
              "      <th>convertible</th>\n",
              "      <th>hardtop</th>\n",
              "      <th>hatchback</th>\n",
              "      <th>sedan</th>\n",
              "      <th>wagon</th>\n",
              "    </tr>\n",
              "    <tr>\n",
              "      <th>drive-wheels</th>\n",
              "      <th></th>\n",
              "      <th></th>\n",
              "      <th></th>\n",
              "      <th></th>\n",
              "      <th></th>\n",
              "    </tr>\n",
              "  </thead>\n",
              "  <tbody>\n",
              "    <tr>\n",
              "      <th>4wd</th>\n",
              "      <td>NaN</td>\n",
              "      <td>NaN</td>\n",
              "      <td>7603.000000</td>\n",
              "      <td>12647.333333</td>\n",
              "      <td>9095.750000</td>\n",
              "    </tr>\n",
              "    <tr>\n",
              "      <th>fwd</th>\n",
              "      <td>11595.0</td>\n",
              "      <td>8249.000000</td>\n",
              "      <td>8396.387755</td>\n",
              "      <td>9811.800000</td>\n",
              "      <td>9997.333333</td>\n",
              "    </tr>\n",
              "    <tr>\n",
              "      <th>rwd</th>\n",
              "      <td>23949.6</td>\n",
              "      <td>24202.714286</td>\n",
              "      <td>14337.777778</td>\n",
              "      <td>21711.833333</td>\n",
              "      <td>16994.222222</td>\n",
              "    </tr>\n",
              "  </tbody>\n",
              "</table>\n",
              "</div>"
            ],
            "text/plain": [
              "                   price                ...                            \n",
              "body-style   convertible       hardtop  ...         sedan         wagon\n",
              "drive-wheels                            ...                            \n",
              "4wd                  NaN           NaN  ...  12647.333333   9095.750000\n",
              "fwd              11595.0   8249.000000  ...   9811.800000   9997.333333\n",
              "rwd              23949.6  24202.714286  ...  21711.833333  16994.222222\n",
              "\n",
              "[3 rows x 5 columns]"
            ]
          },
          "metadata": {
            "tags": []
          },
          "execution_count": 15
        }
      ]
    },
    {
      "cell_type": "markdown",
      "metadata": {
        "id": "fW5zoFNVmxjO",
        "colab_type": "text"
      },
      "source": [
        "En muchas ocaciones, tenemos valores nulos para algunas celdas de la tabla. Podemos rellenar estos casos con un valor 0.\n",
        "\n",
        "---\n",
        "\n"
      ]
    },
    {
      "cell_type": "code",
      "metadata": {
        "id": "zrmG8XtFmxjW",
        "colab_type": "code",
        "outputId": "5fc354f3-ec85-4616-d238-e6a861b550c9",
        "colab": {
          "base_uri": "https://localhost:8080/",
          "height": 197
        }
      },
      "source": [
        "grouped_pivot = grouped_pivot.fillna(0) #fill missing values with 0\n",
        "grouped_pivot"
      ],
      "execution_count": 0,
      "outputs": [
        {
          "output_type": "execute_result",
          "data": {
            "text/html": [
              "<div>\n",
              "<style scoped>\n",
              "    .dataframe tbody tr th:only-of-type {\n",
              "        vertical-align: middle;\n",
              "    }\n",
              "\n",
              "    .dataframe tbody tr th {\n",
              "        vertical-align: top;\n",
              "    }\n",
              "\n",
              "    .dataframe thead tr th {\n",
              "        text-align: left;\n",
              "    }\n",
              "\n",
              "    .dataframe thead tr:last-of-type th {\n",
              "        text-align: right;\n",
              "    }\n",
              "</style>\n",
              "<table border=\"1\" class=\"dataframe\">\n",
              "  <thead>\n",
              "    <tr>\n",
              "      <th></th>\n",
              "      <th colspan=\"5\" halign=\"left\">price</th>\n",
              "    </tr>\n",
              "    <tr>\n",
              "      <th>body-style</th>\n",
              "      <th>convertible</th>\n",
              "      <th>hardtop</th>\n",
              "      <th>hatchback</th>\n",
              "      <th>sedan</th>\n",
              "      <th>wagon</th>\n",
              "    </tr>\n",
              "    <tr>\n",
              "      <th>drive-wheels</th>\n",
              "      <th></th>\n",
              "      <th></th>\n",
              "      <th></th>\n",
              "      <th></th>\n",
              "      <th></th>\n",
              "    </tr>\n",
              "  </thead>\n",
              "  <tbody>\n",
              "    <tr>\n",
              "      <th>4wd</th>\n",
              "      <td>0.0</td>\n",
              "      <td>0.000000</td>\n",
              "      <td>7603.000000</td>\n",
              "      <td>12647.333333</td>\n",
              "      <td>9095.750000</td>\n",
              "    </tr>\n",
              "    <tr>\n",
              "      <th>fwd</th>\n",
              "      <td>11595.0</td>\n",
              "      <td>8249.000000</td>\n",
              "      <td>8396.387755</td>\n",
              "      <td>9811.800000</td>\n",
              "      <td>9997.333333</td>\n",
              "    </tr>\n",
              "    <tr>\n",
              "      <th>rwd</th>\n",
              "      <td>23949.6</td>\n",
              "      <td>24202.714286</td>\n",
              "      <td>14337.777778</td>\n",
              "      <td>21711.833333</td>\n",
              "      <td>16994.222222</td>\n",
              "    </tr>\n",
              "  </tbody>\n",
              "</table>\n",
              "</div>"
            ],
            "text/plain": [
              "                   price                ...                            \n",
              "body-style   convertible       hardtop  ...         sedan         wagon\n",
              "drive-wheels                            ...                            \n",
              "4wd                  0.0      0.000000  ...  12647.333333   9095.750000\n",
              "fwd              11595.0   8249.000000  ...   9811.800000   9997.333333\n",
              "rwd              23949.6  24202.714286  ...  21711.833333  16994.222222\n",
              "\n",
              "[3 rows x 5 columns]"
            ]
          },
          "metadata": {
            "tags": []
          },
          "execution_count": 16
        }
      ]
    },
    {
      "cell_type": "markdown",
      "metadata": {
        "id": "zqtcCeCSmxju",
        "colab_type": "text"
      },
      "source": [
        "El uso de heatmaps nos permite visualizar el comportamiento del precio en función de dos variables. Por ejemplo, pordemos visualizar la tabla pivote anterior como una imagen de píxeles con el color correspondiente al valor del precio. De esta forma, podemos ver, por ejemplo, como se relaciona el precio con el tipo de tracción y el tipo de carro:"
      ]
    },
    {
      "cell_type": "code",
      "metadata": {
        "id": "zsdxAGTYEhi-",
        "colab_type": "code",
        "colab": {}
      },
      "source": [
        ""
      ],
      "execution_count": 0,
      "outputs": []
    },
    {
      "cell_type": "code",
      "metadata": {
        "id": "bIZ0T-1Pmxjy",
        "colab_type": "code",
        "outputId": "efe45832-4462-4b21-a4f4-b30d900c69bf",
        "colab": {
          "base_uri": "https://localhost:8080/",
          "height": 314
        }
      },
      "source": [
        "fig, ax = plt.subplots()\n",
        "im = ax.pcolor(grouped_pivot, cmap='jet')\n",
        "\n",
        "#labels\n",
        "row_labels = grouped_pivot.columns.levels[1]\n",
        "col_labels = grouped_pivot.index\n",
        "\n",
        "#move ticks to the center\n",
        "ax.set_xticks(np.arange(grouped_pivot.shape[1]) + 0.5, minor=False)\n",
        "ax.set_yticks(np.arange(grouped_pivot.shape[0]) + 0.5, minor=False)\n",
        "\n",
        "#insert labels\n",
        "ax.set_xticklabels(row_labels, minor=False)\n",
        "ax.set_yticklabels(col_labels, minor=False)\n",
        "\n",
        "#rotate the labels\n",
        "plt.xticks(rotation=90)\n",
        "\n",
        "fig.colorbar(im)\n",
        "plt.show()"
      ],
      "execution_count": 0,
      "outputs": [
        {
          "output_type": "display_data",
          "data": {
            "image/png": "[encoded data removed]",
            "text/plain": [
              "<Figure size 432x288 with 2 Axes>"
            ]
          },
          "metadata": {
            "tags": []
          }
        }
      ]
    },
    {
      "cell_type": "markdown",
      "metadata": {
        "id": "vuvabBYHmxkB",
        "colab_type": "text"
      },
      "source": [
        "<p><a name=\"corr\"></a></p>\n",
        "\n",
        "## 3. Correlación\n",
        "\n",
        "[Contenidos](#contents)\n",
        "\n",
        "La correlación es una medida de la relación entre variables que se mide en una escala de -1 a 1. Cuanto más cercano sea el valor de correlación a -1 o 1, más fuerte será la relación, y mientras más cerca de 0, más débil será la relación. Mide cómo el cambio en una variable está asociado con el cambio en otra variable.\n",
        "\n",
        "Existen algunos tipos comunes de pruebas para medir la correlación, estos son: Pearson, Spearman y Kendall. Cada uno tiene sus propias suposiciones sobre los datos que deben cumplirse para que la prueba pueda medir con precisión el nivel de correlación. Veamos cómo están distribuidas nuestras variables:\n",
        "\n",
        "* Para la correlación de Pearson, ambas variables deben estar normalmente distribuidas. Otras suposiciones incluyen linealidad y homogeneidad en la varianza.\n",
        "\n",
        "* La correlación de Kendall es una prueba no paramétrica que no hace suposiciones sobre la distribución de los datos. Debe haber una relación monotónica entre las variables que se están probando y los datos deben medirse en una escala ordinal, de intervalo o de relación.\n",
        "\n",
        "* Las correlación de Spearman es no paramétrica y no hace suposiciones sobre la distribución de los datos. Al igual que en el caso anterior, debe haber una relación monotónica entre las variables y es el análisis de correlación apropiado cuando las variables se miden en una escala que es al menos ordinal."
      ]
    },
    {
      "cell_type": "code",
      "metadata": {
        "id": "sCgOkKgNqm-M",
        "colab_type": "code",
        "outputId": "bc8a036c-84d7-436c-aca3-0a0e891e0e70",
        "colab": {
          "base_uri": "https://localhost:8080/",
          "height": 771
        }
      },
      "source": [
        "df.hist(figsize=(15,13))\n",
        "plt.show()"
      ],
      "execution_count": 0,
      "outputs": [
        {
          "output_type": "display_data",
          "data": {
            "image/png": "[encoded data removed]",
            "text/plain": [
              "<Figure size 1080x936 with 20 Axes>"
            ]
          },
          "metadata": {
            "tags": []
          }
        }
      ]
    },
    {
      "cell_type": "markdown",
      "metadata": {
        "id": "BZxeB8s2T9B_",
        "colab_type": "text"
      },
      "source": [
        "En el caso de la correlación de Pearson, las suposiciones de normalidad de la distribución y homogeneidad de la varianza se pueden evaluar mediante las funciones `skewtest()` y `levene()`, respectivamente. Ambas pertenecientes al módulo `scipy.stats`. Evaluemos las suposiciones para las variables \"price\" y \"engine-size\""
      ]
    },
    {
      "cell_type": "code",
      "metadata": {
        "id": "kbWFVRuhZeLp",
        "colab_type": "code",
        "outputId": "582cb50b-bca9-4227-972f-82b871e17ad0",
        "colab": {
          "base_uri": "https://localhost:8080/",
          "height": 298
        }
      },
      "source": [
        "# test linearity\n",
        "df.plot(kind=\"scatter\", y = \"price\", x = \"engine-size\", alpha = 0.4)"
      ],
      "execution_count": 0,
      "outputs": [
        {
          "output_type": "execute_result",
          "data": {
            "text/plain": [
              "<matplotlib.axes._subplots.AxesSubplot at 0x7f9c3065f128>"
            ]
          },
          "metadata": {
            "tags": []
          },
          "execution_count": 19
        },
        {
          "output_type": "display_data",
          "data": {
            "image/png": "[encoded data removed]",
            "text/plain": [
              "<Figure size 432x288 with 1 Axes>"
            ]
          },
          "metadata": {
            "tags": []
          }
        }
      ]
    },
    {
      "cell_type": "markdown",
      "metadata": {
        "id": "eDQl65WK8PVZ",
        "colab_type": "text"
      },
      "source": [
        "Testear que tan cercana esta la distribucion a la distribucion normal"
      ]
    },
    {
      "cell_type": "code",
      "metadata": {
        "id": "vjajGLYWU7U-",
        "colab_type": "code",
        "outputId": "250067f2-c495-4495-b687-8590e86d78c9",
        "colab": {
          "base_uri": "https://localhost:8080/",
          "height": 66
        }
      },
      "source": [
        "from scipy.stats import skewtest, levene\n",
        "\n",
        "# test the null hypothesis that the skewness of the population that the sample was drawn from is the same as that of a corresponding normal distribution.\n",
        "print(skewtest(df[\"price\"]))\n",
        "print(skewtest(df[\"engine-size\"]))\n",
        "\n",
        "# test the null hypothesis that all input samples are from populations with equal variances\n",
        "print(levene(df[\"price\"],df[\"engine-size\"]))\n",
        "\n",
        "# A smaller p-value means that there is stronger evidence in favor of the alternative hypothesis."
      ],
      "execution_count": 0,
      "outputs": [
        {
          "output_type": "stream",
          "text": [
            "SkewtestResult(statistic=7.639137730516152, pvalue=2.186812829722033e-14)\n",
            "SkewtestResult(statistic=8.058856418726215, pvalue=7.701148913242647e-16)\n",
            "LeveneResult(statistic=140.81734743196424, pvalue=4.916938115048979e-28)\n"
          ],
          "name": "stdout"
        }
      ]
    },
    {
      "cell_type": "code",
      "metadata": {
        "id": "20jaeuVkSE7H",
        "colab_type": "code",
        "colab": {}
      },
      "source": [
        "levene?"
      ],
      "execution_count": 0,
      "outputs": []
    },
    {
      "cell_type": "markdown",
      "metadata": {
        "id": "6U9-oT-VZwFI",
        "colab_type": "text"
      },
      "source": [
        "Observamos que sí hay una relación lineal entre las variables. Sin embargo, los tests de uniformidad de la distribución y homogeneidad arrojan resultados negativos. Por lo tanto, la prueba de correlación apropiada para usar sería una prueba no paramétrica como la correlación de Spearman o de Kendall."
      ]
    },
    {
      "cell_type": "markdown",
      "metadata": {
        "id": "66Tib7WuquG4",
        "colab_type": "text"
      },
      "source": [
        "Para calcular el coeficiente de correlación podemos utilizar el método `corr()` de Pandas"
      ]
    },
    {
      "cell_type": "code",
      "metadata": {
        "id": "XHfK9bMvVxZo",
        "colab_type": "code",
        "outputId": "f82084de-0d40-40e6-ba08-45f48c315082",
        "colab": {
          "base_uri": "https://localhost:8080/",
          "height": 687
        }
      },
      "source": [
        "corr_p = df.corr()\n",
        "corr_k = df.corr(method = \"kendall\")\n",
        "corr_s = df.corr(method = \"spearman\")\n",
        "\n",
        "corr_p"
      ],
      "execution_count": 0,
      "outputs": [
        {
          "output_type": "execute_result",
          "data": {
            "text/html": [
              "<div>\n",
              "<style scoped>\n",
              "    .dataframe tbody tr th:only-of-type {\n",
              "        vertical-align: middle;\n",
              "    }\n",
              "\n",
              "    .dataframe tbody tr th {\n",
              "        vertical-align: top;\n",
              "    }\n",
              "\n",
              "    .dataframe thead th {\n",
              "        text-align: right;\n",
              "    }\n",
              "</style>\n",
              "<table border=\"1\" class=\"dataframe\">\n",
              "  <thead>\n",
              "    <tr style=\"text-align: right;\">\n",
              "      <th></th>\n",
              "      <th>symboling</th>\n",
              "      <th>normalized-losses</th>\n",
              "      <th>wheel-base</th>\n",
              "      <th>length</th>\n",
              "      <th>width</th>\n",
              "      <th>height</th>\n",
              "      <th>curb-weight</th>\n",
              "      <th>engine-size</th>\n",
              "      <th>bore</th>\n",
              "      <th>stroke</th>\n",
              "      <th>compression-ratio</th>\n",
              "      <th>horsepower</th>\n",
              "      <th>peak-rpm</th>\n",
              "      <th>city-mpg</th>\n",
              "      <th>highway-mpg</th>\n",
              "      <th>price</th>\n",
              "      <th>city-L/100km</th>\n",
              "      <th>diesel</th>\n",
              "      <th>gas</th>\n",
              "    </tr>\n",
              "  </thead>\n",
              "  <tbody>\n",
              "    <tr>\n",
              "      <th>symboling</th>\n",
              "      <td>1.000000</td>\n",
              "      <td>0.466264</td>\n",
              "      <td>-0.535987</td>\n",
              "      <td>-0.365404</td>\n",
              "      <td>-0.242423</td>\n",
              "      <td>-0.550160</td>\n",
              "      <td>-0.233118</td>\n",
              "      <td>-0.110581</td>\n",
              "      <td>-0.140019</td>\n",
              "      <td>-0.008245</td>\n",
              "      <td>-0.182196</td>\n",
              "      <td>0.075819</td>\n",
              "      <td>0.279740</td>\n",
              "      <td>-0.035527</td>\n",
              "      <td>0.036233</td>\n",
              "      <td>-0.082391</td>\n",
              "      <td>0.066171</td>\n",
              "      <td>-0.196735</td>\n",
              "      <td>0.196735</td>\n",
              "    </tr>\n",
              "    <tr>\n",
              "      <th>normalized-losses</th>\n",
              "      <td>0.466264</td>\n",
              "      <td>1.000000</td>\n",
              "      <td>-0.056661</td>\n",
              "      <td>0.019424</td>\n",
              "      <td>0.086802</td>\n",
              "      <td>-0.373737</td>\n",
              "      <td>0.099404</td>\n",
              "      <td>0.112360</td>\n",
              "      <td>-0.029862</td>\n",
              "      <td>0.055563</td>\n",
              "      <td>-0.114713</td>\n",
              "      <td>0.217299</td>\n",
              "      <td>0.239543</td>\n",
              "      <td>-0.225016</td>\n",
              "      <td>-0.181877</td>\n",
              "      <td>0.133999</td>\n",
              "      <td>0.238567</td>\n",
              "      <td>-0.101546</td>\n",
              "      <td>0.101546</td>\n",
              "    </tr>\n",
              "    <tr>\n",
              "      <th>wheel-base</th>\n",
              "      <td>-0.535987</td>\n",
              "      <td>-0.056661</td>\n",
              "      <td>1.000000</td>\n",
              "      <td>0.876024</td>\n",
              "      <td>0.814507</td>\n",
              "      <td>0.590742</td>\n",
              "      <td>0.782097</td>\n",
              "      <td>0.572027</td>\n",
              "      <td>0.493244</td>\n",
              "      <td>0.158502</td>\n",
              "      <td>0.250313</td>\n",
              "      <td>0.371147</td>\n",
              "      <td>-0.360305</td>\n",
              "      <td>-0.470606</td>\n",
              "      <td>-0.543304</td>\n",
              "      <td>0.584642</td>\n",
              "      <td>0.476153</td>\n",
              "      <td>0.307237</td>\n",
              "      <td>-0.307237</td>\n",
              "    </tr>\n",
              "    <tr>\n",
              "      <th>length</th>\n",
              "      <td>-0.365404</td>\n",
              "      <td>0.019424</td>\n",
              "      <td>0.876024</td>\n",
              "      <td>1.000000</td>\n",
              "      <td>0.857170</td>\n",
              "      <td>0.492063</td>\n",
              "      <td>0.880665</td>\n",
              "      <td>0.685025</td>\n",
              "      <td>0.608971</td>\n",
              "      <td>0.124139</td>\n",
              "      <td>0.159733</td>\n",
              "      <td>0.579821</td>\n",
              "      <td>-0.285970</td>\n",
              "      <td>-0.665192</td>\n",
              "      <td>-0.698142</td>\n",
              "      <td>0.690628</td>\n",
              "      <td>0.657373</td>\n",
              "      <td>0.211187</td>\n",
              "      <td>-0.211187</td>\n",
              "    </tr>\n",
              "    <tr>\n",
              "      <th>width</th>\n",
              "      <td>-0.242423</td>\n",
              "      <td>0.086802</td>\n",
              "      <td>0.814507</td>\n",
              "      <td>0.857170</td>\n",
              "      <td>1.000000</td>\n",
              "      <td>0.306002</td>\n",
              "      <td>0.866201</td>\n",
              "      <td>0.729436</td>\n",
              "      <td>0.544885</td>\n",
              "      <td>0.188829</td>\n",
              "      <td>0.189867</td>\n",
              "      <td>0.615077</td>\n",
              "      <td>-0.245800</td>\n",
              "      <td>-0.633531</td>\n",
              "      <td>-0.680635</td>\n",
              "      <td>0.751265</td>\n",
              "      <td>0.673363</td>\n",
              "      <td>0.244356</td>\n",
              "      <td>-0.244356</td>\n",
              "    </tr>\n",
              "    <tr>\n",
              "      <th>height</th>\n",
              "      <td>-0.550160</td>\n",
              "      <td>-0.373737</td>\n",
              "      <td>0.590742</td>\n",
              "      <td>0.492063</td>\n",
              "      <td>0.306002</td>\n",
              "      <td>1.000000</td>\n",
              "      <td>0.307581</td>\n",
              "      <td>0.074694</td>\n",
              "      <td>0.180449</td>\n",
              "      <td>-0.062704</td>\n",
              "      <td>0.259737</td>\n",
              "      <td>-0.087027</td>\n",
              "      <td>-0.309974</td>\n",
              "      <td>-0.049800</td>\n",
              "      <td>-0.104812</td>\n",
              "      <td>0.135486</td>\n",
              "      <td>0.003811</td>\n",
              "      <td>0.281578</td>\n",
              "      <td>-0.281578</td>\n",
              "    </tr>\n",
              "    <tr>\n",
              "      <th>curb-weight</th>\n",
              "      <td>-0.233118</td>\n",
              "      <td>0.099404</td>\n",
              "      <td>0.782097</td>\n",
              "      <td>0.880665</td>\n",
              "      <td>0.866201</td>\n",
              "      <td>0.307581</td>\n",
              "      <td>1.000000</td>\n",
              "      <td>0.849072</td>\n",
              "      <td>0.644060</td>\n",
              "      <td>0.167562</td>\n",
              "      <td>0.156433</td>\n",
              "      <td>0.757976</td>\n",
              "      <td>-0.279361</td>\n",
              "      <td>-0.749543</td>\n",
              "      <td>-0.794889</td>\n",
              "      <td>0.834415</td>\n",
              "      <td>0.785353</td>\n",
              "      <td>0.221046</td>\n",
              "      <td>-0.221046</td>\n",
              "    </tr>\n",
              "    <tr>\n",
              "      <th>engine-size</th>\n",
              "      <td>-0.110581</td>\n",
              "      <td>0.112360</td>\n",
              "      <td>0.572027</td>\n",
              "      <td>0.685025</td>\n",
              "      <td>0.729436</td>\n",
              "      <td>0.074694</td>\n",
              "      <td>0.849072</td>\n",
              "      <td>1.000000</td>\n",
              "      <td>0.572609</td>\n",
              "      <td>0.209523</td>\n",
              "      <td>0.028889</td>\n",
              "      <td>0.822676</td>\n",
              "      <td>-0.256733</td>\n",
              "      <td>-0.650546</td>\n",
              "      <td>-0.679571</td>\n",
              "      <td>0.872335</td>\n",
              "      <td>0.745059</td>\n",
              "      <td>0.070779</td>\n",
              "      <td>-0.070779</td>\n",
              "    </tr>\n",
              "    <tr>\n",
              "      <th>bore</th>\n",
              "      <td>-0.140019</td>\n",
              "      <td>-0.029862</td>\n",
              "      <td>0.493244</td>\n",
              "      <td>0.608971</td>\n",
              "      <td>0.544885</td>\n",
              "      <td>0.180449</td>\n",
              "      <td>0.644060</td>\n",
              "      <td>0.572609</td>\n",
              "      <td>1.000000</td>\n",
              "      <td>-0.055390</td>\n",
              "      <td>0.001263</td>\n",
              "      <td>0.566936</td>\n",
              "      <td>-0.267392</td>\n",
              "      <td>-0.582027</td>\n",
              "      <td>-0.591309</td>\n",
              "      <td>0.543155</td>\n",
              "      <td>0.554610</td>\n",
              "      <td>0.054458</td>\n",
              "      <td>-0.054458</td>\n",
              "    </tr>\n",
              "    <tr>\n",
              "      <th>stroke</th>\n",
              "      <td>-0.008245</td>\n",
              "      <td>0.055563</td>\n",
              "      <td>0.158502</td>\n",
              "      <td>0.124139</td>\n",
              "      <td>0.188829</td>\n",
              "      <td>-0.062704</td>\n",
              "      <td>0.167562</td>\n",
              "      <td>0.209523</td>\n",
              "      <td>-0.055390</td>\n",
              "      <td>1.000000</td>\n",
              "      <td>0.187923</td>\n",
              "      <td>0.098462</td>\n",
              "      <td>-0.065713</td>\n",
              "      <td>-0.034696</td>\n",
              "      <td>-0.035201</td>\n",
              "      <td>0.082310</td>\n",
              "      <td>0.037300</td>\n",
              "      <td>0.241303</td>\n",
              "      <td>-0.241303</td>\n",
              "    </tr>\n",
              "    <tr>\n",
              "      <th>compression-ratio</th>\n",
              "      <td>-0.182196</td>\n",
              "      <td>-0.114713</td>\n",
              "      <td>0.250313</td>\n",
              "      <td>0.159733</td>\n",
              "      <td>0.189867</td>\n",
              "      <td>0.259737</td>\n",
              "      <td>0.156433</td>\n",
              "      <td>0.028889</td>\n",
              "      <td>0.001263</td>\n",
              "      <td>0.187923</td>\n",
              "      <td>1.000000</td>\n",
              "      <td>-0.214514</td>\n",
              "      <td>-0.435780</td>\n",
              "      <td>0.331425</td>\n",
              "      <td>0.268465</td>\n",
              "      <td>0.071107</td>\n",
              "      <td>-0.299372</td>\n",
              "      <td>0.985231</td>\n",
              "      <td>-0.985231</td>\n",
              "    </tr>\n",
              "    <tr>\n",
              "      <th>horsepower</th>\n",
              "      <td>0.075819</td>\n",
              "      <td>0.217299</td>\n",
              "      <td>0.371147</td>\n",
              "      <td>0.579821</td>\n",
              "      <td>0.615077</td>\n",
              "      <td>-0.087027</td>\n",
              "      <td>0.757976</td>\n",
              "      <td>0.822676</td>\n",
              "      <td>0.566936</td>\n",
              "      <td>0.098462</td>\n",
              "      <td>-0.214514</td>\n",
              "      <td>1.000000</td>\n",
              "      <td>0.107885</td>\n",
              "      <td>-0.822214</td>\n",
              "      <td>-0.804575</td>\n",
              "      <td>0.809575</td>\n",
              "      <td>0.889488</td>\n",
              "      <td>-0.169053</td>\n",
              "      <td>0.169053</td>\n",
              "    </tr>\n",
              "    <tr>\n",
              "      <th>peak-rpm</th>\n",
              "      <td>0.279740</td>\n",
              "      <td>0.239543</td>\n",
              "      <td>-0.360305</td>\n",
              "      <td>-0.285970</td>\n",
              "      <td>-0.245800</td>\n",
              "      <td>-0.309974</td>\n",
              "      <td>-0.279361</td>\n",
              "      <td>-0.256733</td>\n",
              "      <td>-0.267392</td>\n",
              "      <td>-0.065713</td>\n",
              "      <td>-0.435780</td>\n",
              "      <td>0.107885</td>\n",
              "      <td>1.000000</td>\n",
              "      <td>-0.115413</td>\n",
              "      <td>-0.058598</td>\n",
              "      <td>-0.101616</td>\n",
              "      <td>0.115830</td>\n",
              "      <td>-0.475812</td>\n",
              "      <td>0.475812</td>\n",
              "    </tr>\n",
              "    <tr>\n",
              "      <th>city-mpg</th>\n",
              "      <td>-0.035527</td>\n",
              "      <td>-0.225016</td>\n",
              "      <td>-0.470606</td>\n",
              "      <td>-0.665192</td>\n",
              "      <td>-0.633531</td>\n",
              "      <td>-0.049800</td>\n",
              "      <td>-0.749543</td>\n",
              "      <td>-0.650546</td>\n",
              "      <td>-0.582027</td>\n",
              "      <td>-0.034696</td>\n",
              "      <td>0.331425</td>\n",
              "      <td>-0.822214</td>\n",
              "      <td>-0.115413</td>\n",
              "      <td>1.000000</td>\n",
              "      <td>0.972044</td>\n",
              "      <td>-0.686571</td>\n",
              "      <td>-0.949713</td>\n",
              "      <td>0.265676</td>\n",
              "      <td>-0.265676</td>\n",
              "    </tr>\n",
              "    <tr>\n",
              "      <th>highway-mpg</th>\n",
              "      <td>0.036233</td>\n",
              "      <td>-0.181877</td>\n",
              "      <td>-0.543304</td>\n",
              "      <td>-0.698142</td>\n",
              "      <td>-0.680635</td>\n",
              "      <td>-0.104812</td>\n",
              "      <td>-0.794889</td>\n",
              "      <td>-0.679571</td>\n",
              "      <td>-0.591309</td>\n",
              "      <td>-0.035201</td>\n",
              "      <td>0.268465</td>\n",
              "      <td>-0.804575</td>\n",
              "      <td>-0.058598</td>\n",
              "      <td>0.972044</td>\n",
              "      <td>1.000000</td>\n",
              "      <td>-0.704692</td>\n",
              "      <td>-0.930028</td>\n",
              "      <td>0.198690</td>\n",
              "      <td>-0.198690</td>\n",
              "    </tr>\n",
              "    <tr>\n",
              "      <th>price</th>\n",
              "      <td>-0.082391</td>\n",
              "      <td>0.133999</td>\n",
              "      <td>0.584642</td>\n",
              "      <td>0.690628</td>\n",
              "      <td>0.751265</td>\n",
              "      <td>0.135486</td>\n",
              "      <td>0.834415</td>\n",
              "      <td>0.872335</td>\n",
              "      <td>0.543155</td>\n",
              "      <td>0.082310</td>\n",
              "      <td>0.071107</td>\n",
              "      <td>0.809575</td>\n",
              "      <td>-0.101616</td>\n",
              "      <td>-0.686571</td>\n",
              "      <td>-0.704692</td>\n",
              "      <td>1.000000</td>\n",
              "      <td>0.789898</td>\n",
              "      <td>0.110326</td>\n",
              "      <td>-0.110326</td>\n",
              "    </tr>\n",
              "    <tr>\n",
              "      <th>city-L/100km</th>\n",
              "      <td>0.066171</td>\n",
              "      <td>0.238567</td>\n",
              "      <td>0.476153</td>\n",
              "      <td>0.657373</td>\n",
              "      <td>0.673363</td>\n",
              "      <td>0.003811</td>\n",
              "      <td>0.785353</td>\n",
              "      <td>0.745059</td>\n",
              "      <td>0.554610</td>\n",
              "      <td>0.037300</td>\n",
              "      <td>-0.299372</td>\n",
              "      <td>0.889488</td>\n",
              "      <td>0.115830</td>\n",
              "      <td>-0.949713</td>\n",
              "      <td>-0.930028</td>\n",
              "      <td>0.789898</td>\n",
              "      <td>1.000000</td>\n",
              "      <td>-0.241282</td>\n",
              "      <td>0.241282</td>\n",
              "    </tr>\n",
              "    <tr>\n",
              "      <th>diesel</th>\n",
              "      <td>-0.196735</td>\n",
              "      <td>-0.101546</td>\n",
              "      <td>0.307237</td>\n",
              "      <td>0.211187</td>\n",
              "      <td>0.244356</td>\n",
              "      <td>0.281578</td>\n",
              "      <td>0.221046</td>\n",
              "      <td>0.070779</td>\n",
              "      <td>0.054458</td>\n",
              "      <td>0.241303</td>\n",
              "      <td>0.985231</td>\n",
              "      <td>-0.169053</td>\n",
              "      <td>-0.475812</td>\n",
              "      <td>0.265676</td>\n",
              "      <td>0.198690</td>\n",
              "      <td>0.110326</td>\n",
              "      <td>-0.241282</td>\n",
              "      <td>1.000000</td>\n",
              "      <td>-1.000000</td>\n",
              "    </tr>\n",
              "    <tr>\n",
              "      <th>gas</th>\n",
              "      <td>0.196735</td>\n",
              "      <td>0.101546</td>\n",
              "      <td>-0.307237</td>\n",
              "      <td>-0.211187</td>\n",
              "      <td>-0.244356</td>\n",
              "      <td>-0.281578</td>\n",
              "      <td>-0.221046</td>\n",
              "      <td>-0.070779</td>\n",
              "      <td>-0.054458</td>\n",
              "      <td>-0.241303</td>\n",
              "      <td>-0.985231</td>\n",
              "      <td>0.169053</td>\n",
              "      <td>0.475812</td>\n",
              "      <td>-0.265676</td>\n",
              "      <td>-0.198690</td>\n",
              "      <td>-0.110326</td>\n",
              "      <td>0.241282</td>\n",
              "      <td>-1.000000</td>\n",
              "      <td>1.000000</td>\n",
              "    </tr>\n",
              "  </tbody>\n",
              "</table>\n",
              "</div>"
            ],
            "text/plain": [
              "                   symboling  normalized-losses  ...    diesel       gas\n",
              "symboling           1.000000           0.466264  ... -0.196735  0.196735\n",
              "normalized-losses   0.466264           1.000000  ... -0.101546  0.101546\n",
              "wheel-base         -0.535987          -0.056661  ...  0.307237 -0.307237\n",
              "length             -0.365404           0.019424  ...  0.211187 -0.211187\n",
              "width              -0.242423           0.086802  ...  0.244356 -0.244356\n",
              "height             -0.550160          -0.373737  ...  0.281578 -0.281578\n",
              "curb-weight        -0.233118           0.099404  ...  0.221046 -0.221046\n",
              "engine-size        -0.110581           0.112360  ...  0.070779 -0.070779\n",
              "bore               -0.140019          -0.029862  ...  0.054458 -0.054458\n",
              "stroke             -0.008245           0.055563  ...  0.241303 -0.241303\n",
              "compression-ratio  -0.182196          -0.114713  ...  0.985231 -0.985231\n",
              "horsepower          0.075819           0.217299  ... -0.169053  0.169053\n",
              "peak-rpm            0.279740           0.239543  ... -0.475812  0.475812\n",
              "city-mpg           -0.035527          -0.225016  ...  0.265676 -0.265676\n",
              "highway-mpg         0.036233          -0.181877  ...  0.198690 -0.198690\n",
              "price              -0.082391           0.133999  ...  0.110326 -0.110326\n",
              "city-L/100km        0.066171           0.238567  ... -0.241282  0.241282\n",
              "diesel             -0.196735          -0.101546  ...  1.000000 -1.000000\n",
              "gas                 0.196735           0.101546  ... -1.000000  1.000000\n",
              "\n",
              "[19 rows x 19 columns]"
            ]
          },
          "metadata": {
            "tags": []
          },
          "execution_count": 21
        }
      ]
    },
    {
      "cell_type": "markdown",
      "metadata": {
        "id": "mXq_cJ6tV0dK",
        "colab_type": "text"
      },
      "source": [
        "Veamos cómo se correlaciona el atributo precio con los demás atributos"
      ]
    },
    {
      "cell_type": "code",
      "metadata": {
        "id": "-ZqkkGL0V1YK",
        "colab_type": "code",
        "outputId": "31c6c3a6-7ef2-45b4-9671-5c6f2fd4a421",
        "colab": {
          "base_uri": "https://localhost:8080/",
          "height": 350
        }
      },
      "source": [
        "corr_p[\"price\"].sort_values(ascending=False)"
      ],
      "execution_count": 0,
      "outputs": [
        {
          "output_type": "execute_result",
          "data": {
            "text/plain": [
              "price                1.000000\n",
              "engine-size          0.872335\n",
              "curb-weight          0.834415\n",
              "horsepower           0.809575\n",
              "city-L/100km         0.789898\n",
              "width                0.751265\n",
              "length               0.690628\n",
              "wheel-base           0.584642\n",
              "bore                 0.543155\n",
              "height               0.135486\n",
              "normalized-losses    0.133999\n",
              "diesel               0.110326\n",
              "stroke               0.082310\n",
              "compression-ratio    0.071107\n",
              "symboling           -0.082391\n",
              "peak-rpm            -0.101616\n",
              "gas                 -0.110326\n",
              "city-mpg            -0.686571\n",
              "highway-mpg         -0.704692\n",
              "Name: price, dtype: float64"
            ]
          },
          "metadata": {
            "tags": []
          },
          "execution_count": 22
        }
      ]
    },
    {
      "cell_type": "code",
      "metadata": {
        "id": "UhPXqsjwq8db",
        "colab_type": "code",
        "outputId": "90688517-bf27-4ea2-9d96-b7f9149f18b3",
        "colab": {
          "base_uri": "https://localhost:8080/",
          "height": 350
        }
      },
      "source": [
        "corr_k[\"price\"].sort_values(ascending=False)"
      ],
      "execution_count": 0,
      "outputs": [
        {
          "output_type": "execute_result",
          "data": {
            "text/plain": [
              "price                1.000000\n",
              "curb-weight          0.744265\n",
              "horsepower           0.664788\n",
              "engine-size          0.661342\n",
              "city-L/100km         0.661282\n",
              "width                0.638911\n",
              "length               0.636420\n",
              "wheel-base           0.540313\n",
              "bore                 0.489625\n",
              "height               0.182387\n",
              "normalized-losses    0.134911\n",
              "diesel               0.118449\n",
              "stroke               0.094153\n",
              "peak-rpm            -0.048705\n",
              "symboling           -0.104866\n",
              "gas                 -0.118449\n",
              "compression-ratio   -0.136957\n",
              "highway-mpg         -0.651805\n",
              "city-mpg            -0.661282\n",
              "Name: price, dtype: float64"
            ]
          },
          "metadata": {
            "tags": []
          },
          "execution_count": 23
        }
      ]
    },
    {
      "cell_type": "markdown",
      "metadata": {
        "id": "_shJ8EzMV3mH",
        "colab_type": "text"
      },
      "source": [
        "Vemos que el precio del automóvil tiende a subir a medida que, por ejemplo, aumenta el tamaño del motor (engine-size), el ancho (width) y largo (length) del vehículo; no así de su altura (heigth) o del tipo de combustible que utiliza. El atributo más prometedor para predecir el precio del vehículo es el tamaño del motor (Pearson) y el peso del motor (kendall)."
      ]
    },
    {
      "cell_type": "markdown",
      "metadata": {
        "id": "ckEafrXBV_g2",
        "colab_type": "text"
      },
      "source": [
        "Otra forma de verificar la correlación entre los atributos es usar el método `scatter_matrix`, que dibuja cada atributo numérico contra cualquier otro atributo numérico. Como tenemos 29 columnas (se generarían $29^2=841$ gráficos), grafiquemos solo algunos de los atributos que tienen más correlación con el precio:"
      ]
    },
    {
      "cell_type": "code",
      "metadata": {
        "id": "Qgqr4N2gWBSJ",
        "colab_type": "code",
        "outputId": "e99e8199-5b46-4acd-e10b-08e2c2f0cf4d",
        "colab": {
          "base_uri": "https://localhost:8080/",
          "height": 793
        }
      },
      "source": [
        "from pandas.plotting import scatter_matrix\n",
        "\n",
        "attributes = [\"engine-size\",\"curb-weight\",\"horsepower\",\"bore\"]\n",
        "\n",
        "scatter_matrix(df[attributes], figsize=(12, 8))"
      ],
      "execution_count": 0,
      "outputs": [
        {
          "output_type": "execute_result",
          "data": {
            "text/plain": [
              "array([[<matplotlib.axes._subplots.AxesSubplot object at 0x7f9c3062fe10>,\n",
              "        <matplotlib.axes._subplots.AxesSubplot object at 0x7f9c305f5518>,\n",
              "        <matplotlib.axes._subplots.AxesSubplot object at 0x7f9c305997f0>,\n",
              "        <matplotlib.axes._subplots.AxesSubplot object at 0x7f9c305bfd68>],\n",
              "       [<matplotlib.axes._subplots.AxesSubplot object at 0x7f9c30570320>,\n",
              "        <matplotlib.axes._subplots.AxesSubplot object at 0x7f9c30516898>,\n",
              "        <matplotlib.axes._subplots.AxesSubplot object at 0x7f9c3053fe10>,\n",
              "        <matplotlib.axes._subplots.AxesSubplot object at 0x7f9c304f0400>],\n",
              "       [<matplotlib.axes._subplots.AxesSubplot object at 0x7f9c304f0438>,\n",
              "        <matplotlib.axes._subplots.AxesSubplot object at 0x7f9c30b091d0>,\n",
              "        <matplotlib.axes._subplots.AxesSubplot object at 0x7f9c309bb390>,\n",
              "        <matplotlib.axes._subplots.AxesSubplot object at 0x7f9c30968550>],\n",
              "       [<matplotlib.axes._subplots.AxesSubplot object at 0x7f9c3081bef0>,\n",
              "        <matplotlib.axes._subplots.AxesSubplot object at 0x7f9c309c57b8>,\n",
              "        <matplotlib.axes._subplots.AxesSubplot object at 0x7f9c30763dd8>,\n",
              "        <matplotlib.axes._subplots.AxesSubplot object at 0x7f9c308ba4e0>]],\n",
              "      dtype=object)"
            ]
          },
          "metadata": {
            "tags": []
          },
          "execution_count": 24
        },
        {
          "output_type": "display_data",
          "data": {
            "image/png": "[encoded data removed]",
            "text/plain": [
              "<Figure size 864x576 with 16 Axes>"
            ]
          },
          "metadata": {
            "tags": []
          }
        }
      ]
    },
    {
      "cell_type": "markdown",
      "metadata": {
        "id": "xPsQl9LdWEXU",
        "colab_type": "text"
      },
      "source": [
        "La diagonal principal estaría llena de líneas rectas si Pandas dibujara cada variable contra sí misma, lo que no sería muy útil. En su lugar, Pandas muestra un histograma de cada atributo.\n",
        "\n",
        "La librería `seaborn` nos permite realizar gráficos como el anterior o, por ejemplo, en un mapa de calor, mediante las funciones `pairplot()` y `heatmap()`, respectivamente."
      ]
    },
    {
      "cell_type": "code",
      "metadata": {
        "id": "k442nxetrKih",
        "colab_type": "code",
        "outputId": "768dcd9b-68b8-4db2-950b-a1d17f4f51a3",
        "colab": {
          "base_uri": "https://localhost:8080/",
          "height": 745
        }
      },
      "source": [
        "sns.pairplot(df, hue = \"drive-wheels\", vars = [\"engine-size\",\"curb-weight\",\"horsepower\",\"bore\"])"
      ],
      "execution_count": 0,
      "outputs": [
        {
          "output_type": "execute_result",
          "data": {
            "text/plain": [
              "<seaborn.axisgrid.PairGrid at 0x7f9c306a1898>"
            ]
          },
          "metadata": {
            "tags": []
          },
          "execution_count": 25
        },
        {
          "output_type": "display_data",
          "data": {
            "image/png": "[encoded data removed]",
            "text/plain": [
              "<Figure size 791.875x720 with 20 Axes>"
            ]
          },
          "metadata": {
            "tags": []
          }
        }
      ]
    },
    {
      "cell_type": "code",
      "metadata": {
        "id": "T_ZRYA_cWO_V",
        "colab_type": "code",
        "outputId": "8ef84124-2e35-461a-eea0-a45cff3d1243",
        "colab": {
          "base_uri": "https://localhost:8080/",
          "height": 330
        }
      },
      "source": [
        "df_new = df[['engine-size','curb-weight','height','width','length','horsepower','peak-rpm','price','stroke','compression-ratio']]\n",
        "corr_new = df_new.corr()\n",
        "\n",
        "ax = sns.heatmap(\n",
        "    corr_new, \n",
        "    vmin=-1, vmax=1, center=0,\n",
        "    cmap=sns.diverging_palette(20, 220, n=200),\n",
        "    square=True\n",
        ")\n",
        "ax.set_xticklabels(\n",
        "    ax.get_xticklabels(),\n",
        "    rotation=45,\n",
        "    horizontalalignment='right'\n",
        ");"
      ],
      "execution_count": 0,
      "outputs": [
        {
          "output_type": "display_data",
          "data": {
            "image/png": "[encoded data removed]",
            "text/plain": [
              "<Figure size 432x288 with 2 Axes>"
            ]
          },
          "metadata": {
            "tags": []
          }
        }
      ]
    },
    {
      "cell_type": "markdown",
      "metadata": {
        "id": "E-pPemhgmxkG",
        "colab_type": "text"
      },
      "source": [
        "<p><a name=\"anova\"></a></p>\n",
        "\n",
        "## 4. Análisis de varianza (ANOVA)\n",
        "\n",
        "El análisis de varianza es un método estadístico que se usa para probar si existe diferencias significativas entre las medias de dos o mas grupos. ANOVA arroja como resultados dos parámetros:\n",
        "\n",
        "<ol>\n",
        "    <li>F-test score: En ANOVA se asume que todos los valores medios de los diferentes grupos son el mismo, se calcula que tanto se desvia de este supuesto y se reporta por medio del puntaje F-test. Entre más grande sea este valor, mayor diferencia existirá entre los valores medios.</li>\n",
        "    <li>P-Value: Este valor nos indica que tanta significancia estadística tienen nuestro puntaje.</li>\n",
        "</ol>\n",
        "\n",
        "Si la variable precio que estamos analizando esta fuertemente correlacionada con una variable, esperamos que ANOVA nos devuelva un puntaje razonable del F-test y un valor pequeño del P-Value."
      ]
    },
    {
      "cell_type": "markdown",
      "metadata": {
        "id": "gz5WaTmdcbwD",
        "colab_type": "text"
      },
      "source": [
        "<p><a name=\"modelado\"></a></p>\n",
        "\n",
        "### 4.1 ANOVA para creación de modelos\n",
        "\n",
        "[Contenidos](#contents)\n",
        "\n"
      ]
    },
    {
      "cell_type": "markdown",
      "metadata": {
        "id": "zGmZGvOA4BsY",
        "colab_type": "text"
      },
      "source": [
        "Podemos usar éste método para crear modelos con diferentes variables y ver su influencia en la predicción.\n",
        "\n",
        "Crearémos un modelo para ver si algunas variables tienen relación con el precio (es decir qué tanto poder predictivo tienen).\n",
        "\n",
        "Empecemos por la potencia del auto:"
      ]
    },
    {
      "cell_type": "code",
      "metadata": {
        "id": "zgJ80lID4xNf",
        "colab_type": "code",
        "outputId": "b0dbb09a-d566-4e95-e85e-079be0853e02",
        "colab": {
          "base_uri": "https://localhost:8080/",
          "height": 107
        }
      },
      "source": [
        "import statsmodels.api as sm\n",
        "from statsmodels.formula.api import ols #Ordinary linear squares\n",
        "\n",
        "anova_hp=ols('price ~ horsepower', data=df).fit() \n",
        "sm.stats.anova_lm(anova_hp)"
      ],
      "execution_count": 0,
      "outputs": [
        {
          "output_type": "execute_result",
          "data": {
            "text/html": [
              "<div>\n",
              "<style scoped>\n",
              "    .dataframe tbody tr th:only-of-type {\n",
              "        vertical-align: middle;\n",
              "    }\n",
              "\n",
              "    .dataframe tbody tr th {\n",
              "        vertical-align: top;\n",
              "    }\n",
              "\n",
              "    .dataframe thead th {\n",
              "        text-align: right;\n",
              "    }\n",
              "</style>\n",
              "<table border=\"1\" class=\"dataframe\">\n",
              "  <thead>\n",
              "    <tr style=\"text-align: right;\">\n",
              "      <th></th>\n",
              "      <th>df</th>\n",
              "      <th>sum_sq</th>\n",
              "      <th>mean_sq</th>\n",
              "      <th>F</th>\n",
              "      <th>PR(&gt;F)</th>\n",
              "    </tr>\n",
              "  </thead>\n",
              "  <tbody>\n",
              "    <tr>\n",
              "      <th>horsepower</th>\n",
              "      <td>1.0</td>\n",
              "      <td>8.278609e+09</td>\n",
              "      <td>8.278609e+09</td>\n",
              "      <td>378.499538</td>\n",
              "      <td>6.369057e-48</td>\n",
              "    </tr>\n",
              "    <tr>\n",
              "      <th>Residual</th>\n",
              "      <td>199.0</td>\n",
              "      <td>4.352563e+09</td>\n",
              "      <td>2.187218e+07</td>\n",
              "      <td>NaN</td>\n",
              "      <td>NaN</td>\n",
              "    </tr>\n",
              "  </tbody>\n",
              "</table>\n",
              "</div>"
            ],
            "text/plain": [
              "               df        sum_sq       mean_sq           F        PR(>F)\n",
              "horsepower    1.0  8.278609e+09  8.278609e+09  378.499538  6.369057e-48\n",
              "Residual    199.0  4.352563e+09  2.187218e+07         NaN           NaN"
            ]
          },
          "metadata": {
            "tags": []
          },
          "execution_count": 28
        }
      ]
    },
    {
      "cell_type": "code",
      "metadata": {
        "id": "4Hh6moUqKtFQ",
        "colab_type": "code",
        "outputId": "ff5ee62d-e09b-4816-8ffd-7be852a2f780",
        "colab": {
          "base_uri": "https://localhost:8080/",
          "height": 387
        }
      },
      "source": [
        "anova_hp.summary()"
      ],
      "execution_count": 0,
      "outputs": [
        {
          "output_type": "execute_result",
          "data": {
            "text/html": [
              "<table class=\"simpletable\">\n",
              "<caption>OLS Regression Results</caption>\n",
              "<tr>\n",
              "  <th>Dep. Variable:</th>          <td>price</td>      <th>  R-squared:         </th> <td>   0.655</td>\n",
              "</tr>\n",
              "<tr>\n",
              "  <th>Model:</th>                   <td>OLS</td>       <th>  Adj. R-squared:    </th> <td>   0.654</td>\n",
              "</tr>\n",
              "<tr>\n",
              "  <th>Method:</th>             <td>Least Squares</td>  <th>  F-statistic:       </th> <td>   378.5</td>\n",
              "</tr>\n",
              "<tr>\n",
              "  <th>Date:</th>             <td>Sat, 24 Aug 2019</td> <th>  Prob (F-statistic):</th> <td>6.37e-48</td>\n",
              "</tr>\n",
              "<tr>\n",
              "  <th>Time:</th>                 <td>14:25:19</td>     <th>  Log-Likelihood:    </th> <td> -1982.7</td>\n",
              "</tr>\n",
              "<tr>\n",
              "  <th>No. Observations:</th>      <td>   201</td>      <th>  AIC:               </th> <td>   3969.</td>\n",
              "</tr>\n",
              "<tr>\n",
              "  <th>Df Residuals:</th>          <td>   199</td>      <th>  BIC:               </th> <td>   3976.</td>\n",
              "</tr>\n",
              "<tr>\n",
              "  <th>Df Model:</th>              <td>     1</td>      <th>                     </th>     <td> </td>   \n",
              "</tr>\n",
              "<tr>\n",
              "  <th>Covariance Type:</th>      <td>nonrobust</td>    <th>                     </th>     <td> </td>   \n",
              "</tr>\n",
              "</table>\n",
              "<table class=\"simpletable\">\n",
              "<tr>\n",
              "       <td></td>         <th>coef</th>     <th>std err</th>      <th>t</th>      <th>P>|t|</th>  <th>[0.025</th>    <th>0.975]</th>  \n",
              "</tr>\n",
              "<tr>\n",
              "  <th>Intercept</th>  <td>-4597.5583</td> <td>  972.807</td> <td>   -4.726</td> <td> 0.000</td> <td>-6515.891</td> <td>-2679.226</td>\n",
              "</tr>\n",
              "<tr>\n",
              "  <th>horsepower</th> <td>  172.1831</td> <td>    8.850</td> <td>   19.455</td> <td> 0.000</td> <td>  154.731</td> <td>  189.636</td>\n",
              "</tr>\n",
              "</table>\n",
              "<table class=\"simpletable\">\n",
              "<tr>\n",
              "  <th>Omnibus:</th>       <td>39.561</td> <th>  Durbin-Watson:     </th> <td>   0.750</td>\n",
              "</tr>\n",
              "<tr>\n",
              "  <th>Prob(Omnibus):</th> <td> 0.000</td> <th>  Jarque-Bera (JB):  </th> <td>  66.861</td>\n",
              "</tr>\n",
              "<tr>\n",
              "  <th>Skew:</th>          <td> 1.028</td> <th>  Prob(JB):          </th> <td>3.03e-15</td>\n",
              "</tr>\n",
              "<tr>\n",
              "  <th>Kurtosis:</th>      <td> 4.939</td> <th>  Cond. No.          </th> <td>    324.</td>\n",
              "</tr>\n",
              "</table><br/><br/>Warnings:<br/>[1] Standard Errors assume that the covariance matrix of the errors is correctly specified."
            ],
            "text/plain": [
              "<class 'statsmodels.iolib.summary.Summary'>\n",
              "\"\"\"\n",
              "                            OLS Regression Results                            \n",
              "==============================================================================\n",
              "Dep. Variable:                  price   R-squared:                       0.655\n",
              "Model:                            OLS   Adj. R-squared:                  0.654\n",
              "Method:                 Least Squares   F-statistic:                     378.5\n",
              "Date:                Sat, 24 Aug 2019   Prob (F-statistic):           6.37e-48\n",
              "Time:                        14:25:19   Log-Likelihood:                -1982.7\n",
              "No. Observations:                 201   AIC:                             3969.\n",
              "Df Residuals:                     199   BIC:                             3976.\n",
              "Df Model:                           1                                         \n",
              "Covariance Type:            nonrobust                                         \n",
              "==============================================================================\n",
              "                 coef    std err          t      P>|t|      [0.025      0.975]\n",
              "------------------------------------------------------------------------------\n",
              "Intercept  -4597.5583    972.807     -4.726      0.000   -6515.891   -2679.226\n",
              "horsepower   172.1831      8.850     19.455      0.000     154.731     189.636\n",
              "==============================================================================\n",
              "Omnibus:                       39.561   Durbin-Watson:                   0.750\n",
              "Prob(Omnibus):                  0.000   Jarque-Bera (JB):               66.861\n",
              "Skew:                           1.028   Prob(JB):                     3.03e-15\n",
              "Kurtosis:                       4.939   Cond. No.                         324.\n",
              "==============================================================================\n",
              "\n",
              "Warnings:\n",
              "[1] Standard Errors assume that the covariance matrix of the errors is correctly specified.\n",
              "\"\"\""
            ]
          },
          "metadata": {
            "tags": []
          },
          "execution_count": 29
        }
      ]
    },
    {
      "cell_type": "markdown",
      "metadata": {
        "id": "UOwBBS-f5sZ0",
        "colab_type": "text"
      },
      "source": [
        "Podemos acceder a intervalos de confianza en nuestra predicción usando la función *wls_prediction_std*"
      ]
    },
    {
      "cell_type": "code",
      "metadata": {
        "id": "mm52UIzU3kxP",
        "colab_type": "code",
        "outputId": "c929b5b7-bc36-4960-de67-6a493a9cce7d",
        "colab": {
          "base_uri": "https://localhost:8080/",
          "height": 377
        }
      },
      "source": [
        "from statsmodels.sandbox.regression.predstd import wls_prediction_std\n",
        "\n",
        "_, iv_l, iv_u = wls_prediction_std(anova_hp)\n",
        "\n",
        "plt.figure(figsize=(8,6))\n",
        "plt.plot(df.horsepower, df.price, 'o', label=\"data\")\n",
        "plt.plot(df.horsepower, anova_hp.fittedvalues, 'r*', label=\"OLS\")\n",
        "plt.plot(df.horsepower, iv_u, 'r-.',alpha=0.3)\n",
        "plt.plot(df.horsepower, iv_l, 'r-.',alpha=0.3)\n",
        "plt.legend(loc='upper left')\n",
        "plt.show()"
      ],
      "execution_count": 0,
      "outputs": [
        {
          "output_type": "display_data",
          "data": {
            "image/png": "[encoded data removed]",
            "text/plain": [
              "<Figure size 576x432 with 1 Axes>"
            ]
          },
          "metadata": {
            "tags": []
          }
        }
      ]
    },
    {
      "cell_type": "markdown",
      "metadata": {
        "id": "b2ccCyeB-MCS",
        "colab_type": "text"
      },
      "source": [
        "Podemos crear modelos también con la combinación de varias variables, e incluso usar variables categóricas anteponiendo una *C* al nombre, y el método se encargará de su conversión a numérica."
      ]
    },
    {
      "cell_type": "code",
      "metadata": {
        "id": "vT1lL5K5LaGa",
        "colab_type": "code",
        "colab": {}
      },
      "source": [
        "dfrenamed=df.rename(columns={\"engine-type\":\"engineType\" , \"peak-rpm\":\"peakRpm\" , \"fuel-system\":\"fuelSystem\"})"
      ],
      "execution_count": 0,
      "outputs": []
    },
    {
      "cell_type": "markdown",
      "metadata": {
        "id": "HTyLnYhLB_Yj",
        "colab_type": "text"
      },
      "source": [
        "Descripcion analisis anova\n",
        "\n",
        "\n",
        "C(variableCAtegorica): Indicar variable categorica usada para predecir\n",
        "\n",
        "price : valor a predecir\n",
        "\n",
        "horsepower variable continua usada para predecir"
      ]
    },
    {
      "cell_type": "code",
      "metadata": {
        "id": "JOsK2HtA5ETa",
        "colab_type": "code",
        "outputId": "57e49b7d-21e2-4519-fdcf-5d163421fe8d",
        "colab": {
          "base_uri": "https://localhost:8080/",
          "height": 137
        }
      },
      "source": [
        "anova_cat=ols('price ~ C(make)+horsepower', data=df).fit()\n",
        "sm.stats.anova_lm(anova_cat)"
      ],
      "execution_count": 0,
      "outputs": [
        {
          "output_type": "execute_result",
          "data": {
            "text/html": [
              "<div>\n",
              "<style scoped>\n",
              "    .dataframe tbody tr th:only-of-type {\n",
              "        vertical-align: middle;\n",
              "    }\n",
              "\n",
              "    .dataframe tbody tr th {\n",
              "        vertical-align: top;\n",
              "    }\n",
              "\n",
              "    .dataframe thead th {\n",
              "        text-align: right;\n",
              "    }\n",
              "</style>\n",
              "<table border=\"1\" class=\"dataframe\">\n",
              "  <thead>\n",
              "    <tr style=\"text-align: right;\">\n",
              "      <th></th>\n",
              "      <th>df</th>\n",
              "      <th>sum_sq</th>\n",
              "      <th>mean_sq</th>\n",
              "      <th>F</th>\n",
              "      <th>PR(&gt;F)</th>\n",
              "    </tr>\n",
              "  </thead>\n",
              "  <tbody>\n",
              "    <tr>\n",
              "      <th>C(make)</th>\n",
              "      <td>21.0</td>\n",
              "      <td>1.005272e+10</td>\n",
              "      <td>4.787009e+08</td>\n",
              "      <td>81.461221</td>\n",
              "      <td>1.011969e-79</td>\n",
              "    </tr>\n",
              "    <tr>\n",
              "      <th>horsepower</th>\n",
              "      <td>1.0</td>\n",
              "      <td>1.532450e+09</td>\n",
              "      <td>1.532450e+09</td>\n",
              "      <td>260.779294</td>\n",
              "      <td>1.035023e-36</td>\n",
              "    </tr>\n",
              "    <tr>\n",
              "      <th>Residual</th>\n",
              "      <td>178.0</td>\n",
              "      <td>1.046004e+09</td>\n",
              "      <td>5.876427e+06</td>\n",
              "      <td>NaN</td>\n",
              "      <td>NaN</td>\n",
              "    </tr>\n",
              "  </tbody>\n",
              "</table>\n",
              "</div>"
            ],
            "text/plain": [
              "               df        sum_sq       mean_sq           F        PR(>F)\n",
              "C(make)      21.0  1.005272e+10  4.787009e+08   81.461221  1.011969e-79\n",
              "horsepower    1.0  1.532450e+09  1.532450e+09  260.779294  1.035023e-36\n",
              "Residual    178.0  1.046004e+09  5.876427e+06         NaN           NaN"
            ]
          },
          "metadata": {
            "tags": []
          },
          "execution_count": 32
        }
      ]
    },
    {
      "cell_type": "markdown",
      "metadata": {
        "id": "s4NMH-GU1vBn",
        "colab_type": "text"
      },
      "source": [
        "Statsmodels nos permite acceder a varias cantidades de interés para el modelo.\n",
        "\n",
        "Puede acceder atodas las opciones en la [documentación](http://www.statsmodels.org/devel/generated/statsmodels.regression.linear_model.RegressionResults.html)\n"
      ]
    },
    {
      "cell_type": "code",
      "metadata": {
        "id": "Apj_9O6s2E6N",
        "colab_type": "code",
        "outputId": "9742d26b-df74-4319-9fba-9f970560df7a",
        "colab": {
          "base_uri": "https://localhost:8080/",
          "height": 366
        }
      },
      "source": [
        "print('Parametros: ', anova_cat.params[:5])\n",
        "print('Errores estándar: ', anova_cat.bse[:5])\n",
        "print('Valores predichos: ', anova_cat.predict()[0:5])\n",
        "print('R2: ', anova_cat.rsquared)\n",
        "print('Valores p:', anova_cat.pvalues[:5])"
      ],
      "execution_count": 0,
      "outputs": [
        {
          "output_type": "stream",
          "text": [
            "Parametros:  Intercept               2377.311304\n",
            "C(make)[T.audi]         3494.964227\n",
            "C(make)[T.bmw]          9202.753050\n",
            "C(make)[T.chevrolet]   -2930.822319\n",
            "C(make)[T.dodge]       -3540.017672\n",
            "dtype: float64\n",
            "Errores estándar:  Intercept               1618.328961\n",
            "C(make)[T.audi]         1715.559851\n",
            "C(make)[T.bmw]          1643.492908\n",
            "C(make)[T.chevrolet]    2020.559978\n",
            "C(make)[T.dodge]        1635.747010\n",
            "dtype: float64\n",
            "Valores predichos:  [13997.79092045 13997.79092045 18499.41815909 16550.5540973\n",
            " 17911.51116944]\n",
            "R2:  0.9171886929316507\n",
            "Valores p: Intercept               1.436002e-01\n",
            "C(make)[T.audi]         4.310920e-02\n",
            "C(make)[T.bmw]          8.026043e-08\n",
            "C(make)[T.chevrolet]    1.486790e-01\n",
            "C(make)[T.dodge]        3.178438e-02\n",
            "dtype: float64\n"
          ],
          "name": "stdout"
        }
      ]
    },
    {
      "cell_type": "markdown",
      "metadata": {
        "id": "o8QHpEgI-0r2",
        "colab_type": "text"
      },
      "source": [
        "Notemos que sm.stats no nos devuelve el valor F para todo el modelo, solo la contribución de cada variable, para ello usamos el método *summary*."
      ]
    },
    {
      "cell_type": "code",
      "metadata": {
        "id": "EpR3YrqK55qr",
        "colab_type": "code",
        "outputId": "d9891dfd-55be-4d07-8322-73083b58988d",
        "colab": {
          "base_uri": "https://localhost:8080/",
          "height": 794
        }
      },
      "source": [
        "anova_cat.summary()"
      ],
      "execution_count": 0,
      "outputs": [
        {
          "output_type": "execute_result",
          "data": {
            "text/html": [
              "<table class=\"simpletable\">\n",
              "<caption>OLS Regression Results</caption>\n",
              "<tr>\n",
              "  <th>Dep. Variable:</th>          <td>price</td>      <th>  R-squared:         </th> <td>   0.917</td>\n",
              "</tr>\n",
              "<tr>\n",
              "  <th>Model:</th>                   <td>OLS</td>       <th>  Adj. R-squared:    </th> <td>   0.907</td>\n",
              "</tr>\n",
              "<tr>\n",
              "  <th>Method:</th>             <td>Least Squares</td>  <th>  F-statistic:       </th> <td>   89.61</td>\n",
              "</tr>\n",
              "<tr>\n",
              "  <th>Date:</th>             <td>Sat, 24 Aug 2019</td> <th>  Prob (F-statistic):</th> <td>3.40e-84</td>\n",
              "</tr>\n",
              "<tr>\n",
              "  <th>Time:</th>                 <td>14:32:20</td>     <th>  Log-Likelihood:    </th> <td> -1839.4</td>\n",
              "</tr>\n",
              "<tr>\n",
              "  <th>No. Observations:</th>      <td>   201</td>      <th>  AIC:               </th> <td>   3725.</td>\n",
              "</tr>\n",
              "<tr>\n",
              "  <th>Df Residuals:</th>          <td>   178</td>      <th>  BIC:               </th> <td>   3801.</td>\n",
              "</tr>\n",
              "<tr>\n",
              "  <th>Df Model:</th>              <td>    22</td>      <th>                     </th>     <td> </td>   \n",
              "</tr>\n",
              "<tr>\n",
              "  <th>Covariance Type:</th>      <td>nonrobust</td>    <th>                     </th>     <td> </td>   \n",
              "</tr>\n",
              "</table>\n",
              "<table class=\"simpletable\">\n",
              "<tr>\n",
              "              <td></td>                <th>coef</th>     <th>std err</th>      <th>t</th>      <th>P>|t|</th>  <th>[0.025</th>    <th>0.975]</th>  \n",
              "</tr>\n",
              "<tr>\n",
              "  <th>Intercept</th>                <td> 2377.3113</td> <td> 1618.329</td> <td>    1.469</td> <td> 0.144</td> <td> -816.268</td> <td> 5570.891</td>\n",
              "</tr>\n",
              "<tr>\n",
              "  <th>C(make)[T.audi]</th>          <td> 3494.9642</td> <td> 1715.560</td> <td>    2.037</td> <td> 0.043</td> <td>  109.511</td> <td> 6880.417</td>\n",
              "</tr>\n",
              "<tr>\n",
              "  <th>C(make)[T.bmw]</th>           <td> 9202.7530</td> <td> 1643.493</td> <td>    5.600</td> <td> 0.000</td> <td> 5959.516</td> <td> 1.24e+04</td>\n",
              "</tr>\n",
              "<tr>\n",
              "  <th>C(make)[T.chevrolet]</th>     <td>-2930.8223</td> <td> 2020.560</td> <td>   -1.451</td> <td> 0.149</td> <td>-6918.157</td> <td> 1056.512</td>\n",
              "</tr>\n",
              "<tr>\n",
              "  <th>C(make)[T.dodge]</th>         <td>-3540.0177</td> <td> 1635.747</td> <td>   -2.164</td> <td> 0.032</td> <td>-6767.970</td> <td> -312.066</td>\n",
              "</tr>\n",
              "<tr>\n",
              "  <th>C(make)[T.honda]</th>         <td>-2591.8984</td> <td> 1579.979</td> <td>   -1.640</td> <td> 0.103</td> <td>-5709.800</td> <td>  526.003</td>\n",
              "</tr>\n",
              "<tr>\n",
              "  <th>C(make)[T.isuzu]</th>         <td>-2254.6878</td> <td> 2229.086</td> <td>   -1.011</td> <td> 0.313</td> <td>-6653.523</td> <td> 2144.147</td>\n",
              "</tr>\n",
              "<tr>\n",
              "  <th>C(make)[T.jaguar]</th>        <td>  1.08e+04</td> <td> 2045.025</td> <td>    5.279</td> <td> 0.000</td> <td> 6760.726</td> <td> 1.48e+04</td>\n",
              "</tr>\n",
              "<tr>\n",
              "  <th>C(make)[T.mazda]</th>         <td> -678.4180</td> <td> 1539.827</td> <td>   -0.441</td> <td> 0.660</td> <td>-3717.083</td> <td> 2360.247</td>\n",
              "</tr>\n",
              "<tr>\n",
              "  <th>C(make)[T.mercedes-benz]</th> <td> 1.596e+04</td> <td> 1646.739</td> <td>    9.691</td> <td> 0.000</td> <td> 1.27e+04</td> <td> 1.92e+04</td>\n",
              "</tr>\n",
              "<tr>\n",
              "  <th>C(make)[T.mercury]</th>       <td>-4194.8873</td> <td> 2817.607</td> <td>   -1.489</td> <td> 0.138</td> <td>-9755.098</td> <td> 1365.324</td>\n",
              "</tr>\n",
              "<tr>\n",
              "  <th>C(make)[T.mitsubishi]</th>    <td>-4033.2517</td> <td> 1558.792</td> <td>   -2.587</td> <td> 0.010</td> <td>-7109.341</td> <td> -957.162</td>\n",
              "</tr>\n",
              "<tr>\n",
              "  <th>C(make)[T.nissan]</th>        <td>-2698.0838</td> <td> 1518.908</td> <td>   -1.776</td> <td> 0.077</td> <td>-5695.468</td> <td>  299.300</td>\n",
              "</tr>\n",
              "<tr>\n",
              "  <th>C(make)[T.peugot]</th>        <td> 2661.9134</td> <td> 1587.574</td> <td>    1.677</td> <td> 0.095</td> <td> -470.974</td> <td> 5794.801</td>\n",
              "</tr>\n",
              "<tr>\n",
              "  <th>C(make)[T.plymouth]</th>      <td>-3491.9151</td> <td> 1691.443</td> <td>   -2.064</td> <td> 0.040</td> <td>-6829.776</td> <td> -154.054</td>\n",
              "</tr>\n",
              "<tr>\n",
              "  <th>C(make)[T.porsche]</th>       <td> 9027.5886</td> <td> 1899.774</td> <td>    4.752</td> <td> 0.000</td> <td> 5278.611</td> <td> 1.28e+04</td>\n",
              "</tr>\n",
              "<tr>\n",
              "  <th>C(make)[T.renault]</th>       <td>-3696.7848</td> <td> 2217.136</td> <td>   -1.667</td> <td> 0.097</td> <td>-8072.039</td> <td>  678.469</td>\n",
              "</tr>\n",
              "<tr>\n",
              "  <th>C(make)[T.saab]</th>          <td> -414.5853</td> <td> 1714.144</td> <td>   -0.242</td> <td> 0.809</td> <td>-3797.243</td> <td> 2968.073</td>\n",
              "</tr>\n",
              "<tr>\n",
              "  <th>C(make)[T.subaru]</th>        <td>-2865.4880</td> <td> 1585.152</td> <td>   -1.808</td> <td> 0.072</td> <td>-5993.597</td> <td>  262.621</td>\n",
              "</tr>\n",
              "<tr>\n",
              "  <th>C(make)[T.toyota]</th>        <td>-2204.6756</td> <td> 1478.844</td> <td>   -1.491</td> <td> 0.138</td> <td>-5122.999</td> <td>  713.648</td>\n",
              "</tr>\n",
              "<tr>\n",
              "  <th>C(make)[T.volkswagen]</th>    <td> -788.3448</td> <td> 1590.850</td> <td>   -0.496</td> <td> 0.621</td> <td>-3927.697</td> <td> 2351.007</td>\n",
              "</tr>\n",
              "<tr>\n",
              "  <th>C(make)[T.volvo]</th>         <td> 2285.6778</td> <td> 1579.028</td> <td>    1.448</td> <td> 0.150</td> <td> -830.345</td> <td> 5401.701</td>\n",
              "</tr>\n",
              "<tr>\n",
              "  <th>horsepower</th>               <td>  104.6890</td> <td>    6.483</td> <td>   16.149</td> <td> 0.000</td> <td>   91.896</td> <td>  117.482</td>\n",
              "</tr>\n",
              "</table>\n",
              "<table class=\"simpletable\">\n",
              "<tr>\n",
              "  <th>Omnibus:</th>       <td>53.941</td> <th>  Durbin-Watson:     </th> <td>   1.349</td>\n",
              "</tr>\n",
              "<tr>\n",
              "  <th>Prob(Omnibus):</th> <td> 0.000</td> <th>  Jarque-Bera (JB):  </th> <td> 163.057</td>\n",
              "</tr>\n",
              "<tr>\n",
              "  <th>Skew:</th>          <td> 1.094</td> <th>  Prob(JB):          </th> <td>3.91e-36</td>\n",
              "</tr>\n",
              "<tr>\n",
              "  <th>Kurtosis:</th>      <td> 6.832</td> <th>  Cond. No.          </th> <td>4.29e+03</td>\n",
              "</tr>\n",
              "</table><br/><br/>Warnings:<br/>[1] Standard Errors assume that the covariance matrix of the errors is correctly specified.<br/>[2] The condition number is large, 4.29e+03. This might indicate that there are<br/>strong multicollinearity or other numerical problems."
            ],
            "text/plain": [
              "<class 'statsmodels.iolib.summary.Summary'>\n",
              "\"\"\"\n",
              "                            OLS Regression Results                            \n",
              "==============================================================================\n",
              "Dep. Variable:                  price   R-squared:                       0.917\n",
              "Model:                            OLS   Adj. R-squared:                  0.907\n",
              "Method:                 Least Squares   F-statistic:                     89.61\n",
              "Date:                Sat, 24 Aug 2019   Prob (F-statistic):           3.40e-84\n",
              "Time:                        14:32:20   Log-Likelihood:                -1839.4\n",
              "No. Observations:                 201   AIC:                             3725.\n",
              "Df Residuals:                     178   BIC:                             3801.\n",
              "Df Model:                          22                                         \n",
              "Covariance Type:            nonrobust                                         \n",
              "============================================================================================\n",
              "                               coef    std err          t      P>|t|      [0.025      0.975]\n",
              "--------------------------------------------------------------------------------------------\n",
              "Intercept                 2377.3113   1618.329      1.469      0.144    -816.268    5570.891\n",
              "C(make)[T.audi]           3494.9642   1715.560      2.037      0.043     109.511    6880.417\n",
              "C(make)[T.bmw]            9202.7530   1643.493      5.600      0.000    5959.516    1.24e+04\n",
              "C(make)[T.chevrolet]     -2930.8223   2020.560     -1.451      0.149   -6918.157    1056.512\n",
              "C(make)[T.dodge]         -3540.0177   1635.747     -2.164      0.032   -6767.970    -312.066\n",
              "C(make)[T.honda]         -2591.8984   1579.979     -1.640      0.103   -5709.800     526.003\n",
              "C(make)[T.isuzu]         -2254.6878   2229.086     -1.011      0.313   -6653.523    2144.147\n",
              "C(make)[T.jaguar]          1.08e+04   2045.025      5.279      0.000    6760.726    1.48e+04\n",
              "C(make)[T.mazda]          -678.4180   1539.827     -0.441      0.660   -3717.083    2360.247\n",
              "C(make)[T.mercedes-benz]  1.596e+04   1646.739      9.691      0.000    1.27e+04    1.92e+04\n",
              "C(make)[T.mercury]       -4194.8873   2817.607     -1.489      0.138   -9755.098    1365.324\n",
              "C(make)[T.mitsubishi]    -4033.2517   1558.792     -2.587      0.010   -7109.341    -957.162\n",
              "C(make)[T.nissan]        -2698.0838   1518.908     -1.776      0.077   -5695.468     299.300\n",
              "C(make)[T.peugot]         2661.9134   1587.574      1.677      0.095    -470.974    5794.801\n",
              "C(make)[T.plymouth]      -3491.9151   1691.443     -2.064      0.040   -6829.776    -154.054\n",
              "C(make)[T.porsche]        9027.5886   1899.774      4.752      0.000    5278.611    1.28e+04\n",
              "C(make)[T.renault]       -3696.7848   2217.136     -1.667      0.097   -8072.039     678.469\n",
              "C(make)[T.saab]           -414.5853   1714.144     -0.242      0.809   -3797.243    2968.073\n",
              "C(make)[T.subaru]        -2865.4880   1585.152     -1.808      0.072   -5993.597     262.621\n",
              "C(make)[T.toyota]        -2204.6756   1478.844     -1.491      0.138   -5122.999     713.648\n",
              "C(make)[T.volkswagen]     -788.3448   1590.850     -0.496      0.621   -3927.697    2351.007\n",
              "C(make)[T.volvo]          2285.6778   1579.028      1.448      0.150    -830.345    5401.701\n",
              "horsepower                 104.6890      6.483     16.149      0.000      91.896     117.482\n",
              "==============================================================================\n",
              "Omnibus:                       53.941   Durbin-Watson:                   1.349\n",
              "Prob(Omnibus):                  0.000   Jarque-Bera (JB):              163.057\n",
              "Skew:                           1.094   Prob(JB):                     3.91e-36\n",
              "Kurtosis:                       6.832   Cond. No.                     4.29e+03\n",
              "==============================================================================\n",
              "\n",
              "Warnings:\n",
              "[1] Standard Errors assume that the covariance matrix of the errors is correctly specified.\n",
              "[2] The condition number is large, 4.29e+03. This might indicate that there are\n",
              "strong multicollinearity or other numerical problems.\n",
              "\"\"\""
            ]
          },
          "metadata": {
            "tags": []
          },
          "execution_count": 34
        }
      ]
    },
    {
      "cell_type": "markdown",
      "metadata": {
        "id": "BcS3r0dOAMIy",
        "colab_type": "text"
      },
      "source": [
        "**Ejercicio** Cree un modelo para el precio donde use: El tipo de motor(engine-type), las rpm pico (peak-rpm) y el sistema de gasolina (fuel-system), para predecir el precio del auto. \n",
        "\n",
        "Responda:\n",
        "\n",
        "\n",
        "*   ¿Qué tan bueno es ese modelo?\n",
        "*   ¿Todas las variable usadas son importantes?\n",
        "\n"
      ]
    },
    {
      "cell_type": "markdown",
      "metadata": {
        "id": "qWasxvSaDtc6",
        "colab_type": "text"
      },
      "source": [
        "De click **aquí** para ver la respuesta.\n",
        "\n",
        "<!---\n",
        "\n",
        "nombres = {'engine-type':'enginetype','peak-rpm':'peakrpm','fuel-system':'fuelsystem'}\n",
        "df.rename(columns=nombres, inplace=True)\n",
        "\n",
        "anova_pro=ols('price ~ C(enginetype)+peakrpm+C(fuelsystem)', data=df).fit()\n",
        "sm.stats.anova_lm(anova_pro, typ=2)\n",
        "\n",
        "anova_pro.summary()\n",
        "\n",
        "--->"
      ]
    },
    {
      "cell_type": "code",
      "metadata": {
        "id": "j6PbBPeDBZM2",
        "colab_type": "code",
        "outputId": "c6b13ec1-ab63-4a32-8f4b-5d2337a62c7d",
        "colab": {
          "base_uri": "https://localhost:8080/",
          "height": 137
        }
      },
      "source": [
        "anova_exercise=ols('price ~ C(engineType) +  fuelSystem', data=dfrenamed).fit()\n",
        "sm.stats.anova_lm(anova_exercise)"
      ],
      "execution_count": 0,
      "outputs": [
        {
          "output_type": "execute_result",
          "data": {
            "text/html": [
              "<div>\n",
              "<style scoped>\n",
              "    .dataframe tbody tr th:only-of-type {\n",
              "        vertical-align: middle;\n",
              "    }\n",
              "\n",
              "    .dataframe tbody tr th {\n",
              "        vertical-align: top;\n",
              "    }\n",
              "\n",
              "    .dataframe thead th {\n",
              "        text-align: right;\n",
              "    }\n",
              "</style>\n",
              "<table border=\"1\" class=\"dataframe\">\n",
              "  <thead>\n",
              "    <tr style=\"text-align: right;\">\n",
              "      <th></th>\n",
              "      <th>df</th>\n",
              "      <th>sum_sq</th>\n",
              "      <th>mean_sq</th>\n",
              "      <th>F</th>\n",
              "      <th>PR(&gt;F)</th>\n",
              "    </tr>\n",
              "  </thead>\n",
              "  <tbody>\n",
              "    <tr>\n",
              "      <th>C(engineType)</th>\n",
              "      <td>5.0</td>\n",
              "      <td>2.545911e+09</td>\n",
              "      <td>5.091822e+08</td>\n",
              "      <td>13.310777</td>\n",
              "      <td>4.144868e-11</td>\n",
              "    </tr>\n",
              "    <tr>\n",
              "      <th>fuelSystem</th>\n",
              "      <td>7.0</td>\n",
              "      <td>2.893627e+09</td>\n",
              "      <td>4.133753e+08</td>\n",
              "      <td>10.806244</td>\n",
              "      <td>1.992487e-11</td>\n",
              "    </tr>\n",
              "    <tr>\n",
              "      <th>Residual</th>\n",
              "      <td>188.0</td>\n",
              "      <td>7.191635e+09</td>\n",
              "      <td>3.825338e+07</td>\n",
              "      <td>NaN</td>\n",
              "      <td>NaN</td>\n",
              "    </tr>\n",
              "  </tbody>\n",
              "</table>\n",
              "</div>"
            ],
            "text/plain": [
              "                  df        sum_sq       mean_sq          F        PR(>F)\n",
              "C(engineType)    5.0  2.545911e+09  5.091822e+08  13.310777  4.144868e-11\n",
              "fuelSystem       7.0  2.893627e+09  4.133753e+08  10.806244  1.992487e-11\n",
              "Residual       188.0  7.191635e+09  3.825338e+07        NaN           NaN"
            ]
          },
          "metadata": {
            "tags": []
          },
          "execution_count": 47
        }
      ]
    },
    {
      "cell_type": "code",
      "metadata": {
        "id": "p_o7-FgQNumO",
        "colab_type": "code",
        "outputId": "0541a692-01df-44b1-a835-65cf296b7fc9",
        "colab": {
          "base_uri": "https://localhost:8080/",
          "height": 583
        }
      },
      "source": [
        "anova_exercise.summary()"
      ],
      "execution_count": 0,
      "outputs": [
        {
          "output_type": "execute_result",
          "data": {
            "text/html": [
              "<table class=\"simpletable\">\n",
              "<caption>OLS Regression Results</caption>\n",
              "<tr>\n",
              "  <th>Dep. Variable:</th>          <td>price</td>      <th>  R-squared:         </th> <td>   0.431</td>\n",
              "</tr>\n",
              "<tr>\n",
              "  <th>Model:</th>                   <td>OLS</td>       <th>  Adj. R-squared:    </th> <td>   0.394</td>\n",
              "</tr>\n",
              "<tr>\n",
              "  <th>Method:</th>             <td>Least Squares</td>  <th>  F-statistic:       </th> <td>   11.85</td>\n",
              "</tr>\n",
              "<tr>\n",
              "  <th>Date:</th>             <td>Sat, 24 Aug 2019</td> <th>  Prob (F-statistic):</th> <td>1.15e-17</td>\n",
              "</tr>\n",
              "<tr>\n",
              "  <th>Time:</th>                 <td>15:29:29</td>     <th>  Log-Likelihood:    </th> <td> -2033.2</td>\n",
              "</tr>\n",
              "<tr>\n",
              "  <th>No. Observations:</th>      <td>   201</td>      <th>  AIC:               </th> <td>   4092.</td>\n",
              "</tr>\n",
              "<tr>\n",
              "  <th>Df Residuals:</th>          <td>   188</td>      <th>  BIC:               </th> <td>   4135.</td>\n",
              "</tr>\n",
              "<tr>\n",
              "  <th>Df Model:</th>              <td>    12</td>      <th>                     </th>     <td> </td>   \n",
              "</tr>\n",
              "<tr>\n",
              "  <th>Covariance Type:</th>      <td>nonrobust</td>    <th>                     </th>     <td> </td>   \n",
              "</tr>\n",
              "</table>\n",
              "<table class=\"simpletable\">\n",
              "<tr>\n",
              "             <td></td>               <th>coef</th>     <th>std err</th>      <th>t</th>      <th>P>|t|</th>  <th>[0.025</th>    <th>0.975]</th>  \n",
              "</tr>\n",
              "<tr>\n",
              "  <th>Intercept</th>              <td> 9826.3896</td> <td> 2704.236</td> <td>    3.634</td> <td> 0.000</td> <td> 4491.844</td> <td> 1.52e+04</td>\n",
              "</tr>\n",
              "<tr>\n",
              "  <th>C(engineType)[T.l]</th>     <td>-2815.6636</td> <td> 2621.909</td> <td>   -1.074</td> <td> 0.284</td> <td>-7987.806</td> <td> 2356.479</td>\n",
              "</tr>\n",
              "<tr>\n",
              "  <th>C(engineType)[T.ohc]</th>   <td>-2270.8442</td> <td> 1958.395</td> <td>   -1.160</td> <td> 0.248</td> <td>-6134.098</td> <td> 1592.409</td>\n",
              "</tr>\n",
              "<tr>\n",
              "  <th>C(engineType)[T.ohcf]</th>  <td>  273.8890</td> <td> 2465.580</td> <td>    0.111</td> <td> 0.912</td> <td>-4589.868</td> <td> 5137.646</td>\n",
              "</tr>\n",
              "<tr>\n",
              "  <th>C(engineType)[T.ohcv]</th>  <td> 6981.9679</td> <td> 2475.954</td> <td>    2.820</td> <td> 0.005</td> <td> 2097.746</td> <td> 1.19e+04</td>\n",
              "</tr>\n",
              "<tr>\n",
              "  <th>C(engineType)[T.rotor]</th> <td>-2471.4167</td> <td> 6437.481</td> <td>   -0.384</td> <td> 0.701</td> <td>-1.52e+04</td> <td> 1.02e+04</td>\n",
              "</tr>\n",
              "<tr>\n",
              "  <th>fuelSystem[T.2bbl]</th>     <td> -431.9212</td> <td> 2030.353</td> <td>   -0.213</td> <td> 0.832</td> <td>-4437.123</td> <td> 3573.281</td>\n",
              "</tr>\n",
              "<tr>\n",
              "  <th>fuelSystem[T.4bbl]</th>     <td> 4790.0270</td> <td> 7424.932</td> <td>    0.645</td> <td> 0.520</td> <td>-9856.859</td> <td> 1.94e+04</td>\n",
              "</tr>\n",
              "<tr>\n",
              "  <th>fuelSystem[T.idi]</th>      <td> 8418.8094</td> <td> 2371.900</td> <td>    3.549</td> <td> 0.000</td> <td> 3739.851</td> <td> 1.31e+04</td>\n",
              "</tr>\n",
              "<tr>\n",
              "  <th>fuelSystem[T.mfi]</th>      <td> 5408.4545</td> <td> 6459.950</td> <td>    0.837</td> <td> 0.404</td> <td>-7334.848</td> <td> 1.82e+04</td>\n",
              "</tr>\n",
              "<tr>\n",
              "  <th>fuelSystem[T.mpfi]</th>     <td> 8290.0270</td> <td> 2031.037</td> <td>    4.082</td> <td> 0.000</td> <td> 4283.476</td> <td> 1.23e+04</td>\n",
              "</tr>\n",
              "<tr>\n",
              "  <th>fuelSystem[T.spdi]</th>     <td> 3434.8990</td> <td> 2779.920</td> <td>    1.236</td> <td> 0.218</td> <td>-2048.945</td> <td> 8918.743</td>\n",
              "</tr>\n",
              "<tr>\n",
              "  <th>fuelSystem[T.spfi]</th>     <td> 3492.4545</td> <td> 6459.950</td> <td>    0.541</td> <td> 0.589</td> <td>-9250.848</td> <td> 1.62e+04</td>\n",
              "</tr>\n",
              "</table>\n",
              "<table class=\"simpletable\">\n",
              "<tr>\n",
              "  <th>Omnibus:</th>       <td>60.791</td> <th>  Durbin-Watson:     </th> <td>   0.630</td>\n",
              "</tr>\n",
              "<tr>\n",
              "  <th>Prob(Omnibus):</th> <td> 0.000</td> <th>  Jarque-Bera (JB):  </th> <td> 141.998</td>\n",
              "</tr>\n",
              "<tr>\n",
              "  <th>Skew:</th>          <td> 1.367</td> <th>  Prob(JB):          </th> <td>1.46e-31</td>\n",
              "</tr>\n",
              "<tr>\n",
              "  <th>Kurtosis:</th>      <td> 6.079</td> <th>  Cond. No.          </th> <td>    29.8</td>\n",
              "</tr>\n",
              "</table><br/><br/>Warnings:<br/>[1] Standard Errors assume that the covariance matrix of the errors is correctly specified."
            ],
            "text/plain": [
              "<class 'statsmodels.iolib.summary.Summary'>\n",
              "\"\"\"\n",
              "                            OLS Regression Results                            \n",
              "==============================================================================\n",
              "Dep. Variable:                  price   R-squared:                       0.431\n",
              "Model:                            OLS   Adj. R-squared:                  0.394\n",
              "Method:                 Least Squares   F-statistic:                     11.85\n",
              "Date:                Sat, 24 Aug 2019   Prob (F-statistic):           1.15e-17\n",
              "Time:                        15:29:29   Log-Likelihood:                -2033.2\n",
              "No. Observations:                 201   AIC:                             4092.\n",
              "Df Residuals:                     188   BIC:                             4135.\n",
              "Df Model:                          12                                         \n",
              "Covariance Type:            nonrobust                                         \n",
              "==========================================================================================\n",
              "                             coef    std err          t      P>|t|      [0.025      0.975]\n",
              "------------------------------------------------------------------------------------------\n",
              "Intercept               9826.3896   2704.236      3.634      0.000    4491.844    1.52e+04\n",
              "C(engineType)[T.l]     -2815.6636   2621.909     -1.074      0.284   -7987.806    2356.479\n",
              "C(engineType)[T.ohc]   -2270.8442   1958.395     -1.160      0.248   -6134.098    1592.409\n",
              "C(engineType)[T.ohcf]    273.8890   2465.580      0.111      0.912   -4589.868    5137.646\n",
              "C(engineType)[T.ohcv]   6981.9679   2475.954      2.820      0.005    2097.746    1.19e+04\n",
              "C(engineType)[T.rotor] -2471.4167   6437.481     -0.384      0.701   -1.52e+04    1.02e+04\n",
              "fuelSystem[T.2bbl]      -431.9212   2030.353     -0.213      0.832   -4437.123    3573.281\n",
              "fuelSystem[T.4bbl]      4790.0270   7424.932      0.645      0.520   -9856.859    1.94e+04\n",
              "fuelSystem[T.idi]       8418.8094   2371.900      3.549      0.000    3739.851    1.31e+04\n",
              "fuelSystem[T.mfi]       5408.4545   6459.950      0.837      0.404   -7334.848    1.82e+04\n",
              "fuelSystem[T.mpfi]      8290.0270   2031.037      4.082      0.000    4283.476    1.23e+04\n",
              "fuelSystem[T.spdi]      3434.8990   2779.920      1.236      0.218   -2048.945    8918.743\n",
              "fuelSystem[T.spfi]      3492.4545   6459.950      0.541      0.589   -9250.848    1.62e+04\n",
              "==============================================================================\n",
              "Omnibus:                       60.791   Durbin-Watson:                   0.630\n",
              "Prob(Omnibus):                  0.000   Jarque-Bera (JB):              141.998\n",
              "Skew:                           1.367   Prob(JB):                     1.46e-31\n",
              "Kurtosis:                       6.079   Cond. No.                         29.8\n",
              "==============================================================================\n",
              "\n",
              "Warnings:\n",
              "[1] Standard Errors assume that the covariance matrix of the errors is correctly specified.\n",
              "\"\"\""
            ]
          },
          "metadata": {
            "tags": []
          },
          "execution_count": 48
        }
      ]
    },
    {
      "cell_type": "markdown",
      "metadata": {
        "id": "MdR-wwaccEb_",
        "colab_type": "text"
      },
      "source": [
        "<p><a name=\"Reducción dimensional\"></a></p>\n",
        "\n",
        "### 4.2 ANOVA para la reducción dimensional\n",
        "\n",
        "[Contenidos](#contents) "
      ]
    },
    {
      "cell_type": "markdown",
      "metadata": {
        "id": "1wnyMkbFeGGM",
        "colab_type": "text"
      },
      "source": [
        "También es posible aprovechar el análisis ANOVA para hacer reducción dimensional o limpieza de ruido, ya que éste nos entrega información sobre qué variables son más importantes para el modelado.\n",
        "\n"
      ]
    },
    {
      "cell_type": "markdown",
      "metadata": {
        "id": "1ji0HLaDr4mh",
        "colab_type": "text"
      },
      "source": [
        "Veamos qué tal funciona éste método para limpar de ruido nuestros datos si los usamos para predecir el precio del auto."
      ]
    },
    {
      "cell_type": "code",
      "metadata": {
        "id": "nVmGdiwQeT4V",
        "colab_type": "code",
        "colab": {}
      },
      "source": [
        "#para ésta demostración usaremos solo las columnas con tipo flotante\n",
        "df.dropna(inplace=True)\n",
        "df.reset_index(drop=True,inplace=True)\n",
        "d = [df.dtypes=='float64']\n",
        "l = [d[0][i] for i in range(len(df.columns))]\n",
        "df_float = df.loc[:,l]"
      ],
      "execution_count": 0,
      "outputs": []
    },
    {
      "cell_type": "code",
      "metadata": {
        "id": "RcWZ0bl3eXPq",
        "colab_type": "code",
        "colab": {}
      },
      "source": [
        "#generamos nuevas columnas con ruido aleatorio\n",
        "rng = np.random.RandomState(42)\n",
        "ruido = rng.normal(size=(df.shape[0], 10))\n",
        "df_ruido =pd.DataFrame(ruido)"
      ],
      "execution_count": 0,
      "outputs": []
    },
    {
      "cell_type": "code",
      "metadata": {
        "id": "1QWLOE2qfFHY",
        "colab_type": "code",
        "colab": {}
      },
      "source": [
        "df2 = pd.concat([df_float,df_ruido],axis=1)"
      ],
      "execution_count": 0,
      "outputs": []
    },
    {
      "cell_type": "code",
      "metadata": {
        "id": "59jnVaX3fMu1",
        "colab_type": "code",
        "outputId": "81d867fa-a08c-42bd-80f8-4feaefada4d7",
        "colab": {
          "base_uri": "https://localhost:8080/",
          "height": 234
        }
      },
      "source": [
        "df2.head()"
      ],
      "execution_count": 0,
      "outputs": [
        {
          "output_type": "execute_result",
          "data": {
            "text/html": [
              "<div>\n",
              "<style scoped>\n",
              "    .dataframe tbody tr th:only-of-type {\n",
              "        vertical-align: middle;\n",
              "    }\n",
              "\n",
              "    .dataframe tbody tr th {\n",
              "        vertical-align: top;\n",
              "    }\n",
              "\n",
              "    .dataframe thead th {\n",
              "        text-align: right;\n",
              "    }\n",
              "</style>\n",
              "<table border=\"1\" class=\"dataframe\">\n",
              "  <thead>\n",
              "    <tr style=\"text-align: right;\">\n",
              "      <th></th>\n",
              "      <th>wheel-base</th>\n",
              "      <th>length</th>\n",
              "      <th>width</th>\n",
              "      <th>height</th>\n",
              "      <th>bore</th>\n",
              "      <th>stroke</th>\n",
              "      <th>compression-ratio</th>\n",
              "      <th>horsepower</th>\n",
              "      <th>peak-rpm</th>\n",
              "      <th>price</th>\n",
              "      <th>city-L/100km</th>\n",
              "      <th>0</th>\n",
              "      <th>1</th>\n",
              "      <th>2</th>\n",
              "      <th>3</th>\n",
              "      <th>4</th>\n",
              "      <th>5</th>\n",
              "      <th>6</th>\n",
              "      <th>7</th>\n",
              "      <th>8</th>\n",
              "      <th>9</th>\n",
              "    </tr>\n",
              "  </thead>\n",
              "  <tbody>\n",
              "    <tr>\n",
              "      <th>0</th>\n",
              "      <td>88.6</td>\n",
              "      <td>0.811148</td>\n",
              "      <td>0.890278</td>\n",
              "      <td>48.8</td>\n",
              "      <td>3.47</td>\n",
              "      <td>2.68</td>\n",
              "      <td>9.0</td>\n",
              "      <td>111.0</td>\n",
              "      <td>5000.0</td>\n",
              "      <td>13495.0</td>\n",
              "      <td>11.190476</td>\n",
              "      <td>0.496714</td>\n",
              "      <td>-0.138264</td>\n",
              "      <td>0.647689</td>\n",
              "      <td>1.523030</td>\n",
              "      <td>-0.234153</td>\n",
              "      <td>-0.234137</td>\n",
              "      <td>1.579213</td>\n",
              "      <td>0.767435</td>\n",
              "      <td>-0.469474</td>\n",
              "      <td>0.542560</td>\n",
              "    </tr>\n",
              "    <tr>\n",
              "      <th>1</th>\n",
              "      <td>88.6</td>\n",
              "      <td>0.811148</td>\n",
              "      <td>0.890278</td>\n",
              "      <td>48.8</td>\n",
              "      <td>3.47</td>\n",
              "      <td>2.68</td>\n",
              "      <td>9.0</td>\n",
              "      <td>111.0</td>\n",
              "      <td>5000.0</td>\n",
              "      <td>16500.0</td>\n",
              "      <td>11.190476</td>\n",
              "      <td>-0.463418</td>\n",
              "      <td>-0.465730</td>\n",
              "      <td>0.241962</td>\n",
              "      <td>-1.913280</td>\n",
              "      <td>-1.724918</td>\n",
              "      <td>-0.562288</td>\n",
              "      <td>-1.012831</td>\n",
              "      <td>0.314247</td>\n",
              "      <td>-0.908024</td>\n",
              "      <td>-1.412304</td>\n",
              "    </tr>\n",
              "    <tr>\n",
              "      <th>2</th>\n",
              "      <td>94.5</td>\n",
              "      <td>0.822681</td>\n",
              "      <td>0.909722</td>\n",
              "      <td>52.4</td>\n",
              "      <td>2.68</td>\n",
              "      <td>3.47</td>\n",
              "      <td>9.0</td>\n",
              "      <td>154.0</td>\n",
              "      <td>5000.0</td>\n",
              "      <td>16500.0</td>\n",
              "      <td>12.368421</td>\n",
              "      <td>1.465649</td>\n",
              "      <td>-0.225776</td>\n",
              "      <td>0.067528</td>\n",
              "      <td>-1.424748</td>\n",
              "      <td>-0.544383</td>\n",
              "      <td>0.110923</td>\n",
              "      <td>-1.150994</td>\n",
              "      <td>0.375698</td>\n",
              "      <td>-0.600639</td>\n",
              "      <td>-0.291694</td>\n",
              "    </tr>\n",
              "    <tr>\n",
              "      <th>3</th>\n",
              "      <td>99.8</td>\n",
              "      <td>0.848630</td>\n",
              "      <td>0.919444</td>\n",
              "      <td>54.3</td>\n",
              "      <td>3.19</td>\n",
              "      <td>3.40</td>\n",
              "      <td>10.0</td>\n",
              "      <td>102.0</td>\n",
              "      <td>5500.0</td>\n",
              "      <td>13950.0</td>\n",
              "      <td>9.791667</td>\n",
              "      <td>-0.601707</td>\n",
              "      <td>1.852278</td>\n",
              "      <td>-0.013497</td>\n",
              "      <td>-1.057711</td>\n",
              "      <td>0.822545</td>\n",
              "      <td>-1.220844</td>\n",
              "      <td>0.208864</td>\n",
              "      <td>-1.959670</td>\n",
              "      <td>-1.328186</td>\n",
              "      <td>0.196861</td>\n",
              "    </tr>\n",
              "    <tr>\n",
              "      <th>4</th>\n",
              "      <td>99.4</td>\n",
              "      <td>0.848630</td>\n",
              "      <td>0.922222</td>\n",
              "      <td>54.3</td>\n",
              "      <td>3.19</td>\n",
              "      <td>3.40</td>\n",
              "      <td>8.0</td>\n",
              "      <td>115.0</td>\n",
              "      <td>5500.0</td>\n",
              "      <td>17450.0</td>\n",
              "      <td>13.055556</td>\n",
              "      <td>0.738467</td>\n",
              "      <td>0.171368</td>\n",
              "      <td>-0.115648</td>\n",
              "      <td>-0.301104</td>\n",
              "      <td>-1.478522</td>\n",
              "      <td>-0.719844</td>\n",
              "      <td>-0.460639</td>\n",
              "      <td>1.057122</td>\n",
              "      <td>0.343618</td>\n",
              "      <td>-1.763040</td>\n",
              "    </tr>\n",
              "  </tbody>\n",
              "</table>\n",
              "</div>"
            ],
            "text/plain": [
              "   wheel-base    length     width  ...         7         8         9\n",
              "0        88.6  0.811148  0.890278  ...  0.767435 -0.469474  0.542560\n",
              "1        88.6  0.811148  0.890278  ...  0.314247 -0.908024 -1.412304\n",
              "2        94.5  0.822681  0.909722  ...  0.375698 -0.600639 -0.291694\n",
              "3        99.8  0.848630  0.919444  ... -1.959670 -1.328186  0.196861\n",
              "4        99.4  0.848630  0.922222  ...  1.057122  0.343618 -1.763040\n",
              "\n",
              "[5 rows x 21 columns]"
            ]
          },
          "metadata": {
            "tags": []
          },
          "execution_count": 53
        }
      ]
    },
    {
      "cell_type": "code",
      "metadata": {
        "id": "xKd6rO9Af2sS",
        "colab_type": "code",
        "colab": {}
      },
      "source": [
        "y = df2['price'] #variable dependiente (a predecir)\n",
        "X = df2.drop(['price'],axis=1) #variables independientes (features)\n"
      ],
      "execution_count": 0,
      "outputs": []
    },
    {
      "cell_type": "code",
      "metadata": {
        "id": "M26pGpuVhDuf",
        "colab_type": "code",
        "colab": {}
      },
      "source": [
        "from sklearn.feature_selection import f_regression #f_classif para problemas de clasificación\n",
        "from sklearn.feature_selection import SelectPercentile"
      ],
      "execution_count": 0,
      "outputs": []
    },
    {
      "cell_type": "code",
      "metadata": {
        "id": "p0OfTYJzhKgO",
        "colab_type": "code",
        "outputId": "39644b8b-a4e7-447c-9703-32bbada3ce9f",
        "colab": {
          "base_uri": "https://localhost:8080/",
          "height": 50
        }
      },
      "source": [
        "select = SelectPercentile(score_func=f_regression, percentile=50)\n",
        "select.fit(X, y)\n",
        "X_sel = select.transform(X)\n",
        "\n",
        "\n",
        "print(\"X_train\",X.shape)\n",
        "print(\"X_train_sel\",X_sel.shape)"
      ],
      "execution_count": 0,
      "outputs": [
        {
          "output_type": "stream",
          "text": [
            "X_train (196, 20)\n",
            "X_train_sel (196, 10)\n"
          ],
          "name": "stdout"
        }
      ]
    },
    {
      "cell_type": "code",
      "metadata": {
        "id": "D-VE3aszjtqN",
        "colab_type": "code",
        "outputId": "26cf148b-cba9-4677-f51e-38721bee84f0",
        "colab": {
          "base_uri": "https://localhost:8080/",
          "height": 143
        }
      },
      "source": [
        "import matplotlib.pyplot as plt\n",
        "mask = select.get_support()\n",
        "print([a for a in zip(X.columns,mask)])\n",
        "plt.matshow(mask.reshape(1, -1), cmap='gray_r')\n",
        "plt.xlabel(\"indice\")\n",
        "plt.show()"
      ],
      "execution_count": 0,
      "outputs": [
        {
          "output_type": "stream",
          "text": [
            "[('wheel-base', True), ('length', True), ('width', True), ('height', True), ('bore', True), ('stroke', True), ('compression-ratio', False), ('horsepower', True), ('peak-rpm', False), ('city-L/100km', True), (0, False), (1, False), (2, False), (3, False), (4, False), (5, False), (6, True), (7, False), (8, True), (9, False)]\n"
          ],
          "name": "stdout"
        },
        {
          "output_type": "display_data",
          "data": {
            "image/png": "[encoded data removed]",
            "text/plain": [
              "<Figure size 1152x144 with 1 Axes>"
            ]
          },
          "metadata": {
            "tags": []
          }
        }
      ]
    },
    {
      "cell_type": "markdown",
      "metadata": {
        "id": "j8A5PV_PsWLV",
        "colab_type": "text"
      },
      "source": [
        "Al haber limpiado el ruido, éstos datos deberían ser mejor para generar un modelo que usar todas las columnas disponibles.\n",
        "\n",
        "Hagámos un experimento: "
      ]
    },
    {
      "cell_type": "code",
      "metadata": {
        "id": "BBfmxofTpys2",
        "colab_type": "code",
        "colab": {}
      },
      "source": [
        "from sklearn.linear_model import LinearRegression\n",
        "from sklearn.model_selection import train_test_split\n",
        "X_train, X_test, y_train, y_test = train_test_split(X, y, random_state=0, test_size=0.25)\n",
        "\n",
        "select = SelectPercentile(score_func=f_regression,percentile=60)\n",
        "select.fit(X_train, y_train)\n",
        "X_sel = select.transform(X_train)"
      ],
      "execution_count": 0,
      "outputs": []
    },
    {
      "cell_type": "code",
      "metadata": {
        "id": "OA_G6fzYvxh1",
        "colab_type": "code",
        "outputId": "2a468b5b-cfad-46a4-961c-23d663fad1e9",
        "colab": {
          "base_uri": "https://localhost:8080/",
          "height": 33
        }
      },
      "source": [
        "X_test_sel = select.transform(X_test)\n",
        "lr = LinearRegression()\n",
        "lr_red = LinearRegression()\n",
        "lr.fit(X_train, y_train)\n",
        "lr_red.fit(X_sel, y_train)"
      ],
      "execution_count": 0,
      "outputs": [
        {
          "output_type": "execute_result",
          "data": {
            "text/plain": [
              "LinearRegression(copy_X=True, fit_intercept=True, n_jobs=None, normalize=False)"
            ]
          },
          "metadata": {
            "tags": []
          },
          "execution_count": 66
        }
      ]
    },
    {
      "cell_type": "code",
      "metadata": {
        "id": "gWzIKL9Is6GD",
        "colab_type": "code",
        "outputId": "977234f1-f6cd-4869-c477-b0e989d97063",
        "colab": {
          "base_uri": "https://localhost:8080/",
          "height": 50
        }
      },
      "source": [
        "print(\"Precisión con todas las columnas: %.2f\" %lr.score(X_test, y_test))\n",
        "print(\"Precisión con las seleccionadas: %.2f\" %lr_red.score(X_test_sel, y_test))"
      ],
      "execution_count": 0,
      "outputs": [
        {
          "output_type": "stream",
          "text": [
            "Precisión con todas las columnas: 0.81\n",
            "Precisión con las seleccionadas: 0.84\n"
          ],
          "name": "stdout"
        }
      ]
    },
    {
      "cell_type": "markdown",
      "metadata": {
        "id": "fphsz5vLzXI9",
        "colab_type": "text"
      },
      "source": [
        "Como vemos, en éste ejemplo sencillo de regresión lineal, la elimininación de ruido nos aumenta la precisión en un 2%"
      ]
    },
    {
      "cell_type": "markdown",
      "metadata": {
        "id": "eTTWJd6QaH-_",
        "colab_type": "text"
      },
      "source": [
        "# Ejercicio\n",
        "\n",
        "Para un conjunto de jugadores de la NBA, se desea evaluar si existe relación entre algunas variables asociadas a los jugadores. \n",
        "\n",
        "El dataset de la NBA ('https://cdncontribute.geeksforgeeks.org/wp-content/uploads/nba.csv') contiene información de los jugadores, como su nombre, equipo, posición, edad, altura (pies-pulgadas), peso (libras) y salario anual.\n"
      ]
    },
    {
      "cell_type": "markdown",
      "metadata": {
        "id": "23DfLe3n1fqg",
        "colab_type": "text"
      },
      "source": [
        "## Pregunta 1\n",
        "\n",
        "Cargar e inspeccionar el dataset"
      ]
    },
    {
      "cell_type": "code",
      "metadata": {
        "id": "ArmnvNCvVXET",
        "colab_type": "code",
        "colab": {}
      },
      "source": [
        "nba=pd.read_csv('https://cdncontribute.geeksforgeeks.org/wp-content/uploads/nba.csv')"
      ],
      "execution_count": 0,
      "outputs": []
    },
    {
      "cell_type": "code",
      "metadata": {
        "id": "NHPmtnq-Vy9K",
        "colab_type": "code",
        "outputId": "544529f8-ee63-4c36-ecac-e8147faf67e4",
        "colab": {
          "base_uri": "https://localhost:8080/",
          "height": 197
        }
      },
      "source": [
        "nba.head()"
      ],
      "execution_count": 0,
      "outputs": [
        {
          "output_type": "execute_result",
          "data": {
            "text/html": [
              "<div>\n",
              "<style scoped>\n",
              "    .dataframe tbody tr th:only-of-type {\n",
              "        vertical-align: middle;\n",
              "    }\n",
              "\n",
              "    .dataframe tbody tr th {\n",
              "        vertical-align: top;\n",
              "    }\n",
              "\n",
              "    .dataframe thead th {\n",
              "        text-align: right;\n",
              "    }\n",
              "</style>\n",
              "<table border=\"1\" class=\"dataframe\">\n",
              "  <thead>\n",
              "    <tr style=\"text-align: right;\">\n",
              "      <th></th>\n",
              "      <th>Name</th>\n",
              "      <th>Team</th>\n",
              "      <th>Number</th>\n",
              "      <th>Position</th>\n",
              "      <th>Age</th>\n",
              "      <th>Height</th>\n",
              "      <th>Weight</th>\n",
              "      <th>College</th>\n",
              "      <th>Salary</th>\n",
              "    </tr>\n",
              "  </thead>\n",
              "  <tbody>\n",
              "    <tr>\n",
              "      <th>0</th>\n",
              "      <td>Avery Bradley</td>\n",
              "      <td>Boston Celtics</td>\n",
              "      <td>0.0</td>\n",
              "      <td>PG</td>\n",
              "      <td>25.0</td>\n",
              "      <td>6-2</td>\n",
              "      <td>180.0</td>\n",
              "      <td>Texas</td>\n",
              "      <td>7730337.0</td>\n",
              "    </tr>\n",
              "    <tr>\n",
              "      <th>1</th>\n",
              "      <td>Jae Crowder</td>\n",
              "      <td>Boston Celtics</td>\n",
              "      <td>99.0</td>\n",
              "      <td>SF</td>\n",
              "      <td>25.0</td>\n",
              "      <td>6-6</td>\n",
              "      <td>235.0</td>\n",
              "      <td>Marquette</td>\n",
              "      <td>6796117.0</td>\n",
              "    </tr>\n",
              "    <tr>\n",
              "      <th>2</th>\n",
              "      <td>John Holland</td>\n",
              "      <td>Boston Celtics</td>\n",
              "      <td>30.0</td>\n",
              "      <td>SG</td>\n",
              "      <td>27.0</td>\n",
              "      <td>6-5</td>\n",
              "      <td>205.0</td>\n",
              "      <td>Boston University</td>\n",
              "      <td>NaN</td>\n",
              "    </tr>\n",
              "    <tr>\n",
              "      <th>3</th>\n",
              "      <td>R.J. Hunter</td>\n",
              "      <td>Boston Celtics</td>\n",
              "      <td>28.0</td>\n",
              "      <td>SG</td>\n",
              "      <td>22.0</td>\n",
              "      <td>6-5</td>\n",
              "      <td>185.0</td>\n",
              "      <td>Georgia State</td>\n",
              "      <td>1148640.0</td>\n",
              "    </tr>\n",
              "    <tr>\n",
              "      <th>4</th>\n",
              "      <td>Jonas Jerebko</td>\n",
              "      <td>Boston Celtics</td>\n",
              "      <td>8.0</td>\n",
              "      <td>PF</td>\n",
              "      <td>29.0</td>\n",
              "      <td>6-10</td>\n",
              "      <td>231.0</td>\n",
              "      <td>NaN</td>\n",
              "      <td>5000000.0</td>\n",
              "    </tr>\n",
              "  </tbody>\n",
              "</table>\n",
              "</div>"
            ],
            "text/plain": [
              "            Name            Team  Number  ... Weight            College     Salary\n",
              "0  Avery Bradley  Boston Celtics     0.0  ...  180.0              Texas  7730337.0\n",
              "1    Jae Crowder  Boston Celtics    99.0  ...  235.0          Marquette  6796117.0\n",
              "2   John Holland  Boston Celtics    30.0  ...  205.0  Boston University        NaN\n",
              "3    R.J. Hunter  Boston Celtics    28.0  ...  185.0      Georgia State  1148640.0\n",
              "4  Jonas Jerebko  Boston Celtics     8.0  ...  231.0                NaN  5000000.0\n",
              "\n",
              "[5 rows x 9 columns]"
            ]
          },
          "metadata": {
            "tags": []
          },
          "execution_count": 72
        }
      ]
    },
    {
      "cell_type": "markdown",
      "metadata": {
        "id": "_4enhS6a2ylU",
        "colab_type": "text"
      },
      "source": [
        "Hacer doble click <b>aquí</b> para ver la solución:\n",
        "\n",
        "<!-- Respuesta:\n",
        "import pandas as pd\n",
        "import numpy as np\n",
        "\n",
        "# Cargando el dataset\n",
        "dfNBA=pd.read_csv('https://cdncontribute.geeksforgeeks.org/wp-content/uploads/nba.csv')\n",
        "\n",
        "#Inspeccionando el dataset\n",
        "dfNBA.head()\n",
        "\n",
        "dfNBA.columns\n",
        "\n",
        "dfNBA.shape\n",
        "\n",
        "\n",
        "--->"
      ]
    },
    {
      "cell_type": "markdown",
      "metadata": {
        "id": "ogJf-3c3dp8w",
        "colab_type": "text"
      },
      "source": [
        "## Pregunta 2\n",
        "\n",
        "Eliminar las filas que tengan el salario nulo y la columna number, ya que esta no tiene ninguna relevancia"
      ]
    },
    {
      "cell_type": "code",
      "metadata": {
        "id": "C0LdXsRFVsic",
        "colab_type": "code",
        "colab": {}
      },
      "source": [
        "nba.dropna( subset=['Salary'], inplace=True)\n",
        "nba.drop(columns=['level_0','index'],inplace=True)"
      ],
      "execution_count": 0,
      "outputs": []
    },
    {
      "cell_type": "code",
      "metadata": {
        "id": "juOzCDefYhOe",
        "colab_type": "code",
        "colab": {}
      },
      "source": [
        "nba.drop(columns=['index'],inplace=True)"
      ],
      "execution_count": 0,
      "outputs": []
    },
    {
      "cell_type": "code",
      "metadata": {
        "id": "WEXqjBxLW_nd",
        "colab_type": "code",
        "outputId": "a259f7da-ca3a-4547-e0e5-fb51f2436516",
        "colab": {
          "base_uri": "https://localhost:8080/",
          "height": 197
        }
      },
      "source": [
        "nba.reset_index(inplace=True,drop=True)\n",
        "nba.head()"
      ],
      "execution_count": 0,
      "outputs": [
        {
          "output_type": "execute_result",
          "data": {
            "text/html": [
              "<div>\n",
              "<style scoped>\n",
              "    .dataframe tbody tr th:only-of-type {\n",
              "        vertical-align: middle;\n",
              "    }\n",
              "\n",
              "    .dataframe tbody tr th {\n",
              "        vertical-align: top;\n",
              "    }\n",
              "\n",
              "    .dataframe thead th {\n",
              "        text-align: right;\n",
              "    }\n",
              "</style>\n",
              "<table border=\"1\" class=\"dataframe\">\n",
              "  <thead>\n",
              "    <tr style=\"text-align: right;\">\n",
              "      <th></th>\n",
              "      <th>Name</th>\n",
              "      <th>Team</th>\n",
              "      <th>Position</th>\n",
              "      <th>Age</th>\n",
              "      <th>Height</th>\n",
              "      <th>Weight</th>\n",
              "      <th>College</th>\n",
              "      <th>Salary</th>\n",
              "    </tr>\n",
              "  </thead>\n",
              "  <tbody>\n",
              "    <tr>\n",
              "      <th>0</th>\n",
              "      <td>Avery Bradley</td>\n",
              "      <td>Boston Celtics</td>\n",
              "      <td>PG</td>\n",
              "      <td>25.0</td>\n",
              "      <td>6-2</td>\n",
              "      <td>180.0</td>\n",
              "      <td>Texas</td>\n",
              "      <td>7730337.0</td>\n",
              "    </tr>\n",
              "    <tr>\n",
              "      <th>1</th>\n",
              "      <td>Jae Crowder</td>\n",
              "      <td>Boston Celtics</td>\n",
              "      <td>SF</td>\n",
              "      <td>25.0</td>\n",
              "      <td>6-6</td>\n",
              "      <td>235.0</td>\n",
              "      <td>Marquette</td>\n",
              "      <td>6796117.0</td>\n",
              "    </tr>\n",
              "    <tr>\n",
              "      <th>2</th>\n",
              "      <td>R.J. Hunter</td>\n",
              "      <td>Boston Celtics</td>\n",
              "      <td>SG</td>\n",
              "      <td>22.0</td>\n",
              "      <td>6-5</td>\n",
              "      <td>185.0</td>\n",
              "      <td>Georgia State</td>\n",
              "      <td>1148640.0</td>\n",
              "    </tr>\n",
              "    <tr>\n",
              "      <th>3</th>\n",
              "      <td>Jonas Jerebko</td>\n",
              "      <td>Boston Celtics</td>\n",
              "      <td>PF</td>\n",
              "      <td>29.0</td>\n",
              "      <td>6-10</td>\n",
              "      <td>231.0</td>\n",
              "      <td>NaN</td>\n",
              "      <td>5000000.0</td>\n",
              "    </tr>\n",
              "    <tr>\n",
              "      <th>4</th>\n",
              "      <td>Amir Johnson</td>\n",
              "      <td>Boston Celtics</td>\n",
              "      <td>PF</td>\n",
              "      <td>29.0</td>\n",
              "      <td>6-9</td>\n",
              "      <td>240.0</td>\n",
              "      <td>NaN</td>\n",
              "      <td>12000000.0</td>\n",
              "    </tr>\n",
              "  </tbody>\n",
              "</table>\n",
              "</div>"
            ],
            "text/plain": [
              "            Name            Team Position  ...  Weight        College      Salary\n",
              "0  Avery Bradley  Boston Celtics       PG  ...   180.0          Texas   7730337.0\n",
              "1    Jae Crowder  Boston Celtics       SF  ...   235.0      Marquette   6796117.0\n",
              "2    R.J. Hunter  Boston Celtics       SG  ...   185.0  Georgia State   1148640.0\n",
              "3  Jonas Jerebko  Boston Celtics       PF  ...   231.0            NaN   5000000.0\n",
              "4   Amir Johnson  Boston Celtics       PF  ...   240.0            NaN  12000000.0\n",
              "\n",
              "[5 rows x 8 columns]"
            ]
          },
          "metadata": {
            "tags": []
          },
          "execution_count": 89
        }
      ]
    },
    {
      "cell_type": "markdown",
      "metadata": {
        "id": "wG3QNNyc3iFw",
        "colab_type": "text"
      },
      "source": [
        "Hacer doble click <b>aquí</b> para ver la solución:\n",
        "\n",
        "<!-- Respuesta:\n",
        "#Búsqueda de valores nulos\n",
        "dfNBA.isnull().sum()\n",
        "\n",
        "#Eliminando valores nulos\n",
        "dfNBA.dropna(subset=['Salary'], inplace=True)\n",
        "dfNBA.reset_index(drop=True, inplace=True)\n",
        "\n",
        "#Eliminado columna Number\n",
        "dfNBA.drop('Number', axis=1, inplace=True)\n",
        "--->"
      ]
    },
    {
      "cell_type": "markdown",
      "metadata": {
        "id": "azrGtFTUpUiN",
        "colab_type": "text"
      },
      "source": [
        "##Pregunta 3\n",
        "\n",
        "Convertir la estatura de pies-pulgadas a centímetros.\n",
        "\n",
        "1 pie=30.48cm\n",
        "1 pulgada=2.54"
      ]
    },
    {
      "cell_type": "markdown",
      "metadata": {
        "id": "RzMGKYKv3_O4",
        "colab_type": "text"
      },
      "source": [
        "Hacer doble click <b>aquí</b> para ver la solución:\n",
        "\n",
        "<!-- Respuesta:\n",
        "#funcion para convertir de pies-pulgadas a centímetros\n",
        "def conversion(a):\n",
        "  pie,pulg=a.split(\"-\")\n",
        "  cms=int(pie)*30.48+int(pulg)*2.54\n",
        "  return cms\n",
        "\n",
        "#Convirtiendo la columna Height \n",
        "dfNBA['Height']=dfNBA['Height'].apply(conversion)\n",
        "--->"
      ]
    },
    {
      "cell_type": "code",
      "metadata": {
        "id": "drS0tDpdYwpA",
        "colab_type": "code",
        "colab": {}
      },
      "source": [
        "nba['Height'] = nba['Height'].apply(lambda x : ((int(x.split('-')[0])*30.48)+(int(x.split('-')[1])*2.54))/100)"
      ],
      "execution_count": 0,
      "outputs": []
    },
    {
      "cell_type": "code",
      "metadata": {
        "id": "riohvan1a3LU",
        "colab_type": "code",
        "outputId": "d6f502cb-984c-469d-ef94-9d48585670a0",
        "colab": {
          "base_uri": "https://localhost:8080/",
          "height": 197
        }
      },
      "source": [
        "nba.head()"
      ],
      "execution_count": 0,
      "outputs": [
        {
          "output_type": "execute_result",
          "data": {
            "text/html": [
              "<div>\n",
              "<style scoped>\n",
              "    .dataframe tbody tr th:only-of-type {\n",
              "        vertical-align: middle;\n",
              "    }\n",
              "\n",
              "    .dataframe tbody tr th {\n",
              "        vertical-align: top;\n",
              "    }\n",
              "\n",
              "    .dataframe thead th {\n",
              "        text-align: right;\n",
              "    }\n",
              "</style>\n",
              "<table border=\"1\" class=\"dataframe\">\n",
              "  <thead>\n",
              "    <tr style=\"text-align: right;\">\n",
              "      <th></th>\n",
              "      <th>Name</th>\n",
              "      <th>Team</th>\n",
              "      <th>Position</th>\n",
              "      <th>Age</th>\n",
              "      <th>Height</th>\n",
              "      <th>Weight</th>\n",
              "      <th>College</th>\n",
              "      <th>Salary</th>\n",
              "    </tr>\n",
              "  </thead>\n",
              "  <tbody>\n",
              "    <tr>\n",
              "      <th>0</th>\n",
              "      <td>Avery Bradley</td>\n",
              "      <td>Boston Celtics</td>\n",
              "      <td>PG</td>\n",
              "      <td>25.0</td>\n",
              "      <td>1.8796</td>\n",
              "      <td>180.0</td>\n",
              "      <td>Texas</td>\n",
              "      <td>7730337.0</td>\n",
              "    </tr>\n",
              "    <tr>\n",
              "      <th>1</th>\n",
              "      <td>Jae Crowder</td>\n",
              "      <td>Boston Celtics</td>\n",
              "      <td>SF</td>\n",
              "      <td>25.0</td>\n",
              "      <td>1.9812</td>\n",
              "      <td>235.0</td>\n",
              "      <td>Marquette</td>\n",
              "      <td>6796117.0</td>\n",
              "    </tr>\n",
              "    <tr>\n",
              "      <th>2</th>\n",
              "      <td>R.J. Hunter</td>\n",
              "      <td>Boston Celtics</td>\n",
              "      <td>SG</td>\n",
              "      <td>22.0</td>\n",
              "      <td>1.9558</td>\n",
              "      <td>185.0</td>\n",
              "      <td>Georgia State</td>\n",
              "      <td>1148640.0</td>\n",
              "    </tr>\n",
              "    <tr>\n",
              "      <th>3</th>\n",
              "      <td>Jonas Jerebko</td>\n",
              "      <td>Boston Celtics</td>\n",
              "      <td>PF</td>\n",
              "      <td>29.0</td>\n",
              "      <td>2.0828</td>\n",
              "      <td>231.0</td>\n",
              "      <td>NaN</td>\n",
              "      <td>5000000.0</td>\n",
              "    </tr>\n",
              "    <tr>\n",
              "      <th>4</th>\n",
              "      <td>Amir Johnson</td>\n",
              "      <td>Boston Celtics</td>\n",
              "      <td>PF</td>\n",
              "      <td>29.0</td>\n",
              "      <td>2.0574</td>\n",
              "      <td>240.0</td>\n",
              "      <td>NaN</td>\n",
              "      <td>12000000.0</td>\n",
              "    </tr>\n",
              "  </tbody>\n",
              "</table>\n",
              "</div>"
            ],
            "text/plain": [
              "            Name            Team Position  ...  Weight        College      Salary\n",
              "0  Avery Bradley  Boston Celtics       PG  ...   180.0          Texas   7730337.0\n",
              "1    Jae Crowder  Boston Celtics       SF  ...   235.0      Marquette   6796117.0\n",
              "2    R.J. Hunter  Boston Celtics       SG  ...   185.0  Georgia State   1148640.0\n",
              "3  Jonas Jerebko  Boston Celtics       PF  ...   231.0            NaN   5000000.0\n",
              "4   Amir Johnson  Boston Celtics       PF  ...   240.0            NaN  12000000.0\n",
              "\n",
              "[5 rows x 8 columns]"
            ]
          },
          "metadata": {
            "tags": []
          },
          "execution_count": 98
        }
      ]
    },
    {
      "cell_type": "markdown",
      "metadata": {
        "id": "ZyRaLjPPxJuh",
        "colab_type": "text"
      },
      "source": [
        "## Pregunta 4\n",
        "\n",
        "Construir un histograma con las cinco universidades con mas jugadores en la NBA"
      ]
    },
    {
      "cell_type": "code",
      "metadata": {
        "id": "kZnxpzPbbxyv",
        "colab_type": "code",
        "colab": {}
      },
      "source": [
        "\n",
        "\n",
        "# Agrupamiento de los resultados\n",
        "nbaGroup=nba.groupby('College').Name.count().nlargest(n=5)\n"
      ],
      "execution_count": 0,
      "outputs": []
    },
    {
      "cell_type": "code",
      "metadata": {
        "id": "08vIQunfilWq",
        "colab_type": "code",
        "outputId": "1c5cb6ff-517f-4bc0-b7e2-af6f3617e99a",
        "colab": {
          "base_uri": "https://localhost:8080/",
          "height": 33
        }
      },
      "source": [
        "nbaGroup."
      ],
      "execution_count": 0,
      "outputs": [
        {
          "output_type": "execute_result",
          "data": {
            "text/plain": [
              "dtype('int64')"
            ]
          },
          "metadata": {
            "tags": []
          },
          "execution_count": 149
        }
      ]
    },
    {
      "cell_type": "markdown",
      "metadata": {
        "id": "T70VjjHJ4fKA",
        "colab_type": "text"
      },
      "source": [
        "\n",
        "\n",
        "```\n",
        "# Esto tiene formato de código\n",
        "```\n",
        "\n",
        "Hacer doble click <b>aquí</b> para ver la solución:\n",
        "\n",
        "<!-- Respuesta:\n",
        "\n",
        "dfNBA['College'].value_counts().head().plot(kind='bar')\n",
        "\n",
        "--->\n"
      ]
    },
    {
      "cell_type": "markdown",
      "metadata": {
        "id": "IEWq10vZf-HQ",
        "colab_type": "text"
      },
      "source": [
        "## Pregunta 5\n",
        "\n",
        "Construir un boxplot en el que se muestre los salarios vs las posiciones de los jugadores. Esto permite entender si los salarios varian significativamente dependiendo de la posición.\n",
        "\n",
        "Las posibles posiciones son\n",
        "\n",
        "* PG: point guard\n",
        "* SG:shooting guard \n",
        "* SF: small forward \n",
        "* PF: power forward \n",
        "* C: center"
      ]
    },
    {
      "cell_type": "markdown",
      "metadata": {
        "id": "d1Ld4Hiu4vqY",
        "colab_type": "text"
      },
      "source": [
        "Hacer doble click <b>aquí</b> para ver la solución:\n",
        "\n",
        "<!-- Respuesta:\n",
        "\n",
        "import seaborn as sns\n",
        "import matplotlib.pyplot as plt\n",
        "plt.figure(figsize=(4.5, 4.5))\n",
        "sns.boxplot(x=\"Position\",y=\"Salary\", data=dfNBA)\n",
        "\n",
        "--->"
      ]
    },
    {
      "cell_type": "markdown",
      "metadata": {
        "id": "UVIXoZM6jOrZ",
        "colab_type": "text"
      },
      "source": [
        "## Pregunta 6\n",
        "\n",
        "Obtener los cinco equipos que pagan los salarios mas altos (sumando toda la nómina de sus jugadores)"
      ]
    },
    {
      "cell_type": "markdown",
      "metadata": {
        "id": "frH-rgXs44kj",
        "colab_type": "text"
      },
      "source": [
        "Hacer doble click <b>aquí</b> para ver la solución:\n",
        "\n",
        "<!-- Respuesta:\n",
        "\n",
        "dfNBA.groupby(by='Team').Salary.sum().sort_values(ascending=False).head()\n",
        "\n",
        "--->"
      ]
    },
    {
      "cell_type": "markdown",
      "metadata": {
        "id": "65a3Muwvj0OL",
        "colab_type": "text"
      },
      "source": [
        "## Pregunta 7\n",
        "\n",
        "Construir una tabla pivot que muestre el salario promedio de los jugadores por equipo y posición para para los cinco equipos que pagan mejores salarios. Construir una representación visual de la información anterior usando heatmap. "
      ]
    },
    {
      "cell_type": "markdown",
      "metadata": {
        "id": "Sf1DoMLJ4_8g",
        "colab_type": "text"
      },
      "source": [
        "Hacer doble click <b>aquí</b> para ver la solución:\n",
        "\n",
        "<!-- Respuesta:\n",
        "\n",
        "#Lista de los 5 equipos que pagan mayores salarios\n",
        "topTeams=list(dfNBA.groupby(by='Team').Salary.sum().sort_values(ascending=False).head().index)\n",
        "\n",
        "#Seleción del dataset de los 5 equipos que pagan mayores salarios\n",
        "dfTop=dfNBA[dfNBA['Team'].isin(topTeams)]\n",
        "\n",
        "#Construcción de tabla pivot \n",
        "pivotNBA=dfTop.pivot_table('Salary', index='Position',columns='Team')\n",
        "\n",
        "#Construcción heatmap\n",
        "fig, ax = plt.subplots()\n",
        "im = ax.pcolor(pivotNBA, cmap='gist_rainbow')\n",
        "\n",
        "#label names\n",
        "row_labels = pivotNBA.columns\n",
        "col_labels = pivotNBA.index\n",
        "\n",
        "#move ticks and labels to the center\n",
        "ax.set_xticks(np.arange(pivotNBA.shape[1]) + 0.5, minor=False)\n",
        "ax.set_yticks(np.arange(pivotNBA.shape[0]) + 0.5, minor=False)\n",
        "\n",
        "#insert labels\n",
        "ax.set_xticklabels(row_labels, minor=False)\n",
        "ax.set_yticklabels(col_labels, minor=False)\n",
        "\n",
        "#rotate label if too long\n",
        "plt.xticks(rotation=90)\n",
        "\n",
        "fig.colorbar(im)\n",
        "plt.show()\n",
        "--->"
      ]
    },
    {
      "cell_type": "markdown",
      "metadata": {
        "id": "Jh1GqrMWzBRP",
        "colab_type": "text"
      },
      "source": [
        "## Pregunta 8\n",
        "\n",
        "Utilizar el método `scatter_matrix` para visualizar si existe algún tipo de correlación entre las variables numérocas del dataset"
      ]
    },
    {
      "cell_type": "markdown",
      "metadata": {
        "id": "LUy4XWUw5lnJ",
        "colab_type": "text"
      },
      "source": [
        "Hacer doble click <b>aquí</b> para ver la solución:\n",
        "\n",
        "<!-- Respuesta:\n",
        "\n",
        "from pandas.plotting import scatter_matrix\n",
        "\n",
        "scatter_matrix(dfNBA, figsize=(12, 8))\n",
        "plt.show()\n",
        "\n",
        "--->"
      ]
    },
    {
      "cell_type": "markdown",
      "metadata": {
        "id": "1VKZLx8FytQW",
        "colab_type": "text"
      },
      "source": [
        "## Pregunta 9\n",
        "\n",
        "Corroborar los resultados anteriores calculando los coeficientes de correlación de Pearson para las variables numéricas del dataset"
      ]
    },
    {
      "cell_type": "markdown",
      "metadata": {
        "id": "yeZBF82q5qjF",
        "colab_type": "text"
      },
      "source": [
        "Hacer doble click <b>aquí</b> para ver la solución:\n",
        "\n",
        "<!-- Respuesta:\n",
        "\n",
        "dfNBA.corr(method ='pearson') \n",
        "\n",
        "--->"
      ]
    },
    {
      "cell_type": "markdown",
      "metadata": {
        "id": "HVIKei4vznxu",
        "colab_type": "text"
      },
      "source": [
        "## Pregunta 10\n",
        "\n",
        "Usar el método `pairplot` para evaluar visualizar si existe dependencia entre algunas de las variables numéricas y la posición de los jugadores."
      ]
    },
    {
      "cell_type": "markdown",
      "metadata": {
        "id": "7y4R2acU5xgq",
        "colab_type": "text"
      },
      "source": [
        "Hacer doble click <b>aquí</b> para ver la solución:\n",
        "\n",
        "<!-- Respuesta:\n",
        "\n",
        "sns.pairplot(dfNBA, hue = \"Position\")\n",
        "\n",
        "--->"
      ]
    }
  ]
}